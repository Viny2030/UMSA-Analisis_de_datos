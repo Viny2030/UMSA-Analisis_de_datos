{
  "nbformat": 4,
  "nbformat_minor": 0,
  "metadata": {
    "colab": {
      "provenance": []
    },
    "kernelspec": {
      "name": "python3",
      "display_name": "Python 3"
    },
    "language_info": {
      "name": "python"
    }
  },
  "cells": [
    {
      "cell_type": "markdown",
      "source": [
        "![umsa.png](data:image/png;base64,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)"
      ],
      "metadata": {
        "id": "VvH9Qi4V3uTF"
      }
    },
    {
      "cell_type": "markdown",
      "source": [
        " # **<font color=\"DarkBlue\">Operaciones de computación vectorizada</font>**"
      ],
      "metadata": {
        "id": "_o8tuKydjnRZ"
      }
    },
    {
      "cell_type": "markdown",
      "source": [
        "<p align=\"center\">\n",
        "<img src=\"https://numpy.org/images/logo.svg\" width=\"80\" height=\"\">\n",
        "</p>\n"
      ],
      "metadata": {
        "id": "XM-hn7ZLmgQc"
      }
    },
    {
      "cell_type": "markdown",
      "source": [
        "https://numpy.org"
      ],
      "metadata": {
        "id": "iw1xUwq1fpWm"
      }
    },
    {
      "cell_type": "code",
      "source": [
        "import numpy as np"
      ],
      "metadata": {
        "id": "dQtWrchXqRb3"
      },
      "execution_count": null,
      "outputs": []
    },
    {
      "cell_type": "markdown",
      "source": [
        " # **<font color=\"DarkBlue\">Operaciones aritméticas con matrices</font>**"
      ],
      "metadata": {
        "id": "m5KN7xI6s-OE"
      }
    },
    {
      "cell_type": "markdown",
      "source": [
        "<p align=\"justify\">\n",
        "📘 Las operaciones aritméticas con matrices incluyen la suma, la resta, la multiplicación por un escalar y la multiplicación de matrices. Estas operaciones se realizan siguiendo ciertas reglas y fórmulas matemáticas específicas."
      ],
      "metadata": {
        "id": "AszGCGtUtFl5"
      }
    },
    {
      "cell_type": "markdown",
      "source": [
        " ## **<font color=\"DarkBlue\">Suma de matrices</font>**"
      ],
      "metadata": {
        "id": "r7kR4eWnvn-T"
      }
    },
    {
      "cell_type": "markdown",
      "source": [
        "<p align=\"justify\">\n",
        "La suma de dos matrices $ A $ y $ B $ de igual tamaño $ m \\times n $ se define como una matriz $ C $ también de tamaño $ m \\times n $, donde cada elemento $ c_{ij} $ es la suma de los elementos correspondientes de $ A $ y $ B $:\n",
        "<br><br>\n",
        "\\[ C = A + B \\]\n",
        "<br><br>\n",
        "\\[ c_{ij} = a_{ij} + b_{ij} \\]\n"
      ],
      "metadata": {
        "id": "8PY0XrjjvwzS"
      }
    },
    {
      "cell_type": "markdown",
      "source": [
        "<p align=\"justify\">\n",
        "👀 Imaginemos que una empresa tiene matrices de ventas para diferentes productos del mes de enero y del mes de febrero. Queremos calcular los ventas totales."
      ],
      "metadata": {
        "id": "WY0F2PG5wcJM"
      }
    },
    {
      "cell_type": "code",
      "source": [
        "import numpy as np"
      ],
      "metadata": {
        "id": "J4bYKAETwXiA"
      },
      "execution_count": null,
      "outputs": []
    },
    {
      "cell_type": "code",
      "source": [
        "# Matriz de ventas de productos de enero\n",
        "ventas_enero = np.array([\n",
        "    [500, 400],\n",
        "    [600, 550]\n",
        "])"
      ],
      "metadata": {
        "id": "eMdTSAKrxF_r"
      },
      "execution_count": null,
      "outputs": []
    },
    {
      "cell_type": "code",
      "source": [
        "ventas_enero"
      ],
      "metadata": {
        "colab": {
          "base_uri": "https://localhost:8080/"
        },
        "id": "O-gOkcHVsNLI",
        "outputId": "7b0e77c2-9706-46ca-c395-be7f01a8e5b1"
      },
      "execution_count": null,
      "outputs": [
        {
          "output_type": "execute_result",
          "data": {
            "text/plain": [
              "array([[500, 400],\n",
              "       [600, 550]])"
            ]
          },
          "metadata": {},
          "execution_count": 4
        }
      ]
    },
    {
      "cell_type": "code",
      "source": [
        "# Matriz de ventas de productos de febrero\n",
        "ventas_febrero = np.array([\n",
        "    [400, 500],\n",
        "    [700, 850]\n",
        "])"
      ],
      "metadata": {
        "id": "jvtepFsWxbmz"
      },
      "execution_count": null,
      "outputs": []
    },
    {
      "cell_type": "code",
      "source": [
        "ventas_febrero"
      ],
      "metadata": {
        "colab": {
          "base_uri": "https://localhost:8080/"
        },
        "id": "LtQ4hlxfsQVH",
        "outputId": "bb276f4d-2d44-4e74-ed79-8036a5cb36b0"
      },
      "execution_count": null,
      "outputs": [
        {
          "output_type": "execute_result",
          "data": {
            "text/plain": [
              "array([[400, 500],\n",
              "       [700, 850]])"
            ]
          },
          "metadata": {},
          "execution_count": 6
        }
      ]
    },
    {
      "cell_type": "code",
      "source": [
        "# Suma de matrices (Ventas de enero + febrero)\n",
        "total = ventas_enero + ventas_febrero\n",
        "print(\"Suma de matrices (Ventas de enero + febrero):\")\n",
        "print(total)"
      ],
      "metadata": {
        "colab": {
          "base_uri": "https://localhost:8080/"
        },
        "id": "BWhwS-5ww4f8",
        "outputId": "39a70d54-4e90-4764-b56d-60893454b6f2"
      },
      "execution_count": null,
      "outputs": [
        {
          "output_type": "stream",
          "name": "stdout",
          "text": [
            "Suma de matrices (Ventas de enero + febrero):\n",
            "[[ 900  900]\n",
            " [1300 1400]]\n"
          ]
        }
      ]
    },
    {
      "cell_type": "markdown",
      "source": [
        " ## **<font color=\"DarkBlue\">Resta de matrices</font>**"
      ],
      "metadata": {
        "id": "B04Hy67FyKh8"
      }
    },
    {
      "cell_type": "markdown",
      "source": [
        "<p align=\"justify\">\n",
        "La resta de dos matrices $ A $ y $ B $ de igual tamaño $ m \\times n $ se define como una matriz $ C $ también de tamaño $ m \\times n $, donde cada elemento $ c_{ij} $ es la resta de los elementos correspondientes de $ A $ y $ B $:\n",
        "<br><br>\n",
        "\\[ C = A - B \\]\n",
        "<br><br>\n",
        "\\[ c_{ij} = a_{ij} - b_{ij} \\]\n"
      ],
      "metadata": {
        "id": "rxFpgnwqyPF2"
      }
    },
    {
      "cell_type": "markdown",
      "source": [
        "<p align=\"justify\">\n",
        "👀 Imaginemos que una empresa tiene matrices de costos de producción y ventas para diferentes productos. Queremos las diferencias entre costos y ventas."
      ],
      "metadata": {
        "id": "r-StFo7nynrS"
      }
    },
    {
      "cell_type": "code",
      "source": [
        "# Matriz de costos de productos\n",
        "costos = np.array([\n",
        "    [200, 150],\n",
        "    [300, 250]\n",
        "])"
      ],
      "metadata": {
        "id": "81iz_xQMzCfl"
      },
      "execution_count": null,
      "outputs": []
    },
    {
      "cell_type": "code",
      "source": [
        "# Matriz de ventas de productos\n",
        "ventas = np.array([\n",
        "    [800, 300],\n",
        "    [450, 550]\n",
        "])"
      ],
      "metadata": {
        "id": "NZnl1E06zfBO"
      },
      "execution_count": null,
      "outputs": []
    },
    {
      "cell_type": "code",
      "source": [
        "# Resta de matrices (ventas - costos)\n",
        "diferencia = ventas - costos\n",
        "print(\"Diferencia de matrices (Ventas - Costos):\")\n",
        "print(diferencia)"
      ],
      "metadata": {
        "colab": {
          "base_uri": "https://localhost:8080/"
        },
        "id": "S3GecNlfzEwL",
        "outputId": "8646e925-ef31-4592-fe90-75c41b159820"
      },
      "execution_count": null,
      "outputs": [
        {
          "output_type": "stream",
          "name": "stdout",
          "text": [
            "Diferencia de matrices (Ventas - Costos):\n",
            "[[600 150]\n",
            " [150 300]]\n"
          ]
        }
      ]
    },
    {
      "cell_type": "markdown",
      "source": [
        " ## **<font color=\"DarkBlue\">Multiplicación por un Escalar</font>**"
      ],
      "metadata": {
        "id": "eqokg3Auzmil"
      }
    },
    {
      "cell_type": "markdown",
      "source": [
        "<p align=\"justify\">\n",
        "La multiplicación de una matriz $ A $ de tamaño $ m \\times n $ por un escalar $ k $ se define como una matriz $ B $ del mismo tamaño, donde cada elemento $ b_{ij} $ es el producto del escalar $ k $ y el elemento correspondiente de $ A $:\n",
        "<br><br>\n",
        "\\[ B = k \\cdot A \\]\n",
        "<br><br>\n",
        "\\[ b_{ij} = k \\cdot a_{ij} \\]\n"
      ],
      "metadata": {
        "id": "KWpgGWFgzvIo"
      }
    },
    {
      "cell_type": "markdown",
      "source": [
        "<p align=\"justify\">\n",
        "👀 Supongamos que queremos calcular el costo total de producción si aumentamos todos los costos en un 10% debido a un aumento de precios."
      ],
      "metadata": {
        "id": "Kj6572V30LHR"
      }
    },
    {
      "cell_type": "code",
      "source": [
        "# Matriz de costos de producción\n",
        "costos = np.array([\n",
        "    [200, 150],\n",
        "    [300, 250]\n",
        "])"
      ],
      "metadata": {
        "id": "U6veKjlL0ZS-"
      },
      "execution_count": null,
      "outputs": []
    },
    {
      "cell_type": "code",
      "source": [
        "costos1 = np.array([\n",
        "    [\"null\", 150],\n",
        "    [300, 250]\n",
        "])"
      ],
      "metadata": {
        "id": "U2vSZ7bjtcnY"
      },
      "execution_count": null,
      "outputs": []
    },
    {
      "cell_type": "code",
      "source": [
        "# Escalar de aumento del 10%\n",
        "aumento = 1.10"
      ],
      "metadata": {
        "id": "A05H6yma0kI2"
      },
      "execution_count": null,
      "outputs": []
    },
    {
      "cell_type": "code",
      "source": [
        "# Multiplicación por el escalar (aumento de costos)\n",
        "costos_aumentados = aumento * costos\n",
        "print(\"Costos aumentados en un 10%:\")\n",
        "print(costos_aumentados)"
      ],
      "metadata": {
        "colab": {
          "base_uri": "https://localhost:8080/"
        },
        "id": "2Dh-RyGO0l8Z",
        "outputId": "9fb2c2af-804b-4365-b3d6-40089867427d"
      },
      "execution_count": null,
      "outputs": [
        {
          "output_type": "stream",
          "name": "stdout",
          "text": [
            "Costos aumentados en un 10%:\n",
            "[[220. 165.]\n",
            " [330. 275.]]\n"
          ]
        }
      ]
    },
    {
      "cell_type": "code",
      "source": [
        "# Multiplicación por el escalar (aumento de costos)\n",
        "costos_aumentados1 = aumento * costos1\n",
        "print(\"Costos aumentados en un 10%:\")\n",
        "print(costos_aumentados)"
      ],
      "metadata": {
        "colab": {
          "base_uri": "https://localhost:8080/",
          "height": 204
        },
        "id": "0WAho8Ogtfji",
        "outputId": "64e8ee91-762d-4a7d-ac2f-f2cb95d663c9"
      },
      "execution_count": null,
      "outputs": [
        {
          "output_type": "error",
          "ename": "UFuncTypeError",
          "evalue": "ufunc 'multiply' did not contain a loop with signature matching types (dtype('float64'), dtype('<U21')) -> None",
          "traceback": [
            "\u001b[0;31m---------------------------------------------------------------------------\u001b[0m",
            "\u001b[0;31mUFuncTypeError\u001b[0m                            Traceback (most recent call last)",
            "\u001b[0;32m<ipython-input-17-81ea32016b21>\u001b[0m in \u001b[0;36m<cell line: 2>\u001b[0;34m()\u001b[0m\n\u001b[1;32m      1\u001b[0m \u001b[0;31m# Multiplicación por el escalar (aumento de costos)\u001b[0m\u001b[0;34m\u001b[0m\u001b[0;34m\u001b[0m\u001b[0m\n\u001b[0;32m----> 2\u001b[0;31m \u001b[0mcostos_aumentados1\u001b[0m \u001b[0;34m=\u001b[0m \u001b[0maumento\u001b[0m \u001b[0;34m*\u001b[0m \u001b[0mcostos1\u001b[0m\u001b[0;34m\u001b[0m\u001b[0;34m\u001b[0m\u001b[0m\n\u001b[0m\u001b[1;32m      3\u001b[0m \u001b[0mprint\u001b[0m\u001b[0;34m(\u001b[0m\u001b[0;34m\"Costos aumentados en un 10%:\"\u001b[0m\u001b[0;34m)\u001b[0m\u001b[0;34m\u001b[0m\u001b[0;34m\u001b[0m\u001b[0m\n\u001b[1;32m      4\u001b[0m \u001b[0mprint\u001b[0m\u001b[0;34m(\u001b[0m\u001b[0mcostos_aumentados\u001b[0m\u001b[0;34m)\u001b[0m\u001b[0;34m\u001b[0m\u001b[0;34m\u001b[0m\u001b[0m\n",
            "\u001b[0;31mUFuncTypeError\u001b[0m: ufunc 'multiply' did not contain a loop with signature matching types (dtype('float64'), dtype('<U21')) -> None"
          ]
        }
      ]
    },
    {
      "cell_type": "markdown",
      "source": [
        " ## **<font color=\"DarkBlue\">Multiplicación de Matrices</font>**"
      ],
      "metadata": {
        "id": "eLKQuwzv05CW"
      }
    },
    {
      "cell_type": "markdown",
      "source": [
        "<p align=\"justify\">\n",
        "La multiplicación de dos matrices $ A $ y $ B $ se define cuando el número de columnas de $ A $ es igual al número de filas de $ B $. La matriz resultante $ C $ tendrá el tamaño correspondiente a las filas de $ A $ y las columnas de $ B $.\n",
        "<br><br>\n",
        "Cada elemento $ c_{ij} $ de $ C $ se calcula como la suma de los productos de los elementos correspondientes de la fila $ i $ de $ A $ y la columna $ j $ de $ B $:\n",
        "<br><br>\n",
        "\\[ C = A \\cdot B \\]\n",
        "<br><br>\n",
        "\\[ c_{ij} = \\sum_{k=1}^n a_{ik} \\cdot b_{kj} \\]\n"
      ],
      "metadata": {
        "id": "h3pgHa7l08LU"
      }
    },
    {
      "cell_type": "markdown",
      "source": [
        "<p align=\"justify\">\n",
        "👀 En un análisis de inversiones, queremos calcular los ingresos esperados multiplicando la matriz de precios de venta por la matriz de unidades vendidas."
      ],
      "metadata": {
        "id": "Wx6JWffe19Rs"
      }
    },
    {
      "cell_type": "code",
      "source": [
        "# Matriz de precios de venta por unidad en diferentes mercados\n",
        "precios = np.array([\n",
        "    [10, 15],\n",
        "    [20, 25]\n",
        "])"
      ],
      "metadata": {
        "id": "RML5RpDA2G3M"
      },
      "execution_count": null,
      "outputs": []
    },
    {
      "cell_type": "code",
      "source": [
        "# Matriz de unidades vendidas en diferentes mercados\n",
        "unidades_vendidas = np.array([\n",
        "    [100, 150],\n",
        "    [200, 250]\n",
        "])"
      ],
      "metadata": {
        "id": "f3LwBMMo3Sl7"
      },
      "execution_count": null,
      "outputs": []
    },
    {
      "cell_type": "code",
      "source": [
        "# Multiplicación de matrices (ingresos esperados)\n",
        "ingresos = np.dot(precios, unidades_vendidas)  ## metodo dot , coloco,con comas nombres de las matrices\n",
        "print(\"Ingresos esperados (Multiplicación de matrices):\")\n",
        "print(ingresos)"
      ],
      "metadata": {
        "colab": {
          "base_uri": "https://localhost:8080/"
        },
        "id": "0sl-yanD3U2F",
        "outputId": "b98e9277-5a3f-4dc7-8516-8463c29be3aa"
      },
      "execution_count": null,
      "outputs": [
        {
          "output_type": "stream",
          "name": "stdout",
          "text": [
            "Ingresos esperados (Multiplicación de matrices):\n",
            "[[4000 5250]\n",
            " [7000 9250]]\n"
          ]
        }
      ]
    },
    {
      "cell_type": "markdown",
      "source": [
        " # **<font color=\"DarkBlue\">Operaciones de agregación y estadística descriptiva</font>**"
      ],
      "metadata": {
        "id": "S48LDQc4RQje"
      }
    },
    {
      "cell_type": "markdown",
      "source": [
        " ## **<font color=\"DarkBlue\">Suma Total</font>**"
      ],
      "metadata": {
        "id": "O0XOazSq5Cnj"
      }
    },
    {
      "cell_type": "markdown",
      "source": [
        "<p align=\"justify\">\n",
        "La suma total de todos los elementos de una matriz $ A $ se define como:\n",
        "<br><br>\n",
        "\\[ S = \\sum_{i=1}^{m} \\sum_{j=1}^{n} a_{ij} \\]\n",
        "<br>\n",
        "donde \\( m \\) es el número de filas y \\( n \\) es el número de columnas.\n"
      ],
      "metadata": {
        "id": "sQFAXawe5CJZ"
      }
    },
    {
      "cell_type": "markdown",
      "source": [
        "<p align=\"justify\">\n",
        "👀 Supongamos que una empresa tiene una matriz de costos de producción y desea calcular el costo total."
      ],
      "metadata": {
        "id": "Gz1GN5LU6zU_"
      }
    },
    {
      "cell_type": "code",
      "source": [
        "# Matriz de costos de producción\n",
        "costos = np.array([\n",
        "    [200, 150, 100],\n",
        "    [300, 250, 200]\n",
        "])"
      ],
      "metadata": {
        "id": "dOIhtZ--66OT"
      },
      "execution_count": null,
      "outputs": []
    },
    {
      "cell_type": "code",
      "source": [
        "np.sum(ventas)/6"
      ],
      "metadata": {
        "colab": {
          "base_uri": "https://localhost:8080/"
        },
        "id": "jVV6oaq3v5kU",
        "outputId": "284cae5e-be4f-47b1-99ef-4c7ddc08221f"
      },
      "execution_count": null,
      "outputs": [
        {
          "output_type": "execute_result",
          "data": {
            "text/plain": [
              "350.0"
            ]
          },
          "metadata": {},
          "execution_count": 25
        }
      ]
    },
    {
      "cell_type": "code",
      "source": [
        "# Suma total de los costos\n",
        "suma_total = np.sum(costos)\n",
        "print(\"Suma total de los costos de producción:\")\n",
        "print(suma_total)"
      ],
      "metadata": {
        "colab": {
          "base_uri": "https://localhost:8080/"
        },
        "id": "I7hCP-4O69QD",
        "outputId": "10bc7215-5752-4dd1-fae7-8aa1811de26e"
      },
      "execution_count": null,
      "outputs": [
        {
          "output_type": "stream",
          "name": "stdout",
          "text": [
            "Suma total de los costos de producción:\n",
            "1200\n"
          ]
        }
      ]
    },
    {
      "cell_type": "markdown",
      "source": [
        " ## **<font color=\"DarkBlue\">Promedio (Media Aritmética)</font>**"
      ],
      "metadata": {
        "id": "DTCSIWxj7WIc"
      }
    },
    {
      "cell_type": "markdown",
      "source": [
        "<p align=\"justify\">\n",
        "El promedio de todos los elementos de una matriz $ A $ se define como:\n",
        "<br><br>\n",
        "\\[ \\text{Media} = \\frac{S}{N} \\]\n",
        "<br><br>\n",
        "donde \\( S \\) es la suma total de los elementos y \\( N \\) es el número total de elementos en la matriz:\n",
        "<br><br>\n",
        "\\[ N = m \\cdot n \\]\n"
      ],
      "metadata": {
        "id": "8X650dlq7yD6"
      }
    },
    {
      "cell_type": "markdown",
      "source": [
        "<p align=\"justify\">\n",
        "👀 Imaginemos que queremos calcular el promedio de las ventas de diferentes productos en varias regiones."
      ],
      "metadata": {
        "id": "RG58wB2EENI_"
      }
    },
    {
      "cell_type": "code",
      "source": [
        "# Matriz de ventas por producto en diferentes regiones\n",
        "ventas = np.array([\n",
        "    [100, 150, 200],\n",
        "    [250, 300, 350]\n",
        "])"
      ],
      "metadata": {
        "id": "GARiSYEOEW7I"
      },
      "execution_count": null,
      "outputs": []
    },
    {
      "cell_type": "code",
      "source": [
        "np.sum(ventas)/6"
      ],
      "metadata": {
        "colab": {
          "base_uri": "https://localhost:8080/"
        },
        "id": "xNi319B9wAV0",
        "outputId": "ff120636-f4f3-4977-dcee-11d2d8f12935"
      },
      "execution_count": null,
      "outputs": [
        {
          "output_type": "execute_result",
          "data": {
            "text/plain": [
              "225.0"
            ]
          },
          "metadata": {},
          "execution_count": 28
        }
      ]
    },
    {
      "cell_type": "code",
      "source": [
        "ventas.mean()"
      ],
      "metadata": {
        "colab": {
          "base_uri": "https://localhost:8080/"
        },
        "id": "Fz6Kt0_xwIRN",
        "outputId": "28d285fe-4a9c-4114-fba8-6171e373c221"
      },
      "execution_count": null,
      "outputs": [
        {
          "output_type": "execute_result",
          "data": {
            "text/plain": [
              "225.0"
            ]
          },
          "metadata": {},
          "execution_count": 30
        }
      ]
    },
    {
      "cell_type": "code",
      "source": [
        "# Cálculo del promedio de ventas\n",
        "promedio_ventas = np.mean(ventas)\n",
        "print(\"Promedio de ventas:\")\n",
        "print(promedio_ventas)"
      ],
      "metadata": {
        "colab": {
          "base_uri": "https://localhost:8080/"
        },
        "id": "t27kxCJOEbhG",
        "outputId": "48e40f88-daa5-49f9-9234-552311479965"
      },
      "execution_count": null,
      "outputs": [
        {
          "output_type": "stream",
          "name": "stdout",
          "text": [
            "Promedio de ventas:\n",
            "225.0\n"
          ]
        }
      ]
    },
    {
      "cell_type": "markdown",
      "source": [
        " ## **<font color=\"DarkBlue\">Mínimo y Máximo</font>**"
      ],
      "metadata": {
        "id": "E-syaonNEkHE"
      }
    },
    {
      "cell_type": "markdown",
      "source": [
        "<p align=\"justify\">\n",
        "El valor mínimo y el valor máximo de una matriz $ A $ se definen como:\n",
        "<br><br>\n",
        "\n",
        "- $ \\text{Mínimo} = \\min_{i,j} (a_{ij}) $\n",
        "\n",
        "\n",
        "- $ \\text{Máximo} = \\max_{i,j} (a_{ij}) $\n"
      ],
      "metadata": {
        "id": "RwbuaNEdJiF0"
      }
    },
    {
      "cell_type": "markdown",
      "source": [
        "<p align=\"justify\">\n",
        "👀 Supongamos que estamos analizando una matriz de precios de productos y queremos encontrar el precio mínimo y máximo."
      ],
      "metadata": {
        "id": "WuyjA3OuKO8L"
      }
    },
    {
      "cell_type": "code",
      "source": [
        "# Matriz de precios de productos\n",
        "precios = np.array([\n",
        "    [10, 15, 20],\n",
        "    [25, 30, 35]\n",
        "])"
      ],
      "metadata": {
        "id": "66H-SGxSKG_N"
      },
      "execution_count": null,
      "outputs": []
    },
    {
      "cell_type": "code",
      "source": [
        "# Cálculo del mínimo y máximo\n",
        "precio_minimo = np.min(precios)\n",
        "precio_maximo = np.max(precios)"
      ],
      "metadata": {
        "id": "WEPz9r9rKduC"
      },
      "execution_count": null,
      "outputs": []
    },
    {
      "cell_type": "code",
      "source": [
        "print(\"Precio mínimo:\")\n",
        "print(precio_minimo)"
      ],
      "metadata": {
        "colab": {
          "base_uri": "https://localhost:8080/"
        },
        "id": "Rix3UOdpKgvl",
        "outputId": "7654826a-2136-424d-f5a4-52a52fd96202"
      },
      "execution_count": null,
      "outputs": [
        {
          "output_type": "stream",
          "name": "stdout",
          "text": [
            "Precio mínimo:\n",
            "10\n"
          ]
        }
      ]
    },
    {
      "cell_type": "code",
      "source": [
        "print(\"Precio máximo:\")\n",
        "print(precio_maximo)"
      ],
      "metadata": {
        "colab": {
          "base_uri": "https://localhost:8080/"
        },
        "id": "YF5l7jomKift",
        "outputId": "98b33339-8437-4de4-c7e3-3ad458e67ee1"
      },
      "execution_count": null,
      "outputs": [
        {
          "output_type": "stream",
          "name": "stdout",
          "text": [
            "Precio máximo:\n",
            "35\n"
          ]
        }
      ]
    },
    {
      "cell_type": "markdown",
      "source": [
        " ## **<font color=\"DarkBlue\">Desviación Estándar</font>**"
      ],
      "metadata": {
        "id": "W_PY963SKp7K"
      }
    },
    {
      "cell_type": "markdown",
      "source": [
        "<p align=\"justify\">\n",
        "La desviación estándar de una matriz $ A $ se define como:\n",
        "<br><br>\n",
        "\\[ \\sigma = \\sqrt{\\frac{\\sum_{i=1}^{m} \\sum_{j=1}^{n} (a_{ij} - \\text{Media})^2}{N}} \\]\n",
        "<br>\n",
        "donde \\( \\text{Media} \\) es el promedio de los elementos de la matriz.\n"
      ],
      "metadata": {
        "id": "suo3zN-VKzTS"
      }
    },
    {
      "cell_type": "markdown",
      "source": [
        "<p align=\"justify\">\n",
        "👀 En un análisis de datos, queremos calcular la desviación estándar de los ingresos de diferentes sucursales de una empresa."
      ],
      "metadata": {
        "id": "erDCeGglLDVM"
      }
    },
    {
      "cell_type": "code",
      "source": [
        "# Matriz de ingresos por sucursal\n",
        "ingresos = np.array([\n",
        "    [1000, 1500, 2000],\n",
        "    [2500, 3000, 3500]\n",
        "])"
      ],
      "metadata": {
        "id": "y9ZSmzzKLP0F"
      },
      "execution_count": null,
      "outputs": []
    },
    {
      "cell_type": "code",
      "source": [
        "# Cálculo de la desviación estándar\n",
        "desviacion_estandar = np.std(ingresos)\n",
        "print(\"Desviación estándar de los ingresos:\")\n",
        "print(desviacion_estandar)"
      ],
      "metadata": {
        "colab": {
          "base_uri": "https://localhost:8080/"
        },
        "id": "GaDPz6RiLaKz",
        "outputId": "89229e8e-5b6e-4759-ab0b-2f692ed5f3be"
      },
      "execution_count": null,
      "outputs": [
        {
          "output_type": "stream",
          "name": "stdout",
          "text": [
            "Desviación estándar de los ingresos:\n",
            "853.9125638299665\n"
          ]
        }
      ]
    },
    {
      "cell_type": "code",
      "source": [
        "import plotly.express as px"
      ],
      "metadata": {
        "id": "0kjjpEfMwvOi"
      },
      "execution_count": null,
      "outputs": []
    },
    {
      "cell_type": "code",
      "source": [
        "px.histogram(ingresos,nbins=10)"
      ],
      "metadata": {
        "colab": {
          "base_uri": "https://localhost:8080/",
          "height": 542
        },
        "id": "wwVpyLnpwnRK",
        "outputId": "7c838a4f-fe2d-4f8b-e796-def9f9ecb770"
      },
      "execution_count": null,
      "outputs": [
        {
          "output_type": "display_data",
          "data": {
            "text/html": [
              "<html>\n",
              "<head><meta charset=\"utf-8\" /></head>\n",
              "<body>\n",
              "    <div>            <script src=\"https://cdnjs.cloudflare.com/ajax/libs/mathjax/2.7.5/MathJax.js?config=TeX-AMS-MML_SVG\"></script><script type=\"text/javascript\">if (window.MathJax && window.MathJax.Hub && window.MathJax.Hub.Config) {window.MathJax.Hub.Config({SVG: {font: \"STIX-Web\"}});}</script>                <script type=\"text/javascript\">window.PlotlyConfig = {MathJaxConfig: 'local'};</script>\n",
              "        <script charset=\"utf-8\" src=\"https://cdn.plot.ly/plotly-2.35.2.min.js\"></script>                <div id=\"339ef7d9-c6c0-4659-b18b-58c1233f644a\" class=\"plotly-graph-div\" style=\"height:525px; width:100%;\"></div>            <script type=\"text/javascript\">                                    window.PLOTLYENV=window.PLOTLYENV || {};                                    if (document.getElementById(\"339ef7d9-c6c0-4659-b18b-58c1233f644a\")) {                    Plotly.newPlot(                        \"339ef7d9-c6c0-4659-b18b-58c1233f644a\",                        [{\"alignmentgroup\":\"True\",\"bingroup\":\"x\",\"hovertemplate\":\"variable=0\\u003cbr\\u003evalue=%{x}\\u003cbr\\u003ecount=%{y}\\u003cextra\\u003e\\u003c\\u002fextra\\u003e\",\"legendgroup\":\"0\",\"marker\":{\"color\":\"#636efa\",\"pattern\":{\"shape\":\"\"}},\"name\":\"0\",\"nbinsx\":10,\"offsetgroup\":\"0\",\"orientation\":\"v\",\"showlegend\":true,\"x\":[1000,2500],\"xaxis\":\"x\",\"yaxis\":\"y\",\"type\":\"histogram\"},{\"alignmentgroup\":\"True\",\"bingroup\":\"x\",\"hovertemplate\":\"variable=1\\u003cbr\\u003evalue=%{x}\\u003cbr\\u003ecount=%{y}\\u003cextra\\u003e\\u003c\\u002fextra\\u003e\",\"legendgroup\":\"1\",\"marker\":{\"color\":\"#EF553B\",\"pattern\":{\"shape\":\"\"}},\"name\":\"1\",\"nbinsx\":10,\"offsetgroup\":\"1\",\"orientation\":\"v\",\"showlegend\":true,\"x\":[1500,3000],\"xaxis\":\"x\",\"yaxis\":\"y\",\"type\":\"histogram\"},{\"alignmentgroup\":\"True\",\"bingroup\":\"x\",\"hovertemplate\":\"variable=2\\u003cbr\\u003evalue=%{x}\\u003cbr\\u003ecount=%{y}\\u003cextra\\u003e\\u003c\\u002fextra\\u003e\",\"legendgroup\":\"2\",\"marker\":{\"color\":\"#00cc96\",\"pattern\":{\"shape\":\"\"}},\"name\":\"2\",\"nbinsx\":10,\"offsetgroup\":\"2\",\"orientation\":\"v\",\"showlegend\":true,\"x\":[2000,3500],\"xaxis\":\"x\",\"yaxis\":\"y\",\"type\":\"histogram\"}],                        {\"template\":{\"data\":{\"histogram2dcontour\":[{\"type\":\"histogram2dcontour\",\"colorbar\":{\"outlinewidth\":0,\"ticks\":\"\"},\"colorscale\":[[0.0,\"#0d0887\"],[0.1111111111111111,\"#46039f\"],[0.2222222222222222,\"#7201a8\"],[0.3333333333333333,\"#9c179e\"],[0.4444444444444444,\"#bd3786\"],[0.5555555555555556,\"#d8576b\"],[0.6666666666666666,\"#ed7953\"],[0.7777777777777778,\"#fb9f3a\"],[0.8888888888888888,\"#fdca26\"],[1.0,\"#f0f921\"]]}],\"choropleth\":[{\"type\":\"choropleth\",\"colorbar\":{\"outlinewidth\":0,\"ticks\":\"\"}}],\"histogram2d\":[{\"type\":\"histogram2d\",\"colorbar\":{\"outlinewidth\":0,\"ticks\":\"\"},\"colorscale\":[[0.0,\"#0d0887\"],[0.1111111111111111,\"#46039f\"],[0.2222222222222222,\"#7201a8\"],[0.3333333333333333,\"#9c179e\"],[0.4444444444444444,\"#bd3786\"],[0.5555555555555556,\"#d8576b\"],[0.6666666666666666,\"#ed7953\"],[0.7777777777777778,\"#fb9f3a\"],[0.8888888888888888,\"#fdca26\"],[1.0,\"#f0f921\"]]}],\"heatmap\":[{\"type\":\"heatmap\",\"colorbar\":{\"outlinewidth\":0,\"ticks\":\"\"},\"colorscale\":[[0.0,\"#0d0887\"],[0.1111111111111111,\"#46039f\"],[0.2222222222222222,\"#7201a8\"],[0.3333333333333333,\"#9c179e\"],[0.4444444444444444,\"#bd3786\"],[0.5555555555555556,\"#d8576b\"],[0.6666666666666666,\"#ed7953\"],[0.7777777777777778,\"#fb9f3a\"],[0.8888888888888888,\"#fdca26\"],[1.0,\"#f0f921\"]]}],\"heatmapgl\":[{\"type\":\"heatmapgl\",\"colorbar\":{\"outlinewidth\":0,\"ticks\":\"\"},\"colorscale\":[[0.0,\"#0d0887\"],[0.1111111111111111,\"#46039f\"],[0.2222222222222222,\"#7201a8\"],[0.3333333333333333,\"#9c179e\"],[0.4444444444444444,\"#bd3786\"],[0.5555555555555556,\"#d8576b\"],[0.6666666666666666,\"#ed7953\"],[0.7777777777777778,\"#fb9f3a\"],[0.8888888888888888,\"#fdca26\"],[1.0,\"#f0f921\"]]}],\"contourcarpet\":[{\"type\":\"contourcarpet\",\"colorbar\":{\"outlinewidth\":0,\"ticks\":\"\"}}],\"contour\":[{\"type\":\"contour\",\"colorbar\":{\"outlinewidth\":0,\"ticks\":\"\"},\"colorscale\":[[0.0,\"#0d0887\"],[0.1111111111111111,\"#46039f\"],[0.2222222222222222,\"#7201a8\"],[0.3333333333333333,\"#9c179e\"],[0.4444444444444444,\"#bd3786\"],[0.5555555555555556,\"#d8576b\"],[0.6666666666666666,\"#ed7953\"],[0.7777777777777778,\"#fb9f3a\"],[0.8888888888888888,\"#fdca26\"],[1.0,\"#f0f921\"]]}],\"surface\":[{\"type\":\"surface\",\"colorbar\":{\"outlinewidth\":0,\"ticks\":\"\"},\"colorscale\":[[0.0,\"#0d0887\"],[0.1111111111111111,\"#46039f\"],[0.2222222222222222,\"#7201a8\"],[0.3333333333333333,\"#9c179e\"],[0.4444444444444444,\"#bd3786\"],[0.5555555555555556,\"#d8576b\"],[0.6666666666666666,\"#ed7953\"],[0.7777777777777778,\"#fb9f3a\"],[0.8888888888888888,\"#fdca26\"],[1.0,\"#f0f921\"]]}],\"mesh3d\":[{\"type\":\"mesh3d\",\"colorbar\":{\"outlinewidth\":0,\"ticks\":\"\"}}],\"scatter\":[{\"fillpattern\":{\"fillmode\":\"overlay\",\"size\":10,\"solidity\":0.2},\"type\":\"scatter\"}],\"parcoords\":[{\"type\":\"parcoords\",\"line\":{\"colorbar\":{\"outlinewidth\":0,\"ticks\":\"\"}}}],\"scatterpolargl\":[{\"type\":\"scatterpolargl\",\"marker\":{\"colorbar\":{\"outlinewidth\":0,\"ticks\":\"\"}}}],\"bar\":[{\"error_x\":{\"color\":\"#2a3f5f\"},\"error_y\":{\"color\":\"#2a3f5f\"},\"marker\":{\"line\":{\"color\":\"#E5ECF6\",\"width\":0.5},\"pattern\":{\"fillmode\":\"overlay\",\"size\":10,\"solidity\":0.2}},\"type\":\"bar\"}],\"scattergeo\":[{\"type\":\"scattergeo\",\"marker\":{\"colorbar\":{\"outlinewidth\":0,\"ticks\":\"\"}}}],\"scatterpolar\":[{\"type\":\"scatterpolar\",\"marker\":{\"colorbar\":{\"outlinewidth\":0,\"ticks\":\"\"}}}],\"histogram\":[{\"marker\":{\"pattern\":{\"fillmode\":\"overlay\",\"size\":10,\"solidity\":0.2}},\"type\":\"histogram\"}],\"scattergl\":[{\"type\":\"scattergl\",\"marker\":{\"colorbar\":{\"outlinewidth\":0,\"ticks\":\"\"}}}],\"scatter3d\":[{\"type\":\"scatter3d\",\"line\":{\"colorbar\":{\"outlinewidth\":0,\"ticks\":\"\"}},\"marker\":{\"colorbar\":{\"outlinewidth\":0,\"ticks\":\"\"}}}],\"scattermapbox\":[{\"type\":\"scattermapbox\",\"marker\":{\"colorbar\":{\"outlinewidth\":0,\"ticks\":\"\"}}}],\"scatterternary\":[{\"type\":\"scatterternary\",\"marker\":{\"colorbar\":{\"outlinewidth\":0,\"ticks\":\"\"}}}],\"scattercarpet\":[{\"type\":\"scattercarpet\",\"marker\":{\"colorbar\":{\"outlinewidth\":0,\"ticks\":\"\"}}}],\"carpet\":[{\"aaxis\":{\"endlinecolor\":\"#2a3f5f\",\"gridcolor\":\"white\",\"linecolor\":\"white\",\"minorgridcolor\":\"white\",\"startlinecolor\":\"#2a3f5f\"},\"baxis\":{\"endlinecolor\":\"#2a3f5f\",\"gridcolor\":\"white\",\"linecolor\":\"white\",\"minorgridcolor\":\"white\",\"startlinecolor\":\"#2a3f5f\"},\"type\":\"carpet\"}],\"table\":[{\"cells\":{\"fill\":{\"color\":\"#EBF0F8\"},\"line\":{\"color\":\"white\"}},\"header\":{\"fill\":{\"color\":\"#C8D4E3\"},\"line\":{\"color\":\"white\"}},\"type\":\"table\"}],\"barpolar\":[{\"marker\":{\"line\":{\"color\":\"#E5ECF6\",\"width\":0.5},\"pattern\":{\"fillmode\":\"overlay\",\"size\":10,\"solidity\":0.2}},\"type\":\"barpolar\"}],\"pie\":[{\"automargin\":true,\"type\":\"pie\"}]},\"layout\":{\"autotypenumbers\":\"strict\",\"colorway\":[\"#636efa\",\"#EF553B\",\"#00cc96\",\"#ab63fa\",\"#FFA15A\",\"#19d3f3\",\"#FF6692\",\"#B6E880\",\"#FF97FF\",\"#FECB52\"],\"font\":{\"color\":\"#2a3f5f\"},\"hovermode\":\"closest\",\"hoverlabel\":{\"align\":\"left\"},\"paper_bgcolor\":\"white\",\"plot_bgcolor\":\"#E5ECF6\",\"polar\":{\"bgcolor\":\"#E5ECF6\",\"angularaxis\":{\"gridcolor\":\"white\",\"linecolor\":\"white\",\"ticks\":\"\"},\"radialaxis\":{\"gridcolor\":\"white\",\"linecolor\":\"white\",\"ticks\":\"\"}},\"ternary\":{\"bgcolor\":\"#E5ECF6\",\"aaxis\":{\"gridcolor\":\"white\",\"linecolor\":\"white\",\"ticks\":\"\"},\"baxis\":{\"gridcolor\":\"white\",\"linecolor\":\"white\",\"ticks\":\"\"},\"caxis\":{\"gridcolor\":\"white\",\"linecolor\":\"white\",\"ticks\":\"\"}},\"coloraxis\":{\"colorbar\":{\"outlinewidth\":0,\"ticks\":\"\"}},\"colorscale\":{\"sequential\":[[0.0,\"#0d0887\"],[0.1111111111111111,\"#46039f\"],[0.2222222222222222,\"#7201a8\"],[0.3333333333333333,\"#9c179e\"],[0.4444444444444444,\"#bd3786\"],[0.5555555555555556,\"#d8576b\"],[0.6666666666666666,\"#ed7953\"],[0.7777777777777778,\"#fb9f3a\"],[0.8888888888888888,\"#fdca26\"],[1.0,\"#f0f921\"]],\"sequentialminus\":[[0.0,\"#0d0887\"],[0.1111111111111111,\"#46039f\"],[0.2222222222222222,\"#7201a8\"],[0.3333333333333333,\"#9c179e\"],[0.4444444444444444,\"#bd3786\"],[0.5555555555555556,\"#d8576b\"],[0.6666666666666666,\"#ed7953\"],[0.7777777777777778,\"#fb9f3a\"],[0.8888888888888888,\"#fdca26\"],[1.0,\"#f0f921\"]],\"diverging\":[[0,\"#8e0152\"],[0.1,\"#c51b7d\"],[0.2,\"#de77ae\"],[0.3,\"#f1b6da\"],[0.4,\"#fde0ef\"],[0.5,\"#f7f7f7\"],[0.6,\"#e6f5d0\"],[0.7,\"#b8e186\"],[0.8,\"#7fbc41\"],[0.9,\"#4d9221\"],[1,\"#276419\"]]},\"xaxis\":{\"gridcolor\":\"white\",\"linecolor\":\"white\",\"ticks\":\"\",\"title\":{\"standoff\":15},\"zerolinecolor\":\"white\",\"automargin\":true,\"zerolinewidth\":2},\"yaxis\":{\"gridcolor\":\"white\",\"linecolor\":\"white\",\"ticks\":\"\",\"title\":{\"standoff\":15},\"zerolinecolor\":\"white\",\"automargin\":true,\"zerolinewidth\":2},\"scene\":{\"xaxis\":{\"backgroundcolor\":\"#E5ECF6\",\"gridcolor\":\"white\",\"linecolor\":\"white\",\"showbackground\":true,\"ticks\":\"\",\"zerolinecolor\":\"white\",\"gridwidth\":2},\"yaxis\":{\"backgroundcolor\":\"#E5ECF6\",\"gridcolor\":\"white\",\"linecolor\":\"white\",\"showbackground\":true,\"ticks\":\"\",\"zerolinecolor\":\"white\",\"gridwidth\":2},\"zaxis\":{\"backgroundcolor\":\"#E5ECF6\",\"gridcolor\":\"white\",\"linecolor\":\"white\",\"showbackground\":true,\"ticks\":\"\",\"zerolinecolor\":\"white\",\"gridwidth\":2}},\"shapedefaults\":{\"line\":{\"color\":\"#2a3f5f\"}},\"annotationdefaults\":{\"arrowcolor\":\"#2a3f5f\",\"arrowhead\":0,\"arrowwidth\":1},\"geo\":{\"bgcolor\":\"white\",\"landcolor\":\"#E5ECF6\",\"subunitcolor\":\"white\",\"showland\":true,\"showlakes\":true,\"lakecolor\":\"white\"},\"title\":{\"x\":0.05},\"mapbox\":{\"style\":\"light\"}}},\"xaxis\":{\"anchor\":\"y\",\"domain\":[0.0,1.0],\"title\":{\"text\":\"value\"}},\"yaxis\":{\"anchor\":\"x\",\"domain\":[0.0,1.0],\"title\":{\"text\":\"count\"}},\"legend\":{\"title\":{\"text\":\"variable\"},\"tracegroupgap\":0},\"margin\":{\"t\":60},\"barmode\":\"relative\"},                        {\"responsive\": true}                    ).then(function(){\n",
              "                            \n",
              "var gd = document.getElementById('339ef7d9-c6c0-4659-b18b-58c1233f644a');\n",
              "var x = new MutationObserver(function (mutations, observer) {{\n",
              "        var display = window.getComputedStyle(gd).display;\n",
              "        if (!display || display === 'none') {{\n",
              "            console.log([gd, 'removed!']);\n",
              "            Plotly.purge(gd);\n",
              "            observer.disconnect();\n",
              "        }}\n",
              "}});\n",
              "\n",
              "// Listen for the removal of the full notebook cells\n",
              "var notebookContainer = gd.closest('#notebook-container');\n",
              "if (notebookContainer) {{\n",
              "    x.observe(notebookContainer, {childList: true});\n",
              "}}\n",
              "\n",
              "// Listen for the clearing of the current output cell\n",
              "var outputEl = gd.closest('.output');\n",
              "if (outputEl) {{\n",
              "    x.observe(outputEl, {childList: true});\n",
              "}}\n",
              "\n",
              "                        })                };                            </script>        </div>\n",
              "</body>\n",
              "</html>"
            ]
          },
          "metadata": {}
        }
      ]
    },
    {
      "cell_type": "markdown",
      "source": [
        " ## **<font color=\"DarkBlue\">Mediana</font>**"
      ],
      "metadata": {
        "id": "9Fx8eE6oLy-E"
      }
    },
    {
      "cell_type": "markdown",
      "source": [
        "<p align=\"justify\">\n",
        "La mediana de una matriz $ A $ es el valor que separa la mitad superior de la mitad inferior de los datos. Para calcular la mediana, primero se deben ordenar todos los elementos de la matriz. Si el número de elementos $ N $ es impar, la mediana es el valor del elemento central. Si $ N $ es par, la mediana es el promedio de los dos valores centrales:\n",
        "<br><br>\n",
        "$$\\text{Mediana} =\n",
        "\\begin{cases}\n",
        "\\text{Elemento}_{\\frac{N+1}{2}} & \\text{si } N \\text{ es impar} \\\\\n",
        "\\frac{\\text{Elemento}_{\\frac{N}{2}} + \\text{Elemento}_{\\frac{N}{2}+1}}{2} & \\text{si } N \\text{ es par}\n",
        "\\end{cases}\n",
        "$$\n"
      ],
      "metadata": {
        "id": "EXG7a52lL56E"
      }
    },
    {
      "cell_type": "markdown",
      "source": [
        "<p align=\"justify\">\n",
        "👀 Imaginemos que tenemos una matriz de ventas de diferentes productos en distintas regiones y queremos calcular la mediana de las ventas."
      ],
      "metadata": {
        "id": "ZdjTnUboMhPA"
      }
    },
    {
      "cell_type": "markdown",
      "source": [
        "##(1,2,3,4,5) mediana 3=====(1,2,3,4,5,6) 3+4/2 mediana"
      ],
      "metadata": {
        "id": "ux82cARdxGbd"
      }
    },
    {
      "cell_type": "code",
      "source": [
        "# Matriz de ventas por producto en diferentes regiones\n",
        "ventas = np.array([\n",
        "    [100, 150, 200],\n",
        "    [250, 300, 350]\n",
        "])"
      ],
      "metadata": {
        "id": "hZgP999zMe3t"
      },
      "execution_count": null,
      "outputs": []
    },
    {
      "cell_type": "code",
      "source": [
        "# Cálculo de la mediana\n",
        "mediana_ventas = np.median(ventas)\n",
        "print(\"Mediana de las ventas:\")\n",
        "print(mediana_ventas)"
      ],
      "metadata": {
        "colab": {
          "base_uri": "https://localhost:8080/"
        },
        "id": "fs-kLmPyM3PV",
        "outputId": "7569ef2e-d216-4058-e7e5-cc03acfd72c9"
      },
      "execution_count": null,
      "outputs": [
        {
          "output_type": "stream",
          "name": "stdout",
          "text": [
            "Mediana de las ventas:\n",
            "225.0\n"
          ]
        }
      ]
    },
    {
      "cell_type": "code",
      "source": [
        "(200+250)/2"
      ],
      "metadata": {
        "colab": {
          "base_uri": "https://localhost:8080/"
        },
        "id": "4PmEdv-axguw",
        "outputId": "194161f8-aee9-4765-df70-b8b381cb9706"
      },
      "execution_count": null,
      "outputs": [
        {
          "output_type": "execute_result",
          "data": {
            "text/plain": [
              "225.0"
            ]
          },
          "metadata": {},
          "execution_count": 46
        }
      ]
    },
    {
      "cell_type": "markdown",
      "source": [
        " ## **<font color=\"DarkBlue\">Normalización</font>**"
      ],
      "metadata": {
        "id": "3dm_VwoSNxxk"
      }
    },
    {
      "cell_type": "markdown",
      "source": [
        "<p align=\"justify\">\n",
        "La normalización es el proceso de ajustar los valores de una matriz para que se sitúen en un rango específico, típicamente $[0, 1]$. La normalización se puede definir como:\n",
        "<br><br>\n",
        "$$A_{\\text{norm}} = \\frac{A - \\text{min}(A)}{\\text{max}(A) - \\text{min}(A)} $$\n",
        "<br><br>\n",
        "donde $ A_{\\text{norm}} $ es la matriz normalizada.\n"
      ],
      "metadata": {
        "id": "oXcZBARaN5Ky"
      }
    },
    {
      "cell_type": "markdown",
      "source": [
        "<p align=\"justify\">\n",
        "👀 Supongamos que tenemos una matriz de ingresos por sucursal y queremos normalizar estos datos para compararlos de manera efectiva."
      ],
      "metadata": {
        "id": "xQ2fDY7NOd88"
      }
    },
    {
      "cell_type": "code",
      "source": [
        "# Matriz de ingresos por sucursal\n",
        "ingresos = np.array([\n",
        "    [1000, 1500, 2000],\n",
        "    [2500, 3000, 3500]\n",
        "])"
      ],
      "metadata": {
        "id": "U_ZYQGfwY0nw"
      },
      "execution_count": null,
      "outputs": []
    },
    {
      "cell_type": "code",
      "source": [
        "# Normalización de la matriz de ingresos\n",
        "ingresos_norm = (ingresos - np.min(ingresos)) / (np.max(ingresos) - np.min(ingresos))\n",
        "print(\"Matriz de ingresos normalizados:\")\n",
        "print(ingresos_norm)"
      ],
      "metadata": {
        "colab": {
          "base_uri": "https://localhost:8080/"
        },
        "id": "6BfdujoPY45u",
        "outputId": "242050a3-498e-4b8a-e257-48716c8ee599"
      },
      "execution_count": null,
      "outputs": [
        {
          "output_type": "stream",
          "name": "stdout",
          "text": [
            "Matriz de ingresos normalizados:\n",
            "[[0.  0.2 0.4]\n",
            " [0.6 0.8 1. ]]\n"
          ]
        }
      ]
    },
    {
      "cell_type": "markdown",
      "source": [],
      "metadata": {
        "id": "7PTsgYs_yBn1"
      }
    },
    {
      "cell_type": "code",
      "source": [
        "import scipy as sp"
      ],
      "metadata": {
        "id": "ot8W9M2jyCX0"
      },
      "execution_count": null,
      "outputs": []
    },
    {
      "cell_type": "code",
      "source": [
        "from scipy.sparse.linalg import norm"
      ],
      "metadata": {
        "id": "vQzNzCbkyu3a"
      },
      "execution_count": null,
      "outputs": []
    },
    {
      "cell_type": "code",
      "source": [
        "np.linalg.norm(ingresos)"
      ],
      "metadata": {
        "colab": {
          "base_uri": "https://localhost:8080/"
        },
        "id": "PI6TQ3TxyFxl",
        "outputId": "f9e64756-660a-4d41-d173-f0590ad6aae8"
      },
      "execution_count": null,
      "outputs": [
        {
          "output_type": "execute_result",
          "data": {
            "text/plain": [
              "5894.913061275798"
            ]
          },
          "metadata": {},
          "execution_count": 53
        }
      ]
    },
    {
      "cell_type": "code",
      "source": [
        "from sklearn.preprocessing import normalize"
      ],
      "metadata": {
        "id": "ekPRtGFDzajZ"
      },
      "execution_count": null,
      "outputs": []
    },
    {
      "cell_type": "code",
      "source": [
        "normalize(ingresos)"
      ],
      "metadata": {
        "colab": {
          "base_uri": "https://localhost:8080/"
        },
        "id": "MMIVW_cRzbiP",
        "outputId": "c1a2b3bb-54cc-485b-824a-7a8774bcfb71"
      },
      "execution_count": null,
      "outputs": [
        {
          "output_type": "execute_result",
          "data": {
            "text/plain": [
              "array([[0.37139068, 0.55708601, 0.74278135],\n",
              "       [0.47673129, 0.57207755, 0.66742381]])"
            ]
          },
          "metadata": {},
          "execution_count": 55
        }
      ]
    },
    {
      "cell_type": "markdown",
      "source": [
        " # **<font color=\"DarkBlue\">Operaciones de Comparación</font>**"
      ],
      "metadata": {
        "id": "BUj6G3l5b481"
      }
    },
    {
      "cell_type": "markdown",
      "source": [
        "<p align=\"justify\">\n",
        "Las operaciones de comparación permiten evaluar elementos de una matriz con respecto a condiciones específicas y obtener matrices booleanas como resultado. Estas operaciones son fundamentales para el análisis de datos y la toma de decisiones basada en criterios específicos.\n"
      ],
      "metadata": {
        "id": "VF4-_5d1b-_J"
      }
    },
    {
      "cell_type": "markdown",
      "source": [
        " ## **<font color=\"DarkBlue\">Igualdad</font>**"
      ],
      "metadata": {
        "id": "26X0mfrqcAAE"
      }
    },
    {
      "cell_type": "markdown",
      "source": [
        "<p align=\"justify\">\n",
        "La operación de igualdad compara cada elemento de una matriz $ A $ con un valor escalar $ k $ o con los elementos de otra matriz $ B $ del mismo tamaño y devuelve una matriz booleana $ C $, donde cada elemento $ c_{ij} $ es True si $ a_{ij} = k $ o $ a_{ij} = b_{ij} $, y False en caso contrario:\n",
        "<br><br>\n",
        "\\[ C = (A == k) \\quad \\text{o} \\quad C = (A == B) \\]\n"
      ],
      "metadata": {
        "id": "huzK4DgEdKC4"
      }
    },
    {
      "cell_type": "markdown",
      "source": [
        "<p align=\"justify\">\n",
        "👀 Supongamos que una empresa quiere identificar las sucursales que alcanzaron una venta específica."
      ],
      "metadata": {
        "id": "Rw3CGAXc29To"
      }
    },
    {
      "cell_type": "code",
      "source": [
        "# Matriz de ventas por sucursal\n",
        "ventas = np.array([\n",
        "    [1000, 2000, 3000],\n",
        "    [4000, 5000, 6000]\n",
        "])"
      ],
      "metadata": {
        "id": "xzCjfGEp21Xv"
      },
      "execution_count": null,
      "outputs": []
    },
    {
      "cell_type": "code",
      "source": [
        "# Valor específico de ventas a comparar\n",
        "meta_ventas = 3000"
      ],
      "metadata": {
        "id": "5YaXpte53JZ-"
      },
      "execution_count": null,
      "outputs": []
    },
    {
      "cell_type": "code",
      "source": [
        "# Comparación de igualdad\n",
        "igual_a_meta = (ventas == meta_ventas)\n",
        "print(\"Sucursales que alcanzaron la meta de ventas:\")\n",
        "print(igual_a_meta)"
      ],
      "metadata": {
        "colab": {
          "base_uri": "https://localhost:8080/"
        },
        "id": "8SM_NSG73LR_",
        "outputId": "e3d88f66-5755-4108-cb55-e6d7b9116ff7"
      },
      "execution_count": null,
      "outputs": [
        {
          "output_type": "stream",
          "name": "stdout",
          "text": [
            "Sucursales que alcanzaron la meta de ventas:\n",
            "[[False False  True]\n",
            " [False False False]]\n"
          ]
        }
      ]
    },
    {
      "cell_type": "markdown",
      "source": [
        " ## **<font color=\"DarkBlue\">Desigualdad</font>**"
      ],
      "metadata": {
        "id": "rUOu5ITXdKtQ"
      }
    },
    {
      "cell_type": "markdown",
      "source": [
        "<p align=\"justify\">\n",
        "La operación de desigualdad compara cada elemento de una matriz $ A $ con un valor escalar $ k $ o con los elementos de otra matriz $ B $ del mismo tamaño y devuelve una matriz booleana $ C $, donde cada elemento $ c_{ij} $ es True si $ a_{ij} \\neq k $ o $ a_{ij} \\neq b_{ij} $, y False en caso contrario:\n",
        "<br><br>\n",
        "\\[ C = (A \\neq k) \\quad \\text{o} \\quad C = (A \\neq B) \\]\n"
      ],
      "metadata": {
        "id": "Zf59KNmcdOBS"
      }
    },
    {
      "cell_type": "markdown",
      "source": [
        " ## **<font color=\"DarkBlue\">Mayor que</font>**"
      ],
      "metadata": {
        "id": "Gwa02maWdO1t"
      }
    },
    {
      "cell_type": "markdown",
      "source": [
        "<p align=\"justify\">\n",
        "La operación mayor que compara cada elemento de una matriz $ A $ con un valor escalar $ k $ o con los elementos de otra matriz $ B $ del mismo tamaño y devuelve una matriz booleana $ C $, donde cada elemento $ c_{ij} $ es True si $ a_{ij} > k $ o $ a_{ij} > b_{ij} $, y False en caso contrario:\n",
        "<br><br>\n",
        "\\[ C = (A > k) \\quad \\text{o} \\quad C = (A > B) \\]\n"
      ],
      "metadata": {
        "id": "laewn8QidclP"
      }
    },
    {
      "cell_type": "markdown",
      "source": [
        "<p align=\"justify\">\n",
        "👀 Imaginemos que queremos identificar las sucursales que tuvieron ventas superiores a un determinado valor."
      ],
      "metadata": {
        "id": "fjuLT66Y4bl0"
      }
    },
    {
      "cell_type": "code",
      "source": [
        "# Matriz de ventas por sucursal\n",
        "ventas = np.array([\n",
        "    [1000, 2000, 3000],\n",
        "    [4000, 5000, 6000]\n",
        "])"
      ],
      "metadata": {
        "id": "qFaxUlVy4cuu"
      },
      "execution_count": null,
      "outputs": []
    },
    {
      "cell_type": "code",
      "source": [
        "# Valor de comparación\n",
        "umbral_ventas = 3000"
      ],
      "metadata": {
        "id": "B-FfNC3M4r-l"
      },
      "execution_count": null,
      "outputs": []
    },
    {
      "cell_type": "code",
      "source": [
        "# Comparación mayor que\n",
        "mayor_que_umbral = (ventas > umbral_ventas)\n",
        "print(\"Sucursales con ventas superiores al umbral:\")\n",
        "print(mayor_que_umbral)"
      ],
      "metadata": {
        "colab": {
          "base_uri": "https://localhost:8080/"
        },
        "id": "-zrwECUU4trw",
        "outputId": "4ed3a0da-fdb2-45ac-f111-420826413157"
      },
      "execution_count": null,
      "outputs": [
        {
          "output_type": "stream",
          "name": "stdout",
          "text": [
            "Sucursales con ventas superiores al umbral:\n",
            "[[False False False]\n",
            " [ True  True  True]]\n"
          ]
        }
      ]
    },
    {
      "cell_type": "markdown",
      "source": [
        " ## **<font color=\"DarkBlue\">Mayor o igual que</font>**"
      ],
      "metadata": {
        "id": "NFQEd-guhY6Q"
      }
    },
    {
      "cell_type": "markdown",
      "source": [
        "<p align=\"justify\">\n",
        "La operación mayor o igual que compara cada elemento de una matriz $ A $ con un valor escalar $ k $ o con los elementos de otra matriz $ B $ del mismo tamaño y devuelve una matriz booleana $ C $, donde cada elemento $ c_{ij} $ es True si $ a_{ij} \\ge k $ o $ a_{ij} \\ge b_{ij} $, y False en caso contrario:\n",
        "<br><br>\n",
        "\\[ C = (A \\ge k) \\quad \\text{o} \\quad C = (A \\ge B) \\]\n"
      ],
      "metadata": {
        "id": "lbO7Nl3yhcJ5"
      }
    },
    {
      "cell_type": "markdown",
      "source": [
        "<p align=\"justify\">\n",
        "👀 Imaginemos que queremos identificar las sucursales que tuvieron ingresos mayores o iguales a un valor específico."
      ],
      "metadata": {
        "id": "aHZ1z6qv7ba4"
      }
    },
    {
      "cell_type": "code",
      "source": [
        "# Matriz de ingresos por sucursal\n",
        "ingresos = np.array([\n",
        "    [5000, 7000, 10000],\n",
        "    [11000, 13000, 15000]\n",
        "])"
      ],
      "metadata": {
        "id": "sgy41epZ7sdl"
      },
      "execution_count": null,
      "outputs": []
    },
    {
      "cell_type": "code",
      "source": [
        "# Valor de comparación\n",
        "umbral_ingresos = 10000"
      ],
      "metadata": {
        "id": "aX_ICHrI7zYe"
      },
      "execution_count": null,
      "outputs": []
    },
    {
      "cell_type": "code",
      "source": [
        "# Comparación mayor o igual que\n",
        "mayor_igual_umbral = (ingresos >= umbral_ingresos)\n",
        "print(\"Sucursales con ingresos mayores o iguales al umbral:\")\n",
        "print(mayor_igual_umbral)"
      ],
      "metadata": {
        "colab": {
          "base_uri": "https://localhost:8080/"
        },
        "id": "5SWTUAIl71Yw",
        "outputId": "2c3f4f96-54e3-47b2-c97d-0bba917941b5"
      },
      "execution_count": null,
      "outputs": [
        {
          "output_type": "stream",
          "name": "stdout",
          "text": [
            "Sucursales con ingresos mayores o iguales al umbral:\n",
            "[[False False  True]\n",
            " [ True  True  True]]\n"
          ]
        }
      ]
    },
    {
      "cell_type": "markdown",
      "source": [
        " ## **<font color=\"DarkBlue\">Menor que</font>**"
      ],
      "metadata": {
        "id": "7FEJbqTkddts"
      }
    },
    {
      "cell_type": "markdown",
      "source": [
        "<p align=\"justify\">\n",
        "La operación menor que compara cada elemento de una matriz $ A $ con un valor escalar $ k $ o con los elementos de otra matriz $ B $ del mismo tamaño y devuelve una matriz booleana $ C $, donde cada elemento $ c_{ij} $ es True si $ a_{ij} < k $ o $ a_{ij} < b_{ij} $, y False en caso contrario:\n",
        "<br><br>\n",
        "\\[ C = (A < k) \\quad \\text{o} \\quad C = (A < B) \\]\n"
      ],
      "metadata": {
        "id": "U1WhzhTedhZg"
      }
    },
    {
      "cell_type": "markdown",
      "source": [
        "<p align=\"justify\">\n",
        "👀 Supongamos que queremos identificar las sucursales que tuvieron costos menores que un determinado valor."
      ],
      "metadata": {
        "id": "6DOIN2gG8YIl"
      }
    },
    {
      "cell_type": "code",
      "source": [
        "# Matriz de costos por sucursal\n",
        "costos = np.array([\n",
        "    [800, 1600, 2400],\n",
        "    [3200, 4000, 4800]\n",
        "])"
      ],
      "metadata": {
        "id": "vs0lA8T68_py"
      },
      "execution_count": null,
      "outputs": []
    },
    {
      "cell_type": "code",
      "source": [
        "# Valor de comparación\n",
        "umbral_costos = 2500"
      ],
      "metadata": {
        "id": "P1ITBLYk9Fkg"
      },
      "execution_count": null,
      "outputs": []
    },
    {
      "cell_type": "code",
      "source": [
        "# Comparación menor que\n",
        "menor_que_umbral = (costos < umbral_costos)\n",
        "print(\"Sucursales con costos menores que el umbral:\")\n",
        "print(menor_que_umbral)"
      ],
      "metadata": {
        "colab": {
          "base_uri": "https://localhost:8080/"
        },
        "id": "2VA4euKc9HVi",
        "outputId": "d8769585-2cc7-469e-a3aa-e969b350f3e9"
      },
      "execution_count": null,
      "outputs": [
        {
          "output_type": "stream",
          "name": "stdout",
          "text": [
            "Sucursales con costos menores que el umbral:\n",
            "[[ True  True  True]\n",
            " [False False False]]\n"
          ]
        }
      ]
    },
    {
      "cell_type": "markdown",
      "source": [
        " ## **<font color=\"DarkBlue\">Menor o igual que</font>**"
      ],
      "metadata": {
        "id": "y_qkTwu_didx"
      }
    },
    {
      "cell_type": "markdown",
      "source": [
        "<p align=\"justify\">\n",
        "La operación menor o igual que compara cada elemento de una matriz $ A $ con un valor escalar $ k $ o con los elementos de otra matriz $ B $ del mismo tamaño y devuelve una matriz booleana $ C $, donde cada elemento $ c_{ij} $ es True si $ a_{ij} \\le k $ o $ a_{ij} \\le b_{ij} $, y False en caso contrario:\n",
        "<br><br>\n",
        "\\[ C = (A \\le k) \\quad \\text{o} \\quad C = (A \\le B) \\]\n"
      ],
      "metadata": {
        "id": "tZIc-TRphiUh"
      }
    },
    {
      "cell_type": "markdown",
      "source": [
        "<p align=\"justify\">\n",
        "👀 Supongamos que queremos identificar las sucursales que tuvieron gastos menores o iguales a un determinado valor."
      ],
      "metadata": {
        "id": "51TAZup99mFd"
      }
    },
    {
      "cell_type": "code",
      "source": [
        "# Matriz de gastos por sucursal\n",
        "gastos = np.array([\n",
        "    [1000, 2000, 3000],\n",
        "    [4500, 5000, 6000]\n",
        "])"
      ],
      "metadata": {
        "id": "6PpTp4d79zLt"
      },
      "execution_count": null,
      "outputs": []
    },
    {
      "cell_type": "code",
      "source": [
        "# Valor de comparación\n",
        "umbral_gastos = 4500"
      ],
      "metadata": {
        "id": "dVa3zh3j91PS"
      },
      "execution_count": null,
      "outputs": []
    },
    {
      "cell_type": "code",
      "source": [
        "# Comparación menor o igual que\n",
        "menor_igual_umbral = (gastos <= umbral_gastos)\n",
        "print(\"Sucursales con gastos menores o iguales al umbral:\")\n",
        "print(menor_igual_umbral)"
      ],
      "metadata": {
        "colab": {
          "base_uri": "https://localhost:8080/"
        },
        "id": "V0Lxryab93AE",
        "outputId": "12af50f9-59bd-4faa-c283-31ae85387d8e"
      },
      "execution_count": null,
      "outputs": [
        {
          "output_type": "stream",
          "name": "stdout",
          "text": [
            "Sucursales con gastos menores o iguales al umbral:\n",
            "[[ True  True  True]\n",
            " [ True False False]]\n"
          ]
        }
      ]
    },
    {
      "cell_type": "markdown",
      "source": [
        " # **<font color=\"DarkBlue\">Operaciones de Transformación de Datos</font>**"
      ],
      "metadata": {
        "id": "qrcZpqRPFWYd"
      }
    },
    {
      "cell_type": "markdown",
      "source": [
        "<p align=\"justify\">\n",
        "Las operaciones de transformación de datos permiten cambiar la estructura y forma de una matriz sin alterar sus datos. Estas operaciones son esenciales para preparar los datos para análisis y procesamiento.\n"
      ],
      "metadata": {
        "id": "iiNc0xpvFfxk"
      }
    },
    {
      "cell_type": "markdown",
      "source": [
        " ## **<font color=\"DarkBlue\">Reshape</font>**"
      ],
      "metadata": {
        "id": "PbD_Ml63Hc-G"
      }
    },
    {
      "cell_type": "markdown",
      "source": [
        "<p align=\"justify\">\n",
        "La operación <code>reshape</code> permite cambiar la forma de una matriz a una nueva forma especificada sin alterar los datos. La nueva forma debe tener el mismo número de elementos que la matriz original.\n",
        "<br><br>\n",
        "Si $ A $ es una matriz de dimensiones $ m \\times n $, se puede transformar en una matriz de dimensiones $ p \\times q $ siempre que $ m \\cdot n = p \\cdot q $\n"
      ],
      "metadata": {
        "id": "m5N2TbCyH_L0"
      }
    },
    {
      "cell_type": "markdown",
      "source": [
        "<p align=\"justify\">\n",
        "👀 Supongamos que tenemos una matriz que representa las ventas trimestrales de varios productos en diferentes regiones, y queremos transformar esta matriz para analizar las ventas por producto en todas las regiones y trimestres."
      ],
      "metadata": {
        "id": "DTX1cngnIRAr"
      }
    },
    {
      "cell_type": "code",
      "source": [
        "# Matriz de ventas trimestrales por producto y región\n",
        "ventas_trimestrales = np.array([\n",
        "    [100, 150, 200, 250],\n",
        "    [300, 350, 400, 450],\n",
        "    [500, 550, 600, 650]\n",
        "])"
      ],
      "metadata": {
        "id": "WTj7EpVzIRpt"
      },
      "execution_count": null,
      "outputs": []
    },
    {
      "cell_type": "code",
      "source": [
        "# Reshape para analizar ventas por  producto en el trimestre\n",
        "ventas_reshaped = ventas_trimestrales.reshape(6, 2)## metodo de redimensionalidad reshape\n",
        "print(\"Ventas trimestrales transformadas:\")\n",
        "print(ventas_reshaped)"
      ],
      "metadata": {
        "colab": {
          "base_uri": "https://localhost:8080/"
        },
        "id": "q-sIxRBs4Eo0",
        "outputId": "13c9e1ed-f694-484d-ceab-f45f74cb672c"
      },
      "execution_count": null,
      "outputs": [
        {
          "output_type": "stream",
          "name": "stdout",
          "text": [
            "Ventas trimestrales transformadas:\n",
            "[[100 150]\n",
            " [200 250]\n",
            " [300 350]\n",
            " [400 450]\n",
            " [500 550]\n",
            " [600 650]]\n"
          ]
        }
      ]
    },
    {
      "cell_type": "code",
      "source": [
        "# Reshape para analizar ventas por  producto en el trimestre\n",
        "ventas_reshaped = ventas_trimestrales.reshape(12, 1)## metodo de redimensionalidad reshape\n",
        "print(\"Ventas trimestrales transformadas:\")\n",
        "print(ventas_reshaped)"
      ],
      "metadata": {
        "colab": {
          "base_uri": "https://localhost:8080/"
        },
        "id": "l9RIphEMIkTH",
        "outputId": "68eae358-702c-4b74-8b5f-a326662fa1ea"
      },
      "execution_count": null,
      "outputs": [
        {
          "output_type": "stream",
          "name": "stdout",
          "text": [
            "Ventas trimestrales transformadas:\n",
            "[[100]\n",
            " [150]\n",
            " [200]\n",
            " [250]\n",
            " [300]\n",
            " [350]\n",
            " [400]\n",
            " [450]\n",
            " [500]\n",
            " [550]\n",
            " [600]\n",
            " [650]]\n"
          ]
        }
      ]
    },
    {
      "cell_type": "code",
      "source": [
        "# Reshape para analizar ventas por  producto en el trimestre\n",
        "ventas_reshaped = ventas_trimestrales.reshape(4, 3)## metodo de redimensionalidad reshape\n",
        "print(\"Ventas trimestrales transformadas:\")\n",
        "print(ventas_reshaped)"
      ],
      "metadata": {
        "colab": {
          "base_uri": "https://localhost:8080/"
        },
        "id": "vzviOJKr5Tn-",
        "outputId": "08d848ea-eed4-4750-9a22-f6ca719b454a"
      },
      "execution_count": null,
      "outputs": [
        {
          "output_type": "stream",
          "name": "stdout",
          "text": [
            "Ventas trimestrales transformadas:\n",
            "[[100 150 200]\n",
            " [250 300 350]\n",
            " [400 450 500]\n",
            " [550 600 650]]\n"
          ]
        }
      ]
    },
    {
      "cell_type": "code",
      "source": [
        "# Reshape para analizar ventas por  producto en el trimestre\n",
        "ventas_reshaped = ventas_trimestrales.reshape(1, 12)## metodo de redimensionalidad reshape\n",
        "print(\"Ventas trimestrales transformadas:\") ## ojo es una matriz de 1x12\n",
        "print(ventas_reshaped)"
      ],
      "metadata": {
        "colab": {
          "base_uri": "https://localhost:8080/"
        },
        "id": "xC6KXWrW5XOu",
        "outputId": "7279871f-9b00-4ceb-e573-e7dff8adfb1a"
      },
      "execution_count": null,
      "outputs": [
        {
          "output_type": "stream",
          "name": "stdout",
          "text": [
            "Ventas trimestrales transformadas:\n",
            "[[100 150 200 250 300 350 400 450 500 550 600 650]]\n"
          ]
        }
      ]
    },
    {
      "cell_type": "markdown",
      "source": [
        " ## **<font color=\"DarkBlue\">Flatten</font>**"
      ],
      "metadata": {
        "id": "omjMaRn2JDNn"
      }
    },
    {
      "cell_type": "markdown",
      "source": [
        "<p align=\"justify\">\n",
        "La operación <code>flatten</code> convierte una matriz multidimensional en un vector unidimensional, manteniendo el orden de los elementos."
      ],
      "metadata": {
        "id": "D1dmJHRtJGLK"
      }
    },
    {
      "cell_type": "markdown",
      "source": [
        "<p align=\"justify\">\n",
        "👀 Imaginemos que queremos convertir una matriz de ingresos mensuales por sucursal en un vector unidimensional para aplicar una función de análisis."
      ],
      "metadata": {
        "id": "b9WqY_cbJagO"
      }
    },
    {
      "cell_type": "code",
      "source": [
        "# Matriz de ingresos mensuales por sucursal\n",
        "ingresos_mensuales = np.array([\n",
        "    [1000, 1500, 2000],\n",
        "    [2500, 3000, 3500]\n",
        "])"
      ],
      "metadata": {
        "id": "CDJp5bRAJh-T"
      },
      "execution_count": null,
      "outputs": []
    },
    {
      "cell_type": "code",
      "source": [
        "ingresos.shape"
      ],
      "metadata": {
        "colab": {
          "base_uri": "https://localhost:8080/"
        },
        "id": "0gmh3IdU4uIh",
        "outputId": "4813b7fa-7011-432d-878c-6db7a735bb0c"
      },
      "execution_count": null,
      "outputs": [
        {
          "output_type": "execute_result",
          "data": {
            "text/plain": [
              "(2, 3)"
            ]
          },
          "metadata": {},
          "execution_count": 81
        }
      ]
    },
    {
      "cell_type": "code",
      "source": [
        "# Flatten para convertir a vector unidimensional\n",
        "ingresos_flattened = ingresos_mensuales.flatten()\n",
        "print(\"Ingresos mensuales a vector unidimensional:\")\n",
        "print(ingresos_flattened)  ## un solo elemento vector"
      ],
      "metadata": {
        "colab": {
          "base_uri": "https://localhost:8080/"
        },
        "id": "I-C280Z-JnpL",
        "outputId": "bcaf2f36-a210-4e03-aff7-6d23c8f0c960"
      },
      "execution_count": null,
      "outputs": [
        {
          "output_type": "stream",
          "name": "stdout",
          "text": [
            "Ingresos mensuales a vector unidimensional:\n",
            "[1000 1500 2000 2500 3000 3500]\n"
          ]
        }
      ]
    },
    {
      "cell_type": "markdown",
      "source": [
        "<br>\n",
        "<br>\n",
        "<p align=\"center\"><b>\n",
        "💗\n",
        "<font color=\"DarkBlue\">\n",
        "Hemos llegado al final de nuestro colab, a seguir codeando en NumPy...\n",
        "</font>\n",
        "</p>\n"
      ],
      "metadata": {
        "id": "rrDMEhW6Vq2a"
      }
    }
  ]
}
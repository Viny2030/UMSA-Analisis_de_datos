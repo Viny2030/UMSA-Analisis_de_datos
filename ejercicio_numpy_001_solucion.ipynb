{
  "nbformat": 4,
  "nbformat_minor": 0,
  "metadata": {
    "colab": {
      "provenance": [],
      "include_colab_link": true
    },
    "kernelspec": {
      "name": "python3",
      "display_name": "Python 3"
    },
    "language_info": {
      "name": "python"
    }
  },
  "cells": [
    {
      "cell_type": "markdown",
      "metadata": {
        "id": "view-in-github",
        "colab_type": "text"
      },
      "source": [
        "<a href=\"https://colab.research.google.com/github/Viny2030/UMSA-Analisis_de_datos/blob/main/ejercicio_numpy_001_solucion.ipynb\" target=\"_parent\"><img src=\"https://colab.research.google.com/assets/colab-badge.svg\" alt=\"Open In Colab\"/></a>"
      ]
    },
    {
      "cell_type": "markdown",
      "source": [
        "![umsa.png](data:image/png;base64,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)"
      ],
      "metadata": {
        "id": "hys4ct7EMeKh"
      }
    },
    {
      "cell_type": "markdown",
      "source": [
        " # **<font color=\"DarkBlue\">Mis primeros ejercicios con NumPy</font>**"
      ],
      "metadata": {
        "id": "_o8tuKydjnRZ"
      }
    },
    {
      "cell_type": "markdown",
      "source": [
        "<p align=\"center\">\n",
        "<img src=\"https://numpy.org/images/logo.svg\" width=\"80\" height=\"\">\n",
        "</p>\n"
      ],
      "metadata": {
        "id": "XM-hn7ZLmgQc"
      }
    },
    {
      "cell_type": "markdown",
      "source": [
        "https://numpy.org"
      ],
      "metadata": {
        "id": "iw1xUwq1fpWm"
      }
    },
    {
      "cell_type": "markdown",
      "source": [
        "<p align=\"justify\">\n",
        "✅ A continuación, se presentan algunos ejercicios prácticos:\n"
      ],
      "metadata": {
        "id": "u760XlUwsTml"
      }
    },
    {
      "cell_type": "markdown",
      "source": [
        " ## **<font color=\"DarkBlue\">Ejercicio 1: Creación de Arrays</font>**"
      ],
      "metadata": {
        "id": "eDYe-9qXsARX"
      }
    },
    {
      "cell_type": "markdown",
      "source": [
        "\n",
        "🏷 **a. Ejercicio 1: Creación de Arrays:**\n",
        "   1. Crea un array unidimensional con los números del 1 al 10.\n",
        "   1. Crea un array bidimensional de tamaño 3x3 con valores aleatorios entre 0 y 1.\n",
        "   1. Crea un array tridimensional de tamaño 2x2x2 con unos.\n"
      ],
      "metadata": {
        "id": "T5R9Xr1Psbn1"
      }
    },
    {
      "cell_type": "code",
      "source": [
        "# Crear un array unidimensional con los números del 1 al 10\n",
        "import numpy as np\n",
        "\n",
        "# 1. Crea un array unidimensional con los números del 1 al 10.\n",
        "array_unidimensional = np.arange(1, 11)\n",
        "print(\"Array unidimensional:\\n\", array_unidimensional)\n",
        "\n",
        "# 2. Crea un array bidimensional de tamaño 3x3 con valores aleatorios entre 0 y 1.\n",
        "array_bidimensional = np.random.rand(3, 3)\n",
        "print(\"\\nArray bidimensional:\\n\", array_bidimensional)\n",
        "\n",
        "# 3. Crea un array tridimensional de tamaño 2x2x2 con unos.\n",
        "array_tridimensional = np.ones((2, 2, 2))\n",
        "print(\"\\nArray tridimensional:\\n\", array_tridimensional)"
      ],
      "metadata": {
        "id": "TzThLAOMtbzz",
        "colab": {
          "base_uri": "https://localhost:8080/"
        },
        "outputId": "98cfa3ed-af24-4cee-ad81-e821237f6a13"
      },
      "execution_count": 1,
      "outputs": [
        {
          "output_type": "stream",
          "name": "stdout",
          "text": [
            "Array unidimensional:\n",
            " [ 1  2  3  4  5  6  7  8  9 10]\n",
            "\n",
            "Array bidimensional:\n",
            " [[0.33502617 0.84637325 0.28449548]\n",
            " [0.55955146 0.3976963  0.57652425]\n",
            " [0.79510421 0.00468948 0.23200313]]\n",
            "\n",
            "Array tridimensional:\n",
            " [[[1. 1.]\n",
            "  [1. 1.]]\n",
            "\n",
            " [[1. 1.]\n",
            "  [1. 1.]]]\n"
          ]
        }
      ]
    },
    {
      "cell_type": "code",
      "source": [
        "# Crear un array bidimensional de tamaño 3x3 con valores aleatorios entre 0 y 1\n",
        "import numpy as np\n",
        "\n",
        "# Crea un array bidimensional de tamaño 3x3 con valores aleatorios entre 0 y 1\n",
        "array_bidimensional = np.random.rand(3, 3)\n",
        "array_bidimensional"
      ],
      "metadata": {
        "id": "sLynFNT8uh_E",
        "colab": {
          "base_uri": "https://localhost:8080/"
        },
        "outputId": "d942b8d2-85ed-4fdd-bbb9-685e94b7f9dd"
      },
      "execution_count": 2,
      "outputs": [
        {
          "output_type": "execute_result",
          "data": {
            "text/plain": [
              "array([[0.05665557, 0.04601383, 0.63598847],\n",
              "       [0.09686369, 0.84439504, 0.93620186],\n",
              "       [0.83275262, 0.4438465 , 0.44167714]])"
            ]
          },
          "metadata": {},
          "execution_count": 2
        }
      ]
    },
    {
      "cell_type": "code",
      "source": [
        "# Crear un array tridimensional de tamaño 2x2x2 con unos\n",
        "import numpy as np\n",
        "\n",
        "# Crea un array tridimensional de tamaño 2x2x2 con unos.\n",
        "array_3d = np.ones((2, 2, 2))\n",
        "array_3d"
      ],
      "metadata": {
        "id": "R-FQII0Uuooe",
        "colab": {
          "base_uri": "https://localhost:8080/"
        },
        "outputId": "48a751a1-f3f7-4515-eea3-ece3fc617d43"
      },
      "execution_count": 3,
      "outputs": [
        {
          "output_type": "execute_result",
          "data": {
            "text/plain": [
              "array([[[1., 1.],\n",
              "        [1., 1.]],\n",
              "\n",
              "       [[1., 1.],\n",
              "        [1., 1.]]])"
            ]
          },
          "metadata": {},
          "execution_count": 3
        }
      ]
    },
    {
      "cell_type": "markdown",
      "source": [
        "<p align=\"justify\">\n",
        "<br>\n",
        "✅ A continuación, una solución sugerida:\n",
        "<br><br>\n"
      ],
      "metadata": {
        "id": "KQOwuslEtcfQ"
      }
    },
    {
      "cell_type": "markdown",
      "source": [
        "\n",
        "🏷 **a. Ejercicio 1: Creación de Arrays:**\n",
        "```python\n",
        "# Crear un array unidimensional con los números del 1 al 10\n",
        "arr_unidimensional = np.array([1, 2, 3, 4, 5, 6, 7, 8, 9, 10])\n",
        "\n",
        "# Crear un array bidimensional de tamaño 3x3 con valores aleatorios entre 0 y 1\n",
        "arr_bidimensional = np.random.random((3, 3))\n",
        "\n",
        "# Crear un array tridimensional de tamaño 2x2x2 con unos\n",
        "arr_tridimensional = np.ones((2, 2, 2))\n",
        "```\n"
      ],
      "metadata": {
        "id": "H7-yZhi9t1P9"
      }
    },
    {
      "cell_type": "markdown",
      "source": [
        " ## **<font color=\"DarkBlue\">Ejercicio 2: Indexación y Slicing</font>**"
      ],
      "metadata": {
        "id": "sYftF4G_se_K"
      }
    },
    {
      "cell_type": "markdown",
      "source": [
        "\n",
        "🏷 **b. Ejercicio 2: Indexación y Slicing:**\n",
        "   1. Accede al tercer elemento del array unidimensional creado en el ejercicio 1.\n",
        "   2. Accede a la primera fila del array bidimensional creado en el ejercicio 1.\n",
        "   3. Accede a la primera columna del array bidimensional creado en el ejercicio 1.\n",
        "   4. Accede a la última fila y última columna del array bidimensional creado en el ejercicio 1.\n"
      ],
      "metadata": {
        "id": "oFmcyhCdsoJ2"
      }
    },
    {
      "cell_type": "code",
      "source": [
        "# Crear un array unidimensional con los números del 1 al 10\n",
        "arr_unidimensional = np.array([1, 2, 3, 4, 5, 6, 7, 8, 9, 10])\n",
        "\n",
        "# Crear un array bidimensional de tamaño 3x3 con valores aleatorios entre 0 y 1\n",
        "arr_bidimensional = np.random.random((3, 3))\n",
        "\n",
        "# Crear un array tridimensional de tamaño 2x2x2 con unos\n",
        "arr_tridimensional = np.ones((2, 2, 2))"
      ],
      "metadata": {
        "id": "kZstpw7uMr1M"
      },
      "execution_count": 4,
      "outputs": []
    },
    {
      "cell_type": "code",
      "source": [
        "# Acceder al tercer elemento del array unidimensional creado en el ejercicio 1\n",
        "# Acceder al tercer elemento del array unidimensional creado en el ejercicio 1\n",
        "tercer_elemento = array_unidimensional[2]  # Los índices en Python comienzan en 0\n",
        "print(\"\\nTercer elemento del array unidimensional:\", tercer_elemento)"
      ],
      "metadata": {
        "id": "V_f392Kuthjs",
        "colab": {
          "base_uri": "https://localhost:8080/"
        },
        "outputId": "4191878e-da50-4359-93fc-704745df801d"
      },
      "execution_count": 5,
      "outputs": [
        {
          "output_type": "stream",
          "name": "stdout",
          "text": [
            "\n",
            "Tercer elemento del array unidimensional: 3\n"
          ]
        }
      ]
    },
    {
      "cell_type": "code",
      "source": [
        "# Acceder a la primera fila del array bidimensional creado en el ejercicio 1\n",
        "# prompt: # Acceder a la primera fila del array bidimensional creado en el ejercicio 1\n",
        "\n",
        "# Access the first row of the two-dimensional array created in exercise 1\n",
        "first_row = array_bidimensional[0, :]\n",
        "print(\"\\nFirst row of the two-dimensional array:\\n\", first_row)"
      ],
      "metadata": {
        "id": "QSB7wf2xu8qu",
        "colab": {
          "base_uri": "https://localhost:8080/"
        },
        "outputId": "48b85d3d-dc47-4ef8-cb3f-423db28b0921"
      },
      "execution_count": 6,
      "outputs": [
        {
          "output_type": "stream",
          "name": "stdout",
          "text": [
            "\n",
            "First row of the two-dimensional array:\n",
            " [0.05665557 0.04601383 0.63598847]\n"
          ]
        }
      ]
    },
    {
      "cell_type": "code",
      "source": [
        "# Acceder a la primera columna del array bidimensional creado en el ejercicio 1\n",
        "# prompt: # Acceder a la primera columna del array bidimensional creado en el ejercicio 1\n",
        "\n",
        "# Acceder a la primera columna del array bidimensional creado en el ejercicio 1\n",
        "first_column = array_bidimensional[:, 0]\n",
        "print(\"\\nPrimera columna del array bidimensional:\\n\", first_column)"
      ],
      "metadata": {
        "id": "s_sc7N1YvB94",
        "colab": {
          "base_uri": "https://localhost:8080/"
        },
        "outputId": "c6cd6a38-3708-455f-f012-55858f2f09de"
      },
      "execution_count": 7,
      "outputs": [
        {
          "output_type": "stream",
          "name": "stdout",
          "text": [
            "\n",
            "Primera columna del array bidimensional:\n",
            " [0.05665557 0.09686369 0.83275262]\n"
          ]
        }
      ]
    },
    {
      "cell_type": "code",
      "source": [
        "# Acceder a la última fila y última columna del array bidimensional creado en el ejercicio 1\n",
        "# prompt: # Acceder a la última fila y última columna del array bidimensional creado en el ejercicio 1\n",
        "\n",
        "# Acceder a la última fila y última columna del array bidimensional\n",
        "ultima_fila_ultima_columna = arr_bidimensional[-1, -1]\n",
        "print(\"\\nÚltima fila y última columna del array bidimensional:\\n\", ultima_fila_ultima_columna)"
      ],
      "metadata": {
        "id": "r5foZBBXvFsJ",
        "colab": {
          "base_uri": "https://localhost:8080/"
        },
        "outputId": "10397b60-ba22-489f-a884-3d9fc78cbe86"
      },
      "execution_count": 8,
      "outputs": [
        {
          "output_type": "stream",
          "name": "stdout",
          "text": [
            "\n",
            "Última fila y última columna del array bidimensional:\n",
            " 0.14507529970089705\n"
          ]
        }
      ]
    },
    {
      "cell_type": "markdown",
      "source": [
        "<p align=\"justify\">\n",
        "<br>\n",
        "✅ A continuación, una solución sugerida:\n",
        "<br><br>\n"
      ],
      "metadata": {
        "id": "36xlnVQNthEx"
      }
    },
    {
      "cell_type": "markdown",
      "source": [
        "\n",
        "🏷 **b. Ejercicio 2: Indexación y Slicing:**\n",
        "```python\n",
        "# Acceder al tercer elemento del array unidimensional creado en el ejercicio 1\n",
        "tercer_elemento = arr_unidimensional[2]\n",
        "\n",
        "# Acceder a la primera fila del array bidimensional creado en el ejercicio 1\n",
        "primera_fila = arr_bidimensional[0]\n",
        "\n",
        "# Acceder a la primera columna del array bidimensional creado en el ejercicio 1\n",
        "primera_columna = arr_bidimensional[:, 0]\n",
        "\n",
        "# Acceder a la última fila y última columna del array bidimensional creado en el ejercicio 1\n",
        "ultima_fila = arr_bidimensional[-1]\n",
        "ultima_columna = arr_bidimensional[:, -1]\n",
        "```\n"
      ],
      "metadata": {
        "id": "RW4q2dSCt-V5"
      }
    },
    {
      "cell_type": "code",
      "source": [
        "# Acceder al tercer elemento del array unidimensional creado en el ejercicio 1\n",
        "tercer_elemento = arr_unidimensional[2]\n",
        "\n",
        "# Acceder a la primera fila del array bidimensional creado en el ejercicio 1\n",
        "primera_fila = arr_bidimensional[0]\n",
        "\n",
        "# Acceder a la primera columna del array bidimensional creado en el ejercicio 1\n",
        "primera_columna = arr_bidimensional[:, 0]\n",
        "\n",
        "# Acceder a la última fila y última columna del array bidimensional creado en el ejercicio 1\n",
        "ultima_fila = arr_bidimensional[-1]\n",
        "ultima_columna = arr_bidimensional[:, -1]"
      ],
      "metadata": {
        "id": "wINu_o9kNUBX"
      },
      "execution_count": 9,
      "outputs": []
    },
    {
      "cell_type": "markdown",
      "source": [
        " ## **<font color=\"DarkBlue\">Ejercicio 3: Operaciones Básicas de Álgebra Lineal</font>**"
      ],
      "metadata": {
        "id": "O8IVcXT6stJX"
      }
    },
    {
      "cell_type": "markdown",
      "source": [
        "\n",
        "🏷 **c. Ejercicio 3: Operaciones Básicas de Álgebra Lineal:**\n",
        "   1. Crea dos matrices 2x2 y realiza la multiplicación de matrices.\n",
        "   2. Calcula el determinante de una matriz 3x3.\n",
        "   3. Calcula la inversa de una matriz 2x2.\n",
        "   4. Resuelve el siguiente sistema de ecuaciones lineales:\n",
        "     - 2x + 3y = 1\n",
        "     - 4x + 5y = 2\n"
      ],
      "metadata": {
        "id": "84znLFuMtCdt"
      }
    },
    {
      "cell_type": "code",
      "source": [
        "# prompt: # Realizar la multiplicación de matrices\n",
        "\n",
        "import numpy as np\n",
        "\n",
        "# 1. Crea dos matrices 2x2 y realiza la multiplicación de matrices.\n",
        "matriz_a = np.array([[1, 2], [3, 4]])\n",
        "matriz_b = np.array([[5, 6], [7, 8]])\n",
        "producto_matrices = np.dot(matriz_a, matriz_b)\n",
        "print(\"Producto de matrices:\\n\", producto_matrices)\n",
        "\n",
        "# 2. Calcula el determinante de una matriz 3x3.\n",
        "matriz_c = np.array([[1, 2, 3], [4, 5, 6], [7, 8, 9]])\n",
        "determinante = np.linalg.det(matriz_c)\n",
        "print(\"\\nDeterminante de la matriz:\\n\", determinante)\n",
        "\n",
        "# 3. Calcula la inversa de una matriz 2x2.\n",
        "matriz_d = np.array([[1, 2], [3, 4]])\n",
        "inversa = np.linalg.inv(matriz_d)\n",
        "print(\"\\nInversa de la matriz:\\n\", inversa)\n",
        "\n",
        "\n",
        "# 4. Resuelve el siguiente sistema de ecuaciones lineales:\n",
        "#    2x + 3y = 1\n",
        "#    4x + 5y = 2\n",
        "\n",
        "A = np.array([[2, 3], [4, 5]])\n",
        "b = np.array([1, 2])\n",
        "solucion = np.linalg.solve(A, b)\n",
        "print(\"\\nSolución del sistema de ecuaciones:\\n\", solucion)\n"
      ],
      "metadata": {
        "id": "t1FzDjCGNjDw"
      },
      "execution_count": null,
      "outputs": []
    },
    {
      "cell_type": "code",
      "source": [
        "# Crear dos matrices 2x2\n",
        "\n",
        "import numpy as np\n",
        "\n",
        "# 1. Crea dos matrices 2x2 y realiza la multiplicación de matrices.\n",
        "matriz1 = np.array([[1, 2], [3, 4]])\n",
        "matriz2 = np.array([[5, 6], [7, 8]])\n",
        "multiplicacion = np.dot(matriz1, matriz2)  # O también: matriz1 @ matriz2\n",
        "print(\"Multiplicación de matrices:\\n\", multiplicacion)\n",
        "\n",
        "# 2. Calcula el determinante de una matriz 3x3.\n",
        "matriz3x3 = np.array([[1, 2, 3], [4, 5, 6], [7, 8, 9]])\n",
        "determinante = np.linalg.det(matriz3x3)\n",
        "print(\"\\nDeterminante de la matriz 3x3:\\n\", determinante)\n",
        "\n",
        "# 3. Calcula la inversa de una matriz 2x2.\n",
        "matriz2x2 = np.array([[1, 2], [3, 4]])\n",
        "inversa = np.linalg.inv(matriz2x2)\n",
        "print(\"\\nInversa de la matriz 2x2:\\n\", inversa)\n",
        "\n",
        "# 4. Resuelve el siguiente sistema de ecuaciones lineales:\n",
        "#    - 2x + 3y = 1\n",
        "#    - 4x + 5y = 2\n",
        "A = np.array([[2, 3], [4, 5]])\n",
        "b = np.array([1, 2])\n",
        "solucion = np.linalg.solve(A, b)\n",
        "print(\"\\nSolución del sistema de ecuaciones:\\n\", solucion)"
      ],
      "metadata": {
        "id": "ammHy3pYtnkL",
        "colab": {
          "base_uri": "https://localhost:8080/"
        },
        "outputId": "8f5795c2-20b3-4d98-ce16-6067b18305c9"
      },
      "execution_count": 10,
      "outputs": [
        {
          "output_type": "stream",
          "name": "stdout",
          "text": [
            "Multiplicación de matrices:\n",
            " [[19 22]\n",
            " [43 50]]\n",
            "\n",
            "Determinante de la matriz 3x3:\n",
            " 0.0\n",
            "\n",
            "Inversa de la matriz 2x2:\n",
            " [[-2.   1. ]\n",
            " [ 1.5 -0.5]]\n",
            "\n",
            "Solución del sistema de ecuaciones:\n",
            " [0.5 0. ]\n"
          ]
        }
      ]
    },
    {
      "cell_type": "code",
      "source": [
        "# Realizar la multiplicación de matrices\n",
        "# prompt: # Realizar la multiplicación de matrices\n",
        "\n",
        "import numpy as np\n",
        "\n",
        "# 1. Crea dos matrices 2x2 y realiza la multiplicación de matrices.\n",
        "matriz_a = np.array([[1, 2], [3, 4]])\n",
        "matriz_b = np.array([[5, 6], [7, 8]])\n",
        "producto_matrices = np.dot(matriz_a, matriz_b)\n",
        "print(\"Producto de matrices:\\n\", producto_matrices)\n",
        "\n",
        "# 2. Calcula el determinante de una matriz 3x3.\n",
        "matriz_c = np.array([[1, 2, 3], [4, 5, 6], [7, 8, 9]])\n",
        "determinante = np.linalg.det(matriz_c)\n",
        "print(\"\\nDeterminante de la matriz:\\n\", determinante)\n",
        "\n",
        "# 3. Calcula la inversa de una matriz 2x2.\n",
        "matriz_d = np.array([[1, 2], [3, 4]])\n",
        "inversa = np.linalg.inv(matriz_d)\n",
        "print(\"\\nInversa de la matriz:\\n\", inversa)\n",
        "\n",
        "\n",
        "# 4. Resuelve el siguiente sistema de ecuaciones lineales:\n",
        "#    2x + 3y = 1\n",
        "#    4x + 5y = 2\n",
        "\n",
        "A = np.array([[2, 3], [4, 5]])\n",
        "b = np.array([1, 2])\n",
        "solucion = np.linalg.solve(A, b)\n",
        "print(\"\\nSolución del sistema de ecuaciones:\\n\", solucion)"
      ],
      "metadata": {
        "id": "0w1DfSqOvb48",
        "colab": {
          "base_uri": "https://localhost:8080/"
        },
        "outputId": "e44df570-e630-4213-e598-74f7a9da9cc3"
      },
      "execution_count": 11,
      "outputs": [
        {
          "output_type": "stream",
          "name": "stdout",
          "text": [
            "Producto de matrices:\n",
            " [[19 22]\n",
            " [43 50]]\n",
            "\n",
            "Determinante de la matriz:\n",
            " 0.0\n",
            "\n",
            "Inversa de la matriz:\n",
            " [[-2.   1. ]\n",
            " [ 1.5 -0.5]]\n",
            "\n",
            "Solución del sistema de ecuaciones:\n",
            " [0.5 0. ]\n"
          ]
        }
      ]
    },
    {
      "cell_type": "code",
      "source": [
        "# prompt: # Calcular el determinante de una matriz 3x3\n",
        "\n",
        "# 2. Calcula el determinante de una matriz 3x3.\n",
        "matriz_3x3 = np.array([[1, 2, 3], [4, 5, 6], [7, 8, 9]])\n",
        "determinante = np.linalg.det(matriz_3x3)\n",
        "print(\"\\nDeterminante de la matriz 3x3:\\n\", determinante)\n"
      ],
      "metadata": {
        "colab": {
          "base_uri": "https://localhost:8080/"
        },
        "id": "X7bcT6ytNp3I",
        "outputId": "2bce3c04-3477-4138-bc97-e121d94326fa"
      },
      "execution_count": 12,
      "outputs": [
        {
          "output_type": "stream",
          "name": "stdout",
          "text": [
            "\n",
            "Determinante de la matriz 3x3:\n",
            " 0.0\n"
          ]
        }
      ]
    },
    {
      "cell_type": "code",
      "source": [
        "# prompt: # Calcular la inversa de una matriz 2x2\n",
        "\n",
        "import numpy as np\n",
        "\n",
        "# 3. Calcula la inversa de una matriz 2x2.\n",
        "matriz_2x2 = np.array([[1, 2], [3, 4]])\n",
        "inversa = np.linalg.inv(matriz_2x2)\n",
        "print(\"\\nInversa de la matriz 2x2:\\n\", inversa)\n"
      ],
      "metadata": {
        "colab": {
          "base_uri": "https://localhost:8080/"
        },
        "id": "NQP5s-hjNt7i",
        "outputId": "daa00d77-07e1-4b3c-b7e8-03d4e504c0f9"
      },
      "execution_count": 13,
      "outputs": [
        {
          "output_type": "stream",
          "name": "stdout",
          "text": [
            "\n",
            "Inversa de la matriz 2x2:\n",
            " [[-2.   1. ]\n",
            " [ 1.5 -0.5]]\n"
          ]
        }
      ]
    },
    {
      "cell_type": "code",
      "source": [
        "# prompt: # Resolver el sistema de ecuaciones lineales\n",
        "\n",
        "import numpy as np\n",
        "\n",
        "# 4. Resuelve el siguiente sistema de ecuaciones lineales:\n",
        "#    2x + 3y = 1\n",
        "#    4x + 5y = 2\n",
        "\n",
        "A = np.array([[2, 3], [4, 5]])\n",
        "b = np.array([1, 2])\n",
        "solucion = np.linalg.solve(A, b)\n",
        "print(\"\\nSolución del sistema de ecuaciones:\\n\", solucion)\n"
      ],
      "metadata": {
        "colab": {
          "base_uri": "https://localhost:8080/"
        },
        "id": "bK9-yf0uN12k",
        "outputId": "47b18603-8f83-4c4a-d8cd-729036485038"
      },
      "execution_count": 15,
      "outputs": [
        {
          "output_type": "stream",
          "name": "stdout",
          "text": [
            "\n",
            "Solución del sistema de ecuaciones:\n",
            " [0.5 0. ]\n"
          ]
        }
      ]
    },
    {
      "cell_type": "markdown",
      "source": [
        "<p align=\"justify\">\n",
        "<br>\n",
        "✅ A continuación, una solución sugerida:\n",
        "<br><br>\n"
      ],
      "metadata": {
        "id": "Subd_qD6toGt"
      }
    },
    {
      "cell_type": "markdown",
      "source": [
        "\n",
        "🏷 **c. Ejercicio 3: Operaciones Básicas de Álgebra Lineal:**\n",
        "```python\n",
        "# Crear dos matrices 2x2\n",
        "matriz1 = np.array([[1, 2], [3, 4]])\n",
        "matriz2 = np.array([[5, 6], [7, 8]])\n",
        "\n",
        "# Realizar la multiplicación de matrices\n",
        "producto = np.dot(matriz1, matriz2)\n",
        "\n",
        "# Calcular el determinante de una matriz 3x3\n",
        "matriz3x3 = np.array([[1, 2, 3], [4, 5, 6], [7, 8, 9]])\n",
        "determinante = np.linalg.det(matriz3x3)\n",
        "\n",
        "# Calcular la inversa de una matriz 2x2\n",
        "inversa = np.linalg.inv(matriz1)\n",
        "\n",
        "# Resolver el sistema de ecuaciones lineales\n",
        "A = np.array([[2, 3], [4, 5]])\n",
        "b = np.array([1, 2])\n",
        "x = np.linalg.solve(A, b)\n",
        "```\n"
      ],
      "metadata": {
        "id": "SX7nCO51uBqz"
      }
    },
    {
      "cell_type": "code",
      "source": [
        "# Crear dos matrices 2x2\n",
        "matriz1 = np.array([[1, 2], [3, 4]])\n",
        "matriz2 = np.array([[5, 6], [7, 8]])\n",
        "\n",
        "# Realizar la multiplicación de matrices\n",
        "producto = np.dot(matriz1, matriz2)\n",
        "\n",
        "# Calcular el determinante de una matriz 3x3\n",
        "matriz3x3 = np.array([[1, 2, 3], [4, 5, 6], [7, 8, 9]])\n",
        "determinante = np.linalg.det(matriz3x3)\n",
        "\n",
        "# Calcular la inversa de una matriz 2x2\n",
        "inversa = np.linalg.inv(matriz1)\n",
        "\n",
        "# Resolver el sistema de ecuaciones lineales\n",
        "A = np.array([[2, 3], [4, 5]])\n",
        "b = np.array([1, 2])\n",
        "x = np.linalg.solve(A, b)"
      ],
      "metadata": {
        "id": "yujI2WSyN7qA"
      },
      "execution_count": 16,
      "outputs": []
    },
    {
      "cell_type": "markdown",
      "source": [
        " ## **<font color=\"DarkBlue\">Ejercicio 4: Aplicación de Funciones NumPy</font>**"
      ],
      "metadata": {
        "id": "TQQ7RMbBtFm5"
      }
    },
    {
      "cell_type": "markdown",
      "source": [
        "\n",
        "🏷 **d. Ejercicio 4: Aplicación de Funciones NumPy:**\n",
        "   1. Crea un array unidimensional de tamaño 10 con valores aleatorios entre 0 y 100.\n",
        "   2. Calcula la media, la mediana y la desviación estándar del array creado.\n",
        "   3. Encuentra el valor máximo y mínimo del array creado.\n",
        "   4. Normaliza el array para que todos sus valores estén en el rango de 0 a 1."
      ],
      "metadata": {
        "id": "9cyzBT4is9c_"
      }
    },
    {
      "cell_type": "code",
      "source": [
        "# prompt: # Crea un array unidimensional de tamaño 10 con valores aleatorios entre 0 y 100\n",
        "\n",
        "import numpy as np\n",
        "\n",
        "# Crea un array unidimensional de tamaño 10 con valores aleatorios entre 0 y 100\n",
        "array_aleatorio = np.random.randint(0, 101, size=10)\n",
        "print(\"Array aleatorio:\\n\", array_aleatorio)\n",
        "\n",
        "# Calcula la media, la mediana y la desviación estándar del array creado\n",
        "media = np.mean(array_aleatorio)\n",
        "mediana = np.median(array_aleatorio)\n",
        "desviacion_estandar = np.std(array_aleatorio)\n",
        "print(\"\\nMedia:\", media)\n",
        "print(\"Mediana:\", mediana)\n",
        "print(\"Desviación estándar:\", desviacion_estandar)\n",
        "\n",
        "# Encuentra el valor máximo y mínimo del array creado\n",
        "valor_maximo = np.max(array_aleatorio)\n",
        "valor_minimo = np.min(array_aleatorio)\n",
        "print(\"\\nValor máximo:\", valor_maximo)\n",
        "print(\"Valor mínimo:\", valor_minimo)\n",
        "\n",
        "# Normaliza el array para que todos sus valores estén en el rango de 0 a 1\n",
        "array_normalizado = (array_aleatorio - valor_minimo) / (valor_maximo - valor_minimo)\n",
        "print(\"\\nArray normalizado:\\n\", array_normalizado)\n"
      ],
      "metadata": {
        "colab": {
          "base_uri": "https://localhost:8080/"
        },
        "id": "CSsfGAQZN9od",
        "outputId": "543e591d-5a0d-4501-ecc1-203def78d35f"
      },
      "execution_count": 17,
      "outputs": [
        {
          "output_type": "stream",
          "name": "stdout",
          "text": [
            "Array aleatorio:\n",
            " [ 74  96 100  71  99   4  70  69  92  51]\n",
            "\n",
            "Media: 72.6\n",
            "Mediana: 72.5\n",
            "Desviación estándar: 27.510725181281572\n",
            "\n",
            "Valor máximo: 100\n",
            "Valor mínimo: 4\n",
            "\n",
            "Array normalizado:\n",
            " [0.72916667 0.95833333 1.         0.69791667 0.98958333 0.\n",
            " 0.6875     0.67708333 0.91666667 0.48958333]\n"
          ]
        }
      ]
    },
    {
      "cell_type": "code",
      "source": [
        "# prompt: # Calcula la media, la mediana y la desviación estándar del array creado\n",
        "\n",
        "# Calcula la media, la mediana y la desviación estándar del array creado\n",
        "media = np.mean(array_aleatorio)\n",
        "mediana = np.median(array_aleatorio)\n",
        "desviacion_estandar = np.std(array_aleatorio)\n",
        "print(\"\\nMedia:\", media)\n",
        "print(\"Mediana:\", mediana)\n",
        "print(\"Desviación estándar:\", desviacion_estandar)\n"
      ],
      "metadata": {
        "colab": {
          "base_uri": "https://localhost:8080/"
        },
        "id": "Bp_QXCAEOHwv",
        "outputId": "a42dd639-40cd-4159-c60a-cd9b74d53cb7"
      },
      "execution_count": 18,
      "outputs": [
        {
          "output_type": "stream",
          "name": "stdout",
          "text": [
            "\n",
            "Media: 72.6\n",
            "Mediana: 72.5\n",
            "Desviación estándar: 27.510725181281572\n"
          ]
        }
      ]
    },
    {
      "cell_type": "code",
      "source": [
        "# prompt: # Calcula la media, la mediana y la desviación estándar del array creado\n",
        "\n",
        "# Calcula la media, la mediana y la desviación estándar del array creado\n",
        "media = np.mean(array_aleatorio)\n",
        "mediana = np.median(array_aleatorio)\n",
        "desviacion_estandar = np.std(array_aleatorio)\n",
        "print(\"\\nMedia:\", media)\n",
        "print(\"Mediana:\", mediana)\n",
        "print(\"Desviación estándar:\", desviacion_estandar)\n"
      ],
      "metadata": {
        "colab": {
          "base_uri": "https://localhost:8080/"
        },
        "id": "xYGZM5GZOMQQ",
        "outputId": "f5f572d2-2fe0-486f-fe85-f565c8d02f7f"
      },
      "execution_count": 19,
      "outputs": [
        {
          "output_type": "stream",
          "name": "stdout",
          "text": [
            "\n",
            "Media: 72.6\n",
            "Mediana: 72.5\n",
            "Desviación estándar: 27.510725181281572\n"
          ]
        }
      ]
    },
    {
      "cell_type": "code",
      "source": [
        "# prompt: # Calcula la media, la mediana y la desviación estándar del array creado\n",
        "\n",
        "# Calcula la media, la mediana y la desviación estándar del array creado\n",
        "media = np.mean(array_aleatorio)\n",
        "mediana = np.median(array_aleatorio)\n",
        "desviacion_estandar = np.std(array_aleatorio)\n",
        "print(\"\\nMedia:\", media)\n",
        "print(\"Mediana:\", mediana)\n",
        "print(\"Desviación estándar:\", desviacion_estandar)\n"
      ],
      "metadata": {
        "colab": {
          "base_uri": "https://localhost:8080/"
        },
        "id": "TLfeMkXJOQRg",
        "outputId": "54bca0f4-8de6-4918-a225-c9356f20f335"
      },
      "execution_count": 20,
      "outputs": [
        {
          "output_type": "stream",
          "name": "stdout",
          "text": [
            "\n",
            "Media: 72.6\n",
            "Mediana: 72.5\n",
            "Desviación estándar: 27.510725181281572\n"
          ]
        }
      ]
    },
    {
      "cell_type": "code",
      "source": [
        "# prompt: # Calcula la media, la mediana y la desviación estándar del array creado\n",
        "\n",
        "# Calcula la media, la mediana y la desviación estándar del array creado\n",
        "media = np.mean(array_aleatorio)\n",
        "mediana = np.median(array_aleatorio)\n",
        "desviacion_estandar = np.std(array_aleatorio)\n",
        "print(\"\\nMedia:\", media)\n",
        "print(\"Mediana:\", mediana)\n",
        "print(\"Desviación estándar:\", desviacion_estandar)\n"
      ],
      "metadata": {
        "colab": {
          "base_uri": "https://localhost:8080/"
        },
        "id": "XecMRWWTOUIN",
        "outputId": "37bbca2e-8732-4dbb-bb0b-0eb2a6b7732f"
      },
      "execution_count": 21,
      "outputs": [
        {
          "output_type": "stream",
          "name": "stdout",
          "text": [
            "\n",
            "Media: 72.6\n",
            "Mediana: 72.5\n",
            "Desviación estándar: 27.510725181281572\n"
          ]
        }
      ]
    },
    {
      "cell_type": "code",
      "source": [
        "# prompt: # Calcula la media, la mediana y la desviación estándar del array creado\n",
        "\n",
        "# Calcula la media, la mediana y la desviación estándar del array creado\n",
        "media = np.mean(array_aleatorio)\n",
        "mediana = np.median(array_aleatorio)\n",
        "desviacion_estandar = np.std(array_aleatorio)\n",
        "print(\"\\nMedia:\", media)\n",
        "print(\"Mediana:\", mediana)\n",
        "print(\"Desviación estándar:\", desviacion_estandar)\n"
      ],
      "metadata": {
        "colab": {
          "base_uri": "https://localhost:8080/"
        },
        "id": "NpV_bJZ1OYaR",
        "outputId": "0974fbac-b155-4877-e930-17ef4c5f0356"
      },
      "execution_count": 22,
      "outputs": [
        {
          "output_type": "stream",
          "name": "stdout",
          "text": [
            "\n",
            "Media: 72.6\n",
            "Mediana: 72.5\n",
            "Desviación estándar: 27.510725181281572\n"
          ]
        }
      ]
    },
    {
      "cell_type": "code",
      "source": [
        "# prompt: # Encuentra el valor máximo y mínimo del array creado\n",
        "\n",
        "# Encuentra el valor máximo y mínimo del array creado\n",
        "valor_maximo = np.max(array_aleatorio)\n",
        "valor_minimo = np.min(array_aleatorio)\n",
        "print(\"\\nValor máximo:\", valor_maximo)\n",
        "print(\"Valor mínimo:\", valor_minimo)\n"
      ],
      "metadata": {
        "colab": {
          "base_uri": "https://localhost:8080/"
        },
        "id": "8zRVxktZOc1T",
        "outputId": "8a99d85d-bfb4-43d2-d892-ec32f89734fe"
      },
      "execution_count": 23,
      "outputs": [
        {
          "output_type": "stream",
          "name": "stdout",
          "text": [
            "\n",
            "Valor máximo: 100\n",
            "Valor mínimo: 4\n"
          ]
        }
      ]
    },
    {
      "cell_type": "code",
      "source": [
        "# prompt: # Normaliza el array para que todos sus valores estén en el rango de 0 a 1\n",
        "\n",
        "# Normaliza el array para que todos sus valores estén en el rango de 0 a 1\n",
        "array_normalizado = (array_aleatorio - valor_minimo) / (valor_maximo - valor_minimo)\n",
        "print(\"\\nArray normalizado:\\n\", array_normalizado)\n"
      ],
      "metadata": {
        "colab": {
          "base_uri": "https://localhost:8080/"
        },
        "id": "0w7Sj7vLOhaE",
        "outputId": "5c501c2d-0f0b-49bf-ad07-6783d7cc68bc"
      },
      "execution_count": 24,
      "outputs": [
        {
          "output_type": "stream",
          "name": "stdout",
          "text": [
            "\n",
            "Array normalizado:\n",
            " [0.72916667 0.95833333 1.         0.69791667 0.98958333 0.\n",
            " 0.6875     0.67708333 0.91666667 0.48958333]\n"
          ]
        }
      ]
    },
    {
      "cell_type": "markdown",
      "source": [
        "<p align=\"justify\">\n",
        "<br>\n",
        "✅ A continuación, una solución sugerida:\n",
        "<br><br>\n"
      ],
      "metadata": {
        "id": "5RJE35r3tqkb"
      }
    },
    {
      "cell_type": "markdown",
      "source": [
        "\n",
        "🏷 **d. Ejercicio 4: Aplicación de Funciones NumPy:**\n",
        "```python\n",
        "# Crea un array unidimensional de tamaño 10 con valores aleatorios entre 0 y 100\n",
        "arr_aleatorio = np.random.randint(0, 101, 10)\n",
        "\n",
        "# Calcula la media, la mediana y la desviación estándar del array creado\n",
        "media = np.mean(arr_aleatorio)\n",
        "mediana = np.median(arr_aleatorio)\n",
        "desviacion_estandar = np.std(arr_aleatorio)\n",
        "\n",
        "# Encuentra el valor máximo y mínimo del array creado\n",
        "valor_maximo = np.max(arr_aleatorio)\n",
        "valor_minimo = np.min(arr_aleatorio)\n",
        "\n",
        "# Normaliza el array para que todos sus valores estén en el rango de 0 a 1\n",
        "arr_normalizado = (arr_aleatorio - np.min(arr_aleatorio)) / (np.max(arr_aleatorio) - np.min(arr_aleatorio))\n",
        "```\n"
      ],
      "metadata": {
        "id": "zlGVztPnuYfP"
      }
    },
    {
      "cell_type": "code",
      "source": [
        "# Crea un array unidimensional de tamaño 10 con valores aleatorios entre 0 y 100\n",
        "arr_aleatorio = np.random.randint(0, 101, 10)\n",
        "\n",
        "# Calcula la media, la mediana y la desviación estándar del array creado\n",
        "media = np.mean(arr_aleatorio)\n",
        "mediana = np.median(arr_aleatorio)\n",
        "desviacion_estandar = np.std(arr_aleatorio)\n",
        "\n",
        "# Encuentra el valor máximo y mínimo del array creado\n",
        "valor_maximo = np.max(arr_aleatorio)\n",
        "valor_minimo = np.min(arr_aleatorio)\n",
        "\n",
        "# Normaliza el array para que todos sus valores estén en el rango de 0 a 1\n",
        "arr_normalizado = (arr_aleatorio - np.min(arr_aleatorio)) / (np.max(arr_aleatorio) - np.min(arr_aleatorio))"
      ],
      "metadata": {
        "id": "GGhdhQZKOrtq"
      },
      "execution_count": 26,
      "outputs": []
    },
    {
      "cell_type": "markdown",
      "source": [
        " ## **<font color=\"DarkBlue\">Ejercicio 5: Manipulación de Datos</font>**"
      ],
      "metadata": {
        "id": "220QxYvntRiO"
      }
    },
    {
      "cell_type": "markdown",
      "source": [
        "\n",
        "\n",
        "🏷 **e. Ejercicio 5: Manipulación de Datos:**\n",
        "   1. Crea un array bidimensional de tamaño 3x3 con valores aleatorios enteros entre 1 y 10.\n",
        "   2. Filtra los valores mayores que 5 en el array creado.\n",
        "   3. Reemplaza todos los valores mayores que 5 en el array creado por el valor 10."
      ],
      "metadata": {
        "id": "lYtGTO6Xx4pk"
      }
    },
    {
      "cell_type": "code",
      "source": [
        "# prompt: # Crea un array bidimensional de tamaño 3x3 con valores aleatorios enteros entre 1 y 10\n",
        "\n",
        "import numpy as np\n",
        "\n",
        "# Crea un array bidimensional de tamaño 3x3 con valores aleatorios enteros entre 1 y 10\n",
        "array_bidimensional = np.random.randint(1, 11, size=(3, 3))\n",
        "print(\"Array bidimensional original:\\n\", array_bidimensional)\n",
        "\n",
        "# Filtra los valores mayores que 5 en el array creado.\n",
        "valores_mayores_que_5 = array_bidimensional[array_bidimensional > 5]\n",
        "print(\"\\nValores mayores que 5:\\n\", valores_mayores_que_5)\n",
        "\n",
        "# Reemplaza todos los valores mayores que 5 en el array creado por el valor 10.\n",
        "array_bidimensional[array_bidimensional > 5] = 10\n",
        "print(\"\\nArray con valores mayores que 5 reemplazados por 10:\\n\", array_bidimensional)\n"
      ],
      "metadata": {
        "colab": {
          "base_uri": "https://localhost:8080/"
        },
        "id": "YNG2aS5GOtwW",
        "outputId": "b0cabd7a-9edb-412d-9cbe-53ea2e690ae2"
      },
      "execution_count": 27,
      "outputs": [
        {
          "output_type": "stream",
          "name": "stdout",
          "text": [
            "Array bidimensional original:\n",
            " [[ 4  4  6]\n",
            " [10  3  4]\n",
            " [ 4  7  6]]\n",
            "\n",
            "Valores mayores que 5:\n",
            " [ 6 10  7  6]\n",
            "\n",
            "Array con valores mayores que 5 reemplazados por 10:\n",
            " [[ 4  4 10]\n",
            " [10  3  4]\n",
            " [ 4 10 10]]\n"
          ]
        }
      ]
    },
    {
      "cell_type": "code",
      "source": [
        "# prompt: # Filtra los valores mayores que 5 en el array creado\n",
        "\n",
        "# Filtra los valores mayores que 5 en el array creado.\n",
        "valores_mayores_que_5 = array_bidimensional[array_bidimensional > 5]\n",
        "print(\"\\nValores mayores que 5:\\n\", valores_mayores_que_5)\n"
      ],
      "metadata": {
        "colab": {
          "base_uri": "https://localhost:8080/"
        },
        "id": "g741kPGAOyu7",
        "outputId": "44438dab-deca-46d5-a4ca-7abf9f1910af"
      },
      "execution_count": 28,
      "outputs": [
        {
          "output_type": "stream",
          "name": "stdout",
          "text": [
            "\n",
            "Valores mayores que 5:\n",
            " [10 10 10 10]\n"
          ]
        }
      ]
    },
    {
      "cell_type": "code",
      "source": [
        "# prompt: # Reemplaza todos los valores mayores que 5 en el array creado por el valor 10\n",
        "\n",
        "# Reemplaza todos los valores mayores que 5 en el array creado por el valor 10\n",
        "array_bidimensional[array_bidimensional > 5] = 10\n",
        "print(\"\\nArray con valores mayores que 5 reemplazados por 10:\\n\", array_bidimensional)\n"
      ],
      "metadata": {
        "colab": {
          "base_uri": "https://localhost:8080/"
        },
        "id": "7TZyGZzZO2ph",
        "outputId": "5d9896a7-1036-4e03-fb8a-13fd192aa799"
      },
      "execution_count": 29,
      "outputs": [
        {
          "output_type": "stream",
          "name": "stdout",
          "text": [
            "\n",
            "Array con valores mayores que 5 reemplazados por 10:\n",
            " [[ 4  4 10]\n",
            " [10  3  4]\n",
            " [ 4 10 10]]\n"
          ]
        }
      ]
    },
    {
      "cell_type": "markdown",
      "source": [
        "<p align=\"justify\">\n",
        "<br>\n",
        "✅ A continuación, una solución sugerida:\n",
        "<br><br>\n"
      ],
      "metadata": {
        "id": "VOHqWhlytuLx"
      }
    },
    {
      "cell_type": "markdown",
      "source": [
        "\n",
        "🏷 **e. Ejercicio 5: Manipulación de Datos:**\n",
        "```python\n",
        "# Crea un array bidimensional de tamaño 3x3 con valores aleatorios enteros entre 1 y 10\n",
        "arr_enteros = np.random.randint(1, 11, (3, 3))\n",
        "\n",
        "# Filtra los valores mayores que 5 en el array creado\n",
        "valores_mayores_5 = arr_enteros[arr_enteros > 5]\n",
        "\n",
        "# Reemplaza todos los valores mayores que 5 en el array creado por el valor 10\n",
        "arr_enteros[arr_enteros > 5] = 10\n",
        "```"
      ],
      "metadata": {
        "id": "SnzVzjlFDw7K"
      }
    },
    {
      "cell_type": "code",
      "source": [
        "# Crea un array bidimensional de tamaño 3x3 con valores aleatorios enteros entre 1 y 10\n",
        "arr_enteros = np.random.randint(1, 11, (3, 3))\n",
        "\n",
        "# Filtra los valores mayores que 5 en el array creado\n",
        "valores_mayores_5 = arr_enteros[arr_enteros > 5]\n",
        "\n",
        "# Reemplaza todos los valores mayores que 5 en el array creado por el valor 10\n",
        "arr_enteros[arr_enteros > 5] = 10"
      ],
      "metadata": {
        "id": "3lkKWS8GO7aC"
      },
      "execution_count": 30,
      "outputs": []
    },
    {
      "cell_type": "markdown",
      "source": [
        "<p align=\"center\"><b>\n",
        "💗\n",
        "<font color=\"DarkBlue\">\n",
        "Hemos llegado al final de nuestra ejercitación en colab, a seguir ejercitando...\n",
        "</font>\n",
        "</p>\n"
      ],
      "metadata": {
        "id": "rrDMEhW6Vq2a"
      }
    }
  ]
}
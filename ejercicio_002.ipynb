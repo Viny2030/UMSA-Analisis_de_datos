{
  "nbformat": 4,
  "nbformat_minor": 0,
  "metadata": {
    "colab": {
      "provenance": []
    },
    "kernelspec": {
      "name": "python3",
      "display_name": "Python 3"
    },
    "language_info": {
      "name": "python"
    }
  },
  "cells": [
    {
      "cell_type": "markdown",
      "source": [
        "![image.png](data:image/png;base64,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)"
      ],
      "metadata": {
        "id": "qfSF3nVxHVCZ"
      }
    },
    {
      "cell_type": "markdown",
      "source": [
        "# **<font color=\"DarkBlue\">Ejercicios con Python un poco más difíciles 💗</font>**"
      ],
      "metadata": {
        "id": "ZJ8MFCRegkBU"
      }
    },
    {
      "cell_type": "markdown",
      "source": [
        "<p align=\"center\">\n",
        "<img src=\"https://pypi.org/static/images/logo-small.8998e9d1.svg\" width=\"90\" height=\"\">\n",
        "</p>"
      ],
      "metadata": {
        "id": "gjpEYi_23t-3"
      }
    },
    {
      "cell_type": "markdown",
      "source": [
        "## **<font color=\"DarkBlue\">Ejercicio 1: Análisis de ventas</font>**"
      ],
      "metadata": {
        "id": "ZiHPlFwRnqdY"
      }
    },
    {
      "cell_type": "markdown",
      "source": [
        "Tarea: Calcula el ingreso total de ventas y el promedio de ventas diarias a partir de los siguientes datos:"
      ],
      "metadata": {
        "id": "Gg4K_0MVpdOS"
      }
    },
    {
      "cell_type": "code",
      "source": [
        "ventas = [1500, 2300, 1800, 2900, 3200, 2800, 3500]"
      ],
      "metadata": {
        "id": "o6vCIAz9nzfq"
      },
      "execution_count": null,
      "outputs": []
    },
    {
      "cell_type": "markdown",
      "source": [
        "Instrucciones:\n",
        "<br><br>\n",
        "\n",
        "- Calcula el ingreso total de ventas.\n",
        "- Calcula el promedio de ventas diarias.\n",
        "- Imprime los resultados."
      ],
      "metadata": {
        "id": "pgf_fJ0e5itH"
      }
    },
    {
      "cell_type": "code",
      "source": [
        "# Completa el código para calcular el ingreso total y el promedio de ventas diarias\n",
        "ingreso_total =\n",
        "promedio_diario ="
      ],
      "metadata": {
        "id": "ebT2dBtx5tSl"
      },
      "execution_count": null,
      "outputs": []
    },
    {
      "cell_type": "code",
      "source": [
        "# Completa el código para imprimir el ingreso total y el promedio de ventas diarias\n",
        "print()\n",
        "print()"
      ],
      "metadata": {
        "id": "I4AEBA5R5zXm"
      },
      "execution_count": null,
      "outputs": []
    },
    {
      "cell_type": "markdown",
      "source": [
        "## **<font color=\"DarkBlue\">Ejercicio 2: Evaluación de metas</font>**"
      ],
      "metadata": {
        "id": "N1lFpAnWpjmt"
      }
    },
    {
      "cell_type": "markdown",
      "source": [
        "Tarea: Dada una lista de ventas mensuales, determina cuántos meses se superó la meta de ventas de $2500 y cuántos meses no se supero la meta."
      ],
      "metadata": {
        "id": "-nAuKvYVprIq"
      }
    },
    {
      "cell_type": "code",
      "source": [
        "ventas_mensuales = [2400, 2700, 3100, 1500, 3400, 2600, 2200, 2900, 1800, 3000, 3200, 2100]\n",
        "meta = 2500"
      ],
      "metadata": {
        "id": "QNNlluD_prkV"
      },
      "execution_count": null,
      "outputs": []
    },
    {
      "cell_type": "code",
      "source": [
        "# Completa el código para evaluar cuántos meses se superó la meta de ventas\n",
        "superaron_meta = 0\n",
        "no_superaron_meta = 0"
      ],
      "metadata": {
        "id": "AblM_866qBUf"
      },
      "execution_count": null,
      "outputs": []
    },
    {
      "cell_type": "code",
      "source": [
        "for i in ventas_mensuales:\n",
        "    if :\n",
        "\n",
        "    else:\n"
      ],
      "metadata": {
        "id": "uPNKlLD06a9n"
      },
      "execution_count": null,
      "outputs": []
    },
    {
      "cell_type": "code",
      "source": [
        "# Completa el código para imprimir los meses que se superan la meta y los meses que no\n",
        "print(\"Meses que superaron la meta: \")\n",
        "print(\"Meses que no superaron la meta: \")"
      ],
      "metadata": {
        "id": "0UK1_NKb6dMU"
      },
      "execution_count": null,
      "outputs": []
    },
    {
      "cell_type": "markdown",
      "source": [
        "## **<font color=\"DarkBlue\">Ejercicio 3: Segmentación de clientes 💔</font>**"
      ],
      "metadata": {
        "id": "hEeVDYqKpsDC"
      }
    },
    {
      "cell_type": "markdown",
      "source": [
        "Tarea: Segmenta una lista de clientes en diferentes grupos según su gasto promedio mensual y determina el número de clientes en cada segmento."
      ],
      "metadata": {
        "id": "a4iAaTJppsgc"
      }
    },
    {
      "cell_type": "code",
      "source": [
        "clientes = [{\"nombre\": \"Cliente1\", \"gasto_mensual\": 1200},\n",
        "            {\"nombre\": \"Cliente2\", \"gasto_mensual\": 2500},\n",
        "            {\"nombre\": \"Cliente3\", \"gasto_mensual\": 800},\n",
        "            {\"nombre\": \"Cliente4\", \"gasto_mensual\": 3000},\n",
        "            {\"nombre\": \"Cliente5\", \"gasto_mensual\": 1800}]"
      ],
      "metadata": {
        "id": "ywUVb7_WptE9"
      },
      "execution_count": null,
      "outputs": []
    },
    {
      "cell_type": "code",
      "source": [
        "segmento_bajo = 0\n",
        "segmento_medio = 0\n",
        "segmento_alto = 0"
      ],
      "metadata": {
        "id": "O1C2IwKKqh-m"
      },
      "execution_count": null,
      "outputs": []
    },
    {
      "cell_type": "code",
      "source": [
        "# Completa el código para segmentar a los clientes\n",
        "for i :\n",
        "    if i[\"gasto_mensual\"] < 1000:\n",
        "\n",
        "    elif 1000 <= i[\"gasto_mensual\"] < 2000:\n",
        "\n",
        "    else:\n"
      ],
      "metadata": {
        "id": "pNA-m_mA8naS"
      },
      "execution_count": null,
      "outputs": []
    },
    {
      "cell_type": "code",
      "source": [
        "print()\n",
        "print()\n",
        "print()"
      ],
      "metadata": {
        "id": "tuyOb5318qdh"
      },
      "execution_count": null,
      "outputs": []
    },
    {
      "cell_type": "markdown",
      "source": [
        "<p align=\"center\"><b>\n",
        "💗\n",
        "<font color=\"DarkBlue\">\n",
        "Hemos llegado al final de nuestra ejercitación en colab, a seguir ejercitando...\n",
        "</font>\n",
        "</p>\n",
        "\n"
      ],
      "metadata": {
        "id": "jLFcCFoEuxr6"
      }
    }
  ]
}
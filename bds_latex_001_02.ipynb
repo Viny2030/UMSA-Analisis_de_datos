{
  "cells": [
    {
      "cell_type": "markdown",
      "metadata": {
        "id": "view-in-github",
        "colab_type": "text"
      },
      "source": [
        "<a href=\"https://colab.research.google.com/github/Viny2030/UMSA-Analisis_de_datos/blob/main/bds_latex_001_02.ipynb\" target=\"_parent\"><img src=\"https://colab.research.google.com/assets/colab-badge.svg\" alt=\"Open In Colab\"/></a>"
      ]
    },
    {
      "cell_type": "markdown",
      "source": [
        "![umsa.png](data:image/png;base64,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)"
      ],
      "metadata": {
        "id": "KDDPjuOEk-0q"
      },
      "id": "KDDPjuOEk-0q"
    },
    {
      "cell_type": "markdown",
      "id": "795ca1b3-d014-48a1-8cd2-a69a90043112",
      "metadata": {
        "id": "795ca1b3-d014-48a1-8cd2-a69a90043112"
      },
      "source": [
        "# <font color=\"DeepPink\">$\\LaTeX{}$ **para celdas de texto en Notebooks**</font>"
      ]
    },
    {
      "cell_type": "markdown",
      "id": "65c27d22-1803-44f8-9c57-4566f07ecacc",
      "metadata": {
        "id": "65c27d22-1803-44f8-9c57-4566f07ecacc"
      },
      "source": [
        "<p align=\"center\">\n",
        "<img src=\"https://www.latex-project.org/img/latex-project-logo.svg\" width=\"300\" height=\"\" >\n",
        "</p>"
      ]
    },
    {
      "cell_type": "markdown",
      "id": "5dca8b7a-3e24-4610-ba58-3dca0360851d",
      "metadata": {
        "id": "5dca8b7a-3e24-4610-ba58-3dca0360851d"
      },
      "source": [
        "# <font color=\"DeepPink\">**Expresiones matemáticas en celda de texto**</font>"
      ]
    },
    {
      "cell_type": "markdown",
      "id": "4c6449e6-8b19-415d-b898-81035cf081ad",
      "metadata": {
        "id": "4c6449e6-8b19-415d-b898-81035cf081ad"
      },
      "source": [
        "📘 https://manualdelatex.com/simbolos"
      ]
    },
    {
      "cell_type": "markdown",
      "source": [
        "---\n",
        "\n",
        "<p align=\"justify\">\n",
        "$\\LaTeX{}$ está basado en el sistema de composición tipográfica <code>TeX</code>, desarrollado por Donald E. Knuth a finales de los años setenta. Basándose en este sistema, Leslie Lamport escribió en los años ochenta una serie de macros para facilitar su uso. Esto dio lugar a $\\LaTeX{}$, una abreviatura de <code>Lamport TeX</code>.<br><br>\n",
        "La aparición de $\\LaTeX{}$ hizo que esta herramienta y el uso de <code>TeX</code> se extendiera rápidamente entre los círculos académicos.\n",
        "Además, el hecho de que esté basado en un sistema de código abierto ha facilitado que contribuidores de todo el mundo hayan ido incrementando las capacidades de este sistema.\n",
        "</p>\n",
        "\n",
        "---\n"
      ],
      "metadata": {
        "id": "WdaTqlxXUGWh"
      },
      "id": "WdaTqlxXUGWh"
    },
    {
      "cell_type": "markdown",
      "id": "7ff4afa9-6d8e-4287-bc60-cf26c4c52ad6",
      "metadata": {
        "id": "7ff4afa9-6d8e-4287-bc60-cf26c4c52ad6"
      },
      "source": [
        "## <font color=\"DeepPink\"> **Símbolos de relación**</font>\n",
        "\n"
      ]
    },
    {
      "cell_type": "markdown",
      "source": [
        "<p align=\"justify\">\n",
        "✅ Algunos símbolos de relación y su correspondiente notación en $\\LaTeX{}$"
      ],
      "metadata": {
        "id": "5Tn-Yo24KnvZ"
      },
      "id": "5Tn-Yo24KnvZ"
    },
    {
      "cell_type": "markdown",
      "id": "9e4e2b28-051f-4409-a4b9-343394ffe125",
      "metadata": {
        "id": "9e4e2b28-051f-4409-a4b9-343394ffe125"
      },
      "source": [
        "+ Comando ```<``` para el símbolo $<$\n",
        "+ Comando ```>``` para el símbolo $>$\n",
        "+ Comando ```=``` para el símbolo $=$\n",
        "+ Comando ```:``` para el símbolo $:$\n",
        "+ Se escribe ```\\leq``` para el símbolo $\\leq$\n",
        "+ Se escribe ```\\ll``` para el símbolo $\\ll$\n",
        "+ Se escribe ```\\geq``` para el símbolo $\\geq$\n",
        "+ Se escribe ```\\gg``` para el símbolo $\\gg$\n",
        "+ Se escribe ```\\subset``` para el símbolo $\\subset$\n",
        "+ Se escribe ```\\subseteq``` para el símbolo $\\subseteq$\n",
        "+ Se escribe ```\\nsubseteq``` para el símbolo $\\nsubseteq$\n",
        "+ Se escribe ```\\supset``` para el símbolo $\\supset$\n",
        "+ Se escribe ```\\supseteq``` para el símbolo $\\supseteq$\n",
        "+ Se escribe ```\\nsupseteq``` para el símbolo $\\nsupseteq$\n",
        "+ Se escribe ```\\sqsubset``` para el símbolo $\\sqsubset$\n",
        "+ Se escribe ```\\sqsubseteq``` para el símbolo $\\sqsubseteq$\n",
        "+ Se escribe ```\\sqsupset``` para el símbolo $\\sqsupset$\n",
        "+ Se escribe ```\\sqsupseteq``` para el símbolo $\\sqsupseteq$\n",
        "+ Se escribe ```\\preceq``` para el símbolo $\\preceq$\n",
        "+ Se escribe ```\\succeq``` para el símbolo $\\succeq$\n",
        "+ Se escribe ```\\because``` para el símbolo $\\because$\n",
        "+ Se escribe ```\\sim``` para el símbolo $\\sim$\n",
        "+ Se escribe ```\\simeq``` para el símbolo $\\simeq$\n",
        "+ Se escribe ```\\approx``` para el símbolo $\\approx$"
      ]
    },
    {
      "cell_type": "markdown",
      "id": "fb086422-80c4-47d6-903f-866b91e29d4f",
      "metadata": {
        "id": "fb086422-80c4-47d6-903f-866b91e29d4f"
      },
      "source": [
        "## <font color=\"DeepPink\"> **Símbolos de puntuación**</font>\n",
        "\n"
      ]
    },
    {
      "cell_type": "markdown",
      "source": [
        "<p align=\"justify\">\n",
        "✅ Algunos simbolos de puntuación..."
      ],
      "metadata": {
        "id": "jqhIQOV0V0e0"
      },
      "id": "jqhIQOV0V0e0"
    },
    {
      "cell_type": "markdown",
      "id": "b851334f-2dd3-4328-ae3d-2a7097d5bbe7",
      "metadata": {
        "id": "b851334f-2dd3-4328-ae3d-2a7097d5bbe7"
      },
      "source": [
        "+ Se escribe ```\\dots``` para el símbolo $\\dots$\n",
        "+ Se escribe ```\\cdots``` para el símbolo $\\cdots$ y quedan centrados en la línea\n",
        "+ Se escribe ```\\vdots``` para el símbolo $\\vdots$\n",
        "+ Se escribe ```\\ddots``` para el símbolo $\\ddots$"
      ]
    },
    {
      "cell_type": "markdown",
      "id": "db7b7924-f8a4-4530-9fe6-a807ac05f179",
      "metadata": {
        "id": "db7b7924-f8a4-4530-9fe6-a807ac05f179"
      },
      "source": [
        "## <font color=\"DeepPink\"> **Operadores** </font>\n",
        "\n"
      ]
    },
    {
      "cell_type": "markdown",
      "source": [
        "<p align=\"justify\">\n",
        "✅ Algunos operadores..."
      ],
      "metadata": {
        "id": "d4h7KH6eJOoZ"
      },
      "id": "d4h7KH6eJOoZ"
    },
    {
      "cell_type": "markdown",
      "id": "3c96aef8-dd99-4d82-b6d1-a3ca987ccc04",
      "metadata": {
        "id": "3c96aef8-dd99-4d82-b6d1-a3ca987ccc04"
      },
      "source": [
        "+ Se escribe ```\\times``` para el símbolo $\\times$\n",
        "+ Se escribe ```\\div``` para el símbolo $\\div$\n",
        "+ Se escribe ```\\ast``` para el símbolo $\\ast$\n",
        "+ Se escribe ```\\star``` para el símbolo $\\star$\n",
        "+ Se escribe ```\\vee``` para el símbolo $\\vee$\n",
        "+ Se escribe ```\\wedge``` para el símbolo $\\wedge$\n",
        "+ Se escribe ```\\cdot``` para el símbolo $\\cdot$\n",
        "+ Se escribe ```\\bullet``` para el símbolo $\\bullet$\n",
        "+ Se escribe ```\\otimes``` para el símbolo $\\otimes$\n",
        "+ Se escribe ```\\odot``` para el símbolo $\\odot$\n",
        "+ Se escribe ```\\setminus``` para el símbolo $\\setminus$\n",
        "+ Se escribe ```\\diamond``` para el símbolo $\\diamond$\n",
        "+ Se escribe ```\\bigtriangleup``` para el símbolo $\\bigtriangleup$\n",
        "+ Se escribe ```\\bigtriangledown``` para el símbolo $\\bigtriangledown$\n",
        "+ Se escribe ```\\boxdot``` para el símbolo $\\boxdot$\n",
        "+ Se escribe ```\\circ``` para el símbolo $\\circ$\n",
        "+ Se escribe ```\\bigcirc``` para el símbolo $\\bigcirc$\n",
        "+ Se escribe ```\\boxminus``` para el símbolo $\\boxminus$\n",
        "+ Se escribe ```\\boxplus``` para el símbolo $\\boxplus$\n",
        "+ Se escribe ```\\boxtimes``` para el símbolo $\\boxtimes$"
      ]
    },
    {
      "cell_type": "markdown",
      "id": "a52ec133-4b78-4fdd-8288-a0651f405b20",
      "metadata": {
        "id": "a52ec133-4b78-4fdd-8288-a0651f405b20"
      },
      "source": [
        "## <font color=\"DeepPink\"> **Símbolos de notaciones lógicas**</font>\n",
        "\n"
      ]
    },
    {
      "cell_type": "markdown",
      "source": [
        "<p align=\"justify\">\n",
        "✅ Algunos símbolos para notaciones lógicas"
      ],
      "metadata": {
        "id": "meLxV9DPWFoU"
      },
      "id": "meLxV9DPWFoU"
    },
    {
      "cell_type": "markdown",
      "id": "f7bedbe6-bb05-4301-b756-bc989b2b185b",
      "metadata": {
        "id": "f7bedbe6-bb05-4301-b756-bc989b2b185b"
      },
      "source": [
        "+ Se escribe ```\\exists``` para el símbolo $\\exists$\n",
        "+ Se escribe ```\\nexists``` para el símbolo $\\nexists$\n",
        "+ Se escribe ```\\forall``` para el símbolo $\\forall$\n",
        "+ Se escribe ```\\subset``` para el símbolo $\\subset$\n",
        "+ Se escribe ```\\supset``` para el símbolo $\\supset$\n",
        "+ Se escribe ```\\in``` para el símbolo $\\in$\n",
        "+ Se escribe ```\\notin``` para el símbolo $\\notin$\n",
        "+ Se escribe ```\\ni``` para el símbolo $\\ni$\n",
        "+ Se escribe ```\\implies``` para el símbolo $\\implies$"
      ]
    },
    {
      "cell_type": "markdown",
      "id": "8211c63f-87ec-476a-b9ad-d4968cf6194c",
      "metadata": {
        "id": "8211c63f-87ec-476a-b9ad-d4968cf6194c"
      },
      "source": [
        "## 🔤 <font color=\"DeepPink\">**Letras griegas en minuscula**</font>"
      ]
    },
    {
      "cell_type": "markdown",
      "id": "61517fb6-023f-4270-b45f-5ae58fa63c92",
      "metadata": {
        "id": "61517fb6-023f-4270-b45f-5ae58fa63c92"
      },
      "source": [
        "+ La letra alfa se escribe ```\\alpha``` y se visualiza $\\alpha$\n",
        "+ La letra beta se escribe ```\\beta``` y se visualiza $\\beta$\n",
        "+ La letra gama se escribe ```\\gamma``` y se visualiza $\\gamma$\n",
        "+ La letra delta se escribe ```\\delta``` y se visualiza $\\delta$\n",
        "+ La letra epsilon se escribe ```\\epsilon``` y se visualiza $\\epsilon$\n",
        "+ La letra zeta se escribe ```\\zeta``` y se visualiza $\\zeta$\n",
        "+ La letra eta se escribe ```\\eta``` y se visualiza $\\eta$\n",
        "+ La letra theta se escribe ```\\theta``` y se visualiza $\\theta$\n",
        "+ La letra iota se escribe ```\\iota``` y se visualiza $\\iota$\n",
        "+ La letra kapa se escribe ```\\kappa``` y se visualiza $\\kappa$\n",
        "+ La letra lambda se escribe ```\\lambda``` y se visualiza $\\lambda$\n",
        "+ La letra mu se escribe ```\\mu``` y se visualiza $\\mu$\n",
        "+ La letra nu se escribe ```\\nu``` y se visualiza $\\nu$\n",
        "+ La letra xi se escribe ```\\xi``` y se visualiza $\\xi$\n",
        "+ La letra pi se escribe ```\\pi``` y se visualiza $\\pi$\n",
        "+ La letra rho se escribe ```\\rho``` y se visualiza $\\rho$\n",
        "+ La letra sigma se escribe ```\\sigma``` y se visualiza $\\sigma$\n",
        "+ La letra tau se escribe ```\\tau``` y se visualiza $\\tau$\n",
        "+ La letra upsilon se escribe ```\\upsilon``` y se visualiza $\\upsilon$\n",
        "+ La letra phi se escribe ```\\phi``` y se visualiza $\\phi$\n",
        "+ La letra chi se escribe ```\\chi``` y se visualiza $\\chi$\n",
        "+ La letra psi se escribe ```\\psi``` y se visualiza $\\psi$\n",
        "+ La letra omega se escribe ```\\omega``` y se visualiza $\\omega$\n",
        "+ La letra digamma se escribe ```\\digamma``` y se visualiza $\\digamma$\n",
        "+ La letra varepsilon se escribe ```\\varepsilon``` y se visualiza $\\varepsilon$\n",
        "+ La letra vartheta se escribe ```\\vartheta``` y se visualiza $\\vartheta$\n",
        "+ La letra varkappa se escribe ```\\varkappa``` y se visualiza $\\varkappa$\n",
        "+ La letra varpi se escribe ```\\varpi``` y se visualiza $\\varpi$\n",
        "+ La letra varrho se escribe ```\\varrho``` y se visualiza $\\varrho$\n",
        "+ La letra varsigma se escribe ```\\varsigma``` y se visualiza $\\varsigma$\n",
        "+ La letra varphi se escribe ```\\varphi``` y se visualiza $\\varphi$\n",
        "\n",
        "\n",
        "\n",
        "\n",
        "\n"
      ]
    },
    {
      "cell_type": "markdown",
      "source": [
        "## 🔤 <font color=\"DeepPink\">**Letras griegas en mayuscula**</font>"
      ],
      "metadata": {
        "id": "yWkli87eQppc"
      },
      "id": "yWkli87eQppc"
    },
    {
      "cell_type": "markdown",
      "source": [
        "+ La letra alfa se escribe ```A``` y se visualiza $A$\n",
        "+ La letra beta se escribe ```B``` y se visualiza $B$\n",
        "+ La letra gama se escribe ```\\Gamma``` y se visualiza $\\Gamma$\n",
        "+ La letra delta se escribe ```\\D``` y se visualiza $D$\n",
        "+ La letra epsilon se escribe ```E``` y se visualiza $E$\n",
        "+ La letra zeta se escribe ```Z``` y se visualiza $Z$\n",
        "+ La letra eta se escribe ```H``` y se visualiza $H$\n",
        "+ La letra theta se escribe ```\\Theta``` y se visualiza $\\Theta$\n",
        "+ La letra iota se escribe ```I``` y se visualiza $I$\n",
        "+ La letra kapa se escribe ```K``` y se visualiza $K$\n",
        "+ La letra lambda se escribe ```\\Lambda``` y se visualiza $\\Lambda$\n",
        "+ La letra mu se escribe ```M``` y se visualiza $M$\n",
        "+ La letra nu se escribe ```N``` y se visualiza $N$\n",
        "+ La letra xi se escribe ```\\Xi``` y se visualiza $\\Xi$\n",
        "+ La letra pi se escribe ```\\Pi``` y se visualiza $\\Pi$\n",
        "+ La letra rho se escribe ```R``` y se visualiza $R$\n",
        "+ La letra sigma se escribe ```\\Sigma``` y se visualiza $\\Sigma$\n",
        "+ La letra tau se escribe ```T``` y se visualiza $T$\n",
        "+ La letra upsilon se escribe ```\\Upsilon``` y se visualiza $\\Upsilon$\n",
        "+ La letra phi se escribe ```\\Phi``` y se visualiza $\\Phi$\n",
        "+ La letra chi se escribe ```X``` y se visualiza $X$\n",
        "+ La letra psi se escribe ```\\Psi``` y se visualiza $\\Psi$\n",
        "+ La letra omega se escribe ```\\Omega``` y se visualiza $\\Omega$\n",
        "+ La letra vargamma se escribe ```\\varGamma``` y se visualiza $\\varGamma$\n",
        "+ La letra vardelta se escribe ```\\varDelta``` y se visualiza $\\varDelta$\n",
        "+ La letra vartheta se escribe ```\\varTheta``` y se visualiza $\\varTheta$\n",
        "+ La letra varpi se escribe ```\\varPi``` y se visualiza $\\varPi$\n",
        "+ La letra varsigma se escribe ```\\varSigma``` y se visualiza $\\varSigma$\n",
        "+ La letra varphi se escribe ```\\varPhi``` y se visualiza $\\varPhi$\n",
        "+ La letra varomega se escribe ```\\varOmega``` y se visualiza $\\varOmega$\n",
        "\n"
      ],
      "metadata": {
        "id": "vbB1z7OvQw9f"
      },
      "id": "vbB1z7OvQw9f"
    },
    {
      "cell_type": "markdown",
      "source": [
        "## 👀 <font color=\"DeepPink\">**Algunos ejemplos de ecuaciones...**</font>"
      ],
      "metadata": {
        "id": "TYlhr6ZyUg_Z"
      },
      "id": "TYlhr6ZyUg_Z"
    },
    {
      "cell_type": "markdown",
      "source": [
        "<p align=\"justify\">\n",
        "1 Primer ejemplo:\n",
        "\n",
        "~~~latex\n",
        "$$y_t = \\frac{\\sum_{i=0}^t w_i x_{t-i}}{\\sum_{i=0}^t w_i}$$\n",
        "~~~\n",
        "\n",
        "$$y_t = \\frac{\\sum_{i=0}^t w_i x_{t-i}}{\\sum_{i=0}^t w_i}$$\n",
        "\n"
      ],
      "metadata": {
        "id": "RyiHG4VIUqrR"
      },
      "id": "RyiHG4VIUqrR"
    },
    {
      "cell_type": "markdown",
      "source": [
        "<p align=\"justify\">\n",
        "2 Segundo ejemplo:\n",
        "\n",
        "~~~latex\n",
        "$$y_t = \\frac{x_t + (1 - \\alpha)x_{t-1} + (1 - \\alpha)^2 x_{t-2} +(1 - \\alpha)^t x_{0}}{1 + (1 - \\alpha) + (1 - \\alpha)^2 + (1 - \\alpha)^t} $$\n",
        "~~~\n",
        "\n",
        "$$ y_t = \\frac{x_t + (1 - \\alpha)x_{t-1} + (1 - \\alpha)^2 x_{t-2} +(1 - \\alpha)^t x_{0}}{1 + (1 - \\alpha) + (1 - \\alpha)^2 + (1 - \\alpha)^t} $$\n",
        "\n"
      ],
      "metadata": {
        "id": "LblPJJ5zTniO"
      },
      "id": "LblPJJ5zTniO"
    },
    {
      "cell_type": "markdown",
      "source": [
        "<p align=\"justify\">\n",
        "3 Tercer ejemplo:\n",
        "\n",
        "~~~latex\n",
        "$$\\begin{split}y_0 &= x_0 \\\\\n",
        "y_t &= (1 - \\alpha) y_{t-1} + \\alpha x_t,\\end{split}$$\n",
        "~~~\n",
        "\n",
        "$$ \\begin{split}y_0 &= x_0 \\\\\n",
        "y_t &= (1 - \\alpha) y_{t-1} + \\alpha x_t,\\end{split}$$\n",
        "\n"
      ],
      "metadata": {
        "id": "dVH9wA6PTqhi"
      },
      "id": "dVH9wA6PTqhi"
    },
    {
      "cell_type": "markdown",
      "source": [
        "<p align=\"justify\">\n",
        "4 Cuarto ejemplo:\n",
        "\n",
        "~~~latex\n",
        "$$\\begin{split}w_j = \\begin{cases}\n",
        "    \\alpha (1 - \\alpha)^j & \\text{si } j < t \\\\\n",
        "    (1 - \\alpha)^j        & \\text{si } j = t.\n",
        "\\end{cases}\\end{split}$$\n",
        "~~~\n",
        "\n",
        "$$\\begin{split}w_j = \\begin{cases}\n",
        "    \\alpha (1 - \\alpha)^j & \\text{si } j < t \\\\\n",
        "    (1 - \\alpha)^j        & \\text{si } j = t.\n",
        "\\end{cases}\\end{split}$$\n"
      ],
      "metadata": {
        "id": "x54ky_30TszP"
      },
      "id": "x54ky_30TszP"
    },
    {
      "cell_type": "markdown",
      "id": "57eb80af-b4cb-43f5-87df-3280ecff796f",
      "metadata": {
        "id": "57eb80af-b4cb-43f5-87df-3280ecff796f"
      },
      "source": [
        "<p align=\"center\">\n",
        "<img src=\"https://www.latex-project.org/img/latex-project-logo.svg\" width=\"300\" height=\"\" >\n",
        "</p>"
      ]
    },
    {
      "cell_type": "markdown",
      "id": "27edb042-13a0-4e39-939e-e009eae00a9b",
      "metadata": {
        "id": "27edb042-13a0-4e39-939e-e009eae00a9b"
      },
      "source": [
        "<br>\n",
        "<br>\n",
        "<p align=\"center\"><b>\n",
        "💗\n",
        "<font color=\"DeepPink\">\n",
        "Hemos llegado al fin de este cuaderno, felicitaciones hemos aprendido un poco de $\\LaTeX{}$ para poder mejorar nuestras celdas de texto, ahora a seguir en el proximo cuaderno...\n",
        "</font>\n",
        "</p>\n"
      ]
    },
    {
      "cell_type": "markdown",
      "source": [
        "![](https://everisgroup.sharepoint.com/sites/BrandCenter/Shared%20Documents/Logo/FUTURE%20AT%20HEART/BLACK/FUTURE-HEARTH.png)"
      ],
      "metadata": {
        "id": "JXvC-5xx3qYA"
      },
      "id": "JXvC-5xx3qYA"
    }
  ],
  "metadata": {
    "kernelspec": {
      "display_name": "Python 3 (ipykernel)",
      "language": "python",
      "name": "python3"
    },
    "language_info": {
      "codemirror_mode": {
        "name": "ipython",
        "version": 3
      },
      "file_extension": ".py",
      "mimetype": "text/x-python",
      "name": "python",
      "nbconvert_exporter": "python",
      "pygments_lexer": "ipython3",
      "version": "3.10.2"
    },
    "colab": {
      "provenance": [],
      "include_colab_link": true
    }
  },
  "nbformat": 4,
  "nbformat_minor": 5
}
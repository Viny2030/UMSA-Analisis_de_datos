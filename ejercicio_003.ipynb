{
  "nbformat": 4,
  "nbformat_minor": 0,
  "metadata": {
    "colab": {
      "provenance": []
    },
    "kernelspec": {
      "name": "python3",
      "display_name": "Python 3"
    },
    "language_info": {
      "name": "python"
    }
  },
  "cells": [
    {
      "cell_type": "markdown",
      "source": [
        "![umsa.png](data:image/png;base64,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)"
      ],
      "metadata": {
        "id": "t9Byqv9vIdZk"
      }
    },
    {
      "cell_type": "markdown",
      "source": [
        "# **<font color=\"DarkBlue\">Ejercicios de estructuras de datos y secuencias 💗</font>**"
      ],
      "metadata": {
        "id": "ZJ8MFCRegkBU"
      }
    },
    {
      "cell_type": "markdown",
      "source": [
        "<p align=\"center\">\n",
        "<img src=\"https://pypi.org/static/images/logo-small.8998e9d1.svg\" width=\"90\" height=\"\">\n",
        "</p>"
      ],
      "metadata": {
        "id": "gjpEYi_23t-3"
      }
    },
    {
      "cell_type": "markdown",
      "source": [
        "## **<font color=\"DarkBlue\">Ejercicio 1: Productos y Precios</font>**"
      ],
      "metadata": {
        "id": "ZiHPlFwRnqdY"
      }
    },
    {
      "cell_type": "markdown",
      "source": [
        "Tarea: Tienes una lista de productos y sus precios almacenados en tuplas. Imprime el nombre del producto y su precio."
      ],
      "metadata": {
        "id": "Gg4K_0MVpdOS"
      }
    },
    {
      "cell_type": "code",
      "source": [
        "productos = [(\"Laptop\", 1000), (\"Teléfono\", 500), (\"Tablet\", 300)]"
      ],
      "metadata": {
        "id": "o6vCIAz9nzfq"
      },
      "execution_count": null,
      "outputs": []
    },
    {
      "cell_type": "code",
      "source": [
        "# Completa el código...\n",
        "for ...:\n",
        "    print(f\"Producto: {...}, Precio: ${...}\")\n"
      ],
      "metadata": {
        "id": "ebT2dBtx5tSl"
      },
      "execution_count": null,
      "outputs": []
    },
    {
      "cell_type": "markdown",
      "source": [
        "## **<font color=\"DarkBlue\">Ejercicio 2: Ventas de la Semana</font>**"
      ],
      "metadata": {
        "id": "N1lFpAnWpjmt"
      }
    },
    {
      "cell_type": "markdown",
      "source": [
        "Tarea: Dada una lista de tuplas donde cada tupla contiene el nombre de un producto y el número de unidades vendidas, calcula el total de unidades vendidas."
      ],
      "metadata": {
        "id": "-nAuKvYVprIq"
      }
    },
    {
      "cell_type": "code",
      "source": [
        "ventas_semanales = [(\"Laptop\", 10), (\"Teléfono\", 15), (\"Tablet\", 7)]"
      ],
      "metadata": {
        "id": "QNNlluD_prkV"
      },
      "execution_count": null,
      "outputs": []
    },
    {
      "cell_type": "code",
      "source": [
        "# Completa el código\n",
        "total_unidades_vendidas = ..."
      ],
      "metadata": {
        "id": "AblM_866qBUf"
      },
      "execution_count": null,
      "outputs": []
    },
    {
      "cell_type": "code",
      "source": [
        "# Completa el código para imprimir\n",
        "print(...)"
      ],
      "metadata": {
        "id": "0UK1_NKb6dMU"
      },
      "execution_count": null,
      "outputs": []
    },
    {
      "cell_type": "markdown",
      "source": [
        "## **<font color=\"DarkBlue\">Ejercicio 3: Lista de Clientes</font>**"
      ],
      "metadata": {
        "id": "hEeVDYqKpsDC"
      }
    },
    {
      "cell_type": "markdown",
      "source": [
        "Tarea: Crea una lista de clientes y agrega tres nombres nuevos a la lista. Luego, imprime la lista completa de clientes.\n"
      ],
      "metadata": {
        "id": "a4iAaTJppsgc"
      }
    },
    {
      "cell_type": "code",
      "source": [
        "clientes = [\"Ana\", \"Luis\", \"Marta\"]\n",
        "nuevos_clientes = [\"Juan\", \"Pedro\", \"Maria\"]"
      ],
      "metadata": {
        "id": "ywUVb7_WptE9"
      },
      "execution_count": null,
      "outputs": []
    },
    {
      "cell_type": "code",
      "source": [
        "# Completa el código para agregar los nuevos clientes a la lista clientes\n",
        "clientes"
      ],
      "metadata": {
        "id": "pNA-m_mA8naS"
      },
      "execution_count": null,
      "outputs": []
    },
    {
      "cell_type": "code",
      "source": [
        "# Completa el código\n",
        "print(...)"
      ],
      "metadata": {
        "id": "tuyOb5318qdh"
      },
      "execution_count": null,
      "outputs": []
    },
    {
      "cell_type": "markdown",
      "source": [
        "## **<font color=\"DarkBlue\">Ejercicio 4: Actualizar Inventario</font>**"
      ],
      "metadata": {
        "id": "EwY5EFITXmC0"
      }
    },
    {
      "cell_type": "markdown",
      "source": [
        "Tarea: Dada una lista de productos en inventario, elimina un producto específico (por ejemplo, \"Tablet\") y luego imprime la lista actualizada.\n"
      ],
      "metadata": {
        "id": "xGM2sVVpXsFG"
      }
    },
    {
      "cell_type": "code",
      "source": [
        "inventario = [\"Laptop\", \"Teléfono\", \"Tablet\", \"Monitor\"]"
      ],
      "metadata": {
        "id": "cU58c0MpYAs3"
      },
      "execution_count": null,
      "outputs": []
    },
    {
      "cell_type": "code",
      "source": [
        "# Completa el código\n",
        "inventario"
      ],
      "metadata": {
        "id": "ODoANSmTYBgW"
      },
      "execution_count": null,
      "outputs": []
    },
    {
      "cell_type": "code",
      "source": [
        "# Completa el código\n",
        "print(...)"
      ],
      "metadata": {
        "id": "ZnlkQwI7YIKn"
      },
      "execution_count": null,
      "outputs": []
    },
    {
      "cell_type": "markdown",
      "source": [
        "## **<font color=\"DarkBlue\">Ejercicio 5: Información de Empleados</font>**"
      ],
      "metadata": {
        "id": "00oN-DdCYLWb"
      }
    },
    {
      "cell_type": "markdown",
      "source": [
        "Tarea: Crea un diccionario con la información de tres empleados (nombre, edad, puesto). Imprime el nombre y puesto de cada empleado.\n"
      ],
      "metadata": {
        "id": "9WUhMCldYL7k"
      }
    },
    {
      "cell_type": "code",
      "source": [
        "empleados = {\n",
        "    \"Ana\": {\"edad\": 30, \"puesto\": \"Gerente\"},\n",
        "    \"Luis\": {\"edad\": 25, \"puesto\": \"Analista\"},\n",
        "    \"Marta\": {\"edad\": 28, \"puesto\": \"Desarrolladora\"}}"
      ],
      "metadata": {
        "id": "zNjF2cxCbwN3"
      },
      "execution_count": null,
      "outputs": []
    },
    {
      "cell_type": "code",
      "source": [
        "# Completa el código\n",
        "for ... in empleados.items():\n",
        "    print(f\"Empleado: {...}, Puesto: {...['puesto']}\")"
      ],
      "metadata": {
        "id": "PX1ukLqFb0f_"
      },
      "execution_count": null,
      "outputs": []
    },
    {
      "cell_type": "markdown",
      "source": [
        "## **<font color=\"DarkBlue\">Ejercicio 6: Actualizar Precios</font>**"
      ],
      "metadata": {
        "id": "OoKQRS6hcygJ"
      }
    },
    {
      "cell_type": "markdown",
      "source": [
        "Tarea: Dado un diccionario con productos y sus precios, actualiza el precio de un producto específico (por ejemplo, \"Teléfono\") y luego imprime el diccionario actualizado.\n"
      ],
      "metadata": {
        "id": "UgKfYFL_c36s"
      }
    },
    {
      "cell_type": "code",
      "source": [
        "precios = {\"Laptop\": 1000, \"Teléfono\": 500, \"Tablet\": 300}"
      ],
      "metadata": {
        "id": "1CtcO7wzc5bq"
      },
      "execution_count": null,
      "outputs": []
    },
    {
      "cell_type": "code",
      "source": [
        "# Completa el código\n",
        "precios[\"Teléfono\"] = ..."
      ],
      "metadata": {
        "id": "rAq5Pc-wdUH4"
      },
      "execution_count": null,
      "outputs": []
    },
    {
      "cell_type": "code",
      "source": [
        "# Completa el código\n",
        "print(...)"
      ],
      "metadata": {
        "id": "xN3f-PWwdVlq"
      },
      "execution_count": null,
      "outputs": []
    },
    {
      "cell_type": "markdown",
      "source": [
        "## **<font color=\"DarkBlue\">Ejercicio 7: Clientes Únicos</font>**"
      ],
      "metadata": {
        "id": "_MUEBFpUddhU"
      }
    },
    {
      "cell_type": "markdown",
      "source": [
        "Tarea: Dadas dos listas de clientes (clientes que compraron en enero y en febrero), crea conjuntos para cada lista y encuentra los clientes que compraron en ambos meses.\n"
      ],
      "metadata": {
        "id": "Q99hDB2_dqTG"
      }
    },
    {
      "cell_type": "code",
      "source": [
        "enero = {\"Ana\", \"Luis\", \"Marta\", \"Fernando\", \"Gustavo\", \"Emiliano\", \"Sofia\"}\n",
        "febrero = {\"Marta\", \"Carlos\", \"Luis\", \"Sofia\", \"Fernanda\", \"Augusto\", \"Juan\"}"
      ],
      "metadata": {
        "id": "8K0j8dTadp2N"
      },
      "execution_count": null,
      "outputs": []
    },
    {
      "cell_type": "code",
      "source": [
        "# Completa el código\n",
        "clientes_comunes = ..."
      ],
      "metadata": {
        "id": "QLL-55D5d3X8"
      },
      "execution_count": null,
      "outputs": []
    },
    {
      "cell_type": "code",
      "source": [
        "# Completa el código\n",
        "print(...)"
      ],
      "metadata": {
        "id": "95aQf1Sbd5PO"
      },
      "execution_count": null,
      "outputs": []
    },
    {
      "cell_type": "markdown",
      "source": [
        "## **<font color=\"DarkBlue\">Ejercicio 8: Nuevos Clientes</font>**"
      ],
      "metadata": {
        "id": "zEX5Z-1OeNiK"
      }
    },
    {
      "cell_type": "markdown",
      "source": [
        "Tarea: Dadas dos listas de clientes (clientes que compraron en enero y en febrero), encuentra los clientes que solo compraron en febrero."
      ],
      "metadata": {
        "id": "LhKEObcqeR8q"
      }
    },
    {
      "cell_type": "code",
      "source": [
        "enero = {\"Ana\", \"Luis\", \"Marta\", \"Fernando\", \"Gustavo\", \"Ludmila\", \"Sol\"}\n",
        "febrero = {\"Marta\", \"Carlos\", \"Luis\", \"Fernando\", \"Cristian\", \"Ludmila\"}"
      ],
      "metadata": {
        "id": "QOtjw6uVeVw7"
      },
      "execution_count": null,
      "outputs": []
    },
    {
      "cell_type": "code",
      "source": [
        "# Completa el código\n",
        "nuevos_clientes = ..."
      ],
      "metadata": {
        "id": "jTwCue8NeWNY"
      },
      "execution_count": null,
      "outputs": []
    },
    {
      "cell_type": "code",
      "source": [
        "# Completa el código\n",
        "print(...)"
      ],
      "metadata": {
        "id": "XKMtcuWeeWtT"
      },
      "execution_count": null,
      "outputs": []
    },
    {
      "cell_type": "markdown",
      "source": [
        "## **<font color=\"DarkBlue\">Ejercicio 9: Enumerar Productos</font>**"
      ],
      "metadata": {
        "id": "SOigAHtFfPj8"
      }
    },
    {
      "cell_type": "markdown",
      "source": [
        "Tarea: Dada una lista de productos, enumera cada producto comenzando desde el número 1 e imprime la lista enumerada.\n"
      ],
      "metadata": {
        "id": "plnbAkbUfYNZ"
      }
    },
    {
      "cell_type": "code",
      "source": [
        "productos = [\"Laptop\", \"Teléfono\", \"Tablet\", \"Notebook\", \"Pc\", \"Teclado\", \"Impresora\"]"
      ],
      "metadata": {
        "id": "HtrDPtypfly5"
      },
      "execution_count": null,
      "outputs": []
    },
    {
      "cell_type": "code",
      "source": [
        "# Completa el código\n",
        "for ... in enumerate(...):\n",
        "    print(...)"
      ],
      "metadata": {
        "id": "_h-FKN4_fqcd"
      },
      "execution_count": null,
      "outputs": []
    },
    {
      "cell_type": "markdown",
      "source": [
        "## **<font color=\"DarkBlue\">Ejercicio 10: Ordenar Ventas</font>**"
      ],
      "metadata": {
        "id": "7j5gDfjagC0o"
      }
    },
    {
      "cell_type": "markdown",
      "source": [
        "Tarea: Dada una lista de ventas (donde cada venta es un diccionario con el nombre del producto y la cantidad vendida), ordena la lista por la cantidad vendida en orden descendente.\n"
      ],
      "metadata": {
        "id": "9WS4UwsggHht"
      }
    },
    {
      "cell_type": "code",
      "source": [
        "ventas = [{\"producto\": \"Laptop\", \"cantidad\": 10}, {\"producto\": \"Teléfono\", \"cantidad\": 15}, {\"producto\": \"Tablet\", \"cantidad\": 7}]"
      ],
      "metadata": {
        "id": "UqDDCBJZgH8Y"
      },
      "execution_count": null,
      "outputs": []
    },
    {
      "cell_type": "code",
      "source": [
        "# Completa el código\n",
        "ventas_ordenadas = sorted(... , key=lambda x: x[\"cantidad\"], reverse= ...)"
      ],
      "metadata": {
        "id": "dNw80XF0gkg2"
      },
      "execution_count": null,
      "outputs": []
    },
    {
      "cell_type": "code",
      "source": [
        "# Completa el código\n",
        "print(...)"
      ],
      "metadata": {
        "id": "UdkCjzlOgoRX"
      },
      "execution_count": null,
      "outputs": []
    },
    {
      "cell_type": "markdown",
      "source": [
        "## **<font color=\"DarkBlue\">Ejercicio 11: Invertir Lista de Productos</font>**"
      ],
      "metadata": {
        "id": "qo3lMmr6hEEd"
      }
    },
    {
      "cell_type": "markdown",
      "source": [
        "Tarea: Dada una lista de productos, invierte el orden de los productos en la lista e imprime la lista invertida.\n",
        "\n"
      ],
      "metadata": {
        "id": "Zx4MKRDHhOE3"
      }
    },
    {
      "cell_type": "code",
      "source": [
        "productos = [\"Laptop\", \"Teléfono\", \"Tablet\", \"Notebook\", \"Impresora\"]"
      ],
      "metadata": {
        "id": "Xbs0RxKahWkQ"
      },
      "execution_count": null,
      "outputs": []
    },
    {
      "cell_type": "code",
      "source": [
        "# Completa el código\n",
        "productos_invertidos = ..."
      ],
      "metadata": {
        "id": "ETDQgz5ChcoH"
      },
      "execution_count": null,
      "outputs": []
    },
    {
      "cell_type": "code",
      "source": [
        "# Completa el código\n",
        "print(...)"
      ],
      "metadata": {
        "id": "b54idN2Shemk"
      },
      "execution_count": null,
      "outputs": []
    },
    {
      "cell_type": "markdown",
      "source": [
        "## **<font color=\"DarkBlue\">Ejercicio 12: Combinar Listas de Productos y Precios</font>**"
      ],
      "metadata": {
        "id": "QXCJuMbshwoO"
      }
    },
    {
      "cell_type": "markdown",
      "source": [
        "Tarea: Dadas dos listas, una con nombres de productos y otra con sus precios, combina ambas listas en una lista de tuplas y luego imprime cada producto con su precio.\n"
      ],
      "metadata": {
        "id": "Vp1ILpYch92Y"
      }
    },
    {
      "cell_type": "code",
      "source": [
        "productos = [\"Laptop\", \"Teléfono\", \"Tablet\"]\n",
        "precios = [1000, 500, 300]"
      ],
      "metadata": {
        "id": "E5x5cMxQiHPo"
      },
      "execution_count": null,
      "outputs": []
    },
    {
      "cell_type": "code",
      "source": [
        "# Completa el código\n",
        "productos_precios = list(zip(...))"
      ],
      "metadata": {
        "id": "J_0KqimbiHyD"
      },
      "execution_count": null,
      "outputs": []
    },
    {
      "cell_type": "code",
      "source": [
        "# Completa el código\n",
        "for  in :\n",
        "    print(f\"Producto: {...}, Precio: ${...}\")"
      ],
      "metadata": {
        "id": "z0D0fwb4iPm7"
      },
      "execution_count": null,
      "outputs": []
    },
    {
      "cell_type": "markdown",
      "source": [
        "## **<font color=\"DarkBlue\">Ejercicio 13, ¿qué te parece?: 🍀 Filtrar Productos Caros 🍀</font>**"
      ],
      "metadata": {
        "id": "ilHQnfJfirjz"
      }
    },
    {
      "cell_type": "markdown",
      "source": [
        "Tarea: Dada una lista de productos con sus precios, utiliza comprensión de listas para crear una lista de productos que cuestan más de $500.\n",
        "\n"
      ],
      "metadata": {
        "id": "TmGUkgrOjLJn"
      }
    },
    {
      "cell_type": "code",
      "source": [
        "productos_precios = [(\"Laptop\", 1000), (\"Teléfono\", 500), (\"Tablet\", 300)]"
      ],
      "metadata": {
        "id": "70SIeGy7jRub"
      },
      "execution_count": null,
      "outputs": []
    },
    {
      "cell_type": "code",
      "source": [
        "# Completa el código\n",
        "productos_caros = [producto for producto, precio in ... if ... > 500]"
      ],
      "metadata": {
        "id": "Ty3GnYB0jRU1"
      },
      "execution_count": null,
      "outputs": []
    },
    {
      "cell_type": "code",
      "source": [
        "# Completa el código\n",
        "print()"
      ],
      "metadata": {
        "id": "_tCeOf9Bjf1e"
      },
      "execution_count": null,
      "outputs": []
    },
    {
      "cell_type": "markdown",
      "source": [
        "<p align=\"center\"><b>\n",
        "💗\n",
        "<font color=\"DarkBlue\">\n",
        "Hemos llegado al final de nuestra ejercitación en colab, a seguir ejercitando...\n",
        "</font>\n",
        "</p>\n",
        "\n"
      ],
      "metadata": {
        "id": "jLFcCFoEuxr6"
      }
    }
  ]
}
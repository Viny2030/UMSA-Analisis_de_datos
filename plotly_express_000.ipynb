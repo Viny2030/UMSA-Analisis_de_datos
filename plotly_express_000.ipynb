{
  "nbformat": 4,
  "nbformat_minor": 0,
  "metadata": {
    "colab": {
      "provenance": []
    },
    "kernelspec": {
      "name": "python3",
      "display_name": "Python 3"
    },
    "language_info": {
      "name": "python"
    }
  },
  "cells": [
    {
      "cell_type": "markdown",
      "source": [
        "![umsa.png](data:image/png;base64,iVBORw0KGgoAAAANSUhEUgAAAOEAAADhCAMAAAAJbSJIAAAAolBMVEUGIFz///8AAFIAAE0AAEwAAE8AAEoAHlsAF1gAG1oADVUAE1cAAFMAEFYAGVkAClQABlPf4efT1d35+vyytsWqrr7m6O2MkqiboLOlqbrIy9UAAEeHjaW/ws7w8fQAAES6vcpXYINhaYlrc5FEUHl6gZslNGdfaImWm68cLmR2fZhNV30AADrY2uGJj6YxP24PJmA8SXQuPGwAAD8iMmYAADNtZ3XRAAAVVUlEQVR4nO1ca2OyutKVQLiKgFdAoSpaLW5b7X7O//9rZybhMij2eXTv98t7sj60FSHJymVmzSR0MFBQUFBQUFBQUFBQUFBQUFBQUFBQUFBQUFBQUFBQUFBQUFBQUFBQUFBQUFBQUFBQUFBQUFBQUFBQUFBQUPhfhmW7DDB0Pev/vjLOWBgEQQgVPmgNhxtCFnQujsQ178eSbc7unqu+4JvFbJ2tk8XBN9wfSI5MXTd/ruW3sM/rWXw8HuNZtu6laA3GM/h6HdOmjk5pfIzT4qfK7VOaHI/T+JaibW5SrUW0cB907WCgj7Uo0ubmE3zu28/busa89w4mv53Rdvh72bqf6tbT3lL5LtJuEPP+YXQu8vvr6ElW3Xa0FfWP4aDqg2NIroWxvLh5PIjOu7xlbtCrlhnf8gPkVi/F8NjTuU/DmDT1JP0FVXesXHKNrathN3ofQfCpvGWi06tmVlU2yZJkXY9mrvcWscyre41/Yo8Iw2OPUcA7ZD0lHS5+1n4zgSy7LtYhzTNq2sWSD4fMfJeE47CvCG9TF/Hjev8dzLxh2Bkl0qq5+HZr02v1U1nv2gWwZjZeneaiX1QzN6yqcswSP385fUXwery19FEtfwKjZfigp3Q5l06EIbFPv3ob16xe7Jq2WF5NmEE78nwBk7TXYFleU0RnHjyLaoQQB7v3jmpGkqEYOL+ah6b93RsseqZGfbGz4JfRA0tCitAW/Qvoj0AY7h4wHItv3wlDe9NW3tu9lt5OjWR4WxedDgPvoG16Kzbblv0jl0gY9q+GAZd+7UKYVO7wfkD6bsjqG5zv6sp7pyLv1EvQ3mkED3r/T0AYfjxgKBe8TxjyhFQ+7BlEYr+0cz2PG9o3lB5MnTVlOH3dJeqtwrD7lzOTDBllmJHKj/em3ivI93ntM4d1v8R/0NxaStXQX7Y1hOGw/47Ku1OLwqnwmtzbmmVHmNWarJYJ8MTvm+uuugxL/wVyAoRhv7AYMOGlO9LEnNDKP28NHRgPikHFh/i35W8pSjuzbQr5QT39BoThA3tVMaQ1DDsMcvOmvea58/2u8n6sndup/huVYp/wtug/bUkPrMS/xzAnDLtmTtP2XTEkW9dGSLWSGM5Ir5yMH1ssx3vPW5scv6priC19xHB2y9BHqXVuKdxoEkM40Pfm60XVAdSFQA9888ccpZ6Z6EQ85a9O05bh5I8Ziqgmu7at7ZgBOcKzZfNtLVmclrRA9qU/0u1Sz4CrJT7jh0jtX2FIwzxhFGd/j5vKO5JDDqFltkzq+WXcxr7p9cFclf4UlIGc8d1inmXY+OY/ZyiU6oK3lVPRLodwytuua1x+x01WHN/72i1VoTCfy1Y7PPDXTzB8MNElw0i/eabwiMkk6QxDrM+Lw5shbif4jZEVmPVMVSkURbeFbU7gRfndMny0lKUtJQytAC/sRm2ECnFJPYgjsTzXnPqGxsE7g44jrer9um25NZA9jo85H82NL8rv1nn/MUNJAtphtusqWlZfyiGEFUR8Q6u0va97htA9NypOjltloIx23Psl+r/AUJizc8tQOAtUQFS7VINoC/ZoFEh4R6Ij7xfR5O3DHYdqyXlVhTpEvq1fsjVtnubROpTO99yWLrpY9AcZxLOcQtKQYuNkPwjsiTMZ1RmqDjqCRRqkemnLNSHBXrE1hOGDaS6XPWEoVpiYtdQ4CnclDWmK7EmU3E009SRMu6pT9lKTGuCttHiQSfpTho80jcxiEIZC6MnkEInDRZ+bonEiXG3i3btE7MjckvBdgiyxShg0OxqkG1+yNYThg5hGOjaSutbxERmSkqmIgyj9sxyQNp14n0z3zO3NOJJOkN4pe2M1/m6b+EqoTxheHjAUd7QJPUvk2quZR4J5GETp7+R4EEk5v1/hnnnojCNZIvK5dNYgaXvjQd7rTxn2Z3ctX5bddLJcYNWScImaPjDxTWVzaJ6yz4Z5y44Qb7rX7Vy+xQu2hjDsz5dK70dyFdJ8Vylwizwf/Ud0du38SVzWPzsCj0icZiGa93aI4AVbQ6KnflVUxTxtUl8qgNrHBZ9t9VLA1vON2MAHrtoxW/Fe542J1O7DC7amlY8P9p4kIe1r1H2iST3yGyHWzATWBj77B0kWizczud40kN43Lcui2AoURbknE/d5W8NaB9zfP9UgL5sL0rg0E6/eAqvQRsOsTTn277wAgkawVC23HNmfzPc8G+F5nu8v2+nwfAxFA+++VEi1S0lMqbQ8zXjfpP32dzl8Mjus4KaG1qVU6VgpSaMb00SVxdMxFNHuvQuxamc7z+RCISlERtPDebvVR3xl5RCtQXK9oVjL4koUV5L01p5Y+m/3AH8A0e5907SKQNvjBNKaE5lOXHunk4gur+6GzrlNH9cMK2dUDdbodpzImu7fqPoJdAaUd/0TyElMVP19QMxJDo2skhFJ5Mj2u5/avF3PiGrZNctQdvf4LnNLQ9Ht0/ka4i8058bpOyN5neylSFNKhRiZ6HH/Ze1bPI8jUXYGsXbvZ4N2So/pJTno53PDNPs5dzuF21yyn5GGS1Pa2ZVtk9mdszHhbb+LvryQIbBq0XeVQ1hFVj0nbIjJ176fPprBib2fbMygXgW2/iUbMCezptqZ7fjOJozobnWSgywiZSqn5OS9UV527QWqobdc7XZ+1KBC4IV9KJMGpdHiyg1D1w2+qYfm435ztMulOjqjXTqWkghT0ah6xR8ZD3zPZ8ZXJdDSynhUrrVPmVF1qAXPi1Oz67W1PDqf2zzqN13arvQeXR9eTfSbLANZ4GJY2pmWHstin9RGPKv3PaouGfQRINZUWzwSED+An/rSJ7JxTsd2Vc387PazDMtvFghv/ZBwF0ZPog2LqglWY3zr7qsvSU4of+V8jW0sejnmpdn10VXEcLOdJ6x5emPkifQWksUreqpIP5r5XnnmfolnUf370maiFRjb7LaT08K4LYvl5ywbT26dkhnld6KYZXk0TrMsHUfaCYfX14txp/w8edebDnR2GhR9lrfeg2WT+VmWlkevJfgtjxtf+yQbR/N5dE6nnyfOe45/6hxg3Cl8sE5314YG3Mzgdr3anoAqhofjGms4p7P9lzmkE8Qx+otuShPfY2n/4Jyb40OLdEO0zL3TTv8GLDsUNUAF/j86cqigoKCgoPBvw/G8zvaWFCyjbsQvr1o+/pY/6XfwvOfCVcyNuViYhx/cgL4z4oRc59VLGrYnc0/iNngEbrzNUlHh4j+87c8InsqSHL30yvKCbTjEVGjCVaRm7YvCs77wJ/muKHeOV6zg6rYo9p87By7t8a/johg059rek/M8ygqx97Yt9u8WpvrgtqJcLY6L8mrSY47WgOhcf1Xf9ll8m8/v52OenqSlIYhB8QuR4J50ozHBLVTMHY65yCASgc8w5CHxDfQFbjKCKh2D1E0t0XvGUZuviqPMD2CIgp0qhXw+n6MonyRkZkCwuGtEj4F3Tarb8iN/Vg1h3u+7HUOoFfNFIwiri1YBGnOxhQQSP+Mig9gOIoQ9EOJiiurNNAz/e3N1xCcDJOASQqIcRzFcaOmb6zFLS0J5QvXDElmf/C8TA27zigmtUxOVmROS/YVOH/8tbjNO0JH5+5OZbwzMSNjJI7HXJcLaTTMj9LlQ9BDkrZnIMrX1Q5gEHYTJXKRiObYjs6giXcEKmVoaapqDvRgucMsDw3nM7cKj9d7biH9P2t0Ccay/OWENwXSdGbIN6PnJk2+EIUNyuJRHImCVgfu1Dp/0SATq0JuYksDYr04mWJ7I/wVHekSz5ivSNfCEfdBymUn0sf8x0YxV8owkJv1rG/+a0ZRseMG0ajsU++zJQwtQu9Y58iRST8AQ4+rvesskEr0IvYk5Ggx563wKLGMcFndBGSJf2QoYdXgCVwLJleLSxw6AxUuCPR0WrwwP7ZPmZ232l5/b4+LygG5vquNHhiSTzM+iUmBoQLMmlyrTdxZ1AENx+N6cN91tRCJZDo2mDBfV4Q7LErPU3oIBarkQhiS15sFNifjI09TctWsdGJIMG06AR9tZDxhubhieK4acQ0Ny6YH4eUoZYi3SOjnfcjQbhuI1LbdmuJxpuW7JTGG5rM/D481VdoowxA0C8RHW+cY2zk32FwwSYYipxedSit7tGI5rhhaYeG0u1hMfdxjiMRf5IgJYTV43+i8DYCNz/PQWgotPtMm7tDCYZSp16fP6GQ6W1aY/m8EEJSa+yxBPEjz3ohBYmkmHoXgcegqomQmufmHXZ0PCEE9+TjBLZhkTmTzFiScTPTgF8FNyjGFhzcJqT0LmIRPXe8zQzEVLwN/itDDzmleXIfrf81MMobO6DMWKg7mLg4fp4rF5zxDPd+Eyge6RuxrY6O1+/7mIMcONn1ACbPQmxc0+ZCby5D1mOBGJR1gCf8NkeFvVb3PcjKH76HXQR8D+Jgz1SDCEZS/cm5mKw/W3DPE8LC4TfVwtFmz00gfpGNar8i9Y32dyLN9hbIWjDHbwEUO5q4VDKVAnZrsM8UxR9tQ6vGFo5OsqCS8WoLUcg/9Z3jHEp94dsAlVZrFrS/GTwWAlTWmC1wrw7GIcPmCITYe6oebVXiCqtuNuLM2h9z2WH4BLun1By9Klxfb31SaQheJx+tctQ3TlM8aT+g3PPm9hgBLbd3rbWuZoJfq9BW65lz54+zNMBgAvqzfqugxRL+2ekqZofdsTks6XzCm7n/XZMicEwRuntS2td2Wg/yfcbHLUcP+9P8RTUteOiATT22VIbIY51iYMm1MltTHRLSIM8Idktwsmcc8xq59ghfQVNHaUAwqqpBYOI3G2VzAzGvsm9jOLotlwCjqaJpSaxvEm2kRMhTpsAIY4Sz+lbGVUtbkolALcyarjFhytXzIEaRceWz1/cB9Vpl811BlWEhBKb7Z+7W/CsOlNE2zNuYniQIlShokcJO8kz4F5+0KKPJBcoK6h+8QagJobhsHHBDfanF/tjMRXOfEDUd4W29XC5wmMgEA0ZLbj2EMeVQcFYBK2IZVbywh90vamOP/VnhACTujjGeO+3O4X05eDBJ8ZyP8Cg2bphVDNKMwvMnqav9n2yPaZWciNNj4lWxe4qRVa2K/p0pO3QaXx8yejXLBOk3jz/usEA1FpbehespyZiAHFicNGTqBfah0pcjrGSTJbj1e+CHGFfLPwoNo+xO3/lbe0YlhYlnxDCGcI7sDtt6fdppzlWl7A7LRG9LgF2p5jgOo9L/G2/XSiRadXNmbcy1TqkTzmlWFg2Zy+vspj6SXnZ7IiplFrtdlsHgnMc3D5bBbN38VcGL3n5/l1FCaignwvmh8m0RzP1vDx/AxPgOuLphvxHzD8zyhpPYHl5+fzcMDnEdyWTyb5OdmZr71P6jDzctqeLkZbOusmC9hOzFmdU/nEiVtihl7tDbniq3rjDPeUHFg/xtdhM6i368Lqa66LJ0yDs6rhPi0TRCHHEdOb2/hr/GRhtvfjkapXX49rC7BffO3l34Dvuq6wpr6LycDmvIfd/LLFnzYMhh/A2vfgvhEuxSCoIzUnCD3xS/6Gm8MAVLd8UFzx2v4XXB0oRPhcyw3DAIqDVrhVpZYHn0AEugNvNHBknIZfeEEQvLAt568Wx3jxxfCPRbwLjx+Son2oftn2FsWFfdg5fJHMfvnlYnHcjPwLmJaFDB5G78kM4lJ2BWNTojUxilky24SFSACULurAZmHbB1ikzhdUhmGxPzgmSbKzLwu4cLlsA4yQShYfV6tjzMqTd/qCB50rPK5DocnueVNjaOX7dzGJmZGXu+2XWf+rhCARioVPGJviGeswKfT1YrnYGuf4etgFh3zHWJHj4VNrlA94xnh8/mDhcR5aLEpcfs3exkmAghOEAUsbG2JEUDBEL+xjnDF/m28YO825rX2fikug7aA7Rme9PGXZqdTPR77VYPLYRRLycxKwy3j2NEUj39mOO9C+zPnGty2jVjNg88Ftgz75YDNsXRAflhPb9m2erkJ75Glf6PpKjHi8cry0QlBcJkxkc71eztIl/i8ilh3RsmagZuHPKnXnXNfgZka73PB2E8PRvqEYmw2GmjmyLQ80gWe5KfN4MuNYFTvMc+bYh4UhCrXeJk//LxBgOELlsFjOT2ArjfoUJ5uuY4jQ1uCCZti6ID4Z4/OHbrF0bzB3LzwXSHUw/M639mkEbC0UDxD9q4o52HrhWs70lwYPrevXSdnajErP2eV/L9czYyUPRVoDXfsb/+tSstc+bAYFhQl0KwOGxSGb6/ZhVVEbJs+Fhw1DPk7eonQ9vpj1+UeWWZrLpx/jUp9KhlfbSrXxhafj9fg7lqrZ1Apcaodc+3wbi2kNMZVZnf1HWkG84VHps/VRMrQu62EZGc5Vy8YlD2V7rQ/oqmm2ZpfkLdYcPh0ShuXb+LzcrN5koe7n/MGL579haM5XOIbcqsfQ8rK3bHZZv2VHU/zDp3B2dSzuROkbjCEPV0LiW6bcE/DMg3bNhLYDUf5XFa4gQ1g9cRYZzRiGyTROYCru8g/ty3aPImsXahzHkFkfU27OJiZhyMvSM6L0CgwP8qXE55IYNUPvXXMMoWMMsAsouZzrlF3wUM9sasaZju/eeQMwuKfzW7qCufehjfAdLpnugODBTIti8oZyMx6/ZVMd+wgWH9+v9HCpXTmsQyzWYuNlYE4z/Zq/FZprf2mYsdQ1g0FQYTnfwM3M5iD0wxn8QIar0rN4HpWGKHTwNv989q0EYwLLb5cXvg5WzYJZavkXEMZeGQccVpZ7HPN37aSDqWZhZpjTvTle8dEHW0QeY+85dqy3Kgx37hrpVA/5YfJhDyaFHrorI43f5iEuaRj4I3fAD7nHhY/r1ttohj6dcxbn75xxzfC1pXcZ7EAWWsszrMPhFGYEHx/5ce9BIKaVrjMpeKAn56fPmLLpLJ4mHy4o4uk0K3g2naYg8O1iaztfX469SQJvl6YwHAM/SacrHsRw395jm/Vstv7GDnWu6XoKwYixXyfTGXrpIJkm6y07lu84wZ1rxhfrKVrWIMGwgs22MEUsvt7afAPPTlfuBev93n36KEihF/wVaHg3LliJLyvY18J2hljo6oWDbSwMuNiHgOAHBCK+UIVLGvUI6gk7QGvOGFIJ2RBaEDCx12mzMGTSdzoQNomtUbgUCqESsABUJKgWV35vufAQ/i13PELbwWgF9SiUPWQ+/M2HzHKESLLwpy+SDV6li/AMoQXtZC//jwwFBQUFBQUFBQUFBQUFBQUFBQUFBQUFBQUFBQUFBQUFBQUFBQUFBQUFBQUFBQUFBQUFBQUFBQUFhf9v+C+p53mkzMfAWQAAAABJRU5ErkJggg==)"
      ],
      "metadata": {
        "id": "cFmvO5zW7P5R"
      }
    },
    {
      "cell_type": "markdown",
      "source": [
        " # **<font color=\"DarkBlue\">Conociendo Plotly</font>**"
      ],
      "metadata": {
        "id": "_fRBXj8mbrnO"
      }
    },
    {
      "cell_type": "markdown",
      "source": [
        "<p align=\"center\">\n",
        "<img src=\"https://plotly.com/all_static/images/graphing_library_dark.svg\" width=\"350\" height=\"\">\n",
        "</p>\n"
      ],
      "metadata": {
        "id": "XM-hn7ZLmgQc"
      }
    },
    {
      "cell_type": "markdown",
      "source": [
        "https://plotly.com/python/"
      ],
      "metadata": {
        "id": "R0L6T6BQCWR_"
      }
    },
    {
      "cell_type": "markdown",
      "source": [
        "<p align=\"justify\">\n",
        "📊 Plotly es una biblioteca de visualización de datos creada por la empresa Plotly Technologies Inc., fundada en 2012 por Alex Johnson, Chris Parmer, Jack Parmer y Matthew Conlen. Inicialmente, Plotly se desarrolló como una plataforma en línea para crear gráficos interactivos y compartirlos, pero rápidamente se expandió a una biblioteca de código abierto que permite a los usuarios crear gráficos interactivos directamente en sus aplicaciones de Python, R, MATLAB y JavaScript.\n",
        "<br><br>\n",
        "Plotly es ampliamente utilizada en diversos campos debido a su capacidad para generar gráficos de alta calidad y altamente interactivos. Entre sus características principales se incluyen la facilidad de integración con otras herramientas de análisis de datos, su compatibilidad con diversas plataformas de programación, y su soporte para una amplia variedad de tipos de gráficos, desde gráficos básicos como líneas y barras, hasta gráficos complejos como gráficos 3D y mapas geográficos.\n",
        "<br><br>\n",
        "En el ámbito de la economía y los negocios, Plotly se aplica en numerosas áreas:\n",
        "<br><br>\n",
        "\n",
        "1. **Análisis de Datos Financieros:** Plotly es utilizada para visualizar datos financieros, como el comportamiento de acciones, índices bursátiles, y otros indicadores económicos. La capacidad de crear gráficos interactivos permite a los analistas explorar diferentes escenarios y realizar análisis detallados de las tendencias del mercado.\n",
        "\n",
        "2. **Visualización de Datos Económicos:** Economistas y analistas de datos pueden usar Plotly para representar datos económicos complejos, como la distribución del PIB, tasas de desempleo, inflación, y otros indicadores macroeconómicos. Los gráficos interactivos facilitan la interpretación de los datos y la identificación de patrones.\n",
        "\n",
        "3. **Análisis de Marketing:** Plotly ayuda a visualizar datos de marketing, como la segmentación de clientes, análisis de campañas publicitarias, y comportamiento del consumidor. Esto permite a los profesionales de marketing tomar decisiones basadas en datos y optimizar sus estrategias.\n",
        "\n",
        "4. **Modelos Predictivos y Machine Learning:** Los profesionales de datos pueden utilizar Plotly para visualizar los resultados de modelos predictivos y de machine learning, facilitando la interpretación de las predicciones y la identificación de posibles mejoras en los modelos.\n",
        "\n",
        "5. **Dashboarding y Reportes:** Plotly es una herramienta poderosa para crear dashboards interactivos y reportes visuales que presentan los datos de manera clara y comprensible. Esto es especialmente útil para la toma de decisiones en tiempo real en entornos empresariales dinámicos.\n",
        "\n",
        "6. **Investigación Académica:** En el ámbito académico, Plotly es utilizada para la visualización de datos en investigaciones económicas y de negocios, facilitando la presentación de resultados de manera atractiva y accesible."
      ],
      "metadata": {
        "id": "txDCtF6o0aGN"
      }
    },
    {
      "cell_type": "markdown",
      "source": [
        " # **<font color=\"DarkBlue\">Usando la Librería Gráfica Plotly</font>**"
      ],
      "metadata": {
        "id": "_o8tuKydjnRZ"
      }
    },
    {
      "cell_type": "markdown",
      "source": [
        "<p align=\"justify\">\n",
        "📊 Plotly ofrece varias ventajas sobre otras bibliotecas gráficas, especialmente en el contexto de la visualización de datos interactiva y detallada.\n",
        "<br><br>\n",
        "A continuación, se destacan algunas de estas ventajas:\n",
        "<br><br>\n",
        "\n",
        "1. **Interactividad:**\n",
        "   - Plotly permite crear gráficos interactivos de manera sencilla, lo cual es una de sus características más destacadas. Los usuarios pueden hacer zoom, desplazar gráficos, y obtener información detallada al pasar el cursor sobre los elementos del gráfico.\n",
        "   - Esta interactividad mejora significativamente la exploración y el análisis de datos, permitiendo a los usuarios descubrir patrones y detalles que podrían pasar desapercibidos en gráficos estáticos.\n",
        "\n",
        "2. **Variedad de Gráficos:**\n",
        "   - Plotly soporta una amplia variedad de tipos de gráficos, desde gráficos básicos como líneas, barras y dispersión, hasta gráficos más avanzados como gráficos 3D, mapas geográficos (choropleth maps), gráficos de jerarquías (sunburst y treemap), y gráficos de flujo (sankey).\n",
        "   - Esta versatilidad permite a los usuarios elegir el mejor tipo de visualización para sus datos específicos.\n",
        "\n",
        "3. **Alta Calidad Visual:**\n",
        "   - Los gráficos de Plotly son conocidos por su alta calidad visual y su diseño estético. Esto es especialmente importante en presentaciones profesionales y reportes donde la claridad y el atractivo visual son cruciales.\n",
        "   - Además, los gráficos pueden ser fácilmente personalizados para adaptarse a las necesidades estéticas y de branding de la organización.\n",
        "\n",
        "5. **Compatibilidad y Exportación:**\n",
        "   - Los gráficos creados con Plotly pueden ser fácilmente exportados a varios formatos, como PNG, SVG, PDF, y HTML. Esto es útil para compartir gráficos en reportes, presentaciones y publicaciones en línea.\n",
        "   - Además, Plotly permite la incorporación de gráficos interactivos en sitios web y aplicaciones mediante la generación de código HTML embebible.\n",
        "\n",
        "6. **Soporte para Datos en Tiempo Real:**\n",
        "   - Plotly es capaz de manejar datos en tiempo real, lo cual es una ventaja significativa para aplicaciones que requieren monitoreo y visualización de datos dinámicos, como dashboards financieros, de ventas o de operaciones.\n",
        "\n",
        "7. **Comunidad y Soporte:**\n",
        "   - Plotly cuenta con una comunidad activa y una amplia documentación, lo que facilita el aprendizaje y la resolución de problemas. Además, Plotly ofrece servicios de soporte empresarial para organizaciones que requieren asistencia profesional.\n",
        "\n"
      ],
      "metadata": {
        "id": "nW9lN0L_nFT7"
      }
    },
    {
      "cell_type": "markdown",
      "source": [
        "<p align=\"justify\"> 👀 Por convención, así se importa <code>Plotly</code>:  </p>"
      ],
      "metadata": {
        "id": "riE9ZSRbOdsF"
      }
    },
    {
      "cell_type": "code",
      "source": [
        "import plotly.express as px"
      ],
      "metadata": {
        "id": "dQtWrchXqRb3"
      },
      "execution_count": null,
      "outputs": []
    },
    {
      "cell_type": "markdown",
      "source": [
        "<p align=\"justify\">\n",
        "<br>\n",
        "💗 En los siguientes colabs, empezaremos a ver como gráficar diferentes estructuras de datos..."
      ],
      "metadata": {
        "id": "iyr9N3SHQTP8"
      }
    },
    {
      "cell_type": "markdown",
      "source": [
        "<br>\n",
        "<br>\n",
        "<p align=\"center\"><b>\n",
        "💗\n",
        "<font color=\"DarkBlue\">\n",
        "Hemos llegado al final de nuestro colab, a seguir codeando...\n",
        "</font>\n",
        "</p>\n"
      ],
      "metadata": {
        "id": "oHeNh3M2QRvw"
      }
    }
  ]
}
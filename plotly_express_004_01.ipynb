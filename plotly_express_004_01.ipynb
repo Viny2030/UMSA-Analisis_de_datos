{
  "nbformat": 4,
  "nbformat_minor": 0,
  "metadata": {
    "colab": {
      "provenance": []
    },
    "kernelspec": {
      "name": "python3",
      "display_name": "Python 3"
    },
    "language_info": {
      "name": "python"
    }
  },
  "cells": [
    {
      "cell_type": "markdown",
      "source": [
        "![umsa.png](data:image/png;base64,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)"
      ],
      "metadata": {
        "id": "CobcYFgs794B"
      }
    },
    {
      "cell_type": "markdown",
      "source": [
        " # **<font color=\"DarkBlue\">Gráficos Jerárquicos</font>**"
      ],
      "metadata": {
        "id": "_fRBXj8mbrnO"
      }
    },
    {
      "cell_type": "markdown",
      "source": [
        "<p align=\"center\">\n",
        "<img src=\"https://plotly.com/all_static/images/graphing_library_dark.svg\" width=\"350\" height=\"\">\n",
        "</p>\n"
      ],
      "metadata": {
        "id": "XM-hn7ZLmgQc"
      }
    },
    {
      "cell_type": "markdown",
      "source": [
        " # **<font color=\"DarkBlue\">Generando un Sunburst Charts</font>**"
      ],
      "metadata": {
        "id": "_o8tuKydjnRZ"
      }
    },
    {
      "cell_type": "markdown",
      "source": [
        "<p align=\"justify\">\n",
        "Un <b>gráfico de sunburst</b> es una visualización jerárquica que representa datos en niveles concéntricos. Cada nivel de la jerarquía se muestra como un anillo que rodea el nivel anterior. Los segmentos de los anillos representan categorías en cada nivel y su tamaño refleja la proporción de los datos en comparación con el resto de los elementos del mismo nivel. Este tipo de gráfico permite analizar tanto la proporción de cada categoría dentro de su nivel como su relación con la jerarquía completa.\n",
        "<br><br>\n",
        "Los gráficos de sunburst son particularmente útiles cuando se desea visualizar la relación de los datos en categorías y subcategorías de manera clara y visualmente intuitiva.\n",
        "<br><br>\n",
        "Elementos Clave:\n",
        "<br><br>\n",
        "\n",
        "\n",
        "- **Niveles**: Cada anillo representa un nivel diferente en la jerarquía.\n",
        "- **Segmentos**: Los arcos dentro de cada anillo representan subcategorías.\n",
        "- **Tamaño Proporcional**: El tamaño de cada segmento refleja la proporción o cantidad de datos.\n",
        "\n",
        "\n",
        "\n"
      ],
      "metadata": {
        "id": "6v2bNCp_cpuC"
      }
    },
    {
      "cell_type": "markdown",
      "source": [
        "<p align=\"justify\"> 👀 Ejemplo:  \n",
        "<br><br>\n",
        "Imaginemos que una empresa global desea analizar la distribución de sus ventas en diferentes regiones, subdividida por países y, a su vez, por productos. Este análisis ayuda a identificar cuáles son los productos más vendidos en cada país y región.\n",
        "\n"
      ],
      "metadata": {
        "id": "riE9ZSRbOdsF"
      }
    },
    {
      "cell_type": "code",
      "source": [
        "# Importar las librerías necesarias\n",
        "import pandas as pd\n",
        "import plotly.express as px\n",
        "import numpy as np"
      ],
      "metadata": {
        "id": "dQtWrchXqRb3"
      },
      "execution_count": null,
      "outputs": []
    },
    {
      "cell_type": "code",
      "source": [
        "# Definimos los datos de ventas por Región, País y Producto\n",
        "datos = {\"Región\": [\"América\", \"América\", \"América\", \"Europa\", \"Europa\", \"Europa\", \"Asia\", \"Asia\", \"Asia\"],\n",
        "         \"País\": [\"USA\", \"USA\", \"Canadá\", \"Alemania\", \"Alemania\", \"Francia\", \"Japón\", \"Japón\", \"China\"],\n",
        "         \"Producto\": [\"Electrónica\", \"Ropa\", \"Electrónica\", \"Ropa\", \"Electrónica\", \"Ropa\", \"Electrónica\", \"Ropa\", \"Electrónica\"],\n",
        "         \"Ventas\": [500, 200, 150, 300, 400, 250, 600, 100, 500]\n",
        "}\n"
      ],
      "metadata": {
        "id": "ht8UAduuGspY"
      },
      "execution_count": null,
      "outputs": []
    },
    {
      "cell_type": "code",
      "source": [
        "# Creamos el gráfico de sunburst usando Plotly\n",
        "px.sunburst(datos,\n",
        "            path=[\"Región\", \"País\", \"Producto\"],  # Estructura jerárquica de los datos\n",
        "            values=\"Ventas\",                      # Valores a representar en cada nivel\n",
        "            title=\"Distribución de Ventas por Región, País y Producto\",\n",
        "            labels={\"Ventas\": \"Monto de Ventas\"},\n",
        "            template=\"plotly_white\"\n",
        ")\n"
      ],
      "metadata": {
        "id": "qt4KLQGwdSBF",
        "colab": {
          "base_uri": "https://localhost:8080/",
          "height": 542
        },
        "outputId": "0f4a99a2-76af-4cd5-9713-2c61aec2cd8a"
      },
      "execution_count": null,
      "outputs": [
        {
          "output_type": "display_data",
          "data": {
            "text/html": [
              "<html>\n",
              "<head><meta charset=\"utf-8\" /></head>\n",
              "<body>\n",
              "    <div>            <script src=\"https://cdnjs.cloudflare.com/ajax/libs/mathjax/2.7.5/MathJax.js?config=TeX-AMS-MML_SVG\"></script><script type=\"text/javascript\">if (window.MathJax && window.MathJax.Hub && window.MathJax.Hub.Config) {window.MathJax.Hub.Config({SVG: {font: \"STIX-Web\"}});}</script>                <script type=\"text/javascript\">window.PlotlyConfig = {MathJaxConfig: 'local'};</script>\n",
              "        <script charset=\"utf-8\" src=\"https://cdn.plot.ly/plotly-2.35.2.min.js\"></script>                <div id=\"402fbffa-165c-4589-aff0-5847f95f8efe\" class=\"plotly-graph-div\" style=\"height:525px; width:100%;\"></div>            <script type=\"text/javascript\">                                    window.PLOTLYENV=window.PLOTLYENV || {};                                    if (document.getElementById(\"402fbffa-165c-4589-aff0-5847f95f8efe\")) {                    Plotly.newPlot(                        \"402fbffa-165c-4589-aff0-5847f95f8efe\",                        [{\"branchvalues\":\"total\",\"domain\":{\"x\":[0.0,1.0],\"y\":[0.0,1.0]},\"hovertemplate\":\"labels=%{label}\\u003cbr\\u003eMonto de Ventas=%{value}\\u003cbr\\u003eparent=%{parent}\\u003cbr\\u003eid=%{id}\\u003cextra\\u003e\\u003c\\u002fextra\\u003e\",\"ids\":[\"Europa\\u002fAlemania\\u002fElectrónica\",\"América\\u002fCanadá\\u002fElectrónica\",\"Asia\\u002fChina\\u002fElectrónica\",\"Asia\\u002fJapón\\u002fElectrónica\",\"América\\u002fUSA\\u002fElectrónica\",\"Europa\\u002fAlemania\\u002fRopa\",\"Europa\\u002fFrancia\\u002fRopa\",\"Asia\\u002fJapón\\u002fRopa\",\"América\\u002fUSA\\u002fRopa\",\"Europa\\u002fAlemania\",\"América\\u002fCanadá\",\"Asia\\u002fChina\",\"Europa\\u002fFrancia\",\"Asia\\u002fJapón\",\"América\\u002fUSA\",\"América\",\"Asia\",\"Europa\"],\"labels\":[\"Electrónica\",\"Electrónica\",\"Electrónica\",\"Electrónica\",\"Electrónica\",\"Ropa\",\"Ropa\",\"Ropa\",\"Ropa\",\"Alemania\",\"Canadá\",\"China\",\"Francia\",\"Japón\",\"USA\",\"América\",\"Asia\",\"Europa\"],\"name\":\"\",\"parents\":[\"Europa\\u002fAlemania\",\"América\\u002fCanadá\",\"Asia\\u002fChina\",\"Asia\\u002fJapón\",\"América\\u002fUSA\",\"Europa\\u002fAlemania\",\"Europa\\u002fFrancia\",\"Asia\\u002fJapón\",\"América\\u002fUSA\",\"Europa\",\"América\",\"Asia\",\"Europa\",\"Asia\",\"América\",\"\",\"\",\"\"],\"values\":[400,150,500,600,500,300,250,100,200,700,150,500,250,700,700,850,1200,950],\"type\":\"sunburst\"}],                        {\"template\":{\"data\":{\"barpolar\":[{\"marker\":{\"line\":{\"color\":\"white\",\"width\":0.5},\"pattern\":{\"fillmode\":\"overlay\",\"size\":10,\"solidity\":0.2}},\"type\":\"barpolar\"}],\"bar\":[{\"error_x\":{\"color\":\"#2a3f5f\"},\"error_y\":{\"color\":\"#2a3f5f\"},\"marker\":{\"line\":{\"color\":\"white\",\"width\":0.5},\"pattern\":{\"fillmode\":\"overlay\",\"size\":10,\"solidity\":0.2}},\"type\":\"bar\"}],\"carpet\":[{\"aaxis\":{\"endlinecolor\":\"#2a3f5f\",\"gridcolor\":\"#C8D4E3\",\"linecolor\":\"#C8D4E3\",\"minorgridcolor\":\"#C8D4E3\",\"startlinecolor\":\"#2a3f5f\"},\"baxis\":{\"endlinecolor\":\"#2a3f5f\",\"gridcolor\":\"#C8D4E3\",\"linecolor\":\"#C8D4E3\",\"minorgridcolor\":\"#C8D4E3\",\"startlinecolor\":\"#2a3f5f\"},\"type\":\"carpet\"}],\"choropleth\":[{\"colorbar\":{\"outlinewidth\":0,\"ticks\":\"\"},\"type\":\"choropleth\"}],\"contourcarpet\":[{\"colorbar\":{\"outlinewidth\":0,\"ticks\":\"\"},\"type\":\"contourcarpet\"}],\"contour\":[{\"colorbar\":{\"outlinewidth\":0,\"ticks\":\"\"},\"colorscale\":[[0.0,\"#0d0887\"],[0.1111111111111111,\"#46039f\"],[0.2222222222222222,\"#7201a8\"],[0.3333333333333333,\"#9c179e\"],[0.4444444444444444,\"#bd3786\"],[0.5555555555555556,\"#d8576b\"],[0.6666666666666666,\"#ed7953\"],[0.7777777777777778,\"#fb9f3a\"],[0.8888888888888888,\"#fdca26\"],[1.0,\"#f0f921\"]],\"type\":\"contour\"}],\"heatmapgl\":[{\"colorbar\":{\"outlinewidth\":0,\"ticks\":\"\"},\"colorscale\":[[0.0,\"#0d0887\"],[0.1111111111111111,\"#46039f\"],[0.2222222222222222,\"#7201a8\"],[0.3333333333333333,\"#9c179e\"],[0.4444444444444444,\"#bd3786\"],[0.5555555555555556,\"#d8576b\"],[0.6666666666666666,\"#ed7953\"],[0.7777777777777778,\"#fb9f3a\"],[0.8888888888888888,\"#fdca26\"],[1.0,\"#f0f921\"]],\"type\":\"heatmapgl\"}],\"heatmap\":[{\"colorbar\":{\"outlinewidth\":0,\"ticks\":\"\"},\"colorscale\":[[0.0,\"#0d0887\"],[0.1111111111111111,\"#46039f\"],[0.2222222222222222,\"#7201a8\"],[0.3333333333333333,\"#9c179e\"],[0.4444444444444444,\"#bd3786\"],[0.5555555555555556,\"#d8576b\"],[0.6666666666666666,\"#ed7953\"],[0.7777777777777778,\"#fb9f3a\"],[0.8888888888888888,\"#fdca26\"],[1.0,\"#f0f921\"]],\"type\":\"heatmap\"}],\"histogram2dcontour\":[{\"colorbar\":{\"outlinewidth\":0,\"ticks\":\"\"},\"colorscale\":[[0.0,\"#0d0887\"],[0.1111111111111111,\"#46039f\"],[0.2222222222222222,\"#7201a8\"],[0.3333333333333333,\"#9c179e\"],[0.4444444444444444,\"#bd3786\"],[0.5555555555555556,\"#d8576b\"],[0.6666666666666666,\"#ed7953\"],[0.7777777777777778,\"#fb9f3a\"],[0.8888888888888888,\"#fdca26\"],[1.0,\"#f0f921\"]],\"type\":\"histogram2dcontour\"}],\"histogram2d\":[{\"colorbar\":{\"outlinewidth\":0,\"ticks\":\"\"},\"colorscale\":[[0.0,\"#0d0887\"],[0.1111111111111111,\"#46039f\"],[0.2222222222222222,\"#7201a8\"],[0.3333333333333333,\"#9c179e\"],[0.4444444444444444,\"#bd3786\"],[0.5555555555555556,\"#d8576b\"],[0.6666666666666666,\"#ed7953\"],[0.7777777777777778,\"#fb9f3a\"],[0.8888888888888888,\"#fdca26\"],[1.0,\"#f0f921\"]],\"type\":\"histogram2d\"}],\"histogram\":[{\"marker\":{\"pattern\":{\"fillmode\":\"overlay\",\"size\":10,\"solidity\":0.2}},\"type\":\"histogram\"}],\"mesh3d\":[{\"colorbar\":{\"outlinewidth\":0,\"ticks\":\"\"},\"type\":\"mesh3d\"}],\"parcoords\":[{\"line\":{\"colorbar\":{\"outlinewidth\":0,\"ticks\":\"\"}},\"type\":\"parcoords\"}],\"pie\":[{\"automargin\":true,\"type\":\"pie\"}],\"scatter3d\":[{\"line\":{\"colorbar\":{\"outlinewidth\":0,\"ticks\":\"\"}},\"marker\":{\"colorbar\":{\"outlinewidth\":0,\"ticks\":\"\"}},\"type\":\"scatter3d\"}],\"scattercarpet\":[{\"marker\":{\"colorbar\":{\"outlinewidth\":0,\"ticks\":\"\"}},\"type\":\"scattercarpet\"}],\"scattergeo\":[{\"marker\":{\"colorbar\":{\"outlinewidth\":0,\"ticks\":\"\"}},\"type\":\"scattergeo\"}],\"scattergl\":[{\"marker\":{\"colorbar\":{\"outlinewidth\":0,\"ticks\":\"\"}},\"type\":\"scattergl\"}],\"scattermapbox\":[{\"marker\":{\"colorbar\":{\"outlinewidth\":0,\"ticks\":\"\"}},\"type\":\"scattermapbox\"}],\"scatterpolargl\":[{\"marker\":{\"colorbar\":{\"outlinewidth\":0,\"ticks\":\"\"}},\"type\":\"scatterpolargl\"}],\"scatterpolar\":[{\"marker\":{\"colorbar\":{\"outlinewidth\":0,\"ticks\":\"\"}},\"type\":\"scatterpolar\"}],\"scatter\":[{\"fillpattern\":{\"fillmode\":\"overlay\",\"size\":10,\"solidity\":0.2},\"type\":\"scatter\"}],\"scatterternary\":[{\"marker\":{\"colorbar\":{\"outlinewidth\":0,\"ticks\":\"\"}},\"type\":\"scatterternary\"}],\"surface\":[{\"colorbar\":{\"outlinewidth\":0,\"ticks\":\"\"},\"colorscale\":[[0.0,\"#0d0887\"],[0.1111111111111111,\"#46039f\"],[0.2222222222222222,\"#7201a8\"],[0.3333333333333333,\"#9c179e\"],[0.4444444444444444,\"#bd3786\"],[0.5555555555555556,\"#d8576b\"],[0.6666666666666666,\"#ed7953\"],[0.7777777777777778,\"#fb9f3a\"],[0.8888888888888888,\"#fdca26\"],[1.0,\"#f0f921\"]],\"type\":\"surface\"}],\"table\":[{\"cells\":{\"fill\":{\"color\":\"#EBF0F8\"},\"line\":{\"color\":\"white\"}},\"header\":{\"fill\":{\"color\":\"#C8D4E3\"},\"line\":{\"color\":\"white\"}},\"type\":\"table\"}]},\"layout\":{\"annotationdefaults\":{\"arrowcolor\":\"#2a3f5f\",\"arrowhead\":0,\"arrowwidth\":1},\"autotypenumbers\":\"strict\",\"coloraxis\":{\"colorbar\":{\"outlinewidth\":0,\"ticks\":\"\"}},\"colorscale\":{\"diverging\":[[0,\"#8e0152\"],[0.1,\"#c51b7d\"],[0.2,\"#de77ae\"],[0.3,\"#f1b6da\"],[0.4,\"#fde0ef\"],[0.5,\"#f7f7f7\"],[0.6,\"#e6f5d0\"],[0.7,\"#b8e186\"],[0.8,\"#7fbc41\"],[0.9,\"#4d9221\"],[1,\"#276419\"]],\"sequential\":[[0.0,\"#0d0887\"],[0.1111111111111111,\"#46039f\"],[0.2222222222222222,\"#7201a8\"],[0.3333333333333333,\"#9c179e\"],[0.4444444444444444,\"#bd3786\"],[0.5555555555555556,\"#d8576b\"],[0.6666666666666666,\"#ed7953\"],[0.7777777777777778,\"#fb9f3a\"],[0.8888888888888888,\"#fdca26\"],[1.0,\"#f0f921\"]],\"sequentialminus\":[[0.0,\"#0d0887\"],[0.1111111111111111,\"#46039f\"],[0.2222222222222222,\"#7201a8\"],[0.3333333333333333,\"#9c179e\"],[0.4444444444444444,\"#bd3786\"],[0.5555555555555556,\"#d8576b\"],[0.6666666666666666,\"#ed7953\"],[0.7777777777777778,\"#fb9f3a\"],[0.8888888888888888,\"#fdca26\"],[1.0,\"#f0f921\"]]},\"colorway\":[\"#636efa\",\"#EF553B\",\"#00cc96\",\"#ab63fa\",\"#FFA15A\",\"#19d3f3\",\"#FF6692\",\"#B6E880\",\"#FF97FF\",\"#FECB52\"],\"font\":{\"color\":\"#2a3f5f\"},\"geo\":{\"bgcolor\":\"white\",\"lakecolor\":\"white\",\"landcolor\":\"white\",\"showlakes\":true,\"showland\":true,\"subunitcolor\":\"#C8D4E3\"},\"hoverlabel\":{\"align\":\"left\"},\"hovermode\":\"closest\",\"mapbox\":{\"style\":\"light\"},\"paper_bgcolor\":\"white\",\"plot_bgcolor\":\"white\",\"polar\":{\"angularaxis\":{\"gridcolor\":\"#EBF0F8\",\"linecolor\":\"#EBF0F8\",\"ticks\":\"\"},\"bgcolor\":\"white\",\"radialaxis\":{\"gridcolor\":\"#EBF0F8\",\"linecolor\":\"#EBF0F8\",\"ticks\":\"\"}},\"scene\":{\"xaxis\":{\"backgroundcolor\":\"white\",\"gridcolor\":\"#DFE8F3\",\"gridwidth\":2,\"linecolor\":\"#EBF0F8\",\"showbackground\":true,\"ticks\":\"\",\"zerolinecolor\":\"#EBF0F8\"},\"yaxis\":{\"backgroundcolor\":\"white\",\"gridcolor\":\"#DFE8F3\",\"gridwidth\":2,\"linecolor\":\"#EBF0F8\",\"showbackground\":true,\"ticks\":\"\",\"zerolinecolor\":\"#EBF0F8\"},\"zaxis\":{\"backgroundcolor\":\"white\",\"gridcolor\":\"#DFE8F3\",\"gridwidth\":2,\"linecolor\":\"#EBF0F8\",\"showbackground\":true,\"ticks\":\"\",\"zerolinecolor\":\"#EBF0F8\"}},\"shapedefaults\":{\"line\":{\"color\":\"#2a3f5f\"}},\"ternary\":{\"aaxis\":{\"gridcolor\":\"#DFE8F3\",\"linecolor\":\"#A2B1C6\",\"ticks\":\"\"},\"baxis\":{\"gridcolor\":\"#DFE8F3\",\"linecolor\":\"#A2B1C6\",\"ticks\":\"\"},\"bgcolor\":\"white\",\"caxis\":{\"gridcolor\":\"#DFE8F3\",\"linecolor\":\"#A2B1C6\",\"ticks\":\"\"}},\"title\":{\"x\":0.05},\"xaxis\":{\"automargin\":true,\"gridcolor\":\"#EBF0F8\",\"linecolor\":\"#EBF0F8\",\"ticks\":\"\",\"title\":{\"standoff\":15},\"zerolinecolor\":\"#EBF0F8\",\"zerolinewidth\":2},\"yaxis\":{\"automargin\":true,\"gridcolor\":\"#EBF0F8\",\"linecolor\":\"#EBF0F8\",\"ticks\":\"\",\"title\":{\"standoff\":15},\"zerolinecolor\":\"#EBF0F8\",\"zerolinewidth\":2}}},\"legend\":{\"tracegroupgap\":0},\"title\":{\"text\":\"Distribución de Ventas por Región, País y Producto\"}},                        {\"responsive\": true}                    ).then(function(){\n",
              "                            \n",
              "var gd = document.getElementById('402fbffa-165c-4589-aff0-5847f95f8efe');\n",
              "var x = new MutationObserver(function (mutations, observer) {{\n",
              "        var display = window.getComputedStyle(gd).display;\n",
              "        if (!display || display === 'none') {{\n",
              "            console.log([gd, 'removed!']);\n",
              "            Plotly.purge(gd);\n",
              "            observer.disconnect();\n",
              "        }}\n",
              "}});\n",
              "\n",
              "// Listen for the removal of the full notebook cells\n",
              "var notebookContainer = gd.closest('#notebook-container');\n",
              "if (notebookContainer) {{\n",
              "    x.observe(notebookContainer, {childList: true});\n",
              "}}\n",
              "\n",
              "// Listen for the clearing of the current output cell\n",
              "var outputEl = gd.closest('.output');\n",
              "if (outputEl) {{\n",
              "    x.observe(outputEl, {childList: true});\n",
              "}}\n",
              "\n",
              "                        })                };                            </script>        </div>\n",
              "</body>\n",
              "</html>"
            ]
          },
          "metadata": {}
        }
      ]
    },
    {
      "cell_type": "markdown",
      "source": [
        "- **Definición de Datos**: Creamos un diccionario con los niveles de jerarquía para cada categoría, incluyendo \"Región\", \"País\" y \"Producto\", así como las ventas asociadas a cada uno.\n",
        "- **Construcción del Gráfico**: Usamos plotly.express.sunburst, indicando la jerarquía de categorías en path y especificando los valores de ventas en values.\n",
        "\n",
        "\n",
        "<p align=\"justify\">\n",
        "<br>\n",
        "Este gráfico permite a la empresa observar de forma jerárquica la distribución de sus ventas en diferentes niveles (región, país y producto), facilitando la identificación de patrones y oportunidades de mercado en cada área.\n",
        "\n",
        "\n",
        "\n",
        "\n",
        "\n",
        "\n"
      ],
      "metadata": {
        "id": "49fDBIAu5MpV"
      }
    },
    {
      "cell_type": "markdown",
      "source": [
        " # **<font color=\"DarkBlue\">Generando un Icicle Chart</font>**"
      ],
      "metadata": {
        "id": "r2c0rnMghgKM"
      }
    },
    {
      "cell_type": "markdown",
      "source": [
        "<p align=\"justify\">\n",
        "Un <b>gráfico de icicle</b> es una representación jerárquica que organiza los datos en niveles, utilizando rectángulos apilados para cada nivel y subnivel. A diferencia del gráfico de sunburst, que es circular, el gráfico de icicle tiene una estructura lineal o \"en cascada\" donde cada nivel se representa como un bloque y los niveles jerárquicos inferiores se despliegan hacia abajo o hacia los lados.\n",
        "<br><br>\n",
        "Esto hace que el gráfico de icicle sea ideal para mostrar estructuras de datos jerárquicas, como organigramas o clasificaciones de productos.\n",
        "<br><br>\n",
        "Cada bloque representa una categoría en un nivel específico y su tamaño refleja la proporción relativa de esa categoría dentro de su grupo o nivel. Es una herramienta efectiva para visualizar tanto la jerarquía como la contribución de cada categoría en relación con su nivel y subniveles.\n",
        "<br><br>\n",
        "Elementos claves:\n",
        "<br>\n",
        "\n",
        "- **Niveles**: Cada fila o columna de bloques representa un nivel diferente en la jerarquía.\n",
        "- **Bloques**: Cada bloque representa una categoría o subcategoría, cuyo tamaño refleja su proporción dentro de su grupo.\n",
        "- **Relación Jerárquica**: Los bloques se apilan según la jerarquía, mostrando cómo las subcategorías se distribuyen dentro de las categorías principales.\n"
      ],
      "metadata": {
        "id": "FGDJ0Wczhilq"
      }
    },
    {
      "cell_type": "markdown",
      "source": [
        "<p align=\"justify\"> 👀 Ejemplo:  \n",
        "<br><br>\n",
        "Supongamos que una empresa de manufactura desea analizar sus costos en diferentes categorías: Materiales, Mano de Obra y Logística. A su vez, estos se dividen en subcategorías. Por ejemplo, los materiales incluyen Materias Primas y Componentes, mientras que la Mano de Obra incluye Producción y Administración.\n",
        "\n",
        "\n"
      ],
      "metadata": {
        "id": "4zAoHbzfh5wm"
      }
    },
    {
      "cell_type": "code",
      "source": [
        "# Definimos los datos de costos en categorías y subcategorías\n",
        "datos = {\n",
        "    \"Categoría\": [\"Materiales\", \"Materiales\", \"Materiales\", \"Mano de Obra\", \"Mano de Obra\", \"Logística\", \"Logística\"],\n",
        "    \"Subcategoría\": [\"Materias Primas\", \"Componentes\", \"Embalaje\", \"Producción\", \"Administración\", \"Transporte\", \"Almacenamiento\"],\n",
        "    \"Costos\": [12000, 8000, 2000, 5000, 3000, 4000, 1500]\n",
        "}\n"
      ],
      "metadata": {
        "id": "wVmfFMRtLr8z"
      },
      "execution_count": null,
      "outputs": []
    },
    {
      "cell_type": "code",
      "source": [
        "# Creamos el gráfico de icicle usando Plotly\n",
        "px.icicle(datos,\n",
        "          path=[\"Categoría\", \"Subcategoría\"],  # Estructura jerárquica de los datos\n",
        "          values=\"Costos\",                     # Valores de costos a representar en cada nivel\n",
        "          title=\"Distribución de Costos en una Empresa de Manufactura\",\n",
        "          labels={\"Costos\": \"Costo Total\"},\n",
        "          template=\"plotly_white\"\n",
        ")\n"
      ],
      "metadata": {
        "id": "p7yho4bfhi8Z",
        "colab": {
          "base_uri": "https://localhost:8080/",
          "height": 542
        },
        "outputId": "2bc7cce2-b049-4083-a81c-a44cfad76e27"
      },
      "execution_count": null,
      "outputs": [
        {
          "output_type": "display_data",
          "data": {
            "text/html": [
              "<html>\n",
              "<head><meta charset=\"utf-8\" /></head>\n",
              "<body>\n",
              "    <div>            <script src=\"https://cdnjs.cloudflare.com/ajax/libs/mathjax/2.7.5/MathJax.js?config=TeX-AMS-MML_SVG\"></script><script type=\"text/javascript\">if (window.MathJax && window.MathJax.Hub && window.MathJax.Hub.Config) {window.MathJax.Hub.Config({SVG: {font: \"STIX-Web\"}});}</script>                <script type=\"text/javascript\">window.PlotlyConfig = {MathJaxConfig: 'local'};</script>\n",
              "        <script charset=\"utf-8\" src=\"https://cdn.plot.ly/plotly-2.35.2.min.js\"></script>                <div id=\"20945cb7-3727-4de8-add5-f03556a404eb\" class=\"plotly-graph-div\" style=\"height:525px; width:100%;\"></div>            <script type=\"text/javascript\">                                    window.PLOTLYENV=window.PLOTLYENV || {};                                    if (document.getElementById(\"20945cb7-3727-4de8-add5-f03556a404eb\")) {                    Plotly.newPlot(                        \"20945cb7-3727-4de8-add5-f03556a404eb\",                        [{\"branchvalues\":\"total\",\"domain\":{\"x\":[0.0,1.0],\"y\":[0.0,1.0]},\"hovertemplate\":\"labels=%{label}\\u003cbr\\u003eCosto Total=%{value}\\u003cbr\\u003eparent=%{parent}\\u003cbr\\u003eid=%{id}\\u003cextra\\u003e\\u003c\\u002fextra\\u003e\",\"ids\":[\"Mano de Obra\\u002fAdministración\",\"Logística\\u002fAlmacenamiento\",\"Materiales\\u002fComponentes\",\"Materiales\\u002fEmbalaje\",\"Materiales\\u002fMaterias Primas\",\"Mano de Obra\\u002fProducción\",\"Logística\\u002fTransporte\",\"Logística\",\"Mano de Obra\",\"Materiales\"],\"labels\":[\"Administración\",\"Almacenamiento\",\"Componentes\",\"Embalaje\",\"Materias Primas\",\"Producción\",\"Transporte\",\"Logística\",\"Mano de Obra\",\"Materiales\"],\"name\":\"\",\"parents\":[\"Mano de Obra\",\"Logística\",\"Materiales\",\"Materiales\",\"Materiales\",\"Mano de Obra\",\"Logística\",\"\",\"\",\"\"],\"values\":[3000,1500,8000,2000,12000,5000,4000,5500,8000,22000],\"type\":\"icicle\"}],                        {\"template\":{\"data\":{\"barpolar\":[{\"marker\":{\"line\":{\"color\":\"white\",\"width\":0.5},\"pattern\":{\"fillmode\":\"overlay\",\"size\":10,\"solidity\":0.2}},\"type\":\"barpolar\"}],\"bar\":[{\"error_x\":{\"color\":\"#2a3f5f\"},\"error_y\":{\"color\":\"#2a3f5f\"},\"marker\":{\"line\":{\"color\":\"white\",\"width\":0.5},\"pattern\":{\"fillmode\":\"overlay\",\"size\":10,\"solidity\":0.2}},\"type\":\"bar\"}],\"carpet\":[{\"aaxis\":{\"endlinecolor\":\"#2a3f5f\",\"gridcolor\":\"#C8D4E3\",\"linecolor\":\"#C8D4E3\",\"minorgridcolor\":\"#C8D4E3\",\"startlinecolor\":\"#2a3f5f\"},\"baxis\":{\"endlinecolor\":\"#2a3f5f\",\"gridcolor\":\"#C8D4E3\",\"linecolor\":\"#C8D4E3\",\"minorgridcolor\":\"#C8D4E3\",\"startlinecolor\":\"#2a3f5f\"},\"type\":\"carpet\"}],\"choropleth\":[{\"colorbar\":{\"outlinewidth\":0,\"ticks\":\"\"},\"type\":\"choropleth\"}],\"contourcarpet\":[{\"colorbar\":{\"outlinewidth\":0,\"ticks\":\"\"},\"type\":\"contourcarpet\"}],\"contour\":[{\"colorbar\":{\"outlinewidth\":0,\"ticks\":\"\"},\"colorscale\":[[0.0,\"#0d0887\"],[0.1111111111111111,\"#46039f\"],[0.2222222222222222,\"#7201a8\"],[0.3333333333333333,\"#9c179e\"],[0.4444444444444444,\"#bd3786\"],[0.5555555555555556,\"#d8576b\"],[0.6666666666666666,\"#ed7953\"],[0.7777777777777778,\"#fb9f3a\"],[0.8888888888888888,\"#fdca26\"],[1.0,\"#f0f921\"]],\"type\":\"contour\"}],\"heatmapgl\":[{\"colorbar\":{\"outlinewidth\":0,\"ticks\":\"\"},\"colorscale\":[[0.0,\"#0d0887\"],[0.1111111111111111,\"#46039f\"],[0.2222222222222222,\"#7201a8\"],[0.3333333333333333,\"#9c179e\"],[0.4444444444444444,\"#bd3786\"],[0.5555555555555556,\"#d8576b\"],[0.6666666666666666,\"#ed7953\"],[0.7777777777777778,\"#fb9f3a\"],[0.8888888888888888,\"#fdca26\"],[1.0,\"#f0f921\"]],\"type\":\"heatmapgl\"}],\"heatmap\":[{\"colorbar\":{\"outlinewidth\":0,\"ticks\":\"\"},\"colorscale\":[[0.0,\"#0d0887\"],[0.1111111111111111,\"#46039f\"],[0.2222222222222222,\"#7201a8\"],[0.3333333333333333,\"#9c179e\"],[0.4444444444444444,\"#bd3786\"],[0.5555555555555556,\"#d8576b\"],[0.6666666666666666,\"#ed7953\"],[0.7777777777777778,\"#fb9f3a\"],[0.8888888888888888,\"#fdca26\"],[1.0,\"#f0f921\"]],\"type\":\"heatmap\"}],\"histogram2dcontour\":[{\"colorbar\":{\"outlinewidth\":0,\"ticks\":\"\"},\"colorscale\":[[0.0,\"#0d0887\"],[0.1111111111111111,\"#46039f\"],[0.2222222222222222,\"#7201a8\"],[0.3333333333333333,\"#9c179e\"],[0.4444444444444444,\"#bd3786\"],[0.5555555555555556,\"#d8576b\"],[0.6666666666666666,\"#ed7953\"],[0.7777777777777778,\"#fb9f3a\"],[0.8888888888888888,\"#fdca26\"],[1.0,\"#f0f921\"]],\"type\":\"histogram2dcontour\"}],\"histogram2d\":[{\"colorbar\":{\"outlinewidth\":0,\"ticks\":\"\"},\"colorscale\":[[0.0,\"#0d0887\"],[0.1111111111111111,\"#46039f\"],[0.2222222222222222,\"#7201a8\"],[0.3333333333333333,\"#9c179e\"],[0.4444444444444444,\"#bd3786\"],[0.5555555555555556,\"#d8576b\"],[0.6666666666666666,\"#ed7953\"],[0.7777777777777778,\"#fb9f3a\"],[0.8888888888888888,\"#fdca26\"],[1.0,\"#f0f921\"]],\"type\":\"histogram2d\"}],\"histogram\":[{\"marker\":{\"pattern\":{\"fillmode\":\"overlay\",\"size\":10,\"solidity\":0.2}},\"type\":\"histogram\"}],\"mesh3d\":[{\"colorbar\":{\"outlinewidth\":0,\"ticks\":\"\"},\"type\":\"mesh3d\"}],\"parcoords\":[{\"line\":{\"colorbar\":{\"outlinewidth\":0,\"ticks\":\"\"}},\"type\":\"parcoords\"}],\"pie\":[{\"automargin\":true,\"type\":\"pie\"}],\"scatter3d\":[{\"line\":{\"colorbar\":{\"outlinewidth\":0,\"ticks\":\"\"}},\"marker\":{\"colorbar\":{\"outlinewidth\":0,\"ticks\":\"\"}},\"type\":\"scatter3d\"}],\"scattercarpet\":[{\"marker\":{\"colorbar\":{\"outlinewidth\":0,\"ticks\":\"\"}},\"type\":\"scattercarpet\"}],\"scattergeo\":[{\"marker\":{\"colorbar\":{\"outlinewidth\":0,\"ticks\":\"\"}},\"type\":\"scattergeo\"}],\"scattergl\":[{\"marker\":{\"colorbar\":{\"outlinewidth\":0,\"ticks\":\"\"}},\"type\":\"scattergl\"}],\"scattermapbox\":[{\"marker\":{\"colorbar\":{\"outlinewidth\":0,\"ticks\":\"\"}},\"type\":\"scattermapbox\"}],\"scatterpolargl\":[{\"marker\":{\"colorbar\":{\"outlinewidth\":0,\"ticks\":\"\"}},\"type\":\"scatterpolargl\"}],\"scatterpolar\":[{\"marker\":{\"colorbar\":{\"outlinewidth\":0,\"ticks\":\"\"}},\"type\":\"scatterpolar\"}],\"scatter\":[{\"fillpattern\":{\"fillmode\":\"overlay\",\"size\":10,\"solidity\":0.2},\"type\":\"scatter\"}],\"scatterternary\":[{\"marker\":{\"colorbar\":{\"outlinewidth\":0,\"ticks\":\"\"}},\"type\":\"scatterternary\"}],\"surface\":[{\"colorbar\":{\"outlinewidth\":0,\"ticks\":\"\"},\"colorscale\":[[0.0,\"#0d0887\"],[0.1111111111111111,\"#46039f\"],[0.2222222222222222,\"#7201a8\"],[0.3333333333333333,\"#9c179e\"],[0.4444444444444444,\"#bd3786\"],[0.5555555555555556,\"#d8576b\"],[0.6666666666666666,\"#ed7953\"],[0.7777777777777778,\"#fb9f3a\"],[0.8888888888888888,\"#fdca26\"],[1.0,\"#f0f921\"]],\"type\":\"surface\"}],\"table\":[{\"cells\":{\"fill\":{\"color\":\"#EBF0F8\"},\"line\":{\"color\":\"white\"}},\"header\":{\"fill\":{\"color\":\"#C8D4E3\"},\"line\":{\"color\":\"white\"}},\"type\":\"table\"}]},\"layout\":{\"annotationdefaults\":{\"arrowcolor\":\"#2a3f5f\",\"arrowhead\":0,\"arrowwidth\":1},\"autotypenumbers\":\"strict\",\"coloraxis\":{\"colorbar\":{\"outlinewidth\":0,\"ticks\":\"\"}},\"colorscale\":{\"diverging\":[[0,\"#8e0152\"],[0.1,\"#c51b7d\"],[0.2,\"#de77ae\"],[0.3,\"#f1b6da\"],[0.4,\"#fde0ef\"],[0.5,\"#f7f7f7\"],[0.6,\"#e6f5d0\"],[0.7,\"#b8e186\"],[0.8,\"#7fbc41\"],[0.9,\"#4d9221\"],[1,\"#276419\"]],\"sequential\":[[0.0,\"#0d0887\"],[0.1111111111111111,\"#46039f\"],[0.2222222222222222,\"#7201a8\"],[0.3333333333333333,\"#9c179e\"],[0.4444444444444444,\"#bd3786\"],[0.5555555555555556,\"#d8576b\"],[0.6666666666666666,\"#ed7953\"],[0.7777777777777778,\"#fb9f3a\"],[0.8888888888888888,\"#fdca26\"],[1.0,\"#f0f921\"]],\"sequentialminus\":[[0.0,\"#0d0887\"],[0.1111111111111111,\"#46039f\"],[0.2222222222222222,\"#7201a8\"],[0.3333333333333333,\"#9c179e\"],[0.4444444444444444,\"#bd3786\"],[0.5555555555555556,\"#d8576b\"],[0.6666666666666666,\"#ed7953\"],[0.7777777777777778,\"#fb9f3a\"],[0.8888888888888888,\"#fdca26\"],[1.0,\"#f0f921\"]]},\"colorway\":[\"#636efa\",\"#EF553B\",\"#00cc96\",\"#ab63fa\",\"#FFA15A\",\"#19d3f3\",\"#FF6692\",\"#B6E880\",\"#FF97FF\",\"#FECB52\"],\"font\":{\"color\":\"#2a3f5f\"},\"geo\":{\"bgcolor\":\"white\",\"lakecolor\":\"white\",\"landcolor\":\"white\",\"showlakes\":true,\"showland\":true,\"subunitcolor\":\"#C8D4E3\"},\"hoverlabel\":{\"align\":\"left\"},\"hovermode\":\"closest\",\"mapbox\":{\"style\":\"light\"},\"paper_bgcolor\":\"white\",\"plot_bgcolor\":\"white\",\"polar\":{\"angularaxis\":{\"gridcolor\":\"#EBF0F8\",\"linecolor\":\"#EBF0F8\",\"ticks\":\"\"},\"bgcolor\":\"white\",\"radialaxis\":{\"gridcolor\":\"#EBF0F8\",\"linecolor\":\"#EBF0F8\",\"ticks\":\"\"}},\"scene\":{\"xaxis\":{\"backgroundcolor\":\"white\",\"gridcolor\":\"#DFE8F3\",\"gridwidth\":2,\"linecolor\":\"#EBF0F8\",\"showbackground\":true,\"ticks\":\"\",\"zerolinecolor\":\"#EBF0F8\"},\"yaxis\":{\"backgroundcolor\":\"white\",\"gridcolor\":\"#DFE8F3\",\"gridwidth\":2,\"linecolor\":\"#EBF0F8\",\"showbackground\":true,\"ticks\":\"\",\"zerolinecolor\":\"#EBF0F8\"},\"zaxis\":{\"backgroundcolor\":\"white\",\"gridcolor\":\"#DFE8F3\",\"gridwidth\":2,\"linecolor\":\"#EBF0F8\",\"showbackground\":true,\"ticks\":\"\",\"zerolinecolor\":\"#EBF0F8\"}},\"shapedefaults\":{\"line\":{\"color\":\"#2a3f5f\"}},\"ternary\":{\"aaxis\":{\"gridcolor\":\"#DFE8F3\",\"linecolor\":\"#A2B1C6\",\"ticks\":\"\"},\"baxis\":{\"gridcolor\":\"#DFE8F3\",\"linecolor\":\"#A2B1C6\",\"ticks\":\"\"},\"bgcolor\":\"white\",\"caxis\":{\"gridcolor\":\"#DFE8F3\",\"linecolor\":\"#A2B1C6\",\"ticks\":\"\"}},\"title\":{\"x\":0.05},\"xaxis\":{\"automargin\":true,\"gridcolor\":\"#EBF0F8\",\"linecolor\":\"#EBF0F8\",\"ticks\":\"\",\"title\":{\"standoff\":15},\"zerolinecolor\":\"#EBF0F8\",\"zerolinewidth\":2},\"yaxis\":{\"automargin\":true,\"gridcolor\":\"#EBF0F8\",\"linecolor\":\"#EBF0F8\",\"ticks\":\"\",\"title\":{\"standoff\":15},\"zerolinecolor\":\"#EBF0F8\",\"zerolinewidth\":2}}},\"legend\":{\"tracegroupgap\":0},\"title\":{\"text\":\"Distribución de Costos en una Empresa de Manufactura\"}},                        {\"responsive\": true}                    ).then(function(){\n",
              "                            \n",
              "var gd = document.getElementById('20945cb7-3727-4de8-add5-f03556a404eb');\n",
              "var x = new MutationObserver(function (mutations, observer) {{\n",
              "        var display = window.getComputedStyle(gd).display;\n",
              "        if (!display || display === 'none') {{\n",
              "            console.log([gd, 'removed!']);\n",
              "            Plotly.purge(gd);\n",
              "            observer.disconnect();\n",
              "        }}\n",
              "}});\n",
              "\n",
              "// Listen for the removal of the full notebook cells\n",
              "var notebookContainer = gd.closest('#notebook-container');\n",
              "if (notebookContainer) {{\n",
              "    x.observe(notebookContainer, {childList: true});\n",
              "}}\n",
              "\n",
              "// Listen for the clearing of the current output cell\n",
              "var outputEl = gd.closest('.output');\n",
              "if (outputEl) {{\n",
              "    x.observe(outputEl, {childList: true});\n",
              "}}\n",
              "\n",
              "                        })                };                            </script>        </div>\n",
              "</body>\n",
              "</html>"
            ]
          },
          "metadata": {}
        }
      ]
    },
    {
      "cell_type": "markdown",
      "source": [
        "<p align=\"justify\">\n",
        "Este gráfico permite a la empresa visualizar cómo se distribuyen los costos entre categorías y subcategorías, facilitando el análisis de áreas donde pueden existir mayores costos y, por ende, oportunidades de optimización.\n",
        "\n"
      ],
      "metadata": {
        "id": "ebuGWMuBivfq"
      }
    },
    {
      "cell_type": "markdown",
      "source": [
        " # **<font color=\"DarkBlue\">Generando un Treemap Chart</font>**"
      ],
      "metadata": {
        "id": "yxlP9tsZojnY"
      }
    },
    {
      "cell_type": "markdown",
      "source": [
        "<p align=\"justify\">\n",
        "Un <b>treemap chart</b> es una representación gráfica jerárquica en la que los datos se muestran como rectángulos anidados. Cada rectángulo representa una categoría o subcategoría, y su tamaño refleja la cantidad o proporción relativa de esa categoría respecto al total. Los treemaps son útiles para analizar datos jerárquicos y grandes volúmenes de información de forma visualmente clara, permitiendo identificar rápidamente las relaciones y proporciones entre categorías y subcategorías.\n",
        "<br><br>\n",
        "En un treemap, los rectángulos se organizan de modo que cubran todo el espacio disponible, maximizando el área visual y ayudando a descubrir patrones, concentraciones de valores, y áreas donde se destacan los datos más relevantes.\n",
        "<br><br>\n",
        "Elementos Clave:\n",
        "<br><br>\n",
        "\n",
        "- **Rectángulos Anidados**: Cada rectángulo representa un nivel de la jerarquía.\n",
        "- **Tamaño Proporcional**: El área de cada rectángulo refleja el valor de la categoría.\n",
        "- **Colores Diferenciados**: Los colores pueden indicar diferentes subcategorías, valores o rangos.\n"
      ],
      "metadata": {
        "id": "p-0zQqVboocw"
      }
    },
    {
      "cell_type": "markdown",
      "source": [
        "<p align=\"justify\"> 👀 Ejemplo:  \n",
        "<br><br>\n",
        "Imaginemos que una empresa desea visualizar las ventas de sus productos en diferentes regiones. Para ello, las ventas se organizan en dos niveles de jerarquía: Región (por ejemplo, Norte, Sur, Este, Oeste) y Producto (Producto A, Producto B, etc.).\n",
        "<br><br>\n",
        "Este treemap permite observar cómo se distribuyen las ventas por región y qué productos dominan en cada una de estas áreas.\n",
        "\n"
      ],
      "metadata": {
        "id": "aiqw5XApopFJ"
      }
    },
    {
      "cell_type": "code",
      "source": [
        "# Definimos los datos de ventas en diferentes regiones y productos\n",
        "datos = {\n",
        "    \"Región\": [\"Norte\", \"Norte\", \"Sur\", \"Sur\", \"Este\", \"Este\", \"Oeste\", \"Oeste\"],\n",
        "    \"Producto\": [\"Producto A\", \"Producto B\", \"Producto A\", \"Producto B\", \"Producto A\", \"Producto B\", \"Producto A\", \"Producto B\"],\n",
        "    \"Ventas\": [12000, 8000, 15000, 5000, 11000, 6000, 9000, 7000]\n",
        "}\n"
      ],
      "metadata": {
        "id": "7FyPZ6JioneT"
      },
      "execution_count": null,
      "outputs": []
    },
    {
      "cell_type": "code",
      "source": [
        "# Creamos el treemap chart usando Plotly\n",
        "px.treemap(datos,\n",
        "           path=[\"Región\", \"Producto\"],  # Estructura jerárquica de los datos\n",
        "           values=\"Ventas\",              # Valores de ventas a representar en cada nivel\n",
        "           title=\"Distribución de Ventas por Región y Producto\",\n",
        "           labels={\"Ventas\": \"Ventas Totales\"},\n",
        "           template=\"gridon\"\n",
        ")\n"
      ],
      "metadata": {
        "id": "D20dDtwirb2-",
        "colab": {
          "base_uri": "https://localhost:8080/",
          "height": 542
        },
        "outputId": "b10c1193-4e39-42c1-de89-5d5f49cee674"
      },
      "execution_count": null,
      "outputs": [
        {
          "output_type": "display_data",
          "data": {
            "text/html": [
              "<html>\n",
              "<head><meta charset=\"utf-8\" /></head>\n",
              "<body>\n",
              "    <div>            <script src=\"https://cdnjs.cloudflare.com/ajax/libs/mathjax/2.7.5/MathJax.js?config=TeX-AMS-MML_SVG\"></script><script type=\"text/javascript\">if (window.MathJax && window.MathJax.Hub && window.MathJax.Hub.Config) {window.MathJax.Hub.Config({SVG: {font: \"STIX-Web\"}});}</script>                <script type=\"text/javascript\">window.PlotlyConfig = {MathJaxConfig: 'local'};</script>\n",
              "        <script charset=\"utf-8\" src=\"https://cdn.plot.ly/plotly-2.35.2.min.js\"></script>                <div id=\"2a6f7bd0-88ca-4f59-945d-efb1e6d668a7\" class=\"plotly-graph-div\" style=\"height:525px; width:100%;\"></div>            <script type=\"text/javascript\">                                    window.PLOTLYENV=window.PLOTLYENV || {};                                    if (document.getElementById(\"2a6f7bd0-88ca-4f59-945d-efb1e6d668a7\")) {                    Plotly.newPlot(                        \"2a6f7bd0-88ca-4f59-945d-efb1e6d668a7\",                        [{\"branchvalues\":\"total\",\"domain\":{\"x\":[0.0,1.0],\"y\":[0.0,1.0]},\"hovertemplate\":\"labels=%{label}\\u003cbr\\u003eVentas Totales=%{value}\\u003cbr\\u003eparent=%{parent}\\u003cbr\\u003eid=%{id}\\u003cextra\\u003e\\u003c\\u002fextra\\u003e\",\"ids\":[\"Este\\u002fProducto A\",\"Norte\\u002fProducto A\",\"Oeste\\u002fProducto A\",\"Sur\\u002fProducto A\",\"Este\\u002fProducto B\",\"Norte\\u002fProducto B\",\"Oeste\\u002fProducto B\",\"Sur\\u002fProducto B\",\"Este\",\"Norte\",\"Oeste\",\"Sur\"],\"labels\":[\"Producto A\",\"Producto A\",\"Producto A\",\"Producto A\",\"Producto B\",\"Producto B\",\"Producto B\",\"Producto B\",\"Este\",\"Norte\",\"Oeste\",\"Sur\"],\"name\":\"\",\"parents\":[\"Este\",\"Norte\",\"Oeste\",\"Sur\",\"Este\",\"Norte\",\"Oeste\",\"Sur\",\"\",\"\",\"\",\"\"],\"values\":[11000,12000,9000,15000,6000,8000,7000,5000,17000,20000,16000,20000],\"type\":\"treemap\"}],                        {\"template\":{\"data\":{\"pie\":[{\"automargin\":true,\"type\":\"pie\"}]},\"layout\":{\"xaxis\":{\"showgrid\":true,\"title\":{\"standoff\":15}},\"yaxis\":{\"showgrid\":true,\"title\":{\"standoff\":15}}}},\"legend\":{\"tracegroupgap\":0},\"title\":{\"text\":\"Distribución de Ventas por Región y Producto\"}},                        {\"responsive\": true}                    ).then(function(){\n",
              "                            \n",
              "var gd = document.getElementById('2a6f7bd0-88ca-4f59-945d-efb1e6d668a7');\n",
              "var x = new MutationObserver(function (mutations, observer) {{\n",
              "        var display = window.getComputedStyle(gd).display;\n",
              "        if (!display || display === 'none') {{\n",
              "            console.log([gd, 'removed!']);\n",
              "            Plotly.purge(gd);\n",
              "            observer.disconnect();\n",
              "        }}\n",
              "}});\n",
              "\n",
              "// Listen for the removal of the full notebook cells\n",
              "var notebookContainer = gd.closest('#notebook-container');\n",
              "if (notebookContainer) {{\n",
              "    x.observe(notebookContainer, {childList: true});\n",
              "}}\n",
              "\n",
              "// Listen for the clearing of the current output cell\n",
              "var outputEl = gd.closest('.output');\n",
              "if (outputEl) {{\n",
              "    x.observe(outputEl, {childList: true});\n",
              "}}\n",
              "\n",
              "                        })                };                            </script>        </div>\n",
              "</body>\n",
              "</html>"
            ]
          },
          "metadata": {}
        }
      ]
    },
    {
      "cell_type": "markdown",
      "source": [
        "\n",
        "<p align=\"justify\">\n",
        "Este treemap permite a la empresa ver de un vistazo qué regiones y productos generan mayores ingresos, facilitando decisiones sobre recursos y esfuerzos de ventas. Por ejemplo, si los productos en el Sur tienen un rendimiento superior, la empresa podría considerar aumentar la inversión publicitaria o la disponibilidad de inventario en esa región.\n",
        "\n",
        "\n",
        "\n",
        "\n",
        "\n",
        "\n",
        "\n",
        "\n",
        "\n",
        "\n",
        "\n",
        "\n",
        "\n",
        "\n",
        "\n",
        "\n",
        "\n",
        "\n"
      ],
      "metadata": {
        "id": "YmSwdYoSr4YN"
      }
    },
    {
      "cell_type": "markdown",
      "source": [
        "<br>\n",
        "<br>\n",
        "<p align=\"center\"><b>\n",
        "💗\n",
        "<font color=\"DarkBlue\">\n",
        "Hemos llegado al final de nuestro colab, a seguir codeando...\n",
        "</font>\n",
        "</p>\n"
      ],
      "metadata": {
        "id": "oHeNh3M2QRvw"
      }
    }
  ]
}
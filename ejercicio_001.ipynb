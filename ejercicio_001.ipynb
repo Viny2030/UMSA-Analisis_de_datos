{
  "nbformat": 4,
  "nbformat_minor": 0,
  "metadata": {
    "colab": {
      "provenance": []
    },
    "kernelspec": {
      "name": "python3",
      "display_name": "Python 3"
    },
    "language_info": {
      "name": "python"
    }
  },
  "cells": [
    {
      "cell_type": "markdown",
      "source": [
        "![image.png](data:image/png;base64,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)"
      ],
      "metadata": {
        "id": "T8Gkj3ylGklr"
      }
    },
    {
      "cell_type": "markdown",
      "source": [
        "# **<font color=\"DarkBlue\">Mis primeros ejercicios con Python</font>**"
      ],
      "metadata": {
        "id": "ZJ8MFCRegkBU"
      }
    },
    {
      "cell_type": "markdown",
      "source": [
        "<p align=\"center\">\n",
        "<img src=\"https://pypi.org/static/images/logo-small.8998e9d1.svg\" width=\"90\" height=\"\">\n",
        "</p>"
      ],
      "metadata": {
        "id": "gjpEYi_23t-3"
      }
    },
    {
      "cell_type": "markdown",
      "source": [
        "## **<font color=\"DarkBlue\">Ejercicio 1: Añadir comentarios</font>**"
      ],
      "metadata": {
        "id": "ZiHPlFwRnqdY"
      }
    },
    {
      "cell_type": "markdown",
      "source": [
        "Tarea: Añade comentarios explicativos al siguiente código para describir lo que hace cada línea"
      ],
      "metadata": {
        "id": "Gg4K_0MVpdOS"
      }
    },
    {
      "cell_type": "code",
      "source": [
        "a = 5\n",
        "b = 3\n",
        "suma = a + b\n",
        "print(suma)"
      ],
      "metadata": {
        "id": "o6vCIAz9nzfq"
      },
      "execution_count": null,
      "outputs": []
    },
    {
      "cell_type": "markdown",
      "source": [
        "## **<font color=\"DarkBlue\">Ejercicio 2: Asignación de variables</font>**"
      ],
      "metadata": {
        "id": "N1lFpAnWpjmt"
      }
    },
    {
      "cell_type": "markdown",
      "source": [
        "Tarea: Crea variables de diferentes tipos (entero, flotante, cadena, booleano) y asigna valores adecuados a cada una. Luego imprime los valores."
      ],
      "metadata": {
        "id": "-nAuKvYVprIq"
      }
    },
    {
      "cell_type": "code",
      "source": [
        "# Ejemplo de variables de diferentes tipos\n",
        "# Completa el código\n",
        "mi_entero =\n",
        "mi_flotante =\n",
        "mi_cadena =\n",
        "mi_booleano ="
      ],
      "metadata": {
        "id": "QNNlluD_prkV"
      },
      "execution_count": null,
      "outputs": []
    },
    {
      "cell_type": "code",
      "source": [
        "# Imprime los valores\n",
        "print()\n",
        "print()\n",
        "print()\n",
        "print()"
      ],
      "metadata": {
        "id": "AblM_866qBUf"
      },
      "execution_count": null,
      "outputs": []
    },
    {
      "cell_type": "markdown",
      "source": [
        "## **<font color=\"DarkBlue\">Ejercicio 3: Operaciones aritméticas</font>**"
      ],
      "metadata": {
        "id": "hEeVDYqKpsDC"
      }
    },
    {
      "cell_type": "markdown",
      "source": [
        "Tarea: Realiza las siguientes operaciones aritméticas e imprime los resultados: suma, resta, multiplicación, división, división entera, módulo y exponenciación con los números 10 y 3."
      ],
      "metadata": {
        "id": "a4iAaTJppsgc"
      }
    },
    {
      "cell_type": "code",
      "source": [
        "a =\n",
        "b ="
      ],
      "metadata": {
        "id": "ywUVb7_WptE9"
      },
      "execution_count": null,
      "outputs": []
    },
    {
      "cell_type": "code",
      "source": [
        "# Completa el código para realizar las operaciones e imprimir los resultados\n",
        "\n",
        "suma =\n",
        "resta =\n",
        "multiplicacion =\n",
        "division =\n",
        "division_entera =\n",
        "modulo =\n",
        "exponenciacion ="
      ],
      "metadata": {
        "id": "8Z0hvwxKqfW_"
      },
      "execution_count": null,
      "outputs": []
    },
    {
      "cell_type": "code",
      "source": [
        "print(\"Suma:\", suma)\n",
        "print(\"Resta:\", resta)\n",
        "print(\"Multiplicación:\", multiplicacion)\n",
        "print(\"División:\", division)\n",
        "print(\"División Entera:\", division_entera)\n",
        "print(\"Módulo:\", modulo)\n",
        "print(\"Exponenciación:\", exponenciacion)"
      ],
      "metadata": {
        "id": "O1C2IwKKqh-m"
      },
      "execution_count": null,
      "outputs": []
    },
    {
      "cell_type": "markdown",
      "source": [
        "## **<font color=\"DarkBlue\">Ejercicio 4: Operadores de comparación</font>**"
      ],
      "metadata": {
        "id": "8RgbGQOpqpbk"
      }
    },
    {
      "cell_type": "markdown",
      "source": [
        "Tarea: Escribe un código que compare dos números (5 y 7) usando todos los operadores de comparación y muestre los resultados."
      ],
      "metadata": {
        "id": "D6wfMO0WqqKW"
      }
    },
    {
      "cell_type": "code",
      "source": [
        "a =\n",
        "b ="
      ],
      "metadata": {
        "id": "w8To5jqHqqjM"
      },
      "execution_count": null,
      "outputs": []
    },
    {
      "cell_type": "code",
      "source": [
        "# Completa el código para realizar las comparaciones e imprimir los resultados\n",
        "igual =\n",
        "diferente =\n",
        "mayor_que =\n",
        "menor_que =\n",
        "mayor_o_igual =\n",
        "menor_o_igual ="
      ],
      "metadata": {
        "id": "tEFT1WQ1u60H"
      },
      "execution_count": null,
      "outputs": []
    },
    {
      "cell_type": "code",
      "source": [
        "print(\"Igual:\", igual)\n",
        "print(\"Diferente:\", diferente)\n",
        "print(\"Mayor que:\", mayor_que)\n",
        "print(\"Menor que:\", menor_que)\n",
        "print(\"Mayor o igual que:\", mayor_o_igual)\n",
        "print(\"Menor o igual que:\", menor_o_igual)"
      ],
      "metadata": {
        "id": "EhivkbL8vMoq"
      },
      "execution_count": null,
      "outputs": []
    },
    {
      "cell_type": "markdown",
      "source": [
        "## **<font color=\"DarkBlue\">Ejercicio 5: Operadores lógicos</font>**"
      ],
      "metadata": {
        "id": "yKIagXe7v4EX"
      }
    },
    {
      "cell_type": "markdown",
      "source": [
        "Tarea: Usa los operadores lógicos and, or y not para evaluar las siguientes expresiones y muestra los resultados:\n",
        "\n",
        "- True and False\n",
        "- True or False\n",
        "- not True"
      ],
      "metadata": {
        "id": "mfMgq1Amv_IP"
      }
    },
    {
      "cell_type": "code",
      "source": [
        "exp1 =\n",
        "exp2 =\n",
        "exp3 ="
      ],
      "metadata": {
        "id": "N6v3qlKsv_y-"
      },
      "execution_count": null,
      "outputs": []
    },
    {
      "cell_type": "code",
      "source": [
        "print(\"True and False:\", exp1)\n",
        "print(\"True or False:\", exp2)\n",
        "print(\"not True:\", exp3)"
      ],
      "metadata": {
        "id": "CofyDddcyIgF"
      },
      "execution_count": null,
      "outputs": []
    },
    {
      "cell_type": "markdown",
      "source": [
        "## **<font color=\"DarkBlue\">Ejercicio 6: Condicionales</font>**"
      ],
      "metadata": {
        "id": "GFXmd3nWyTQD"
      }
    },
    {
      "cell_type": "markdown",
      "source": [
        "Tarea: Escribe un programa que tome una variable edad e imprima si la persona es un niño, adolescente, o adulto, usando if, elif y else."
      ],
      "metadata": {
        "id": "VayKiE1gyZtv"
      }
    },
    {
      "cell_type": "code",
      "source": [
        "edad ="
      ],
      "metadata": {
        "id": "4-BUWiDuyo79"
      },
      "execution_count": null,
      "outputs": []
    },
    {
      "cell_type": "code",
      "source": [
        "# Completa el código para verificar la edad e imprimir el mensaje correspondiente\n",
        "if :\n",
        "    print(\"Eres un niño\")\n",
        "elif :\n",
        "    print(\"Eres un adolescente\")\n",
        "else:\n",
        "    print(\"Eres un adulto\")"
      ],
      "metadata": {
        "id": "OFlOaN-eyaGS"
      },
      "execution_count": null,
      "outputs": []
    },
    {
      "cell_type": "markdown",
      "source": [
        "## **<font color=\"DarkBlue\">Ejercicio 7: Bucle for</font>**"
      ],
      "metadata": {
        "id": "EONo8ncUyx3z"
      }
    },
    {
      "cell_type": "markdown",
      "source": [
        "Tarea: Usa un bucle for para iterar sobre una lista de nombres e imprimir cada elemento."
      ],
      "metadata": {
        "id": "FSSMNWVyyyZ7"
      }
    },
    {
      "cell_type": "code",
      "source": [
        "financiacion = [\"3 cuotas\", \"6 cuotas\", \"9 cuotas\", \"12 cuotas\"]"
      ],
      "metadata": {
        "id": "g60ct_-zzTDh"
      },
      "execution_count": null,
      "outputs": []
    },
    {
      "cell_type": "code",
      "source": [
        "\n",
        "# Completa el código para iterar sobre la lista de financiacion e imprimir cada uno\n",
        "for :\n",
        "    print()"
      ],
      "metadata": {
        "id": "U6Cb7vD1yy7n"
      },
      "execution_count": null,
      "outputs": []
    },
    {
      "cell_type": "markdown",
      "source": [
        "## **<font color=\"DarkBlue\">Ejercicio 8: Bucle while</font>**"
      ],
      "metadata": {
        "id": "HNS94HPCzsLA"
      }
    },
    {
      "cell_type": "markdown",
      "source": [
        "Tarea: Escribe un bucle while que imprima los números del 1 al 5."
      ],
      "metadata": {
        "id": "-7l9T0gb0NBY"
      }
    },
    {
      "cell_type": "code",
      "source": [
        "contador ="
      ],
      "metadata": {
        "id": "83m7-0Qj0S1a"
      },
      "execution_count": null,
      "outputs": []
    },
    {
      "cell_type": "code",
      "source": [
        "# Completa el código para imprimir los números del 1 al 5 usando un bucle while\n",
        "while :\n",
        "    print()\n",
        "    contador += 1\n"
      ],
      "metadata": {
        "id": "U_0_5Osk0NcM"
      },
      "execution_count": null,
      "outputs": []
    },
    {
      "cell_type": "markdown",
      "source": [
        "<p align=\"center\"><b>\n",
        "💗\n",
        "<font color=\"DarkBlue\">\n",
        "Hemos llegado al final de nuestra ejercitación en colab, a seguir ejercitando...\n",
        "</font>\n",
        "</p>\n",
        "\n"
      ],
      "metadata": {
        "id": "jLFcCFoEuxr6"
      }
    }
  ]
}
{
  "nbformat": 4,
  "nbformat_minor": 0,
  "metadata": {
    "colab": {
      "provenance": [],
      "include_colab_link": true
    },
    "kernelspec": {
      "name": "python3",
      "display_name": "Python 3"
    },
    "language_info": {
      "name": "python"
    }
  },
  "cells": [
    {
      "cell_type": "markdown",
      "metadata": {
        "id": "view-in-github",
        "colab_type": "text"
      },
      "source": [
        "<a href=\"https://colab.research.google.com/github/Viny2030/UMSA-Analisis_de_datos/blob/main/ejercicio_pandas_001_00.ipynb\" target=\"_parent\"><img src=\"https://colab.research.google.com/assets/colab-badge.svg\" alt=\"Open In Colab\"/></a>"
      ]
    },
    {
      "cell_type": "markdown",
      "source": [
        "<p align=\"center\">\n",
        "<img src=\"https://github.com/cristiandarioortegayubro/BDS/blob/main/images/Logo%20Pandas.png?raw=true\">\n",
        "</p>\n"
      ],
      "metadata": {
        "id": "XM-hn7ZLmgQc"
      }
    },
    {
      "cell_type": "markdown",
      "source": [
        "https://datos.gob.ar/series/api/series/?ids=168.1_T_CAMBIOR_D_0_0_26"
      ],
      "metadata": {
        "id": "rUeFxFdmtH05"
      }
    },
    {
      "cell_type": "markdown",
      "source": [
        " # **<font color=\"#07a8ed\">Mis primeros ejercicios de Pandas 🐼 </font>**"
      ],
      "metadata": {
        "id": "_o8tuKydjnRZ"
      }
    },
    {
      "cell_type": "code",
      "source": [
        "import numpy as np\n",
        "import pandas as pd"
      ],
      "metadata": {
        "id": "dQtWrchXqRb3"
      },
      "execution_count": null,
      "outputs": []
    },
    {
      "cell_type": "markdown",
      "source": [
        " # **<font color=\"#07a8ed\">Dataframe</font>**"
      ],
      "metadata": {
        "id": "Y7LDCZ14PIKr"
      }
    },
    {
      "cell_type": "markdown",
      "source": [
        " ## **<font color=\"#07a8ed\">Creando el Dataframe</font>**"
      ],
      "metadata": {
        "id": "-fVvMx3Qv11J"
      }
    },
    {
      "cell_type": "code",
      "source": [
        "url = \"https://infra.datos.gob.ar/catalog/sspm/dataset/168/distribution/168.1/download/datos-tipo-cambio-usd-futuro-dolar-frecuencia-diaria.csv\""
      ],
      "metadata": {
        "id": "1_2QNPIquRQ7"
      },
      "execution_count": null,
      "outputs": []
    },
    {
      "cell_type": "code",
      "source": [
        "df = pd.read_csv(url)"
      ],
      "metadata": {
        "id": "gDFBmVdMtqjy"
      },
      "execution_count": null,
      "outputs": []
    },
    {
      "cell_type": "markdown",
      "source": [
        " ## **<font color=\"#07a8ed\">Explorando el Dataframe</font>**"
      ],
      "metadata": {
        "id": "cii_0f2owGcd"
      }
    },
    {
      "cell_type": "code",
      "source": [
        "# Mostrar las primeras 10 filas"
      ],
      "metadata": {
        "id": "EySgYVFmwIhi"
      },
      "execution_count": null,
      "outputs": []
    },
    {
      "cell_type": "code",
      "source": [
        "# Mostrar las ultimas 6 filas"
      ],
      "metadata": {
        "id": "rp0fYQujTO4D"
      },
      "execution_count": null,
      "outputs": []
    },
    {
      "cell_type": "code",
      "source": [
        "# Mostrar la dimension del dataframe"
      ],
      "metadata": {
        "id": "cRXupnoz0MwV"
      },
      "execution_count": null,
      "outputs": []
    },
    {
      "cell_type": "code",
      "source": [
        "# Obtener un resumen informativo del DataFrame"
      ],
      "metadata": {
        "id": "gm9Gz5TowPbq"
      },
      "execution_count": null,
      "outputs": []
    },
    {
      "cell_type": "markdown",
      "source": [
        " ## **<font color=\"#07a8ed\">Resolver las consignas</font>**"
      ],
      "metadata": {
        "id": "7T7g6YfJToRM"
      }
    },
    {
      "cell_type": "code",
      "source": [
        "# Cambiar el tipo de dato de indice_tiempo"
      ],
      "metadata": {
        "id": "89bNiIrqwUrB"
      },
      "execution_count": null,
      "outputs": []
    },
    {
      "cell_type": "code",
      "source": [
        "# Obtener estadísticas descriptivas del DataFrame"
      ],
      "metadata": {
        "id": "sWOa5be1wbo1"
      },
      "execution_count": null,
      "outputs": []
    },
    {
      "cell_type": "code",
      "source": [
        "# Obtener la cantidad de nulos del dataframe"
      ],
      "metadata": {
        "id": "TlzPiUrgxHXY"
      },
      "execution_count": null,
      "outputs": []
    },
    {
      "cell_type": "code",
      "source": [
        "# Renombrar la columna 'indice_tiempo' a 'fecha'"
      ],
      "metadata": {
        "id": "7Ri--Qg9T3tq"
      },
      "execution_count": null,
      "outputs": []
    },
    {
      "cell_type": "code",
      "source": [
        "# Ordenar el DataFrame por 'tipo_cambio_a3500' en orden descendente"
      ],
      "metadata": {
        "id": "CqJX3Pz8WFuk"
      },
      "execution_count": null,
      "outputs": []
    },
    {
      "cell_type": "code",
      "source": [
        "# Reindezar el dataframe"
      ],
      "metadata": {
        "id": "ZqsqaGtbWSzu"
      },
      "execution_count": null,
      "outputs": []
    },
    {
      "cell_type": "code",
      "source": [
        "# Crear una columna que se llame año y tomar el año de la columna fecha"
      ],
      "metadata": {
        "id": "3Unf4VIiWcB_"
      },
      "execution_count": null,
      "outputs": []
    },
    {
      "cell_type": "code",
      "source": [
        "# Cambiar de lugar la columna año y que este a continuacion de fecha"
      ],
      "metadata": {
        "id": "a8W-vNVOX4gT"
      },
      "execution_count": null,
      "outputs": []
    },
    {
      "cell_type": "code",
      "source": [
        "# Filtrar por el año 2024"
      ],
      "metadata": {
        "id": "4hYxM0DsYMma"
      },
      "execution_count": null,
      "outputs": []
    },
    {
      "cell_type": "markdown",
      "source": [
        "<br>\n",
        "<br>\n",
        "<p align=\"center\"><b>\n",
        "💗\n",
        "<font color=\"#07a8ed\">\n",
        "Hemos llegado al final de nuestro colab de Pandas, a seguir codeando...\n",
        "</font>\n",
        "</p>\n"
      ],
      "metadata": {
        "id": "5fz0AonM4svK"
      }
    }
  ]
}
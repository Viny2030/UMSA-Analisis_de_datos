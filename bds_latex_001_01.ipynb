{
  "cells": [
    {
      "cell_type": "markdown",
      "metadata": {
        "id": "view-in-github",
        "colab_type": "text"
      },
      "source": [
        "<a href=\"https://colab.research.google.com/github/Viny2030/UMSA-Analisis_de_datos/blob/main/bds_latex_001_01.ipynb\" target=\"_parent\"><img src=\"https://colab.research.google.com/assets/colab-badge.svg\" alt=\"Open In Colab\"/></a>"
      ]
    },
    {
      "cell_type": "markdown",
      "source": [
        "![umsa.png](data:image/png;base64,iVBORw0KGgoAAAANSUhEUgAAAOEAAADhCAMAAAAJbSJIAAAAolBMVEUGIFz///8AAFIAAE0AAEwAAE8AAEoAHlsAF1gAG1oADVUAE1cAAFMAEFYAGVkAClQABlPf4efT1d35+vyytsWqrr7m6O2MkqiboLOlqbrIy9UAAEeHjaW/ws7w8fQAAES6vcpXYINhaYlrc5FEUHl6gZslNGdfaImWm68cLmR2fZhNV30AADrY2uGJj6YxP24PJmA8SXQuPGwAAD8iMmYAADNtZ3XRAAAVVUlEQVR4nO1ca2OyutKVQLiKgFdAoSpaLW5b7X7O//9rZybhMij2eXTv98t7sj60FSHJymVmzSR0MFBQUFBQUFBQUFBQUFBQUFBQUFBQUFBQUFBQUFBQUFBQUFBQUFBQUFBQUFBQUFBQUFBQUFBQUFBQUFBQUPhfhmW7DDB0Pev/vjLOWBgEQQgVPmgNhxtCFnQujsQ178eSbc7unqu+4JvFbJ2tk8XBN9wfSI5MXTd/ruW3sM/rWXw8HuNZtu6laA3GM/h6HdOmjk5pfIzT4qfK7VOaHI/T+JaibW5SrUW0cB907WCgj7Uo0ubmE3zu28/busa89w4mv53Rdvh72bqf6tbT3lL5LtJuEPP+YXQu8vvr6ElW3Xa0FfWP4aDqg2NIroWxvLh5PIjOu7xlbtCrlhnf8gPkVi/F8NjTuU/DmDT1JP0FVXesXHKNrathN3ofQfCpvGWi06tmVlU2yZJkXY9mrvcWscyre41/Yo8Iw2OPUcA7ZD0lHS5+1n4zgSy7LtYhzTNq2sWSD4fMfJeE47CvCG9TF/Hjev8dzLxh2Bkl0qq5+HZr02v1U1nv2gWwZjZeneaiX1QzN6yqcswSP385fUXwery19FEtfwKjZfigp3Q5l06EIbFPv3ob16xe7Jq2WF5NmEE78nwBk7TXYFleU0RnHjyLaoQQB7v3jmpGkqEYOL+ah6b93RsseqZGfbGz4JfRA0tCitAW/Qvoj0AY7h4wHItv3wlDe9NW3tu9lt5OjWR4WxedDgPvoG16Kzbblv0jl0gY9q+GAZd+7UKYVO7wfkD6bsjqG5zv6sp7pyLv1EvQ3mkED3r/T0AYfjxgKBe8TxjyhFQ+7BlEYr+0cz2PG9o3lB5MnTVlOH3dJeqtwrD7lzOTDBllmJHKj/em3ivI93ntM4d1v8R/0NxaStXQX7Y1hOGw/47Ku1OLwqnwmtzbmmVHmNWarJYJ8MTvm+uuugxL/wVyAoRhv7AYMOGlO9LEnNDKP28NHRgPikHFh/i35W8pSjuzbQr5QT39BoThA3tVMaQ1DDsMcvOmvea58/2u8n6sndup/huVYp/wtug/bUkPrMS/xzAnDLtmTtP2XTEkW9dGSLWSGM5Ir5yMH1ssx3vPW5scv6priC19xHB2y9BHqXVuKdxoEkM40Pfm60XVAdSFQA9888ccpZ6Z6EQ85a9O05bh5I8Ziqgmu7at7ZgBOcKzZfNtLVmclrRA9qU/0u1Sz4CrJT7jh0jtX2FIwzxhFGd/j5vKO5JDDqFltkzq+WXcxr7p9cFclf4UlIGc8d1inmXY+OY/ZyiU6oK3lVPRLodwytuua1x+x01WHN/72i1VoTCfy1Y7PPDXTzB8MNElw0i/eabwiMkk6QxDrM+Lw5shbif4jZEVmPVMVSkURbeFbU7gRfndMny0lKUtJQytAC/sRm2ECnFJPYgjsTzXnPqGxsE7g44jrer9um25NZA9jo85H82NL8rv1nn/MUNJAtphtusqWlZfyiGEFUR8Q6u0va97htA9NypOjltloIx23Psl+r/AUJizc8tQOAtUQFS7VINoC/ZoFEh4R6Ij7xfR5O3DHYdqyXlVhTpEvq1fsjVtnubROpTO99yWLrpY9AcZxLOcQtKQYuNkPwjsiTMZ1RmqDjqCRRqkemnLNSHBXrE1hOGDaS6XPWEoVpiYtdQ4CnclDWmK7EmU3E009SRMu6pT9lKTGuCttHiQSfpTho80jcxiEIZC6MnkEInDRZ+bonEiXG3i3btE7MjckvBdgiyxShg0OxqkG1+yNYThg5hGOjaSutbxERmSkqmIgyj9sxyQNp14n0z3zO3NOJJOkN4pe2M1/m6b+EqoTxheHjAUd7QJPUvk2quZR4J5GETp7+R4EEk5v1/hnnnojCNZIvK5dNYgaXvjQd7rTxn2Z3ctX5bddLJcYNWScImaPjDxTWVzaJ6yz4Z5y44Qb7rX7Vy+xQu2hjDsz5dK70dyFdJ8Vylwizwf/Ud0du38SVzWPzsCj0icZiGa93aI4AVbQ6KnflVUxTxtUl8qgNrHBZ9t9VLA1vON2MAHrtoxW/Fe542J1O7DC7amlY8P9p4kIe1r1H2iST3yGyHWzATWBj77B0kWizczud40kN43Lcui2AoURbknE/d5W8NaB9zfP9UgL5sL0rg0E6/eAqvQRsOsTTn277wAgkawVC23HNmfzPc8G+F5nu8v2+nwfAxFA+++VEi1S0lMqbQ8zXjfpP32dzl8Mjus4KaG1qVU6VgpSaMb00SVxdMxFNHuvQuxamc7z+RCISlERtPDebvVR3xl5RCtQXK9oVjL4koUV5L01p5Y+m/3AH8A0e5907SKQNvjBNKaE5lOXHunk4gur+6GzrlNH9cMK2dUDdbodpzImu7fqPoJdAaUd/0TyElMVP19QMxJDo2skhFJ5Mj2u5/avF3PiGrZNctQdvf4LnNLQ9Ht0/ka4i8058bpOyN5neylSFNKhRiZ6HH/Ze1bPI8jUXYGsXbvZ4N2So/pJTno53PDNPs5dzuF21yyn5GGS1Pa2ZVtk9mdszHhbb+LvryQIbBq0XeVQ1hFVj0nbIjJ176fPprBib2fbMygXgW2/iUbMCezptqZ7fjOJozobnWSgywiZSqn5OS9UV527QWqobdc7XZ+1KBC4IV9KJMGpdHiyg1D1w2+qYfm435ztMulOjqjXTqWkghT0ah6xR8ZD3zPZ8ZXJdDSynhUrrVPmVF1qAXPi1Oz67W1PDqf2zzqN13arvQeXR9eTfSbLANZ4GJY2pmWHstin9RGPKv3PaouGfQRINZUWzwSED+An/rSJ7JxTsd2Vc387PazDMtvFghv/ZBwF0ZPog2LqglWY3zr7qsvSU4of+V8jW0sejnmpdn10VXEcLOdJ6x5emPkifQWksUreqpIP5r5XnnmfolnUf370maiFRjb7LaT08K4LYvl5ywbT26dkhnld6KYZXk0TrMsHUfaCYfX14txp/w8edebDnR2GhR9lrfeg2WT+VmWlkevJfgtjxtf+yQbR/N5dE6nnyfOe45/6hxg3Cl8sE5314YG3Mzgdr3anoAqhofjGms4p7P9lzmkE8Qx+otuShPfY2n/4Jyb40OLdEO0zL3TTv8GLDsUNUAF/j86cqigoKCgoPBvw/G8zvaWFCyjbsQvr1o+/pY/6XfwvOfCVcyNuViYhx/cgL4z4oRc59VLGrYnc0/iNngEbrzNUlHh4j+87c8InsqSHL30yvKCbTjEVGjCVaRm7YvCs77wJ/muKHeOV6zg6rYo9p87By7t8a/johg059rek/M8ygqx97Yt9u8WpvrgtqJcLY6L8mrSY47WgOhcf1Xf9ll8m8/v52OenqSlIYhB8QuR4J50ozHBLVTMHY65yCASgc8w5CHxDfQFbjKCKh2D1E0t0XvGUZuviqPMD2CIgp0qhXw+n6MonyRkZkCwuGtEj4F3Tarb8iN/Vg1h3u+7HUOoFfNFIwiri1YBGnOxhQQSP+Mig9gOIoQ9EOJiiurNNAz/e3N1xCcDJOASQqIcRzFcaOmb6zFLS0J5QvXDElmf/C8TA27zigmtUxOVmROS/YVOH/8tbjNO0JH5+5OZbwzMSNjJI7HXJcLaTTMj9LlQ9BDkrZnIMrX1Q5gEHYTJXKRiObYjs6giXcEKmVoaapqDvRgucMsDw3nM7cKj9d7biH9P2t0Ccay/OWENwXSdGbIN6PnJk2+EIUNyuJRHImCVgfu1Dp/0SATq0JuYksDYr04mWJ7I/wVHekSz5ivSNfCEfdBymUn0sf8x0YxV8owkJv1rG/+a0ZRseMG0ajsU++zJQwtQu9Y58iRST8AQ4+rvesskEr0IvYk5Ggx563wKLGMcFndBGSJf2QoYdXgCVwLJleLSxw6AxUuCPR0WrwwP7ZPmZ232l5/b4+LygG5vquNHhiSTzM+iUmBoQLMmlyrTdxZ1AENx+N6cN91tRCJZDo2mDBfV4Q7LErPU3oIBarkQhiS15sFNifjI09TctWsdGJIMG06AR9tZDxhubhieK4acQ0Ny6YH4eUoZYi3SOjnfcjQbhuI1LbdmuJxpuW7JTGG5rM/D481VdoowxA0C8RHW+cY2zk32FwwSYYipxedSit7tGI5rhhaYeG0u1hMfdxjiMRf5IgJYTV43+i8DYCNz/PQWgotPtMm7tDCYZSp16fP6GQ6W1aY/m8EEJSa+yxBPEjz3ohBYmkmHoXgcegqomQmufmHXZ0PCEE9+TjBLZhkTmTzFiScTPTgF8FNyjGFhzcJqT0LmIRPXe8zQzEVLwN/itDDzmleXIfrf81MMobO6DMWKg7mLg4fp4rF5zxDPd+Eyge6RuxrY6O1+/7mIMcONn1ACbPQmxc0+ZCby5D1mOBGJR1gCf8NkeFvVb3PcjKH76HXQR8D+Jgz1SDCEZS/cm5mKw/W3DPE8LC4TfVwtFmz00gfpGNar8i9Y32dyLN9hbIWjDHbwEUO5q4VDKVAnZrsM8UxR9tQ6vGFo5OsqCS8WoLUcg/9Z3jHEp94dsAlVZrFrS/GTwWAlTWmC1wrw7GIcPmCITYe6oebVXiCqtuNuLM2h9z2WH4BLun1By9Klxfb31SaQheJx+tctQ3TlM8aT+g3PPm9hgBLbd3rbWuZoJfq9BW65lz54+zNMBgAvqzfqugxRL+2ekqZofdsTks6XzCm7n/XZMicEwRuntS2td2Wg/yfcbHLUcP+9P8RTUteOiATT22VIbIY51iYMm1MltTHRLSIM8Idktwsmcc8xq59ghfQVNHaUAwqqpBYOI3G2VzAzGvsm9jOLotlwCjqaJpSaxvEm2kRMhTpsAIY4Sz+lbGVUtbkolALcyarjFhytXzIEaRceWz1/cB9Vpl811BlWEhBKb7Z+7W/CsOlNE2zNuYniQIlShokcJO8kz4F5+0KKPJBcoK6h+8QagJobhsHHBDfanF/tjMRXOfEDUd4W29XC5wmMgEA0ZLbj2EMeVQcFYBK2IZVbywh90vamOP/VnhACTujjGeO+3O4X05eDBJ8ZyP8Cg2bphVDNKMwvMnqav9n2yPaZWciNNj4lWxe4qRVa2K/p0pO3QaXx8yejXLBOk3jz/usEA1FpbehespyZiAHFicNGTqBfah0pcjrGSTJbj1e+CHGFfLPwoNo+xO3/lbe0YlhYlnxDCGcI7sDtt6fdppzlWl7A7LRG9LgF2p5jgOo9L/G2/XSiRadXNmbcy1TqkTzmlWFg2Zy+vspj6SXnZ7IiplFrtdlsHgnMc3D5bBbN38VcGL3n5/l1FCaignwvmh8m0RzP1vDx/AxPgOuLphvxHzD8zyhpPYHl5+fzcMDnEdyWTyb5OdmZr71P6jDzctqeLkZbOusmC9hOzFmdU/nEiVtihl7tDbniq3rjDPeUHFg/xtdhM6i368Lqa66LJ0yDs6rhPi0TRCHHEdOb2/hr/GRhtvfjkapXX49rC7BffO3l34Dvuq6wpr6LycDmvIfd/LLFnzYMhh/A2vfgvhEuxSCoIzUnCD3xS/6Gm8MAVLd8UFzx2v4XXB0oRPhcyw3DAIqDVrhVpZYHn0AEugNvNHBknIZfeEEQvLAt568Wx3jxxfCPRbwLjx+Son2oftn2FsWFfdg5fJHMfvnlYnHcjPwLmJaFDB5G78kM4lJ2BWNTojUxilky24SFSACULurAZmHbB1ikzhdUhmGxPzgmSbKzLwu4cLlsA4yQShYfV6tjzMqTd/qCB50rPK5DocnueVNjaOX7dzGJmZGXu+2XWf+rhCARioVPGJviGeswKfT1YrnYGuf4etgFh3zHWJHj4VNrlA94xnh8/mDhcR5aLEpcfs3exkmAghOEAUsbG2JEUDBEL+xjnDF/m28YO825rX2fikug7aA7Rme9PGXZqdTPR77VYPLYRRLycxKwy3j2NEUj39mOO9C+zPnGty2jVjNg88Ftgz75YDNsXRAflhPb9m2erkJ75Glf6PpKjHi8cry0QlBcJkxkc71eztIl/i8ilh3RsmagZuHPKnXnXNfgZka73PB2E8PRvqEYmw2GmjmyLQ80gWe5KfN4MuNYFTvMc+bYh4UhCrXeJk//LxBgOELlsFjOT2ArjfoUJ5uuY4jQ1uCCZti6ID4Z4/OHbrF0bzB3LzwXSHUw/M639mkEbC0UDxD9q4o52HrhWs70lwYPrevXSdnajErP2eV/L9czYyUPRVoDXfsb/+tSstc+bAYFhQl0KwOGxSGb6/ZhVVEbJs+Fhw1DPk7eonQ9vpj1+UeWWZrLpx/jUp9KhlfbSrXxhafj9fg7lqrZ1Apcaodc+3wbi2kNMZVZnf1HWkG84VHps/VRMrQu62EZGc5Vy8YlD2V7rQ/oqmm2ZpfkLdYcPh0ShuXb+LzcrN5koe7n/MGL579haM5XOIbcqsfQ8rK3bHZZv2VHU/zDp3B2dSzuROkbjCEPV0LiW6bcE/DMg3bNhLYDUf5XFa4gQ1g9cRYZzRiGyTROYCru8g/ty3aPImsXahzHkFkfU27OJiZhyMvSM6L0CgwP8qXE55IYNUPvXXMMoWMMsAsouZzrlF3wUM9sasaZju/eeQMwuKfzW7qCufehjfAdLpnugODBTIti8oZyMx6/ZVMd+wgWH9+v9HCpXTmsQyzWYuNlYE4z/Zq/FZprf2mYsdQ1g0FQYTnfwM3M5iD0wxn8QIar0rN4HpWGKHTwNv989q0EYwLLb5cXvg5WzYJZavkXEMZeGQccVpZ7HPN37aSDqWZhZpjTvTle8dEHW0QeY+85dqy3Kgx37hrpVA/5YfJhDyaFHrorI43f5iEuaRj4I3fAD7nHhY/r1ttohj6dcxbn75xxzfC1pXcZ7EAWWsszrMPhFGYEHx/5ce9BIKaVrjMpeKAn56fPmLLpLJ4mHy4o4uk0K3g2naYg8O1iaztfX469SQJvl6YwHAM/SacrHsRw395jm/Vstv7GDnWu6XoKwYixXyfTGXrpIJkm6y07lu84wZ1rxhfrKVrWIMGwgs22MEUsvt7afAPPTlfuBev93n36KEihF/wVaHg3LliJLyvY18J2hljo6oWDbSwMuNiHgOAHBCK+UIVLGvUI6gk7QGvOGFIJ2RBaEDCx12mzMGTSdzoQNomtUbgUCqESsABUJKgWV35vufAQ/i13PELbwWgF9SiUPWQ+/M2HzHKESLLwpy+SDV6li/AMoQXtZC//jwwFBQUFBQUFBQUFBQUFBQUFBQUFBQUFBQUFBQUFBQUFBQUFBQUFBQUFBQUFBQUFBQUFBQUFBQUFhf9v+C+p53mkzMfAWQAAAABJRU5ErkJggg==)"
      ],
      "metadata": {
        "id": "tlWiL0PTkwFX"
      },
      "id": "tlWiL0PTkwFX"
    },
    {
      "cell_type": "markdown",
      "id": "795ca1b3-d014-48a1-8cd2-a69a90043112",
      "metadata": {
        "id": "795ca1b3-d014-48a1-8cd2-a69a90043112"
      },
      "source": [
        "# <font color=\"DeepPink\">$\\LaTeX{}$ **para celdas de texto en Notebooks**</font>"
      ]
    },
    {
      "cell_type": "markdown",
      "id": "65c27d22-1803-44f8-9c57-4566f07ecacc",
      "metadata": {
        "id": "65c27d22-1803-44f8-9c57-4566f07ecacc"
      },
      "source": [
        "<p align=\"center\">\n",
        "<img src=\"https://www.latex-project.org/img/latex-project-logo.svg\" width=\"300\" height=\"\" >\n",
        "</p>"
      ]
    },
    {
      "cell_type": "markdown",
      "id": "5dca8b7a-3e24-4610-ba58-3dca0360851d",
      "metadata": {
        "id": "5dca8b7a-3e24-4610-ba58-3dca0360851d"
      },
      "source": [
        "# ➕ <font color=\"DeepPink\">**Expresiones matemáticas en celda de texto**</font>"
      ]
    },
    {
      "cell_type": "markdown",
      "id": "4c6449e6-8b19-415d-b898-81035cf081ad",
      "metadata": {
        "id": "4c6449e6-8b19-415d-b898-81035cf081ad"
      },
      "source": [
        "<p align=\"justify\">\n",
        "📘 Las expresiones matemáticas son muy utilizadas. Para empezar a escribir una expresión matemática, debe colocarse el símbolo <code>$</code>. Este símbolo debe colocarse al inicio y al final de la expresión matemática. Cuando se coloca un solo símbolo, la expresión matemática comienza al inicio de la celda de texto, y cuando se colocan dos símbolos, la expresión matemática queda centrada en la celda de texto.\n",
        "</p>"
      ]
    },
    {
      "cell_type": "markdown",
      "id": "b4a7ea97-2873-47b6-90de-e9c0f91688a5",
      "metadata": {
        "id": "b4a7ea97-2873-47b6-90de-e9c0f91688a5"
      },
      "source": [
        "## <font color=\"DeepPink\">**Fracciones y binomiales**</font>"
      ]
    },
    {
      "cell_type": "markdown",
      "id": "2555c723-4113-452c-b256-5290b28fe1e4",
      "metadata": {
        "id": "2555c723-4113-452c-b256-5290b28fe1e4"
      },
      "source": [
        "\n",
        "### <font color=\"DeepPink\">**Fracciones**</font>"
      ]
    },
    {
      "cell_type": "markdown",
      "id": "33fa57e4-3b02-40f9-8337-af73980dc18e",
      "metadata": {
        "id": "33fa57e4-3b02-40f9-8337-af73980dc18e"
      },
      "source": [
        "<p align=\"justify\">\n",
        "👀 Podemos introducir fracciones con el comando <code>\\frac{numerador}{denominador}</code>. Es necesario incluir entre llaves los dos argumentos que requiere este comando, es decir, las expresiones para el numerador y para el denominador.<br><br>Entonces, una fracción es creada usando la siguiente sintaxis:\n",
        "</p>\n",
        "\n",
        "~~~latex\n",
        "$\\frac{numerador}{denominador}$\n",
        "~~~\n",
        "\n",
        "<p align=\"justify\">\n",
        "y queda de la siguiente forma:\n",
        "$\\frac{numerador}{denominador}$\n",
        "</p>"
      ]
    },
    {
      "cell_type": "markdown",
      "id": "30726cb3-b112-48ea-a842-aa3d19a49f4b",
      "metadata": {
        "id": "30726cb3-b112-48ea-a842-aa3d19a49f4b"
      },
      "source": [
        "<p align=\"justify\">\n",
        "Si se desea que la fracción quede centrada en la celda de texto:\n",
        "</p>\n",
        "\n",
        "\n",
        "~~~latex\n",
        "$$\\frac{numerador}{denominador}$$\n",
        "~~~\n",
        "\n",
        "<p align=\"justify\">\n",
        "y queda de la siguiente forma:\n",
        "\n",
        "$$\\frac{numerador}{denominador}$$\n",
        "</p>\n"
      ]
    },
    {
      "cell_type": "markdown",
      "id": "5da61272-0a5e-4ae7-9c31-9212a1562e70",
      "metadata": {
        "id": "5da61272-0a5e-4ae7-9c31-9212a1562e70"
      },
      "source": [
        "<p align=\"justify\">\n",
        "También se pueden incorporar fracciones dentro de una fracción, de la siguiente manera:\n",
        "</p>\n",
        "\n",
        "~~~latex\n",
        "$$\\frac{\\frac{1}{x}+\\frac{1}{y}}{y-z}$$\n",
        "~~~\n",
        "\n",
        "<p align=\"justify\">\n",
        "y queda de la siguiente forma:\n",
        "\n",
        "$$\\frac{\\frac{1}{x}+\\frac{1}{y}}{y-z}$$\n",
        "</p>\n"
      ]
    },
    {
      "cell_type": "markdown",
      "source": [
        "Otros ejemplos:\n",
        "\n"
      ],
      "metadata": {
        "id": "tPf8YOGiIhQE"
      },
      "id": "tPf8YOGiIhQE"
    },
    {
      "cell_type": "markdown",
      "source": [
        "~~~latex\n",
        "$$\\frac{a}{b+c}$$\n",
        "~~~\n",
        "$$\\frac{a}{b+c}$$"
      ],
      "metadata": {
        "id": "T0GbltfmI6_j"
      },
      "id": "T0GbltfmI6_j"
    },
    {
      "cell_type": "markdown",
      "source": [
        "<p align=\"justify\">\n",
        "👀 Además del comando <code>\\frac</code> también podemos utilizar los comandos <code>\\tfrac</code> y <code>\\dfrac</code>.\n",
        "</p>\n",
        "\n",
        "- ```\\tfrac``` es el comando de fracciones en estilo texto, y\n",
        "- ```\\dfrac``` es el comando en estilo display.\n",
        "\n",
        "<p align=\"justify\">\n",
        "Si solo indicamos la fracción con <code>\\frac</code> $\\LaTeX{}$ se encarga de escoger la versión más adecuada al contexto. <br><br> El estilo texto, <code>\\tfrac</code>, es de menor tamaño y encaja mejor en ecuaciones escritas a lo largo del texto.   \n",
        "Para ecuaciones escritas en una línea separada $\\LaTeX{}$ escogerá automáticamente el formato <code>\\dfrac</code>, pero solo cuando tenga espacio suficiente para escribir la ecuación entera.<br><br>   \n",
        "En caso contrario, puede escoger utilizar el modo texto. Para sobrescribir estas instrucciones es necesario utilizar <code>\\dfrac</code> o <code>\\tfrac</code>.**\n",
        "</p>"
      ],
      "metadata": {
        "id": "Ora7laODSpBf"
      },
      "id": "Ora7laODSpBf"
    },
    {
      "cell_type": "markdown",
      "source": [
        "~~~\n",
        "Dada una función $\\frac{79}{88}$ que indica…\n",
        "~~~\n",
        "Dada una función $\\frac{79}{88}$ que indica…\n",
        "\n",
        "~~~\n",
        "Dada una función $\\dfrac{79}{88}$ que indica…\n",
        "~~~\n",
        "Dada una función $\\dfrac{79}{88}$ que indica…\n",
        "\n",
        "~~~\n",
        "Dada una función $\\tfrac{79}{88}$ que indica…\n",
        "~~~\n",
        "Dada una función $\\tfrac{79}{88}$ que indica…\n"
      ],
      "metadata": {
        "id": "MWBneWrhRNc7"
      },
      "id": "MWBneWrhRNc7"
    },
    {
      "cell_type": "markdown",
      "id": "0704f8ba-d1ae-480e-8b07-00e56e54df80",
      "metadata": {
        "id": "0704f8ba-d1ae-480e-8b07-00e56e54df80"
      },
      "source": [
        "### <font color=\"DeepPink\">**Binomiales**</font>"
      ]
    },
    {
      "cell_type": "markdown",
      "id": "9968282f-cd37-47dd-bd2d-a9b81383b345",
      "metadata": {
        "id": "9968282f-cd37-47dd-bd2d-a9b81383b345"
      },
      "source": [
        "<p align=\"justify\">\n",
        "Una binomial se logra con <code>\\binom</code> y las llaves, como por ejemplo:\n",
        "</p>\n",
        "\n",
        "~~~latex\n",
        "$$\\binom{n}{k}$$\n",
        "~~~\n",
        "\n",
        "<p align=\"justify\">\n",
        "y queda de la siguiente forma:\n",
        "\n",
        "$$\\binom{n}{k}$$\n",
        "</p>"
      ]
    },
    {
      "cell_type": "markdown",
      "source": [
        "Otros ejemplos:"
      ],
      "metadata": {
        "id": "CoSjhlUVJDV7"
      },
      "id": "CoSjhlUVJDV7"
    },
    {
      "cell_type": "markdown",
      "source": [
        "~~~latex\n",
        "$$\\binom{a}{b}^{2}$$\n",
        "~~~\n",
        "$$\\binom{a}{b}^{2}$$"
      ],
      "metadata": {
        "id": "vn0EyqXcJFgi"
      },
      "id": "vn0EyqXcJFgi"
    },
    {
      "cell_type": "markdown",
      "source": [
        "~~~latex\n",
        "$${a \\choose b}$$\n",
        "~~~\n",
        "\n",
        "$${a \\choose b}$$\n",
        "\n"
      ],
      "metadata": {
        "id": "GUTuMIsSMJ7V"
      },
      "id": "GUTuMIsSMJ7V"
    },
    {
      "cell_type": "markdown",
      "id": "8c6b319f-3150-4f57-85bf-6b0bbde560fd",
      "metadata": {
        "id": "8c6b319f-3150-4f57-85bf-6b0bbde560fd"
      },
      "source": [
        "### <font color=\"DeepPink\">**Combinaciones de fracciones con binomiales**</font>"
      ]
    },
    {
      "cell_type": "markdown",
      "id": "62a363a3-c472-41f3-9306-9def45f8ae9d",
      "metadata": {
        "id": "62a363a3-c472-41f3-9306-9def45f8ae9d"
      },
      "source": [
        "<p align=\"justify\">\n",
        "Para combinar fracciones con binomiales se podría hacer algo como por ejemplo:\n",
        "</p>\n",
        "\n",
        "~~~latex\n",
        "$$\\frac{n!}{k!(n-k)!}=\\binom{n}{k}$$\n",
        "~~~\n",
        "\n",
        "<p align=\"justify\">\n",
        "y queda de la siguiente forma:\n",
        "\n",
        "$$\\frac{n!}{k!(n-k)!}=\\binom{n}{k}$$\n",
        "</p>\n"
      ]
    },
    {
      "cell_type": "markdown",
      "source": [
        "Otros ejemplos:"
      ],
      "metadata": {
        "id": "N8QRw8lIKMDO"
      },
      "id": "N8QRw8lIKMDO"
    },
    {
      "cell_type": "markdown",
      "source": [
        "~~~latex\n",
        "$$\\left(\\frac{a}{b}\\right)^{2}$$\n",
        "~~~\n",
        "$$\\left(\\frac{a}{b}\\right)^{2}$$"
      ],
      "metadata": {
        "id": "TjKSFPoaKOci"
      },
      "id": "TjKSFPoaKOci"
    },
    {
      "cell_type": "markdown",
      "id": "287b1141-1009-4d4e-8420-136f629e0769",
      "metadata": {
        "id": "287b1141-1009-4d4e-8420-136f629e0769"
      },
      "source": [
        "## ➕ <font color=\"DeepPink\">**Potencias e índices**</font>"
      ]
    },
    {
      "cell_type": "markdown",
      "id": "5282df97-4867-4266-8911-af2a2def1e19",
      "metadata": {
        "id": "5282df97-4867-4266-8911-af2a2def1e19"
      },
      "source": [
        "### <font color=\"DeepPink\">**Potencias**</font>"
      ]
    },
    {
      "cell_type": "markdown",
      "id": "c6be52ca-76e4-4938-b1ee-2d316b269775",
      "metadata": {
        "id": "c6be52ca-76e4-4938-b1ee-2d316b269775"
      },
      "source": [
        "<p align=\"justify\">\n",
        "Para potencias se utliza el símbolo <code>^</code> que indica la potencia, y la misma debe escribirse entre llaves, por ejemplo:\n",
        "</p>\n",
        "\n",
        "\n",
        "~~~latex\n",
        "$$n^{10}$$\n",
        "~~~\n",
        "\n",
        "<p align=\"justify\">\n",
        "y queda de la siguiente forma:\n",
        "\n",
        "$$n^{10}$$\n",
        "</p>"
      ]
    },
    {
      "cell_type": "markdown",
      "source": [
        "Otros ejemplos:"
      ],
      "metadata": {
        "id": "4oGWagM_K_2h"
      },
      "id": "4oGWagM_K_2h"
    },
    {
      "cell_type": "markdown",
      "source": [
        "~~~latex\n",
        "$$a x^3 + b x^2 + c x + d = 0$$\n",
        "~~~\n",
        "$$a x^3 + b x^2 + c x + d = 0$$\n"
      ],
      "metadata": {
        "id": "ptm1wYweLBtr"
      },
      "id": "ptm1wYweLBtr"
    },
    {
      "cell_type": "markdown",
      "id": "e1912e9a-a1d5-45a7-a322-91b01b056643",
      "metadata": {
        "id": "e1912e9a-a1d5-45a7-a322-91b01b056643"
      },
      "source": [
        "### <font color=\"DeepPink\">**Índices**</font>"
      ]
    },
    {
      "cell_type": "markdown",
      "id": "f22263c8-5603-4319-a1eb-7cc95f10a514",
      "metadata": {
        "id": "f22263c8-5603-4319-a1eb-7cc95f10a514"
      },
      "source": [
        "<p align=\"justify\">\n",
        "Para los índices, se utiliza el símbolo <code>_</code> guión bajo, y también se debe escribir entre llaves, por ejemplo:\n",
        "</p>\n",
        "\n",
        "~~~latex\n",
        "$$k_{n+1}$$\n",
        "~~~\n",
        "\n",
        "<p align=\"justify\">\n",
        "y queda de la siguiente forma:\n",
        "\n",
        "$$k_{n+1}$$\n",
        "</p>\n"
      ]
    },
    {
      "cell_type": "markdown",
      "source": [
        "Otros ejemplos:"
      ],
      "metadata": {
        "id": "X8IEd-adMlJQ"
      },
      "id": "X8IEd-adMlJQ"
    },
    {
      "cell_type": "markdown",
      "source": [
        "~~~latex\n",
        "$$a_{1}$$\n",
        "~~~\n",
        "$$a_{1}$$\n"
      ],
      "metadata": {
        "id": "TU5wQK1OMnZh"
      },
      "id": "TU5wQK1OMnZh"
    },
    {
      "cell_type": "markdown",
      "id": "34f2c747-8478-4fe0-90b2-deb45d5c0d77",
      "metadata": {
        "id": "34f2c747-8478-4fe0-90b2-deb45d5c0d77"
      },
      "source": [
        "### <font color=\"DeepPink\">**Combinación de potencias e índices**</font>"
      ]
    },
    {
      "cell_type": "markdown",
      "id": "c7538aee-2f89-4662-9681-709edb29421b",
      "metadata": {
        "id": "c7538aee-2f89-4662-9681-709edb29421b"
      },
      "source": [
        "<p align=\"justify\">\n",
        "Se pueden combinar las potencias y los índices, por ejemplo en el caso de escribir la sumatoria <code>\\sum</code>, que tiene un índice y una potencia, lo que se hace de esta forma:\n",
        "</p>\n",
        "\n",
        "~~~latex\n",
        "$$\\sum_{i=0}^t$$\n",
        "~~~\n",
        "\n",
        "<p align=\"justify\">\n",
        "y queda de la siguiente forma:\n",
        "\n",
        "$$\\sum_{i=0}^t$$\n",
        "</p>\n"
      ]
    },
    {
      "cell_type": "markdown",
      "id": "0c8e4a06-8a85-4211-b40e-57e0c6bfc045",
      "metadata": {
        "id": "0c8e4a06-8a85-4211-b40e-57e0c6bfc045"
      },
      "source": [
        "<p align=\"justify\">\n",
        "Tambien se pueden utilizar los símbolos para potencias e índices, y escribir fracciones:\n",
        "</p>\n",
        "\n",
        "\n",
        "~~~latex\n",
        "$$^3/_7$$\n",
        "~~~\n",
        "\n",
        "<p align=\"justify\">\n",
        "y queda de la siguiente forma:\n",
        "\n",
        "$$^3/_7$$\n",
        "</p>"
      ]
    },
    {
      "cell_type": "markdown",
      "id": "5c79a051-f0d2-4af7-9814-d779a243fe55",
      "metadata": {
        "id": "5c79a051-f0d2-4af7-9814-d779a243fe55"
      },
      "source": [
        "## ➕ <font color=\"DeepPink\">**Raíces**</font>"
      ]
    },
    {
      "cell_type": "markdown",
      "id": "860297ad-ecb5-498f-bd8f-64387f439cac",
      "metadata": {
        "id": "860297ad-ecb5-498f-bd8f-64387f439cac"
      },
      "source": [
        "<p align=\"justify\">\n",
        "La raiz cuadrada se logra con <code>\\sqrt</code> y entre llaves el contenido de la misma:\n",
        "</p>\n",
        "\n",
        "\n",
        "~~~latex\n",
        "$$\\sqrt{\\frac{a}{b}}$$\n",
        "~~~\n",
        "\n",
        "<p align=\"justify\">\n",
        "y queda de la siguiente forma:\n",
        "\n",
        "$$\\sqrt{\\frac{a}{b}}$$\n",
        "</p>\n",
        "\n",
        "\n",
        "<p align=\"justify\">\n",
        "Para una raiz cúbica, se coloca entre corchetes en número 3:\n",
        "</p>\n",
        "\n",
        "\n",
        "~~~latex\n",
        "$$\\sqrt[3]{\\frac{a}{b}}$$\n",
        "~~~\n",
        "\n",
        "<p align=\"justify\">\n",
        "y queda de la siguiente forma:\n",
        "\n",
        "$$\\sqrt[3]{\\frac{a}{b}}$$\n",
        "</p>\n",
        "\n",
        "<p align=\"justify\">\n",
        "Otro ejemplo de raiz:\n",
        "</p>\n",
        "\n",
        "\n",
        "~~~latex\n",
        "$$\\sqrt[n]{1+x+x^2+x^3\\dots+x^n}$$\n",
        "~~~\n",
        "\n",
        "<p align=\"justify\">\n",
        "y queda de la siguiente forma:\n",
        "\n",
        "$$\\sqrt[n]{1+x+x^2+x^3\\dots+x^n}$$\n",
        "</p>\n"
      ]
    },
    {
      "cell_type": "markdown",
      "source": [
        "Otros ejemplos:"
      ],
      "metadata": {
        "id": "g10GnZjvMztc"
      },
      "id": "g10GnZjvMztc"
    },
    {
      "cell_type": "markdown",
      "source": [
        "~~~latex\n",
        "$$x = \\frac {-b \\pm \\sqrt {b^2 - 4ac}}{2a}$$\n",
        "~~~\n",
        "$$x = \\frac {-b \\pm \\sqrt {b^2 - 4ac}}{2a}$$\n",
        "\n",
        "\n"
      ],
      "metadata": {
        "id": "mVV4jWRaM2Bz"
      },
      "id": "mVV4jWRaM2Bz"
    },
    {
      "cell_type": "markdown",
      "source": [
        "~~~latex\n",
        "$$\\sqrt[4]{16} = 2$$\n",
        "~~~\n",
        "$$\\sqrt[4]{16} = 2$$"
      ],
      "metadata": {
        "id": "z9T9l0lGUkuG"
      },
      "id": "z9T9l0lGUkuG"
    },
    {
      "cell_type": "markdown",
      "id": "8aa42907-64a5-4ac2-8f09-2f3f3b127c1a",
      "metadata": {
        "id": "8aa42907-64a5-4ac2-8f09-2f3f3b127c1a"
      },
      "source": [
        "## ➕ <font color=\"DeepPink\">**Sumatorias e integrales**</font>"
      ]
    },
    {
      "cell_type": "markdown",
      "id": "4ece49f4-28d7-4157-84e9-f221cdbf41dd",
      "metadata": {
        "id": "4ece49f4-28d7-4157-84e9-f221cdbf41dd"
      },
      "source": [
        "### <font color=\"DeepPink\">**Sumatorias**</font>"
      ]
    },
    {
      "cell_type": "markdown",
      "id": "45bfa437-b408-452d-aed2-cd98e6459acf",
      "metadata": {
        "id": "45bfa437-b408-452d-aed2-cd98e6459acf"
      },
      "source": [
        "<p align=\"justify\">\n",
        "Las sumatorias se logran con <code>\\sum</code>, y los símbolos asignados para potencia, y para índice:\n",
        "</p>\n",
        "\n",
        "\n",
        "~~~latex\n",
        "$$\\sum_{i=1}^{10} t_i$$\n",
        "~~~\n",
        "\n",
        "<p align=\"justify\">\n",
        "y queda de la siguiente manera:\n",
        "\n",
        "$$\\sum_{i=1}^{10} t_i$$\n",
        "</p>\n"
      ]
    },
    {
      "cell_type": "markdown",
      "source": [
        "Otros ejemplos:"
      ],
      "metadata": {
        "id": "TgIje3ReNQ35"
      },
      "id": "TgIje3ReNQ35"
    },
    {
      "cell_type": "markdown",
      "source": [
        "~~~latex\n",
        "$$\\sum_{i=1}^{n} i^2$$\n",
        "~~~\n",
        "$$\\sum_{i=1}^{n} i^2$$\n"
      ],
      "metadata": {
        "id": "Ke80Ls1ZNUB7"
      },
      "id": "Ke80Ls1ZNUB7"
    },
    {
      "cell_type": "markdown",
      "id": "08be1597-6c53-4a57-a56f-2ecf019110f7",
      "metadata": {
        "id": "08be1597-6c53-4a57-a56f-2ecf019110f7"
      },
      "source": [
        "### <font color=\"DeepPink\">**Integrales**</font>"
      ]
    },
    {
      "cell_type": "markdown",
      "id": "6c4ca41d-7ef4-4e58-8a7c-b1618b1ad447",
      "metadata": {
        "id": "6c4ca41d-7ef4-4e58-8a7c-b1618b1ad447"
      },
      "source": [
        "<p align=\"justify\">\n",
        "Para una integral se usa <code>\\int</code>, y para el símbolo infinito se usa <code>\\infty</code>, y la integral se escribe:\n",
        "</p>\n",
        "\n",
        "~~~latex\n",
        "$$\\int_0^\\infty e^{-x} dx$$\n",
        "~~~\n",
        "\n",
        "\n",
        "<p align=\"justify\">\n",
        "y queda de la siguiente manera:\n",
        "\n",
        "$$\\int_0^\\infty e^{-x} dx$$\n",
        "</p>\n",
        "\n"
      ]
    },
    {
      "cell_type": "markdown",
      "source": [
        "Otros ejemplos:"
      ],
      "metadata": {
        "id": "Jt9ye1e1NxBB"
      },
      "id": "Jt9ye1e1NxBB"
    },
    {
      "cell_type": "markdown",
      "source": [
        "~~~latex\n",
        "$$\\int_{a}^{b} x dx$$\n",
        "~~~\n",
        "$$\\int_{a}^{b} x dx$$\n"
      ],
      "metadata": {
        "id": "5i5uQ3rkNzl1"
      },
      "id": "5i5uQ3rkNzl1"
    },
    {
      "cell_type": "markdown",
      "id": "eb6a87e2-eab4-452e-83b4-6269d0f0e69a",
      "metadata": {
        "id": "eb6a87e2-eab4-452e-83b4-6269d0f0e69a"
      },
      "source": [
        "## ➕ <font color=\"DeepPink\">**Paréntesis, corchetes y llaves**</font>"
      ]
    },
    {
      "cell_type": "markdown",
      "id": "9b1757a6-9df3-4233-9d5c-3eb1d60554a4",
      "metadata": {
        "id": "9b1757a6-9df3-4233-9d5c-3eb1d60554a4"
      },
      "source": [
        "<p align=\"justify\">\n",
        "Los paréntesis, corchetes y llaves se escriben directamente con los símbolos que conocemos, y quedan de la siguiente manera:\n",
        "</p>\n",
        "\n",
        "$$(a+b+c)$$\n",
        "$$[123+89]$$\n",
        "$${2x+8y}$$\n"
      ]
    },
    {
      "cell_type": "markdown",
      "id": "312f5531-2730-4d7b-a24f-d2ddfd18cbb7",
      "metadata": {
        "id": "312f5531-2730-4d7b-a24f-d2ddfd18cbb7"
      },
      "source": [
        "## ➕ <font color=\"DeepPink\">**Matrices**</font>"
      ]
    },
    {
      "cell_type": "markdown",
      "id": "00dcdb06-5b75-460b-b165-d785e00c41f7",
      "metadata": {
        "id": "00dcdb06-5b75-460b-b165-d785e00c41f7"
      },
      "source": [
        "<p align=\"justify\">\n",
        "Para una matriz se usan diferentes comandos en la sintaxis. Para comenzar la matriz se usa <code>\\begin {matrix}</code>. Luego los valores de la matriz se separan por dos símbolos <code>\\</code>, y para finalizar se usa <code>\\end {matrix}</code>. <br><br>\n",
        "En el caso de una matriz $3\\times3$\n",
        "</p>\n",
        "\n",
        "~~~latex\n",
        "$$\\begin{matrix} 21 & 34 & 23 \\\\ 45 & 32 & 45 \\\\ 23 & 54 & 38\\end{matrix}$$\n",
        "~~~\n",
        "\n",
        "<p align=\"justify\">\n",
        "y queda de la siguiente forma:\n",
        "\n",
        "$$\\begin{matrix} 21 & 34 & 23 \\\\45 & 32 & 45 \\\\23 & 54 & 38\\end{matrix}$$\n",
        "</p>\n"
      ]
    },
    {
      "cell_type": "markdown",
      "id": "5f49a1da-4f81-494c-b09f-25922ddbaafc",
      "metadata": {
        "id": "5f49a1da-4f81-494c-b09f-25922ddbaafc"
      },
      "source": [
        "<p align=\"justify\">\n",
        "Otro ejemplo de matriz:<br><br>\n",
        "Para agregar paréntesis a la matriz se usa <code>{pmatrix}</code>\n",
        "</p>\n",
        "\n",
        "~~~latex\n",
        "$$A_{m,n} = \\begin{pmatrix}\n",
        "            a_{1,1} & a_{1,2} & \\cdots & a_{1,n} \\\\\n",
        "            a_{2,1} & a_{2,2} & \\cdots & a_{2,n} \\\\\n",
        "            \\vdots  & \\vdots  & \\ddots & \\vdots  \\\\\n",
        "            a_{m,1} & a_{m,2} & \\cdots & a_{m,n}\n",
        "            \\end{pmatrix}$$\n",
        "~~~\n",
        "\n",
        "<p align=\"justify\">\n",
        "y queda de la siguiente forma:\n",
        "\n",
        "$$A_{m,n} = \\begin{pmatrix} a_{1,1} & a_{1,2} & \\cdots & a_{1,n} \\\\ a_{2,1} & a_{2,2} & \\cdots & a_{2,n} \\\\ \\vdots  & \\vdots  & \\ddots & \\vdots  \\\\ a_{m,1} & a_{m,2} & \\cdots & a_{m,n} \\end{pmatrix}$$\n",
        "</p>\n"
      ]
    },
    {
      "cell_type": "markdown",
      "id": "ecf0b5d3-5201-4705-9de0-b91aa6d45d30",
      "metadata": {
        "id": "ecf0b5d3-5201-4705-9de0-b91aa6d45d30"
      },
      "source": [
        "<p align=\"justify\">\n",
        "Lo mismo, pero con corchetes, <code>{bmatrix}</code>:\n",
        "</p>\n",
        "\n",
        "~~~latex\n",
        "$$A_{m,n} = \\begin{bmatrix}\n",
        "            a_{1,1} & a_{1,2} & \\cdots & a_{1,n} \\\\\n",
        "            a_{2,1} & a_{2,2} & \\cdots & a_{2,n} \\\\\n",
        "            \\vdots  & \\vdots  & \\ddots & \\vdots  \\\\\n",
        "            a_{m,1} & a_{m,2} & \\cdots & a_{m,n}\n",
        "            \\end{bmatrix}$$\n",
        "~~~\n",
        "\n",
        "<p align=\"justify\">\n",
        "y queda de la siguiente forma:\n",
        "\n",
        "$$A_{m,n} = \\begin{bmatrix} a_{1,1} & a_{1,2} & \\cdots & a_{1,n} \\\\ a_{2,1} & a_{2,2} & \\cdots & a_{2,n} \\\\ \\vdots  & \\vdots  & \\ddots & \\vdots  \\\\ a_{m,1} & a_{m,2} & \\cdots & a_{m,n} \\end{bmatrix}$$\n",
        "</p>\n"
      ]
    },
    {
      "cell_type": "markdown",
      "id": "0b02adec-546a-4c71-9def-ed1e61c6f591",
      "metadata": {
        "id": "0b02adec-546a-4c71-9def-ed1e61c6f591"
      },
      "source": [
        "<p align=\"justify\">\n",
        "Ahora con llaves <code>{Bmatrix}</code>:\n",
        "</p>\n",
        "\n",
        "~~~latex\n",
        "$$A_{m,n} = \\begin{Bmatrix}\n",
        "            a_{1,1} & a_{1,2} & \\cdots & a_{1,n} \\\\\n",
        "            a_{2,1} & a_{2,2} & \\cdots & a_{2,n} \\\\\n",
        "            \\vdots  & \\vdots  & \\ddots & \\vdots  \\\\\n",
        "            a_{m,1} & a_{m,2} & \\cdots & a_{m,n}\n",
        "            \\end{Bmatrix}$$\n",
        "~~~\n",
        "\n",
        "<p align=\"justify\">\n",
        "y queda de la siguiente forma:\n",
        "\n",
        "$$A_{m,n} = \\begin{Bmatrix} a_{1,1} & a_{1,2} & \\cdots & a_{1,n} \\\\ a_{2,1} & a_{2,2} & \\cdots & a_{2,n} \\\\ \\vdots  & \\vdots  & \\ddots & \\vdots  \\\\ a_{m,1} & a_{m,2} & \\cdots & a_{m,n} \\end{Bmatrix}$$\n",
        "</p>\n"
      ]
    },
    {
      "cell_type": "markdown",
      "id": "4039ccdc-6b6a-4e84-bcde-06804b6d20ea",
      "metadata": {
        "id": "4039ccdc-6b6a-4e84-bcde-06804b6d20ea"
      },
      "source": [
        "<p align=\"justify\">\n",
        "Con barras <code>{vmatrix}</code>:\n",
        "</p>\n",
        "\n",
        "~~~latex\n",
        "$$A_{m,n} = \\begin{vmatrix}\n",
        "            a_{1,1} & a_{1,2} & \\cdots & a_{1,n} \\\\\n",
        "            a_{2,1} & a_{2,2} & \\cdots & a_{2,n} \\\\\n",
        "            \\vdots  & \\vdots  & \\ddots & \\vdots  \\\\\n",
        "            a_{m,1} & a_{m,2} & \\cdots & a_{m,n}\n",
        "            \\end{vmatrix}$$\n",
        "~~~\n",
        "\n",
        "<p align=\"justify\">\n",
        "y queda de la siguiente forma:\n",
        "\n",
        "$$A_{m,n} = \\begin{vmatrix} a_{1,1} & a_{1,2} & \\cdots & a_{1,n} \\\\ a_{2,1} & a_{2,2} & \\cdots & a_{2,n} \\\\ \\vdots  & \\vdots  & \\ddots & \\vdots  \\\\ a_{m,1} & a_{m,2} & \\cdots & a_{m,n} \\end{vmatrix}$$\n",
        "</p>"
      ]
    },
    {
      "cell_type": "markdown",
      "id": "58b83a36-ee8b-4d20-a7a1-36d40555d8da",
      "metadata": {
        "id": "58b83a36-ee8b-4d20-a7a1-36d40555d8da"
      },
      "source": [
        "<p align=\"justify\">\n",
        "Con doble barras <code>{Vmatrix}</code>:\n",
        "</p>\n",
        "\n",
        "\n",
        "~~~latex\n",
        "$$A_{m,n} = \\begin{Vmatrix}\n",
        "            a_{1,1} & a_{1,2} & \\cdots & a_{1,n} \\\\\n",
        "            a_{2,1} & a_{2,2} & \\cdots & a_{2,n} \\\\\n",
        "            \\vdots  & \\vdots  & \\ddots & \\vdots  \\\\\n",
        "            a_{m,1} & a_{m,2} & \\cdots & a_{m,n}\n",
        "            \\end{Vmatrix}$$\n",
        "~~~\n",
        "\n",
        "<p align=\"justify\">\n",
        "y queda de la siguiente forma:\n",
        "\n",
        "$$A_{m,n} = \\begin{Vmatrix} a_{1,1} & a_{1,2} & \\cdots & a_{1,n} \\\\ a_{2,1} & a_{2,2} & \\cdots & a_{2,n} \\\\ \\vdots  & \\vdots  & \\ddots & \\vdots  \\\\ a_{m,1} & a_{m,2} & \\cdots & a_{m,n} \\end{Vmatrix}$$\n",
        "</p>"
      ]
    },
    {
      "cell_type": "markdown",
      "source": [
        "## ➕ <font color=\"DeepPink\">**Casos especiales de uso...**</font>"
      ],
      "metadata": {
        "id": "_W_QVOSSOE2T"
      },
      "id": "_W_QVOSSOE2T"
    },
    {
      "cell_type": "markdown",
      "source": [
        "### <font color=\"DeepPink\">**Texto en ecuaciones... normal, cursiva y negrita...**</font>"
      ],
      "metadata": {
        "id": "nqOcRSsXOJs1"
      },
      "id": "nqOcRSsXOJs1"
    },
    {
      "cell_type": "markdown",
      "source": [
        "~~~\n",
        "$$\\text{La fórmula cuadrática es }x = \\frac {-b \\pm \\sqrt {b^2 - 4ac}}{2a}$$\n",
        "~~~\n",
        "\n",
        "$$\\text{La fórmula cuadrática es }x = \\frac {-b \\pm \\sqrt {b^2 - 4ac}}{2a}$$\n",
        "\n",
        "~~~\n",
        "$$\\textit{La fórmula cuadrática es }x = \\frac {-b \\pm \\sqrt {b^2 - 4ac}}{2a}$$\n",
        "~~~\n",
        "\n",
        "$$\\textit{La fórmula cuadrática es }x = \\frac {-b \\pm \\sqrt {b^2 - 4ac}}{2a}$$\n",
        "\n",
        "~~~\n",
        "$$\\textbf{La fórmula cuadrática es }x = \\frac {-b \\pm \\sqrt {b^2 - 4ac}}{2a}$$\n",
        "~~~\n",
        "\n",
        "$$\\textbf{La fórmula cuadrática es }x = \\frac {-b \\pm \\sqrt {b^2 - 4ac}}{2a}$$\n"
      ],
      "metadata": {
        "id": "nhgUrLsQOPjM"
      },
      "id": "nhgUrLsQOPjM"
    },
    {
      "cell_type": "markdown",
      "source": [
        "### <font color=\"DeepPink\">**Otros delimitadores... y sus tamaños...**</font>"
      ],
      "metadata": {
        "id": "3q5HP03wPLct"
      },
      "id": "3q5HP03wPLct"
    },
    {
      "cell_type": "markdown",
      "source": [
        "~~~latex\n",
        "- $|3|$\n",
        "- $\\|5\\|$  \n",
        "- $\\langle 7 \\rangle$\n",
        "~~~\n",
        "\n",
        "- $|3|$\n",
        "- $\\|5\\|$  \n",
        "- $\\langle 7 \\rangle$"
      ],
      "metadata": {
        "id": "GUhLEDhBP93-"
      },
      "id": "GUhLEDhBP93-"
    },
    {
      "cell_type": "markdown",
      "source": [
        "<p align=\"justify\">\n",
        "Los paréntesis, llaves y corchetes escritos mediante estos comandos son de tamaño fijo. A veces es necesario insertar estos elementos con un tamaño variable que se adapte a la ecuación. Como pueden ver en el siguiente ejemplo, sería mejor insertar unos paréntesis con la misma altura que la fracción:\n",
        "</p>"
      ],
      "metadata": {
        "id": "UP3MP2HEVxFF"
      },
      "id": "UP3MP2HEVxFF"
    },
    {
      "cell_type": "markdown",
      "source": [
        "~~~latex\n",
        "$$(\\frac{5}{15})$$\n",
        "~~~\n",
        "$$(\\frac{5}{15})$$\n"
      ],
      "metadata": {
        "id": "Bzu0bjjRVzhQ"
      },
      "id": "Bzu0bjjRVzhQ"
    },
    {
      "cell_type": "markdown",
      "source": [
        "<p align=\"justify\">\n",
        "Para indicar que los paréntesis deben tener una altura variable tenemos que insertar los comandos <code>\\left</code> y <code>\\right</code> antes del paréntesis de la izquierda y derecha respectivamente. <br><br>Por ejemplo:\n",
        "</p>"
      ],
      "metadata": {
        "id": "kNEuwe7WWXp2"
      },
      "id": "kNEuwe7WWXp2"
    },
    {
      "cell_type": "markdown",
      "source": [
        "~~~latex\n",
        "$$\\left(\\frac{5}{15}\\right)$$\n",
        "~~~\n",
        "$$\\left(\\frac{5}{15}\\right)$$\n"
      ],
      "metadata": {
        "id": "yGvDFsiYWgc2"
      },
      "id": "yGvDFsiYWgc2"
    },
    {
      "cell_type": "markdown",
      "id": "57eb80af-b4cb-43f5-87df-3280ecff796f",
      "metadata": {
        "id": "57eb80af-b4cb-43f5-87df-3280ecff796f"
      },
      "source": [
        "<p align=\"center\">\n",
        "<img src=\"https://www.latex-project.org/img/latex-project-logo.svg\" width=\"300\" height=\"\" >\n",
        "</p>"
      ]
    },
    {
      "cell_type": "markdown",
      "id": "27edb042-13a0-4e39-939e-e009eae00a9b",
      "metadata": {
        "id": "27edb042-13a0-4e39-939e-e009eae00a9b"
      },
      "source": [
        "<br>\n",
        "<br>\n",
        "<p align=\"center\"><b>\n",
        "💗\n",
        "<font color=\"DeepPink\">\n",
        "Hemos llegado al fin de este cuaderno, felicitaciones hemos aprendido un poco de $\\LaTeX{}$ para poder mejorar nuestras celdas de texto, ahora a seguir en el proximo cuaderno...\n",
        "</font>\n",
        "</p>\n"
      ]
    },
    {
      "cell_type": "markdown",
      "source": [
        "![](https://everisgroup.sharepoint.com/sites/BrandCenter/Shared%20Documents/Logo/FUTURE%20AT%20HEART/BLACK/FUTURE-HEARTH.png)"
      ],
      "metadata": {
        "id": "JXvC-5xx3qYA"
      },
      "id": "JXvC-5xx3qYA"
    }
  ],
  "metadata": {
    "kernelspec": {
      "display_name": "Python 3 (ipykernel)",
      "language": "python",
      "name": "python3"
    },
    "language_info": {
      "codemirror_mode": {
        "name": "ipython",
        "version": 3
      },
      "file_extension": ".py",
      "mimetype": "text/x-python",
      "name": "python",
      "nbconvert_exporter": "python",
      "pygments_lexer": "ipython3",
      "version": "3.10.2"
    },
    "colab": {
      "provenance": [],
      "include_colab_link": true
    }
  },
  "nbformat": 4,
  "nbformat_minor": 5
}
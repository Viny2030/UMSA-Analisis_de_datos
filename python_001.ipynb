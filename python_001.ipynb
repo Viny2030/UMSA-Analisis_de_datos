{
  "nbformat": 4,
  "nbformat_minor": 0,
  "metadata": {
    "colab": {
      "provenance": [],
      "include_colab_link": true
    },
    "kernelspec": {
      "name": "python3",
      "display_name": "Python 3"
    },
    "language_info": {
      "name": "python"
    }
  },
  "cells": [
    {
      "cell_type": "markdown",
      "metadata": {
        "id": "view-in-github",
        "colab_type": "text"
      },
      "source": [
        "<a href=\"https://colab.research.google.com/github/Viny2030/UMSA-Analisis_de_datos/blob/main/python_001.ipynb\" target=\"_parent\"><img src=\"https://colab.research.google.com/assets/colab-badge.svg\" alt=\"Open In Colab\"/></a>"
      ]
    },
    {
      "cell_type": "markdown",
      "source": [
        "# **<font color=\"DarkBlue\">Primeros pasos con Python</font>**"
      ],
      "metadata": {
        "id": "i0TNZN0yhyoJ"
      }
    },
    {
      "cell_type": "markdown",
      "source": [
        "<p align=\"center\">\n",
        "<img src=\"https://pypi.org/static/images/logo-small.8998e9d1.svg\" width=\"90\" height=\"\">\n",
        "</p>"
      ],
      "metadata": {
        "id": "gjpEYi_23t-3"
      }
    },
    {
      "cell_type": "markdown",
      "source": [
        "<p align=\"justify\"><b>\n",
        "<font color=\"DarkBlue\">\n",
        "💗 Todo el mundo deberia aprender a programar, porque te enseña a pensar...\n",
        "</font>\n",
        "</p>\n",
        "<p align=\"right\"><b>\n",
        "<font color=\"DarkBlue\">\n",
        "Steve Jobs (1995)\n",
        "</font>\n",
        "</p>\n",
        "<br>\n",
        "<br>\n",
        "\n"
      ],
      "metadata": {
        "id": "vy2CAnk9uZ9E"
      }
    },
    {
      "cell_type": "markdown",
      "source": [
        "<p align=\"justify\">\n",
        "Python es un lenguaje de programación de alto nivel, interpretado y de propósito general, creado por Guido van Rossum y lanzado por primera vez en 1991. Van Rossum desarrolló Python como un sucesor del lenguaje ABC, con la intención de corregir sus limitaciones. El nombre \"Python\" proviene del grupo de comedia británico \"Monty Python\", lo que refleja la preferencia de Van Rossum por un lenguaje que no solo fuera poderoso y fácil de usar, sino también divertido.\n",
        "<br><br>\n",
        "Desde sus inicios, Python ha evolucionado significativamente a través de varias versiones. Las más notables incluyen Python 2.0, lanzado en 2000, que introdujo características las listas de comprensión, y Python 3.0, lanzado en 2008, que trajo mejoras en la legibilidad y la consistencia del lenguaje, aunque no fue completamente compatible hacia atrás con Python 2.x.\n",
        "<br><br>\n",
        "A pesar de los desafíos en la transición de Python 2 a Python 3, la comunidad ha adoptado ampliamente Python 3.x debido a sus ventajas en eficiencia y modernidad.\n",
        "<br><br>\n"
      ],
      "metadata": {
        "id": "bPzIyxZAi0UO"
      }
    },
    {
      "cell_type": "markdown",
      "source": [
        "## **<font color=\"DarkBlue\">Popularidad y comunidad</font>**"
      ],
      "metadata": {
        "id": "7CT9wTanip5-"
      }
    },
    {
      "cell_type": "markdown",
      "source": [
        "<p align=\"justify\">\n",
        "Una de las claves del éxito de Python es su vasta y activa comunidad. Los desarrolladores de Python contribuyen con una gran cantidad de bibliotecas y herramientas que facilitan el trabajo en diversos campos, desde el desarrollo web hasta la inteligencia artificial y el análisis de datos. La filosofía de diseño de Python, que enfatiza la simplicidad y la legibilidad del código, ha hecho que el lenguaje sea accesible tanto para principiantes como para expertos.\n",
        "<br><br>\n"
      ],
      "metadata": {
        "id": "ZGgZvqNuiqjv"
      }
    },
    {
      "cell_type": "markdown",
      "source": [
        "## **<font color=\"DarkBlue\">Python en el análisis de datos</font>**"
      ],
      "metadata": {
        "id": "5Q4AaN8qkrqi"
      }
    },
    {
      "cell_type": "markdown",
      "source": [
        "<p align=\"justify\">\n",
        "Python se ha convertido en una herramienta fundamental en el análisis de datos debido a varias razones:\n",
        "<br><br>\n",
        "\n",
        "1. **Simplicidad y legibilidad**: Python tiene una sintaxis clara y fácil de aprender que permite a los analistas de datos concentrarse en resolver problemas en lugar de lidiar con las complejidades del lenguaje.\n",
        "   \n",
        "2. **Ecosistema robusto**: Existen numerosas bibliotecas diseñadas específicamente para el análisis de datos, como:\n",
        "   - **NumPy**: Proporciona soporte para arrays de gran tamaño y matrices multidimensionales, junto con una amplia colección de funciones matemáticas.\n",
        "   - **Pandas**: Ofrece estructuras de datos y herramientas de análisis de datos de alto rendimiento y fáciles de usar.\n",
        "   - **Matplotlib, Seaborn y Plotly**: Facilitan la visualización de datos a través de gráficos estáticos, animados e interactivos.\n",
        "   - **Scikit-learn**: Incluye algoritmos eficientes y herramientas para el aprendizaje automático y la minería de datos.\n",
        "\n",
        "3. **Integración**: Python se integra bien con otros lenguajes y tecnologías, lo que permite a los especialistas en datos usar Python junto con bases de datos SQL, sistemas de big data como Hadoop y herramientas de visualización interactivas como Tableau.\n",
        "\n",
        "4. **Comunidad y soporte**: La comunidad de Python es grande y activa, ofreciendo abundantes recursos de aprendizaje, foros de discusión, y conferencias como PyCon, que permiten a los profesionales mantenerse actualizados con las últimas tendencias y mejores prácticas en el análisis de datos.\n",
        "\n"
      ],
      "metadata": {
        "id": "O7DKU7UckONH"
      }
    },
    {
      "cell_type": "markdown",
      "source": [
        "## **<font color=\"DarkBlue\">El rol del especialista en Python en el análisis de datos</font>**"
      ],
      "metadata": {
        "id": "RfZWDpa6k5ZL"
      }
    },
    {
      "cell_type": "markdown",
      "source": [
        "<p align=\"justify\">\n",
        "Un especialista en Python para el análisis de datos desempeña varios roles cruciales:\n",
        "<br><br>\n",
        "\n",
        "1. **Extracción y transformación de datos**: Utiliza Python para recolectar datos de diversas fuentes, limpiar datos sucios y transformarlos en un formato adecuado para el análisis.\n",
        "   \n",
        "2. **Análisis exploratorio de datos (EDA)**: Emplea herramientas de visualización y análisis estadístico para comprender las características básicas del conjunto de datos y encontrar patrones interesantes.\n",
        "\n",
        "3. **Modelado y predicción**: Aplica técnicas de aprendizaje automático para construir modelos predictivos que ayuden a tomar decisiones informadas basadas en datos históricos.\n",
        "\n",
        "4. **Automatización**: Desarrolla scripts y aplicaciones para automatizar tareas repetitivas en el flujo de trabajo de análisis de datos, aumentando la eficiencia y reduciendo el error humano.\n",
        "\n",
        "5. **Comunicación de resultados**: Utiliza visualizaciones y informes claros y concisos para comunicar los hallazgos y las recomendaciones a los interesados, ayudando a transformar datos en decisiones estratégicas.\n"
      ],
      "metadata": {
        "id": "a4aTeQ6qkU2H"
      }
    },
    {
      "cell_type": "markdown",
      "source": [
        "# **<font color=\"DarkBlue\">Sintaxis básica</font>**"
      ],
      "metadata": {
        "id": "D1thTMjlhG0c"
      }
    },
    {
      "cell_type": "markdown",
      "source": [
        "<p align=\"justify\">\n",
        "La sintaxis de Python es conocida por su simplicidad y legibilidad, lo que la hace accesible tanto para principiantes como para programadores experimentados. A continuación, se presenta una visión general de los elementos básicos de la sintaxis de Python."
      ],
      "metadata": {
        "id": "FabOxSk9_o-P"
      }
    },
    {
      "cell_type": "markdown",
      "source": [
        "![image.png](data:image/png;base64,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)"
      ],
      "metadata": {
        "id": "bd4BQ4TGSx43"
      }
    },
    {
      "cell_type": "markdown",
      "source": [
        "# **<font color=\"DarkBlue\">Versiones</font>**"
      ],
      "metadata": {
        "id": "l0gvvQ6RSqY0"
      }
    },
    {
      "cell_type": "code",
      "source": [
        "!python --version # version de python-- comando"
      ],
      "metadata": {
        "colab": {
          "base_uri": "https://localhost:8080/"
        },
        "id": "CuVXcfd1Swc2",
        "outputId": "2a4c8fc3-e62c-494c-9b84-33e7654881e2"
      },
      "execution_count": null,
      "outputs": [
        {
          "output_type": "stream",
          "name": "stdout",
          "text": [
            "Python 3.10.12\n"
          ]
        }
      ]
    },
    {
      "cell_type": "code",
      "source": [
        "!pip list # listado de paquetes instalados"
      ],
      "metadata": {
        "colab": {
          "base_uri": "https://localhost:8080/"
        },
        "id": "_v707zZ4S49m",
        "outputId": "d21e4287-ba1e-423d-e367-dd976c0c5fc5"
      },
      "execution_count": null,
      "outputs": [
        {
          "output_type": "stream",
          "name": "stdout",
          "text": [
            "Package                          Version\n",
            "-------------------------------- ---------------------\n",
            "absl-py                          1.4.0\n",
            "accelerate                       0.32.1\n",
            "aiohttp                          3.9.5\n",
            "aiosignal                        1.3.1\n",
            "alabaster                        0.7.16\n",
            "albucore                         0.0.12\n",
            "albumentations                   1.4.11\n",
            "altair                           4.2.2\n",
            "annotated-types                  0.7.0\n",
            "anyio                            3.7.1\n",
            "argon2-cffi                      23.1.0\n",
            "argon2-cffi-bindings             21.2.0\n",
            "array_record                     0.5.1\n",
            "arviz                            0.18.0\n",
            "asn1crypto                       1.5.1\n",
            "astropy                          6.1.2\n",
            "astropy-iers-data                0.2024.7.22.0.34.13\n",
            "astunparse                       1.6.3\n",
            "async-timeout                    4.0.3\n",
            "atpublic                         4.1.0\n",
            "attrs                            23.2.0\n",
            "audioread                        3.0.1\n",
            "autograd                         1.6.2\n",
            "Babel                            2.15.0\n",
            "backcall                         0.2.0\n",
            "beautifulsoup4                   4.12.3\n",
            "bidict                           0.23.1\n",
            "bigframes                        1.11.1\n",
            "bleach                           6.1.0\n",
            "blinker                          1.4\n",
            "blis                             0.7.11\n",
            "blosc2                           2.0.0\n",
            "bokeh                            3.4.2\n",
            "bqplot                           0.12.43\n",
            "branca                           0.7.2\n",
            "build                            1.2.1\n",
            "CacheControl                     0.14.0\n",
            "cachetools                       5.4.0\n",
            "catalogue                        2.0.10\n",
            "certifi                          2024.7.4\n",
            "cffi                             1.16.0\n",
            "chardet                          5.2.0\n",
            "charset-normalizer               3.3.2\n",
            "chex                             0.1.86\n",
            "clarabel                         0.9.0\n",
            "click                            8.1.7\n",
            "click-plugins                    1.1.1\n",
            "cligj                            0.7.2\n",
            "cloudpathlib                     0.18.1\n",
            "cloudpickle                      2.2.1\n",
            "cmake                            3.30.1\n",
            "cmdstanpy                        1.2.4\n",
            "colorcet                         3.1.0\n",
            "colorlover                       0.3.0\n",
            "colour                           0.1.5\n",
            "community                        1.0.0b1\n",
            "confection                       0.1.5\n",
            "cons                             0.4.6\n",
            "contextlib2                      21.6.0\n",
            "contourpy                        1.2.1\n",
            "cryptography                     42.0.8\n",
            "cuda-python                      12.2.1\n",
            "cudf-cu12                        24.4.1\n",
            "cufflinks                        0.17.3\n",
            "cupy-cuda12x                     12.2.0\n",
            "cvxopt                           1.3.2\n",
            "cvxpy                            1.5.2\n",
            "cycler                           0.12.1\n",
            "cymem                            2.0.8\n",
            "Cython                           3.0.10\n",
            "dask                             2024.7.1\n",
            "datascience                      0.17.6\n",
            "db-dtypes                        1.2.0\n",
            "dbus-python                      1.2.18\n",
            "debugpy                          1.6.6\n",
            "decorator                        4.4.2\n",
            "defusedxml                       0.7.1\n",
            "distributed                      2024.7.1\n",
            "distro                           1.7.0\n",
            "dlib                             19.24.4\n",
            "dm-tree                          0.1.8\n",
            "docstring_parser                 0.16\n",
            "docutils                         0.18.1\n",
            "dopamine_rl                      4.0.9\n",
            "duckdb                           0.10.3\n",
            "earthengine-api                  0.1.412\n",
            "easydict                         1.13\n",
            "ecos                             2.0.14\n",
            "editdistance                     0.8.1\n",
            "eerepr                           0.0.4\n",
            "en-core-web-sm                   3.7.1\n",
            "entrypoints                      0.4\n",
            "et-xmlfile                       1.1.0\n",
            "etils                            1.7.0\n",
            "etuples                          0.3.9\n",
            "eval_type_backport               0.2.0\n",
            "exceptiongroup                   1.2.2\n",
            "fastai                           2.7.15\n",
            "fastcore                         1.5.54\n",
            "fastdownload                     0.0.7\n",
            "fastjsonschema                   2.20.0\n",
            "fastprogress                     1.0.3\n",
            "fastrlock                        0.8.2\n",
            "filelock                         3.15.4\n",
            "fiona                            1.9.6\n",
            "firebase-admin                   6.5.0\n",
            "Flask                            2.2.5\n",
            "flatbuffers                      24.3.25\n",
            "flax                             0.8.4\n",
            "folium                           0.17.0\n",
            "fonttools                        4.53.1\n",
            "frozendict                       2.4.4\n",
            "frozenlist                       1.4.1\n",
            "fsspec                           2024.6.1\n",
            "future                           1.0.0\n",
            "gast                             0.6.0\n",
            "gcsfs                            2024.6.1\n",
            "GDAL                             3.6.4\n",
            "gdown                            5.1.0\n",
            "geemap                           0.33.1\n",
            "gensim                           4.3.3\n",
            "geocoder                         1.38.1\n",
            "geographiclib                    2.0\n",
            "geopandas                        0.14.4\n",
            "geopy                            2.4.1\n",
            "gin-config                       0.5.0\n",
            "glob2                            0.7\n",
            "google                           2.0.3\n",
            "google-ai-generativelanguage     0.6.6\n",
            "google-api-core                  2.19.1\n",
            "google-api-python-client         2.137.0\n",
            "google-auth                      2.27.0\n",
            "google-auth-httplib2             0.2.0\n",
            "google-auth-oauthlib             1.2.1\n",
            "google-cloud-aiplatform          1.59.0\n",
            "google-cloud-bigquery            3.25.0\n",
            "google-cloud-bigquery-connection 1.15.4\n",
            "google-cloud-bigquery-storage    2.25.0\n",
            "google-cloud-bigtable            2.25.0\n",
            "google-cloud-core                2.4.1\n",
            "google-cloud-datastore           2.19.0\n",
            "google-cloud-firestore           2.16.1\n",
            "google-cloud-functions           1.16.4\n",
            "google-cloud-iam                 2.15.1\n",
            "google-cloud-language            2.13.4\n",
            "google-cloud-pubsub              2.22.0\n",
            "google-cloud-resource-manager    1.12.4\n",
            "google-cloud-storage             2.8.0\n",
            "google-cloud-translate           3.15.4\n",
            "google-colab                     1.0.0\n",
            "google-crc32c                    1.5.0\n",
            "google-generativeai              0.7.2\n",
            "google-pasta                     0.2.0\n",
            "google-resumable-media           2.7.1\n",
            "googleapis-common-protos         1.63.2\n",
            "googledrivedownloader            0.4\n",
            "graphviz                         0.20.3\n",
            "greenlet                         3.0.3\n",
            "grpc-google-iam-v1               0.13.1\n",
            "grpcio                           1.64.1\n",
            "grpcio-status                    1.48.2\n",
            "gspread                          6.0.2\n",
            "gspread-dataframe                3.3.1\n",
            "gym                              0.25.2\n",
            "gym-notices                      0.0.8\n",
            "h5netcdf                         1.3.0\n",
            "h5py                             3.11.0\n",
            "holidays                         0.53\n",
            "holoviews                        1.18.3\n",
            "html5lib                         1.1\n",
            "httpimport                       1.3.1\n",
            "httplib2                         0.22.0\n",
            "huggingface-hub                  0.23.5\n",
            "humanize                         4.10.0\n",
            "hyperopt                         0.2.7\n",
            "ibis-framework                   8.0.0\n",
            "idna                             3.7\n",
            "imageio                          2.34.2\n",
            "imageio-ffmpeg                   0.5.1\n",
            "imagesize                        1.4.1\n",
            "imbalanced-learn                 0.12.3\n",
            "imgaug                           0.4.0\n",
            "immutabledict                    4.2.0\n",
            "importlib_metadata               8.1.0\n",
            "importlib_resources              6.4.0\n",
            "imutils                          0.5.4\n",
            "inflect                          7.3.1\n",
            "iniconfig                        2.0.0\n",
            "intel-cmplr-lib-ur               2024.2.0\n",
            "intel-openmp                     2024.2.0\n",
            "ipyevents                        2.0.2\n",
            "ipyfilechooser                   0.6.0\n",
            "ipykernel                        5.5.6\n",
            "ipyleaflet                       0.18.2\n",
            "ipyparallel                      8.8.0\n",
            "ipython                          7.34.0\n",
            "ipython-genutils                 0.2.0\n",
            "ipython-sql                      0.5.0\n",
            "ipytree                          0.2.2\n",
            "ipywidgets                       7.7.1\n",
            "itsdangerous                     2.2.0\n",
            "jax                              0.4.26\n",
            "jaxlib                           0.4.26+cuda12.cudnn89\n",
            "jeepney                          0.7.1\n",
            "jellyfish                        1.0.4\n",
            "jieba                            0.42.1\n",
            "Jinja2                           3.1.4\n",
            "joblib                           1.4.2\n",
            "jsonpickle                       3.2.2\n",
            "jsonschema                       4.23.0\n",
            "jsonschema-specifications        2023.12.1\n",
            "jupyter-client                   6.1.12\n",
            "jupyter-console                  6.1.0\n",
            "jupyter_core                     5.7.2\n",
            "jupyter-server                   1.24.0\n",
            "jupyterlab_pygments              0.3.0\n",
            "jupyterlab_widgets               3.0.11\n",
            "kaggle                           1.6.14\n",
            "kagglehub                        0.2.8\n",
            "keras                            2.15.0\n",
            "keyring                          23.5.0\n",
            "kiwisolver                       1.4.5\n",
            "langcodes                        3.4.0\n",
            "language_data                    1.2.0\n",
            "launchpadlib                     1.10.16\n",
            "lazr.restfulclient               0.14.4\n",
            "lazr.uri                         1.0.6\n",
            "lazy_loader                      0.4\n",
            "libclang                         18.1.1\n",
            "librosa                          0.10.2.post1\n",
            "lightgbm                         4.4.0\n",
            "linkify-it-py                    2.0.3\n",
            "llvmlite                         0.43.0\n",
            "locket                           1.0.0\n",
            "logical-unification              0.4.6\n",
            "lxml                             4.9.4\n",
            "malloy                           2024.1089\n",
            "marisa-trie                      1.2.0\n",
            "Markdown                         3.6\n",
            "markdown-it-py                   3.0.0\n",
            "MarkupSafe                       2.1.5\n",
            "matplotlib                       3.7.1\n",
            "matplotlib-inline                0.1.7\n",
            "matplotlib-venn                  0.11.10\n",
            "mdit-py-plugins                  0.4.1\n",
            "mdurl                            0.1.2\n",
            "miniKanren                       1.0.3\n",
            "missingno                        0.5.2\n",
            "mistune                          0.8.4\n",
            "mizani                           0.9.3\n",
            "mkl                              2024.2.0\n",
            "ml-dtypes                        0.2.0\n",
            "mlxtend                          0.23.1\n",
            "more-itertools                   10.3.0\n",
            "moviepy                          1.0.3\n",
            "mpmath                           1.3.0\n",
            "msgpack                          1.0.8\n",
            "multidict                        6.0.5\n",
            "multipledispatch                 1.0.0\n",
            "multitasking                     0.0.11\n",
            "murmurhash                       1.0.10\n",
            "music21                          9.1.0\n",
            "natsort                          8.4.0\n",
            "nbclassic                        1.1.0\n",
            "nbclient                         0.10.0\n",
            "nbconvert                        6.5.4\n",
            "nbformat                         5.10.4\n",
            "nest-asyncio                     1.6.0\n",
            "networkx                         3.3\n",
            "nibabel                          5.0.1\n",
            "nltk                             3.8.1\n",
            "notebook                         6.5.5\n",
            "notebook_shim                    0.2.4\n",
            "numba                            0.60.0\n",
            "numexpr                          2.10.1\n",
            "numpy                            1.25.2\n",
            "nvtx                             0.2.10\n",
            "oauth2client                     4.1.3\n",
            "oauthlib                         3.2.2\n",
            "opencv-contrib-python            4.10.0.84\n",
            "opencv-python                    4.10.0.84\n",
            "opencv-python-headless           4.10.0.84\n",
            "openpyxl                         3.1.5\n",
            "opt-einsum                       3.3.0\n",
            "optax                            0.2.2\n",
            "orbax-checkpoint                 0.4.4\n",
            "osqp                             0.6.7.post0\n",
            "packaging                        24.1\n",
            "pandas                           2.0.3\n",
            "pandas-datareader                0.10.0\n",
            "pandas-gbq                       0.19.2\n",
            "pandas-stubs                     2.0.3.230814\n",
            "pandocfilters                    1.5.1\n",
            "panel                            1.4.4\n",
            "param                            2.1.1\n",
            "parso                            0.8.4\n",
            "parsy                            2.1\n",
            "partd                            1.4.2\n",
            "pathlib                          1.0.1\n",
            "patsy                            0.5.6\n",
            "peewee                           3.17.6\n",
            "pexpect                          4.9.0\n",
            "pickleshare                      0.7.5\n",
            "Pillow                           9.4.0\n",
            "pip                              24.1.2\n",
            "pip-tools                        7.4.1\n",
            "platformdirs                     4.2.2\n",
            "plotly                           5.15.0\n",
            "plotnine                         0.12.4\n",
            "pluggy                           1.5.0\n",
            "polars                           0.20.2\n",
            "pooch                            1.8.2\n",
            "portpicker                       1.5.2\n",
            "prefetch_generator               1.0.3\n",
            "preshed                          3.0.9\n",
            "prettytable                      3.10.2\n",
            "proglog                          0.1.10\n",
            "progressbar2                     4.2.0\n",
            "prometheus_client                0.20.0\n",
            "promise                          2.3\n",
            "prompt_toolkit                   3.0.47\n",
            "prophet                          1.1.5\n",
            "proto-plus                       1.24.0\n",
            "protobuf                         3.20.3\n",
            "psutil                           5.9.5\n",
            "psycopg2                         2.9.9\n",
            "ptyprocess                       0.7.0\n",
            "py-cpuinfo                       9.0.0\n",
            "py4j                             0.10.9.7\n",
            "pyarrow                          14.0.2\n",
            "pyarrow-hotfix                   0.6\n",
            "pyasn1                           0.6.0\n",
            "pyasn1_modules                   0.4.0\n",
            "pycocotools                      2.0.8\n",
            "pycparser                        2.22\n",
            "pydantic                         2.8.2\n",
            "pydantic_core                    2.20.1\n",
            "pydata-google-auth               1.8.2\n",
            "pydot                            1.4.2\n",
            "pydot-ng                         2.0.0\n",
            "pydotplus                        2.0.2\n",
            "PyDrive                          1.3.1\n",
            "PyDrive2                         1.6.3\n",
            "pyerfa                           2.0.1.4\n",
            "pygame                           2.6.0\n",
            "Pygments                         2.16.1\n",
            "PyGObject                        3.42.1\n",
            "PyJWT                            2.8.0\n",
            "pymc                             5.10.4\n",
            "pymystem3                        0.2.0\n",
            "pynvjitlink-cu12                 0.3.0\n",
            "PyOpenGL                         3.1.7\n",
            "pyOpenSSL                        24.2.1\n",
            "pyparsing                        3.1.2\n",
            "pyperclip                        1.9.0\n",
            "pyproj                           3.6.1\n",
            "pyproject_hooks                  1.1.0\n",
            "pyshp                            2.3.1\n",
            "PySocks                          1.7.1\n",
            "pytensor                         2.18.6\n",
            "pytest                           7.4.4\n",
            "python-apt                       2.4.0\n",
            "python-box                       7.2.0\n",
            "python-dateutil                  2.8.2\n",
            "python-louvain                   0.16\n",
            "python-slugify                   8.0.4\n",
            "python-utils                     3.8.2\n",
            "pytz                             2024.1\n",
            "pyviz_comms                      3.0.2\n",
            "PyYAML                           6.0.1\n",
            "pyzmq                            24.0.1\n",
            "qdldl                            0.1.7.post4\n",
            "ratelim                          0.1.6\n",
            "referencing                      0.35.1\n",
            "regex                            2024.5.15\n",
            "requests                         2.31.0\n",
            "requests-oauthlib                1.3.1\n",
            "requirements-parser              0.9.0\n",
            "rich                             13.7.1\n",
            "rmm-cu12                         24.4.0\n",
            "rpds-py                          0.19.0\n",
            "rpy2                             3.4.2\n",
            "rsa                              4.9\n",
            "safetensors                      0.4.3\n",
            "scikit-image                     0.23.2\n",
            "scikit-learn                     1.3.2\n",
            "scipy                            1.13.1\n",
            "scooby                           0.10.0\n",
            "scs                              3.2.6\n",
            "seaborn                          0.13.1\n",
            "SecretStorage                    3.3.1\n",
            "Send2Trash                       1.8.3\n",
            "sentencepiece                    0.1.99\n",
            "setuptools                       71.0.4\n",
            "shapely                          2.0.5\n",
            "shellingham                      1.5.4\n",
            "simple_parsing                   0.1.5\n",
            "six                              1.16.0\n",
            "sklearn-pandas                   2.2.0\n",
            "smart-open                       7.0.4\n",
            "sniffio                          1.3.1\n",
            "snowballstemmer                  2.2.0\n",
            "snowflake-connector-python       3.11.0\n",
            "sortedcontainers                 2.4.0\n",
            "soundfile                        0.12.1\n",
            "soupsieve                        2.5\n",
            "soxr                             0.3.7\n",
            "spacy                            3.7.5\n",
            "spacy-legacy                     3.0.12\n",
            "spacy-loggers                    1.0.5\n",
            "Sphinx                           5.0.2\n",
            "sphinxcontrib-applehelp          1.0.8\n",
            "sphinxcontrib-devhelp            1.0.6\n",
            "sphinxcontrib-htmlhelp           2.0.6\n",
            "sphinxcontrib-jsmath             1.0.1\n",
            "sphinxcontrib-qthelp             1.0.8\n",
            "sphinxcontrib-serializinghtml    1.1.10\n",
            "SQLAlchemy                       2.0.31\n",
            "sqlglot                          20.11.0\n",
            "sqlparse                         0.5.1\n",
            "srsly                            2.4.8\n",
            "stanio                           0.5.1\n",
            "statsmodels                      0.14.2\n",
            "StrEnum                          0.4.15\n",
            "sympy                            1.13.1\n",
            "tables                           3.8.0\n",
            "tabulate                         0.9.0\n",
            "tbb                              2021.13.0\n",
            "tblib                            3.0.0\n",
            "tenacity                         8.5.0\n",
            "tensorboard                      2.15.2\n",
            "tensorboard-data-server          0.7.2\n",
            "tensorflow                       2.15.0\n",
            "tensorflow-datasets              4.9.6\n",
            "tensorflow-estimator             2.15.0\n",
            "tensorflow-gcs-config            2.15.0\n",
            "tensorflow-hub                   0.16.1\n",
            "tensorflow-io-gcs-filesystem     0.37.1\n",
            "tensorflow-metadata              1.15.0\n",
            "tensorflow-probability           0.23.0\n",
            "tensorstore                      0.1.45\n",
            "termcolor                        2.4.0\n",
            "terminado                        0.18.1\n",
            "text-unidecode                   1.3\n",
            "textblob                         0.17.1\n",
            "tf_keras                         2.15.1\n",
            "tf-slim                          1.1.0\n",
            "thinc                            8.2.5\n",
            "threadpoolctl                    3.5.0\n",
            "tifffile                         2024.7.21\n",
            "tinycss2                         1.3.0\n",
            "tokenizers                       0.19.1\n",
            "toml                             0.10.2\n",
            "tomli                            2.0.1\n",
            "tomlkit                          0.13.0\n",
            "toolz                            0.12.1\n",
            "torch                            2.3.1+cu121\n",
            "torchaudio                       2.3.1+cu121\n",
            "torchsummary                     1.5.1\n",
            "torchtext                        0.18.0\n",
            "torchvision                      0.18.1+cu121\n",
            "tornado                          6.3.3\n",
            "tqdm                             4.66.4\n",
            "traitlets                        5.7.1\n",
            "traittypes                       0.2.1\n",
            "transformers                     4.42.4\n",
            "triton                           2.3.1\n",
            "tweepy                           4.14.0\n",
            "typeguard                        4.3.0\n",
            "typer                            0.12.3\n",
            "types-pytz                       2024.1.0.20240417\n",
            "types-setuptools                 71.1.0.20240724\n",
            "typing_extensions                4.12.2\n",
            "tzdata                           2024.1\n",
            "tzlocal                          5.2\n",
            "uc-micro-py                      1.0.3\n",
            "uritemplate                      4.1.1\n",
            "urllib3                          2.0.7\n",
            "vega-datasets                    0.9.0\n",
            "wadllib                          1.3.6\n",
            "wasabi                           1.1.3\n",
            "wcwidth                          0.2.13\n",
            "weasel                           0.4.1\n",
            "webcolors                        24.6.0\n",
            "webencodings                     0.5.1\n",
            "websocket-client                 1.8.0\n",
            "Werkzeug                         3.0.3\n",
            "wheel                            0.43.0\n",
            "widgetsnbextension               3.6.7\n",
            "wordcloud                        1.9.3\n",
            "wrapt                            1.14.1\n",
            "xarray                           2024.6.0\n",
            "xarray-einstats                  0.7.0\n",
            "xgboost                          2.1.0\n",
            "xlrd                             2.0.1\n",
            "xyzservices                      2024.6.0\n",
            "yarl                             1.9.4\n",
            "yellowbrick                      1.5\n",
            "yfinance                         0.2.41\n",
            "zict                             3.0.0\n",
            "zipp                             3.19.2\n"
          ]
        }
      ]
    },
    {
      "cell_type": "code",
      "source": [
        "!pip freeze # Listado de paquetes instalados"
      ],
      "metadata": {
        "colab": {
          "base_uri": "https://localhost:8080/"
        },
        "id": "ZJeCX5FPS_SX",
        "outputId": "75b27bd1-1ce4-4ba9-ee85-39ae04ae9c7b"
      },
      "execution_count": null,
      "outputs": [
        {
          "output_type": "stream",
          "name": "stdout",
          "text": [
            "absl-py==1.4.0\n",
            "accelerate==0.32.1\n",
            "aiohttp==3.9.5\n",
            "aiosignal==1.3.1\n",
            "alabaster==0.7.16\n",
            "albucore==0.0.12\n",
            "albumentations==1.4.11\n",
            "altair==4.2.2\n",
            "annotated-types==0.7.0\n",
            "anyio==3.7.1\n",
            "argon2-cffi==23.1.0\n",
            "argon2-cffi-bindings==21.2.0\n",
            "array_record==0.5.1\n",
            "arviz==0.18.0\n",
            "asn1crypto==1.5.1\n",
            "astropy==6.1.2\n",
            "astropy-iers-data==0.2024.7.22.0.34.13\n",
            "astunparse==1.6.3\n",
            "async-timeout==4.0.3\n",
            "atpublic==4.1.0\n",
            "attrs==23.2.0\n",
            "audioread==3.0.1\n",
            "autograd==1.6.2\n",
            "Babel==2.15.0\n",
            "backcall==0.2.0\n",
            "beautifulsoup4==4.12.3\n",
            "bidict==0.23.1\n",
            "bigframes==1.11.1\n",
            "bleach==6.1.0\n",
            "blinker==1.4\n",
            "blis==0.7.11\n",
            "blosc2==2.0.0\n",
            "bokeh==3.4.2\n",
            "bqplot==0.12.43\n",
            "branca==0.7.2\n",
            "build==1.2.1\n",
            "CacheControl==0.14.0\n",
            "cachetools==5.4.0\n",
            "catalogue==2.0.10\n",
            "certifi==2024.7.4\n",
            "cffi==1.16.0\n",
            "chardet==5.2.0\n",
            "charset-normalizer==3.3.2\n",
            "chex==0.1.86\n",
            "clarabel==0.9.0\n",
            "click==8.1.7\n",
            "click-plugins==1.1.1\n",
            "cligj==0.7.2\n",
            "cloudpathlib==0.18.1\n",
            "cloudpickle==2.2.1\n",
            "cmake==3.30.1\n",
            "cmdstanpy==1.2.4\n",
            "colorcet==3.1.0\n",
            "colorlover==0.3.0\n",
            "colour==0.1.5\n",
            "community==1.0.0b1\n",
            "confection==0.1.5\n",
            "cons==0.4.6\n",
            "contextlib2==21.6.0\n",
            "contourpy==1.2.1\n",
            "cryptography==42.0.8\n",
            "cuda-python==12.2.1\n",
            "cudf-cu12 @ https://pypi.nvidia.com/cudf-cu12/cudf_cu12-24.4.1-cp310-cp310-manylinux_2_28_x86_64.whl#sha256=57366e7ef09dc63e0b389aff20df6c37d91e2790065861ee31a4720149f5b694\n",
            "cufflinks==0.17.3\n",
            "cupy-cuda12x==12.2.0\n",
            "cvxopt==1.3.2\n",
            "cvxpy==1.5.2\n",
            "cycler==0.12.1\n",
            "cymem==2.0.8\n",
            "Cython==3.0.10\n",
            "dask==2024.7.1\n",
            "datascience==0.17.6\n",
            "db-dtypes==1.2.0\n",
            "dbus-python==1.2.18\n",
            "debugpy==1.6.6\n",
            "decorator==4.4.2\n",
            "defusedxml==0.7.1\n",
            "distributed==2024.7.1\n",
            "distro==1.7.0\n",
            "dlib==19.24.4\n",
            "dm-tree==0.1.8\n",
            "docstring_parser==0.16\n",
            "docutils==0.18.1\n",
            "dopamine_rl==4.0.9\n",
            "duckdb==0.10.3\n",
            "earthengine-api==0.1.412\n",
            "easydict==1.13\n",
            "ecos==2.0.14\n",
            "editdistance==0.8.1\n",
            "eerepr==0.0.4\n",
            "en-core-web-sm @ https://github.com/explosion/spacy-models/releases/download/en_core_web_sm-3.7.1/en_core_web_sm-3.7.1-py3-none-any.whl#sha256=86cc141f63942d4b2c5fcee06630fd6f904788d2f0ab005cce45aadb8fb73889\n",
            "entrypoints==0.4\n",
            "et-xmlfile==1.1.0\n",
            "etils==1.7.0\n",
            "etuples==0.3.9\n",
            "eval_type_backport==0.2.0\n",
            "exceptiongroup==1.2.2\n",
            "fastai==2.7.15\n",
            "fastcore==1.5.54\n",
            "fastdownload==0.0.7\n",
            "fastjsonschema==2.20.0\n",
            "fastprogress==1.0.3\n",
            "fastrlock==0.8.2\n",
            "filelock==3.15.4\n",
            "fiona==1.9.6\n",
            "firebase-admin==6.5.0\n",
            "Flask==2.2.5\n",
            "flatbuffers==24.3.25\n",
            "flax==0.8.4\n",
            "folium==0.17.0\n",
            "fonttools==4.53.1\n",
            "frozendict==2.4.4\n",
            "frozenlist==1.4.1\n",
            "fsspec==2024.6.1\n",
            "future==1.0.0\n",
            "gast==0.6.0\n",
            "gcsfs==2024.6.1\n",
            "GDAL==3.6.4\n",
            "gdown==5.1.0\n",
            "geemap==0.33.1\n",
            "gensim==4.3.3\n",
            "geocoder==1.38.1\n",
            "geographiclib==2.0\n",
            "geopandas==0.14.4\n",
            "geopy==2.4.1\n",
            "gin-config==0.5.0\n",
            "glob2==0.7\n",
            "google==2.0.3\n",
            "google-ai-generativelanguage==0.6.6\n",
            "google-api-core==2.19.1\n",
            "google-api-python-client==2.137.0\n",
            "google-auth==2.27.0\n",
            "google-auth-httplib2==0.2.0\n",
            "google-auth-oauthlib==1.2.1\n",
            "google-cloud-aiplatform==1.59.0\n",
            "google-cloud-bigquery==3.25.0\n",
            "google-cloud-bigquery-connection==1.15.4\n",
            "google-cloud-bigquery-storage==2.25.0\n",
            "google-cloud-bigtable==2.25.0\n",
            "google-cloud-core==2.4.1\n",
            "google-cloud-datastore==2.19.0\n",
            "google-cloud-firestore==2.16.1\n",
            "google-cloud-functions==1.16.4\n",
            "google-cloud-iam==2.15.1\n",
            "google-cloud-language==2.13.4\n",
            "google-cloud-pubsub==2.22.0\n",
            "google-cloud-resource-manager==1.12.4\n",
            "google-cloud-storage==2.8.0\n",
            "google-cloud-translate==3.15.4\n",
            "google-colab @ file:///colabtools/dist/google_colab-1.0.0.tar.gz#sha256=3aa3114f71eb028e0c4d6242f405e370352592a6e58532a7d15cb903afcfc897\n",
            "google-crc32c==1.5.0\n",
            "google-generativeai==0.7.2\n",
            "google-pasta==0.2.0\n",
            "google-resumable-media==2.7.1\n",
            "googleapis-common-protos==1.63.2\n",
            "googledrivedownloader==0.4\n",
            "graphviz==0.20.3\n",
            "greenlet==3.0.3\n",
            "grpc-google-iam-v1==0.13.1\n",
            "grpcio==1.64.1\n",
            "grpcio-status==1.48.2\n",
            "gspread==6.0.2\n",
            "gspread-dataframe==3.3.1\n",
            "gym==0.25.2\n",
            "gym-notices==0.0.8\n",
            "h5netcdf==1.3.0\n",
            "h5py==3.11.0\n",
            "holidays==0.53\n",
            "holoviews==1.18.3\n",
            "html5lib==1.1\n",
            "httpimport==1.3.1\n",
            "httplib2==0.22.0\n",
            "huggingface-hub==0.23.5\n",
            "humanize==4.10.0\n",
            "hyperopt==0.2.7\n",
            "ibis-framework==8.0.0\n",
            "idna==3.7\n",
            "imageio==2.34.2\n",
            "imageio-ffmpeg==0.5.1\n",
            "imagesize==1.4.1\n",
            "imbalanced-learn==0.12.3\n",
            "imgaug==0.4.0\n",
            "immutabledict==4.2.0\n",
            "importlib_metadata==8.1.0\n",
            "importlib_resources==6.4.0\n",
            "imutils==0.5.4\n",
            "inflect==7.3.1\n",
            "iniconfig==2.0.0\n",
            "intel-cmplr-lib-ur==2024.2.0\n",
            "intel-openmp==2024.2.0\n",
            "ipyevents==2.0.2\n",
            "ipyfilechooser==0.6.0\n",
            "ipykernel==5.5.6\n",
            "ipyleaflet==0.18.2\n",
            "ipyparallel==8.8.0\n",
            "ipython==7.34.0\n",
            "ipython-genutils==0.2.0\n",
            "ipython-sql==0.5.0\n",
            "ipytree==0.2.2\n",
            "ipywidgets==7.7.1\n",
            "itsdangerous==2.2.0\n",
            "jax==0.4.26\n",
            "jaxlib @ https://storage.googleapis.com/jax-releases/cuda12/jaxlib-0.4.26+cuda12.cudnn89-cp310-cp310-manylinux2014_x86_64.whl#sha256=813cf1fe3e7ca4dbf5327d6e7b4fc8521e92d8bba073ee645ae0d5d036a25750\n",
            "jeepney==0.7.1\n",
            "jellyfish==1.0.4\n",
            "jieba==0.42.1\n",
            "Jinja2==3.1.4\n",
            "joblib==1.4.2\n",
            "jsonpickle==3.2.2\n",
            "jsonschema==4.23.0\n",
            "jsonschema-specifications==2023.12.1\n",
            "jupyter-client==6.1.12\n",
            "jupyter-console==6.1.0\n",
            "jupyter-server==1.24.0\n",
            "jupyter_core==5.7.2\n",
            "jupyterlab_pygments==0.3.0\n",
            "jupyterlab_widgets==3.0.11\n",
            "kaggle==1.6.14\n",
            "kagglehub==0.2.8\n",
            "keras==2.15.0\n",
            "keyring==23.5.0\n",
            "kiwisolver==1.4.5\n",
            "langcodes==3.4.0\n",
            "language_data==1.2.0\n",
            "launchpadlib==1.10.16\n",
            "lazr.restfulclient==0.14.4\n",
            "lazr.uri==1.0.6\n",
            "lazy_loader==0.4\n",
            "libclang==18.1.1\n",
            "librosa==0.10.2.post1\n",
            "lightgbm==4.4.0\n",
            "linkify-it-py==2.0.3\n",
            "llvmlite==0.43.0\n",
            "locket==1.0.0\n",
            "logical-unification==0.4.6\n",
            "lxml==4.9.4\n",
            "malloy==2024.1089\n",
            "marisa-trie==1.2.0\n",
            "Markdown==3.6\n",
            "markdown-it-py==3.0.0\n",
            "MarkupSafe==2.1.5\n",
            "matplotlib==3.7.1\n",
            "matplotlib-inline==0.1.7\n",
            "matplotlib-venn==0.11.10\n",
            "mdit-py-plugins==0.4.1\n",
            "mdurl==0.1.2\n",
            "miniKanren==1.0.3\n",
            "missingno==0.5.2\n",
            "mistune==0.8.4\n",
            "mizani==0.9.3\n",
            "mkl==2024.2.0\n",
            "ml-dtypes==0.2.0\n",
            "mlxtend==0.23.1\n",
            "more-itertools==10.3.0\n",
            "moviepy==1.0.3\n",
            "mpmath==1.3.0\n",
            "msgpack==1.0.8\n",
            "multidict==6.0.5\n",
            "multipledispatch==1.0.0\n",
            "multitasking==0.0.11\n",
            "murmurhash==1.0.10\n",
            "music21==9.1.0\n",
            "natsort==8.4.0\n",
            "nbclassic==1.1.0\n",
            "nbclient==0.10.0\n",
            "nbconvert==6.5.4\n",
            "nbformat==5.10.4\n",
            "nest-asyncio==1.6.0\n",
            "networkx==3.3\n",
            "nibabel==5.0.1\n",
            "nltk==3.8.1\n",
            "notebook==6.5.5\n",
            "notebook_shim==0.2.4\n",
            "numba==0.60.0\n",
            "numexpr==2.10.1\n",
            "numpy==1.25.2\n",
            "nvtx==0.2.10\n",
            "oauth2client==4.1.3\n",
            "oauthlib==3.2.2\n",
            "opencv-contrib-python==4.10.0.84\n",
            "opencv-python==4.10.0.84\n",
            "opencv-python-headless==4.10.0.84\n",
            "openpyxl==3.1.5\n",
            "opt-einsum==3.3.0\n",
            "optax==0.2.2\n",
            "orbax-checkpoint==0.4.4\n",
            "osqp==0.6.7.post0\n",
            "packaging==24.1\n",
            "pandas==2.0.3\n",
            "pandas-datareader==0.10.0\n",
            "pandas-gbq==0.19.2\n",
            "pandas-stubs==2.0.3.230814\n",
            "pandocfilters==1.5.1\n",
            "panel==1.4.4\n",
            "param==2.1.1\n",
            "parso==0.8.4\n",
            "parsy==2.1\n",
            "partd==1.4.2\n",
            "pathlib==1.0.1\n",
            "patsy==0.5.6\n",
            "peewee==3.17.6\n",
            "pexpect==4.9.0\n",
            "pickleshare==0.7.5\n",
            "Pillow==9.4.0\n",
            "pip-tools==7.4.1\n",
            "platformdirs==4.2.2\n",
            "plotly==5.15.0\n",
            "plotnine==0.12.4\n",
            "pluggy==1.5.0\n",
            "polars==0.20.2\n",
            "pooch==1.8.2\n",
            "portpicker==1.5.2\n",
            "prefetch_generator==1.0.3\n",
            "preshed==3.0.9\n",
            "prettytable==3.10.2\n",
            "proglog==0.1.10\n",
            "progressbar2==4.2.0\n",
            "prometheus_client==0.20.0\n",
            "promise==2.3\n",
            "prompt_toolkit==3.0.47\n",
            "prophet==1.1.5\n",
            "proto-plus==1.24.0\n",
            "protobuf==3.20.3\n",
            "psutil==5.9.5\n",
            "psycopg2==2.9.9\n",
            "ptyprocess==0.7.0\n",
            "py-cpuinfo==9.0.0\n",
            "py4j==0.10.9.7\n",
            "pyarrow==14.0.2\n",
            "pyarrow-hotfix==0.6\n",
            "pyasn1==0.6.0\n",
            "pyasn1_modules==0.4.0\n",
            "pycocotools==2.0.8\n",
            "pycparser==2.22\n",
            "pydantic==2.8.2\n",
            "pydantic_core==2.20.1\n",
            "pydata-google-auth==1.8.2\n",
            "pydot==1.4.2\n",
            "pydot-ng==2.0.0\n",
            "pydotplus==2.0.2\n",
            "PyDrive==1.3.1\n",
            "PyDrive2==1.6.3\n",
            "pyerfa==2.0.1.4\n",
            "pygame==2.6.0\n",
            "Pygments==2.16.1\n",
            "PyGObject==3.42.1\n",
            "PyJWT==2.8.0\n",
            "pymc==5.10.4\n",
            "pymystem3==0.2.0\n",
            "pynvjitlink-cu12==0.3.0\n",
            "PyOpenGL==3.1.7\n",
            "pyOpenSSL==24.2.1\n",
            "pyparsing==3.1.2\n",
            "pyperclip==1.9.0\n",
            "pyproj==3.6.1\n",
            "pyproject_hooks==1.1.0\n",
            "pyshp==2.3.1\n",
            "PySocks==1.7.1\n",
            "pytensor==2.18.6\n",
            "pytest==7.4.4\n",
            "python-apt==2.4.0\n",
            "python-box==7.2.0\n",
            "python-dateutil==2.8.2\n",
            "python-louvain==0.16\n",
            "python-slugify==8.0.4\n",
            "python-utils==3.8.2\n",
            "pytz==2024.1\n",
            "pyviz_comms==3.0.2\n",
            "PyYAML==6.0.1\n",
            "pyzmq==24.0.1\n",
            "qdldl==0.1.7.post4\n",
            "ratelim==0.1.6\n",
            "referencing==0.35.1\n",
            "regex==2024.5.15\n",
            "requests==2.31.0\n",
            "requests-oauthlib==1.3.1\n",
            "requirements-parser==0.9.0\n",
            "rich==13.7.1\n",
            "rmm-cu12==24.4.0\n",
            "rpds-py==0.19.0\n",
            "rpy2==3.4.2\n",
            "rsa==4.9\n",
            "safetensors==0.4.3\n",
            "scikit-image==0.23.2\n",
            "scikit-learn==1.3.2\n",
            "scipy==1.13.1\n",
            "scooby==0.10.0\n",
            "scs==3.2.6\n",
            "seaborn==0.13.1\n",
            "SecretStorage==3.3.1\n",
            "Send2Trash==1.8.3\n",
            "sentencepiece==0.1.99\n",
            "shapely==2.0.5\n",
            "shellingham==1.5.4\n",
            "simple_parsing==0.1.5\n",
            "six==1.16.0\n",
            "sklearn-pandas==2.2.0\n",
            "smart-open==7.0.4\n",
            "sniffio==1.3.1\n",
            "snowballstemmer==2.2.0\n",
            "snowflake-connector-python==3.11.0\n",
            "sortedcontainers==2.4.0\n",
            "soundfile==0.12.1\n",
            "soupsieve==2.5\n",
            "soxr==0.3.7\n",
            "spacy==3.7.5\n",
            "spacy-legacy==3.0.12\n",
            "spacy-loggers==1.0.5\n",
            "Sphinx==5.0.2\n",
            "sphinxcontrib-applehelp==1.0.8\n",
            "sphinxcontrib-devhelp==1.0.6\n",
            "sphinxcontrib-htmlhelp==2.0.6\n",
            "sphinxcontrib-jsmath==1.0.1\n",
            "sphinxcontrib-qthelp==1.0.8\n",
            "sphinxcontrib-serializinghtml==1.1.10\n",
            "SQLAlchemy==2.0.31\n",
            "sqlglot==20.11.0\n",
            "sqlparse==0.5.1\n",
            "srsly==2.4.8\n",
            "stanio==0.5.1\n",
            "statsmodels==0.14.2\n",
            "StrEnum==0.4.15\n",
            "sympy==1.13.1\n",
            "tables==3.8.0\n",
            "tabulate==0.9.0\n",
            "tbb==2021.13.0\n",
            "tblib==3.0.0\n",
            "tenacity==8.5.0\n",
            "tensorboard==2.15.2\n",
            "tensorboard-data-server==0.7.2\n",
            "tensorflow @ https://storage.googleapis.com/colab-tf-builds-public-09h6ksrfwbb9g9xv/tensorflow-2.15.0-cp310-cp310-manylinux_2_17_x86_64.manylinux2014_x86_64.whl#sha256=a2ec79931350b378c1ef300ca836b52a55751acb71a433582508a07f0de57c42\n",
            "tensorflow-datasets==4.9.6\n",
            "tensorflow-estimator==2.15.0\n",
            "tensorflow-gcs-config==2.15.0\n",
            "tensorflow-hub==0.16.1\n",
            "tensorflow-io-gcs-filesystem==0.37.1\n",
            "tensorflow-metadata==1.15.0\n",
            "tensorflow-probability==0.23.0\n",
            "tensorstore==0.1.45\n",
            "termcolor==2.4.0\n",
            "terminado==0.18.1\n",
            "text-unidecode==1.3\n",
            "textblob==0.17.1\n",
            "tf-slim==1.1.0\n",
            "tf_keras==2.15.1\n",
            "thinc==8.2.5\n",
            "threadpoolctl==3.5.0\n",
            "tifffile==2024.7.21\n",
            "tinycss2==1.3.0\n",
            "tokenizers==0.19.1\n",
            "toml==0.10.2\n",
            "tomli==2.0.1\n",
            "tomlkit==0.13.0\n",
            "toolz==0.12.1\n",
            "torch @ https://download.pytorch.org/whl/cu121/torch-2.3.1%2Bcu121-cp310-cp310-linux_x86_64.whl#sha256=f0deb5d2f932a68ed54625ba140eddbf2af22be978ee19b9b63c986add6425b2\n",
            "torchaudio @ https://download.pytorch.org/whl/cu121/torchaudio-2.3.1%2Bcu121-cp310-cp310-linux_x86_64.whl#sha256=0b423f4ae3356f11f6723e8c77208ac3f9361a4f941e4cc08d86c32c137594bc\n",
            "torchsummary==1.5.1\n",
            "torchtext==0.18.0\n",
            "torchvision @ https://download.pytorch.org/whl/cu121/torchvision-0.18.1%2Bcu121-cp310-cp310-linux_x86_64.whl#sha256=e95ba5a2c616939281e01babf11664d6d1725e81bba57ef81f81c3e57e4d4151\n",
            "tornado==6.3.3\n",
            "tqdm==4.66.4\n",
            "traitlets==5.7.1\n",
            "traittypes==0.2.1\n",
            "transformers==4.42.4\n",
            "triton==2.3.1\n",
            "tweepy==4.14.0\n",
            "typeguard==4.3.0\n",
            "typer==0.12.3\n",
            "types-pytz==2024.1.0.20240417\n",
            "types-setuptools==71.1.0.20240724\n",
            "typing_extensions==4.12.2\n",
            "tzdata==2024.1\n",
            "tzlocal==5.2\n",
            "uc-micro-py==1.0.3\n",
            "uritemplate==4.1.1\n",
            "urllib3==2.0.7\n",
            "vega-datasets==0.9.0\n",
            "wadllib==1.3.6\n",
            "wasabi==1.1.3\n",
            "wcwidth==0.2.13\n",
            "weasel==0.4.1\n",
            "webcolors==24.6.0\n",
            "webencodings==0.5.1\n",
            "websocket-client==1.8.0\n",
            "Werkzeug==3.0.3\n",
            "widgetsnbextension==3.6.7\n",
            "wordcloud==1.9.3\n",
            "wrapt==1.14.1\n",
            "xarray==2024.6.0\n",
            "xarray-einstats==0.7.0\n",
            "xgboost==2.1.0\n",
            "xlrd==2.0.1\n",
            "xyzservices==2024.6.0\n",
            "yarl==1.9.4\n",
            "yellowbrick==1.5\n",
            "yfinance==0.2.41\n",
            "zict==3.0.0\n",
            "zipp==3.19.2\n"
          ]
        }
      ]
    },
    {
      "cell_type": "markdown",
      "source": [
        "La principal diferencia es que la salida pip freeze,se puede volcar en un archivo requirements.txt y usarse más tarde para reconstruir el entorno \"congelado\"."
      ],
      "metadata": {
        "id": "LnS8ZsROdV-Y"
      }
    },
    {
      "cell_type": "markdown",
      "source": [
        "## **<font color=\"DarkBlue\">Comentarios</font>**"
      ],
      "metadata": {
        "id": "jJorYGrC_5u3"
      }
    },
    {
      "cell_type": "markdown",
      "source": [
        "<p align=\"justify\">\n",
        "Los comentarios en Python se utilizan para dejar notas o explicaciones en el código y no son ejecutados..."
      ],
      "metadata": {
        "id": "F9i9TA0RAFw6"
      }
    },
    {
      "cell_type": "markdown",
      "source": [
        "### **<font color=\"DarkBlue\">Comentarios de una sola línea</font>**"
      ],
      "metadata": {
        "id": "VF0ciWoIALOp"
      }
    },
    {
      "cell_type": "markdown",
      "source": [
        "Se indican con el símbolo `#`"
      ],
      "metadata": {
        "id": "crZl1W1LASZX"
      }
    },
    {
      "cell_type": "code",
      "source": [
        "# Esto es un comentario de una sola línea...."
      ],
      "metadata": {
        "id": "hZJNrMmI_9JY"
      },
      "execution_count": null,
      "outputs": []
    },
    {
      "cell_type": "markdown",
      "source": [
        "### **<font color=\"DarkBlue\">Comentarios de varias líneas</font>**"
      ],
      "metadata": {
        "id": "2RqS44u2Ajwe"
      }
    },
    {
      "cell_type": "markdown",
      "source": [
        "Se pueden hacer con comillas triples (simples o dobles)..."
      ],
      "metadata": {
        "id": "2NZfS0XRAk_T"
      }
    },
    {
      "cell_type": "code",
      "source": [
        "\"\"\"\n",
        "Esto es un comentario\n",
        "de varias líneas\n",
        "\"\"\""
      ],
      "metadata": {
        "id": "pi3W_8oEAlgN",
        "colab": {
          "base_uri": "https://localhost:8080/",
          "height": 35
        },
        "outputId": "e54b552d-a839-4585-bf4c-5c22c89e3445"
      },
      "execution_count": null,
      "outputs": [
        {
          "output_type": "execute_result",
          "data": {
            "text/plain": [
              "'\\nEsto es un comentario\\nde varias líneas\\n'"
            ],
            "application/vnd.google.colaboratory.intrinsic+json": {
              "type": "string"
            }
          },
          "metadata": {},
          "execution_count": 134
        }
      ]
    },
    {
      "cell_type": "markdown",
      "source": [
        "### **<font color=\"DarkBlue\">Palabras Reservadas</font>**"
      ],
      "metadata": {
        "id": "H2Wwkuqisp5-"
      }
    },
    {
      "cell_type": "code",
      "source": [
        "import keyword # importacion de la libreria 'keyword'-palabras reservadas"
      ],
      "metadata": {
        "id": "hpBZApSaJG82"
      },
      "execution_count": null,
      "outputs": []
    },
    {
      "cell_type": "code",
      "source": [
        "keyword.kwlist ## liste las palabras reservadas"
      ],
      "metadata": {
        "colab": {
          "base_uri": "https://localhost:8080/"
        },
        "id": "YJGbvkPVI3nl",
        "outputId": "3fcd5e57-77f3-4b2a-b606-be20d5373957"
      },
      "execution_count": null,
      "outputs": [
        {
          "output_type": "execute_result",
          "data": {
            "text/plain": [
              "['False',\n",
              " 'None',\n",
              " 'True',\n",
              " 'and',\n",
              " 'as',\n",
              " 'assert',\n",
              " 'async',\n",
              " 'await',\n",
              " 'break',\n",
              " 'class',\n",
              " 'continue',\n",
              " 'def',\n",
              " 'del',\n",
              " 'elif',\n",
              " 'else',\n",
              " 'except',\n",
              " 'finally',\n",
              " 'for',\n",
              " 'from',\n",
              " 'global',\n",
              " 'if',\n",
              " 'import',\n",
              " 'in',\n",
              " 'is',\n",
              " 'lambda',\n",
              " 'nonlocal',\n",
              " 'not',\n",
              " 'or',\n",
              " 'pass',\n",
              " 'raise',\n",
              " 'return',\n",
              " 'try',\n",
              " 'while',\n",
              " 'with',\n",
              " 'yield']"
            ]
          },
          "metadata": {},
          "execution_count": 198
        }
      ]
    },
    {
      "cell_type": "code",
      "source": [
        "if = 5 #### variable no debe ser una palabra reservada o keywords"
      ],
      "metadata": {
        "id": "kLgaVht5K-js"
      },
      "execution_count": null,
      "outputs": []
    },
    {
      "cell_type": "markdown",
      "source": [
        "### **<font color=\"DarkBlue\">Variables</font>**"
      ],
      "metadata": {
        "id": "fP66J0qkBaaw"
      }
    },
    {
      "cell_type": "markdown",
      "source": [
        "## **<font color=\"DarkBlue\">Variables y tipos de datos</font>**"
      ],
      "metadata": {
        "id": "_fRBXj8mbrnO"
      }
    },
    {
      "cell_type": "markdown",
      "source": [
        "<p align=\"justify\">\n",
        "Una variable es \"algo\" en lo que puedes almacenar información para su uso posterior. En Python, una variable puede almacenar un número, una letra, un conjunto de números o de letras o incluso conjuntos de conjuntos.\n",
        "<br><br>\n",
        "Las letras permitidas para la generacion de variables son las letras del alfabeto inglés, por lo que están prohibidas la ñ, la ç o las vocales con acentos y dieresis.\n",
        "<br><br>\n",
        "En caso de que se otorgue un nombre incorrecto a una variable, Python mostrará un mensaje de error al ejecutar el script. Aunque no es obligatorio, normalmente conviene que el nombre de la variable esté relacionado con\n",
        "la información que se almacena en ella, para que sea más fácil entender el script.\n",
        "<br><br>\n",
        "Mientras se estan escribiendo las líneas de código, esto no parece muy importante, pero si consultas un notebook que has\n",
        "desarrollado hace tiempo (o que lo ha desarrollado otra persona), resultará mucho más fácil entender el script si los nombres están bien elegidos.\n",
        "</p>"
      ],
      "metadata": {
        "id": "faATtytyfQoA"
      }
    },
    {
      "cell_type": "markdown",
      "source": [
        "### **<font color=\"DarkBlue\">Introspeccion</font>**"
      ],
      "metadata": {
        "id": "qay8biWJXxiZ"
      }
    },
    {
      "cell_type": "code",
      "source": [
        "  datos = 10"
      ],
      "metadata": {
        "id": "-HNXVwn9CS7C"
      },
      "execution_count": null,
      "outputs": []
    },
    {
      "cell_type": "code",
      "source": [
        "?datos"
      ],
      "metadata": {
        "id": "7P1kCdSOX0TY"
      },
      "execution_count": null,
      "outputs": []
    },
    {
      "cell_type": "code",
      "source": [
        "datos?"
      ],
      "metadata": {
        "id": "iBUUt31GCk11"
      },
      "execution_count": null,
      "outputs": []
    },
    {
      "cell_type": "code",
      "source": [
        "help(tuple) # funcion de ayuda"
      ],
      "metadata": {
        "id": "9okVAzosYBFY",
        "colab": {
          "base_uri": "https://localhost:8080/"
        },
        "outputId": "35da04e9-e9ba-466e-a1af-9cf6e98bb438"
      },
      "execution_count": null,
      "outputs": [
        {
          "output_type": "stream",
          "name": "stdout",
          "text": [
            "Help on class tuple in module builtins:\n",
            "\n",
            "class tuple(object)\n",
            " |  tuple(iterable=(), /)\n",
            " |  \n",
            " |  Built-in immutable sequence.\n",
            " |  \n",
            " |  If no argument is given, the constructor returns an empty tuple.\n",
            " |  If iterable is specified the tuple is initialized from iterable's items.\n",
            " |  \n",
            " |  If the argument is a tuple, the return value is the same object.\n",
            " |  \n",
            " |  Built-in subclasses:\n",
            " |      asyncgen_hooks\n",
            " |      MonthDayNano\n",
            " |      UnraisableHookArgs\n",
            " |  \n",
            " |  Methods defined here:\n",
            " |  \n",
            " |  __add__(self, value, /)\n",
            " |      Return self+value.\n",
            " |  \n",
            " |  __contains__(self, key, /)\n",
            " |      Return key in self.\n",
            " |  \n",
            " |  __eq__(self, value, /)\n",
            " |      Return self==value.\n",
            " |  \n",
            " |  __ge__(self, value, /)\n",
            " |      Return self>=value.\n",
            " |  \n",
            " |  __getattribute__(self, name, /)\n",
            " |      Return getattr(self, name).\n",
            " |  \n",
            " |  __getitem__(self, key, /)\n",
            " |      Return self[key].\n",
            " |  \n",
            " |  __getnewargs__(self, /)\n",
            " |  \n",
            " |  __gt__(self, value, /)\n",
            " |      Return self>value.\n",
            " |  \n",
            " |  __hash__(self, /)\n",
            " |      Return hash(self).\n",
            " |  \n",
            " |  __iter__(self, /)\n",
            " |      Implement iter(self).\n",
            " |  \n",
            " |  __le__(self, value, /)\n",
            " |      Return self<=value.\n",
            " |  \n",
            " |  __len__(self, /)\n",
            " |      Return len(self).\n",
            " |  \n",
            " |  __lt__(self, value, /)\n",
            " |      Return self<value.\n",
            " |  \n",
            " |  __mul__(self, value, /)\n",
            " |      Return self*value.\n",
            " |  \n",
            " |  __ne__(self, value, /)\n",
            " |      Return self!=value.\n",
            " |  \n",
            " |  __repr__(self, /)\n",
            " |      Return repr(self).\n",
            " |  \n",
            " |  __rmul__(self, value, /)\n",
            " |      Return value*self.\n",
            " |  \n",
            " |  count(self, value, /)\n",
            " |      Return number of occurrences of value.\n",
            " |  \n",
            " |  index(self, value, start=0, stop=9223372036854775807, /)\n",
            " |      Return first index of value.\n",
            " |      \n",
            " |      Raises ValueError if the value is not present.\n",
            " |  \n",
            " |  ----------------------------------------------------------------------\n",
            " |  Class methods defined here:\n",
            " |  \n",
            " |  __class_getitem__(...) from builtins.type\n",
            " |      See PEP 585\n",
            " |  \n",
            " |  ----------------------------------------------------------------------\n",
            " |  Static methods defined here:\n",
            " |  \n",
            " |  __new__(*args, **kwargs) from builtins.type\n",
            " |      Create and return a new object.  See help(type) for accurate signature.\n",
            "\n"
          ]
        }
      ]
    },
    {
      "cell_type": "markdown",
      "source": [
        "### **<font color=\"DarkBlue\">Variables numericas</font>**"
      ],
      "metadata": {
        "id": "ggb2FxRdtPi5"
      }
    },
    {
      "cell_type": "code",
      "source": [
        "#número\n",
        "numero = 20"
      ],
      "metadata": {
        "id": "rEOllVt0T3F-"
      },
      "execution_count": null,
      "outputs": []
    },
    {
      "cell_type": "code",
      "source": [
        "numero # entero"
      ],
      "metadata": {
        "colab": {
          "base_uri": "https://localhost:8080/"
        },
        "id": "6neRDXRrT5Tf",
        "outputId": "4ed18577-7a8f-4164-9605-8bdbe5a8f4ef"
      },
      "execution_count": null,
      "outputs": [
        {
          "output_type": "execute_result",
          "data": {
            "text/plain": [
              "20"
            ]
          },
          "metadata": {},
          "execution_count": 202
        }
      ]
    },
    {
      "cell_type": "code",
      "source": [
        "type(numero) # type me dice que tipo de elemento."
      ],
      "metadata": {
        "colab": {
          "base_uri": "https://localhost:8080/"
        },
        "id": "ZHQ0u82dT7JW",
        "outputId": "f966c26f-7d0f-4ab3-a159-cb00e64cea4d"
      },
      "execution_count": null,
      "outputs": [
        {
          "output_type": "execute_result",
          "data": {
            "text/plain": [
              "int"
            ]
          },
          "metadata": {},
          "execution_count": 142
        }
      ]
    },
    {
      "cell_type": "markdown",
      "source": [
        "### **<font color=\"DarkBlue\">Numero complejo</font>**"
      ],
      "metadata": {
        "id": "n7UPaZLDiQ1O"
      }
    },
    {
      "cell_type": "code",
      "source": [
        "numero_complejo = 20j # numero complejo"
      ],
      "metadata": {
        "id": "y8ciUUn4heg4"
      },
      "execution_count": null,
      "outputs": []
    },
    {
      "cell_type": "code",
      "source": [
        "numero_complejo"
      ],
      "metadata": {
        "colab": {
          "base_uri": "https://localhost:8080/"
        },
        "id": "hApXZHcdhoeB",
        "outputId": "f724ca5f-e6c2-4c14-ab32-0a44b55a1196"
      },
      "execution_count": null,
      "outputs": [
        {
          "output_type": "execute_result",
          "data": {
            "text/plain": [
              "20j"
            ]
          },
          "metadata": {},
          "execution_count": 204
        }
      ]
    },
    {
      "cell_type": "code",
      "source": [
        "numero_complejo.imag # atributo de la parte real de un número complejo"
      ],
      "metadata": {
        "colab": {
          "base_uri": "https://localhost:8080/"
        },
        "id": "WglG7EH8hTwN",
        "outputId": "bb2c34cb-a235-4784-d53a-b03ff1c112df"
      },
      "execution_count": null,
      "outputs": [
        {
          "output_type": "execute_result",
          "data": {
            "text/plain": [
              "20.0"
            ]
          },
          "metadata": {},
          "execution_count": 205
        }
      ]
    },
    {
      "cell_type": "markdown",
      "source": [
        "### **<font color=\"DarkBlue\">Tuplas</font>**"
      ],
      "metadata": {
        "id": "ogyj7Y3atWIV"
      }
    },
    {
      "cell_type": "code",
      "source": [
        "numero_1 = 10,20,'presente',12j"
      ],
      "metadata": {
        "id": "l7jkfJizUU2g"
      },
      "execution_count": null,
      "outputs": []
    },
    {
      "cell_type": "code",
      "source": [
        "numero_1"
      ],
      "metadata": {
        "colab": {
          "base_uri": "https://localhost:8080/"
        },
        "id": "PRyruoF8UW9O",
        "outputId": "0469c3ad-c7b7-4cfd-b4c6-d80c068a6281"
      },
      "execution_count": null,
      "outputs": [
        {
          "output_type": "execute_result",
          "data": {
            "text/plain": [
              "(10, 20, 'presente', 12j)"
            ]
          },
          "metadata": {},
          "execution_count": 325
        }
      ]
    },
    {
      "cell_type": "code",
      "source": [
        "type(numero_1)"
      ],
      "metadata": {
        "colab": {
          "base_uri": "https://localhost:8080/"
        },
        "id": "zj3ZXY-DUYfQ",
        "outputId": "fcabed9b-f22f-4733-b475-170757817d02"
      },
      "execution_count": null,
      "outputs": [
        {
          "output_type": "execute_result",
          "data": {
            "text/plain": [
              "tuple"
            ]
          },
          "metadata": {},
          "execution_count": 326
        }
      ]
    },
    {
      "cell_type": "code",
      "source": [
        "numero_1[0]"
      ],
      "metadata": {
        "colab": {
          "base_uri": "https://localhost:8080/"
        },
        "id": "yhTF4Vb79rQz",
        "outputId": "e60c0bef-d91f-47a9-e8c3-504e7e5455e9"
      },
      "execution_count": null,
      "outputs": [
        {
          "output_type": "execute_result",
          "data": {
            "text/plain": [
              "10"
            ]
          },
          "metadata": {},
          "execution_count": 327
        }
      ]
    },
    {
      "cell_type": "code",
      "source": [
        "numero_1[1]"
      ],
      "metadata": {
        "colab": {
          "base_uri": "https://localhost:8080/"
        },
        "id": "s6EL4JQBFFa-",
        "outputId": "44614ad1-38c0-4cca-a69d-db726210b163"
      },
      "execution_count": null,
      "outputs": [
        {
          "output_type": "execute_result",
          "data": {
            "text/plain": [
              "20"
            ]
          },
          "metadata": {},
          "execution_count": 328
        }
      ]
    },
    {
      "cell_type": "code",
      "source": [
        "numero_1[2]"
      ],
      "metadata": {
        "colab": {
          "base_uri": "https://localhost:8080/",
          "height": 35
        },
        "id": "cywVEk_fE-42",
        "outputId": "bfb90811-4a09-458a-bed4-a16618ce2317"
      },
      "execution_count": null,
      "outputs": [
        {
          "output_type": "execute_result",
          "data": {
            "text/plain": [
              "'presente'"
            ],
            "application/vnd.google.colaboratory.intrinsic+json": {
              "type": "string"
            }
          },
          "metadata": {},
          "execution_count": 329
        }
      ]
    },
    {
      "cell_type": "code",
      "source": [
        "numero_1[3] # atributo de la parte real de un número complejo"
      ],
      "metadata": {
        "colab": {
          "base_uri": "https://localhost:8080/"
        },
        "id": "8xdO5RIl-fAK",
        "outputId": "387c0ac2-a93f-4a93-95a9-ce8e355d0be1"
      },
      "execution_count": null,
      "outputs": [
        {
          "output_type": "execute_result",
          "data": {
            "text/plain": [
              "12j"
            ]
          },
          "metadata": {},
          "execution_count": 330
        }
      ]
    },
    {
      "cell_type": "code",
      "source": [
        "numero_1[3].imag # modo numero complejo"
      ],
      "metadata": {
        "colab": {
          "base_uri": "https://localhost:8080/"
        },
        "id": "xNAGK7in-p9M",
        "outputId": "ee97c455-b790-46d7-bd28-bff4ea04d9b0"
      },
      "execution_count": null,
      "outputs": [
        {
          "output_type": "execute_result",
          "data": {
            "text/plain": [
              "12.0"
            ]
          },
          "metadata": {},
          "execution_count": 332
        }
      ]
    },
    {
      "cell_type": "markdown",
      "source": [
        "### **<font color=\"DarkBlue\">Listas</font>**"
      ],
      "metadata": {
        "id": "tvmwOsEXtbWE"
      }
    },
    {
      "cell_type": "code",
      "source": [
        "numero_2= [10,20,30,40,'hoy', 20j]"
      ],
      "metadata": {
        "id": "j4ZO5M8XUICa"
      },
      "execution_count": null,
      "outputs": []
    },
    {
      "cell_type": "code",
      "source": [
        "numero_2"
      ],
      "metadata": {
        "colab": {
          "base_uri": "https://localhost:8080/"
        },
        "id": "jbD49qhPUM2a",
        "outputId": "64969b7d-2c41-486b-d013-ffd9d377326d"
      },
      "execution_count": null,
      "outputs": [
        {
          "output_type": "execute_result",
          "data": {
            "text/plain": [
              "[10, 20, 30, 40, 'hoy', 20j]"
            ]
          },
          "metadata": {},
          "execution_count": 318
        }
      ]
    },
    {
      "cell_type": "code",
      "source": [
        "len(numero_2)"
      ],
      "metadata": {
        "colab": {
          "base_uri": "https://localhost:8080/"
        },
        "id": "9kgRzzak7r2m",
        "outputId": "8e6ebc34-3622-47e7-86d4-6925e34cd69c"
      },
      "execution_count": null,
      "outputs": [
        {
          "output_type": "execute_result",
          "data": {
            "text/plain": [
              "6"
            ]
          },
          "metadata": {},
          "execution_count": 319
        }
      ]
    },
    {
      "cell_type": "code",
      "source": [
        "type(numero_2)"
      ],
      "metadata": {
        "colab": {
          "base_uri": "https://localhost:8080/"
        },
        "id": "W9rR2BKpUOBe",
        "outputId": "52d83252-5804-4624-f182-ca6bfb60e00a"
      },
      "execution_count": null,
      "outputs": [
        {
          "output_type": "execute_result",
          "data": {
            "text/plain": [
              "list"
            ]
          },
          "metadata": {},
          "execution_count": 320
        }
      ]
    },
    {
      "cell_type": "code",
      "source": [
        "numero_2[4] # me da el elemento de la posicion [4]"
      ],
      "metadata": {
        "colab": {
          "base_uri": "https://localhost:8080/",
          "height": 35
        },
        "id": "b00LOFMMFXHp",
        "outputId": "e4706e2a-ca42-4cee-c35d-019755a2f088"
      },
      "execution_count": null,
      "outputs": [
        {
          "output_type": "execute_result",
          "data": {
            "text/plain": [
              "'hoy'"
            ],
            "application/vnd.google.colaboratory.intrinsic+json": {
              "type": "string"
            }
          },
          "metadata": {},
          "execution_count": 321
        }
      ]
    },
    {
      "cell_type": "code",
      "source": [
        "numero_2[5]"
      ],
      "metadata": {
        "colab": {
          "base_uri": "https://localhost:8080/"
        },
        "id": "B4Jp3SRl-WJK",
        "outputId": "b695c0a3-2997-45e6-8ba7-42418b7810e7"
      },
      "execution_count": null,
      "outputs": [
        {
          "output_type": "execute_result",
          "data": {
            "text/plain": [
              "20j"
            ]
          },
          "metadata": {},
          "execution_count": 322
        }
      ]
    },
    {
      "cell_type": "markdown",
      "source": [
        "### **<font color=\"DarkBlue\">Diccionarios</font>**"
      ],
      "metadata": {
        "id": "wdMNglDBteKD"
      }
    },
    {
      "cell_type": "code",
      "source": [
        "numero_3 = dict([(10,20), (20,30), (30,'tres'),(40,5j)])"
      ],
      "metadata": {
        "id": "vE3Gzma-UbFd"
      },
      "execution_count": null,
      "outputs": []
    },
    {
      "cell_type": "code",
      "source": [
        "numero_3"
      ],
      "metadata": {
        "colab": {
          "base_uri": "https://localhost:8080/"
        },
        "id": "dKh3jBpxUcdk",
        "outputId": "9d8426f4-a2f3-4c8f-8210-a7e95f2ac67c"
      },
      "execution_count": null,
      "outputs": [
        {
          "output_type": "execute_result",
          "data": {
            "text/plain": [
              "{10: 20, 20: 30, 30: 'tres', 40: 5j}"
            ]
          },
          "metadata": {},
          "execution_count": 334
        }
      ]
    },
    {
      "cell_type": "code",
      "source": [
        "type(numero_3)"
      ],
      "metadata": {
        "colab": {
          "base_uri": "https://localhost:8080/"
        },
        "id": "98qPFmMWUduV",
        "outputId": "fc1d4b4c-9384-4ac2-b650-b74c43bad038"
      },
      "execution_count": null,
      "outputs": [
        {
          "output_type": "execute_result",
          "data": {
            "text/plain": [
              "dict"
            ]
          },
          "metadata": {},
          "execution_count": 335
        }
      ]
    },
    {
      "cell_type": "code",
      "source": [
        "len(numero_3)"
      ],
      "metadata": {
        "colab": {
          "base_uri": "https://localhost:8080/"
        },
        "id": "89dPKglgGQ60",
        "outputId": "a39a6ed2-86af-4a37-b65c-52b153e05cf4"
      },
      "execution_count": null,
      "outputs": [
        {
          "output_type": "execute_result",
          "data": {
            "text/plain": [
              "4"
            ]
          },
          "metadata": {},
          "execution_count": 336
        }
      ]
    },
    {
      "cell_type": "code",
      "source": [
        "numero_3.keys() # metodo de las claves"
      ],
      "metadata": {
        "colab": {
          "base_uri": "https://localhost:8080/"
        },
        "id": "M5j2mOtUF-7M",
        "outputId": "2ead6208-aa09-4ffe-8e06-6aac5ee5c100"
      },
      "execution_count": null,
      "outputs": [
        {
          "output_type": "execute_result",
          "data": {
            "text/plain": [
              "dict_keys([10, 20, 30, 40])"
            ]
          },
          "metadata": {},
          "execution_count": 337
        }
      ]
    },
    {
      "cell_type": "code",
      "source": [
        "numero_3.values() # metodo de los valores"
      ],
      "metadata": {
        "colab": {
          "base_uri": "https://localhost:8080/"
        },
        "id": "d9xi_Y5kGTus",
        "outputId": "797bebae-b45c-430d-e173-7fa0fb576b51"
      },
      "execution_count": null,
      "outputs": [
        {
          "output_type": "execute_result",
          "data": {
            "text/plain": [
              "dict_values([20, 30, 'tres', 5j])"
            ]
          },
          "metadata": {},
          "execution_count": 338
        }
      ]
    },
    {
      "cell_type": "markdown",
      "source": [
        "### **<font color=\"DarkBlue\">Rangos</font>**"
      ],
      "metadata": {
        "id": "bLOKTpoathLj"
      }
    },
    {
      "cell_type": "code",
      "source": [
        "rango = range(10)"
      ],
      "metadata": {
        "id": "I_xvvDuQoZZy"
      },
      "execution_count": null,
      "outputs": []
    },
    {
      "cell_type": "code",
      "source": [
        "rango"
      ],
      "metadata": {
        "colab": {
          "base_uri": "https://localhost:8080/"
        },
        "id": "vvi-SC2Fof0S",
        "outputId": "a6815fed-63b2-4f27-d4ef-5cd3f0ce2dc0"
      },
      "execution_count": null,
      "outputs": [
        {
          "output_type": "execute_result",
          "data": {
            "text/plain": [
              "range(0, 10)"
            ]
          },
          "metadata": {},
          "execution_count": 278
        }
      ]
    },
    {
      "cell_type": "code",
      "source": [
        "type(rango)"
      ],
      "metadata": {
        "colab": {
          "base_uri": "https://localhost:8080/"
        },
        "id": "nL1LuBF4ohV8",
        "outputId": "62cc11af-d4e3-4042-db80-bf2e54fdab23"
      },
      "execution_count": null,
      "outputs": [
        {
          "output_type": "execute_result",
          "data": {
            "text/plain": [
              "range"
            ]
          },
          "metadata": {},
          "execution_count": 279
        }
      ]
    },
    {
      "cell_type": "code",
      "source": [
        "range.__doc__ # atributo  del objeto rango"
      ],
      "metadata": {
        "colab": {
          "base_uri": "https://localhost:8080/",
          "height": 106
        },
        "id": "9JSBqhPkGiF_",
        "outputId": "35edc687-3e96-4023-a2b6-dbeadfd2d0dd"
      },
      "execution_count": null,
      "outputs": [
        {
          "output_type": "execute_result",
          "data": {
            "text/plain": [
              "'range(stop) -> range object\\nrange(start, stop[, step]) -> range object\\n\\nReturn an object that produces a sequence of integers from start (inclusive)\\nto stop (exclusive) by step.  range(i, j) produces i, i+1, i+2, ..., j-1.\\nstart defaults to 0, and stop is omitted!  range(4) produces 0, 1, 2, 3.\\nThese are exactly the valid indices for a list of 4 elements.\\nWhen step is given, it specifies the increment (or decrement).'"
            ],
            "application/vnd.google.colaboratory.intrinsic+json": {
              "type": "string"
            }
          },
          "metadata": {},
          "execution_count": 270
        }
      ]
    },
    {
      "cell_type": "code",
      "source": [
        "rango[9] # dato de posicion del rango"
      ],
      "metadata": {
        "colab": {
          "base_uri": "https://localhost:8080/"
        },
        "id": "C66wupDc8f3M",
        "outputId": "1bc3e12a-ee45-4780-b006-a6b8c610e513"
      },
      "execution_count": null,
      "outputs": [
        {
          "output_type": "execute_result",
          "data": {
            "text/plain": [
              "9"
            ]
          },
          "metadata": {},
          "execution_count": 282
        }
      ]
    },
    {
      "cell_type": "markdown",
      "source": [
        "### **<font color=\"DarkBlue\">Conjuntos</font>**"
      ],
      "metadata": {
        "id": "IxCfj4notkdG"
      }
    },
    {
      "cell_type": "code",
      "source": [
        "set_1 = {1,2,3,1,2,3,'mañana',7j}"
      ],
      "metadata": {
        "id": "o9rLbf6Soj8V"
      },
      "execution_count": null,
      "outputs": []
    },
    {
      "cell_type": "code",
      "source": [
        "set_1 # se ven los elementos unicos"
      ],
      "metadata": {
        "colab": {
          "base_uri": "https://localhost:8080/"
        },
        "id": "bVkvAoM3oo8r",
        "outputId": "53c6acb7-a18d-474d-d3ac-309a665f04ab"
      },
      "execution_count": null,
      "outputs": [
        {
          "output_type": "execute_result",
          "data": {
            "text/plain": [
              "{1, 2, 3, 7j, 'mañana'}"
            ]
          },
          "metadata": {},
          "execution_count": 341
        }
      ]
    },
    {
      "cell_type": "code",
      "source": [
        "type(set_1)"
      ],
      "metadata": {
        "colab": {
          "base_uri": "https://localhost:8080/"
        },
        "id": "E2xZSbXqoqfW",
        "outputId": "c7810e49-afd4-4f2f-e4c0-a6e9db3cb03a"
      },
      "execution_count": null,
      "outputs": [
        {
          "output_type": "execute_result",
          "data": {
            "text/plain": [
              "set"
            ]
          },
          "metadata": {},
          "execution_count": 342
        }
      ]
    },
    {
      "cell_type": "code",
      "source": [
        "len(set_1) # ojo cuenta los elementos unicos no el total"
      ],
      "metadata": {
        "colab": {
          "base_uri": "https://localhost:8080/"
        },
        "id": "vKUMqxuLqBZQ",
        "outputId": "c2950be0-2461-4fb3-fbfc-775663f213bf"
      },
      "execution_count": null,
      "outputs": [
        {
          "output_type": "execute_result",
          "data": {
            "text/plain": [
              "5"
            ]
          },
          "metadata": {},
          "execution_count": 343
        }
      ]
    },
    {
      "cell_type": "code",
      "source": [
        "set.intersection_update(set_1) # metodo de interseccion"
      ],
      "metadata": {
        "id": "JjPEaTZiL0TM"
      },
      "execution_count": null,
      "outputs": []
    },
    {
      "cell_type": "code",
      "source": [
        "set_1"
      ],
      "metadata": {
        "colab": {
          "base_uri": "https://localhost:8080/"
        },
        "id": "H7yzHji_L-td",
        "outputId": "0ed1e664-3982-4b10-b677-630af3d415d0"
      },
      "execution_count": null,
      "outputs": [
        {
          "output_type": "execute_result",
          "data": {
            "text/plain": [
              "{1, 2, 3, 7j, 'mañana'}"
            ]
          },
          "metadata": {},
          "execution_count": 345
        }
      ]
    },
    {
      "cell_type": "markdown",
      "source": [
        "### **<font color=\"DarkBlue\">Agrego un elemento al conjunto</font>**"
      ],
      "metadata": {
        "id": "Lr19gKT3ph1U"
      }
    },
    {
      "cell_type": "code",
      "source": [
        "set_1.add(4j) # metodo add para conjuntos agrega un dato al final del conjunto"
      ],
      "metadata": {
        "id": "yOVo7D66o3FM"
      },
      "execution_count": null,
      "outputs": []
    },
    {
      "cell_type": "code",
      "source": [
        "set_1"
      ],
      "metadata": {
        "colab": {
          "base_uri": "https://localhost:8080/"
        },
        "id": "zmogd89Zo7k-",
        "outputId": "e214e151-dc61-423c-d7c5-bb6a2873f21d"
      },
      "execution_count": null,
      "outputs": [
        {
          "output_type": "execute_result",
          "data": {
            "text/plain": [
              "{1, 2, 3, 4j, 7j, 'mañana'}"
            ]
          },
          "metadata": {},
          "execution_count": 347
        }
      ]
    },
    {
      "cell_type": "code",
      "source": [
        "len(set_1) # cuenta elementos unicos del conjunto de datos"
      ],
      "metadata": {
        "colab": {
          "base_uri": "https://localhost:8080/"
        },
        "id": "RypxjJmop8gf",
        "outputId": "d2d9b265-dd66-4a4c-fd36-57e46575975c"
      },
      "execution_count": null,
      "outputs": [
        {
          "output_type": "execute_result",
          "data": {
            "text/plain": [
              "6"
            ]
          },
          "metadata": {},
          "execution_count": 348
        }
      ]
    },
    {
      "cell_type": "markdown",
      "source": [
        "### **<font color=\"DarkBlue\">Cadena de Caracteres</font>**"
      ],
      "metadata": {
        "id": "RNFEjI_6twFF"
      }
    },
    {
      "cell_type": "code",
      "source": [
        "#cadena de caracteres encerradas en comillas\n",
        "nombre = \"Python\""
      ],
      "metadata": {
        "id": "co2Z4Mv_Uos2"
      },
      "execution_count": null,
      "outputs": []
    },
    {
      "cell_type": "code",
      "source": [
        "nombre"
      ],
      "metadata": {
        "colab": {
          "base_uri": "https://localhost:8080/",
          "height": 35
        },
        "id": "tSKYIHxsUr8X",
        "outputId": "0b0cedd4-4e69-4dcf-e95a-095bed4e9fa8"
      },
      "execution_count": null,
      "outputs": [
        {
          "output_type": "execute_result",
          "data": {
            "text/plain": [
              "'Python'"
            ],
            "application/vnd.google.colaboratory.intrinsic+json": {
              "type": "string"
            }
          },
          "metadata": {},
          "execution_count": 350
        }
      ]
    },
    {
      "cell_type": "code",
      "source": [
        "nombre.upper() # upper transforma la cadena en mayusculas"
      ],
      "metadata": {
        "colab": {
          "base_uri": "https://localhost:8080/",
          "height": 35
        },
        "id": "8lmyPVe1UvWn",
        "outputId": "43406f7e-7c77-4873-b473-60d5ad15b56f"
      },
      "execution_count": null,
      "outputs": [
        {
          "output_type": "execute_result",
          "data": {
            "text/plain": [
              "'PYTHON'"
            ],
            "application/vnd.google.colaboratory.intrinsic+json": {
              "type": "string"
            }
          },
          "metadata": {},
          "execution_count": 351
        }
      ]
    },
    {
      "cell_type": "code",
      "source": [
        "nombre.capitalize() # capitalize transforma el primer elemento en mayuscula"
      ],
      "metadata": {
        "colab": {
          "base_uri": "https://localhost:8080/",
          "height": 35
        },
        "id": "lDLt45qLUx91",
        "outputId": "3480cdf9-cf87-4e15-ed06-c43d1ec81e15"
      },
      "execution_count": null,
      "outputs": [
        {
          "output_type": "execute_result",
          "data": {
            "text/plain": [
              "'Python'"
            ],
            "application/vnd.google.colaboratory.intrinsic+json": {
              "type": "string"
            }
          },
          "metadata": {},
          "execution_count": 352
        }
      ]
    },
    {
      "cell_type": "code",
      "source": [
        "nombre.lower() # Lower transforma la cadena en minuscula"
      ],
      "metadata": {
        "colab": {
          "base_uri": "https://localhost:8080/",
          "height": 35
        },
        "id": "-nZVOcw0U5-w",
        "outputId": "8d982d72-e429-4208-fdaa-2868da3ffd23"
      },
      "execution_count": null,
      "outputs": [
        {
          "output_type": "execute_result",
          "data": {
            "text/plain": [
              "'python'"
            ],
            "application/vnd.google.colaboratory.intrinsic+json": {
              "type": "string"
            }
          },
          "metadata": {},
          "execution_count": 353
        }
      ]
    },
    {
      "cell_type": "code",
      "source": [
        "nombre.title() # title"
      ],
      "metadata": {
        "colab": {
          "base_uri": "https://localhost:8080/",
          "height": 35
        },
        "id": "lQK3G9wIHoBb",
        "outputId": "02bbd356-a021-4a47-e10d-da33e4f748d3"
      },
      "execution_count": null,
      "outputs": [
        {
          "output_type": "execute_result",
          "data": {
            "text/plain": [
              "'Python'"
            ],
            "application/vnd.google.colaboratory.intrinsic+json": {
              "type": "string"
            }
          },
          "metadata": {},
          "execution_count": 354
        }
      ]
    },
    {
      "cell_type": "markdown",
      "source": [
        "### **<font color=\"DarkBlue\">Atributos de una tupla</font>**"
      ],
      "metadata": {
        "id": "6szKcEwqt2J1"
      }
    },
    {
      "cell_type": "code",
      "source": [
        "#tupla\n",
        "tupla = (1,2,3,4,5,1,2,3,5,6,'cielo',8j)"
      ],
      "metadata": {
        "id": "P2ivsYSiU9hX"
      },
      "execution_count": null,
      "outputs": []
    },
    {
      "cell_type": "code",
      "source": [
        "tupla"
      ],
      "metadata": {
        "colab": {
          "base_uri": "https://localhost:8080/"
        },
        "id": "g-nZJfXCU_Gh",
        "outputId": "31900e3c-ac01-4441-9365-d94b3c91be9d"
      },
      "execution_count": null,
      "outputs": [
        {
          "output_type": "execute_result",
          "data": {
            "text/plain": [
              "(1, 2, 3, 4, 5, 1, 2, 3, 5, 6, 'cielo', 8j)"
            ]
          },
          "metadata": {},
          "execution_count": 367
        }
      ]
    },
    {
      "cell_type": "code",
      "source": [
        "type(tupla)"
      ],
      "metadata": {
        "colab": {
          "base_uri": "https://localhost:8080/"
        },
        "id": "XTv-rumgVDqo",
        "outputId": "56cd20bb-4585-49ee-b404-ea03bd5b8187"
      },
      "execution_count": null,
      "outputs": [
        {
          "output_type": "execute_result",
          "data": {
            "text/plain": [
              "tuple"
            ]
          },
          "metadata": {},
          "execution_count": 368
        }
      ]
    },
    {
      "cell_type": "code",
      "source": [
        "tupla.count('cielo') # cuenta el número de veces que el objeto pasado como parámetro se ha encontrado en la tupla"
      ],
      "metadata": {
        "colab": {
          "base_uri": "https://localhost:8080/"
        },
        "id": "uheKV0NbVIfX",
        "outputId": "7935249e-daf0-4b2a-c26f-f5ed4b8d223b"
      },
      "execution_count": null,
      "outputs": [
        {
          "output_type": "execute_result",
          "data": {
            "text/plain": [
              "1"
            ]
          },
          "metadata": {},
          "execution_count": 369
        }
      ]
    },
    {
      "cell_type": "code",
      "source": [
        "tupla.index('cielo') # devuelve el indice del  elemento que se indica en la tupla"
      ],
      "metadata": {
        "colab": {
          "base_uri": "https://localhost:8080/"
        },
        "id": "Oiy_oXaCVNIB",
        "outputId": "f8799e96-f587-4715-ccf5-bf02b68b08f3"
      },
      "execution_count": null,
      "outputs": [
        {
          "output_type": "execute_result",
          "data": {
            "text/plain": [
              "10"
            ]
          },
          "metadata": {},
          "execution_count": 385
        }
      ]
    },
    {
      "cell_type": "markdown",
      "source": [
        "### **<font color=\"DarkBlue\">Tupla de string</font>**"
      ],
      "metadata": {
        "id": "M3L41aGbVhKE"
      }
    },
    {
      "cell_type": "code",
      "source": [
        "vocales = ('a','e','i','o','u')"
      ],
      "metadata": {
        "id": "Vpo0l6LEVl-s"
      },
      "execution_count": null,
      "outputs": []
    },
    {
      "cell_type": "code",
      "source": [
        "vocales"
      ],
      "metadata": {
        "colab": {
          "base_uri": "https://localhost:8080/"
        },
        "id": "9Zmkc-HQVogG",
        "outputId": "7ca6b234-bb2c-4038-950b-3e6f122040b7"
      },
      "execution_count": null,
      "outputs": [
        {
          "output_type": "execute_result",
          "data": {
            "text/plain": [
              "('a', 'e', 'i', 'o', 'u')"
            ]
          },
          "metadata": {},
          "execution_count": 387
        }
      ]
    },
    {
      "cell_type": "code",
      "source": [
        "type(vocales)"
      ],
      "metadata": {
        "colab": {
          "base_uri": "https://localhost:8080/"
        },
        "id": "nqST4UEVVqd0",
        "outputId": "f76e74d0-dfb9-445d-8bf2-15a76e71ee74"
      },
      "execution_count": null,
      "outputs": [
        {
          "output_type": "execute_result",
          "data": {
            "text/plain": [
              "tuple"
            ]
          },
          "metadata": {},
          "execution_count": 388
        }
      ]
    },
    {
      "cell_type": "code",
      "source": [
        "vocales.index('e') # indizar 'e' en la tupla"
      ],
      "metadata": {
        "colab": {
          "base_uri": "https://localhost:8080/"
        },
        "id": "OIK_C0LWVxlv",
        "outputId": "b782ba6c-6507-4001-f2da-42b6d5049fe9"
      },
      "execution_count": null,
      "outputs": [
        {
          "output_type": "execute_result",
          "data": {
            "text/plain": [
              "1"
            ]
          },
          "metadata": {},
          "execution_count": 389
        }
      ]
    },
    {
      "cell_type": "code",
      "source": [
        "\n",
        "indice = vocales.index('o') # indizar 'i' en la tupla"
      ],
      "metadata": {
        "id": "4aj1_R9iV7VY"
      },
      "execution_count": null,
      "outputs": []
    },
    {
      "cell_type": "code",
      "source": [
        "indice"
      ],
      "metadata": {
        "colab": {
          "base_uri": "https://localhost:8080/"
        },
        "id": "sylJVsxJV8bI",
        "outputId": "2edee1fb-e867-452d-caba-a339db930c64"
      },
      "execution_count": null,
      "outputs": [
        {
          "output_type": "execute_result",
          "data": {
            "text/plain": [
              "3"
            ]
          },
          "metadata": {},
          "execution_count": 391
        }
      ]
    },
    {
      "cell_type": "markdown",
      "source": [
        "### **<font color=\"DarkBlue\">Tratamiento de fechas</font>**"
      ],
      "metadata": {
        "id": "DWGCE2XUr-g4"
      }
    },
    {
      "cell_type": "code",
      "source": [
        "fecha = \"2024-7-29\""
      ],
      "metadata": {
        "id": "Mtt_H2J0qPZD"
      },
      "execution_count": null,
      "outputs": []
    },
    {
      "cell_type": "code",
      "source": [
        "fecha"
      ],
      "metadata": {
        "colab": {
          "base_uri": "https://localhost:8080/",
          "height": 35
        },
        "id": "zV4at6WeqYGb",
        "outputId": "41feeb64-15d4-454e-8f62-ce165965a3e8"
      },
      "execution_count": null,
      "outputs": [
        {
          "output_type": "execute_result",
          "data": {
            "text/plain": [
              "'2024-7-29'"
            ],
            "application/vnd.google.colaboratory.intrinsic+json": {
              "type": "string"
            }
          },
          "metadata": {},
          "execution_count": 393
        }
      ]
    },
    {
      "cell_type": "code",
      "source": [
        "type(fecha)"
      ],
      "metadata": {
        "colab": {
          "base_uri": "https://localhost:8080/"
        },
        "id": "U3bJqEemr1LX",
        "outputId": "d0d42d83-4b91-4a1e-8922-6da42830c845"
      },
      "execution_count": null,
      "outputs": [
        {
          "output_type": "execute_result",
          "data": {
            "text/plain": [
              "str"
            ]
          },
          "metadata": {},
          "execution_count": 394
        }
      ]
    },
    {
      "cell_type": "code",
      "source": [
        "import datetime # biblioteca para trabajar con fechas"
      ],
      "metadata": {
        "id": "66a7WRs9qri2"
      },
      "execution_count": null,
      "outputs": []
    },
    {
      "cell_type": "code",
      "source": [
        "fecha = \"2024-7-29\"\n",
        "fecha = datetime.datetime.strptime(fecha,\"%Y-%m-%d\")  # Use the correct format codes\n",
        "print(fecha)"
      ],
      "metadata": {
        "colab": {
          "base_uri": "https://localhost:8080/"
        },
        "id": "raqVaBZqqt39",
        "outputId": "06babec4-9743-4d53-83d0-d105c6aa4011"
      },
      "execution_count": null,
      "outputs": [
        {
          "output_type": "stream",
          "name": "stdout",
          "text": [
            "2024-07-29 00:00:00\n"
          ]
        }
      ]
    },
    {
      "cell_type": "code",
      "source": [
        "type (fecha)"
      ],
      "metadata": {
        "colab": {
          "base_uri": "https://localhost:8080/"
        },
        "id": "Gwp8chqKqaWL",
        "outputId": "ce561232-cff9-404b-c3de-0edbbb6e86bd"
      },
      "execution_count": null,
      "outputs": [
        {
          "output_type": "execute_result",
          "data": {
            "text/plain": [
              "datetime.datetime"
            ]
          },
          "metadata": {},
          "execution_count": 398
        }
      ]
    },
    {
      "cell_type": "markdown",
      "source": [
        "### **<font color=\"DarkBlue\">Ejercitacion</font>**"
      ],
      "metadata": {
        "id": "0FtPoQ8mUjzz"
      }
    },
    {
      "cell_type": "code",
      "source": [
        "x = 10  # Enteros\n",
        "y = 3.14  # Decimales\n",
        "nombre = \"Juan\"  # Cadena de caracteres\n",
        "es_mayor = True  # Booleanos"
      ],
      "metadata": {
        "id": "FCMEynK2Bxmu"
      },
      "execution_count": null,
      "outputs": []
    },
    {
      "cell_type": "code",
      "source": [
        "x ### variable numerica entera"
      ],
      "metadata": {
        "id": "m8DTK9qPB2MO",
        "colab": {
          "base_uri": "https://localhost:8080/"
        },
        "outputId": "48a493ca-88da-4fb6-9cbf-49dbb2faa90e"
      },
      "execution_count": null,
      "outputs": [
        {
          "output_type": "execute_result",
          "data": {
            "text/plain": [
              "10"
            ]
          },
          "metadata": {},
          "execution_count": 400
        }
      ]
    },
    {
      "cell_type": "code",
      "source": [
        "y ## variable numerica float"
      ],
      "metadata": {
        "id": "E9A540m_B3uR",
        "colab": {
          "base_uri": "https://localhost:8080/"
        },
        "outputId": "ca5f721c-17fe-456f-bbf7-967e946cbec3"
      },
      "execution_count": null,
      "outputs": [
        {
          "output_type": "execute_result",
          "data": {
            "text/plain": [
              "3.14"
            ]
          },
          "metadata": {},
          "execution_count": 401
        }
      ]
    },
    {
      "cell_type": "code",
      "source": [
        "nombre # variable string"
      ],
      "metadata": {
        "id": "kHBUHlXCB5Ie",
        "colab": {
          "base_uri": "https://localhost:8080/",
          "height": 35
        },
        "outputId": "8f74c62f-d9b4-4111-cdf0-64ea080662f4"
      },
      "execution_count": null,
      "outputs": [
        {
          "output_type": "execute_result",
          "data": {
            "text/plain": [
              "'Juan'"
            ],
            "application/vnd.google.colaboratory.intrinsic+json": {
              "type": "string"
            }
          },
          "metadata": {},
          "execution_count": 402
        }
      ]
    },
    {
      "cell_type": "code",
      "source": [
        "es_mayor # variable booleana"
      ],
      "metadata": {
        "id": "eMiZQr0QB60Z",
        "colab": {
          "base_uri": "https://localhost:8080/"
        },
        "outputId": "f0884271-4117-4ac0-803a-928bbb7c988e"
      },
      "execution_count": null,
      "outputs": [
        {
          "output_type": "execute_result",
          "data": {
            "text/plain": [
              "True"
            ]
          },
          "metadata": {},
          "execution_count": 403
        }
      ]
    },
    {
      "cell_type": "code",
      "source": [
        "5 +'5'"
      ],
      "metadata": {
        "id": "cQXIR1DbYMLL",
        "colab": {
          "base_uri": "https://localhost:8080/",
          "height": 144
        },
        "outputId": "514c25b0-e9f2-497f-d9eb-32ef9c7ccb90"
      },
      "execution_count": null,
      "outputs": [
        {
          "output_type": "error",
          "ename": "TypeError",
          "evalue": "unsupported operand type(s) for +: 'int' and 'str'",
          "traceback": [
            "\u001b[0;31m---------------------------------------------------------------------------\u001b[0m",
            "\u001b[0;31mTypeError\u001b[0m                                 Traceback (most recent call last)",
            "\u001b[0;32m<ipython-input-404-38347e4cb4f5>\u001b[0m in \u001b[0;36m<cell line: 1>\u001b[0;34m()\u001b[0m\n\u001b[0;32m----> 1\u001b[0;31m \u001b[0;36m5\u001b[0m \u001b[0;34m+\u001b[0m\u001b[0;34m'5'\u001b[0m\u001b[0;34m\u001b[0m\u001b[0;34m\u001b[0m\u001b[0m\n\u001b[0m",
            "\u001b[0;31mTypeError\u001b[0m: unsupported operand type(s) for +: 'int' and 'str'"
          ]
        }
      ]
    },
    {
      "cell_type": "code",
      "source": [
        "suma = \"5\" + \"5\""
      ],
      "metadata": {
        "id": "mefifMBFtJGR"
      },
      "execution_count": null,
      "outputs": []
    },
    {
      "cell_type": "code",
      "source": [
        "suma"
      ],
      "metadata": {
        "colab": {
          "base_uri": "https://localhost:8080/",
          "height": 35
        },
        "id": "OQiBra9ztNkP",
        "outputId": "1d717b04-12f2-447b-87bc-2845352c152c"
      },
      "execution_count": null,
      "outputs": [
        {
          "output_type": "execute_result",
          "data": {
            "text/plain": [
              "'55'"
            ],
            "application/vnd.google.colaboratory.intrinsic+json": {
              "type": "string"
            }
          },
          "metadata": {},
          "execution_count": 406
        }
      ]
    },
    {
      "cell_type": "code",
      "source": [
        "type (suma)"
      ],
      "metadata": {
        "colab": {
          "base_uri": "https://localhost:8080/"
        },
        "id": "L-ic0Of_tO2o",
        "outputId": "30daff7e-cf8e-4697-f1f5-eaa487c81ba2"
      },
      "execution_count": null,
      "outputs": [
        {
          "output_type": "execute_result",
          "data": {
            "text/plain": [
              "str"
            ]
          },
          "metadata": {},
          "execution_count": 407
        }
      ]
    },
    {
      "cell_type": "markdown",
      "source": [
        "### **<font color=\"DarkBlue\">Instancia de verificacion de un objeto-isinstance</font>**"
      ],
      "metadata": {
        "id": "uAxC76MCYYQm"
      }
    },
    {
      "cell_type": "code",
      "source": [
        "y"
      ],
      "metadata": {
        "id": "OW33uvuLYmc3",
        "colab": {
          "base_uri": "https://localhost:8080/"
        },
        "outputId": "f98066a3-d7bc-4016-f7ab-0bc299846498"
      },
      "execution_count": null,
      "outputs": [
        {
          "output_type": "execute_result",
          "data": {
            "text/plain": [
              "3.14"
            ]
          },
          "metadata": {},
          "execution_count": 272
        }
      ]
    },
    {
      "cell_type": "code",
      "source": [
        "isinstance(y, int)"
      ],
      "metadata": {
        "id": "F9u0vUOTYe9n",
        "colab": {
          "base_uri": "https://localhost:8080/"
        },
        "outputId": "2d6ac1dc-bd4e-4fb8-90fc-0ca38ab95f80"
      },
      "execution_count": null,
      "outputs": [
        {
          "output_type": "execute_result",
          "data": {
            "text/plain": [
              "False"
            ]
          },
          "metadata": {},
          "execution_count": 273
        }
      ]
    },
    {
      "cell_type": "code",
      "source": [
        "type(y)"
      ],
      "metadata": {
        "colab": {
          "base_uri": "https://localhost:8080/"
        },
        "id": "7ANJO7wdcHWC",
        "outputId": "718c3561-13fb-4fbc-d32c-d6010203ebd8"
      },
      "execution_count": null,
      "outputs": [
        {
          "output_type": "execute_result",
          "data": {
            "text/plain": [
              "float"
            ]
          },
          "metadata": {},
          "execution_count": 274
        }
      ]
    },
    {
      "cell_type": "markdown",
      "source": [
        "### **<font color=\"DarkBlue\">Tipos de datos básicos</font>**"
      ],
      "metadata": {
        "id": "v8abc96k3sr9"
      }
    },
    {
      "cell_type": "markdown",
      "source": [
        "<p align=\"justify\">\n",
        "En Python los tipos de datos básicos se dividen en:</p>\n",
        "\n",
        "- Numéricos, como pueden ser:\n",
        "   - enteros\n",
        "   - decimales\n",
        "- Cadenas de caracteres\n",
        "- Booleanos"
      ],
      "metadata": {
        "id": "mI4wSKB7XZvA"
      }
    },
    {
      "cell_type": "markdown",
      "source": [
        "#### **<font color=\"DarkBlue\">Numéricos</font>**"
      ],
      "metadata": {
        "id": "8d84UNXMLeVr"
      }
    },
    {
      "cell_type": "markdown",
      "source": [
        "<p align=\"justify\">\n",
        "En Python se pueden representar números enteros y decimales.\n",
        "<br><br>\n",
        "Los números enteros son aquellos números positivos o negativos que no tienen decimales (además del cero). En Python se pueden representar mediante el tipo de dato <code>int</code> (de integer, entero).\n",
        "<br><br>\n",
        "También tenemos los números decimales. En Python se expresan mediante el tipo de dato<code>float</code>.\n",
        "</p>\n"
      ],
      "metadata": {
        "id": "s73nHEN417kx"
      }
    },
    {
      "cell_type": "markdown",
      "source": [
        "#### **<font color=\"DarkBlue\">Categóricos</font>**"
      ],
      "metadata": {
        "id": "7k7GRoTN1dlo"
      }
    },
    {
      "cell_type": "markdown",
      "source": [
        "<p align=\"justify\">\n",
        "Los datos categóricos o cadenas no son más que texto encerrado entre comillas simples (‘cadena’) o dobles (“cadena”). Dentro de las comillas se pueden añadir caracteres especiales con <code>\\</code>, como <code>\\n</code>, lo que implica una nueva línea, o <code>\\t</code>, que sería una tabulación.\n",
        "</p>\n"
      ],
      "metadata": {
        "id": "_XS-nB9yndvM"
      }
    },
    {
      "cell_type": "markdown",
      "source": [
        "#### **<font color=\"DarkBlue\">Booleanos</font>**"
      ],
      "metadata": {
        "id": "z9nwWrgxpBb_"
      }
    },
    {
      "cell_type": "markdown",
      "source": [
        "<p align=\"justify\">\n",
        "Una variable de tipo booleano sólo puede tener dos valores: <code>True</code> (cierto) y <code>False</code> (falso). Estos valores son importantes para las expresiones condicionales y los bucles. En realidad el tipo de dato <code>bool</code> (el tipo de los booleanos) es una subclase del tipo de dato <code>int</code>.\n",
        "</p>\n"
      ],
      "metadata": {
        "id": "WOGi6wqZpFWy"
      }
    },
    {
      "cell_type": "code",
      "source": [
        "d = [1,2,3]"
      ],
      "metadata": {
        "id": "HzLrqvmpchnV"
      },
      "execution_count": null,
      "outputs": []
    },
    {
      "cell_type": "code",
      "source": [
        "type(d)"
      ],
      "metadata": {
        "colab": {
          "base_uri": "https://localhost:8080/"
        },
        "id": "NLkU5AglcoSG",
        "outputId": "4154b024-912c-4e6f-d1db-d9931c9afe40"
      },
      "execution_count": null,
      "outputs": [
        {
          "output_type": "execute_result",
          "data": {
            "text/plain": [
              "list"
            ]
          },
          "metadata": {},
          "execution_count": 64
        }
      ]
    },
    {
      "cell_type": "code",
      "source": [
        "e = [4,5,6]"
      ],
      "metadata": {
        "id": "JGQNDL1ecj5l"
      },
      "execution_count": null,
      "outputs": []
    },
    {
      "cell_type": "code",
      "source": [
        "type(e)"
      ],
      "metadata": {
        "colab": {
          "base_uri": "https://localhost:8080/"
        },
        "id": "LZfaTJqTcqOQ",
        "outputId": "43637f26-a3dd-4b49-818e-9b03061081df"
      },
      "execution_count": null,
      "outputs": [
        {
          "output_type": "execute_result",
          "data": {
            "text/plain": [
              "list"
            ]
          },
          "metadata": {},
          "execution_count": 67
        }
      ]
    },
    {
      "cell_type": "code",
      "source": [
        "d==e"
      ],
      "metadata": {
        "colab": {
          "base_uri": "https://localhost:8080/"
        },
        "id": "VSU8_otjc2NA",
        "outputId": "a0fe59a5-fa27-42d5-a86e-a0fc9b4b6863"
      },
      "execution_count": null,
      "outputs": [
        {
          "output_type": "execute_result",
          "data": {
            "text/plain": [
              "False"
            ]
          },
          "metadata": {},
          "execution_count": 70
        }
      ]
    },
    {
      "cell_type": "code",
      "source": [
        "d!=e"
      ],
      "metadata": {
        "colab": {
          "base_uri": "https://localhost:8080/"
        },
        "id": "1GPs4vVscmHP",
        "outputId": "2526a416-7648-49cb-c3a5-3ed60226c5f5"
      },
      "execution_count": null,
      "outputs": [
        {
          "output_type": "execute_result",
          "data": {
            "text/plain": [
              "True"
            ]
          },
          "metadata": {},
          "execution_count": 69
        }
      ]
    },
    {
      "cell_type": "markdown",
      "source": [
        "## **<font color=\"DarkBlue\">Operadores aritméticos</font>**"
      ],
      "metadata": {
        "id": "lvEjTnlW1ka5"
      }
    },
    {
      "cell_type": "markdown",
      "source": [
        "<p align=\"justify\">\n",
        "Python soporta varios tipos de operadores que permiten realizar operaciones aritméticas, comparaciones, y operaciones lógicas"
      ],
      "metadata": {
        "id": "cVY7r_RhDOXU"
      }
    },
    {
      "cell_type": "markdown",
      "source": [
        "\n",
        "- Suma: `+`\n",
        "- Resta: `-`\n",
        "- Multiplicación: `*`\n",
        "- División: `/`\n",
        "- División entera: `//`\n",
        "- Módulo: `%`\n",
        "- Exponenciación: `**`"
      ],
      "metadata": {
        "id": "9hdzj1I8Da4f"
      }
    },
    {
      "cell_type": "code",
      "source": [
        "a = 5\n",
        "b = 2"
      ],
      "metadata": {
        "id": "LzuW7p8oDbTj"
      },
      "execution_count": null,
      "outputs": []
    },
    {
      "cell_type": "code",
      "source": [
        "a + b  # 7"
      ],
      "metadata": {
        "id": "HWH10QSuD5DU",
        "colab": {
          "base_uri": "https://localhost:8080/"
        },
        "outputId": "44ac7cd7-374d-4df5-a713-463f0d6bb782"
      },
      "execution_count": null,
      "outputs": [
        {
          "output_type": "execute_result",
          "data": {
            "text/plain": [
              "7"
            ]
          },
          "metadata": {},
          "execution_count": 72
        }
      ]
    },
    {
      "cell_type": "code",
      "source": [
        "a - b  # 3"
      ],
      "metadata": {
        "id": "-E8ef6OcD_ja",
        "colab": {
          "base_uri": "https://localhost:8080/"
        },
        "outputId": "30cdb6d9-994b-4547-e675-2abda4410c9d"
      },
      "execution_count": null,
      "outputs": [
        {
          "output_type": "execute_result",
          "data": {
            "text/plain": [
              "3"
            ]
          },
          "metadata": {},
          "execution_count": 73
        }
      ]
    },
    {
      "cell_type": "code",
      "source": [
        "a * b  # 10"
      ],
      "metadata": {
        "id": "lL8xIJgcEBid",
        "colab": {
          "base_uri": "https://localhost:8080/"
        },
        "outputId": "3ec8c789-ad73-4297-c8c4-57deb4e3b336"
      },
      "execution_count": null,
      "outputs": [
        {
          "output_type": "execute_result",
          "data": {
            "text/plain": [
              "10"
            ]
          },
          "metadata": {},
          "execution_count": 74
        }
      ]
    },
    {
      "cell_type": "code",
      "source": [
        "a / b  # 2.5"
      ],
      "metadata": {
        "id": "GvDUINq1EDV1",
        "colab": {
          "base_uri": "https://localhost:8080/"
        },
        "outputId": "1fe2a782-c1fc-4173-e1d4-f947e7583dff"
      },
      "execution_count": null,
      "outputs": [
        {
          "output_type": "execute_result",
          "data": {
            "text/plain": [
              "2.5"
            ]
          },
          "metadata": {},
          "execution_count": 75
        }
      ]
    },
    {
      "cell_type": "code",
      "source": [
        "a // b  # 2"
      ],
      "metadata": {
        "id": "yKXOeo4JEFQs",
        "colab": {
          "base_uri": "https://localhost:8080/"
        },
        "outputId": "0c79f26a-84e4-40c1-a43f-c6038cb9ae62"
      },
      "execution_count": null,
      "outputs": [
        {
          "output_type": "execute_result",
          "data": {
            "text/plain": [
              "2"
            ]
          },
          "metadata": {},
          "execution_count": 76
        }
      ]
    },
    {
      "cell_type": "code",
      "source": [
        "a % b  # 1 El operador del módulo, nos entrega el residuo de una división."
      ],
      "metadata": {
        "id": "xVsVa09LEG7A",
        "colab": {
          "base_uri": "https://localhost:8080/"
        },
        "outputId": "21b29ffa-74ee-401e-ad19-82e3a6d52b6a"
      },
      "execution_count": null,
      "outputs": [
        {
          "output_type": "execute_result",
          "data": {
            "text/plain": [
              "1"
            ]
          },
          "metadata": {},
          "execution_count": 77
        }
      ]
    },
    {
      "cell_type": "code",
      "source": [
        "a ** b  # 25"
      ],
      "metadata": {
        "id": "rWDdS6cEEIdG",
        "colab": {
          "base_uri": "https://localhost:8080/"
        },
        "outputId": "a926f66d-0a9f-4eb0-cdae-e0ef7020fd9f"
      },
      "execution_count": null,
      "outputs": [
        {
          "output_type": "execute_result",
          "data": {
            "text/plain": [
              "25"
            ]
          },
          "metadata": {},
          "execution_count": 78
        }
      ]
    },
    {
      "cell_type": "markdown",
      "source": [
        "## **<font color=\"DarkBlue\">Operadores de comparación</font>**"
      ],
      "metadata": {
        "id": "Tj-1ClhmEit3"
      }
    },
    {
      "cell_type": "markdown",
      "source": [
        "- Igual a: `==`\n",
        "- Diferente de: `!=`\n",
        "- Mayor que: `>`\n",
        "- Menor que: `<`\n",
        "- Mayor o igual que: `>=`\n",
        "- Menor o igual que: `<=`"
      ],
      "metadata": {
        "id": "mvIfdRaHEnfv"
      }
    },
    {
      "cell_type": "code",
      "source": [
        "a = 5\n",
        "b = 3"
      ],
      "metadata": {
        "id": "hpVgAdL_E6J2"
      },
      "execution_count": null,
      "outputs": []
    },
    {
      "cell_type": "code",
      "source": [
        "print(a == b)  # False"
      ],
      "metadata": {
        "id": "SENWwTyMFEPK",
        "colab": {
          "base_uri": "https://localhost:8080/"
        },
        "outputId": "da7d1c81-e70b-4f4a-bc82-b65ea7de36e5"
      },
      "execution_count": null,
      "outputs": [
        {
          "output_type": "stream",
          "name": "stdout",
          "text": [
            "False\n"
          ]
        }
      ]
    },
    {
      "cell_type": "code",
      "source": [
        "print(a != b)  # True"
      ],
      "metadata": {
        "id": "CwFnd90oFGGa",
        "colab": {
          "base_uri": "https://localhost:8080/"
        },
        "outputId": "f9661650-0ac6-4cde-da98-d93b7af08abd"
      },
      "execution_count": null,
      "outputs": [
        {
          "output_type": "stream",
          "name": "stdout",
          "text": [
            "True\n"
          ]
        }
      ]
    },
    {
      "cell_type": "code",
      "source": [
        "print(a > b)  # True"
      ],
      "metadata": {
        "id": "49hC-g1IFHv2",
        "colab": {
          "base_uri": "https://localhost:8080/"
        },
        "outputId": "b55ad8f0-730d-4254-ad5b-46ea20fbac24"
      },
      "execution_count": null,
      "outputs": [
        {
          "output_type": "stream",
          "name": "stdout",
          "text": [
            "True\n"
          ]
        }
      ]
    },
    {
      "cell_type": "code",
      "source": [
        "print(a < b)  # False"
      ],
      "metadata": {
        "id": "vGqe0R97FJpW",
        "colab": {
          "base_uri": "https://localhost:8080/"
        },
        "outputId": "2277adc8-acc9-4bf4-ac4f-ba454f2c0f79"
      },
      "execution_count": null,
      "outputs": [
        {
          "output_type": "stream",
          "name": "stdout",
          "text": [
            "False\n"
          ]
        }
      ]
    },
    {
      "cell_type": "code",
      "source": [
        "print(a >= b)  # True"
      ],
      "metadata": {
        "id": "eGQ9ZZByFLhr",
        "colab": {
          "base_uri": "https://localhost:8080/"
        },
        "outputId": "4b78be57-6868-461d-8000-893f3922e4e7"
      },
      "execution_count": null,
      "outputs": [
        {
          "output_type": "stream",
          "name": "stdout",
          "text": [
            "True\n"
          ]
        }
      ]
    },
    {
      "cell_type": "code",
      "source": [
        "print(a <= b)  # False"
      ],
      "metadata": {
        "id": "PAL0mbt9FM3n",
        "colab": {
          "base_uri": "https://localhost:8080/"
        },
        "outputId": "a4f2c4c1-907c-4fd3-9420-31c024b90ba7"
      },
      "execution_count": null,
      "outputs": [
        {
          "output_type": "stream",
          "name": "stdout",
          "text": [
            "False\n"
          ]
        }
      ]
    },
    {
      "cell_type": "markdown",
      "source": [
        "## **<font color=\"DarkBlue\">Operadores lógicos</font>**"
      ],
      "metadata": {
        "id": "6oGvhUWSFUcV"
      }
    },
    {
      "cell_type": "markdown",
      "source": [
        "- `and`: Verdadero si ambas expresiones son verdaderas.\n",
        "- `or`: Verdadero si al menos una expresión es verdadera.\n",
        "- `not`: Invierte el valor lógico de la expresión."
      ],
      "metadata": {
        "id": "tIByBjJdFaqH"
      }
    },
    {
      "cell_type": "code",
      "source": [
        "a = True\n",
        "b = False"
      ],
      "metadata": {
        "id": "NUoqI4aAFws0"
      },
      "execution_count": null,
      "outputs": []
    },
    {
      "cell_type": "code",
      "source": [
        "print(a and b)  # False"
      ],
      "metadata": {
        "id": "fA5_6PGhFy4y",
        "colab": {
          "base_uri": "https://localhost:8080/"
        },
        "outputId": "3eb37842-ece5-4bf8-f282-2c072ac61931"
      },
      "execution_count": null,
      "outputs": [
        {
          "output_type": "stream",
          "name": "stdout",
          "text": [
            "False\n"
          ]
        }
      ]
    },
    {
      "cell_type": "code",
      "source": [
        "print(a or b)  # True"
      ],
      "metadata": {
        "id": "eb_hpZB6F0b0",
        "colab": {
          "base_uri": "https://localhost:8080/"
        },
        "outputId": "a482589d-e49a-4b7a-e366-dfe796c0cf39"
      },
      "execution_count": null,
      "outputs": [
        {
          "output_type": "stream",
          "name": "stdout",
          "text": [
            "True\n"
          ]
        }
      ]
    },
    {
      "cell_type": "code",
      "source": [
        "print(not a)  # False"
      ],
      "metadata": {
        "id": "KsX_MOIKF2ER",
        "colab": {
          "base_uri": "https://localhost:8080/"
        },
        "outputId": "afdaed49-3459-4eb1-8cde-25f5f8f94d47"
      },
      "execution_count": null,
      "outputs": [
        {
          "output_type": "stream",
          "name": "stdout",
          "text": [
            "False\n"
          ]
        }
      ]
    },
    {
      "cell_type": "markdown",
      "source": [
        "## **<font color=\"DarkBlue\">Estructuras de control</font>**"
      ],
      "metadata": {
        "id": "uHim-Cf1vJfO"
      }
    },
    {
      "cell_type": "markdown",
      "source": [
        "<p align=\"justify\">\n",
        "Un programa medianamente útil necesita reaccionar ante cambios en su \"entorno\", de modo que se\n",
        "ejecuten distintas secciones del código en distintas circunstancias. Para ello existen las estructuras\n",
        "condicionales que se encargan de comparar valores (ya sean de variables, constantes, arrays...) y, en función del resultado de esa comparación, ejecutar o no un determinado bloque de código. <br><br>👀 Un bucle es un segmento de código que se ejecuta repetidas veces mientras se cumpla una condición determinada.\n",
        "\n",
        "</p>"
      ],
      "metadata": {
        "id": "Dw47Qi8QxNKm"
      }
    },
    {
      "cell_type": "markdown",
      "source": [
        "## **<font color=\"DarkBlue\">Teorema de la programación estructurada</font>**"
      ],
      "metadata": {
        "id": "-gVMNymkyS3j"
      }
    },
    {
      "cell_type": "markdown",
      "source": [
        "<p align=\"justify\">\n",
        "El teorema de la programación estructurada afirma (y demuestra) que toda función computable\n",
        "puede codificarse usando sólo combinaciones de tres tipos de estructuras básicas de control:\n",
        "</p><br>\n",
        "\n",
        "- Secuencia,\n",
        "- Condicional,\n",
        "- Bucle\n",
        "\n"
      ],
      "metadata": {
        "id": "zEoBgYBTyhmR"
      }
    },
    {
      "cell_type": "markdown",
      "source": [
        "### **<font color=\"DarkBlue\">Secuencia</font>**"
      ],
      "metadata": {
        "id": "JuSTMA50hwdQ"
      }
    },
    {
      "cell_type": "markdown",
      "source": [
        "<p align=\"justify\">\n",
        "La secuencia ejecuta una orden y despues otra. Viene a ser el flujo \"natural\" de un programa, tal como hemos hecho en un cuaderno notebook, ejecutamos las celdas de código en secuencia.</p>\n"
      ],
      "metadata": {
        "id": "4_21CsNXh0PY"
      }
    },
    {
      "cell_type": "markdown",
      "source": [
        "### **<font color=\"DarkBlue\">Condicional</font>**"
      ],
      "metadata": {
        "id": "Sq7v2TmTiNy_"
      }
    },
    {
      "cell_type": "markdown",
      "source": [
        "\n",
        "<p align=\"justify\">\n",
        "El condicional ejecuta una de dos instrucciones, dependiendo de un valor verdadero o falso. Naturalmente, el condicional puede combinarse para multiplicar diversas opciones, y unirse a la secuencia para elegir bloques completos de código."
      ],
      "metadata": {
        "id": "kmzg_wKYiAS9"
      }
    },
    {
      "cell_type": "markdown",
      "source": [
        "### **<font color=\"DarkBlue\">Bucle</font>**"
      ],
      "metadata": {
        "id": "_oXhjsuIiQiA"
      }
    },
    {
      "cell_type": "markdown",
      "source": [
        "<p align=\"justify\">\n",
        "El bucle ejecuta una instrucción mientras una condición sea cierta, o (lo que viene a ser lo mismo) ejecuta una instrucción hasta que deja de serlo.\n",
        "\n"
      ],
      "metadata": {
        "id": "h2xFzHutiFBW"
      }
    },
    {
      "cell_type": "markdown",
      "source": [
        "## **<font color=\"DarkBlue\">Anidamiento</font>**"
      ],
      "metadata": {
        "id": "k1VvU1sT0pXk"
      }
    },
    {
      "cell_type": "markdown",
      "source": [
        "<p align=\"justify\">\n",
        "Las instrucciones pueden \"anidarse\". Es decir, pueden incluirse unas dentro de otras para hacer dependiente su ejecución. En Python, el anidamiento de instrucciones no se hace con llaves ni otros símbolos contenedores, si\n",
        "no por medio de la indentación. las instrucciones con un nivel de indentación estań contenidas en ese nivel de identación.<br><br> La identación es una cantidad de espacios. Lo recomendable, según Guido van Rossum, son cuatro espacios por cada nivel de indentación.<br><br> 👀 Google Colab hace la identación automáticamente.\n",
        "\n",
        "</p>"
      ],
      "metadata": {
        "id": "b_U2kMgU1MWu"
      }
    },
    {
      "cell_type": "markdown",
      "source": [
        "## **<font color=\"DarkBlue\">Verdadero o Falso</font>**"
      ],
      "metadata": {
        "id": "FN7JCLos2fgD"
      }
    },
    {
      "cell_type": "markdown",
      "source": [
        "<p align=\"justify\">\n",
        "Los valores booleanos en Python se escriben como <code>True</code> y <code>False</code>.\n",
        "</p>"
      ],
      "metadata": {
        "id": "I_00aPk8hDtA"
      }
    },
    {
      "cell_type": "code",
      "source": [
        "True and True # declaracion booleana"
      ],
      "metadata": {
        "id": "ldl5js6nNlcS",
        "colab": {
          "base_uri": "https://localhost:8080/"
        },
        "outputId": "8665f333-4a0a-4ff0-af1b-b2ef60dfd680"
      },
      "execution_count": null,
      "outputs": [
        {
          "output_type": "execute_result",
          "data": {
            "text/plain": [
              "True"
            ]
          },
          "metadata": {},
          "execution_count": 275
        }
      ]
    },
    {
      "cell_type": "code",
      "source": [
        "True or False # declaracion booleana"
      ],
      "metadata": {
        "id": "n4aDr9mZhPBE",
        "colab": {
          "base_uri": "https://localhost:8080/"
        },
        "outputId": "64e8f7be-1f1d-4d9d-8815-e3f92ff14c78"
      },
      "execution_count": null,
      "outputs": [
        {
          "output_type": "execute_result",
          "data": {
            "text/plain": [
              "True"
            ]
          },
          "metadata": {},
          "execution_count": 276
        }
      ]
    },
    {
      "cell_type": "code",
      "source": [
        "a = True # variables booleanas\n",
        "b = False"
      ],
      "metadata": {
        "id": "cw4g0HsrNlY7"
      },
      "execution_count": null,
      "outputs": []
    },
    {
      "cell_type": "code",
      "source": [
        "not a"
      ],
      "metadata": {
        "id": "r-wDUzBjhaJA",
        "colab": {
          "base_uri": "https://localhost:8080/"
        },
        "outputId": "f1c881fb-5a51-44ff-cf25-7d673e2aba44"
      },
      "execution_count": null,
      "outputs": [
        {
          "output_type": "execute_result",
          "data": {
            "text/plain": [
              "False"
            ]
          },
          "metadata": {},
          "execution_count": 95
        }
      ]
    },
    {
      "cell_type": "code",
      "source": [
        "not b"
      ],
      "metadata": {
        "id": "dacZ4ip0hmHF",
        "colab": {
          "base_uri": "https://localhost:8080/"
        },
        "outputId": "9d93e75b-8776-4842-b719-23aefdf4838b"
      },
      "execution_count": null,
      "outputs": [
        {
          "output_type": "execute_result",
          "data": {
            "text/plain": [
              "True"
            ]
          },
          "metadata": {},
          "execution_count": 96
        }
      ]
    },
    {
      "cell_type": "markdown",
      "source": [
        "<p align=\"justify\">\n",
        "👀 <code>None</code> es el tipo de valor nulo de Python.\n",
        "</p>"
      ],
      "metadata": {
        "id": "9E8I3ElKiUYn"
      }
    },
    {
      "cell_type": "code",
      "source": [
        "c = None"
      ],
      "metadata": {
        "id": "pUvAOjeANlWG"
      },
      "execution_count": null,
      "outputs": []
    },
    {
      "cell_type": "code",
      "source": [
        "c is None"
      ],
      "metadata": {
        "id": "iZYOXCknNlHy",
        "colab": {
          "base_uri": "https://localhost:8080/"
        },
        "outputId": "5cf1ce65-ab70-46b1-9a1f-027b3e325472"
      },
      "execution_count": null,
      "outputs": [
        {
          "output_type": "execute_result",
          "data": {
            "text/plain": [
              "True"
            ]
          },
          "metadata": {},
          "execution_count": 98
        }
      ]
    },
    {
      "cell_type": "code",
      "source": [
        "d = 5"
      ],
      "metadata": {
        "id": "10DCHsdIgZgf"
      },
      "execution_count": null,
      "outputs": []
    },
    {
      "cell_type": "code",
      "source": [
        "d is None"
      ],
      "metadata": {
        "id": "8jJ7NV22gdQQ",
        "colab": {
          "base_uri": "https://localhost:8080/"
        },
        "outputId": "836a21ad-e22b-4519-849a-474beaa28ddc"
      },
      "execution_count": null,
      "outputs": [
        {
          "output_type": "execute_result",
          "data": {
            "text/plain": [
              "False"
            ]
          },
          "metadata": {},
          "execution_count": 100
        }
      ]
    },
    {
      "cell_type": "markdown",
      "source": [
        "## **<font color=\"DarkBlue\">Condicionales  <code>if</code>, <code>elif</code> y <code>else</code></font>**"
      ],
      "metadata": {
        "id": "oIwwLeyp2jxO"
      }
    },
    {
      "cell_type": "markdown",
      "source": [
        "<p align=\"justify\">\n",
        "Python tiene varias palabras clave integradas para lógica condicional, bucles y otros conceptos de flujo de control estándar que se encuentran en otros lenguajes de programación. Uno de los mas conocidos es <code>if</code>, <code>elif</code> y <code>else</code>\n",
        "\n",
        "</p>"
      ],
      "metadata": {
        "id": "BWji0MFYH18r"
      }
    },
    {
      "cell_type": "code",
      "source": [
        "x = -5\n",
        "if x < 0:\n",
        "  print(\"El valor es negativo\")"
      ],
      "metadata": {
        "id": "mRH0SqFZ2i8O",
        "colab": {
          "base_uri": "https://localhost:8080/"
        },
        "outputId": "ea21a137-9113-474c-dba8-878ffe90cce2"
      },
      "execution_count": null,
      "outputs": [
        {
          "output_type": "stream",
          "name": "stdout",
          "text": [
            "El valor es negativo\n"
          ]
        }
      ]
    },
    {
      "cell_type": "markdown",
      "source": [
        "<p align=\"justify\">\n",
        "👀 Una instrucción puede ir seguida opcionalmente de uno o más bloques...</p>"
      ],
      "metadata": {
        "id": "wW5w_DFvJKHb"
      }
    },
    {
      "cell_type": "markdown",
      "source": [
        "### **<font color=\"DarkBlue\"><code>if</code></font>**"
      ],
      "metadata": {
        "id": "fBg5Cu0HJsiY"
      }
    },
    {
      "cell_type": "markdown",
      "source": [
        "<p align=\"justify\">Para una sola condición, se usa la estructura de control <code>if</code></p>.\n",
        "\n",
        "~~~python\n",
        "if condicion_1:\n",
        "     sentencia_1\n",
        "~~~"
      ],
      "metadata": {
        "id": "jeBJ37dbJ9Ct"
      }
    },
    {
      "cell_type": "code",
      "source": [
        "positivo = int(input(\"Escriba un número positivo: \"))"
      ],
      "metadata": {
        "id": "INR1Q9UL2i41",
        "colab": {
          "base_uri": "https://localhost:8080/"
        },
        "outputId": "932ba813-a4a6-4510-c296-cbca44be71c1"
      },
      "execution_count": null,
      "outputs": [
        {
          "name": "stdout",
          "output_type": "stream",
          "text": [
            "Escriba un número positivo: 12\n"
          ]
        }
      ]
    },
    {
      "cell_type": "code",
      "source": [
        "if positivo < 0:\n",
        "  print(\"No es un número positivo!\")\n",
        "print(f\"El número {positivo} es un número positivo\")"
      ],
      "metadata": {
        "id": "g0OMzT2_KUAa",
        "colab": {
          "base_uri": "https://localhost:8080/"
        },
        "outputId": "27e95f61-c829-4a0e-b3d1-c09cb1ee7dc7"
      },
      "execution_count": null,
      "outputs": [
        {
          "output_type": "stream",
          "name": "stdout",
          "text": [
            "El número 12 es un número positivo\n"
          ]
        }
      ]
    },
    {
      "cell_type": "markdown",
      "source": [
        "### **<font color=\"DarkBlue\"><code>if</code> <code>else</code></font>**"
      ],
      "metadata": {
        "id": "d2AKmii8K7ph"
      }
    },
    {
      "cell_type": "markdown",
      "source": [
        "<p align=\"justify\">Para dos condiciones, se usa la estructura de control <code>if</code> y <code>else</code>. Es decir, o se cumple una condición, o se cumple otra condición</p>.\n",
        "\n",
        "~~~python\n",
        "if condicion_1:\n",
        "     instrucciones_1\n",
        "          \n",
        "else:\n",
        "     instrucciones_2\n",
        "~~~"
      ],
      "metadata": {
        "id": "GWd1OrZ7LEX2"
      }
    },
    {
      "cell_type": "code",
      "source": [
        "edad = int(input(\"¿Cuántos años tiene? \"))\n",
        "if edad < 18:\n",
        "  print(\"Es menor de edad, no está habilitado para realizar operaciones comerciales\")\n",
        "else:\n",
        "  print(\"Es mayor de edad, usted puede realizar operaciones comerciales\")"
      ],
      "metadata": {
        "id": "WV7D_z64Kpw_",
        "colab": {
          "base_uri": "https://localhost:8080/"
        },
        "outputId": "6ca04623-1153-4e6f-fb01-fc27de1b3aec"
      },
      "execution_count": null,
      "outputs": [
        {
          "output_type": "stream",
          "name": "stdout",
          "text": [
            "¿Cuántos años tiene? 18\n",
            "Es mayor de edad, usted puede realizar operaciones comerciales\n"
          ]
        }
      ]
    },
    {
      "cell_type": "markdown",
      "source": [
        "### **<font color=\"DarkBlue\"><code>if</code> <code>elif</code> <code>else</code></font>**"
      ],
      "metadata": {
        "id": "Gei3H018L8Ap"
      }
    },
    {
      "cell_type": "markdown",
      "source": [
        "<p align=\"justify\">Para mas de dos condiciones, se usa la estructura de control <code lang=\"python\">if</code> <code>elif</code> y <code>else</code>.</p>\n",
        "\n",
        "~~~python\n",
        "if condicion_1:\n",
        "     instrucciones_1\n",
        "     \n",
        "elif condicion_2:\n",
        "     instrucciones_2\n",
        "     \n",
        "else:\n",
        "     instrucciones_3\n",
        "~~~"
      ],
      "metadata": {
        "id": "8-u4zBJlMGO5"
      }
    },
    {
      "cell_type": "code",
      "source": [
        "x = int(input(\"Ingresar un número entero positivo o negativo, por favor: \"))\n",
        "if x < 0:\n",
        "  print(f\"El numero {x} ingresado es negativo\")\n",
        "elif x == 0:\n",
        "  print(f\"El numero ingresado es cero\")\n",
        "else:\n",
        "  print(f\"El numero {x} ingresado es positivo\")"
      ],
      "metadata": {
        "id": "tDj5FmYYKpto",
        "colab": {
          "base_uri": "https://localhost:8080/"
        },
        "outputId": "43ac3269-3d23-4cc5-c42b-915a219f4b00"
      },
      "execution_count": null,
      "outputs": [
        {
          "output_type": "stream",
          "name": "stdout",
          "text": [
            "Ingresar un número entero positivo o negativo, por favor: 0\n",
            "El numero ingresado es cero\n"
          ]
        }
      ]
    },
    {
      "cell_type": "markdown",
      "source": [
        "<p align=\"justify\">\n",
        "👀 Si alguna de las condiciones se cumple y nuestro script tiene varias condiciones a evaluar, entonces cumplida una condición, ya no se siguen evaluando las siguientes condiciones...</p>"
      ],
      "metadata": {
        "id": "B91FnU2dOTuV"
      }
    },
    {
      "cell_type": "code",
      "source": [
        "activo_corriente = 500;\n",
        "pasivo_corriente = 700;\n",
        "activo_no_corriente = 800;\n",
        "pasivo_no_corriente = 1000"
      ],
      "metadata": {
        "id": "AV1eEpxyOk9I"
      },
      "execution_count": null,
      "outputs": []
    },
    {
      "cell_type": "code",
      "source": [
        "if activo_corriente < pasivo_corriente or activo_no_corriente > pasivo_no_corriente:\n",
        "  print(\"Verificado\")"
      ],
      "metadata": {
        "id": "J0ZHQn0gPYaL",
        "colab": {
          "base_uri": "https://localhost:8080/"
        },
        "outputId": "0a8036b7-b234-4d28-f4be-c08fd6b4fd4a"
      },
      "execution_count": null,
      "outputs": [
        {
          "output_type": "stream",
          "name": "stdout",
          "text": [
            "Verificado\n"
          ]
        }
      ]
    },
    {
      "cell_type": "markdown",
      "source": [
        "<p align=\"justify\">\n",
        "👀 La comparación <code>activo_no_corriente</code> con <code>pasivo_no_corriente</code> nunca se evalúa porque la primera comparación entre activo y pasivo corriente fue <code lang=\"python\">True</code>...<br><br>También es posible encadenar comparaciones, ejemplo:</p>"
      ],
      "metadata": {
        "id": "BLQpiazBP71P"
      }
    },
    {
      "cell_type": "code",
      "source": [
        "4 > 3 > 2 > 1"
      ],
      "metadata": {
        "id": "nCyRcR2-Rnzl",
        "colab": {
          "base_uri": "https://localhost:8080/"
        },
        "outputId": "7b431588-5a2c-4cfd-c7ef-cc64c7dc5af5"
      },
      "execution_count": null,
      "outputs": [
        {
          "output_type": "execute_result",
          "data": {
            "text/plain": [
              "True"
            ]
          },
          "metadata": {},
          "execution_count": 134
        }
      ]
    },
    {
      "cell_type": "code",
      "source": [
        "activo_corriente > activo_no_corriente > pasivo_corriente > pasivo_no_corriente"
      ],
      "metadata": {
        "id": "nna6oVP6RtEh",
        "colab": {
          "base_uri": "https://localhost:8080/"
        },
        "outputId": "b78e82a3-ac43-4984-8e94-b3b9c0ef0941"
      },
      "execution_count": null,
      "outputs": [
        {
          "output_type": "execute_result",
          "data": {
            "text/plain": [
              "False"
            ]
          },
          "metadata": {},
          "execution_count": 135
        }
      ]
    },
    {
      "cell_type": "markdown",
      "source": [
        "## **<font color=\"DarkBlue\">Bucle For</font>**"
      ],
      "metadata": {
        "id": "7Kg2o5pF2teA"
      }
    },
    {
      "cell_type": "markdown",
      "source": [
        "<p align=\"justify\">Los bucles <code>for</code> son para iterar sobre una colección (como una tupla, lista, cadena, etc) o un sobre un elemento iterable. La sintaxis estándar para un bucle <code>for</code> es:</p>\n",
        "\n",
        "\n",
        "~~~python\n",
        "for variable in elemento iterable (tupla, lista, cadena, etc.):\n",
        "    cuerpo bucle\n",
        "~~~"
      ],
      "metadata": {
        "id": "GZbbBT2nN1R7"
      }
    },
    {
      "cell_type": "code",
      "source": [
        "lista = [\"Activo\",\"Pasivo\",\"Patrimonio Neto\"]"
      ],
      "metadata": {
        "id": "IZSdajohx3vN"
      },
      "execution_count": null,
      "outputs": []
    },
    {
      "cell_type": "code",
      "source": [
        "for i in lista: # for para recorrer una lista de elementos\n",
        "  print(f\"Elemento del Estado de Situación Patrimonial, el {i}\")# la funcion f sirve para incluir variables dentro de un string"
      ],
      "metadata": {
        "id": "1zau0WBPuw9f",
        "colab": {
          "base_uri": "https://localhost:8080/"
        },
        "outputId": "b91a6598-9dd1-4545-8586-a620724b089a"
      },
      "execution_count": null,
      "outputs": [
        {
          "output_type": "stream",
          "name": "stdout",
          "text": [
            "Elemento del Estado de Situación Patrimonial, el Activo\n",
            "Elemento del Estado de Situación Patrimonial, el Pasivo\n",
            "Elemento del Estado de Situación Patrimonial, el Patrimonio Neto\n"
          ]
        }
      ]
    },
    {
      "cell_type": "code",
      "source": [
        "secuencias = (100,200,300),(400,500,600),(700,800,900)"
      ],
      "metadata": {
        "id": "oZwDiGDDVfME"
      },
      "execution_count": null,
      "outputs": []
    },
    {
      "cell_type": "code",
      "source": [
        "secuencia = [1, 2, 0, 4, 6, 5, 2, 1]"
      ],
      "metadata": {
        "id": "JngUp9xUACkZ"
      },
      "execution_count": null,
      "outputs": []
    },
    {
      "cell_type": "code",
      "source": [
        "secuencias"
      ],
      "metadata": {
        "colab": {
          "base_uri": "https://localhost:8080/"
        },
        "id": "KEDyfdVXVzJ9",
        "outputId": "dd17c82d-0b01-423c-eebb-fbad64ab2f9c"
      },
      "execution_count": null,
      "outputs": [
        {
          "output_type": "execute_result",
          "data": {
            "text/plain": [
              "((100, 200, 300), (400, 500, 600), (700, 800, 900))"
            ]
          },
          "metadata": {},
          "execution_count": 128
        }
      ]
    },
    {
      "cell_type": "code",
      "source": [
        "for i,j,k in secuencias: # para recorrer tuplas in secuencias\n",
        "    print (f\"El primer elemento {i},El segundo elemento {j}, El tercer elemento {k}\")"
      ],
      "metadata": {
        "colab": {
          "base_uri": "https://localhost:8080/"
        },
        "id": "vORELXJLV0iq",
        "outputId": "7065f4cb-83ce-4f77-87d1-d55bb16262f2"
      },
      "execution_count": null,
      "outputs": [
        {
          "output_type": "stream",
          "name": "stdout",
          "text": [
            "El primer elemento 100,El segundo elemento 200, El tercer elemento 300\n",
            "El primer elemento 400,El segundo elemento 500, El tercer elemento 600\n",
            "El primer elemento 700,El segundo elemento 800, El tercer elemento 900\n"
          ]
        }
      ]
    },
    {
      "cell_type": "markdown",
      "source": [
        "## **<font color=\"DarkBlue\">Break y Continue</font>**"
      ],
      "metadata": {
        "id": "xSWmFe7a3GD0"
      }
    },
    {
      "cell_type": "markdown",
      "source": [
        "<p align=\"justify\">\n",
        "👀 Podemos avanzar un bucle a la siguiente iteración, omitiendo el resto del bloque, utilizando la palabra clave <code>continue</code>. Por ejemplo, el siguiente bucle <code>for</code> omite valores <code>None</code>.\n",
        "\n",
        "</p>"
      ],
      "metadata": {
        "id": "5AaxGnHBV8Tt"
      }
    },
    {
      "cell_type": "code",
      "source": [
        "unidades = [100, 200, None, 450, None, 580]"
      ],
      "metadata": {
        "id": "Uc5lgbNf_U-e"
      },
      "execution_count": null,
      "outputs": []
    },
    {
      "cell_type": "code",
      "source": [
        "total = 0 # si el bucle me sume valor 0, me cuente valor 1 par que cuente desde 1"
      ],
      "metadata": {
        "id": "L-baNhOg_XbI"
      },
      "execution_count": null,
      "outputs": []
    },
    {
      "cell_type": "code",
      "source": [
        "for i in unidades:\n",
        "  if i is None:\n",
        "    continue\n",
        "  total += i  ###Indentar significa hacer espacios hacia la derecha para mover una línea de código,para que sea legible"
      ],
      "metadata": {
        "id": "YHplNJtAuw6R"
      },
      "execution_count": null,
      "outputs": []
    },
    {
      "cell_type": "code",
      "source": [
        "total"
      ],
      "metadata": {
        "id": "OwGDIhtPYCei",
        "colab": {
          "base_uri": "https://localhost:8080/"
        },
        "outputId": "67b6a4c2-bad2-48a7-a508-3027ed6dbe15"
      },
      "execution_count": null,
      "outputs": [
        {
          "output_type": "execute_result",
          "data": {
            "text/plain": [
              "1330"
            ]
          },
          "metadata": {},
          "execution_count": 30
        }
      ]
    },
    {
      "cell_type": "markdown",
      "source": [
        "<p align=\"justify\">\n",
        "👀 O tambien podemos detener un bucle, utilizando la palabra clave <code>break</code>. Por ejemplo, el siguiente bucle <code>for</code> detiene el bucle cuando se encuentre el valor cinco.\n",
        "\n",
        "</p>"
      ],
      "metadata": {
        "id": "gHH0WpV7Y_FI"
      }
    },
    {
      "cell_type": "code",
      "source": [
        "total_limite_5 = 0"
      ],
      "metadata": {
        "id": "SvWJpUkdAEIg"
      },
      "execution_count": null,
      "outputs": []
    },
    {
      "cell_type": "code",
      "source": [
        "for i in secuencia:\n",
        "  if i == 5:\n",
        "    break\n",
        "  total_limite_5 += i"
      ],
      "metadata": {
        "id": "7817NH3kXbgl"
      },
      "execution_count": null,
      "outputs": []
    },
    {
      "cell_type": "code",
      "source": [
        "total_limite_5"
      ],
      "metadata": {
        "id": "WaFewPLZYgGT",
        "colab": {
          "base_uri": "https://localhost:8080/"
        },
        "outputId": "d170cda6-29a4-446c-932b-0c86de4b0a41"
      },
      "execution_count": null,
      "outputs": [
        {
          "output_type": "execute_result",
          "data": {
            "text/plain": [
              "14"
            ]
          },
          "metadata": {},
          "execution_count": 59
        }
      ]
    },
    {
      "cell_type": "markdown",
      "source": [
        "<p align=\"justify\">\n",
        "👀 La palabra clave <code>break</code> detiene el bucle mas interno, y los bucles externos siguen ejecutándose. Por ejemplo:\n",
        "\n",
        "</p>"
      ],
      "metadata": {
        "id": "Slhn7vXLZj0d"
      }
    },
    {
      "cell_type": "markdown",
      "source": [
        "<p align=\"justify\">\n",
        "Esto es lo que hace el script proporcionado:\n",
        "<br><br>\n",
        "\n",
        "1. Se inicializa un bucle externo `for` que itera sobre los valores en el rango de 0 a 3 (no incluyendo 4), representados por la variable `i`.\n",
        "\n",
        "2. Dentro del bucle externo, se inicializa otro bucle interno `for` que también itera sobre los valores en el rango de 0 a 3 (no incluyendo 4), representados por la variable `j`.\n",
        "\n",
        "3. Se evalúa una condición utilizando la estructura `if`. La condición es `j > i`, lo que significa que el valor de `j` es mayor que el valor de `i`.\n",
        "\n",
        "4. Si la condición es verdadera (es decir, si `j` es mayor que `i`), se ejecuta la declaración `break`, que interrumpe el bucle interno actual y pasa al siguiente paso del bucle externo.\n",
        "\n",
        "5. Si la condición es falsa (es decir, si `j` no es mayor que `i`), se ejecuta la instrucción `print((i, j))`. Esta instrucción imprime una tupla que contiene los valores de `i` y `j` en ese momento.\n",
        "\n",
        "6. Después de imprimir la tupla, el bucle interno continúa iterando hasta que se completa su rango o hasta que se ejecuta la declaración `break`.\n",
        "\n",
        "7. Una vez que el bucle interno termina de ejecutarse (ya sea porque se completó su rango o porque se ejecutó `break`), el control regresa al bucle externo.\n",
        "\n",
        "8. El bucle externo continúa iterando hasta que se completa su rango o hasta que se ejecuta `break`.\n",
        "\n",
        "<br>\n",
        "<p align=\"justify\">\n",
        "En resumen, este script genera todas las combinaciones de pares <code>(i, j)</code> donde <code>i</code> es menor o igual a <code>j</code>, para valores de <code>i</code> y <code>j</code> en el rango de 0 a 3. Cada par se imprime en una línea nueva.\n",
        "<br><br>\n",
        "👀 La instrucción <code>break</code> se utiliza para evitar que el bucle interno continúe iterando una vez que <code>j</code> supera a <code>i</code>."
      ],
      "metadata": {
        "id": "RgmlvaP7dWkO"
      }
    },
    {
      "cell_type": "code",
      "source": [
        "for i in range(4):\n",
        "  for j in range(4):\n",
        "    if j > i:\n",
        "      break\n",
        "    print((i, j))"
      ],
      "metadata": {
        "id": "8E2KOeQwZ0Je",
        "colab": {
          "base_uri": "https://localhost:8080/"
        },
        "outputId": "56d67605-99da-48ba-faed-97bf2e4803f9"
      },
      "execution_count": null,
      "outputs": [
        {
          "output_type": "stream",
          "name": "stdout",
          "text": [
            "(0, 0)\n",
            "(1, 0)\n",
            "(1, 1)\n",
            "(2, 0)\n",
            "(2, 1)\n",
            "(2, 2)\n",
            "(3, 0)\n",
            "(3, 1)\n",
            "(3, 2)\n",
            "(3, 3)\n"
          ]
        }
      ]
    },
    {
      "cell_type": "markdown",
      "source": [],
      "metadata": {
        "id": "44Mkpq3yVx1d"
      }
    },
    {
      "cell_type": "markdown",
      "source": [
        "## **<font color=\"DarkBlue\">Bucle While</font>**"
      ],
      "metadata": {
        "id": "V0-I4Zgw2_Tp"
      }
    },
    {
      "cell_type": "markdown",
      "source": [
        "<p align=\"justify\">Un bucle <code>while</code> especifica una condición y un bloque de código que se ejecutará hasta que la condición <code>False</code> se evalúe o el bucle termine explícitamente con <code>break</code>:</p>\n",
        "\n",
        "\n",
        "~~~python\n",
        "while condicion:\n",
        "    cuerpo bucle\n",
        "~~~\n"
      ],
      "metadata": {
        "id": "kGWIlg6MahFZ"
      }
    },
    {
      "cell_type": "code",
      "source": [
        "cuenta = 1\n",
        "while cuenta <= 5:\n",
        "  if cuenta == 1:\n",
        "    print(f\"A la {cuenta}\")\n",
        "  else:\n",
        "   print(f\"A las {cuenta}\")\n",
        "  cuenta += 1"
      ],
      "metadata": {
        "id": "JkTeVY_I3FRe",
        "colab": {
          "base_uri": "https://localhost:8080/"
        },
        "outputId": "83a7b414-aa9b-4f5c-c30d-b3bfd423044c"
      },
      "execution_count": null,
      "outputs": [
        {
          "output_type": "stream",
          "name": "stdout",
          "text": [
            "A la 1\n",
            "A las 2\n",
            "A las 3\n",
            "A las 4\n",
            "A las 5\n"
          ]
        }
      ]
    },
    {
      "cell_type": "markdown",
      "source": [
        "<p align=\"justify\">\n",
        "El script cuenta desde 1 hasta 5 e imprime un mensaje diferente dependiendo del valor de la variable de cuenta en cada iteración. Este es el detalle del script:\n",
        "<br><br>\n",
        "\n",
        "1. **Inicialización de la variable cuenta:** Se inicializa la variable cuenta con el valor 1.\n",
        "   \n",
        "2. **Bucle while:** Se inicia un bucle while que se ejecutará mientras el valor de la variable cuenta sea menor o igual a 5.\n",
        "\n",
        "3. **Condición if:** Dentro del bucle, hay una estructura condicional if que comprueba si el valor de la variable cuenta es igual a 1.\n",
        "\n",
        "4. **Impresión de mensaje:** Si el valor de cuenta es igual a 1, se imprime el mensaje \"A la 1\". Esto se hace utilizando la función print() con una cadena de formato que incluye el valor de cuenta.\n",
        "\n",
        "5. **Else:** Si el valor de cuenta no es igual a 1, se ejecuta la parte else de la estructura condicional.\n",
        "\n",
        "6. **Impresión de mensaje alternativo:** En este caso, se imprime el mensaje \"A las\" seguido del valor de cuenta. Esto se hace también utilizando la función print() con una cadena de formato.\n",
        "\n",
        "7. **Actualización de la variable cuenta:** Después de cada iteración del bucle, se incrementa el valor de la variable cuenta en 1 utilizando el operador de incremento +=.\n",
        "\n",
        "<br>\n",
        "<p align=\"justify\">\n",
        "👀 finalizar el bucle, el script habrá impreso los mensajes \"A la 1\", \"A las 2\", \"A las 3\", \"A las 4\" y \"A las 5\", cada uno en una línea nueva. Esto muestra cómo se pueden utilizar bucles y estructuras condicionales en Python para realizar tareas repetitivas con variaciones basadas en condiciones específicas."
      ],
      "metadata": {
        "id": "r7x8aYCQcUVe"
      }
    },
    {
      "cell_type": "markdown",
      "source": [
        "<p align=\"center\"><b>\n",
        "💗\n",
        "<font color=\"DarkBlue\">\n",
        "Hemos llegado al final de nuestro colab, a seguir codeando...\n",
        "</font>\n",
        "</p>\n",
        "\n"
      ],
      "metadata": {
        "id": "jLFcCFoEuxr6"
      }
    }
  ]
}
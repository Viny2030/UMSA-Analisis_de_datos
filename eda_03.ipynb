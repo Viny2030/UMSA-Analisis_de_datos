{
  "nbformat": 4,
  "nbformat_minor": 0,
  "metadata": {
    "colab": {
      "provenance": [],
      "include_colab_link": true
    },
    "kernelspec": {
      "name": "python3",
      "display_name": "Python 3"
    }
  },
  "cells": [
    {
      "cell_type": "markdown",
      "metadata": {
        "id": "view-in-github",
        "colab_type": "text"
      },
      "source": [
        "<a href=\"https://colab.research.google.com/github/Viny2030/UMSA-Analisis_de_datos/blob/main/eda_03.ipynb\" target=\"_parent\"><img src=\"https://colab.research.google.com/assets/colab-badge.svg\" alt=\"Open In Colab\"/></a>"
      ]
    },
    {
      "cell_type": "markdown",
      "source": [],
      "metadata": {
        "id": "f5ck3haWDCGE"
      }
    },
    {
      "cell_type": "markdown",
      "metadata": {
        "id": "0B6snQGDyWWt"
      },
      "source": [
        "<a href=\"https://colab.research.google.com/github/cristiandarioortegayubro/BA/blob/main/eda_03.ipynb\" target=\"_parent\"><img src=\"https://colab.research.google.com/assets/colab-badge.svg\" alt=\"Open In Colab\"/></a>"
      ]
    },
    {
      "cell_type": "markdown",
      "source": [
        "![umsa.png](data:image/png;base64,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)"
      ],
      "metadata": {
        "id": "8BzejrUsC9D9"
      }
    },
    {
      "cell_type": "markdown",
      "source": [
        "## **Análisis Exploratorio de los Datos**"
      ],
      "metadata": {
        "id": "rwI-bNlq6Pkc"
      }
    },
    {
      "cell_type": "markdown",
      "metadata": {
        "id": "6huflJemad6H"
      },
      "source": [
        "## **Conjunto de Datos**"
      ]
    },
    {
      "cell_type": "markdown",
      "metadata": {
        "id": "tIBuh0hsatD7"
      },
      "source": [
        "**El conjunto de datos *SaratogaHouses* del paquete mosaicData de R contiene información sobre el precio de 1728 viviendas situadas en Saratoga County, New York, USA en el año 2006. Además del precio de las viviendas, el conjunto de datos incluye 15 variables adicionales:**"
      ]
    },
    {
      "cell_type": "markdown",
      "metadata": {
        "id": "3mNRG5XZbEKd"
      },
      "source": [
        "- **price:** precio de la vivienda.\n",
        "- **lotSize:** metros cuadrados de la vivienda.\n",
        "- **age:** antigüedad de la vivienda.\n",
        "- **landValue:** valor del terreno.\n",
        "- **livingArea:** metros cuadrados habitables.\n",
        "- **pctCollege:** porcentaje del vecindario con título universitario.\n",
        "- **bedrooms:** número de dormitorios.\n",
        "- **firplaces:** número de chimeneas.\n",
        "- **bathrooms:** número de cuartos de baño (el valor 0.5 hace referencia a cuartos de baño sin ducha).\n",
        "- **rooms:** número de habitaciones.\n",
        "- **heating:** tipo de calefacción.\n",
        "- **fuel:** tipo de alimentación de la calefacción (gas, electricidad o diesel).\n",
        "- **sewer:** tipo de desagüe.\n",
        "- **waterfront:** si la vivienda tiene vistas al lago.\n",
        "- **newConstruction:** si la vivienda es de nueva construcción.\n",
        "- **centralAir:** si la vivienda tiene aire acondicionado."
      ]
    },
    {
      "cell_type": "markdown",
      "source": [
        "## **Actualizando los módulos necesarios**"
      ],
      "metadata": {
        "id": "if5jeRUL6pr2"
      }
    },
    {
      "cell_type": "code",
      "source": [
        "!pip install scikit-learn --upgrade"
      ],
      "metadata": {
        "colab": {
          "base_uri": "https://localhost:8080/"
        },
        "id": "aN_cR6mX6rbi",
        "outputId": "aa1e14c0-fa9b-4a30-c48c-770fa7187db3"
      },
      "execution_count": 1,
      "outputs": [
        {
          "output_type": "stream",
          "name": "stdout",
          "text": [
            "Requirement already satisfied: scikit-learn in /usr/local/lib/python3.11/dist-packages (1.6.1)\n",
            "Requirement already satisfied: numpy>=1.19.5 in /usr/local/lib/python3.11/dist-packages (from scikit-learn) (2.0.2)\n",
            "Requirement already satisfied: scipy>=1.6.0 in /usr/local/lib/python3.11/dist-packages (from scikit-learn) (1.14.1)\n",
            "Requirement already satisfied: joblib>=1.2.0 in /usr/local/lib/python3.11/dist-packages (from scikit-learn) (1.4.2)\n",
            "Requirement already satisfied: threadpoolctl>=3.1.0 in /usr/local/lib/python3.11/dist-packages (from scikit-learn) (3.6.0)\n"
          ]
        }
      ]
    },
    {
      "cell_type": "code",
      "source": [
        "!pip install plotly --upgrade"
      ],
      "metadata": {
        "colab": {
          "base_uri": "https://localhost:8080/"
        },
        "id": "7qNi3Xye7ppr",
        "outputId": "2fe7bb55-ed8a-41f1-95c7-4462de187f18"
      },
      "execution_count": 2,
      "outputs": [
        {
          "output_type": "stream",
          "name": "stdout",
          "text": [
            "Requirement already satisfied: plotly in /usr/local/lib/python3.11/dist-packages (5.24.1)\n",
            "Collecting plotly\n",
            "  Downloading plotly-6.0.1-py3-none-any.whl.metadata (6.7 kB)\n",
            "Requirement already satisfied: narwhals>=1.15.1 in /usr/local/lib/python3.11/dist-packages (from plotly) (1.35.0)\n",
            "Requirement already satisfied: packaging in /usr/local/lib/python3.11/dist-packages (from plotly) (24.2)\n",
            "Downloading plotly-6.0.1-py3-none-any.whl (14.8 MB)\n",
            "\u001b[2K   \u001b[90m━━━━━━━━━━━━━━━━━━━━━━━━━━━━━━━━━━━━━━━━\u001b[0m \u001b[32m14.8/14.8 MB\u001b[0m \u001b[31m47.5 MB/s\u001b[0m eta \u001b[36m0:00:00\u001b[0m\n",
            "\u001b[?25hInstalling collected packages: plotly\n",
            "  Attempting uninstall: plotly\n",
            "    Found existing installation: plotly 5.24.1\n",
            "    Uninstalling plotly-5.24.1:\n",
            "      Successfully uninstalled plotly-5.24.1\n",
            "Successfully installed plotly-6.0.1\n"
          ]
        }
      ]
    },
    {
      "cell_type": "markdown",
      "metadata": {
        "id": "ZwJxBrO5OKYx"
      },
      "source": [
        "## **Carga de módulos**"
      ]
    },
    {
      "cell_type": "markdown",
      "source": [
        "### **Para análisis de los datos**"
      ],
      "metadata": {
        "id": "NDPCMpMV65FG"
      }
    },
    {
      "cell_type": "code",
      "metadata": {
        "id": "pCtcmSOaN36q"
      },
      "source": [
        "import pandas as pd\n",
        "import numpy as np"
      ],
      "execution_count": 3,
      "outputs": []
    },
    {
      "cell_type": "markdown",
      "source": [
        "### **Para preprocesamiento de los datos**"
      ],
      "metadata": {
        "id": "3cgKgCDC7Bqq"
      }
    },
    {
      "cell_type": "code",
      "source": [
        "from sklearn.model_selection import train_test_split"
      ],
      "metadata": {
        "id": "l7E6wtb07FVA"
      },
      "execution_count": 4,
      "outputs": []
    },
    {
      "cell_type": "markdown",
      "source": [
        "### **Para graficos**"
      ],
      "metadata": {
        "id": "Fja45Erd7goe"
      }
    },
    {
      "cell_type": "code",
      "source": [
        "import matplotlib.pyplot as plt\n",
        "import seaborn as sns\n",
        "import plotly.express as px\n",
        "import plotly.figure_factory as ff"
      ],
      "metadata": {
        "id": "iAn_ZMsk7mzj"
      },
      "execution_count": 5,
      "outputs": []
    },
    {
      "cell_type": "markdown",
      "source": [
        "## **Carga de Datos**"
      ],
      "metadata": {
        "id": "IMrnmqR57F7v"
      }
    },
    {
      "cell_type": "code",
      "metadata": {
        "id": "NR1EJ5SmNeRR"
      },
      "source": [
        "url = \"https://raw.githubusercontent.com/Viny2030/UMSA-Analisis_de_datos/refs/heads/main/SaratogaHouses.csv\""
      ],
      "execution_count": 6,
      "outputs": []
    },
    {
      "cell_type": "code",
      "metadata": {
        "id": "jbX4z29eN0vE",
        "colab": {
          "base_uri": "https://localhost:8080/",
          "height": 278
        },
        "outputId": "8cf39a29-56b3-44da-f1ea-63a2d2ef4f20"
      },
      "source": [
        "datos = pd.read_csv(url)\n",
        "datos.head()"
      ],
      "execution_count": 7,
      "outputs": [
        {
          "output_type": "execute_result",
          "data": {
            "text/plain": [
              "   Unnamed: 0  precio  metros_totales  antiguedad  precio_terreno  \\\n",
              "0           0  132500            0.09          42           50000   \n",
              "1           1  181115            0.92           0           22300   \n",
              "2           2  109000            0.19         133            7300   \n",
              "3           3  155000            0.41          13           18700   \n",
              "4           4   86060            0.11           0           15000   \n",
              "\n",
              "   metros_habitables  universitarios  dormitorios  baños  habitaciones  \\\n",
              "0                906              35            2    1.0             5   \n",
              "1               1953              51            3    2.5             6   \n",
              "2               1944              51            4    1.0             8   \n",
              "3               1944              51            3    1.5             5   \n",
              "4                840              51            2    1.0             3   \n",
              "\n",
              "       calefaccion consumo_calefacion            desague vistas_lago  \\\n",
              "0         electric           electric             septic          No   \n",
              "1  hot water/steam                gas             septic          No   \n",
              "2  hot water/steam                gas  public/commercial          No   \n",
              "3          hot air                gas             septic          No   \n",
              "4          hot air                gas  public/commercial          No   \n",
              "\n",
              "  nueva_construccion aire_acondicionado  \n",
              "0                 No                 No  \n",
              "1                 No                 No  \n",
              "2                 No                 No  \n",
              "3                 No                 No  \n",
              "4                Yes                Yes  "
            ],
            "text/html": [
              "\n",
              "  <div id=\"df-b5186d3b-5289-4184-a54b-288d001b2b74\" class=\"colab-df-container\">\n",
              "    <div>\n",
              "<style scoped>\n",
              "    .dataframe tbody tr th:only-of-type {\n",
              "        vertical-align: middle;\n",
              "    }\n",
              "\n",
              "    .dataframe tbody tr th {\n",
              "        vertical-align: top;\n",
              "    }\n",
              "\n",
              "    .dataframe thead th {\n",
              "        text-align: right;\n",
              "    }\n",
              "</style>\n",
              "<table border=\"1\" class=\"dataframe\">\n",
              "  <thead>\n",
              "    <tr style=\"text-align: right;\">\n",
              "      <th></th>\n",
              "      <th>Unnamed: 0</th>\n",
              "      <th>precio</th>\n",
              "      <th>metros_totales</th>\n",
              "      <th>antiguedad</th>\n",
              "      <th>precio_terreno</th>\n",
              "      <th>metros_habitables</th>\n",
              "      <th>universitarios</th>\n",
              "      <th>dormitorios</th>\n",
              "      <th>baños</th>\n",
              "      <th>habitaciones</th>\n",
              "      <th>calefaccion</th>\n",
              "      <th>consumo_calefacion</th>\n",
              "      <th>desague</th>\n",
              "      <th>vistas_lago</th>\n",
              "      <th>nueva_construccion</th>\n",
              "      <th>aire_acondicionado</th>\n",
              "    </tr>\n",
              "  </thead>\n",
              "  <tbody>\n",
              "    <tr>\n",
              "      <th>0</th>\n",
              "      <td>0</td>\n",
              "      <td>132500</td>\n",
              "      <td>0.09</td>\n",
              "      <td>42</td>\n",
              "      <td>50000</td>\n",
              "      <td>906</td>\n",
              "      <td>35</td>\n",
              "      <td>2</td>\n",
              "      <td>1.0</td>\n",
              "      <td>5</td>\n",
              "      <td>electric</td>\n",
              "      <td>electric</td>\n",
              "      <td>septic</td>\n",
              "      <td>No</td>\n",
              "      <td>No</td>\n",
              "      <td>No</td>\n",
              "    </tr>\n",
              "    <tr>\n",
              "      <th>1</th>\n",
              "      <td>1</td>\n",
              "      <td>181115</td>\n",
              "      <td>0.92</td>\n",
              "      <td>0</td>\n",
              "      <td>22300</td>\n",
              "      <td>1953</td>\n",
              "      <td>51</td>\n",
              "      <td>3</td>\n",
              "      <td>2.5</td>\n",
              "      <td>6</td>\n",
              "      <td>hot water/steam</td>\n",
              "      <td>gas</td>\n",
              "      <td>septic</td>\n",
              "      <td>No</td>\n",
              "      <td>No</td>\n",
              "      <td>No</td>\n",
              "    </tr>\n",
              "    <tr>\n",
              "      <th>2</th>\n",
              "      <td>2</td>\n",
              "      <td>109000</td>\n",
              "      <td>0.19</td>\n",
              "      <td>133</td>\n",
              "      <td>7300</td>\n",
              "      <td>1944</td>\n",
              "      <td>51</td>\n",
              "      <td>4</td>\n",
              "      <td>1.0</td>\n",
              "      <td>8</td>\n",
              "      <td>hot water/steam</td>\n",
              "      <td>gas</td>\n",
              "      <td>public/commercial</td>\n",
              "      <td>No</td>\n",
              "      <td>No</td>\n",
              "      <td>No</td>\n",
              "    </tr>\n",
              "    <tr>\n",
              "      <th>3</th>\n",
              "      <td>3</td>\n",
              "      <td>155000</td>\n",
              "      <td>0.41</td>\n",
              "      <td>13</td>\n",
              "      <td>18700</td>\n",
              "      <td>1944</td>\n",
              "      <td>51</td>\n",
              "      <td>3</td>\n",
              "      <td>1.5</td>\n",
              "      <td>5</td>\n",
              "      <td>hot air</td>\n",
              "      <td>gas</td>\n",
              "      <td>septic</td>\n",
              "      <td>No</td>\n",
              "      <td>No</td>\n",
              "      <td>No</td>\n",
              "    </tr>\n",
              "    <tr>\n",
              "      <th>4</th>\n",
              "      <td>4</td>\n",
              "      <td>86060</td>\n",
              "      <td>0.11</td>\n",
              "      <td>0</td>\n",
              "      <td>15000</td>\n",
              "      <td>840</td>\n",
              "      <td>51</td>\n",
              "      <td>2</td>\n",
              "      <td>1.0</td>\n",
              "      <td>3</td>\n",
              "      <td>hot air</td>\n",
              "      <td>gas</td>\n",
              "      <td>public/commercial</td>\n",
              "      <td>No</td>\n",
              "      <td>Yes</td>\n",
              "      <td>Yes</td>\n",
              "    </tr>\n",
              "  </tbody>\n",
              "</table>\n",
              "</div>\n",
              "    <div class=\"colab-df-buttons\">\n",
              "\n",
              "  <div class=\"colab-df-container\">\n",
              "    <button class=\"colab-df-convert\" onclick=\"convertToInteractive('df-b5186d3b-5289-4184-a54b-288d001b2b74')\"\n",
              "            title=\"Convert this dataframe to an interactive table.\"\n",
              "            style=\"display:none;\">\n",
              "\n",
              "  <svg xmlns=\"http://www.w3.org/2000/svg\" height=\"24px\" viewBox=\"0 -960 960 960\">\n",
              "    <path d=\"M120-120v-720h720v720H120Zm60-500h600v-160H180v160Zm220 220h160v-160H400v160Zm0 220h160v-160H400v160ZM180-400h160v-160H180v160Zm440 0h160v-160H620v160ZM180-180h160v-160H180v160Zm440 0h160v-160H620v160Z\"/>\n",
              "  </svg>\n",
              "    </button>\n",
              "\n",
              "  <style>\n",
              "    .colab-df-container {\n",
              "      display:flex;\n",
              "      gap: 12px;\n",
              "    }\n",
              "\n",
              "    .colab-df-convert {\n",
              "      background-color: #E8F0FE;\n",
              "      border: none;\n",
              "      border-radius: 50%;\n",
              "      cursor: pointer;\n",
              "      display: none;\n",
              "      fill: #1967D2;\n",
              "      height: 32px;\n",
              "      padding: 0 0 0 0;\n",
              "      width: 32px;\n",
              "    }\n",
              "\n",
              "    .colab-df-convert:hover {\n",
              "      background-color: #E2EBFA;\n",
              "      box-shadow: 0px 1px 2px rgba(60, 64, 67, 0.3), 0px 1px 3px 1px rgba(60, 64, 67, 0.15);\n",
              "      fill: #174EA6;\n",
              "    }\n",
              "\n",
              "    .colab-df-buttons div {\n",
              "      margin-bottom: 4px;\n",
              "    }\n",
              "\n",
              "    [theme=dark] .colab-df-convert {\n",
              "      background-color: #3B4455;\n",
              "      fill: #D2E3FC;\n",
              "    }\n",
              "\n",
              "    [theme=dark] .colab-df-convert:hover {\n",
              "      background-color: #434B5C;\n",
              "      box-shadow: 0px 1px 3px 1px rgba(0, 0, 0, 0.15);\n",
              "      filter: drop-shadow(0px 1px 2px rgba(0, 0, 0, 0.3));\n",
              "      fill: #FFFFFF;\n",
              "    }\n",
              "  </style>\n",
              "\n",
              "    <script>\n",
              "      const buttonEl =\n",
              "        document.querySelector('#df-b5186d3b-5289-4184-a54b-288d001b2b74 button.colab-df-convert');\n",
              "      buttonEl.style.display =\n",
              "        google.colab.kernel.accessAllowed ? 'block' : 'none';\n",
              "\n",
              "      async function convertToInteractive(key) {\n",
              "        const element = document.querySelector('#df-b5186d3b-5289-4184-a54b-288d001b2b74');\n",
              "        const dataTable =\n",
              "          await google.colab.kernel.invokeFunction('convertToInteractive',\n",
              "                                                    [key], {});\n",
              "        if (!dataTable) return;\n",
              "\n",
              "        const docLinkHtml = 'Like what you see? Visit the ' +\n",
              "          '<a target=\"_blank\" href=https://colab.research.google.com/notebooks/data_table.ipynb>data table notebook</a>'\n",
              "          + ' to learn more about interactive tables.';\n",
              "        element.innerHTML = '';\n",
              "        dataTable['output_type'] = 'display_data';\n",
              "        await google.colab.output.renderOutput(dataTable, element);\n",
              "        const docLink = document.createElement('div');\n",
              "        docLink.innerHTML = docLinkHtml;\n",
              "        element.appendChild(docLink);\n",
              "      }\n",
              "    </script>\n",
              "  </div>\n",
              "\n",
              "\n",
              "<div id=\"df-f8b6bee5-4e53-4ad5-aeb4-86b865b04318\">\n",
              "  <button class=\"colab-df-quickchart\" onclick=\"quickchart('df-f8b6bee5-4e53-4ad5-aeb4-86b865b04318')\"\n",
              "            title=\"Suggest charts\"\n",
              "            style=\"display:none;\">\n",
              "\n",
              "<svg xmlns=\"http://www.w3.org/2000/svg\" height=\"24px\"viewBox=\"0 0 24 24\"\n",
              "     width=\"24px\">\n",
              "    <g>\n",
              "        <path d=\"M19 3H5c-1.1 0-2 .9-2 2v14c0 1.1.9 2 2 2h14c1.1 0 2-.9 2-2V5c0-1.1-.9-2-2-2zM9 17H7v-7h2v7zm4 0h-2V7h2v10zm4 0h-2v-4h2v4z\"/>\n",
              "    </g>\n",
              "</svg>\n",
              "  </button>\n",
              "\n",
              "<style>\n",
              "  .colab-df-quickchart {\n",
              "      --bg-color: #E8F0FE;\n",
              "      --fill-color: #1967D2;\n",
              "      --hover-bg-color: #E2EBFA;\n",
              "      --hover-fill-color: #174EA6;\n",
              "      --disabled-fill-color: #AAA;\n",
              "      --disabled-bg-color: #DDD;\n",
              "  }\n",
              "\n",
              "  [theme=dark] .colab-df-quickchart {\n",
              "      --bg-color: #3B4455;\n",
              "      --fill-color: #D2E3FC;\n",
              "      --hover-bg-color: #434B5C;\n",
              "      --hover-fill-color: #FFFFFF;\n",
              "      --disabled-bg-color: #3B4455;\n",
              "      --disabled-fill-color: #666;\n",
              "  }\n",
              "\n",
              "  .colab-df-quickchart {\n",
              "    background-color: var(--bg-color);\n",
              "    border: none;\n",
              "    border-radius: 50%;\n",
              "    cursor: pointer;\n",
              "    display: none;\n",
              "    fill: var(--fill-color);\n",
              "    height: 32px;\n",
              "    padding: 0;\n",
              "    width: 32px;\n",
              "  }\n",
              "\n",
              "  .colab-df-quickchart:hover {\n",
              "    background-color: var(--hover-bg-color);\n",
              "    box-shadow: 0 1px 2px rgba(60, 64, 67, 0.3), 0 1px 3px 1px rgba(60, 64, 67, 0.15);\n",
              "    fill: var(--button-hover-fill-color);\n",
              "  }\n",
              "\n",
              "  .colab-df-quickchart-complete:disabled,\n",
              "  .colab-df-quickchart-complete:disabled:hover {\n",
              "    background-color: var(--disabled-bg-color);\n",
              "    fill: var(--disabled-fill-color);\n",
              "    box-shadow: none;\n",
              "  }\n",
              "\n",
              "  .colab-df-spinner {\n",
              "    border: 2px solid var(--fill-color);\n",
              "    border-color: transparent;\n",
              "    border-bottom-color: var(--fill-color);\n",
              "    animation:\n",
              "      spin 1s steps(1) infinite;\n",
              "  }\n",
              "\n",
              "  @keyframes spin {\n",
              "    0% {\n",
              "      border-color: transparent;\n",
              "      border-bottom-color: var(--fill-color);\n",
              "      border-left-color: var(--fill-color);\n",
              "    }\n",
              "    20% {\n",
              "      border-color: transparent;\n",
              "      border-left-color: var(--fill-color);\n",
              "      border-top-color: var(--fill-color);\n",
              "    }\n",
              "    30% {\n",
              "      border-color: transparent;\n",
              "      border-left-color: var(--fill-color);\n",
              "      border-top-color: var(--fill-color);\n",
              "      border-right-color: var(--fill-color);\n",
              "    }\n",
              "    40% {\n",
              "      border-color: transparent;\n",
              "      border-right-color: var(--fill-color);\n",
              "      border-top-color: var(--fill-color);\n",
              "    }\n",
              "    60% {\n",
              "      border-color: transparent;\n",
              "      border-right-color: var(--fill-color);\n",
              "    }\n",
              "    80% {\n",
              "      border-color: transparent;\n",
              "      border-right-color: var(--fill-color);\n",
              "      border-bottom-color: var(--fill-color);\n",
              "    }\n",
              "    90% {\n",
              "      border-color: transparent;\n",
              "      border-bottom-color: var(--fill-color);\n",
              "    }\n",
              "  }\n",
              "</style>\n",
              "\n",
              "  <script>\n",
              "    async function quickchart(key) {\n",
              "      const quickchartButtonEl =\n",
              "        document.querySelector('#' + key + ' button');\n",
              "      quickchartButtonEl.disabled = true;  // To prevent multiple clicks.\n",
              "      quickchartButtonEl.classList.add('colab-df-spinner');\n",
              "      try {\n",
              "        const charts = await google.colab.kernel.invokeFunction(\n",
              "            'suggestCharts', [key], {});\n",
              "      } catch (error) {\n",
              "        console.error('Error during call to suggestCharts:', error);\n",
              "      }\n",
              "      quickchartButtonEl.classList.remove('colab-df-spinner');\n",
              "      quickchartButtonEl.classList.add('colab-df-quickchart-complete');\n",
              "    }\n",
              "    (() => {\n",
              "      let quickchartButtonEl =\n",
              "        document.querySelector('#df-f8b6bee5-4e53-4ad5-aeb4-86b865b04318 button');\n",
              "      quickchartButtonEl.style.display =\n",
              "        google.colab.kernel.accessAllowed ? 'block' : 'none';\n",
              "    })();\n",
              "  </script>\n",
              "</div>\n",
              "\n",
              "    </div>\n",
              "  </div>\n"
            ],
            "application/vnd.google.colaboratory.intrinsic+json": {
              "type": "dataframe",
              "variable_name": "datos",
              "summary": "{\n  \"name\": \"datos\",\n  \"rows\": 1728,\n  \"fields\": [\n    {\n      \"column\": \"Unnamed: 0\",\n      \"properties\": {\n        \"dtype\": \"number\",\n        \"std\": 498,\n        \"min\": 0,\n        \"max\": 1727,\n        \"num_unique_values\": 1728,\n        \"samples\": [\n          599,\n          1201,\n          628\n        ],\n        \"semantic_type\": \"\",\n        \"description\": \"\"\n      }\n    },\n    {\n      \"column\": \"precio\",\n      \"properties\": {\n        \"dtype\": \"number\",\n        \"std\": 98441,\n        \"min\": 5000,\n        \"max\": 775000,\n        \"num_unique_values\": 751,\n        \"samples\": [\n          500000,\n          286000,\n          164400\n        ],\n        \"semantic_type\": \"\",\n        \"description\": \"\"\n      }\n    },\n    {\n      \"column\": \"metros_totales\",\n      \"properties\": {\n        \"dtype\": \"number\",\n        \"std\": 0.6986798788561117,\n        \"min\": 0.0,\n        \"max\": 12.2,\n        \"num_unique_values\": 170,\n        \"samples\": [\n          2.68,\n          1.8,\n          3.68\n        ],\n        \"semantic_type\": \"\",\n        \"description\": \"\"\n      }\n    },\n    {\n      \"column\": \"antiguedad\",\n      \"properties\": {\n        \"dtype\": \"number\",\n        \"std\": 29,\n        \"min\": 0,\n        \"max\": 225,\n        \"num_unique_values\": 136,\n        \"samples\": [\n          61,\n          125,\n          178\n        ],\n        \"semantic_type\": \"\",\n        \"description\": \"\"\n      }\n    },\n    {\n      \"column\": \"precio_terreno\",\n      \"properties\": {\n        \"dtype\": \"number\",\n        \"std\": 35021,\n        \"min\": 200,\n        \"max\": 412600,\n        \"num_unique_values\": 573,\n        \"samples\": [\n          24700,\n          4000,\n          45800\n        ],\n        \"semantic_type\": \"\",\n        \"description\": \"\"\n      }\n    },\n    {\n      \"column\": \"metros_habitables\",\n      \"properties\": {\n        \"dtype\": \"number\",\n        \"std\": 619,\n        \"min\": 616,\n        \"max\": 5228,\n        \"num_unique_values\": 877,\n        \"samples\": [\n          1093,\n          1528,\n          2088\n        ],\n        \"semantic_type\": \"\",\n        \"description\": \"\"\n      }\n    },\n    {\n      \"column\": \"universitarios\",\n      \"properties\": {\n        \"dtype\": \"number\",\n        \"std\": 10,\n        \"min\": 20,\n        \"max\": 82,\n        \"num_unique_values\": 32,\n        \"samples\": [\n          28,\n          30,\n          21\n        ],\n        \"semantic_type\": \"\",\n        \"description\": \"\"\n      }\n    },\n    {\n      \"column\": \"dormitorios\",\n      \"properties\": {\n        \"dtype\": \"number\",\n        \"std\": 0,\n        \"min\": 1,\n        \"max\": 7,\n        \"num_unique_values\": 7,\n        \"samples\": [\n          2,\n          3,\n          6\n        ],\n        \"semantic_type\": \"\",\n        \"description\": \"\"\n      }\n    },\n    {\n      \"column\": \"ba\\u00f1os\",\n      \"properties\": {\n        \"dtype\": \"number\",\n        \"std\": 0.6583523976653198,\n        \"min\": 0.0,\n        \"max\": 4.5,\n        \"num_unique_values\": 9,\n        \"samples\": [\n          4.5,\n          2.5,\n          4.0\n        ],\n        \"semantic_type\": \"\",\n        \"description\": \"\"\n      }\n    },\n    {\n      \"column\": \"habitaciones\",\n      \"properties\": {\n        \"dtype\": \"number\",\n        \"std\": 2,\n        \"min\": 2,\n        \"max\": 12,\n        \"num_unique_values\": 11,\n        \"samples\": [\n          12,\n          5,\n          11\n        ],\n        \"semantic_type\": \"\",\n        \"description\": \"\"\n      }\n    },\n    {\n      \"column\": \"calefaccion\",\n      \"properties\": {\n        \"dtype\": \"category\",\n        \"num_unique_values\": 3,\n        \"samples\": [\n          \"electric\",\n          \"hot water/steam\",\n          \"hot air\"\n        ],\n        \"semantic_type\": \"\",\n        \"description\": \"\"\n      }\n    },\n    {\n      \"column\": \"consumo_calefacion\",\n      \"properties\": {\n        \"dtype\": \"category\",\n        \"num_unique_values\": 3,\n        \"samples\": [\n          \"electric\",\n          \"gas\",\n          \"oil\"\n        ],\n        \"semantic_type\": \"\",\n        \"description\": \"\"\n      }\n    },\n    {\n      \"column\": \"desague\",\n      \"properties\": {\n        \"dtype\": \"category\",\n        \"num_unique_values\": 3,\n        \"samples\": [\n          \"septic\",\n          \"public/commercial\",\n          \"none\"\n        ],\n        \"semantic_type\": \"\",\n        \"description\": \"\"\n      }\n    },\n    {\n      \"column\": \"vistas_lago\",\n      \"properties\": {\n        \"dtype\": \"category\",\n        \"num_unique_values\": 2,\n        \"samples\": [\n          \"Yes\",\n          \"No\"\n        ],\n        \"semantic_type\": \"\",\n        \"description\": \"\"\n      }\n    },\n    {\n      \"column\": \"nueva_construccion\",\n      \"properties\": {\n        \"dtype\": \"category\",\n        \"num_unique_values\": 2,\n        \"samples\": [\n          \"Yes\",\n          \"No\"\n        ],\n        \"semantic_type\": \"\",\n        \"description\": \"\"\n      }\n    },\n    {\n      \"column\": \"aire_acondicionado\",\n      \"properties\": {\n        \"dtype\": \"category\",\n        \"num_unique_values\": 2,\n        \"samples\": [\n          \"Yes\",\n          \"No\"\n        ],\n        \"semantic_type\": \"\",\n        \"description\": \"\"\n      }\n    }\n  ]\n}"
            }
          },
          "metadata": {},
          "execution_count": 7
        }
      ]
    },
    {
      "cell_type": "markdown",
      "metadata": {
        "id": "TxrXy6xQQo46"
      },
      "source": [
        "**Se cambian los nombres de las columnas para mejor interpretacion...**"
      ]
    },
    {
      "cell_type": "code",
      "metadata": {
        "id": "k3qqo_6wS0qg"
      },
      "source": [
        "datos.columns = [\"precio\", \"metros_totales\", \"antiguedad\", \"precio_terreno\",\n",
        "                 \"metros_habitables\", \"universitarios\", \"dormitorios\",\n",
        "                 \"chimenea\", \"baños\", \"habitaciones\", \"calefaccion\",\n",
        "                 \"consumo_calefacion\", \"desague\", \"vistas_lago\",\n",
        "                 \"nueva_construccion\", \"aire_acondicionado\"]"
      ],
      "execution_count": 8,
      "outputs": []
    },
    {
      "cell_type": "markdown",
      "metadata": {
        "id": "JOgQW2ethNL0"
      },
      "source": [
        "# **Análisis Exploratorio de los Datos**"
      ]
    },
    {
      "cell_type": "markdown",
      "metadata": {
        "id": "IwEUBYWchiI1"
      },
      "source": [
        "El Análisis Exploratorio de los Datos es  una exploración descriptiva del Conjunto de Datos. Este proceso permite entender  qué información contiene cada variable, así como detectar  errores. Algunos ejemplos frecuentes son:\n",
        "\n",
        "- **Que una columna se haya almacenado con el tipo de dato incorrecto:** una variable numérica está siendo reconocida como texto o viceversa.\n",
        "- **Que una variable contenga valores que no tienen sentido:** por ejemplo, para indicar que no se dispone del precio de una vivienda se introduce el valor 0 o un espacio en blanco.\n",
        "- **Que en una variable de tipo numérico se haya introducido una palabra en lugar de un número.**\n",
        "\n",
        "Además, el Análisis Exploratorio de los Datos puede dar pistas sobre qué variables son adecuadas como predictores en un modelo."
      ]
    },
    {
      "cell_type": "code",
      "metadata": {
        "colab": {
          "base_uri": "https://localhost:8080/",
          "height": 229
        },
        "id": "m1odjErLiboH",
        "outputId": "8e0c440e-e57b-440b-991d-80188c73ff60"
      },
      "source": [
        "datos.head(4)"
      ],
      "execution_count": 9,
      "outputs": [
        {
          "output_type": "execute_result",
          "data": {
            "text/plain": [
              "   precio  metros_totales  antiguedad  precio_terreno  metros_habitables  \\\n",
              "0       0          132500        0.09              42              50000   \n",
              "1       1          181115        0.92               0              22300   \n",
              "2       2          109000        0.19             133               7300   \n",
              "3       3          155000        0.41              13              18700   \n",
              "\n",
              "   universitarios  dormitorios  chimenea  baños  habitaciones  \\\n",
              "0             906           35         2    1.0             5   \n",
              "1            1953           51         3    2.5             6   \n",
              "2            1944           51         4    1.0             8   \n",
              "3            1944           51         3    1.5             5   \n",
              "\n",
              "       calefaccion consumo_calefacion            desague vistas_lago  \\\n",
              "0         electric           electric             septic          No   \n",
              "1  hot water/steam                gas             septic          No   \n",
              "2  hot water/steam                gas  public/commercial          No   \n",
              "3          hot air                gas             septic          No   \n",
              "\n",
              "  nueva_construccion aire_acondicionado  \n",
              "0                 No                 No  \n",
              "1                 No                 No  \n",
              "2                 No                 No  \n",
              "3                 No                 No  "
            ],
            "text/html": [
              "\n",
              "  <div id=\"df-89f61aba-f462-4d8c-8dd7-6e8d0fc9be9b\" class=\"colab-df-container\">\n",
              "    <div>\n",
              "<style scoped>\n",
              "    .dataframe tbody tr th:only-of-type {\n",
              "        vertical-align: middle;\n",
              "    }\n",
              "\n",
              "    .dataframe tbody tr th {\n",
              "        vertical-align: top;\n",
              "    }\n",
              "\n",
              "    .dataframe thead th {\n",
              "        text-align: right;\n",
              "    }\n",
              "</style>\n",
              "<table border=\"1\" class=\"dataframe\">\n",
              "  <thead>\n",
              "    <tr style=\"text-align: right;\">\n",
              "      <th></th>\n",
              "      <th>precio</th>\n",
              "      <th>metros_totales</th>\n",
              "      <th>antiguedad</th>\n",
              "      <th>precio_terreno</th>\n",
              "      <th>metros_habitables</th>\n",
              "      <th>universitarios</th>\n",
              "      <th>dormitorios</th>\n",
              "      <th>chimenea</th>\n",
              "      <th>baños</th>\n",
              "      <th>habitaciones</th>\n",
              "      <th>calefaccion</th>\n",
              "      <th>consumo_calefacion</th>\n",
              "      <th>desague</th>\n",
              "      <th>vistas_lago</th>\n",
              "      <th>nueva_construccion</th>\n",
              "      <th>aire_acondicionado</th>\n",
              "    </tr>\n",
              "  </thead>\n",
              "  <tbody>\n",
              "    <tr>\n",
              "      <th>0</th>\n",
              "      <td>0</td>\n",
              "      <td>132500</td>\n",
              "      <td>0.09</td>\n",
              "      <td>42</td>\n",
              "      <td>50000</td>\n",
              "      <td>906</td>\n",
              "      <td>35</td>\n",
              "      <td>2</td>\n",
              "      <td>1.0</td>\n",
              "      <td>5</td>\n",
              "      <td>electric</td>\n",
              "      <td>electric</td>\n",
              "      <td>septic</td>\n",
              "      <td>No</td>\n",
              "      <td>No</td>\n",
              "      <td>No</td>\n",
              "    </tr>\n",
              "    <tr>\n",
              "      <th>1</th>\n",
              "      <td>1</td>\n",
              "      <td>181115</td>\n",
              "      <td>0.92</td>\n",
              "      <td>0</td>\n",
              "      <td>22300</td>\n",
              "      <td>1953</td>\n",
              "      <td>51</td>\n",
              "      <td>3</td>\n",
              "      <td>2.5</td>\n",
              "      <td>6</td>\n",
              "      <td>hot water/steam</td>\n",
              "      <td>gas</td>\n",
              "      <td>septic</td>\n",
              "      <td>No</td>\n",
              "      <td>No</td>\n",
              "      <td>No</td>\n",
              "    </tr>\n",
              "    <tr>\n",
              "      <th>2</th>\n",
              "      <td>2</td>\n",
              "      <td>109000</td>\n",
              "      <td>0.19</td>\n",
              "      <td>133</td>\n",
              "      <td>7300</td>\n",
              "      <td>1944</td>\n",
              "      <td>51</td>\n",
              "      <td>4</td>\n",
              "      <td>1.0</td>\n",
              "      <td>8</td>\n",
              "      <td>hot water/steam</td>\n",
              "      <td>gas</td>\n",
              "      <td>public/commercial</td>\n",
              "      <td>No</td>\n",
              "      <td>No</td>\n",
              "      <td>No</td>\n",
              "    </tr>\n",
              "    <tr>\n",
              "      <th>3</th>\n",
              "      <td>3</td>\n",
              "      <td>155000</td>\n",
              "      <td>0.41</td>\n",
              "      <td>13</td>\n",
              "      <td>18700</td>\n",
              "      <td>1944</td>\n",
              "      <td>51</td>\n",
              "      <td>3</td>\n",
              "      <td>1.5</td>\n",
              "      <td>5</td>\n",
              "      <td>hot air</td>\n",
              "      <td>gas</td>\n",
              "      <td>septic</td>\n",
              "      <td>No</td>\n",
              "      <td>No</td>\n",
              "      <td>No</td>\n",
              "    </tr>\n",
              "  </tbody>\n",
              "</table>\n",
              "</div>\n",
              "    <div class=\"colab-df-buttons\">\n",
              "\n",
              "  <div class=\"colab-df-container\">\n",
              "    <button class=\"colab-df-convert\" onclick=\"convertToInteractive('df-89f61aba-f462-4d8c-8dd7-6e8d0fc9be9b')\"\n",
              "            title=\"Convert this dataframe to an interactive table.\"\n",
              "            style=\"display:none;\">\n",
              "\n",
              "  <svg xmlns=\"http://www.w3.org/2000/svg\" height=\"24px\" viewBox=\"0 -960 960 960\">\n",
              "    <path d=\"M120-120v-720h720v720H120Zm60-500h600v-160H180v160Zm220 220h160v-160H400v160Zm0 220h160v-160H400v160ZM180-400h160v-160H180v160Zm440 0h160v-160H620v160ZM180-180h160v-160H180v160Zm440 0h160v-160H620v160Z\"/>\n",
              "  </svg>\n",
              "    </button>\n",
              "\n",
              "  <style>\n",
              "    .colab-df-container {\n",
              "      display:flex;\n",
              "      gap: 12px;\n",
              "    }\n",
              "\n",
              "    .colab-df-convert {\n",
              "      background-color: #E8F0FE;\n",
              "      border: none;\n",
              "      border-radius: 50%;\n",
              "      cursor: pointer;\n",
              "      display: none;\n",
              "      fill: #1967D2;\n",
              "      height: 32px;\n",
              "      padding: 0 0 0 0;\n",
              "      width: 32px;\n",
              "    }\n",
              "\n",
              "    .colab-df-convert:hover {\n",
              "      background-color: #E2EBFA;\n",
              "      box-shadow: 0px 1px 2px rgba(60, 64, 67, 0.3), 0px 1px 3px 1px rgba(60, 64, 67, 0.15);\n",
              "      fill: #174EA6;\n",
              "    }\n",
              "\n",
              "    .colab-df-buttons div {\n",
              "      margin-bottom: 4px;\n",
              "    }\n",
              "\n",
              "    [theme=dark] .colab-df-convert {\n",
              "      background-color: #3B4455;\n",
              "      fill: #D2E3FC;\n",
              "    }\n",
              "\n",
              "    [theme=dark] .colab-df-convert:hover {\n",
              "      background-color: #434B5C;\n",
              "      box-shadow: 0px 1px 3px 1px rgba(0, 0, 0, 0.15);\n",
              "      filter: drop-shadow(0px 1px 2px rgba(0, 0, 0, 0.3));\n",
              "      fill: #FFFFFF;\n",
              "    }\n",
              "  </style>\n",
              "\n",
              "    <script>\n",
              "      const buttonEl =\n",
              "        document.querySelector('#df-89f61aba-f462-4d8c-8dd7-6e8d0fc9be9b button.colab-df-convert');\n",
              "      buttonEl.style.display =\n",
              "        google.colab.kernel.accessAllowed ? 'block' : 'none';\n",
              "\n",
              "      async function convertToInteractive(key) {\n",
              "        const element = document.querySelector('#df-89f61aba-f462-4d8c-8dd7-6e8d0fc9be9b');\n",
              "        const dataTable =\n",
              "          await google.colab.kernel.invokeFunction('convertToInteractive',\n",
              "                                                    [key], {});\n",
              "        if (!dataTable) return;\n",
              "\n",
              "        const docLinkHtml = 'Like what you see? Visit the ' +\n",
              "          '<a target=\"_blank\" href=https://colab.research.google.com/notebooks/data_table.ipynb>data table notebook</a>'\n",
              "          + ' to learn more about interactive tables.';\n",
              "        element.innerHTML = '';\n",
              "        dataTable['output_type'] = 'display_data';\n",
              "        await google.colab.output.renderOutput(dataTable, element);\n",
              "        const docLink = document.createElement('div');\n",
              "        docLink.innerHTML = docLinkHtml;\n",
              "        element.appendChild(docLink);\n",
              "      }\n",
              "    </script>\n",
              "  </div>\n",
              "\n",
              "\n",
              "<div id=\"df-67c59aac-74ff-4b33-ad19-e7655050c8f5\">\n",
              "  <button class=\"colab-df-quickchart\" onclick=\"quickchart('df-67c59aac-74ff-4b33-ad19-e7655050c8f5')\"\n",
              "            title=\"Suggest charts\"\n",
              "            style=\"display:none;\">\n",
              "\n",
              "<svg xmlns=\"http://www.w3.org/2000/svg\" height=\"24px\"viewBox=\"0 0 24 24\"\n",
              "     width=\"24px\">\n",
              "    <g>\n",
              "        <path d=\"M19 3H5c-1.1 0-2 .9-2 2v14c0 1.1.9 2 2 2h14c1.1 0 2-.9 2-2V5c0-1.1-.9-2-2-2zM9 17H7v-7h2v7zm4 0h-2V7h2v10zm4 0h-2v-4h2v4z\"/>\n",
              "    </g>\n",
              "</svg>\n",
              "  </button>\n",
              "\n",
              "<style>\n",
              "  .colab-df-quickchart {\n",
              "      --bg-color: #E8F0FE;\n",
              "      --fill-color: #1967D2;\n",
              "      --hover-bg-color: #E2EBFA;\n",
              "      --hover-fill-color: #174EA6;\n",
              "      --disabled-fill-color: #AAA;\n",
              "      --disabled-bg-color: #DDD;\n",
              "  }\n",
              "\n",
              "  [theme=dark] .colab-df-quickchart {\n",
              "      --bg-color: #3B4455;\n",
              "      --fill-color: #D2E3FC;\n",
              "      --hover-bg-color: #434B5C;\n",
              "      --hover-fill-color: #FFFFFF;\n",
              "      --disabled-bg-color: #3B4455;\n",
              "      --disabled-fill-color: #666;\n",
              "  }\n",
              "\n",
              "  .colab-df-quickchart {\n",
              "    background-color: var(--bg-color);\n",
              "    border: none;\n",
              "    border-radius: 50%;\n",
              "    cursor: pointer;\n",
              "    display: none;\n",
              "    fill: var(--fill-color);\n",
              "    height: 32px;\n",
              "    padding: 0;\n",
              "    width: 32px;\n",
              "  }\n",
              "\n",
              "  .colab-df-quickchart:hover {\n",
              "    background-color: var(--hover-bg-color);\n",
              "    box-shadow: 0 1px 2px rgba(60, 64, 67, 0.3), 0 1px 3px 1px rgba(60, 64, 67, 0.15);\n",
              "    fill: var(--button-hover-fill-color);\n",
              "  }\n",
              "\n",
              "  .colab-df-quickchart-complete:disabled,\n",
              "  .colab-df-quickchart-complete:disabled:hover {\n",
              "    background-color: var(--disabled-bg-color);\n",
              "    fill: var(--disabled-fill-color);\n",
              "    box-shadow: none;\n",
              "  }\n",
              "\n",
              "  .colab-df-spinner {\n",
              "    border: 2px solid var(--fill-color);\n",
              "    border-color: transparent;\n",
              "    border-bottom-color: var(--fill-color);\n",
              "    animation:\n",
              "      spin 1s steps(1) infinite;\n",
              "  }\n",
              "\n",
              "  @keyframes spin {\n",
              "    0% {\n",
              "      border-color: transparent;\n",
              "      border-bottom-color: var(--fill-color);\n",
              "      border-left-color: var(--fill-color);\n",
              "    }\n",
              "    20% {\n",
              "      border-color: transparent;\n",
              "      border-left-color: var(--fill-color);\n",
              "      border-top-color: var(--fill-color);\n",
              "    }\n",
              "    30% {\n",
              "      border-color: transparent;\n",
              "      border-left-color: var(--fill-color);\n",
              "      border-top-color: var(--fill-color);\n",
              "      border-right-color: var(--fill-color);\n",
              "    }\n",
              "    40% {\n",
              "      border-color: transparent;\n",
              "      border-right-color: var(--fill-color);\n",
              "      border-top-color: var(--fill-color);\n",
              "    }\n",
              "    60% {\n",
              "      border-color: transparent;\n",
              "      border-right-color: var(--fill-color);\n",
              "    }\n",
              "    80% {\n",
              "      border-color: transparent;\n",
              "      border-right-color: var(--fill-color);\n",
              "      border-bottom-color: var(--fill-color);\n",
              "    }\n",
              "    90% {\n",
              "      border-color: transparent;\n",
              "      border-bottom-color: var(--fill-color);\n",
              "    }\n",
              "  }\n",
              "</style>\n",
              "\n",
              "  <script>\n",
              "    async function quickchart(key) {\n",
              "      const quickchartButtonEl =\n",
              "        document.querySelector('#' + key + ' button');\n",
              "      quickchartButtonEl.disabled = true;  // To prevent multiple clicks.\n",
              "      quickchartButtonEl.classList.add('colab-df-spinner');\n",
              "      try {\n",
              "        const charts = await google.colab.kernel.invokeFunction(\n",
              "            'suggestCharts', [key], {});\n",
              "      } catch (error) {\n",
              "        console.error('Error during call to suggestCharts:', error);\n",
              "      }\n",
              "      quickchartButtonEl.classList.remove('colab-df-spinner');\n",
              "      quickchartButtonEl.classList.add('colab-df-quickchart-complete');\n",
              "    }\n",
              "    (() => {\n",
              "      let quickchartButtonEl =\n",
              "        document.querySelector('#df-67c59aac-74ff-4b33-ad19-e7655050c8f5 button');\n",
              "      quickchartButtonEl.style.display =\n",
              "        google.colab.kernel.accessAllowed ? 'block' : 'none';\n",
              "    })();\n",
              "  </script>\n",
              "</div>\n",
              "\n",
              "    </div>\n",
              "  </div>\n"
            ],
            "application/vnd.google.colaboratory.intrinsic+json": {
              "type": "dataframe",
              "variable_name": "datos",
              "summary": "{\n  \"name\": \"datos\",\n  \"rows\": 1728,\n  \"fields\": [\n    {\n      \"column\": \"precio\",\n      \"properties\": {\n        \"dtype\": \"number\",\n        \"std\": 498,\n        \"min\": 0,\n        \"max\": 1727,\n        \"num_unique_values\": 1728,\n        \"samples\": [\n          599,\n          1201,\n          628\n        ],\n        \"semantic_type\": \"\",\n        \"description\": \"\"\n      }\n    },\n    {\n      \"column\": \"metros_totales\",\n      \"properties\": {\n        \"dtype\": \"number\",\n        \"std\": 98441,\n        \"min\": 5000,\n        \"max\": 775000,\n        \"num_unique_values\": 751,\n        \"samples\": [\n          500000,\n          286000,\n          164400\n        ],\n        \"semantic_type\": \"\",\n        \"description\": \"\"\n      }\n    },\n    {\n      \"column\": \"antiguedad\",\n      \"properties\": {\n        \"dtype\": \"number\",\n        \"std\": 0.6986798788561117,\n        \"min\": 0.0,\n        \"max\": 12.2,\n        \"num_unique_values\": 170,\n        \"samples\": [\n          2.68,\n          1.8,\n          3.68\n        ],\n        \"semantic_type\": \"\",\n        \"description\": \"\"\n      }\n    },\n    {\n      \"column\": \"precio_terreno\",\n      \"properties\": {\n        \"dtype\": \"number\",\n        \"std\": 29,\n        \"min\": 0,\n        \"max\": 225,\n        \"num_unique_values\": 136,\n        \"samples\": [\n          61,\n          125,\n          178\n        ],\n        \"semantic_type\": \"\",\n        \"description\": \"\"\n      }\n    },\n    {\n      \"column\": \"metros_habitables\",\n      \"properties\": {\n        \"dtype\": \"number\",\n        \"std\": 35021,\n        \"min\": 200,\n        \"max\": 412600,\n        \"num_unique_values\": 573,\n        \"samples\": [\n          24700,\n          4000,\n          45800\n        ],\n        \"semantic_type\": \"\",\n        \"description\": \"\"\n      }\n    },\n    {\n      \"column\": \"universitarios\",\n      \"properties\": {\n        \"dtype\": \"number\",\n        \"std\": 619,\n        \"min\": 616,\n        \"max\": 5228,\n        \"num_unique_values\": 877,\n        \"samples\": [\n          1093,\n          1528,\n          2088\n        ],\n        \"semantic_type\": \"\",\n        \"description\": \"\"\n      }\n    },\n    {\n      \"column\": \"dormitorios\",\n      \"properties\": {\n        \"dtype\": \"number\",\n        \"std\": 10,\n        \"min\": 20,\n        \"max\": 82,\n        \"num_unique_values\": 32,\n        \"samples\": [\n          28,\n          30,\n          21\n        ],\n        \"semantic_type\": \"\",\n        \"description\": \"\"\n      }\n    },\n    {\n      \"column\": \"chimenea\",\n      \"properties\": {\n        \"dtype\": \"number\",\n        \"std\": 0,\n        \"min\": 1,\n        \"max\": 7,\n        \"num_unique_values\": 7,\n        \"samples\": [\n          2,\n          3,\n          6\n        ],\n        \"semantic_type\": \"\",\n        \"description\": \"\"\n      }\n    },\n    {\n      \"column\": \"ba\\u00f1os\",\n      \"properties\": {\n        \"dtype\": \"number\",\n        \"std\": 0.6583523976653198,\n        \"min\": 0.0,\n        \"max\": 4.5,\n        \"num_unique_values\": 9,\n        \"samples\": [\n          4.5,\n          2.5,\n          4.0\n        ],\n        \"semantic_type\": \"\",\n        \"description\": \"\"\n      }\n    },\n    {\n      \"column\": \"habitaciones\",\n      \"properties\": {\n        \"dtype\": \"number\",\n        \"std\": 2,\n        \"min\": 2,\n        \"max\": 12,\n        \"num_unique_values\": 11,\n        \"samples\": [\n          12,\n          5,\n          11\n        ],\n        \"semantic_type\": \"\",\n        \"description\": \"\"\n      }\n    },\n    {\n      \"column\": \"calefaccion\",\n      \"properties\": {\n        \"dtype\": \"category\",\n        \"num_unique_values\": 3,\n        \"samples\": [\n          \"electric\",\n          \"hot water/steam\",\n          \"hot air\"\n        ],\n        \"semantic_type\": \"\",\n        \"description\": \"\"\n      }\n    },\n    {\n      \"column\": \"consumo_calefacion\",\n      \"properties\": {\n        \"dtype\": \"category\",\n        \"num_unique_values\": 3,\n        \"samples\": [\n          \"electric\",\n          \"gas\",\n          \"oil\"\n        ],\n        \"semantic_type\": \"\",\n        \"description\": \"\"\n      }\n    },\n    {\n      \"column\": \"desague\",\n      \"properties\": {\n        \"dtype\": \"category\",\n        \"num_unique_values\": 3,\n        \"samples\": [\n          \"septic\",\n          \"public/commercial\",\n          \"none\"\n        ],\n        \"semantic_type\": \"\",\n        \"description\": \"\"\n      }\n    },\n    {\n      \"column\": \"vistas_lago\",\n      \"properties\": {\n        \"dtype\": \"category\",\n        \"num_unique_values\": 2,\n        \"samples\": [\n          \"Yes\",\n          \"No\"\n        ],\n        \"semantic_type\": \"\",\n        \"description\": \"\"\n      }\n    },\n    {\n      \"column\": \"nueva_construccion\",\n      \"properties\": {\n        \"dtype\": \"category\",\n        \"num_unique_values\": 2,\n        \"samples\": [\n          \"Yes\",\n          \"No\"\n        ],\n        \"semantic_type\": \"\",\n        \"description\": \"\"\n      }\n    },\n    {\n      \"column\": \"aire_acondicionado\",\n      \"properties\": {\n        \"dtype\": \"category\",\n        \"num_unique_values\": 2,\n        \"samples\": [\n          \"Yes\",\n          \"No\"\n        ],\n        \"semantic_type\": \"\",\n        \"description\": \"\"\n      }\n    }\n  ]\n}"
            }
          },
          "metadata": {},
          "execution_count": 9
        }
      ]
    },
    {
      "cell_type": "markdown",
      "metadata": {
        "id": "whBbDkNPinSp"
      },
      "source": [
        "## **Tipos de Datos**"
      ]
    },
    {
      "cell_type": "code",
      "metadata": {
        "colab": {
          "base_uri": "https://localhost:8080/"
        },
        "id": "Hll9SGvGisE2",
        "outputId": "9d617915-0884-4c96-842e-f881b9cafd22"
      },
      "source": [
        "datos.info()"
      ],
      "execution_count": 10,
      "outputs": [
        {
          "output_type": "stream",
          "name": "stdout",
          "text": [
            "<class 'pandas.core.frame.DataFrame'>\n",
            "RangeIndex: 1728 entries, 0 to 1727\n",
            "Data columns (total 16 columns):\n",
            " #   Column              Non-Null Count  Dtype  \n",
            "---  ------              --------------  -----  \n",
            " 0   precio              1728 non-null   int64  \n",
            " 1   metros_totales      1728 non-null   int64  \n",
            " 2   antiguedad          1728 non-null   float64\n",
            " 3   precio_terreno      1728 non-null   int64  \n",
            " 4   metros_habitables   1728 non-null   int64  \n",
            " 5   universitarios      1728 non-null   int64  \n",
            " 6   dormitorios         1728 non-null   int64  \n",
            " 7   chimenea            1728 non-null   int64  \n",
            " 8   baños               1728 non-null   float64\n",
            " 9   habitaciones        1728 non-null   int64  \n",
            " 10  calefaccion         1728 non-null   object \n",
            " 11  consumo_calefacion  1728 non-null   object \n",
            " 12  desague             1728 non-null   object \n",
            " 13  vistas_lago         1728 non-null   object \n",
            " 14  nueva_construccion  1728 non-null   object \n",
            " 15  aire_acondicionado  1728 non-null   object \n",
            "dtypes: float64(2), int64(8), object(6)\n",
            "memory usage: 216.1+ KB\n"
          ]
        }
      ]
    },
    {
      "cell_type": "markdown",
      "metadata": {
        "id": "KwnoK1oui8nP"
      },
      "source": [
        "##**Dimensiones del DataFrame y valores ausentes**"
      ]
    },
    {
      "cell_type": "markdown",
      "metadata": {
        "id": "zoI6KJiVjdb5"
      },
      "source": [
        "Se debe conocer el número de observaciones disponibles y si  ellas están completas. Los valores ausentes son muy importantes a la hora de crear modelos, la mayoría de algoritmos no aceptan observaciones incompletas o bien se ven muy influenciados por ellas.\n",
        "\n",
        "***Aunque la imputación de valores ausentes*** es parte del preprocesado y, por lo tanto, debe de aprenderse únicamente con los datos de entrenamiento, su identificación se tiene que realizar antes de separar los datos para asegurar que se establecen todas las estrategias de imputación a utilizar."
      ]
    },
    {
      "cell_type": "code",
      "metadata": {
        "colab": {
          "base_uri": "https://localhost:8080/"
        },
        "id": "qbdod77MjJb_",
        "outputId": "99eb733e-7bb0-479b-f427-ba6ee0aee8dc"
      },
      "source": [
        "datos.shape # Dimensión del DataFrame, 2 dimensiones"
      ],
      "execution_count": 11,
      "outputs": [
        {
          "output_type": "execute_result",
          "data": {
            "text/plain": [
              "(1728, 16)"
            ]
          },
          "metadata": {},
          "execution_count": 11
        }
      ]
    },
    {
      "cell_type": "code",
      "metadata": {
        "colab": {
          "base_uri": "https://localhost:8080/"
        },
        "id": "COdib9W8jPkw",
        "outputId": "288915d5-7842-41e7-c588-3bbf465afa38"
      },
      "source": [
        "datos.size # Cantidad de celdas del DataFrame"
      ],
      "execution_count": 12,
      "outputs": [
        {
          "output_type": "execute_result",
          "data": {
            "text/plain": [
              "27648"
            ]
          },
          "metadata": {},
          "execution_count": 12
        }
      ]
    },
    {
      "cell_type": "code",
      "metadata": {
        "colab": {
          "base_uri": "https://localhost:8080/",
          "height": 585
        },
        "id": "IB5c2ZSCkBM5",
        "outputId": "ed717fb4-69ef-4bb5-8e58-a0e1f68d1023"
      },
      "source": [
        "datos.isna().sum().sort_values() # Cantidad de datos ausentes por variable del DataFrame"
      ],
      "execution_count": 13,
      "outputs": [
        {
          "output_type": "execute_result",
          "data": {
            "text/plain": [
              "precio                0\n",
              "metros_totales        0\n",
              "antiguedad            0\n",
              "precio_terreno        0\n",
              "metros_habitables     0\n",
              "universitarios        0\n",
              "dormitorios           0\n",
              "chimenea              0\n",
              "baños                 0\n",
              "habitaciones          0\n",
              "calefaccion           0\n",
              "consumo_calefacion    0\n",
              "desague               0\n",
              "vistas_lago           0\n",
              "nueva_construccion    0\n",
              "aire_acondicionado    0\n",
              "dtype: int64"
            ],
            "text/html": [
              "<div>\n",
              "<style scoped>\n",
              "    .dataframe tbody tr th:only-of-type {\n",
              "        vertical-align: middle;\n",
              "    }\n",
              "\n",
              "    .dataframe tbody tr th {\n",
              "        vertical-align: top;\n",
              "    }\n",
              "\n",
              "    .dataframe thead th {\n",
              "        text-align: right;\n",
              "    }\n",
              "</style>\n",
              "<table border=\"1\" class=\"dataframe\">\n",
              "  <thead>\n",
              "    <tr style=\"text-align: right;\">\n",
              "      <th></th>\n",
              "      <th>0</th>\n",
              "    </tr>\n",
              "  </thead>\n",
              "  <tbody>\n",
              "    <tr>\n",
              "      <th>precio</th>\n",
              "      <td>0</td>\n",
              "    </tr>\n",
              "    <tr>\n",
              "      <th>metros_totales</th>\n",
              "      <td>0</td>\n",
              "    </tr>\n",
              "    <tr>\n",
              "      <th>antiguedad</th>\n",
              "      <td>0</td>\n",
              "    </tr>\n",
              "    <tr>\n",
              "      <th>precio_terreno</th>\n",
              "      <td>0</td>\n",
              "    </tr>\n",
              "    <tr>\n",
              "      <th>metros_habitables</th>\n",
              "      <td>0</td>\n",
              "    </tr>\n",
              "    <tr>\n",
              "      <th>universitarios</th>\n",
              "      <td>0</td>\n",
              "    </tr>\n",
              "    <tr>\n",
              "      <th>dormitorios</th>\n",
              "      <td>0</td>\n",
              "    </tr>\n",
              "    <tr>\n",
              "      <th>chimenea</th>\n",
              "      <td>0</td>\n",
              "    </tr>\n",
              "    <tr>\n",
              "      <th>baños</th>\n",
              "      <td>0</td>\n",
              "    </tr>\n",
              "    <tr>\n",
              "      <th>habitaciones</th>\n",
              "      <td>0</td>\n",
              "    </tr>\n",
              "    <tr>\n",
              "      <th>calefaccion</th>\n",
              "      <td>0</td>\n",
              "    </tr>\n",
              "    <tr>\n",
              "      <th>consumo_calefacion</th>\n",
              "      <td>0</td>\n",
              "    </tr>\n",
              "    <tr>\n",
              "      <th>desague</th>\n",
              "      <td>0</td>\n",
              "    </tr>\n",
              "    <tr>\n",
              "      <th>vistas_lago</th>\n",
              "      <td>0</td>\n",
              "    </tr>\n",
              "    <tr>\n",
              "      <th>nueva_construccion</th>\n",
              "      <td>0</td>\n",
              "    </tr>\n",
              "    <tr>\n",
              "      <th>aire_acondicionado</th>\n",
              "      <td>0</td>\n",
              "    </tr>\n",
              "  </tbody>\n",
              "</table>\n",
              "</div><br><label><b>dtype:</b> int64</label>"
            ]
          },
          "metadata": {},
          "execution_count": 13
        }
      ]
    },
    {
      "cell_type": "markdown",
      "metadata": {
        "id": "SEUqUqCnkY8L"
      },
      "source": [
        "##**Variable Objetivo o Variable Respuesta**"
      ]
    },
    {
      "cell_type": "markdown",
      "metadata": {
        "id": "7QdTKum2kpDf"
      },
      "source": [
        "Es  importante estudiar la distribución de la variable objetivo o variable respuesta, ya que esta es la variable que interesa predecir.\n",
        "\n",
        "La variable precio tiene una distribución asimétrica positiva debido a que, unas pocas viviendas, tienen un precio muy superior a la media. Este tipo de distribución suele visualizarse mejor tras aplicar logaritmo o raíz cuadrada."
      ]
    },
    {
      "cell_type": "code",
      "metadata": {
        "colab": {
          "base_uri": "https://localhost:8080/",
          "height": 542
        },
        "id": "sy4YPWLQzWgW",
        "outputId": "81ba3203-23f2-43fd-d608-52bbef86ba7f"
      },
      "source": [
        "px.histogram(datos,\n",
        "             x = datos.precio,\n",
        "             title=\"Distribución variable objetivo\",\n",
        "             color_discrete_sequence = [\"red\"], # color\n",
        "             marginal=\"rug\",\n",
        "             template=\"gridon\")"
      ],
      "execution_count": 14,
      "outputs": [
        {
          "output_type": "display_data",
          "data": {
            "text/html": [
              "<html>\n",
              "<head><meta charset=\"utf-8\" /></head>\n",
              "<body>\n",
              "    <div>            <script src=\"https://cdnjs.cloudflare.com/ajax/libs/mathjax/2.7.5/MathJax.js?config=TeX-AMS-MML_SVG\"></script><script type=\"text/javascript\">if (window.MathJax && window.MathJax.Hub && window.MathJax.Hub.Config) {window.MathJax.Hub.Config({SVG: {font: \"STIX-Web\"}});}</script>                <script type=\"text/javascript\">window.PlotlyConfig = {MathJaxConfig: 'local'};</script>\n",
              "        <script charset=\"utf-8\" src=\"https://cdn.plot.ly/plotly-3.0.1.min.js\"></script>                <div id=\"cbd054b6-e5c7-41fd-ab21-a5204a26c33b\" class=\"plotly-graph-div\" style=\"height:525px; width:100%;\"></div>            <script type=\"text/javascript\">                window.PLOTLYENV=window.PLOTLYENV || {};                                if (document.getElementById(\"cbd054b6-e5c7-41fd-ab21-a5204a26c33b\")) {                    Plotly.newPlot(                        \"cbd054b6-e5c7-41fd-ab21-a5204a26c33b\",                        [{\"bingroup\":\"x\",\"hovertemplate\":\"precio=%{x}\\u003cbr\\u003ecount=%{y}\\u003cextra\\u003e\\u003c\\u002fextra\\u003e\",\"legendgroup\":\"\",\"marker\":{\"color\":\"red\",\"pattern\":{\"shape\":\"\"}},\"name\":\"\",\"orientation\":\"v\",\"showlegend\":false,\"x\":{\"dtype\":\"i2\",\"bdata\":\"AAABAAIAAwAEAAUABgAHAAgACQAKAAsADAANAA4ADwAQABEAEgATABQAFQAWABcAGAAZABoAGwAcAB0AHgAfACAAIQAiACMAJAAlACYAJwAoACkAKgArACwALQAuAC8AMAAxADIAMwA0ADUANgA3ADgAOQA6ADsAPAA9AD4APwBAAEEAQgBDAEQARQBGAEcASABJAEoASwBMAE0ATgBPAFAAUQBSAFMAVABVAFYAVwBYAFkAWgBbAFwAXQBeAF8AYABhAGIAYwBkAGUAZgBnAGgAaQBqAGsAbABtAG4AbwBwAHEAcgBzAHQAdQB2AHcAeAB5AHoAewB8AH0AfgB\\u002fAIAAgQCCAIMAhACFAIYAhwCIAIkAigCLAIwAjQCOAI8AkACRAJIAkwCUAJUAlgCXAJgAmQCaAJsAnACdAJ4AnwCgAKEAogCjAKQApQCmAKcAqACpAKoAqwCsAK0ArgCvALAAsQCyALMAtAC1ALYAtwC4ALkAugC7ALwAvQC+AL8AwADBAMIAwwDEAMUAxgDHAMgAyQDKAMsAzADNAM4AzwDQANEA0gDTANQA1QDWANcA2ADZANoA2wDcAN0A3gDfAOAA4QDiAOMA5ADlAOYA5wDoAOkA6gDrAOwA7QDuAO8A8ADxAPIA8wD0APUA9gD3APgA+QD6APsA\\u002fAD9AP4A\\u002fwAAAQEBAgEDAQQBBQEGAQcBCAEJAQoBCwEMAQ0BDgEPARABEQESARMBFAEVARYBFwEYARkBGgEbARwBHQEeAR8BIAEhASIBIwEkASUBJgEnASgBKQEqASsBLAEtAS4BLwEwATEBMgEzATQBNQE2ATcBOAE5AToBOwE8AT0BPgE\\u002fAUABQQFCAUMBRAFFAUYBRwFIAUkBSgFLAUwBTQFOAU8BUAFRAVIBUwFUAVUBVgFXAVgBWQFaAVsBXAFdAV4BXwFgAWEBYgFjAWQBZQFmAWcBaAFpAWoBawFsAW0BbgFvAXABcQFyAXMBdAF1AXYBdwF4AXkBegF7AXwBfQF+AX8BgAGBAYIBgwGEAYUBhgGHAYgBiQGKAYsBjAGNAY4BjwGQAZEBkgGTAZQBlQGWAZcBmAGZAZoBmwGcAZ0BngGfAaABoQGiAaMBpAGlAaYBpwGoAakBqgGrAawBrQGuAa8BsAGxAbIBswG0AbUBtgG3AbgBuQG6AbsBvAG9Ab4BvwHAAcEBwgHDAcQBxQHGAccByAHJAcoBywHMAc0BzgHPAdAB0QHSAdMB1AHVAdYB1wHYAdkB2gHbAdwB3QHeAd8B4AHhAeIB4wHkAeUB5gHnAegB6QHqAesB7AHtAe4B7wHwAfEB8gHzAfQB9QH2AfcB+AH5AfoB+wH8Af0B\\u002fgH\\u002fAQACAQICAgMCBAIFAgYCBwIIAgkCCgILAgwCDQIOAg8CEAIRAhICEwIUAhUCFgIXAhgCGQIaAhsCHAIdAh4CHwIgAiECIgIjAiQCJQImAicCKAIpAioCKwIsAi0CLgIvAjACMQIyAjMCNAI1AjYCNwI4AjkCOgI7AjwCPQI+Aj8CQAJBAkICQwJEAkUCRgJHAkgCSQJKAksCTAJNAk4CTwJQAlECUgJTAlQCVQJWAlcCWAJZAloCWwJcAl0CXgJfAmACYQJiAmMCZAJlAmYCZwJoAmkCagJrAmwCbQJuAm8CcAJxAnICcwJ0AnUCdgJ3AngCeQJ6AnsCfAJ9An4CfwKAAoECggKDAoQChQKGAocCiAKJAooCiwKMAo0CjgKPApACkQKSApMClAKVApYClwKYApkCmgKbApwCnQKeAp8CoAKhAqICowKkAqUCpgKnAqgCqQKqAqsCrAKtAq4CrwKwArECsgKzArQCtQK2ArcCuAK5AroCuwK8Ar0CvgK\\u002fAsACwQLCAsMCxALFAsYCxwLIAskCygLLAswCzQLOAs8C0ALRAtIC0wLUAtUC1gLXAtgC2QLaAtsC3ALdAt4C3wLgAuEC4gLjAuQC5QLmAucC6ALpAuoC6wLsAu0C7gLvAvAC8QLyAvMC9AL1AvYC9wL4AvkC+gL7AvwC\\u002fQL+Av8CAAMBAwIDAwMEAwUDBgMHAwgDCQMKAwsDDAMNAw4DDwMQAxEDEgMTAxQDFQMWAxcDGAMZAxoDGwMcAx0DHgMfAyADIQMiAyMDJAMlAyYDJwMoAykDKgMrAywDLQMuAy8DMAMxAzIDMwM0AzUDNgM3AzgDOQM6AzsDPAM9Az4DPwNAA0EDQgNDA0QDRQNGA0cDSANJA0oDSwNMA00DTgNPA1ADUQNSA1MDVANVA1YDVwNYA1kDWgNbA1wDXQNeA18DYANhA2IDYwNkA2UDZgNnA2gDaQNqA2sDbANtA24DbwNwA3EDcgNzA3QDdQN2A3cDeAN5A3oDewN8A30DfgN\\u002fA4ADgQOCA4MDhAOFA4YDhwOIA4kDigOLA4wDjQOOA48DkAORA5IDkwOUA5UDlgOXA5gDmQOaA5sDnAOdA54DnwOgA6EDogOjA6QDpQOmA6cDqAOpA6oDqwOsA60DrgOvA7ADsQOyA7MDtAO1A7YDtwO4A7kDugO7A7wDvQO+A78DwAPBA8IDwwPEA8UDxgPHA8gDyQPKA8sDzAPNA84DzwPQA9ED0gPTA9QD1QPWA9cD2APZA9oD2wPcA90D3gPfA+AD4QPiA+MD5APlA+YD5wPoA+kD6gPrA+wD7QPuA+8D8APxA\\u002fID8wP0A\\u002fUD9gP3A\\u002fgD+QP6A\\u002fsD\\u002fAP9A\\u002f4D\\u002fwMABAEEAgQDBAQEBQQGBAcECAQJBAoECwQMBA0EDgQPBBAEEQQSBBMEFAQVBBYEFwQYBBkEGgQbBBwEHQQeBB8EIAQhBCIEIwQkBCUEJgQnBCgEKQQqBCsELAQtBC4ELwQwBDEEMgQzBDQENQQ2BDcEOAQ5BDoEOwQ8BD0EPgQ\\u002fBEAEQQRCBEMERARFBEYERwRIBEkESgRLBEwETQROBE8EUARRBFIEUwRUBFUEVgRXBFgEWQRaBFsEXARdBF4EXwRgBGEEYgRjBGQEZQRmBGcEaARpBGoEawRsBG0EbgRvBHAEcQRyBHMEdAR1BHYEdwR4BHkEegR7BHwEfQR+BH8EgASBBIIEgwSEBIUEhgSHBIgEiQSKBIsEjASNBI4EjwSQBJEEkgSTBJQElQSWBJcEmASZBJoEmwScBJ0EngSfBKAEoQSiBKMEpASlBKYEpwSoBKkEqgSrBKwErQSuBK8EsASxBLIEswS0BLUEtgS3BLgEuQS6BLsEvAS9BL4EvwTABMEEwgTDBMQExQTGBMcEyATJBMoEywTMBM0EzgTPBNAE0QTSBNME1ATVBNYE1wTYBNkE2gTbBNwE3QTeBN8E4AThBOIE4wTkBOUE5gTnBOgE6QTqBOsE7ATtBO4E7wTwBPEE8gTzBPQE9QT2BPcE+AT5BPoE+wT8BP0E\\u002fgT\\u002fBAAFAQUCBQMFBAUFBQYFBwUIBQkFCgULBQwFDQUOBQ8FEAURBRIFEwUUBRUFFgUXBRgFGQUaBRsFHAUdBR4FHwUgBSEFIgUjBSQFJQUmBScFKAUpBSoFKwUsBS0FLgUvBTAFMQUyBTMFNAU1BTYFNwU4BTkFOgU7BTwFPQU+BT8FQAVBBUIFQwVEBUUFRgVHBUgFSQVKBUsFTAVNBU4FTwVQBVEFUgVTBVQFVQVWBVcFWAVZBVoFWwVcBV0FXgVfBWAFYQViBWMFZAVlBWYFZwVoBWkFagVrBWwFbQVuBW8FcAVxBXIFcwV0BXUFdgV3BXgFeQV6BXsFfAV9BX4FfwWABYEFggWDBYQFhQWGBYcFiAWJBYoFiwWMBY0FjgWPBZAFkQWSBZMFlAWVBZYFlwWYBZkFmgWbBZwFnQWeBZ8FoAWhBaIFowWkBaUFpgWnBagFqQWqBasFrAWtBa4FrwWwBbEFsgWzBbQFtQW2BbcFuAW5BboFuwW8Bb0FvgW\\u002fBcAFwQXCBcMFxAXFBcYFxwXIBckFygXLBcwFzQXOBc8F0AXRBdIF0wXUBdUF1gXXBdgF2QXaBdsF3AXdBd4F3wXgBeEF4gXjBeQF5QXmBecF6AXpBeoF6wXsBe0F7gXvBfAF8QXyBfMF9AX1BfYF9wX4BfkF+gX7BfwF\\u002fQX+Bf8FAAYBBgIGAwYEBgUGBgYHBggGCQYKBgsGDAYNBg4GDwYQBhEGEgYTBhQGFQYWBhcGGAYZBhoGGwYcBh0GHgYfBiAGIQYiBiMGJAYlBiYGJwYoBikGKgYrBiwGLQYuBi8GMAYxBjIGMwY0BjUGNgY3BjgGOQY6BjsGPAY9Bj4GPwZABkEGQgZDBkQGRQZGBkcGSAZJBkoGSwZMBk0GTgZPBlAGUQZSBlMGVAZVBlYGVwZYBlkGWgZbBlwGXQZeBl8GYAZhBmIGYwZkBmUGZgZnBmgGaQZqBmsGbAZtBm4GbwZwBnEGcgZzBnQGdQZ2BncGeAZ5BnoGewZ8Bn0GfgZ\\u002fBoAGgQaCBoMGhAaFBoYGhwaIBokGigaLBowGjQaOBo8GkAaRBpIGkwaUBpUGlgaXBpgGmQaaBpsGnAadBp4GnwagBqEGogajBqQGpQamBqcGqAapBqoGqwasBq0GrgavBrAGsQayBrMGtAa1BrYGtwa4BrkGuga7BrwGvQa+Br8G\"},\"xaxis\":\"x\",\"yaxis\":\"y\",\"type\":\"histogram\"},{\"boxpoints\":\"all\",\"fillcolor\":\"rgba(255,255,255,0)\",\"hoveron\":\"points\",\"hovertemplate\":\"precio=%{x}\\u003cextra\\u003e\\u003c\\u002fextra\\u003e\",\"jitter\":0,\"legendgroup\":\"\",\"line\":{\"color\":\"rgba(255,255,255,0)\"},\"marker\":{\"color\":\"red\",\"symbol\":\"line-ns-open\"},\"name\":\"\",\"showlegend\":false,\"x\":{\"dtype\":\"i2\",\"bdata\":\"AAABAAIAAwAEAAUABgAHAAgACQAKAAsADAANAA4ADwAQABEAEgATABQAFQAWABcAGAAZABoAGwAcAB0AHgAfACAAIQAiACMAJAAlACYAJwAoACkAKgArACwALQAuAC8AMAAxADIAMwA0ADUANgA3ADgAOQA6ADsAPAA9AD4APwBAAEEAQgBDAEQARQBGAEcASABJAEoASwBMAE0ATgBPAFAAUQBSAFMAVABVAFYAVwBYAFkAWgBbAFwAXQBeAF8AYABhAGIAYwBkAGUAZgBnAGgAaQBqAGsAbABtAG4AbwBwAHEAcgBzAHQAdQB2AHcAeAB5AHoAewB8AH0AfgB\\u002fAIAAgQCCAIMAhACFAIYAhwCIAIkAigCLAIwAjQCOAI8AkACRAJIAkwCUAJUAlgCXAJgAmQCaAJsAnACdAJ4AnwCgAKEAogCjAKQApQCmAKcAqACpAKoAqwCsAK0ArgCvALAAsQCyALMAtAC1ALYAtwC4ALkAugC7ALwAvQC+AL8AwADBAMIAwwDEAMUAxgDHAMgAyQDKAMsAzADNAM4AzwDQANEA0gDTANQA1QDWANcA2ADZANoA2wDcAN0A3gDfAOAA4QDiAOMA5ADlAOYA5wDoAOkA6gDrAOwA7QDuAO8A8ADxAPIA8wD0APUA9gD3APgA+QD6APsA\\u002fAD9AP4A\\u002fwAAAQEBAgEDAQQBBQEGAQcBCAEJAQoBCwEMAQ0BDgEPARABEQESARMBFAEVARYBFwEYARkBGgEbARwBHQEeAR8BIAEhASIBIwEkASUBJgEnASgBKQEqASsBLAEtAS4BLwEwATEBMgEzATQBNQE2ATcBOAE5AToBOwE8AT0BPgE\\u002fAUABQQFCAUMBRAFFAUYBRwFIAUkBSgFLAUwBTQFOAU8BUAFRAVIBUwFUAVUBVgFXAVgBWQFaAVsBXAFdAV4BXwFgAWEBYgFjAWQBZQFmAWcBaAFpAWoBawFsAW0BbgFvAXABcQFyAXMBdAF1AXYBdwF4AXkBegF7AXwBfQF+AX8BgAGBAYIBgwGEAYUBhgGHAYgBiQGKAYsBjAGNAY4BjwGQAZEBkgGTAZQBlQGWAZcBmAGZAZoBmwGcAZ0BngGfAaABoQGiAaMBpAGlAaYBpwGoAakBqgGrAawBrQGuAa8BsAGxAbIBswG0AbUBtgG3AbgBuQG6AbsBvAG9Ab4BvwHAAcEBwgHDAcQBxQHGAccByAHJAcoBywHMAc0BzgHPAdAB0QHSAdMB1AHVAdYB1wHYAdkB2gHbAdwB3QHeAd8B4AHhAeIB4wHkAeUB5gHnAegB6QHqAesB7AHtAe4B7wHwAfEB8gHzAfQB9QH2AfcB+AH5AfoB+wH8Af0B\\u002fgH\\u002fAQACAQICAgMCBAIFAgYCBwIIAgkCCgILAgwCDQIOAg8CEAIRAhICEwIUAhUCFgIXAhgCGQIaAhsCHAIdAh4CHwIgAiECIgIjAiQCJQImAicCKAIpAioCKwIsAi0CLgIvAjACMQIyAjMCNAI1AjYCNwI4AjkCOgI7AjwCPQI+Aj8CQAJBAkICQwJEAkUCRgJHAkgCSQJKAksCTAJNAk4CTwJQAlECUgJTAlQCVQJWAlcCWAJZAloCWwJcAl0CXgJfAmACYQJiAmMCZAJlAmYCZwJoAmkCagJrAmwCbQJuAm8CcAJxAnICcwJ0AnUCdgJ3AngCeQJ6AnsCfAJ9An4CfwKAAoECggKDAoQChQKGAocCiAKJAooCiwKMAo0CjgKPApACkQKSApMClAKVApYClwKYApkCmgKbApwCnQKeAp8CoAKhAqICowKkAqUCpgKnAqgCqQKqAqsCrAKtAq4CrwKwArECsgKzArQCtQK2ArcCuAK5AroCuwK8Ar0CvgK\\u002fAsACwQLCAsMCxALFAsYCxwLIAskCygLLAswCzQLOAs8C0ALRAtIC0wLUAtUC1gLXAtgC2QLaAtsC3ALdAt4C3wLgAuEC4gLjAuQC5QLmAucC6ALpAuoC6wLsAu0C7gLvAvAC8QLyAvMC9AL1AvYC9wL4AvkC+gL7AvwC\\u002fQL+Av8CAAMBAwIDAwMEAwUDBgMHAwgDCQMKAwsDDAMNAw4DDwMQAxEDEgMTAxQDFQMWAxcDGAMZAxoDGwMcAx0DHgMfAyADIQMiAyMDJAMlAyYDJwMoAykDKgMrAywDLQMuAy8DMAMxAzIDMwM0AzUDNgM3AzgDOQM6AzsDPAM9Az4DPwNAA0EDQgNDA0QDRQNGA0cDSANJA0oDSwNMA00DTgNPA1ADUQNSA1MDVANVA1YDVwNYA1kDWgNbA1wDXQNeA18DYANhA2IDYwNkA2UDZgNnA2gDaQNqA2sDbANtA24DbwNwA3EDcgNzA3QDdQN2A3cDeAN5A3oDewN8A30DfgN\\u002fA4ADgQOCA4MDhAOFA4YDhwOIA4kDigOLA4wDjQOOA48DkAORA5IDkwOUA5UDlgOXA5gDmQOaA5sDnAOdA54DnwOgA6EDogOjA6QDpQOmA6cDqAOpA6oDqwOsA60DrgOvA7ADsQOyA7MDtAO1A7YDtwO4A7kDugO7A7wDvQO+A78DwAPBA8IDwwPEA8UDxgPHA8gDyQPKA8sDzAPNA84DzwPQA9ED0gPTA9QD1QPWA9cD2APZA9oD2wPcA90D3gPfA+AD4QPiA+MD5APlA+YD5wPoA+kD6gPrA+wD7QPuA+8D8APxA\\u002fID8wP0A\\u002fUD9gP3A\\u002fgD+QP6A\\u002fsD\\u002fAP9A\\u002f4D\\u002fwMABAEEAgQDBAQEBQQGBAcECAQJBAoECwQMBA0EDgQPBBAEEQQSBBMEFAQVBBYEFwQYBBkEGgQbBBwEHQQeBB8EIAQhBCIEIwQkBCUEJgQnBCgEKQQqBCsELAQtBC4ELwQwBDEEMgQzBDQENQQ2BDcEOAQ5BDoEOwQ8BD0EPgQ\\u002fBEAEQQRCBEMERARFBEYERwRIBEkESgRLBEwETQROBE8EUARRBFIEUwRUBFUEVgRXBFgEWQRaBFsEXARdBF4EXwRgBGEEYgRjBGQEZQRmBGcEaARpBGoEawRsBG0EbgRvBHAEcQRyBHMEdAR1BHYEdwR4BHkEegR7BHwEfQR+BH8EgASBBIIEgwSEBIUEhgSHBIgEiQSKBIsEjASNBI4EjwSQBJEEkgSTBJQElQSWBJcEmASZBJoEmwScBJ0EngSfBKAEoQSiBKMEpASlBKYEpwSoBKkEqgSrBKwErQSuBK8EsASxBLIEswS0BLUEtgS3BLgEuQS6BLsEvAS9BL4EvwTABMEEwgTDBMQExQTGBMcEyATJBMoEywTMBM0EzgTPBNAE0QTSBNME1ATVBNYE1wTYBNkE2gTbBNwE3QTeBN8E4AThBOIE4wTkBOUE5gTnBOgE6QTqBOsE7ATtBO4E7wTwBPEE8gTzBPQE9QT2BPcE+AT5BPoE+wT8BP0E\\u002fgT\\u002fBAAFAQUCBQMFBAUFBQYFBwUIBQkFCgULBQwFDQUOBQ8FEAURBRIFEwUUBRUFFgUXBRgFGQUaBRsFHAUdBR4FHwUgBSEFIgUjBSQFJQUmBScFKAUpBSoFKwUsBS0FLgUvBTAFMQUyBTMFNAU1BTYFNwU4BTkFOgU7BTwFPQU+BT8FQAVBBUIFQwVEBUUFRgVHBUgFSQVKBUsFTAVNBU4FTwVQBVEFUgVTBVQFVQVWBVcFWAVZBVoFWwVcBV0FXgVfBWAFYQViBWMFZAVlBWYFZwVoBWkFagVrBWwFbQVuBW8FcAVxBXIFcwV0BXUFdgV3BXgFeQV6BXsFfAV9BX4FfwWABYEFggWDBYQFhQWGBYcFiAWJBYoFiwWMBY0FjgWPBZAFkQWSBZMFlAWVBZYFlwWYBZkFmgWbBZwFnQWeBZ8FoAWhBaIFowWkBaUFpgWnBagFqQWqBasFrAWtBa4FrwWwBbEFsgWzBbQFtQW2BbcFuAW5BboFuwW8Bb0FvgW\\u002fBcAFwQXCBcMFxAXFBcYFxwXIBckFygXLBcwFzQXOBc8F0AXRBdIF0wXUBdUF1gXXBdgF2QXaBdsF3AXdBd4F3wXgBeEF4gXjBeQF5QXmBecF6AXpBeoF6wXsBe0F7gXvBfAF8QXyBfMF9AX1BfYF9wX4BfkF+gX7BfwF\\u002fQX+Bf8FAAYBBgIGAwYEBgUGBgYHBggGCQYKBgsGDAYNBg4GDwYQBhEGEgYTBhQGFQYWBhcGGAYZBhoGGwYcBh0GHgYfBiAGIQYiBiMGJAYlBiYGJwYoBikGKgYrBiwGLQYuBi8GMAYxBjIGMwY0BjUGNgY3BjgGOQY6BjsGPAY9Bj4GPwZABkEGQgZDBkQGRQZGBkcGSAZJBkoGSwZMBk0GTgZPBlAGUQZSBlMGVAZVBlYGVwZYBlkGWgZbBlwGXQZeBl8GYAZhBmIGYwZkBmUGZgZnBmgGaQZqBmsGbAZtBm4GbwZwBnEGcgZzBnQGdQZ2BncGeAZ5BnoGewZ8Bn0GfgZ\\u002fBoAGgQaCBoMGhAaFBoYGhwaIBokGigaLBowGjQaOBo8GkAaRBpIGkwaUBpUGlgaXBpgGmQaaBpsGnAadBp4GnwagBqEGogajBqQGpQamBqcGqAapBqoGqwasBq0GrgavBrAGsQayBrMGtAa1BrYGtwa4BrkGuga7BrwGvQa+Br8G\"},\"xaxis\":\"x2\",\"yaxis\":\"y2\",\"type\":\"box\"}],                        {\"template\":{\"data\":{\"pie\":[{\"automargin\":true,\"type\":\"pie\"}]},\"layout\":{\"xaxis\":{\"showgrid\":true,\"title\":{\"standoff\":15}},\"yaxis\":{\"showgrid\":true,\"title\":{\"standoff\":15}}}},\"xaxis\":{\"anchor\":\"y\",\"domain\":[0.0,1.0],\"title\":{\"text\":\"precio\"}},\"yaxis\":{\"anchor\":\"x\",\"domain\":[0.0,0.8316],\"title\":{\"text\":\"count\"}},\"xaxis2\":{\"anchor\":\"y2\",\"domain\":[0.0,1.0],\"matches\":\"x\",\"showticklabels\":false},\"yaxis2\":{\"anchor\":\"x2\",\"domain\":[0.8416,1.0],\"matches\":\"y2\",\"showticklabels\":false,\"showline\":false,\"ticks\":\"\"},\"legend\":{\"tracegroupgap\":0},\"title\":{\"text\":\"Distribución variable objetivo\"},\"barmode\":\"relative\"},                        {\"responsive\": true}                    ).then(function(){\n",
              "                            \n",
              "var gd = document.getElementById('cbd054b6-e5c7-41fd-ab21-a5204a26c33b');\n",
              "var x = new MutationObserver(function (mutations, observer) {{\n",
              "        var display = window.getComputedStyle(gd).display;\n",
              "        if (!display || display === 'none') {{\n",
              "            console.log([gd, 'removed!']);\n",
              "            Plotly.purge(gd);\n",
              "            observer.disconnect();\n",
              "        }}\n",
              "}});\n",
              "\n",
              "// Listen for the removal of the full notebook cells\n",
              "var notebookContainer = gd.closest('#notebook-container');\n",
              "if (notebookContainer) {{\n",
              "    x.observe(notebookContainer, {childList: true});\n",
              "}}\n",
              "\n",
              "// Listen for the clearing of the current output cell\n",
              "var outputEl = gd.closest('.output');\n",
              "if (outputEl) {{\n",
              "    x.observe(outputEl, {childList: true});\n",
              "}}\n",
              "\n",
              "                        })                };            </script>        </div>\n",
              "</body>\n",
              "</html>"
            ]
          },
          "metadata": {}
        }
      ]
    },
    {
      "cell_type": "code",
      "metadata": {
        "colab": {
          "base_uri": "https://localhost:8080/",
          "height": 542
        },
        "id": "0nh9RIiq0BgQ",
        "outputId": "ce271e71-aea6-4b14-9081-f75cfd9eb5ee"
      },
      "source": [
        "px.histogram(datos,\n",
        "             x = np.sqrt(datos.precio),\n",
        "             title=\"Transformación raíz cuadrada\",\n",
        "             color_discrete_sequence = [\"green\"], # color\n",
        "             marginal=\"rug\",\n",
        "             template=\"gridon\")"
      ],
      "execution_count": 15,
      "outputs": [
        {
          "output_type": "display_data",
          "data": {
            "text/html": [
              "<html>\n",
              "<head><meta charset=\"utf-8\" /></head>\n",
              "<body>\n",
              "    <div>            <script src=\"https://cdnjs.cloudflare.com/ajax/libs/mathjax/2.7.5/MathJax.js?config=TeX-AMS-MML_SVG\"></script><script type=\"text/javascript\">if (window.MathJax && window.MathJax.Hub && window.MathJax.Hub.Config) {window.MathJax.Hub.Config({SVG: {font: \"STIX-Web\"}});}</script>                <script type=\"text/javascript\">window.PlotlyConfig = {MathJaxConfig: 'local'};</script>\n",
              "        <script charset=\"utf-8\" src=\"https://cdn.plot.ly/plotly-3.0.1.min.js\"></script>                <div id=\"e0ba1d1e-7e5d-4f27-b955-16333b16c955\" class=\"plotly-graph-div\" style=\"height:525px; width:100%;\"></div>            <script type=\"text/javascript\">                window.PLOTLYENV=window.PLOTLYENV || {};                                if (document.getElementById(\"e0ba1d1e-7e5d-4f27-b955-16333b16c955\")) {                    Plotly.newPlot(                        \"e0ba1d1e-7e5d-4f27-b955-16333b16c955\",                        [{\"bingroup\":\"x\",\"hovertemplate\":\"x=%{x}\\u003cbr\\u003ecount=%{y}\\u003cextra\\u003e\\u003c\\u002fextra\\u003e\",\"legendgroup\":\"\",\"marker\":{\"color\":\"green\",\"pattern\":{\"shape\":\"\"}},\"name\":\"\",\"orientation\":\"v\",\"showlegend\":false,\"x\":{\"dtype\":\"f8\",\"bdata\":\"AAAAAAAAAAAAAAAAAADwP807f2aeoPY\\u002fqkxY6Hq2+z8AAAAAAAAAQKj0l5t34wFALiEJFI6YA0Dq+NKpfyoFQM07f2aeoAZAAAAAAAAACEBTW9o6WEwJQDRv\\u002fZNyiApAqkxY6Hq2C0DzWWFEK9gMQEk\\u002faBHq7g1A2k5Psd77DkAAAAAAAAAQQAftr2YPfhBA2WzfzHb4EED5TWQ0g28RQKj0l5t34xFAhR4VuY5UEkCnVlRZ\\u002fMISQBYEd3XuLhNALiEJFI6YE0AAAAAAAAAUQPYvEl9lZRRAgDlCLtzIFEDq+NKpfyoVQPPZqKRoihVAj6U20q3oFUDDwWgFZEUWQM07f2aeoBZA8NBioW76FkCio7MN5VIXQC3Ck9EQqhdAAAAAAAAAGEA53GOzv1QYQFkG9yRcqBhAitNaweD6GEBTW9o6WEwZQAD\\u002fn5nMnBlAZBImSkfsGUBgoR0q0ToaQDRv\\u002fZNyiBpA\\u002fO5jaTPVGkAj0HAcGyEbQOaTNbgwbBtAqkxY6Hq2G0AAAAAAAAAcQMAKHwDGSBxAzkMtndKQHEDzWWFEK9gcQOn7diDVHh1AxrENHtVkHUDY4arvL6odQEk\\u002faBHq7h1AXM9WzAczHkBwxJ05jXYeQNueW0V+uR5A2k5Psd77HkBodE4Xsj0fQBJPjev7fh9AX3W8fr+\\u002fH0AAAAAAAAAgQNC6YT\\u002fgHyBADLg29oE\\u002fIECL1PqO5l4gQAftr2YPfiBACdCOzf2cIEDbr6wHs7sgQAb7lU0w2iBA2WzfzHb4IECjFK6ohxYhQE4BN\\u002fpjNCFA6y830QxSIUD5TWQ0g28hQOPT1iHIjCFABPFtj9ypIUBwuC1rwcYhQKj0l5t34yFAAAAAAAAAIkAk+NlwWxwiQCicBcCKOCJAhR4VuY5UIkCaLpAhaHAiQDR4M7kXjCJA5tIsOp6nIkCnVlRZ\\u002fMIiQEGHYsYy3iJAfsQjLEL5IkCrKakwKxQjQBYEd3XuLiNAQAWxl4xJI0AGU0QwBmQjQKGVD9RbfiNALiEJFI6YI0BiVmN9nbIjQFNUr5mKzCNAZxP+7lXmI0AAAAAAAAAkQPApI0yJGSRAehywT\\u002fIyJEBTceWDO0wkQPYvEl9lZSRAiQmvVHB+JECIgHbVXJckQIgKfE8rsCRAgDlCLtzIJEA3+c\\u002fab+EkQLPsxLvm+SRA4PZsNUESJUDq+NKpfyolQDbQ0niiQiVAWp0qAKpaJUDYXIublnIlQPPZqKRoiiVAdwNJcyCiJUDaqVJdvrklQMWt27ZC0SVAj6U20q3oJUAAAAAAAAAmQEiqKo85FyZAvj4MzVouJkDDwWgFZEUmQNLxfYJVXCZAdy8OjS9zJkDQAWts8okmQM07f2aeoCZASMbYvzO3JkDrErK7ss0mQHU7+5sb5CZA8NBioW76JkAyXl4LrBAnQL6gMhjUJidAI3v7BOc8J0Cio7MN5VInQOARPG3OaCdAQy5jXaN+J0BsxesWZJQnQC3Ck9EQqidAQLAaxKm\\u002fJ0DpCUgkL9UnQIRS8Sah6idAAAAAAAAAKEAmNXfiSxUoQGxOeQCFKihAFUNNi6s\\u002fKEA53GOzv1QoQEbDXKjBaShAemkLmbF+KEDByXuzj5MoQFkG9yRcqChAiuMHGhe9KECsIH++wNEoQLiwdz1Z5ihAitNaweD6KEDkEORzVw8pQE0WJX69IylAxXiJCBM4KUBTW9o6WEwpQEv7QTyNYClARiNPM7J0KUCShfhFx4gpQAD\\u002fn5nMnClAzsIVU8KwKUB3cJuWqMQpQCIU54d\\u002f2ClAZBImSkfsKUAAAAAAAAAqQFFmmcupEypA9XSWzkQnKkBgoR0q0ToqQN402v5OTipAl8n+bL5hKkAkt0eUH3UqQDRv\\u002fZNyiCpAvMr2irebKkA4SJuX7q4qQGY75dcXwipA\\u002fO5jaTPVKkC0uD1pQegqQC4AMvRB+ypA9TibJjUOK0Aj0HAcGyErQO8NSfHzMytAietawL9GK0Cj3X+kflkrQOaTNbgwbCtAyK2fFdZ+K0DsZInWbpErQHwtZxT7oytAqkxY6Hq2K0C5ZShr7sgrQLz9ULVV2ytAYfb63rDtK0AAAAAAAAAsQCkD7C9DEixA+oH+hXokLEBo8SsZpjYsQMAKHwDGSCxAkxU6UdpaLEA\\u002fKpgi42wsQExtDorgfixAzkMtndKQLED3gEFxuaIsQBeNVRuVtCxAIoYysGXGLEDzWWFEK9gsQIDaK+zl6SxADMydu5X7LECk7YXGOg0tQOn7diDVHi1AZ67I3GQwLUCRr5gO6kEtQIaPy8hkUy1AxrENHtVkLUDvNdQgO3YtQLLbXeOWhy1AB+Kzd+iYLUDY4arvL6otQC+k41xtuy1ACPTL0KDMLUDoa59cyt0tQEk\\u002faBHq7i1AAAAAAAAALkCvXxA5DBEuQGDtE80OIi5AXM9WzAczLkBbefdG90MuQB5f50zdVC5AjqPr7bllLkBwxJ05jXYuQMVCbD9Xhy5A8kebDhiYLkCrR0W2z6guQNueW0V+uS5Acy+nyiPKLkBM+chUwNouQCiwOvJT6y5A2k5Psd77LkCzpzOgYAwvQDny7szZHC9AQFZjRUotL0BodE4Xsj0vQCbsSVARTi9ARN\\u002fL\\u002fWdeL0ANcycttm4vQBJPjev7fi9AqBkMRjmPL0An8pBJbp8vQPLo5wKbry9AX3W8fr+\\u002fL0B96ZnJ288vQNbj6+\\u002fv3y9AH7\\u002f+\\u002ffvvL0AAAAAAAAAwQHBg\\u002fwD+BzBA6w32B\\u002fgPMEBjyc0a7hcwQNC6YT\\u002fgHzBAdqN+e84nMEBID+PUuC8wQHCFP1GfNzBADLg29oE\\u002fMEAQs13JYEcwQGQKPNA7TzBANgdMEBNXMECL1PqO5l4wQA+rqFG2ZjBAK\\u002fyoXYJuMEBmnEK4SnYwQAftr2YPfjBAFwUfbtCFMECq2bHTjY0wQIFlfpxHlTBACdCOzf2cMEC5k+FrsKQwQMijaXxfrDBAU5EOBAu0MEDbr6wHs7swQD45FYxXwzBADXEOlvjKMEBex1MqltIwQAb7lU0w2jBAUTt7BMfhMEAsSZ9TWukwQM6Xkz\\u002fq8DBA2WzfzHb4MEAAAAAAAAAxQCmaaN2FBzFAGLSCaQgPMUCjFK6ohxYxQGbuQJ8DHjFACf2HUXwlMUATosbD8SwxQE4BN\\u002fpjNDFAtBwK+dI7MUD772fEPkMxQLCLb2CnSjFA6y830QxSMUCbZswab1kxQHQdNEHOYDFAcb9qSCpoMUD5TWQ0g28xQKh5DAnZdjFAubpGyit+MUANae57e4UxQOPT1iHIjDFAL1nLvxGUMUCffI9ZWJsxQEn+3vKbojFABPFtj9ypMUBs0OgyGrExQKCW9OBUuDFAotEunYy\\u002fMUBwuC1rwcYxQNU\\u002fgE7zzTFA4S6uSiLVMUAoMzhjTtwxQKj0l5t34zFAbylA953qMUD\\u002fqJx5wfExQGF\\u002fEibi+DFAAAAAAAAAMkA42LwKGwcyQKkhmkkzDjJARXTiv0gVMkAk+NlwWxwyQBF3vl9rIzJA5W3Hj3gqMkCaHSYEgzEyQCicBcCKODJAK+WKxo8\\u002fMkBJ6tQakkYyQGCj\\u002fL+RTTJAhR4VuY5UMkC\\u002fjysJiVsyQJZgR7OAYjJAaz9qunVpMkCaLpAhaHAyQGiTr+tXdzJAw0S5G0V+MkDNmZi0L4UyQDR4M7kXjDJAYmJqLP2SMkB1hRgR4JkyQAvHE2rAoDJA5tIsOp6nMkBYKC+Eea4yQI4n4UpStTJApx4EkSi8MkCnVlRZ\\u002fMIyQDUgiabNyTJAPuBUe5zQMkBjHGXaaNcyQEGHYsYy3jJAmwzxQfrkMkBL3a9Pv+syQB17OfKB8jJAfsQjLEL5MkAAAAAAAAAzQMPnWnC7BjNAtbS8f3QNM0CrKakwKxQzQF6en4XfGjNAQQobgZEhM0AzD5IlQSgzQBYEd3XuLjNAQP83c5k1M0DJ4D4hQjwzQMJc8YHoQjNAQAWxl4xJM0BWVNtkLlAzQOK1yevNVjNASJHRLmtdM0AGU0QwBmQzQC92b\\u002fKeajNAy42cdzVxM0AVThHCyXczQKGVD9RbfjNAZ3bVr+uEM0CrPp1XeYszQNaBnc0EkjNALiEJFI6YM0BwVA8tFZ8zQFey2xqapTNACDmW3xysM0BiVmN9nbIzQDrwY\\u002fYbuTNAd2y1TJi\\u002fM0AjuXGCEsYzQFNUr5mKzDNACVSBlADTM0Dybfd0dNkzQBX\\u002fHT3m3zNAZxP+7lXmM0BNbZ2Mw+wzQASN\\u002fhcv8zNA97cgk5j5M0AAAAAAAAA0QI9KlWBlBjRAwlfWtsgMNEBpybUEKhM0QPApI0yJGTRAPfMKj+YfNEBylVbPQSY0QKR97A6bLDRAehywT\\u002fIyNEC97IGTRzk0QM55P9yaPzRAFWbDK+xFNEBTceWDO0w0QO1+euaIUjRAGpxUVdRYNEAKBkPSHV80QPYvEl9lZTRAIcmL\\u002faprNEDGwnav7nE0QP5Vl3YweDRAiQmvVHB+NECTt3xLroQ0QF+TvFzqijRA7S4oiiSRNECIgHbVXJc0QEnoW0CTnTRAijWKzMejNEBLrLB7+qk0QIgKfE8rsDRAf42WSVq2NEDs9qdrh7w0QDSSVbeywjRAgDlCLtzINEDQWg7SA880QPz8V6Qp1TRAqsS6pk3bNEA3+c\\u002fab+E0QI+JLkKQ5zRA\\u002fhBr3q7tNED02xexy\\u002fM0QLPsxLvm+TRAAAAAAAAANUC7kVR\\u002fFwY1QHDhSzstDDVA4PZsNUESNUB1pjxvUxg1QLCVPepjHjVAkj\\u002fwp3IkNUDq+NKpfyo1QKX0YfGKMDVAEEgXgJQ2NUAL72pXnDw1QDbQ0niiQjVAEMHC5aZINUAPiqyfqU41QKrq\\u002f6eqVDVAWp0qAKpaNUCTW5ipp2A1QLHhsqWjZjVA2vLh9Z1sNUDYXIublnI1QOv7EpiNeDVAjb7a7IJ+NUAwqUKbdoQ1QPPZqKRoijVAS4xpClmQNUClHN\\u002fNR5Y1QP8LYvA0nDVAdwNJcyCiNUDR1+hXCqg1QPuMlJ\\u002fyrTVAeVmdS9mzNUDaqVJdvrk1QBwkAtahvzVAA6v3toPFNUB3YX0BZMs1QMWt27ZC0TVA7zxZ2B\\u002fXNUDfBTtn+9w1QKFMxGTV4jVAj6U20q3oNUB2+NGwhO41QLSD1AFa9DVATt96xi36NUAAAAAAAAA2QEQ6na\\u002fQBTZAVEWK1p8LNkAhPv11bRE2QEiqKo85FzZA+3pFIwQdNkDoD38zzSI2QBc6B8GUKDZAvj4MzVouNkAU2rpYHzQ2QBtCPmXiOTZAYinA86M\\u002fNkDDwWgFZEU2QBu\\u002fXpsiSzZA9FnHtt9QNkA5UsZYm1Y2QNLxfYJVXDZARA8PNQ5iNkBLEJlxxWc2QGrsOTl7bTZAdy8OjS9zNkAh\\u002fDBu4ng2QHMOvN2TfjZASr7H3EOENkDQAWts8ok2QOdvu42fjzZAk0LNQUuVNkBjWbOJ9Zo2QM07f2aeoDZAhRtB2UWmNkDZ1gfj66s2QPn64ISQsTZASMbYvzO3NkCaKvqU1bw2QHnPTgV2wjZAXxTfERXINkDrErK7ss02QBShzQNP0zZAVFM26+nYNkDOfu9yg942QHU7+5sb5DZAJmZaZ7LpNkDGogzWR+82QFJeEOnb9DZA8NBioW76NkAAAAAAAAA3QB3A4gWQBTdAJbcEtB4LN0AyXl4LrBA3QJoD5ww4FjdA48yUucIbN0CyuFwSTCE3QL6gMhjUJjdAtDsJzFosN0AgH9Iu4DE3QE7BfUFkNzdAI3v7BOc8N0D\\u002fiTl6aEI3QIgRJaLoRzdAhB2qfWdNN0Cio7MN5VI3QEWFK1NhWDdAS5H6TtxdN0DNhQgCVmM3QOARPG3OaDdATtd6kUVuN0BRbKlvu3M3QD9dqwgweTdAQy5jXaN+N0AFXbJuFYQ3QFNieT2GiTdAyLOXyvWON0BsxesWZJQ3QFkLUyPRmTdATfup8DyfN0BMDsx\\u002fp6Q3QC3Ck9EQqjdAMJva5nivN0CNJXnA37Q3QP32Rl9FujdAQLAaxKm\\u002fN0Cq\\u002fsnvDMU3QJudKeNuyjdAB1gNn8\\u002fPN0DpCUgkL9U3QMShq3ON2jdAEiIJjurfN0C7ojB0RuU3QIRS8Sah6jdAfHgZp\\u002frvN0BkdXb1UvU3QBzF1BKq+jdAAAAAAAAAOEBP3MK9VAU4QIkv50yoCjhAy+81rvoPOEAmNXfiSxU4QPs6cuqbGjhASmHtxuofOEAJLq54OCU4QGxOeQCFKjhAOJgSX9AvOEALCz2VGjU4QJ\\u002fRuqNjOjhAFUNNi6s\\u002fOEA05LRM8kQ4QKloseg3SjhARrQBYHxPOEA53GOzv1Q4QEwoleMBWjhAEhRS8UJfOEAiUFbdgmQ4QEbDXKjBaThAq4sfU\\u002f9uOEAMAFjeO3Q4QN6wvkp3eThAemkLmbF+OEBAMfXJ6oM4QL5MMt4iiThA0D541lmOOEDByXuzj5M4QGfw8HXEmDhAP\\u002feKHvidOECJZfytKqM4QFkG9yRcqDhAtekrhIytOECdZUvMu7I4QCgXBf7ptzhAiuMHGhe9OEAm+QEhQ8I4QJXQoBNuxzhAti2R8pfMOECsIH++wNE4QOwGFnjo1jhAOowAIA\\u002fcOECwq+i2NOE4QLiwdz1Z5jhADThWtHzrOEC5MCwcn\\u002fA4QAjdoHXA9ThAitNaweD6OEAAAAAAAAA5QFikNTIeBTlAnFmgWDsKOUDkEORzVw85QEgUpIRyFDlAyAeDi4wZOUBB6iKJpR45QE0WJX69IzlANEMqa9QoOUDQhdJQ6i05QHFRvS\\u002f\\u002fMjlAxXiJCBM4OUC1LtXbJT05QEoHPqo3QjlAifhgdEhHOUBTW9o6WEw5QD\\u002fsRf5mUTlAdcw+v3RWOUCIgl9+gVs5QEv7QTyNYDlAqYp\\u002f+ZdlOUB37LC2oWo5QEpFbnSqbzlARiNPM7J0OUDufurzuHk5QPS71ra+fjlABKqpfMODOUCShfhFx4g5QKP4VxPKjTlAlBtc5cuSOUDmdZi8zJc5QAD\\u002fn5nMnDlA9R4FfcuhOUBIr1lnyaY5QK77LlnGqzlAzsIVU8KwOUAAN55VvbU5QA3\\u002fV2G3ujlA6zbSdrC\\u002fOUB3cJuWqMQ5QDG0QcGfyTlA9YFS95XOOUCy0Vo5i9M5QCIU54d\\u002f2DlAezOD43LdOUAqlLpMZeI5QH8VGMRW5zlAZBImSkfsOUAJYm7fNvE5QJlYeoQl9jlA4MfSORP7OUAAAAAAAAA6QBnQidfrBDpA8ob3wNYJOkCo88+8wA46QFFmmcupEzpApLDZ7ZEYOkCkJhYkeR06QD6f025fIjpA9XSWzkQnOkB8huJDKSw6QGA3O88MMTpAo3Ajce81OkBgoR0q0To6QGe\\u002fq\\u002fqxPzpA2kdP45FEOkDMP4nkcEk6QN402v5OTjpA1D3CMixTOkA0+8CACFg6QNuXVenjXDpAl8n+bL5hOkC90ToMmGY6QL99h8dwazpAvydin0hwOkAkt0eUH3U6QC6htKb1eTpAhekk18p+OkDNIhQmn4M6QDRv\\u002fZNyiDpAAYFbIUWNOkAkm6jOFpI6QMCRXpznljpAvMr2irebOkBLPuqahqA6QHZ3scxUpTpAqJTEICKqOkA4SJuX7q46QOzYrDG6szpAhCJw74S4OkBBllvRTr06QGY75dcXwjpAwq+CA+DGOkAvKKlUp8s6QBlxzctt0DpA\\u002fO5jaTPVOkDonuAt+Nk6QAMXtxm83jpAA4daLX\\u002fjOkC0uD1pQeg6QHAQ080C7TpAoI2MW8PxOkA3y9sSg\\u002fY6QC4AMvRB+zpAAAAAAAAAO0AjO7Y2vQQ7QIK\\u002fxJh5CTtA9TibJjUOO0C78ajg7xI7QO7SXMepFztA\\u002fmQl22IcO0Aj0HAcGyE7QNLcrIvSJTtANfRGKYkqO0CcIKz1Pi87QO8NSfHzMztAIgqKHKg4O0CoBdt3Wz07QOGTpwMOQjtAietawL9GO0Av51+ucEs7QJkFIc4gUDtAPGoIINBUO0Cj3X+kflk7QN\\u002fN8FssXjtA807ERtliO0A9G2NlhWc7QOaTNbgwbDtAR8GjP9twO0BUUxX8hHU7QAei8e0tejtAyK2fFdZ+O0DSH4ZzfYM7QJ5KCwgkiDtARSqV08mMO0DsZInWbpE7QCNLTRETljtATNhFhLaaO0ADs9cvWZ87QHwtZxT7oztA50VYMpyoO0DWpg6KPK07QJun7RvcsTtAqkxY6Hq2O0D8R7HvGLs7QGv5WjK2vztAFW+3sFLEO0C5ZShr7sg7QBhJD2KJzTtATjTNlSPSO0A08sIGvdY7QLz9ULVV2ztASoLXoe3fO0AUXLbMhOQ7QHoYTTYb6TtAYfb63rDtO0CR5h7HRfI7QAiMF+\\u002fZ9jtAWDxDV237O0AAAAAAAAA8QL+Sq+mRBDxA8WOjFCMJPEDilkSBsw08QCkD7C9DEjxA+jT2INIWPEB9bb9UYBs8QCKjo8vtHzxA+oH+hXokPEAFbCuEBik8QIp5hcaRLTxAZ3lnTRwyPEBo8SsZpjY8QJQeLSovOzxAhPXEgLc\\u002fPECvIk0dP0Q8QMAKHwDGSDxA4sqTKUxNPEAUOQSa0VE8QHTkyFFWVjxAkxU6UdpaPEC\\u002fzq+YXV88QFTMgSjgYzxACoUHAWJoPEA\\u002fKpgi42w8QEmoio1jcTxAvaY1QuN1PEC\\u002fiO9AYno8QExtDorgfjxAhi\\u002foHV6DPED9ZtL82oc8QPtnIidXjDxAzkMtndKQPEAPyUdfTZU8QPCDxm3HmTxAgb79yECePED3gEFxuaI8QPiR5WYxpzxA4XY9qqirPEAMdJw7H7A8QBeNVRuVtDxALIW7SQq5PEBF3yDHfr08QHPe15PywTxAIoYysGXGPEBfmoIc2Mo8QB2gGdlJzzxAdt1I5rrTPEDzWWFEK9g8QMzes\\u002fOa3DxALPeQ9AnhPEB18EhHeOU8QIDaK+zl6TxA4IeJ41LuPEAljrEtv\\u002fI8QBtG88oq9zxADMydu5X7PEAAAAAAAAA9QP2FaJhpBD1ASMYlhdIIPUCk7YXGOg09QJHt1lyiET1AiHxmSAkWPUBBFoKJbxo9QOn7diDVHj1AZDSSDTojPUCKjCBRnic9QGSXbusBLD1AZ67I3GQwPUC28XolxzQ9QFZI0cUoOT1AcmAXvok9PUCRr5gO6kE9QNRyoLdJRj1AL695uahKPUCmMW8UB089QIaPy8hkUz1AnybZ1sFXPUB9HeI+Hlw9QKRjMAF6YD1AxrENHtVkPUD9icOVL2k9QAY4m2iJbT1AddHdluJxPUDvNdQgO3Y9QGQPxwaTej1AP9L+SOp+PUCpvcPnQIM9QLLbXeOWhz1AlAEVPOyLPUDfzzDyQJA9QLiy+AWVlD1AB+Kzd+iYPUCxYalHO509QMsBIHaNoT1A0V5eA9+lPUDY4arvL6o9QMTASzuArj1AfP6G5s+yPUAea6LxHrc9QC+k41xtuz1A1BSQKLu\\u002fPUAB9uxUCMQ9QK9OP+JUyD1ACPTL0KDMPUCiidcg7NA9QKuBptI21T1AGx195oDZPUDoa59cyt09QDdNUTUT4j1Ai2\\u002fWcFvmPUD1UHIPo+o9QEk\\u002faBHq7j1ASlj7djDzPUDciW5Advc9QDKSBG67+z1AAAAAAAAAPkCoMqP2QwQ+QGtaMFKHCD5AlXjpEsoMPkCvXxA5DBE+QKyz5sRNFT5AFeqtto4ZPkA7SqcOzx0+QGDtE80OIj5A6L408k0mPkCGfEp+jCo+QGa2lXHKLj5AXM9WzAczPkAS\\u002fc2ORDc+QDFIO7mAOz5Aj4zeS7w\\u002fPkBbefdG90M+QEeRxaoxSD5AtyqId2tMPkDob36tpFA+QB5f50zdVD5AzMoBVhVZPkDCWQzJTF0+QFeHRaaDYT5AjqPr7bllPkBI0zyg72k+QGcQd70kbj5A\\u002fSnYRVlyPkBwxJ05jXY+QKdZBZnAej5AMjlMZPN+PkBziK+bJYM+QMVCbD9Xhz5AqDm\\u002fT4iLPkDkFOXMuI8+QLVSGrfokz5A8kebDhiYPkAzIKTTRpw+QP3dcAZ1oD5A4Vo9p6KkPkCrR0W2z6g+QIYsxDP8rD5AImn1HyixPkDaNBR7U7U+QNueW0V+uT5ATo4Gf6i9PkB2wk8o0sE+QNzScUH7xT5Acy+nyiPKPkC9ICrES84+QPDHNC5z0j5AGx8BCZrWPkBM+chUwNo+QLQCxhHm3j5AzMAxQAvjPkB2kkXgL+c+QCiwOvJT6z5ACSxKdnfvPkAa8qxsmvM+QFfIm9W89z5A2k5Psd77PkAAAAAAAAA\\u002fQI0w5sEgBD9Ayw8690AIP0CzpzOgYAw\\u002fQAjdCr1\\u002fED9Agm\\u002f3TZ4UP0Do+TBTvBg\\u002fQDny7szZHD9Ay6lou\\u002fYgP0BsTdUeEyU\\u002fQIfla\\u002fcuKT9AQFZjRUotP0CcX\\u002fIIZTE\\u002fQJ+dT0J\\u002fNT9AbIix8Zg5P0BodE4Xsj0\\u002fQFuSXLPKQT9AjO8RxuJFP0DqdaRP+kk\\u002fQCbsSVARTj9A0vU3yCdSP0CIE6S3PVY\\u002fQAOjwx5TWj9ARN\\u002fL\\u002fWdeP0Cr4PFUfGI\\u002fQCCdaiSQZj9AKOhqbKNqP0ANcycttm4\\u002fQPbM1GbIcj9ADWOnGdp2P0CVgNNF63o\\u002fQBJPjev7fj9AYNYICwyDP0DW\\u002fHmkG4c\\u002fQGOHFLgqiz9AqBkMRjmPP0AfNpROR5M\\u002fQC8+4NFUlz9AUHIj0GGbP0An8pBJbp8\\u002fQKK8Wz56oz9AFbC2roWnP0BditSakKs\\u002fQPLo5wKbrz9AEEkj56SzP0DLB7lHrrc\\u002fQDBi2yS3uz9AX3W8fr+\\u002fP0CoPo5Vx8M\\u002fQKybgqnOxz9Ab0rLetXLP0B96ZnJ288\\u002fQAT4H5bh0z9A7NWO4ObXP0D1wxep69s\\u002fQNbj6+\\u002fv3z9AUTg8tfPjP0BTpTn59uc\\u002fQBLwFLz56z9AH7\\u002f+\\u002ffvvP0CLmie\\u002f\\u002ffM\\u002fQPnrv\\u002f\\u002f+9z9AwP73v\\u002f\\u002f7P0AAAAAAAABAQGD\\u002fA+D\\u002fAUBAA\\u002fYfgP8DQEB7zWvg\\u002fgVAQHBg\\u002fwD+B0BAtXry4fwJQEBP2VyD+wtAQIUqVuX5DUBA6w32B\\u002fgPQEBwFFTr9RFAQGrAh4\\u002fzE0BAooWo9PAVQEBjyc0a7hdAQIPiDgLrGUBAdBmDqucbQEBLqEEU5B1AQNC6YT\\u002fgH0BAjG76K9whQEDQ0iLa1yNAQMXo8UnTJUBAdqN+e84nQEDh599uySlAQPqMLCTEK0BAwlt7m74tQEBID+PUuC9AQL1UetCyMUBAfstXjqwzQEAdBZIOpjVAQHCFP1GfN0BAmcJ2Vpg5QEAWJU4ekTtAQMsH3KiJPUBADLg29oE\\u002fQECpdXQGekFAQPtyq9lxQ0BA79Txb2lFQEAQs13JYEdAQJMXBeZXSUBAZP\\u002f9xU5LQEAsWl5pRU1AQGQKPNA7T0BAWuWs+jFRQEA9s8boJ1NAQCovn5odVUBANgdMEBNXQEB63OJJCFlAQBlDeUf9WkBAVMIkCfJcQECL1PqO5l5AQE3nENnaYEBAZVt8585iQEDchFK6wmRAQA+rqFG2ZkBArgiUraloQEDSyynOnGpAQP0Vf7OPbEBAK\\u002fyoXYJuQEDbhrzMdHBAQBiyzgBnckBAhW30+Vh0QEBmnEK4SnZAQKkVzjs8eEBA9aOrhC16QECvBfCSHnxAQAftr2YPfkBAAAAAAACAQEB82PRe8IFAQEUEo4Pgg0BAFwUfbtCFQECrUH0ewIdAQLxQ0pSviUBAGmMy0Z6LQECq2bHTjY1AQHf6ZJx8j0BAtv9fK2uRQEDVF7eAWZNAQIFlfpxHlUBAr\\u002f\\u002fJfjWXQECr8a0nI5lAQBo7PpcQm0BACdCOzf2cQEDzmLPK6p5AQM1ywI7XoEBADi\\u002fJGcSiQEC5k+FrsKRAQGRbHYWcpkBARTWQZYioQEA3xU0NdKpAQMijaXxfrEBAPl73skquQEChdgqxNbBAQMVjtnYgskBAU5EOBAu0QEDQXyZZ9bVAQKokEXbft0BAPCriWsm5QEDbr6wHs7tAQNvpg3ycvUBAmwF7uYW\\u002fQECNFaW+bsFAQD45FYxXw0BAXXXeIUDFQEDJxxOAKMdAQJQjyKYQyUBADXEOlvjKQEDMjflN4MxAQLZMnM7HzkBACHYJGK\\u002fQQEBex1MqltJAQL3zjQV91EBAmaPKqWPWQEDidBwXSthAQAb7lU0w2kBA\\u002fr5JTRbcQEBUP0oW\\u002fN1AQC7wqajh30BAUTt7BMfhQEAtgNAprONAQOgTvBiR5UBAXEFQ0XXnQEAsSZ9TWulAQMFhu58+60BAWLe2tSLtQEAJbKOVBu9AQM6Xkz\\u002fq8EBAi0iZs83yQEAWgsbxsPRAQD8+LfqT9kBA2WzfzHb4QEDA8+5pWfpAQN+ubdE7\\u002fEBAPXBtAx7+QEAAAAAAAABBQHgcN8fhAUFAInokWcMDQUC2w9m1pAVBQCmaaN2FB0FAtpTiz2YJQUDoQFmNRwtBQKAi3hUoDUFAGLSCaQgPQUD0ZViI6BBBQECfcHLIEkFAfL3cJ6gUQUCjFK6ohxZBQDPv9fRmGEFAMY7FDEYaQUAyKS7wJBxBQGbuQJ8DHkFAmAIPGuIfQUA8galgwCFBQHB8IXOeI0FACf2HUXwlQUCVAu77WSdBQGaDZHI3KUFAmGz8tBQrQUATosbD8SxBQJz+057OLkFA01M1RqswQUA+avu5hzJBQE4BN\\u002fpjNEFAac\\u002f4BkA2QUDsgVHgGzhBQDm9UYb3OUFAtBwK+dI7QUDTMos4rj1BQCCJ5USJP0FAQKApHmRBQUD772fEPkNBQEHnsDcZRUFAM+wUePNGQUAnXKSFzUhBQLCLb2CnSkFApcaGCIFMQUAnUPp9Wk5BQKZi2sAzUEFA6y830QxSQUAa4SCv5VNBQLyWp1q+VUFAxmjb05ZXQUCbZswab1lBQBaXii9HW0FAjvglEh9dQUDhgK7C9l5BQHQdNEHOYEFAPbPGjaViQUDJHnaofGRBQEA0UpFTZkFAcb9qSCpoQUDOg8\\u002fNAGpBQH48kCHXa0FAWpy8Q61tQUD5TWQ0g29BQLDzlvNYcUFAnidkgS5zQUCxe9vdA3VBQKh5DAnZdkFAHqMGA654QUCMcdnLgnpBQFFWlGNXfEFAubpGyit+QUAAAAAAAIBBQFp\\u002fzwTUgUFA94nE2KeDQUANae57e4VBQNldXO5Oh0FApqEdMCKJQUDWZUFB9YpBQOPT1iHIjEFAaA3t0ZqOQUAmLJNRbZBBQAlC2KA\\u002fkkFAL1nLvxGUQUDrc3uu45VBQM+M92y1l0FArZZO+4aZQUCffI9ZWJtBQA0iyYcpnUFAsmIKhvqeQUChEmJUy6BBQEn+3vKbokFAgOqPYWykQUCBlIOgPKZBQPixyK8MqEFABPFtj9ypQUA8+IE\\u002frKtBQLhmE8B7rUFAEdQwEUuvQUBs0OgyGrFBQHvkSSXpskFAhJFi6Le0QUBmUUF8hrZBQKCW9OBUuEFAVMyKFiO6QUBMVhId8btBQAKRmfS+vUFAotEunYy\\u002fQUARZuAWWsFBQPOUvGEnw0FArp3RffTEQUBwuC1rwcZBQDQW3ymOyEFAyeDzuVrKQUDTOnobJ8xBQNU\\u002fgE7zzUFAMAQUU7\\u002fPQUAwlUMpi9FBQAn5HNFW00FA4S6uSiLVQUDULgWW7dZBQPjpL7O42EFAYEo8ooPaQUAoMzhjTtxBQHKAMfYY3kFAbwc2W+PfQUBillOSreFBQKj0l5t340FAuOIQd0HlQUAtGswkC+dBQMZN16TU6EFAbylA953qQUBDUhQcZ+xBQJFmYRMw7kFA4\\u002f003fjvQUD\\u002fqJx5wfFBQO7xpeiJ80FAA1xeKlL1QUDaY9M+GvdBQGF\\u002fEibi+EFA2x0p4Kn6QUDmpyRtcfxBQH1\\u002fEs04\\u002fkFAAAAAAAAAQkA1fvoFxwFCQE9ID9+NA0JA8qVLi1QFQkA42LwKGwdCQLMZcF3hCEJAdp5yg6cKQkAUlNF8bQxCQKkhmkkzDkJA3GfZ6fgPQkDmgJxdvhFCQJKA8KSDE0JARXTiv0gVQkACY3+uDRdCQG5N1HDSGEJA0i3uBpcaQkAk+NlwWxxCQAaapK4fHkJA0fpawOMfQkCR+wmmpyFCQBF3vl9rI0JA2kGF7S4lQkA6KmtP8iZCQEj4fIW1KEJA5W3Hj3gqQkDGRlduOyxCQHQ4OSH+LUJAUPJ5qMAvQkCaHSYEgzFCQHJdSjRFM0JA307zOAc1QkDSiC0SyTZCQCicBcCKOEJAshOIQkw6QkA2dMGZDTxCQHQ8vsXOPUJAK+WKxo8\\u002fQkAc4TOcUEFCQA6dxUYRQ0JA0n9MxtFEQkBJ6tQakkZCQGM3a0RSSEJAKbwbQxJKQkC9x\\u002fIW0ktCQGCj\\u002fL+RTUJAdZJFPlFPQkCD0tmREFFCQD6bxbrPUkJAhR4VuY5UQkBriNSMTVZCQDb\\u002fDzYMWEJAaKPTtMpZQkC\\u002fjysJiVtCQDnZIzNHXUJAHI\\u002fIMgVfQkDyuiUIw2BCQJZgR7OAYkJAMX45ND5kQkBADAiL+2VCQJn9vre4Z0JAaz9qunVpQkBIuRWTMmtCQCFNzUHvbEJAUdecxqtuQkCaLpAhaHBCQC8ks1IkckJAtIMRWuBzQkBBE7c3nHVCQGiTr+tXd0JAOL8GdhN5QkA+TMjWznpCQI\\u002fq\\u002fw2KfEJAw0S5G0V+QkAAAAAAAIBCQPm737q6gUJA9BJkTHWDQkDNmZi0L4VCQPffiPPphkJAhG9ACaSIQkAnzcr1XYpCQDR4M7kXjEJAqOqFU9GNQkAqmc3Eio9CQBHzFQ1EkUJAYmJqLP2SQkDbS9YitpRCQPEOZfBulkJA1AUilSeYQkB1hRgR4JlCQIbdU2SYm0JAgVjfjlCdQkCoO8aQCJ9CQAvHE2rAoEJAijXTGniiQkDYvA+jL6RCQICN1ALnpUJA5tIsOp6nQkBMsyNJValCQNZPxC8Mq0JAisQZ7sKsQkBYKC+Eea5CQBiND\\u002fIvsEJAk\\u002f\\u002fFN+axQkCAh11VnLNCQI4n4UpStUJAYN1bGAi3QkCWodi9vbhCQM5nYjtzukJApx4EkSi8QkDGr8i+3b1CQNT\\u002fusSSv0JAiO7lokfBQkCnVlRZ\\u002fMJCQAUOEeiwxEJAjOUmT2XGQkA+qaCOGchCQDUgiabNyUJAqwzrloHLQkD6K9FfNc1CQJ42RgHpzkJAPuBUe5zQQkCn1wfOT9JCQNbGafkC1EJA9FKF\\u002fbXVQkBjHGXaaNdCQLW+E5Ab2UJAutCbHs7aQkB75AeGgNxCQEGHYsYy3kJAmUG23+TfQkBTlw3SluFCQIgHc51I40JAmwzxQfrkQkA+HJK\\u002fq+ZCQHSnYBZd6EJAlBpnRg7qQkBL3a9Pv+tCQKBSRTJw7UJA99gx7iDvQkAVyn+D0fBCQB17OfKB8kJAnTxpOjL0QkCGWhlc4vVCQDgcVFeS90JAfsQjLEL5QkCWkZLa8fpCQDC9qmKh\\u002fEJAc3x2xFD+QkAAAAAAAABDQPJzURWvAUNA5f90BF4DQ0D1xnTNDAVDQMPnWnC7BkNAeHwx7WkIQ0DGmgJEGApDQOtT2HTGC0NAtbS8f3QNQ0CGxblkIg9DQFKK2SPQEENApwImvX0SQ0CrKakwKxRDQCT2bH7YFUNAdVp7poUXQ0CkRN6oMhlDQF6en4XfGkNA9kzJPIwcQ0BqMWXOOB5DQGUofTrlH0NAQQobgZEhQ0AMq0iiPSNDQIfaD57pJENALmR6dJUmQ0AzD5IlQShDQIieYLHsKUNA3dDvF5grQ0ClYElZQy1DQBYEd3XuLkNAMG2CbJkwQ0C6SXU+RDJDQElDWevuM0NAQP83c5k1Q0DUHhvWQzdDQA4\\u002fDBTuOENAzfgULZg6Q0DJ4D4hQjxDQJeHk\\u002fDrPUNAqHkcm5U\\u002fQ0BPP+MgP0FDQMJc8YHoQkNAGlJQvpFEQ0BcmwnWOkZDQHawJsnjR0NAQAWxl4xJQ0CGCbJBNUtDQAIpM8fdTENAZcs9KIZOQ0BWVNtkLlBDQHMjFX3WUUNAWZT0cH5TQ0Cg\\u002foJAJlVDQOK1yevNVkNAuwnScnVYQ0DNRaXVHFpDQMGxTBTEW0NASJHRLmtdQ0AjJD0lEl9DQB6mmPe4YENAGU\\u002ftpV9iQ0AGU0QwBmRDQOvhppasZUNA6Cce2VJnQ0A3TbP3+GhDQC92b\\u002fKeakNARMNbyURsQ0AOUYF86m1DQEU46QuQb0NAy42cdzVxQ0CmYqS\\u002f2nJDQArECeR\\u002fdENAVbvV5CR2Q0AVThHCyXdDQAl+xXtueUNAI0n7ERN7Q0CLqbuEt3xDQKGVD9RbfkNAAAAAAACAQ0B915UIpIFDQC0H2u1Hg0NAZ3bVr+uEQ0DBCJFOj4ZDQBueFcoyiENAmRJsItaJQ0CrPp1XeYtDQAn3sWkcjUNAvAyzWL+OQ0AdTakkYpBDQNaBnc0EkkNA5nCYU6eTQ0Ci3KK2SZVDQLeDxfbrlkNALiEJFI6YQ0BubHYOMJpDQDoZFubRm0NAuNfwmnOdQ0BwVA8tFZ9DQFI4epy2oENAsig66VeiQ0BRx1cT+aNDQFey2xqapUNAX4TO\\u002fzqnQ0Bw1DjC26hDQAQ2I2J8qkNACDmW3xysQ0DiaZo6va1DQGtROHNdr0NA+3R4if2wQ0BiVmN9nbJDQPJzAU89tENAeUhb\\u002fty1Q0BJS3mLfLdDQDrwY\\u002fYbuUNAp6cjP7u6Q0B03sBlWrxDQBH+Q2r5vUNAd2y1TJi\\u002fQ0AxjB0NN8FDQFa8hKvVwkNAkljzJ3TEQ0AjuXGCEsZDQN4yCLuwx0NAMRe\\u002f0U7JQ0AitJ7G7MpDQFNUr5mKzENABT\\u002f5SijOQ0AYuITaxc9DQA0AWkhj0UNACVSBlADTQ0DX7QK\\u002fndRDQOoD58c61kNAW8k1r9fXQ0Dybfd0dNlDQCIeNBkR20NADQP0m63cQ0CHQj\\u002f9Sd5DQBX\\u002fHT3m30NA8leYW4LhQ0APabZYHuNDQBVLgDS65ENAZxP+7lXmQ0Al1DeI8edDQC2cNQCN6UNAG3f\\u002fVijrQ0BNbZ2Mw+xDQOaDF6Fe7kNAzLx1lPnvQ0CvFsBmlPFDQASN\\u002fhcv80NADRg5qMn0Q0DZrHcXZPZDQEM9wmX+90NA97cgk5j5Q0B1CJufMvtDQA0XOYvM\\u002fENA58gCVmb+Q0AAAAAAAABEQDCbOImZAURAKna08TIDREB6aXs5zAREQI9KlWBlBkRAs+sJZ\\u002f4HREAWHOFMlwlEQMinIhIwC0RAwlfWtsgMREDg8QM7YQ5EQOg4s575D0RAjOzr4ZERREBpybUEKhNEQAiJGAfCFERA4+Eb6VkWREBnh8eq8RdEQPApI0yJGURA0nY2zSAbREBVGAkuuBxEQLu1om5PHkRAPfMKj+YfREARckmPfSFEQGrQZW8UI0RAeqlnL6skREBylVbPQSZEQIQpOk\\u002fYJ0RA6vcZr24pREDej\\u002f3uBCtEQKR97A6bLERAh0ruDjEuREDefArvxi9EQAqYSK9cMURAehywT\\u002fIyRECsh0jQhzREQC9UGTEdNkRAo\\u002fkpcrI3REC97IGTRzlEQEefKJXcOkRAIoAld3E8REBJ+385Bj5EQM55P9yaP0RA4mFrXy9BREDSFgvDw0JEQAn5JQdYRERAFWbDK+xFRECjuOowgEdEQIdIoxYUSURAuGr03KdKREBTceWDO0xEQKCrfQvPTURAD2bEc2JPREA76sC89VBEQO1+euaIUkRAHWj48BtUREDw5kHcrlVEQME5XqhBV0RAGpxUVdRYREC8RizjZlpEQJ1v7FH5W0RA6kmcoYtdREAKBkPSHV9EQKDR5+OvYERAh9eR1kFiREDbP0iq02NEQPYvEl9lZURAc8r29PZmREAtL\\u002f1riGhEQEZ7LMQZakRAIcmL\\u002faprREBpMCIYPG1EQBPG9hPNbkRAWpwQ8V1wREDGwnav7nFEQCpGME9\\u002fc0RApzBE0A91RECtibkyoHZEQP5Vl3YweERArJfkm8B5REAcTqiiUHtEQAt26YrgfERAiQmvVHB+REAAAAAAAIBEQDFO44yPgURAOuZf+x6DRECTt3xLroREQBGvQH09hkRA6baykMyHRECxttmFW4lEQF+TvFzqikRASy9iFXmMREAzatGvB45EQDshESyWj0RA7S4oiiSRREA7ax3KspJEQIKr9+tAlERAisK9786VRECIgHbVXJdEQByzKJ3qmERAWiXbRniaREDCn5TSBZxEQEnoW0CTnURAVsI3kCCfREDF7i7CraBEQOkrSNY6okRAijWKzMejREDqxPukVKVEQMaQo1\\u002fhpkRAVU2I\\u002fG2oREBLrLB7+qlEQNlcI92Gq0RAsQvnIBOtREAFYwJHn65EQIgKfE8rsERAcKdaOrexREB73KQHQ7NEQOdJYbfOtERAf42WSVq2RECRQku+5bdEQPoBhhVxuURAHWJNT\\u002fy6REDs9qdrh7xEQOdRnGoSvkRAGgIxTJ2\\u002fREAklGwQKMFEQDSSVbeywkRAC4TyQD3EREAA70mtx8VEQPtVYvxRx0RA\"},\"xaxis\":\"x\",\"yaxis\":\"y\",\"type\":\"histogram\"},{\"boxpoints\":\"all\",\"fillcolor\":\"rgba(255,255,255,0)\",\"hoveron\":\"points\",\"hovertemplate\":\"x=%{x}\\u003cextra\\u003e\\u003c\\u002fextra\\u003e\",\"jitter\":0,\"legendgroup\":\"\",\"line\":{\"color\":\"rgba(255,255,255,0)\"},\"marker\":{\"color\":\"green\",\"symbol\":\"line-ns-open\"},\"name\":\"\",\"showlegend\":false,\"x\":{\"dtype\":\"f8\",\"bdata\":\"AAAAAAAAAAAAAAAAAADwP807f2aeoPY\\u002fqkxY6Hq2+z8AAAAAAAAAQKj0l5t34wFALiEJFI6YA0Dq+NKpfyoFQM07f2aeoAZAAAAAAAAACEBTW9o6WEwJQDRv\\u002fZNyiApAqkxY6Hq2C0DzWWFEK9gMQEk\\u002faBHq7g1A2k5Psd77DkAAAAAAAAAQQAftr2YPfhBA2WzfzHb4EED5TWQ0g28RQKj0l5t34xFAhR4VuY5UEkCnVlRZ\\u002fMISQBYEd3XuLhNALiEJFI6YE0AAAAAAAAAUQPYvEl9lZRRAgDlCLtzIFEDq+NKpfyoVQPPZqKRoihVAj6U20q3oFUDDwWgFZEUWQM07f2aeoBZA8NBioW76FkCio7MN5VIXQC3Ck9EQqhdAAAAAAAAAGEA53GOzv1QYQFkG9yRcqBhAitNaweD6GEBTW9o6WEwZQAD\\u002fn5nMnBlAZBImSkfsGUBgoR0q0ToaQDRv\\u002fZNyiBpA\\u002fO5jaTPVGkAj0HAcGyEbQOaTNbgwbBtAqkxY6Hq2G0AAAAAAAAAcQMAKHwDGSBxAzkMtndKQHEDzWWFEK9gcQOn7diDVHh1AxrENHtVkHUDY4arvL6odQEk\\u002faBHq7h1AXM9WzAczHkBwxJ05jXYeQNueW0V+uR5A2k5Psd77HkBodE4Xsj0fQBJPjev7fh9AX3W8fr+\\u002fH0AAAAAAAAAgQNC6YT\\u002fgHyBADLg29oE\\u002fIECL1PqO5l4gQAftr2YPfiBACdCOzf2cIEDbr6wHs7sgQAb7lU0w2iBA2WzfzHb4IECjFK6ohxYhQE4BN\\u002fpjNCFA6y830QxSIUD5TWQ0g28hQOPT1iHIjCFABPFtj9ypIUBwuC1rwcYhQKj0l5t34yFAAAAAAAAAIkAk+NlwWxwiQCicBcCKOCJAhR4VuY5UIkCaLpAhaHAiQDR4M7kXjCJA5tIsOp6nIkCnVlRZ\\u002fMIiQEGHYsYy3iJAfsQjLEL5IkCrKakwKxQjQBYEd3XuLiNAQAWxl4xJI0AGU0QwBmQjQKGVD9RbfiNALiEJFI6YI0BiVmN9nbIjQFNUr5mKzCNAZxP+7lXmI0AAAAAAAAAkQPApI0yJGSRAehywT\\u002fIyJEBTceWDO0wkQPYvEl9lZSRAiQmvVHB+JECIgHbVXJckQIgKfE8rsCRAgDlCLtzIJEA3+c\\u002fab+EkQLPsxLvm+SRA4PZsNUESJUDq+NKpfyolQDbQ0niiQiVAWp0qAKpaJUDYXIublnIlQPPZqKRoiiVAdwNJcyCiJUDaqVJdvrklQMWt27ZC0SVAj6U20q3oJUAAAAAAAAAmQEiqKo85FyZAvj4MzVouJkDDwWgFZEUmQNLxfYJVXCZAdy8OjS9zJkDQAWts8okmQM07f2aeoCZASMbYvzO3JkDrErK7ss0mQHU7+5sb5CZA8NBioW76JkAyXl4LrBAnQL6gMhjUJidAI3v7BOc8J0Cio7MN5VInQOARPG3OaCdAQy5jXaN+J0BsxesWZJQnQC3Ck9EQqidAQLAaxKm\\u002fJ0DpCUgkL9UnQIRS8Sah6idAAAAAAAAAKEAmNXfiSxUoQGxOeQCFKihAFUNNi6s\\u002fKEA53GOzv1QoQEbDXKjBaShAemkLmbF+KEDByXuzj5MoQFkG9yRcqChAiuMHGhe9KECsIH++wNEoQLiwdz1Z5ihAitNaweD6KEDkEORzVw8pQE0WJX69IylAxXiJCBM4KUBTW9o6WEwpQEv7QTyNYClARiNPM7J0KUCShfhFx4gpQAD\\u002fn5nMnClAzsIVU8KwKUB3cJuWqMQpQCIU54d\\u002f2ClAZBImSkfsKUAAAAAAAAAqQFFmmcupEypA9XSWzkQnKkBgoR0q0ToqQN402v5OTipAl8n+bL5hKkAkt0eUH3UqQDRv\\u002fZNyiCpAvMr2irebKkA4SJuX7q4qQGY75dcXwipA\\u002fO5jaTPVKkC0uD1pQegqQC4AMvRB+ypA9TibJjUOK0Aj0HAcGyErQO8NSfHzMytAietawL9GK0Cj3X+kflkrQOaTNbgwbCtAyK2fFdZ+K0DsZInWbpErQHwtZxT7oytAqkxY6Hq2K0C5ZShr7sgrQLz9ULVV2ytAYfb63rDtK0AAAAAAAAAsQCkD7C9DEixA+oH+hXokLEBo8SsZpjYsQMAKHwDGSCxAkxU6UdpaLEA\\u002fKpgi42wsQExtDorgfixAzkMtndKQLED3gEFxuaIsQBeNVRuVtCxAIoYysGXGLEDzWWFEK9gsQIDaK+zl6SxADMydu5X7LECk7YXGOg0tQOn7diDVHi1AZ67I3GQwLUCRr5gO6kEtQIaPy8hkUy1AxrENHtVkLUDvNdQgO3YtQLLbXeOWhy1AB+Kzd+iYLUDY4arvL6otQC+k41xtuy1ACPTL0KDMLUDoa59cyt0tQEk\\u002faBHq7i1AAAAAAAAALkCvXxA5DBEuQGDtE80OIi5AXM9WzAczLkBbefdG90MuQB5f50zdVC5AjqPr7bllLkBwxJ05jXYuQMVCbD9Xhy5A8kebDhiYLkCrR0W2z6guQNueW0V+uS5Acy+nyiPKLkBM+chUwNouQCiwOvJT6y5A2k5Psd77LkCzpzOgYAwvQDny7szZHC9AQFZjRUotL0BodE4Xsj0vQCbsSVARTi9ARN\\u002fL\\u002fWdeL0ANcycttm4vQBJPjev7fi9AqBkMRjmPL0An8pBJbp8vQPLo5wKbry9AX3W8fr+\\u002fL0B96ZnJ288vQNbj6+\\u002fv3y9AH7\\u002f+\\u002ffvvL0AAAAAAAAAwQHBg\\u002fwD+BzBA6w32B\\u002fgPMEBjyc0a7hcwQNC6YT\\u002fgHzBAdqN+e84nMEBID+PUuC8wQHCFP1GfNzBADLg29oE\\u002fMEAQs13JYEcwQGQKPNA7TzBANgdMEBNXMECL1PqO5l4wQA+rqFG2ZjBAK\\u002fyoXYJuMEBmnEK4SnYwQAftr2YPfjBAFwUfbtCFMECq2bHTjY0wQIFlfpxHlTBACdCOzf2cMEC5k+FrsKQwQMijaXxfrDBAU5EOBAu0MEDbr6wHs7swQD45FYxXwzBADXEOlvjKMEBex1MqltIwQAb7lU0w2jBAUTt7BMfhMEAsSZ9TWukwQM6Xkz\\u002fq8DBA2WzfzHb4MEAAAAAAAAAxQCmaaN2FBzFAGLSCaQgPMUCjFK6ohxYxQGbuQJ8DHjFACf2HUXwlMUATosbD8SwxQE4BN\\u002fpjNDFAtBwK+dI7MUD772fEPkMxQLCLb2CnSjFA6y830QxSMUCbZswab1kxQHQdNEHOYDFAcb9qSCpoMUD5TWQ0g28xQKh5DAnZdjFAubpGyit+MUANae57e4UxQOPT1iHIjDFAL1nLvxGUMUCffI9ZWJsxQEn+3vKbojFABPFtj9ypMUBs0OgyGrExQKCW9OBUuDFAotEunYy\\u002fMUBwuC1rwcYxQNU\\u002fgE7zzTFA4S6uSiLVMUAoMzhjTtwxQKj0l5t34zFAbylA953qMUD\\u002fqJx5wfExQGF\\u002fEibi+DFAAAAAAAAAMkA42LwKGwcyQKkhmkkzDjJARXTiv0gVMkAk+NlwWxwyQBF3vl9rIzJA5W3Hj3gqMkCaHSYEgzEyQCicBcCKODJAK+WKxo8\\u002fMkBJ6tQakkYyQGCj\\u002fL+RTTJAhR4VuY5UMkC\\u002fjysJiVsyQJZgR7OAYjJAaz9qunVpMkCaLpAhaHAyQGiTr+tXdzJAw0S5G0V+MkDNmZi0L4UyQDR4M7kXjDJAYmJqLP2SMkB1hRgR4JkyQAvHE2rAoDJA5tIsOp6nMkBYKC+Eea4yQI4n4UpStTJApx4EkSi8MkCnVlRZ\\u002fMIyQDUgiabNyTJAPuBUe5zQMkBjHGXaaNcyQEGHYsYy3jJAmwzxQfrkMkBL3a9Pv+syQB17OfKB8jJAfsQjLEL5MkAAAAAAAAAzQMPnWnC7BjNAtbS8f3QNM0CrKakwKxQzQF6en4XfGjNAQQobgZEhM0AzD5IlQSgzQBYEd3XuLjNAQP83c5k1M0DJ4D4hQjwzQMJc8YHoQjNAQAWxl4xJM0BWVNtkLlAzQOK1yevNVjNASJHRLmtdM0AGU0QwBmQzQC92b\\u002fKeajNAy42cdzVxM0AVThHCyXczQKGVD9RbfjNAZ3bVr+uEM0CrPp1XeYszQNaBnc0EkjNALiEJFI6YM0BwVA8tFZ8zQFey2xqapTNACDmW3xysM0BiVmN9nbIzQDrwY\\u002fYbuTNAd2y1TJi\\u002fM0AjuXGCEsYzQFNUr5mKzDNACVSBlADTM0Dybfd0dNkzQBX\\u002fHT3m3zNAZxP+7lXmM0BNbZ2Mw+wzQASN\\u002fhcv8zNA97cgk5j5M0AAAAAAAAA0QI9KlWBlBjRAwlfWtsgMNEBpybUEKhM0QPApI0yJGTRAPfMKj+YfNEBylVbPQSY0QKR97A6bLDRAehywT\\u002fIyNEC97IGTRzk0QM55P9yaPzRAFWbDK+xFNEBTceWDO0w0QO1+euaIUjRAGpxUVdRYNEAKBkPSHV80QPYvEl9lZTRAIcmL\\u002faprNEDGwnav7nE0QP5Vl3YweDRAiQmvVHB+NECTt3xLroQ0QF+TvFzqijRA7S4oiiSRNECIgHbVXJc0QEnoW0CTnTRAijWKzMejNEBLrLB7+qk0QIgKfE8rsDRAf42WSVq2NEDs9qdrh7w0QDSSVbeywjRAgDlCLtzINEDQWg7SA880QPz8V6Qp1TRAqsS6pk3bNEA3+c\\u002fab+E0QI+JLkKQ5zRA\\u002fhBr3q7tNED02xexy\\u002fM0QLPsxLvm+TRAAAAAAAAANUC7kVR\\u002fFwY1QHDhSzstDDVA4PZsNUESNUB1pjxvUxg1QLCVPepjHjVAkj\\u002fwp3IkNUDq+NKpfyo1QKX0YfGKMDVAEEgXgJQ2NUAL72pXnDw1QDbQ0niiQjVAEMHC5aZINUAPiqyfqU41QKrq\\u002f6eqVDVAWp0qAKpaNUCTW5ipp2A1QLHhsqWjZjVA2vLh9Z1sNUDYXIublnI1QOv7EpiNeDVAjb7a7IJ+NUAwqUKbdoQ1QPPZqKRoijVAS4xpClmQNUClHN\\u002fNR5Y1QP8LYvA0nDVAdwNJcyCiNUDR1+hXCqg1QPuMlJ\\u002fyrTVAeVmdS9mzNUDaqVJdvrk1QBwkAtahvzVAA6v3toPFNUB3YX0BZMs1QMWt27ZC0TVA7zxZ2B\\u002fXNUDfBTtn+9w1QKFMxGTV4jVAj6U20q3oNUB2+NGwhO41QLSD1AFa9DVATt96xi36NUAAAAAAAAA2QEQ6na\\u002fQBTZAVEWK1p8LNkAhPv11bRE2QEiqKo85FzZA+3pFIwQdNkDoD38zzSI2QBc6B8GUKDZAvj4MzVouNkAU2rpYHzQ2QBtCPmXiOTZAYinA86M\\u002fNkDDwWgFZEU2QBu\\u002fXpsiSzZA9FnHtt9QNkA5UsZYm1Y2QNLxfYJVXDZARA8PNQ5iNkBLEJlxxWc2QGrsOTl7bTZAdy8OjS9zNkAh\\u002fDBu4ng2QHMOvN2TfjZASr7H3EOENkDQAWts8ok2QOdvu42fjzZAk0LNQUuVNkBjWbOJ9Zo2QM07f2aeoDZAhRtB2UWmNkDZ1gfj66s2QPn64ISQsTZASMbYvzO3NkCaKvqU1bw2QHnPTgV2wjZAXxTfERXINkDrErK7ss02QBShzQNP0zZAVFM26+nYNkDOfu9yg942QHU7+5sb5DZAJmZaZ7LpNkDGogzWR+82QFJeEOnb9DZA8NBioW76NkAAAAAAAAA3QB3A4gWQBTdAJbcEtB4LN0AyXl4LrBA3QJoD5ww4FjdA48yUucIbN0CyuFwSTCE3QL6gMhjUJjdAtDsJzFosN0AgH9Iu4DE3QE7BfUFkNzdAI3v7BOc8N0D\\u002fiTl6aEI3QIgRJaLoRzdAhB2qfWdNN0Cio7MN5VI3QEWFK1NhWDdAS5H6TtxdN0DNhQgCVmM3QOARPG3OaDdATtd6kUVuN0BRbKlvu3M3QD9dqwgweTdAQy5jXaN+N0AFXbJuFYQ3QFNieT2GiTdAyLOXyvWON0BsxesWZJQ3QFkLUyPRmTdATfup8DyfN0BMDsx\\u002fp6Q3QC3Ck9EQqjdAMJva5nivN0CNJXnA37Q3QP32Rl9FujdAQLAaxKm\\u002fN0Cq\\u002fsnvDMU3QJudKeNuyjdAB1gNn8\\u002fPN0DpCUgkL9U3QMShq3ON2jdAEiIJjurfN0C7ojB0RuU3QIRS8Sah6jdAfHgZp\\u002frvN0BkdXb1UvU3QBzF1BKq+jdAAAAAAAAAOEBP3MK9VAU4QIkv50yoCjhAy+81rvoPOEAmNXfiSxU4QPs6cuqbGjhASmHtxuofOEAJLq54OCU4QGxOeQCFKjhAOJgSX9AvOEALCz2VGjU4QJ\\u002fRuqNjOjhAFUNNi6s\\u002fOEA05LRM8kQ4QKloseg3SjhARrQBYHxPOEA53GOzv1Q4QEwoleMBWjhAEhRS8UJfOEAiUFbdgmQ4QEbDXKjBaThAq4sfU\\u002f9uOEAMAFjeO3Q4QN6wvkp3eThAemkLmbF+OEBAMfXJ6oM4QL5MMt4iiThA0D541lmOOEDByXuzj5M4QGfw8HXEmDhAP\\u002feKHvidOECJZfytKqM4QFkG9yRcqDhAtekrhIytOECdZUvMu7I4QCgXBf7ptzhAiuMHGhe9OEAm+QEhQ8I4QJXQoBNuxzhAti2R8pfMOECsIH++wNE4QOwGFnjo1jhAOowAIA\\u002fcOECwq+i2NOE4QLiwdz1Z5jhADThWtHzrOEC5MCwcn\\u002fA4QAjdoHXA9ThAitNaweD6OEAAAAAAAAA5QFikNTIeBTlAnFmgWDsKOUDkEORzVw85QEgUpIRyFDlAyAeDi4wZOUBB6iKJpR45QE0WJX69IzlANEMqa9QoOUDQhdJQ6i05QHFRvS\\u002f\\u002fMjlAxXiJCBM4OUC1LtXbJT05QEoHPqo3QjlAifhgdEhHOUBTW9o6WEw5QD\\u002fsRf5mUTlAdcw+v3RWOUCIgl9+gVs5QEv7QTyNYDlAqYp\\u002f+ZdlOUB37LC2oWo5QEpFbnSqbzlARiNPM7J0OUDufurzuHk5QPS71ra+fjlABKqpfMODOUCShfhFx4g5QKP4VxPKjTlAlBtc5cuSOUDmdZi8zJc5QAD\\u002fn5nMnDlA9R4FfcuhOUBIr1lnyaY5QK77LlnGqzlAzsIVU8KwOUAAN55VvbU5QA3\\u002fV2G3ujlA6zbSdrC\\u002fOUB3cJuWqMQ5QDG0QcGfyTlA9YFS95XOOUCy0Vo5i9M5QCIU54d\\u002f2DlAezOD43LdOUAqlLpMZeI5QH8VGMRW5zlAZBImSkfsOUAJYm7fNvE5QJlYeoQl9jlA4MfSORP7OUAAAAAAAAA6QBnQidfrBDpA8ob3wNYJOkCo88+8wA46QFFmmcupEzpApLDZ7ZEYOkCkJhYkeR06QD6f025fIjpA9XSWzkQnOkB8huJDKSw6QGA3O88MMTpAo3Ajce81OkBgoR0q0To6QGe\\u002fq\\u002fqxPzpA2kdP45FEOkDMP4nkcEk6QN402v5OTjpA1D3CMixTOkA0+8CACFg6QNuXVenjXDpAl8n+bL5hOkC90ToMmGY6QL99h8dwazpAvydin0hwOkAkt0eUH3U6QC6htKb1eTpAhekk18p+OkDNIhQmn4M6QDRv\\u002fZNyiDpAAYFbIUWNOkAkm6jOFpI6QMCRXpznljpAvMr2irebOkBLPuqahqA6QHZ3scxUpTpAqJTEICKqOkA4SJuX7q46QOzYrDG6szpAhCJw74S4OkBBllvRTr06QGY75dcXwjpAwq+CA+DGOkAvKKlUp8s6QBlxzctt0DpA\\u002fO5jaTPVOkDonuAt+Nk6QAMXtxm83jpAA4daLX\\u002fjOkC0uD1pQeg6QHAQ080C7TpAoI2MW8PxOkA3y9sSg\\u002fY6QC4AMvRB+zpAAAAAAAAAO0AjO7Y2vQQ7QIK\\u002fxJh5CTtA9TibJjUOO0C78ajg7xI7QO7SXMepFztA\\u002fmQl22IcO0Aj0HAcGyE7QNLcrIvSJTtANfRGKYkqO0CcIKz1Pi87QO8NSfHzMztAIgqKHKg4O0CoBdt3Wz07QOGTpwMOQjtAietawL9GO0Av51+ucEs7QJkFIc4gUDtAPGoIINBUO0Cj3X+kflk7QN\\u002fN8FssXjtA807ERtliO0A9G2NlhWc7QOaTNbgwbDtAR8GjP9twO0BUUxX8hHU7QAei8e0tejtAyK2fFdZ+O0DSH4ZzfYM7QJ5KCwgkiDtARSqV08mMO0DsZInWbpE7QCNLTRETljtATNhFhLaaO0ADs9cvWZ87QHwtZxT7oztA50VYMpyoO0DWpg6KPK07QJun7RvcsTtAqkxY6Hq2O0D8R7HvGLs7QGv5WjK2vztAFW+3sFLEO0C5ZShr7sg7QBhJD2KJzTtATjTNlSPSO0A08sIGvdY7QLz9ULVV2ztASoLXoe3fO0AUXLbMhOQ7QHoYTTYb6TtAYfb63rDtO0CR5h7HRfI7QAiMF+\\u002fZ9jtAWDxDV237O0AAAAAAAAA8QL+Sq+mRBDxA8WOjFCMJPEDilkSBsw08QCkD7C9DEjxA+jT2INIWPEB9bb9UYBs8QCKjo8vtHzxA+oH+hXokPEAFbCuEBik8QIp5hcaRLTxAZ3lnTRwyPEBo8SsZpjY8QJQeLSovOzxAhPXEgLc\\u002fPECvIk0dP0Q8QMAKHwDGSDxA4sqTKUxNPEAUOQSa0VE8QHTkyFFWVjxAkxU6UdpaPEC\\u002fzq+YXV88QFTMgSjgYzxACoUHAWJoPEA\\u002fKpgi42w8QEmoio1jcTxAvaY1QuN1PEC\\u002fiO9AYno8QExtDorgfjxAhi\\u002foHV6DPED9ZtL82oc8QPtnIidXjDxAzkMtndKQPEAPyUdfTZU8QPCDxm3HmTxAgb79yECePED3gEFxuaI8QPiR5WYxpzxA4XY9qqirPEAMdJw7H7A8QBeNVRuVtDxALIW7SQq5PEBF3yDHfr08QHPe15PywTxAIoYysGXGPEBfmoIc2Mo8QB2gGdlJzzxAdt1I5rrTPEDzWWFEK9g8QMzes\\u002fOa3DxALPeQ9AnhPEB18EhHeOU8QIDaK+zl6TxA4IeJ41LuPEAljrEtv\\u002fI8QBtG88oq9zxADMydu5X7PEAAAAAAAAA9QP2FaJhpBD1ASMYlhdIIPUCk7YXGOg09QJHt1lyiET1AiHxmSAkWPUBBFoKJbxo9QOn7diDVHj1AZDSSDTojPUCKjCBRnic9QGSXbusBLD1AZ67I3GQwPUC28XolxzQ9QFZI0cUoOT1AcmAXvok9PUCRr5gO6kE9QNRyoLdJRj1AL695uahKPUCmMW8UB089QIaPy8hkUz1AnybZ1sFXPUB9HeI+Hlw9QKRjMAF6YD1AxrENHtVkPUD9icOVL2k9QAY4m2iJbT1AddHdluJxPUDvNdQgO3Y9QGQPxwaTej1AP9L+SOp+PUCpvcPnQIM9QLLbXeOWhz1AlAEVPOyLPUDfzzDyQJA9QLiy+AWVlD1AB+Kzd+iYPUCxYalHO509QMsBIHaNoT1A0V5eA9+lPUDY4arvL6o9QMTASzuArj1AfP6G5s+yPUAea6LxHrc9QC+k41xtuz1A1BSQKLu\\u002fPUAB9uxUCMQ9QK9OP+JUyD1ACPTL0KDMPUCiidcg7NA9QKuBptI21T1AGx195oDZPUDoa59cyt09QDdNUTUT4j1Ai2\\u002fWcFvmPUD1UHIPo+o9QEk\\u002faBHq7j1ASlj7djDzPUDciW5Advc9QDKSBG67+z1AAAAAAAAAPkCoMqP2QwQ+QGtaMFKHCD5AlXjpEsoMPkCvXxA5DBE+QKyz5sRNFT5AFeqtto4ZPkA7SqcOzx0+QGDtE80OIj5A6L408k0mPkCGfEp+jCo+QGa2lXHKLj5AXM9WzAczPkAS\\u002fc2ORDc+QDFIO7mAOz5Aj4zeS7w\\u002fPkBbefdG90M+QEeRxaoxSD5AtyqId2tMPkDob36tpFA+QB5f50zdVD5AzMoBVhVZPkDCWQzJTF0+QFeHRaaDYT5AjqPr7bllPkBI0zyg72k+QGcQd70kbj5A\\u002fSnYRVlyPkBwxJ05jXY+QKdZBZnAej5AMjlMZPN+PkBziK+bJYM+QMVCbD9Xhz5AqDm\\u002fT4iLPkDkFOXMuI8+QLVSGrfokz5A8kebDhiYPkAzIKTTRpw+QP3dcAZ1oD5A4Vo9p6KkPkCrR0W2z6g+QIYsxDP8rD5AImn1HyixPkDaNBR7U7U+QNueW0V+uT5ATo4Gf6i9PkB2wk8o0sE+QNzScUH7xT5Acy+nyiPKPkC9ICrES84+QPDHNC5z0j5AGx8BCZrWPkBM+chUwNo+QLQCxhHm3j5AzMAxQAvjPkB2kkXgL+c+QCiwOvJT6z5ACSxKdnfvPkAa8qxsmvM+QFfIm9W89z5A2k5Psd77PkAAAAAAAAA\\u002fQI0w5sEgBD9Ayw8690AIP0CzpzOgYAw\\u002fQAjdCr1\\u002fED9Agm\\u002f3TZ4UP0Do+TBTvBg\\u002fQDny7szZHD9Ay6lou\\u002fYgP0BsTdUeEyU\\u002fQIfla\\u002fcuKT9AQFZjRUotP0CcX\\u002fIIZTE\\u002fQJ+dT0J\\u002fNT9AbIix8Zg5P0BodE4Xsj0\\u002fQFuSXLPKQT9AjO8RxuJFP0DqdaRP+kk\\u002fQCbsSVARTj9A0vU3yCdSP0CIE6S3PVY\\u002fQAOjwx5TWj9ARN\\u002fL\\u002fWdeP0Cr4PFUfGI\\u002fQCCdaiSQZj9AKOhqbKNqP0ANcycttm4\\u002fQPbM1GbIcj9ADWOnGdp2P0CVgNNF63o\\u002fQBJPjev7fj9AYNYICwyDP0DW\\u002fHmkG4c\\u002fQGOHFLgqiz9AqBkMRjmPP0AfNpROR5M\\u002fQC8+4NFUlz9AUHIj0GGbP0An8pBJbp8\\u002fQKK8Wz56oz9AFbC2roWnP0BditSakKs\\u002fQPLo5wKbrz9AEEkj56SzP0DLB7lHrrc\\u002fQDBi2yS3uz9AX3W8fr+\\u002fP0CoPo5Vx8M\\u002fQKybgqnOxz9Ab0rLetXLP0B96ZnJ288\\u002fQAT4H5bh0z9A7NWO4ObXP0D1wxep69s\\u002fQNbj6+\\u002fv3z9AUTg8tfPjP0BTpTn59uc\\u002fQBLwFLz56z9AH7\\u002f+\\u002ffvvP0CLmie\\u002f\\u002ffM\\u002fQPnrv\\u002f\\u002f+9z9AwP73v\\u002f\\u002f7P0AAAAAAAABAQGD\\u002fA+D\\u002fAUBAA\\u002fYfgP8DQEB7zWvg\\u002fgVAQHBg\\u002fwD+B0BAtXry4fwJQEBP2VyD+wtAQIUqVuX5DUBA6w32B\\u002fgPQEBwFFTr9RFAQGrAh4\\u002fzE0BAooWo9PAVQEBjyc0a7hdAQIPiDgLrGUBAdBmDqucbQEBLqEEU5B1AQNC6YT\\u002fgH0BAjG76K9whQEDQ0iLa1yNAQMXo8UnTJUBAdqN+e84nQEDh599uySlAQPqMLCTEK0BAwlt7m74tQEBID+PUuC9AQL1UetCyMUBAfstXjqwzQEAdBZIOpjVAQHCFP1GfN0BAmcJ2Vpg5QEAWJU4ekTtAQMsH3KiJPUBADLg29oE\\u002fQECpdXQGekFAQPtyq9lxQ0BA79Txb2lFQEAQs13JYEdAQJMXBeZXSUBAZP\\u002f9xU5LQEAsWl5pRU1AQGQKPNA7T0BAWuWs+jFRQEA9s8boJ1NAQCovn5odVUBANgdMEBNXQEB63OJJCFlAQBlDeUf9WkBAVMIkCfJcQECL1PqO5l5AQE3nENnaYEBAZVt8585iQEDchFK6wmRAQA+rqFG2ZkBArgiUraloQEDSyynOnGpAQP0Vf7OPbEBAK\\u002fyoXYJuQEDbhrzMdHBAQBiyzgBnckBAhW30+Vh0QEBmnEK4SnZAQKkVzjs8eEBA9aOrhC16QECvBfCSHnxAQAftr2YPfkBAAAAAAACAQEB82PRe8IFAQEUEo4Pgg0BAFwUfbtCFQECrUH0ewIdAQLxQ0pSviUBAGmMy0Z6LQECq2bHTjY1AQHf6ZJx8j0BAtv9fK2uRQEDVF7eAWZNAQIFlfpxHlUBAr\\u002f\\u002fJfjWXQECr8a0nI5lAQBo7PpcQm0BACdCOzf2cQEDzmLPK6p5AQM1ywI7XoEBADi\\u002fJGcSiQEC5k+FrsKRAQGRbHYWcpkBARTWQZYioQEA3xU0NdKpAQMijaXxfrEBAPl73skquQEChdgqxNbBAQMVjtnYgskBAU5EOBAu0QEDQXyZZ9bVAQKokEXbft0BAPCriWsm5QEDbr6wHs7tAQNvpg3ycvUBAmwF7uYW\\u002fQECNFaW+bsFAQD45FYxXw0BAXXXeIUDFQEDJxxOAKMdAQJQjyKYQyUBADXEOlvjKQEDMjflN4MxAQLZMnM7HzkBACHYJGK\\u002fQQEBex1MqltJAQL3zjQV91EBAmaPKqWPWQEDidBwXSthAQAb7lU0w2kBA\\u002fr5JTRbcQEBUP0oW\\u002fN1AQC7wqajh30BAUTt7BMfhQEAtgNAprONAQOgTvBiR5UBAXEFQ0XXnQEAsSZ9TWulAQMFhu58+60BAWLe2tSLtQEAJbKOVBu9AQM6Xkz\\u002fq8EBAi0iZs83yQEAWgsbxsPRAQD8+LfqT9kBA2WzfzHb4QEDA8+5pWfpAQN+ubdE7\\u002fEBAPXBtAx7+QEAAAAAAAABBQHgcN8fhAUFAInokWcMDQUC2w9m1pAVBQCmaaN2FB0FAtpTiz2YJQUDoQFmNRwtBQKAi3hUoDUFAGLSCaQgPQUD0ZViI6BBBQECfcHLIEkFAfL3cJ6gUQUCjFK6ohxZBQDPv9fRmGEFAMY7FDEYaQUAyKS7wJBxBQGbuQJ8DHkFAmAIPGuIfQUA8galgwCFBQHB8IXOeI0FACf2HUXwlQUCVAu77WSdBQGaDZHI3KUFAmGz8tBQrQUATosbD8SxBQJz+057OLkFA01M1RqswQUA+avu5hzJBQE4BN\\u002fpjNEFAac\\u002f4BkA2QUDsgVHgGzhBQDm9UYb3OUFAtBwK+dI7QUDTMos4rj1BQCCJ5USJP0FAQKApHmRBQUD772fEPkNBQEHnsDcZRUFAM+wUePNGQUAnXKSFzUhBQLCLb2CnSkFApcaGCIFMQUAnUPp9Wk5BQKZi2sAzUEFA6y830QxSQUAa4SCv5VNBQLyWp1q+VUFAxmjb05ZXQUCbZswab1lBQBaXii9HW0FAjvglEh9dQUDhgK7C9l5BQHQdNEHOYEFAPbPGjaViQUDJHnaofGRBQEA0UpFTZkFAcb9qSCpoQUDOg8\\u002fNAGpBQH48kCHXa0FAWpy8Q61tQUD5TWQ0g29BQLDzlvNYcUFAnidkgS5zQUCxe9vdA3VBQKh5DAnZdkFAHqMGA654QUCMcdnLgnpBQFFWlGNXfEFAubpGyit+QUAAAAAAAIBBQFp\\u002fzwTUgUFA94nE2KeDQUANae57e4VBQNldXO5Oh0FApqEdMCKJQUDWZUFB9YpBQOPT1iHIjEFAaA3t0ZqOQUAmLJNRbZBBQAlC2KA\\u002fkkFAL1nLvxGUQUDrc3uu45VBQM+M92y1l0FArZZO+4aZQUCffI9ZWJtBQA0iyYcpnUFAsmIKhvqeQUChEmJUy6BBQEn+3vKbokFAgOqPYWykQUCBlIOgPKZBQPixyK8MqEFABPFtj9ypQUA8+IE\\u002frKtBQLhmE8B7rUFAEdQwEUuvQUBs0OgyGrFBQHvkSSXpskFAhJFi6Le0QUBmUUF8hrZBQKCW9OBUuEFAVMyKFiO6QUBMVhId8btBQAKRmfS+vUFAotEunYy\\u002fQUARZuAWWsFBQPOUvGEnw0FArp3RffTEQUBwuC1rwcZBQDQW3ymOyEFAyeDzuVrKQUDTOnobJ8xBQNU\\u002fgE7zzUFAMAQUU7\\u002fPQUAwlUMpi9FBQAn5HNFW00FA4S6uSiLVQUDULgWW7dZBQPjpL7O42EFAYEo8ooPaQUAoMzhjTtxBQHKAMfYY3kFAbwc2W+PfQUBillOSreFBQKj0l5t340FAuOIQd0HlQUAtGswkC+dBQMZN16TU6EFAbylA953qQUBDUhQcZ+xBQJFmYRMw7kFA4\\u002f003fjvQUD\\u002fqJx5wfFBQO7xpeiJ80FAA1xeKlL1QUDaY9M+GvdBQGF\\u002fEibi+EFA2x0p4Kn6QUDmpyRtcfxBQH1\\u002fEs04\\u002fkFAAAAAAAAAQkA1fvoFxwFCQE9ID9+NA0JA8qVLi1QFQkA42LwKGwdCQLMZcF3hCEJAdp5yg6cKQkAUlNF8bQxCQKkhmkkzDkJA3GfZ6fgPQkDmgJxdvhFCQJKA8KSDE0JARXTiv0gVQkACY3+uDRdCQG5N1HDSGEJA0i3uBpcaQkAk+NlwWxxCQAaapK4fHkJA0fpawOMfQkCR+wmmpyFCQBF3vl9rI0JA2kGF7S4lQkA6KmtP8iZCQEj4fIW1KEJA5W3Hj3gqQkDGRlduOyxCQHQ4OSH+LUJAUPJ5qMAvQkCaHSYEgzFCQHJdSjRFM0JA307zOAc1QkDSiC0SyTZCQCicBcCKOEJAshOIQkw6QkA2dMGZDTxCQHQ8vsXOPUJAK+WKxo8\\u002fQkAc4TOcUEFCQA6dxUYRQ0JA0n9MxtFEQkBJ6tQakkZCQGM3a0RSSEJAKbwbQxJKQkC9x\\u002fIW0ktCQGCj\\u002fL+RTUJAdZJFPlFPQkCD0tmREFFCQD6bxbrPUkJAhR4VuY5UQkBriNSMTVZCQDb\\u002fDzYMWEJAaKPTtMpZQkC\\u002fjysJiVtCQDnZIzNHXUJAHI\\u002fIMgVfQkDyuiUIw2BCQJZgR7OAYkJAMX45ND5kQkBADAiL+2VCQJn9vre4Z0JAaz9qunVpQkBIuRWTMmtCQCFNzUHvbEJAUdecxqtuQkCaLpAhaHBCQC8ks1IkckJAtIMRWuBzQkBBE7c3nHVCQGiTr+tXd0JAOL8GdhN5QkA+TMjWznpCQI\\u002fq\\u002fw2KfEJAw0S5G0V+QkAAAAAAAIBCQPm737q6gUJA9BJkTHWDQkDNmZi0L4VCQPffiPPphkJAhG9ACaSIQkAnzcr1XYpCQDR4M7kXjEJAqOqFU9GNQkAqmc3Eio9CQBHzFQ1EkUJAYmJqLP2SQkDbS9YitpRCQPEOZfBulkJA1AUilSeYQkB1hRgR4JlCQIbdU2SYm0JAgVjfjlCdQkCoO8aQCJ9CQAvHE2rAoEJAijXTGniiQkDYvA+jL6RCQICN1ALnpUJA5tIsOp6nQkBMsyNJValCQNZPxC8Mq0JAisQZ7sKsQkBYKC+Eea5CQBiND\\u002fIvsEJAk\\u002f\\u002fFN+axQkCAh11VnLNCQI4n4UpStUJAYN1bGAi3QkCWodi9vbhCQM5nYjtzukJApx4EkSi8QkDGr8i+3b1CQNT\\u002fusSSv0JAiO7lokfBQkCnVlRZ\\u002fMJCQAUOEeiwxEJAjOUmT2XGQkA+qaCOGchCQDUgiabNyUJAqwzrloHLQkD6K9FfNc1CQJ42RgHpzkJAPuBUe5zQQkCn1wfOT9JCQNbGafkC1EJA9FKF\\u002fbXVQkBjHGXaaNdCQLW+E5Ab2UJAutCbHs7aQkB75AeGgNxCQEGHYsYy3kJAmUG23+TfQkBTlw3SluFCQIgHc51I40JAmwzxQfrkQkA+HJK\\u002fq+ZCQHSnYBZd6EJAlBpnRg7qQkBL3a9Pv+tCQKBSRTJw7UJA99gx7iDvQkAVyn+D0fBCQB17OfKB8kJAnTxpOjL0QkCGWhlc4vVCQDgcVFeS90JAfsQjLEL5QkCWkZLa8fpCQDC9qmKh\\u002fEJAc3x2xFD+QkAAAAAAAABDQPJzURWvAUNA5f90BF4DQ0D1xnTNDAVDQMPnWnC7BkNAeHwx7WkIQ0DGmgJEGApDQOtT2HTGC0NAtbS8f3QNQ0CGxblkIg9DQFKK2SPQEENApwImvX0SQ0CrKakwKxRDQCT2bH7YFUNAdVp7poUXQ0CkRN6oMhlDQF6en4XfGkNA9kzJPIwcQ0BqMWXOOB5DQGUofTrlH0NAQQobgZEhQ0AMq0iiPSNDQIfaD57pJENALmR6dJUmQ0AzD5IlQShDQIieYLHsKUNA3dDvF5grQ0ClYElZQy1DQBYEd3XuLkNAMG2CbJkwQ0C6SXU+RDJDQElDWevuM0NAQP83c5k1Q0DUHhvWQzdDQA4\\u002fDBTuOENAzfgULZg6Q0DJ4D4hQjxDQJeHk\\u002fDrPUNAqHkcm5U\\u002fQ0BPP+MgP0FDQMJc8YHoQkNAGlJQvpFEQ0BcmwnWOkZDQHawJsnjR0NAQAWxl4xJQ0CGCbJBNUtDQAIpM8fdTENAZcs9KIZOQ0BWVNtkLlBDQHMjFX3WUUNAWZT0cH5TQ0Cg\\u002foJAJlVDQOK1yevNVkNAuwnScnVYQ0DNRaXVHFpDQMGxTBTEW0NASJHRLmtdQ0AjJD0lEl9DQB6mmPe4YENAGU\\u002ftpV9iQ0AGU0QwBmRDQOvhppasZUNA6Cce2VJnQ0A3TbP3+GhDQC92b\\u002fKeakNARMNbyURsQ0AOUYF86m1DQEU46QuQb0NAy42cdzVxQ0CmYqS\\u002f2nJDQArECeR\\u002fdENAVbvV5CR2Q0AVThHCyXdDQAl+xXtueUNAI0n7ERN7Q0CLqbuEt3xDQKGVD9RbfkNAAAAAAACAQ0B915UIpIFDQC0H2u1Hg0NAZ3bVr+uEQ0DBCJFOj4ZDQBueFcoyiENAmRJsItaJQ0CrPp1XeYtDQAn3sWkcjUNAvAyzWL+OQ0AdTakkYpBDQNaBnc0EkkNA5nCYU6eTQ0Ci3KK2SZVDQLeDxfbrlkNALiEJFI6YQ0BubHYOMJpDQDoZFubRm0NAuNfwmnOdQ0BwVA8tFZ9DQFI4epy2oENAsig66VeiQ0BRx1cT+aNDQFey2xqapUNAX4TO\\u002fzqnQ0Bw1DjC26hDQAQ2I2J8qkNACDmW3xysQ0DiaZo6va1DQGtROHNdr0NA+3R4if2wQ0BiVmN9nbJDQPJzAU89tENAeUhb\\u002fty1Q0BJS3mLfLdDQDrwY\\u002fYbuUNAp6cjP7u6Q0B03sBlWrxDQBH+Q2r5vUNAd2y1TJi\\u002fQ0AxjB0NN8FDQFa8hKvVwkNAkljzJ3TEQ0AjuXGCEsZDQN4yCLuwx0NAMRe\\u002f0U7JQ0AitJ7G7MpDQFNUr5mKzENABT\\u002f5SijOQ0AYuITaxc9DQA0AWkhj0UNACVSBlADTQ0DX7QK\\u002fndRDQOoD58c61kNAW8k1r9fXQ0Dybfd0dNlDQCIeNBkR20NADQP0m63cQ0CHQj\\u002f9Sd5DQBX\\u002fHT3m30NA8leYW4LhQ0APabZYHuNDQBVLgDS65ENAZxP+7lXmQ0Al1DeI8edDQC2cNQCN6UNAG3f\\u002fVijrQ0BNbZ2Mw+xDQOaDF6Fe7kNAzLx1lPnvQ0CvFsBmlPFDQASN\\u002fhcv80NADRg5qMn0Q0DZrHcXZPZDQEM9wmX+90NA97cgk5j5Q0B1CJufMvtDQA0XOYvM\\u002fENA58gCVmb+Q0AAAAAAAABEQDCbOImZAURAKna08TIDREB6aXs5zAREQI9KlWBlBkRAs+sJZ\\u002f4HREAWHOFMlwlEQMinIhIwC0RAwlfWtsgMREDg8QM7YQ5EQOg4s575D0RAjOzr4ZERREBpybUEKhNEQAiJGAfCFERA4+Eb6VkWREBnh8eq8RdEQPApI0yJGURA0nY2zSAbREBVGAkuuBxEQLu1om5PHkRAPfMKj+YfREARckmPfSFEQGrQZW8UI0RAeqlnL6skREBylVbPQSZEQIQpOk\\u002fYJ0RA6vcZr24pREDej\\u002f3uBCtEQKR97A6bLERAh0ruDjEuREDefArvxi9EQAqYSK9cMURAehywT\\u002fIyRECsh0jQhzREQC9UGTEdNkRAo\\u002fkpcrI3REC97IGTRzlEQEefKJXcOkRAIoAld3E8REBJ+385Bj5EQM55P9yaP0RA4mFrXy9BREDSFgvDw0JEQAn5JQdYRERAFWbDK+xFRECjuOowgEdEQIdIoxYUSURAuGr03KdKREBTceWDO0xEQKCrfQvPTURAD2bEc2JPREA76sC89VBEQO1+euaIUkRAHWj48BtUREDw5kHcrlVEQME5XqhBV0RAGpxUVdRYREC8RizjZlpEQJ1v7FH5W0RA6kmcoYtdREAKBkPSHV9EQKDR5+OvYERAh9eR1kFiREDbP0iq02NEQPYvEl9lZURAc8r29PZmREAtL\\u002f1riGhEQEZ7LMQZakRAIcmL\\u002faprREBpMCIYPG1EQBPG9hPNbkRAWpwQ8V1wREDGwnav7nFEQCpGME9\\u002fc0RApzBE0A91RECtibkyoHZEQP5Vl3YweERArJfkm8B5REAcTqiiUHtEQAt26YrgfERAiQmvVHB+REAAAAAAAIBEQDFO44yPgURAOuZf+x6DRECTt3xLroREQBGvQH09hkRA6baykMyHRECxttmFW4lEQF+TvFzqikRASy9iFXmMREAzatGvB45EQDshESyWj0RA7S4oiiSRREA7ax3KspJEQIKr9+tAlERAisK9786VRECIgHbVXJdEQByzKJ3qmERAWiXbRniaREDCn5TSBZxEQEnoW0CTnURAVsI3kCCfREDF7i7CraBEQOkrSNY6okRAijWKzMejREDqxPukVKVEQMaQo1\\u002fhpkRAVU2I\\u002fG2oREBLrLB7+qlEQNlcI92Gq0RAsQvnIBOtREAFYwJHn65EQIgKfE8rsERAcKdaOrexREB73KQHQ7NEQOdJYbfOtERAf42WSVq2RECRQku+5bdEQPoBhhVxuURAHWJNT\\u002fy6REDs9qdrh7xEQOdRnGoSvkRAGgIxTJ2\\u002fREAklGwQKMFEQDSSVbeywkRAC4TyQD3EREAA70mtx8VEQPtVYvxRx0RA\"},\"xaxis\":\"x2\",\"yaxis\":\"y2\",\"type\":\"box\"}],                        {\"template\":{\"data\":{\"pie\":[{\"automargin\":true,\"type\":\"pie\"}]},\"layout\":{\"xaxis\":{\"showgrid\":true,\"title\":{\"standoff\":15}},\"yaxis\":{\"showgrid\":true,\"title\":{\"standoff\":15}}}},\"xaxis\":{\"anchor\":\"y\",\"domain\":[0.0,1.0],\"title\":{\"text\":\"x\"}},\"yaxis\":{\"anchor\":\"x\",\"domain\":[0.0,0.8316],\"title\":{\"text\":\"count\"}},\"xaxis2\":{\"anchor\":\"y2\",\"domain\":[0.0,1.0],\"matches\":\"x\",\"showticklabels\":false},\"yaxis2\":{\"anchor\":\"x2\",\"domain\":[0.8416,1.0],\"matches\":\"y2\",\"showticklabels\":false,\"showline\":false,\"ticks\":\"\"},\"legend\":{\"tracegroupgap\":0},\"title\":{\"text\":\"Transformación raíz cuadrada\"},\"barmode\":\"relative\"},                        {\"responsive\": true}                    ).then(function(){\n",
              "                            \n",
              "var gd = document.getElementById('e0ba1d1e-7e5d-4f27-b955-16333b16c955');\n",
              "var x = new MutationObserver(function (mutations, observer) {{\n",
              "        var display = window.getComputedStyle(gd).display;\n",
              "        if (!display || display === 'none') {{\n",
              "            console.log([gd, 'removed!']);\n",
              "            Plotly.purge(gd);\n",
              "            observer.disconnect();\n",
              "        }}\n",
              "}});\n",
              "\n",
              "// Listen for the removal of the full notebook cells\n",
              "var notebookContainer = gd.closest('#notebook-container');\n",
              "if (notebookContainer) {{\n",
              "    x.observe(notebookContainer, {childList: true});\n",
              "}}\n",
              "\n",
              "// Listen for the clearing of the current output cell\n",
              "var outputEl = gd.closest('.output');\n",
              "if (outputEl) {{\n",
              "    x.observe(outputEl, {childList: true});\n",
              "}}\n",
              "\n",
              "                        })                };            </script>        </div>\n",
              "</body>\n",
              "</html>"
            ]
          },
          "metadata": {}
        }
      ]
    },
    {
      "cell_type": "code",
      "metadata": {
        "colab": {
          "base_uri": "https://localhost:8080/",
          "height": 611
        },
        "id": "MURvysTK0bYR",
        "outputId": "6cb95931-07a1-4f80-d7c9-41c28daaa2f2"
      },
      "source": [
        "px.histogram(datos,\n",
        "             x = np.log(datos.precio),\n",
        "             title=\"Transformación logarítmica\",\n",
        "             color_discrete_sequence = [\"olive\"], # color\n",
        "             marginal=\"rug\",\n",
        "             template=\"gridon\")"
      ],
      "execution_count": 16,
      "outputs": [
        {
          "output_type": "stream",
          "name": "stderr",
          "text": [
            "/usr/local/lib/python3.11/dist-packages/pandas/core/arraylike.py:399: RuntimeWarning:\n",
            "\n",
            "divide by zero encountered in log\n",
            "\n"
          ]
        },
        {
          "output_type": "display_data",
          "data": {
            "text/html": [
              "<html>\n",
              "<head><meta charset=\"utf-8\" /></head>\n",
              "<body>\n",
              "    <div>            <script src=\"https://cdnjs.cloudflare.com/ajax/libs/mathjax/2.7.5/MathJax.js?config=TeX-AMS-MML_SVG\"></script><script type=\"text/javascript\">if (window.MathJax && window.MathJax.Hub && window.MathJax.Hub.Config) {window.MathJax.Hub.Config({SVG: {font: \"STIX-Web\"}});}</script>                <script type=\"text/javascript\">window.PlotlyConfig = {MathJaxConfig: 'local'};</script>\n",
              "        <script charset=\"utf-8\" src=\"https://cdn.plot.ly/plotly-3.0.1.min.js\"></script>                <div id=\"03e85595-1330-44e5-864b-d671284de190\" class=\"plotly-graph-div\" style=\"height:525px; width:100%;\"></div>            <script type=\"text/javascript\">                window.PLOTLYENV=window.PLOTLYENV || {};                                if (document.getElementById(\"03e85595-1330-44e5-864b-d671284de190\")) {                    Plotly.newPlot(                        \"03e85595-1330-44e5-864b-d671284de190\",                        [{\"bingroup\":\"x\",\"hovertemplate\":\"x=%{x}\\u003cbr\\u003ecount=%{y}\\u003cextra\\u003e\\u003c\\u002fextra\\u003e\",\"legendgroup\":\"\",\"marker\":{\"color\":\"olive\",\"pattern\":{\"shape\":\"\"}},\"name\":\"\",\"orientation\":\"v\",\"showlegend\":false,\"x\":{\"dtype\":\"f8\",\"bdata\":\"AAAAAAAA8P8AAAAAAAAAAO85+v5CLuY\\u002fCwOteuqT8T\\u002fvOfr+Qi72PzON7fdBwPk\\u002fAiAq+gur\\u002fD9XWjKuciL\\u002fP3OrOz+yogBACwOteuqTAUAWVbW7sWsCQEw3f7fjLgNAfZ7TvBbhA0BRjDErBIUEQKe71xbKHAVAH0hNORaqBUDvOfr+Qi4GQHp\\u002f+sFrqgZAhpFrOnsfB0AsswQGNo4HQJHjc3tC9wdAsa5vlC5bCEDIxT13dLoIQPCz0f19FQlA+SySfKdsCUAzje33QcAJQM0a8OqUEApAkIQDuN9dCkAjSpbWWqgKQB\\u002f+zcs48ApAm9YL+aY1C0BaK5FIzngLQGvIuL7TuQtA0bjV9Nj4C0D2DbmB\\u002fDUMQMXzD1NacQxAAiAq+gurDEC9xzruKOMMQKhBw8XGGQ1A1g2IaPlODUANcjI704INQE6sjkVltQ1ALT0uVL\\u002fmDUAR7BQW8BYOQENU\\u002fDYFRg5ApMmjdgt0DkBsQpC9DqEOQLbwkC8azQ5AdbtQPDj4DkBXWjKuciIPQK8brLfSSw9A\\u002fwBR\\u002f2B0D0BJqa6qJZwPQKs8Imgoww9ADBPCd3DpD0Dz\\u002frpZggcQQFBsKsv1GRBAWZqtoRUsEEBNRsbF5D0QQHkpx\\u002fllTxBAizJl3JtgEEANbBLriHEQQOvcJ4QvghBAGxjj6JGSEEBzqzs\\u002fsqIQQHUplJOSshBApiNK2jTCEEAtESjxmtEQQDnOu6DG4BBAuxqUnbnvEEAhQWeJdf4QQMnWJPT7DBFAP1f0XE4bEUDmLyIzbikRQB2r\\u002fNZcNxFAXAeimhtFEUAS6MDCq1IRQDwyTIcOYBFAKU4jFEVtEUBzsa+JUHoRQESAeP0xhxFACwOteuqTEUBlnaYCe6ARQILkYo3krBFA1GX2CSi5EUAKo\\u002fheRsURQEa96WpA0RFA0j+SBBfdEUBgcV37yugRQPaKrhdd9BFAECwxG87\\u002fEUC+XCXBHgsSQHRop75PFhJAcNbzwmEhEkCZv6d3VSwSQOO8\\u002fYArNxJA+KQHfuRBEkD4S+UIgUwSQGp0+LYBVxJAKx0WGWdhEkAWVbW7sWsSQDG6GyfidRJAvceH3\\u002fh\\u002fEkDsE1ll9okSQOKbNjXbkxJApTozyKedEkCTZfCTXKcSQFtHvwr6sBJAxFDAm4C6EkAGVQGz8MMSQDFGmrlKzRJAoaTIFY\\u002fWEkCNswkrvt8SQFyDM1rY6BJAl+GMAd7xEkBFPeR8z\\u002foSQIuNpSWtAxNArkfvUncME0C3cKZZLhUTQFPWiYzSHRNAyXlEPGQmE0BMN3+34y4TQEuz8UpRNxNA6ZZyQa0\\u002fE0ApJAfk90cTQOcp8nkxUBNAWV\\u002fCSFpYE0BCLmCUcmATQLHyGp96aBNAy7a1qXJwE0CzcHPzWngTQGLIIrozgBNA5GopOv2HE0As8I6ut48TQGtYB1FjlxNAlSX9WQCfE0B3FZsAj6YTQJ2A1XoPrhNA+WFz\\u002fYG1E0ASCxe85rwTQF6IRuk9xBNAHrlztofLE0AHHgRUxNITQM5hWPHz2RNAfZ7TvBbhE0BcYuLjLOgTQCR3AZM27xNA7m3E9TP2E0Ba8ts2Jf0TQC3nG4AKBBRAmk6B+uMKFEBTADjOsREUQFAvoCJ0GBRAQsFTHisfFEB6eSvn1iUUQPr4Q6J3LBRAZ5UCdA0zFEBcCBqAmDkUQLH4jukYQBRAGF+80o5GFECCx1dd+kwUQI5wdapbUxRASEqM2rJZFEB71XkNAGAUQKPkhWJDZhRAtT9m+HxsFEDAK0LtrHIUQF\\u002fXtV7TeBRAEq3VafB+FEBRjDErBIUUQEjq174OixRAHNtYQBCRFECEBMnKCJcUQId6xHj4nBRAEIdxZN+iFEAwXYOnvagUQJ24PFuTrhRAO2pymGC0FEA00o13JboUQFhIjxDivxRATnMQe5bFFEArj0bOQssUQPyjBCHn0BRA0Ky9iYPWFECyr4YeGNwUQCvHGPWk4RRArh3TIirnFEBj27y8p+wUQNcGh9cd8hRA3liOh4z3FEAhBN3g8\\u002fwUQLpwLPdTAhVANuzm3awHFUBiTimo\\u002fgwVQDaTxGhJEhVAOGo\\u002fMo0XFUCnu9cWyhwVQMEjhCgAIhVAaWT1eC8nFUCGzZcZWCwVQFOclBt6MRVA8FHTj5U2FUBvAfuGqjsVQKWVcxG5QBVA+w5nP8FFFUB0ucIgw0oVQCpbOMW+TxVAfVs\\u002fPLRUFUAg4xWVo1kVQDz1wd6MXhVA44ESKHBjFUD7caB\\u002fTWgVQNGsz\\u002fMkbRVAjBfQkvZxFUCZjp5qwnYVQFXZBYmIexVAApif+0iAFUBDLNXPA4UVQESc4BK5iRVAqXDN0WiOFUBvjXkZE5MVQOUFlva3lxVA3+undVecFUA2Ggmj8aAVQMv66IqGpRVAH0hNORaqFUCayhK6oK4VQKsR7hgmsxVA1ShsYaa3FUDDSPOeIbwVQIOEw9yXwBVA\\u002fnL3JQnFFUDJ1ISFdckVQF82PQbdzRVA7I7Osj\\u002fSFUCo28OVndYVQPW3hbn22hVANvJaKEvfFUCRHWnsmuMVQJogtQ\\u002fm5xVAB8EjnCzsFUB+LHqbbvAVQIp+Xhes9BVAzUNYGeX4FUCJ+tCqGf0VQHmQFNVJARZAJ95RoXUFFkC\\u002fH5sYnQkWQGdr5kPADRZARCUOLN8RFkAkcdHZ+RUWQOKh1FUQGhZAl6ahqCIeFkCedajaMCIWQIB1P\\u002fQ6JhZAzOOj\\u002fUAqFkDvOfr+Qi4WQBGQTgBBMhZACf6UCTs2FkB0+qkiMToWQPG3UlMjPhZAlYA9oxFCFkCgDwIa\\u002fEUWQIHpIb\\u002fiSRZAIrIImsVNFkCigQyypFEWQGo3bg6AVRZAuctZtldZFkCpn+awK10WQLfLFwX8YBZA02zcuchkFkAG8A\\u002fWkWgWQLVcemBXbBZAgZ3QXxlwFkDbx7Ta13MWQEBitteSdxZANqlSXUp7FkAL0\\u002fRx\\u002fn4WQFBS9huvghZAMhefYVyGFkCczyVJBooWQDomsNisjRZAXABTFlCRFkC+uhII8JQWQEVl47OMmBZApv2oHyacFkAMqTdRvJ8WQL3sU05PoxZAu+WyHN+mFkB6f\\u002frBa6oWQJqpwUP1rRZAu4yQp3uxFkBivuDy\\u002frQWQAV0HSt\\u002fuBZALLWjVfy7FkDGjMJ3dr8WQJg5u5btwhZA7l3Bt2HGFkBrLvvf0skWQCGggRRBzRZA2JVgWqzQFkCeDJe2FNQWQJFHFy561xZA8\\u002frGxdzaFkCOdn+CPN4WQFrPDWmZ4RZAgAgzfvPkFkCsO6TGSugWQLfACkef6xZAr1QEBPHuFkA4QCMCQPIWQFl97kWM9RZApdzh09X4FkDLKW6wHPwWQJpP+d9g\\u002fxZAaHveZqICF0DvP25J4QUXQJy37osdCRdAVqabMlcMF0C1mqZBjg8XQMAON73CEhdAHohqqfQVF0DMt1QKJBkXQFOZ\\u002f+NQHBdAhpFrOnsfF0DCjI8RoyIXQLkcWW3IJRdAyZWsUesoF0DhK2XCCywXQPEOVcMpLxdA84ZFWEUyF0CAD\\u002feEXjUXQP1yIU11OBdAZOVztIk7F0CdHpW+mz4XQHp0I2+rQRdAUPS0ybhEF0AmfNfRw0cXQI\\u002fTEIvMShdAHsTe+NJNF0CGMbce11AXQFMxCADZUxdAWSI4oNhWF0DBw6UC1lkXQMJLqCrRXBdACH6PG8pfF0DFwaPYwGIXQHU3JmW1ZRdATs5QxKdoF0BgWVb5l2sXQG2kYgeGbhdAcIia8XFxF0Db\\u002fxu7W3QXQIw6\\u002fmZDdxdAebFR+Ch6F0AWOiByDH0XQHIZbdftfxdAFRc1K82CF0CWj25wqoUXQO2GCaqFiBdAjLrv2l6LF0AsswQGNo4XQGnWJS4LkRdADngqVt6TF0A66+OAr5YXQDOTHbF+mRdADfSc6UucF0ATwyEtF58XQPD2ZX7goRdArNcd4KekF0BpDvhUbacXQOu0nd8wqhdA62SygvKsF0A5R9RAsq8XQKEinBxwshdAqWqdGCy1F0AVTmY35rcXQDjFf3ueuhdAHKBt51S9F0BzlK59CcAXQF9LvEC8whdABW8LM23FF0D4twtXHMgXQHX6J6\\u002fJyhdAdDPGPXXNF0CJlUcFH9AXQKCVCAjH0hdAjvdgSG3VF0B02qPIEdgXQP3EH4u02hdAdrEeklXdF0C1Gebf9N8XQOUCt3aS4hdAJQnOWC7lF0D\\u002famOIyOcXQMAUqwdh6hdAp6vU2PfsF0DymAv+jO8XQMQUd3kg8hdA7zA6TbL0F0CR43N7QvcXQJwRPwbR+RdALpmy7138F0DVW+E56f4XQK1I2uZyARhAV2ao+PoDGEDj3FJxgQYYQIT\\u002f3FIGCRhAOVZGn4kLGEBLp4pYCw4YQLIAooCLEBhAX8GAGQoTGEBoohclhxUYQA\\u002fAU6UCGBhAu6IenHwaGEDOR14L9RwYQF4q9fRrHxhA1UvCWuEhGEB6PKE+VSQYQNsjaqLHJhhAIcnxhzgpGEBGmwnxpysYQDm5f98VLhhA4PkeVYIwGEAP9K5T7TIYQFcG9NxWNRhAyl6v8r43GECjAp+WJToYQNfVfcqKPBhAkaIDkO4+GECTIOXoUEEYQIn809axQxhAQN9+WxFGGEDGdJF4b0gYQIFztC\\u002fMShhAH6ONgidNGECC479ygU8YQI4z6wHaURhA57esMTFUGECYwZ4Dh1YYQKzUWHnbWBhAsa5vlC5bGEAjTXVWgF0YQNDz+MDQXxhAHTOH1R9iGEBD7qmVbWQYQHRh6AK6ZhhA8CfHHgVpGEAJQsjqTmsYQBkba2iXbRhAXY8smd5vGEDN8YZ+JHIYQNgR8hlpdBhAFkHjbKx2GEDpWM147ngYQAvAID8vexhAE3BLwW59GEDg+rgArX8YQAGQ0v7pgRhABQL\\u002fvCWEGEDBy6I8YIYYQIMVIH+ZiBhAPLrWhdGKGECYTCRSCI0YQAccZOU9jxhAvDnvQHKRGECdfRxmpZMYQCKLQFbXlRhAKtatEgiYGEDDp7ScN5oYQOYio\\u002fVlnBhAH0nFHpOeGEAy\\u002f2QZv6AYQK4RyubpohhAdDk6iBOlGEAwIPn+O6cYQM9kSExjqRhA259ncYmrGEDYZ5Rvrq0YQIxVCkjSrxhARQgD\\u002fPSxGEAHKraMFrQYQLxzWfs2thhAULEgSVa4GEDIxT13dLoYQEWv4IaRvBhAC4s3ea2+GEBwmW5PyMAYQMdBsAriwhhAPhYlrPrEGEC21\\u002fM0EscYQI95QaYoyRhAZSUxAT7LGEDMPuRGUs0YQP1menhlzxhAeIARl3fRGEClssWjiNMYQF9tsZ+Y1RhAgmzti6fXGEBpu5BptdkYQGK4sDnC2xhAIRhh\\u002fc3dGEAg6bO12N8YQP+WuWPi4RhA1e2ACOvjGEB+HRel8uUYQNy8hzr55xhAFM3cyf7pGEC+vB5UA+wYQBJrVNoG7hhACiuDXQnwGEB8xq7eCvIYQC2B2V4L9BhA3hsE3wr2GEBP1y1gCfgYQDl3VOMG+hhAR0V0aQP8GEABFIjz\\u002fv0YQLJBiYL5\\u002fxhASbtvF\\u002fMBGUAv\\u002fzGz6wMZQBkgxVbjBRlA08ccA9oHGUABOiu5zwkZQN5W4XnECxlA8p0uRrgNGUC\\u002fMAEfqw8ZQGrVRQWdERlAYPnn+Y0TGUDws9H9fRUZQODI6xFtFxlA\\u002fqodN1sZGUCofk1uSBsZQE8cYLg0HRlA9xI5FiAfGUCoqrqICiEZQOfmxRD0IhlAG4k6r9wkGUD1EvdkxCYZQNLI2DKrKBlAEbS7GZEqGUBrpXoadiwZQEQ37zVaLhlA7c\\u002fxbD0wGUDyo1nAHzIZQFO4\\u002fDABNBlAv+Svv+E1GUDJ1UZtwTcZQBkPlDqgORlAku1oKH47GUB9qZU3Wz0ZQKZY6Wg3PxlAdPAxvRJBGUAJSDw17UIZQEka1NHGRBlA7gfEk59GGUCOmdV7d0gZQJ5B0YpOShlAcF5+wSRMGUAxPKMg+k0ZQNoWBanOTxlAJRxoW6JRGUB4bY84dVMZQM4hPUFHVRlAmkcydhhXGUCp5i7Y6FgZQPwB8me4WhlAoJk5JodcGUCDrMITVV4ZQD06STEiYBlA5ESIf+5hGUDL0jn\\u002fuWMZQErwFrGEZRlAfbHXlU5nGUD7MzOuF2kZQJKg3\\u002frfahlA+SySfKdsGUB\\u002fHf8zbm4ZQLjG2SE0cBlAJY\\u002fURvlxGUDY8KCjvXMZQBd77ziBdRlA+dNvB0R3GUD7udAPBnkZQKAFwFLHehlA+6rq0Id8GUBCu\\u002fyKR34ZQF5moYEGgBlAavyCtcSBGUBD70ongoMZQAPUodc+hRlAhGQvx\\u002fqGGUDWgJr2tYgZQMAwiWZwihlALKWgFyqMGUCgOYUK440ZQKl12j+bjxlASQ5DuFKRGUBe52B0CZMZQAsV1XS\\u002flBlAFt0\\u002funSWGUBMuEBFKZgZQNxTdhbdmRlAs5J+LpCbGUDPjvaNQp0ZQJmaejX0nhlAMUKmJaWgGUDDTBRfVaIZQMy9XuIEpBlAaNYesLOlGUCYFu3IYacZQIQ+YS0PqRlAvk8S3ruqGUCBjpbbZ6wZQOqCgyYTrhlANvptv72vGUD1B+qmZ7EZQEEHi90QsxlA7JvjY7m0GUC3s4U6YbYZQHaHAmIIuBlAQJzq2q65GUCXxM2lVLsZQIwhO8P5vBlA4yPBM56+GUAzje33QcAZQAlxTRDlwRlA\\u002fzVtfYfDGUDYltg\\u002fKcUZQJyjGljKxhlApsK9xmrIGUC\\u002fsUuMCsoZQC2HTampyxlAvbJLHkjNGUDa\\u002fs3r5c4ZQI+RWxKD0BlAlO16kh\\u002fSGUBU87Fsu9MZQPPhhaFW1RlATlh7MfHWGUD+VRYdi9gZQFU82mQk2hlAXM9JCb3bGUDMNucKVd0ZQAr\\u002fM2rs3hlAGBqxJ4PgGUCR4N5DGeIZQJcSPb+u4xlAxNhKmkPlGUAfxYbV1+YZQADUbnFr6BlABW2Abv7pGUD3YzjNkOsZQLD5Eo4i7RlAB92LsbPuGUCvKx44RPAZQB5zRCLU8RlAa7F4cGPzGUAvVjQj8vQZQGBD8DqA9hlAMc4kuA34GUDpv0mbmvkZQL5W1uQm+xlAqEZBlbL8GUA7ugCtPf4ZQHlTiizI\\u002fxlAoixTFFIBGkAH2c9k2wIaQNpldB5kBBpA+Vq0QewFGkC4uwLPcwcaQLMH0sb6CBpAjjuUKYEKGkDD0br3BgwaQGTDtjGMDRpA4oj41xAPGkDNGvDqlBAaQJnyDGsYEhpAXAu+WJsTGkCO4nG0HRUaQMN4ln6fFhpAbVKZtyAYGkCReOdfoRkaQIF57XchGxpAl2kXAKEcGkDq49D4Hx4aQP8KhWKeHxpAhYmePRwhGkAAk4eKmSIaQH7kqUkWJBpARcVue5IlGkCGBz8gDicaQAIJgziJKBpAwbOixAMqGkCzfgXFfSsaQF9uEjr3LBpAjBUwJHAuGkDklcSD6C8aQJ6gNVlgMRpAInfopNcyGkCr60FnTjQaQOxhpqDENRpArs95UTo3GkB1vR96rzgaQBlH+xokOhpAaxxvNJg7GkDKgd3GCz0aQMdQqNJ+PhpAt\\u002fgwWPE\\u002fGkBVf9hXY0EaQFSB\\u002f9HUQhpA+DIGx0VEGkCwYEw3tkUaQKVvMSMmRxpAU14Ui5VIGkAbxVNvBEoaQNTWTdBySxpAXGFgruBMGkArzugJTk4aQN8iROO6TxpAygHPOidRGkCCquUQk1IaQGr642X+UxpAQW0lOmlVGkCmHQWO01YaQKnF3WE9WBpATL8JtqZZGkAQBeOKD1saQHgyw+B3XBpAkIQDuN9dGkBx2vwQR18aQMW1B+ytYBpASzt8SRRiGkBWM7IpemMaQFAKAY3fZBpAO9G\\u002fc0RmGkAuPkXeqGcaQNOs58wMaRpA6h79P3BqGkC+PNs302saQKdV17Q1bRpAgWBGt5duGkAp\\u002fHw\\u002f+W8aQPRvz01acRpAKayR4rpyGkB6Shf+GnQaQHaOs6B6dRpAB2a5ytl2GkDfaXt8OHgaQPHdS7aWeRpA57F8ePR6GkCPgV\\u002fDUXwaQFOVRZeufRpApeJ\\u002f9Ap\\u002fGkB2DF\\u002fbZoAaQKBjM0zCgRpAWudMRx2DGkCiRfvMd4QaQLHbjd3RhRpAYbZTeSuHGkCdkpughIgaQM7ds1PdiRpAQ7bqkjWLGkCc641ejYwaQDb\\u002f6rbkjRpAjyRPnDuPGkCzQQcPkpAaQKHvXw\\u002fokRpAsnqlnT2TGkD\\u002f4iO6kpQaQMbcJmXnlRpA09D5njuXGkDe3Odnj5gaQPHTO8DimRpAzD5AqDWbGkBHXD8giJwaQLIhgyjanRpANztVwSufGkA7DP\\u002fqfKAaQL2vyaXNoRpAtPj98R2jGkBvcuTPbaQaQPNgxT+9pRpAV8HoQQynGkAjSpbWWqgaQKlrFf6oqRpAY1CtuPaqGkBM3aQGRKwaQD2yQuiQrRpAQyrNXd2uGkD+W4pnKbAaQPIZwAV1sRpA5fKzOMCyGkA1MqsAC7QaQDDg6l1VtRpAZcK3UJ+2GkACXFbZ6LcaQCTuCvgxuRpALXgZrXq6GkAYuMX4wrsaQM8qU9sKvRpAfAwFVVK+GkDaWB5mmb8aQIzL4Q7gwBpAbOCRTybCGkDb03AobMMaQBOjwJmxxBpAegzDo\\u002fbFGkDqj7lGO8caQApv5YJ\\u002fyBpAla2HWMPJGkCsEeHHBssaQCEkMtFJzBpAyDC7dIzNGkDCRryyzs4aQMg4dYsQ0BpAd50l\\u002f1HRGkCfzwwOk9IaQIjuabjT0xpARN57\\u002fhPVGkDvR4HgU9YaQASauF6T1xpAnQhgedLYGkDAjbUwEdoaQKbp9oRP2xpAAqNhdo3cGkBMBzMFy90aQAQrqDEI3xpA+en9+0TgGkCR53BkgeEaQAyPPWu94hpAzhOgEPnjGkCccdRUNOUaQOlsFjhv5hpAE5OhuqnnGkCrOrHc4+gaQLiDgJ4d6hpA9VdKAFfrGkAZa0kCkOwaQBc7uKTI7RpAXxDR5wDvGkAf\\u002fs3LOPAaQITi6FBw8RpA\\u002fWZbd6fyGkB3AF8\\u002f3vMaQJ7vLKkU9RpAHkH+tEr2GkDizQtjgPcaQE07jrO1+BpAgfu9pur5GkCVTdM8H\\u002fsaQNc9BnZT\\u002fBpAB6aOUof9GkCXLaTSuv4aQOFJfvbt\\u002fxpAaD5UviABG0AVHV0qUwIbQG3GzzqFAxtAz+ni77YEG0CvBc1J6AUbQNFnxEgZBxtAfy3\\u002f7EkIG0DHQ7M2egkbQLJnFiaqChtAfSZeu9kLG0DT3b\\u002f2CA0bQAS8cNg3DhtAPMClYGYPG0C\\u002fupOPlBAbQBlNb2XCERtAXeps4u8SG0BW18AGHRQbQMAqn9JJFRtAfc07RnYWG0DMesphohcbQHzAfiXOGBtAJf+LkfkZG0BXaiWmJBsbQNYIfmNPHBtAx7TIyXkdG0DqGzjZox4bQMq\\u002f\\u002fpHNHxtA7\\u002fVO9PYgG0AW6FoAICIbQGGUVLZIIxtAiM1tFnEkG0AOO9ggmSUbQHBZxdXAJhtAW3pmNegnG0DYxOw\\u002fDykbQIE1ifU1KhtAsJ5sVlwrG0CyqMdigiwbQPHRyhqoLRtALW+mfs0uG0Clq4qO8i8bQEeJp0oXMRtA4+AsszsyG0BXYkrIXzMbQLyUL4qDNBtAm9YL+aY1G0ASXg4VyjYbQAs5Zt7sNxtAYU1CVQ85G0AVWdF5MTobQHfyQUxTOxtAVIjCzHQ8G0AfYoH7lT0bQCegrNi2PhtAtjtyZNc\\u002fG0BJBwCf90AbQLSug4gXQhtAULcqITdDG0AngCJpVkQbQB1CmGB1RRtAHBC5B5RGG0A+17FeskcbQPher2XQSBtAQ0neHO5JG0DFEmuEC0sbQP8SgpwoTBtAb3xPZUVNG0DBXP\\u002feYU4bQPGcvQl+TxtAegG25ZlQG0B4KhRztVEbQNaTA7LQUhtAcZWvoutTG0BFY0NFBlUbQI8N6pkgVhtA+oDOoDpXG0DChhtaVFgbQNvE+8VtWRtAHL6Z5IZaG0Bg0h+2n1sbQLA+uDq4XBtAZx2NctBdG0BcZshd6F4bQAHvk\\u002fz\\u002fXxtAjmoZTxdhG0AkaoJVLmIbQPJc+A9FYxtAXZCkfltkG0AfMLChcWUbQHBGRHmHZhtAK7yJBZ1nG0DsWKlGsmgbQD3DyzzHaRtAsYAZ6NtqG0AP9rpI8GsbQG5n2F4EbRtAX\\u002fiZKhhuG0AMrCesK28bQF1lqeM+cBtAGedG0VFxG0AH1Cd1ZHIbQBWvc892cxtAeNtR4Ih0G0DKnOmnmnUbQDMXYiasdhtAg0\\u002fiW713G0BaK5FIzngbQEVxlezeeRtA4cgVSO96G0D6ujhb\\u002f3sbQK+xJCYPfRtAjvj\\u002fqB5+G0C6vPDjLX8bQAUNHdc8gBtAFtqqgkuBG0CD9r\\u002fmWYIbQPYWggNogxtASdIW2XWEG0CooaNng4UbQK7gTa+QhhtAhc06sJ2HG0AEiY9qqogbQNEWcd62iRtAfF0EDMOKG0CcJm7zzosbQPQe05TajBtAjNZX8OWNG0DNwCAG8Y4bQKY0Utb7jxtAo2wQYQaRG0AOh3+mEJIbQAqGw6YakxtAtE8AYiSUG0A7rlnYLZUbQAFQ8wk3lhtAtsfw9j+XG0B2jHWfSJgbQOL5pANRmRtAQ1CiI1maG0CdtJD\\u002fYJsbQNMwk5donBtAwLPM62+dG0BSEWD8dp4bQKcCcMl9nxtAJyYfU4SgG0Cg\\u002f4+ZiqEbQGT45JyQohtAX19AXZajG0A2acTam6QbQF4wkxWhpRtAPbXODaamG0A93pjDqqcbQOx3EzevqBtAEzVgaLOpG0DSrqBXt6obQLtk9gS7qxtA6byCcL6sG0AaBGeawa0bQMttxILErhtAUhS8KcevG0Dy+G6PybAbQPwD\\u002frPLsRtA4QSKl82yG0BQsjM6z7MbQE2qG5zQtBtASHJivdG1G0A6dyie0rYbQLoNjj7TtxtAFXKzntO4G0BryLi+07kbQMEcvp7TuhtAHGPjPtO7G0Cbd0if0rwbQIweDcDRvRtAhARRodC+G0B3vjNDz78bQM\\u002fJ1KXNwBtAhYxTycvBG0A3Vc+tycIbQD9bZ1PHwxtAyr46usTEG0DwiGjiwcUbQMqrD8y+xhtAhwJPd7vHG0CHUUXkt8gbQG1GERO0yRtAOHjRA7DKG0BXZ6S2q8sbQMN9qCunzBtAEA\\u002f8YqLNG0CJWL1cnc4bQD+BChmYzxtAI5oBmJLQG0AcnsDZjNEbQBtyZd6G0htAMOUNpoDTG0ChsNcwetQbQP134H5z1RtAM8lFkGzWG0CoHCVlZdcbQEjVm\\u002f1d2BtAnkDHWVbZG0DplsR5TtobQC77sF1G2xtAT3upBT7cG0AeEMtxNd0bQHKdMqIs3htAPPL8liPfG0CYyEZQGuAbQObFLM4Q4RtA2HrLEAfiG0CNYz8Y\\u002feIbQJ7npOTy4xtANVoYdujkG0Ag+rXM3eUbQObxmejS5htA2FfgycfnG0AlLqVwvOgbQO5iBN2w6RtAWdAZD6XqG0CiPAEHmesbQDNa1sSM7BtAsMe0SIDtG0APELiSc+4bQKqq+6Jm7xtAT\\u002fuaeVnwG0BTUrEWTPEbQKnsWXo+8htA7\\u002fOvpDDzG0CCfs6VIvQbQJCP0E0U9RtAKxfRzAX2G0Bc8uoS9\\u002fYbQDDrOCDo9xtA0bjV9Nj4G0CR\\u002f9uQyfkbQABRZvS5+htA\\u002fSuPH6r7G0DF\\u002fHASmvwbQAcdJs2J\\u002fRtA9tPIT3n+G0BXVnOaaP8bQJTGP61XABxA0DRIiEYBHEDynqYrNQIcQLvwdJcjAxxA1QPNyxEEHEDjn8jI\\u002fwQcQJV6gY7tBRxAsjcRHdsGHEAyaZF0yAccQEePG5W1CBxAbxjJfqIJHECHYbMxjwocQNm18617CxxALE+j82cMHEDXVdsCVA0cQMzgtNs\\u002fDhxArvVIfisPHEDciLDqFhAcQIN9BCECERxArqVdIe0RHEBWwtTr1xIcQG+DgoDCExxA+4d\\u002f36wUHEAYXuQIlxUcQA+DyfyAFhxAY2NHu2oXHEDjWnZEVBgcQLa0bpg9GRxAbKtItyYaHEAMaRyhDxscQCQHAlb4GxxA2I4R1uAcHEDv+GIhyR0cQOYtDjixHhxA+wUrGpkfHEA6SdHHgCAcQJKvGEFoIRxA3uAYhk8iHED4dOmWNiMcQMHzoXMdJBxANtVZHAQlHEB7gSiR6iUcQOpQJdLQJhxAIoxn37YnHEARbAa5nCgcQAkaGV+CKRxAx6+20WcqHECIN\\u002fYQTSscQBCs7hwyLBxAu\\u002fi29RYtHECM+WWb+y0cQDh7Eg7gLhxAODvTTcQvHEDQ575aqDAcQCEg7DSMMRxAN3Rx3G8yHEATZWVRUzMcQL1k3pM2NBxAS9byoxk1HED2DbmB\\u002fDUcQB9RRy3fNhxAYtazpsE3HECjxRTuozgcQBY4gAOGORxAUDgM52c6HEBVws6YSTscQKHD3RgrPBxANhtPZww9HECsmTiE7T0cQDkBsG\\u002fOPhxAwAXLKa8\\u002fHEDeTJ+yj0AcQPRtQgpwQRxAOfLJMFBCHEC9VEsmMEMcQIAC3OoPRBxAeFqRfu9EHECcrYDhzkUcQPU+vxOuRhxAqENiFY1HHEAB437ma0gcQIE2KodKSRxA6El59yhKHEBBG4E3B0scQPKaVkflSxxAwqsOJ8NMHEDnIr7WoE0cQBTIeVZ+ThxAglVWpltPHED+d2jGOFAcQO\\u002fOxLYVURxAaux\\u002fd\\u002fJRHEA2Va4Iz1IcQN2AZGqrUxxAtNm2nIdUHEDnvLmfY1UcQIN6gXM\\u002fVhxAh1UiGBtXHEDmg7CN9lccQJwuQNTRWBxAsXHl66xZHEBJXLTUh1ocQKzwwI5iWxxAVCQfGj1cHED13+J2F10cQIr\\u002fH6XxXRxAXlLqpMteHEAam1V2pV8cQMuPdRl\\u002fYBxA8dldjlhhHECGFiLVMWIcQA3W1e0KYxxAmJyM2ONjHEDW4VmVvGQcQBwRUSSVZRxAb4mFhW1mHECPnQq5RWccQAGU874daBxAGqdTl\\u002fVoHEAKBT5CzWkcQOLPxb+kahxAph3+D3xrHEBN+PkyU2wcQNZdzCgqbRxAR0CI8QBuHEDChUCN124cQIUICPytbxxA\\u002fJbxPYRwHEDF8w9TWnEcQL\\u002fVdTswchxADeg19wVzHEAoymKG23McQOIPD+mwdBxAdEFNH4Z1HECF2y8pW3YcQDNPyQYwdxxAIgIsuAR4HEB\\u002fTmo92XgcQAyDlpateRxAKuPCw4F6HEDkpgHFVXscQPX6ZJopfBxA0QD\\u002fQ\\u002f18HEC0zuHB0H0cQKNvHxSkfhxAfuPJOnd\\u002fHEACH\\u002fM1SoAcQNULrQUdgRxAkYgJqu+BHEDKaBojwoIcQBh18XCUgxxAIWugk2aEHECg\\u002fTiLOIUcQHHUzFcKhhxAmIxt+duGHEBHuCxwrYccQO7eG7x+iBxAPX1M3U+JHEAvBdDTIIocQBbet5\\u002fxihxAnmQVQcKLHEDZ6vm3kowcQEm4dgRjjRxA5AmdJjOOHEAhEn4eA48cQP34KuzSjxxACdy0j6KQHEBrziwJcpEcQOvYo1hBkhxA+\\u002fkqfhCTHEDAJdN535McQBhGrUuulBxAozrK83yVHEDN2DpyS5YcQNTrD8cZlxxA0jRa8ueXHEDEair0tZgcQJI6kcyDmRxAGUefe1GaHEAxKWUBH5scQLVv813smxxAjJ9akbmcHECyM6ubhp0cQDyd9XxTnhxAZUNKNSCfHECTg7nE7J8cQF6xUyu5oBxAmhYpaYWhHEBe80l+UaIcQAp+xmodoxxAVOOuLumjHEBIRhPKtKQcQFXAAz2ApRxAVmGQh0umHECTL8mpFqccQM8nvqPhpxxATD1\\u002fdayoHEDUWRwfd6kcQMFdpaBBqhxAAiAq+gurHEAlbror1qscQFwMZjWgrBxAibU8F2qtHEA+G07RM64cQMvlqWP9rhxAQ7RfzsavHECCHH8RkLAcQDWrFy1ZsRxA4uM4ISKyHEDuQPLt6rIcQKYzU5OzsxxARSRrEXy0HED5cUloRLUcQO1y\\u002fZcMthxAUXSWoNS2HEBcuiOCnLccQFmAtDxkuBxAqfhX0Cu5HEDOTB0987kcQG2dE4O6uhxAWgJKooG7HECeis+aSLwcQHk8s2wPvRxAbxUEGNa9HEBLCtGcnL4cQCcHKftivxxAdO8aMynAHED8nbVE78AcQO\\u002fkBzC1wRxA5o0g9XrCHEDpWQ6UQMMcQHkB4AwGxBxAkzSkX8vEHEC3mmmMkMUcQPLSPpNVxhxA4HMydBrHHEC2C1Mv38ccQEUgr8SjyBxABi9VNGjJHEAYrVN+LMocQFAHuaLwyhxANqKTobTLHEAU2vF6eMwcQPYC4i48zRxAsmhyvf\\u002fNHEDxTrEmw84cQDDxrGqGzxxAzIJziUnQHEAELxODDNEcQAEZmlfP0RxA21sWB5LSHECiCpaRVNMcQF8wJ\\u002fcW1BxAINDXN9nUHED45LVTm9UcQAtiz0pd1hxAjzIyHR\\u002fXHEDXOezK4NccQFNTC1Si2BxAmlKduGPZHEBxA7D4JNocQMwpURTm2hxA2IGOC6fbHEABwHXeZ9wcQPWQFI0o3RxAq5l4F+ndHEBrd699qd4cQM+\\u002fxr9p3xxAzgDM3SngHEC\\u002fwMzX6eAcQF5+1q2p4RxA1bD2X2niHEC9xzruKOMcQCgrsFjo4xxAojtkn6fkHEA9UmTCZuUcQJHAvcEl5hxAw9B9neTmHECMxbFVo+ccQD7aZuph6BxAx0KqWyDpHEC8K4mp3ukcQFe6ENSc6hxAgwxO21rrHEDgOE6\\u002fGOwcQMROHoDW7BxARlbLHZTtHEBAUGKYUe4cQFg28O8O7xxA\\u002f\\u002fqBJMzvHEB8iSQ2ifAcQPHF5CRG8RxAW43P8ALyHECdtfGZv\\u002fIcQIQNWCB88xxAylwPhDj0HEAcZCTF9PQcQCLdo+Ow9RxAf3qa32z2HEDc5xS5KPccQOjJH3Dk9xxAYL7HBKD4HEAUXBl3W\\u002fkcQOkyIccW+hxA5Mvr9NH6HEAqqYUAjfscQAVG++lH\\u002fBxA7BZZsQL9HECHiatWvf0cQLME\\u002f9l3\\u002fhxAhuhfOzL\\u002fHEBXjtp67P8cQMFIe5imAB1AqWNOlGABHUA\\u002fJGBuGgIdQAjJvCbUAh1A4olwvY0DHUAEmIcyRwQdQAseDoYABR1A9T8QuLkFHUAvG5rIcgYdQJPGt7crBx1AcVJ1heQHHUCSyN4xnQgdQDssAL1VCR1ANnrlJg4KHUDTqJpvxgodQO6nK5d+Cx1A82CknTYMHUDjthCD7gwdQFqGfEemDR1AkaXz6l0OHUBl5IFtFQ8dQFkMM8\\u002fMDx1AneASEIQQHUASHi0wOxEdQEx7jS\\u002fyER1Amqg\\u002fDqkSHUAKUE\\u002fMXxMdQGkVyGkWFB1AT5a15swUHUAdaiNDgxUdQAMiHX85Fh1ACEmumu8WHUAIZOKVpRcdQMDxxHBbGB1AymphKxEZHUCoQcPFxhkdQMfi9T98Gh1Af7QEmjEbHUAdF\\u002fvT5hsdQORk5O2bHB1AE\\u002fLL51AdHUDnDL3BBR4dQKH9wnu6Hh1AigbpFW8fHUD3YzqQIyAdQE5MwurXIB1ACPCLJYwhHUC2eaJAQCIdQAgOETz0Ih1AzsviF6gjHUD7yyLUWyQdQK8h3HAPJR1AM9oZ7sIlHUAD\\u002feZLdiYdQNKLToopJx1AiYJbqdwnHUBR1xipjygdQJR6kYlCKR1AAFfQSvUpHUCOUeDspyodQIRJzG9aKx1AeRif0wwsHUBakmMYvywdQGuFJD5xLR1AUrrsRCMuHUAR9MYs1S4dQBLwvfWGLx1AKGbcnzgwHUCRCC0r6jAdQPyDupebMR1Aj3+P5UwyHUDlnLYU\\u002fjIdQBh4OiWvMx1Av6clF2A0HUD4vILqEDUdQGdDXJ\\u002fBNR1AO8G8NXI2HUAyt66tIjcdQJ6gPAfTNx1AZ\\u002fNwQoM4HUAQIFZfMzkdQLiR9l3jOR1AIa5cPpM6HUC01ZIAQzsdQIFjo6TyOx1ARa2YKqI8HUBtA32SUT0dQByxWtwAPh1ALPw7CLA+HUAvJSsWXz8dQHtnMgYOQB1AJflb2LxAHUAJC7KMa0EdQM3IPiMaQh1A5FgMnMhCHUCR3CT3dkMdQOtvkjQlRB1A4ylfVNNEHUBDHJVWgUUdQLRTPjsvRh1AwtdkAt1GHUDeqhKsikcdQGPKUTg4SB1Aly4sp+VIHUCzyqv4kkkdQOCM2ixASh1AQF7CQ+1KHUDvIm09mksdQAW65BlHTB1Anv0y2fNMHUDZwmF7oE0dQNvZegBNTh1A1g2IaPlOHUAMJZOzpU8dQM3gpeFRUB1Agf3J8v1QHUCnMgnnqVEdQNoybb5VUh1A1av\\u002feAFTHUB0RsoWrVMdQLim1pdYVB1AzWsu\\u002fANVHUAJMNtDr1UdQPGI5m5aVh1APwdafQVXHUDfNj9vsFcdQPmen0RbWB1A8MGE\\u002fQVZHUBlHfiZsFkdQDwqAxpbWh1AoVyvfQVbHUAEJAbFr1sdQCXrEPBZXB1AERjZ\\u002fgNdHUAnDGjxrV0dQBwkx8dXXh1A+7f\\u002fgQFfHUAuGxsgq18dQHucIqJUYB1ACoYfCP5gHUBmHRtSp2EdQIWjHoBQYh1AxFQzkvliHUDwaGKIomMdQEUTtWJLZB1AdYI0IfRkHUCm4OnDnGUdQHlT3kpFZh1ADPwatu1mHUD79qgFlmcdQGZckTk+aB1A8j\\u002fdUeZoHUDMsJVOjmkdQK25wy82ah1A3GBw9d1qHUAxqKSfhWsdQBiNaS4tbB1AlQjIodRsHUBFD8n5e20dQGGRdTYjbh1Aw3rWV8puHUDnsvRdcW8dQO4c2UgYcB1AoZeMGL9wHUB0\\u002fRfNZXEdQIokhGYMch1Atd7Z5LJyHUB7+SFIWXMdQBg+ZZD\\u002fcx1AgXGsvaV0HUBoVADQS3UdQDyjacfxdR1ALRbxo5d2HUAvYZ9lPXcdQAA0fQzjdx1AIzqTmIh4HUDpGuoJLnkdQHN5imDTeR1As\\u002fR8nHh6HUBtJ8q9HXsdQEGoesTCex1AowmXsGd8HUDn2SeCDH0dQECjNTmxfR1AwevI1VV+HUBiNepX+n4dQAL+ob+efx1Aa7\\u002f4DEOAHUBQ7\\u002fY\\u002f54AdQFb\\u002fpFiLgR1AEl0LVy+CHUANcjI704IdQMejIgV3gx1AuVPktBqEHUBY339KvoQdQBig\\u002fcVhhR1Aa+tlJwWGHUDKEsFuqIYdQLJjF5xLhx1Aqidxr+6HHUBCpNaokYgdQBkbUIg0iR1A3cnlTdeJHUBR6p\\u002f5eYodQEuyhoscix1AuFOiA7+LHUCg\\u002fPphYYwdQCjXmKYDjR1AlAmE0aWNHUBItsTiR44dQM77Ytrpjh1A0\\u002fRmuIuPHUAxuNh8LZAdQOpYwCfPkB1ALuYluXCRHUBfaxExEpIdQA\\u002fwio+zkh1ABnia1FSTHUBEA0gA9pMdQACOmxKXlB1AsBCdCziVHUAGgFTr2JUdQPXMybF5lh1AteQEXxqXHUDBsA3zupcdQN0W7G1bmB1AFvmnz\\u002fuYHUDGNUkYnJkdQJen10c8mh1AgiVbXtyaHUDTgttbfJsdQC2PYEAcnB1AjBbyC7ycHUBC4Ze+W50dQAK0WVj7nR1A208\\u002f2ZqeHUA+clBBOp8dQP7UlJDZnx1AVS4Ux3igHUDkMNbkF6EdQLWL4um2oR1AQOpA1lWiHUBr9Pip9KIdQIpOEmWTox1AaJmUBzKkHUBCcoeR0KQdQM1y8gJvpR1ANzHdWw2mHUAqQE+cq6YdQM8uUMRJpx1Ay4jn0+enHUBK1hzLhagdQPmb96kjqR1ADFt\\u002fcMGpHUA\\u002fkbseX6odQNq4s7T8qh1AsUhvMpqrHUAmtPWXN6wdQC9rTuXUrB1AUdqAGnKtHUCoapQ3D64dQOmBkDysrh1AYIJ8KUmvHUD2yl\\u002f+5a8dQC+3QbuCsB1AM58pYB+xHUDH1x7tu7EdQFeyKGJYsh1A9HxOv\\u002fSyHUBVgpcEkbMdQN4JCzIttB1AnVewR8m0HUBOrI5FZbUdQF1FrSsBth1A6FwT+py2HUDCKciwOLcdQHPf0k\\u002fUtx1AO64612+4HUAUwwZHC7kdQLVHPp+muR1AkGLo30G6HUDcNgwJ3bodQIzksBp4ux1AXIjdFBO8HUDLO5n3rbwdQB8V68JIvR1AayfaduO9HUCLgm0Tfr4dQCkzrJgYvx1AvkKdBrO\\u002fHUCYt0ddTcAdQNKUspznwB1AY9rkxIHBHUAVheXVG8IdQIuOu8+1wh1ARe1tsk\\u002fDHUCglAN+6cMdQNV0gzKDxB1AAHv0zxzFHUAfkV1WtsUdQBOexcVPxh1ApoUzHunGHUCIKK5fgscdQFNkPIobyB1AjRPlnbTIHUCrDa+aTckdQA4noYDmyR1ADTHCT3\\u002fKHUDu+RgIGMsdQO1MrKmwyx1AP\\u002fKCNEnMHUAPr6Oo4cwdQINFFQZ6zR1AvXTeTBLOHUDe+AV9qs4dQAWLkpZCzx1AVOGKmdrPHUDwrvWFctAdQAKk2VsK0R1A\"},\"xaxis\":\"x\",\"yaxis\":\"y\",\"type\":\"histogram\"},{\"boxpoints\":\"all\",\"fillcolor\":\"rgba(255,255,255,0)\",\"hoveron\":\"points\",\"hovertemplate\":\"x=%{x}\\u003cextra\\u003e\\u003c\\u002fextra\\u003e\",\"jitter\":0,\"legendgroup\":\"\",\"line\":{\"color\":\"rgba(255,255,255,0)\"},\"marker\":{\"color\":\"olive\",\"symbol\":\"line-ns-open\"},\"name\":\"\",\"showlegend\":false,\"x\":{\"dtype\":\"f8\",\"bdata\":\"AAAAAAAA8P8AAAAAAAAAAO85+v5CLuY\\u002fCwOteuqT8T\\u002fvOfr+Qi72PzON7fdBwPk\\u002fAiAq+gur\\u002fD9XWjKuciL\\u002fP3OrOz+yogBACwOteuqTAUAWVbW7sWsCQEw3f7fjLgNAfZ7TvBbhA0BRjDErBIUEQKe71xbKHAVAH0hNORaqBUDvOfr+Qi4GQHp\\u002f+sFrqgZAhpFrOnsfB0AsswQGNo4HQJHjc3tC9wdAsa5vlC5bCEDIxT13dLoIQPCz0f19FQlA+SySfKdsCUAzje33QcAJQM0a8OqUEApAkIQDuN9dCkAjSpbWWqgKQB\\u002f+zcs48ApAm9YL+aY1C0BaK5FIzngLQGvIuL7TuQtA0bjV9Nj4C0D2DbmB\\u002fDUMQMXzD1NacQxAAiAq+gurDEC9xzruKOMMQKhBw8XGGQ1A1g2IaPlODUANcjI704INQE6sjkVltQ1ALT0uVL\\u002fmDUAR7BQW8BYOQENU\\u002fDYFRg5ApMmjdgt0DkBsQpC9DqEOQLbwkC8azQ5AdbtQPDj4DkBXWjKuciIPQK8brLfSSw9A\\u002fwBR\\u002f2B0D0BJqa6qJZwPQKs8Imgoww9ADBPCd3DpD0Dz\\u002frpZggcQQFBsKsv1GRBAWZqtoRUsEEBNRsbF5D0QQHkpx\\u002fllTxBAizJl3JtgEEANbBLriHEQQOvcJ4QvghBAGxjj6JGSEEBzqzs\\u002fsqIQQHUplJOSshBApiNK2jTCEEAtESjxmtEQQDnOu6DG4BBAuxqUnbnvEEAhQWeJdf4QQMnWJPT7DBFAP1f0XE4bEUDmLyIzbikRQB2r\\u002fNZcNxFAXAeimhtFEUAS6MDCq1IRQDwyTIcOYBFAKU4jFEVtEUBzsa+JUHoRQESAeP0xhxFACwOteuqTEUBlnaYCe6ARQILkYo3krBFA1GX2CSi5EUAKo\\u002fheRsURQEa96WpA0RFA0j+SBBfdEUBgcV37yugRQPaKrhdd9BFAECwxG87\\u002fEUC+XCXBHgsSQHRop75PFhJAcNbzwmEhEkCZv6d3VSwSQOO8\\u002fYArNxJA+KQHfuRBEkD4S+UIgUwSQGp0+LYBVxJAKx0WGWdhEkAWVbW7sWsSQDG6GyfidRJAvceH3\\u002fh\\u002fEkDsE1ll9okSQOKbNjXbkxJApTozyKedEkCTZfCTXKcSQFtHvwr6sBJAxFDAm4C6EkAGVQGz8MMSQDFGmrlKzRJAoaTIFY\\u002fWEkCNswkrvt8SQFyDM1rY6BJAl+GMAd7xEkBFPeR8z\\u002foSQIuNpSWtAxNArkfvUncME0C3cKZZLhUTQFPWiYzSHRNAyXlEPGQmE0BMN3+34y4TQEuz8UpRNxNA6ZZyQa0\\u002fE0ApJAfk90cTQOcp8nkxUBNAWV\\u002fCSFpYE0BCLmCUcmATQLHyGp96aBNAy7a1qXJwE0CzcHPzWngTQGLIIrozgBNA5GopOv2HE0As8I6ut48TQGtYB1FjlxNAlSX9WQCfE0B3FZsAj6YTQJ2A1XoPrhNA+WFz\\u002fYG1E0ASCxe85rwTQF6IRuk9xBNAHrlztofLE0AHHgRUxNITQM5hWPHz2RNAfZ7TvBbhE0BcYuLjLOgTQCR3AZM27xNA7m3E9TP2E0Ba8ts2Jf0TQC3nG4AKBBRAmk6B+uMKFEBTADjOsREUQFAvoCJ0GBRAQsFTHisfFEB6eSvn1iUUQPr4Q6J3LBRAZ5UCdA0zFEBcCBqAmDkUQLH4jukYQBRAGF+80o5GFECCx1dd+kwUQI5wdapbUxRASEqM2rJZFEB71XkNAGAUQKPkhWJDZhRAtT9m+HxsFEDAK0LtrHIUQF\\u002fXtV7TeBRAEq3VafB+FEBRjDErBIUUQEjq174OixRAHNtYQBCRFECEBMnKCJcUQId6xHj4nBRAEIdxZN+iFEAwXYOnvagUQJ24PFuTrhRAO2pymGC0FEA00o13JboUQFhIjxDivxRATnMQe5bFFEArj0bOQssUQPyjBCHn0BRA0Ky9iYPWFECyr4YeGNwUQCvHGPWk4RRArh3TIirnFEBj27y8p+wUQNcGh9cd8hRA3liOh4z3FEAhBN3g8\\u002fwUQLpwLPdTAhVANuzm3awHFUBiTimo\\u002fgwVQDaTxGhJEhVAOGo\\u002fMo0XFUCnu9cWyhwVQMEjhCgAIhVAaWT1eC8nFUCGzZcZWCwVQFOclBt6MRVA8FHTj5U2FUBvAfuGqjsVQKWVcxG5QBVA+w5nP8FFFUB0ucIgw0oVQCpbOMW+TxVAfVs\\u002fPLRUFUAg4xWVo1kVQDz1wd6MXhVA44ESKHBjFUD7caB\\u002fTWgVQNGsz\\u002fMkbRVAjBfQkvZxFUCZjp5qwnYVQFXZBYmIexVAApif+0iAFUBDLNXPA4UVQESc4BK5iRVAqXDN0WiOFUBvjXkZE5MVQOUFlva3lxVA3+undVecFUA2Ggmj8aAVQMv66IqGpRVAH0hNORaqFUCayhK6oK4VQKsR7hgmsxVA1ShsYaa3FUDDSPOeIbwVQIOEw9yXwBVA\\u002fnL3JQnFFUDJ1ISFdckVQF82PQbdzRVA7I7Osj\\u002fSFUCo28OVndYVQPW3hbn22hVANvJaKEvfFUCRHWnsmuMVQJogtQ\\u002fm5xVAB8EjnCzsFUB+LHqbbvAVQIp+Xhes9BVAzUNYGeX4FUCJ+tCqGf0VQHmQFNVJARZAJ95RoXUFFkC\\u002fH5sYnQkWQGdr5kPADRZARCUOLN8RFkAkcdHZ+RUWQOKh1FUQGhZAl6ahqCIeFkCedajaMCIWQIB1P\\u002fQ6JhZAzOOj\\u002fUAqFkDvOfr+Qi4WQBGQTgBBMhZACf6UCTs2FkB0+qkiMToWQPG3UlMjPhZAlYA9oxFCFkCgDwIa\\u002fEUWQIHpIb\\u002fiSRZAIrIImsVNFkCigQyypFEWQGo3bg6AVRZAuctZtldZFkCpn+awK10WQLfLFwX8YBZA02zcuchkFkAG8A\\u002fWkWgWQLVcemBXbBZAgZ3QXxlwFkDbx7Ta13MWQEBitteSdxZANqlSXUp7FkAL0\\u002fRx\\u002fn4WQFBS9huvghZAMhefYVyGFkCczyVJBooWQDomsNisjRZAXABTFlCRFkC+uhII8JQWQEVl47OMmBZApv2oHyacFkAMqTdRvJ8WQL3sU05PoxZAu+WyHN+mFkB6f\\u002frBa6oWQJqpwUP1rRZAu4yQp3uxFkBivuDy\\u002frQWQAV0HSt\\u002fuBZALLWjVfy7FkDGjMJ3dr8WQJg5u5btwhZA7l3Bt2HGFkBrLvvf0skWQCGggRRBzRZA2JVgWqzQFkCeDJe2FNQWQJFHFy561xZA8\\u002frGxdzaFkCOdn+CPN4WQFrPDWmZ4RZAgAgzfvPkFkCsO6TGSugWQLfACkef6xZAr1QEBPHuFkA4QCMCQPIWQFl97kWM9RZApdzh09X4FkDLKW6wHPwWQJpP+d9g\\u002fxZAaHveZqICF0DvP25J4QUXQJy37osdCRdAVqabMlcMF0C1mqZBjg8XQMAON73CEhdAHohqqfQVF0DMt1QKJBkXQFOZ\\u002f+NQHBdAhpFrOnsfF0DCjI8RoyIXQLkcWW3IJRdAyZWsUesoF0DhK2XCCywXQPEOVcMpLxdA84ZFWEUyF0CAD\\u002feEXjUXQP1yIU11OBdAZOVztIk7F0CdHpW+mz4XQHp0I2+rQRdAUPS0ybhEF0AmfNfRw0cXQI\\u002fTEIvMShdAHsTe+NJNF0CGMbce11AXQFMxCADZUxdAWSI4oNhWF0DBw6UC1lkXQMJLqCrRXBdACH6PG8pfF0DFwaPYwGIXQHU3JmW1ZRdATs5QxKdoF0BgWVb5l2sXQG2kYgeGbhdAcIia8XFxF0Db\\u002fxu7W3QXQIw6\\u002fmZDdxdAebFR+Ch6F0AWOiByDH0XQHIZbdftfxdAFRc1K82CF0CWj25wqoUXQO2GCaqFiBdAjLrv2l6LF0AsswQGNo4XQGnWJS4LkRdADngqVt6TF0A66+OAr5YXQDOTHbF+mRdADfSc6UucF0ATwyEtF58XQPD2ZX7goRdArNcd4KekF0BpDvhUbacXQOu0nd8wqhdA62SygvKsF0A5R9RAsq8XQKEinBxwshdAqWqdGCy1F0AVTmY35rcXQDjFf3ueuhdAHKBt51S9F0BzlK59CcAXQF9LvEC8whdABW8LM23FF0D4twtXHMgXQHX6J6\\u002fJyhdAdDPGPXXNF0CJlUcFH9AXQKCVCAjH0hdAjvdgSG3VF0B02qPIEdgXQP3EH4u02hdAdrEeklXdF0C1Gebf9N8XQOUCt3aS4hdAJQnOWC7lF0D\\u002famOIyOcXQMAUqwdh6hdAp6vU2PfsF0DymAv+jO8XQMQUd3kg8hdA7zA6TbL0F0CR43N7QvcXQJwRPwbR+RdALpmy7138F0DVW+E56f4XQK1I2uZyARhAV2ao+PoDGEDj3FJxgQYYQIT\\u002f3FIGCRhAOVZGn4kLGEBLp4pYCw4YQLIAooCLEBhAX8GAGQoTGEBoohclhxUYQA\\u002fAU6UCGBhAu6IenHwaGEDOR14L9RwYQF4q9fRrHxhA1UvCWuEhGEB6PKE+VSQYQNsjaqLHJhhAIcnxhzgpGEBGmwnxpysYQDm5f98VLhhA4PkeVYIwGEAP9K5T7TIYQFcG9NxWNRhAyl6v8r43GECjAp+WJToYQNfVfcqKPBhAkaIDkO4+GECTIOXoUEEYQIn809axQxhAQN9+WxFGGEDGdJF4b0gYQIFztC\\u002fMShhAH6ONgidNGECC479ygU8YQI4z6wHaURhA57esMTFUGECYwZ4Dh1YYQKzUWHnbWBhAsa5vlC5bGEAjTXVWgF0YQNDz+MDQXxhAHTOH1R9iGEBD7qmVbWQYQHRh6AK6ZhhA8CfHHgVpGEAJQsjqTmsYQBkba2iXbRhAXY8smd5vGEDN8YZ+JHIYQNgR8hlpdBhAFkHjbKx2GEDpWM147ngYQAvAID8vexhAE3BLwW59GEDg+rgArX8YQAGQ0v7pgRhABQL\\u002fvCWEGEDBy6I8YIYYQIMVIH+ZiBhAPLrWhdGKGECYTCRSCI0YQAccZOU9jxhAvDnvQHKRGECdfRxmpZMYQCKLQFbXlRhAKtatEgiYGEDDp7ScN5oYQOYio\\u002fVlnBhAH0nFHpOeGEAy\\u002f2QZv6AYQK4RyubpohhAdDk6iBOlGEAwIPn+O6cYQM9kSExjqRhA259ncYmrGEDYZ5Rvrq0YQIxVCkjSrxhARQgD\\u002fPSxGEAHKraMFrQYQLxzWfs2thhAULEgSVa4GEDIxT13dLoYQEWv4IaRvBhAC4s3ea2+GEBwmW5PyMAYQMdBsAriwhhAPhYlrPrEGEC21\\u002fM0EscYQI95QaYoyRhAZSUxAT7LGEDMPuRGUs0YQP1menhlzxhAeIARl3fRGEClssWjiNMYQF9tsZ+Y1RhAgmzti6fXGEBpu5BptdkYQGK4sDnC2xhAIRhh\\u002fc3dGEAg6bO12N8YQP+WuWPi4RhA1e2ACOvjGEB+HRel8uUYQNy8hzr55xhAFM3cyf7pGEC+vB5UA+wYQBJrVNoG7hhACiuDXQnwGEB8xq7eCvIYQC2B2V4L9BhA3hsE3wr2GEBP1y1gCfgYQDl3VOMG+hhAR0V0aQP8GEABFIjz\\u002fv0YQLJBiYL5\\u002fxhASbtvF\\u002fMBGUAv\\u002fzGz6wMZQBkgxVbjBRlA08ccA9oHGUABOiu5zwkZQN5W4XnECxlA8p0uRrgNGUC\\u002fMAEfqw8ZQGrVRQWdERlAYPnn+Y0TGUDws9H9fRUZQODI6xFtFxlA\\u002fqodN1sZGUCofk1uSBsZQE8cYLg0HRlA9xI5FiAfGUCoqrqICiEZQOfmxRD0IhlAG4k6r9wkGUD1EvdkxCYZQNLI2DKrKBlAEbS7GZEqGUBrpXoadiwZQEQ37zVaLhlA7c\\u002fxbD0wGUDyo1nAHzIZQFO4\\u002fDABNBlAv+Svv+E1GUDJ1UZtwTcZQBkPlDqgORlAku1oKH47GUB9qZU3Wz0ZQKZY6Wg3PxlAdPAxvRJBGUAJSDw17UIZQEka1NHGRBlA7gfEk59GGUCOmdV7d0gZQJ5B0YpOShlAcF5+wSRMGUAxPKMg+k0ZQNoWBanOTxlAJRxoW6JRGUB4bY84dVMZQM4hPUFHVRlAmkcydhhXGUCp5i7Y6FgZQPwB8me4WhlAoJk5JodcGUCDrMITVV4ZQD06STEiYBlA5ESIf+5hGUDL0jn\\u002fuWMZQErwFrGEZRlAfbHXlU5nGUD7MzOuF2kZQJKg3\\u002frfahlA+SySfKdsGUB\\u002fHf8zbm4ZQLjG2SE0cBlAJY\\u002fURvlxGUDY8KCjvXMZQBd77ziBdRlA+dNvB0R3GUD7udAPBnkZQKAFwFLHehlA+6rq0Id8GUBCu\\u002fyKR34ZQF5moYEGgBlAavyCtcSBGUBD70ongoMZQAPUodc+hRlAhGQvx\\u002fqGGUDWgJr2tYgZQMAwiWZwihlALKWgFyqMGUCgOYUK440ZQKl12j+bjxlASQ5DuFKRGUBe52B0CZMZQAsV1XS\\u002flBlAFt0\\u002funSWGUBMuEBFKZgZQNxTdhbdmRlAs5J+LpCbGUDPjvaNQp0ZQJmaejX0nhlAMUKmJaWgGUDDTBRfVaIZQMy9XuIEpBlAaNYesLOlGUCYFu3IYacZQIQ+YS0PqRlAvk8S3ruqGUCBjpbbZ6wZQOqCgyYTrhlANvptv72vGUD1B+qmZ7EZQEEHi90QsxlA7JvjY7m0GUC3s4U6YbYZQHaHAmIIuBlAQJzq2q65GUCXxM2lVLsZQIwhO8P5vBlA4yPBM56+GUAzje33QcAZQAlxTRDlwRlA\\u002fzVtfYfDGUDYltg\\u002fKcUZQJyjGljKxhlApsK9xmrIGUC\\u002fsUuMCsoZQC2HTampyxlAvbJLHkjNGUDa\\u002fs3r5c4ZQI+RWxKD0BlAlO16kh\\u002fSGUBU87Fsu9MZQPPhhaFW1RlATlh7MfHWGUD+VRYdi9gZQFU82mQk2hlAXM9JCb3bGUDMNucKVd0ZQAr\\u002fM2rs3hlAGBqxJ4PgGUCR4N5DGeIZQJcSPb+u4xlAxNhKmkPlGUAfxYbV1+YZQADUbnFr6BlABW2Abv7pGUD3YzjNkOsZQLD5Eo4i7RlAB92LsbPuGUCvKx44RPAZQB5zRCLU8RlAa7F4cGPzGUAvVjQj8vQZQGBD8DqA9hlAMc4kuA34GUDpv0mbmvkZQL5W1uQm+xlAqEZBlbL8GUA7ugCtPf4ZQHlTiizI\\u002fxlAoixTFFIBGkAH2c9k2wIaQNpldB5kBBpA+Vq0QewFGkC4uwLPcwcaQLMH0sb6CBpAjjuUKYEKGkDD0br3BgwaQGTDtjGMDRpA4oj41xAPGkDNGvDqlBAaQJnyDGsYEhpAXAu+WJsTGkCO4nG0HRUaQMN4ln6fFhpAbVKZtyAYGkCReOdfoRkaQIF57XchGxpAl2kXAKEcGkDq49D4Hx4aQP8KhWKeHxpAhYmePRwhGkAAk4eKmSIaQH7kqUkWJBpARcVue5IlGkCGBz8gDicaQAIJgziJKBpAwbOixAMqGkCzfgXFfSsaQF9uEjr3LBpAjBUwJHAuGkDklcSD6C8aQJ6gNVlgMRpAInfopNcyGkCr60FnTjQaQOxhpqDENRpArs95UTo3GkB1vR96rzgaQBlH+xokOhpAaxxvNJg7GkDKgd3GCz0aQMdQqNJ+PhpAt\\u002fgwWPE\\u002fGkBVf9hXY0EaQFSB\\u002f9HUQhpA+DIGx0VEGkCwYEw3tkUaQKVvMSMmRxpAU14Ui5VIGkAbxVNvBEoaQNTWTdBySxpAXGFgruBMGkArzugJTk4aQN8iROO6TxpAygHPOidRGkCCquUQk1IaQGr642X+UxpAQW0lOmlVGkCmHQWO01YaQKnF3WE9WBpATL8JtqZZGkAQBeOKD1saQHgyw+B3XBpAkIQDuN9dGkBx2vwQR18aQMW1B+ytYBpASzt8SRRiGkBWM7IpemMaQFAKAY3fZBpAO9G\\u002fc0RmGkAuPkXeqGcaQNOs58wMaRpA6h79P3BqGkC+PNs302saQKdV17Q1bRpAgWBGt5duGkAp\\u002fHw\\u002f+W8aQPRvz01acRpAKayR4rpyGkB6Shf+GnQaQHaOs6B6dRpAB2a5ytl2GkDfaXt8OHgaQPHdS7aWeRpA57F8ePR6GkCPgV\\u002fDUXwaQFOVRZeufRpApeJ\\u002f9Ap\\u002fGkB2DF\\u002fbZoAaQKBjM0zCgRpAWudMRx2DGkCiRfvMd4QaQLHbjd3RhRpAYbZTeSuHGkCdkpughIgaQM7ds1PdiRpAQ7bqkjWLGkCc641ejYwaQDb\\u002f6rbkjRpAjyRPnDuPGkCzQQcPkpAaQKHvXw\\u002fokRpAsnqlnT2TGkD\\u002f4iO6kpQaQMbcJmXnlRpA09D5njuXGkDe3Odnj5gaQPHTO8DimRpAzD5AqDWbGkBHXD8giJwaQLIhgyjanRpANztVwSufGkA7DP\\u002fqfKAaQL2vyaXNoRpAtPj98R2jGkBvcuTPbaQaQPNgxT+9pRpAV8HoQQynGkAjSpbWWqgaQKlrFf6oqRpAY1CtuPaqGkBM3aQGRKwaQD2yQuiQrRpAQyrNXd2uGkD+W4pnKbAaQPIZwAV1sRpA5fKzOMCyGkA1MqsAC7QaQDDg6l1VtRpAZcK3UJ+2GkACXFbZ6LcaQCTuCvgxuRpALXgZrXq6GkAYuMX4wrsaQM8qU9sKvRpAfAwFVVK+GkDaWB5mmb8aQIzL4Q7gwBpAbOCRTybCGkDb03AobMMaQBOjwJmxxBpAegzDo\\u002fbFGkDqj7lGO8caQApv5YJ\\u002fyBpAla2HWMPJGkCsEeHHBssaQCEkMtFJzBpAyDC7dIzNGkDCRryyzs4aQMg4dYsQ0BpAd50l\\u002f1HRGkCfzwwOk9IaQIjuabjT0xpARN57\\u002fhPVGkDvR4HgU9YaQASauF6T1xpAnQhgedLYGkDAjbUwEdoaQKbp9oRP2xpAAqNhdo3cGkBMBzMFy90aQAQrqDEI3xpA+en9+0TgGkCR53BkgeEaQAyPPWu94hpAzhOgEPnjGkCccdRUNOUaQOlsFjhv5hpAE5OhuqnnGkCrOrHc4+gaQLiDgJ4d6hpA9VdKAFfrGkAZa0kCkOwaQBc7uKTI7RpAXxDR5wDvGkAf\\u002fs3LOPAaQITi6FBw8RpA\\u002fWZbd6fyGkB3AF8\\u002f3vMaQJ7vLKkU9RpAHkH+tEr2GkDizQtjgPcaQE07jrO1+BpAgfu9pur5GkCVTdM8H\\u002fsaQNc9BnZT\\u002fBpAB6aOUof9GkCXLaTSuv4aQOFJfvbt\\u002fxpAaD5UviABG0AVHV0qUwIbQG3GzzqFAxtAz+ni77YEG0CvBc1J6AUbQNFnxEgZBxtAfy3\\u002f7EkIG0DHQ7M2egkbQLJnFiaqChtAfSZeu9kLG0DT3b\\u002f2CA0bQAS8cNg3DhtAPMClYGYPG0C\\u002fupOPlBAbQBlNb2XCERtAXeps4u8SG0BW18AGHRQbQMAqn9JJFRtAfc07RnYWG0DMesphohcbQHzAfiXOGBtAJf+LkfkZG0BXaiWmJBsbQNYIfmNPHBtAx7TIyXkdG0DqGzjZox4bQMq\\u002f\\u002fpHNHxtA7\\u002fVO9PYgG0AW6FoAICIbQGGUVLZIIxtAiM1tFnEkG0AOO9ggmSUbQHBZxdXAJhtAW3pmNegnG0DYxOw\\u002fDykbQIE1ifU1KhtAsJ5sVlwrG0CyqMdigiwbQPHRyhqoLRtALW+mfs0uG0Clq4qO8i8bQEeJp0oXMRtA4+AsszsyG0BXYkrIXzMbQLyUL4qDNBtAm9YL+aY1G0ASXg4VyjYbQAs5Zt7sNxtAYU1CVQ85G0AVWdF5MTobQHfyQUxTOxtAVIjCzHQ8G0AfYoH7lT0bQCegrNi2PhtAtjtyZNc\\u002fG0BJBwCf90AbQLSug4gXQhtAULcqITdDG0AngCJpVkQbQB1CmGB1RRtAHBC5B5RGG0A+17FeskcbQPher2XQSBtAQ0neHO5JG0DFEmuEC0sbQP8SgpwoTBtAb3xPZUVNG0DBXP\\u002feYU4bQPGcvQl+TxtAegG25ZlQG0B4KhRztVEbQNaTA7LQUhtAcZWvoutTG0BFY0NFBlUbQI8N6pkgVhtA+oDOoDpXG0DChhtaVFgbQNvE+8VtWRtAHL6Z5IZaG0Bg0h+2n1sbQLA+uDq4XBtAZx2NctBdG0BcZshd6F4bQAHvk\\u002fz\\u002fXxtAjmoZTxdhG0AkaoJVLmIbQPJc+A9FYxtAXZCkfltkG0AfMLChcWUbQHBGRHmHZhtAK7yJBZ1nG0DsWKlGsmgbQD3DyzzHaRtAsYAZ6NtqG0AP9rpI8GsbQG5n2F4EbRtAX\\u002fiZKhhuG0AMrCesK28bQF1lqeM+cBtAGedG0VFxG0AH1Cd1ZHIbQBWvc892cxtAeNtR4Ih0G0DKnOmnmnUbQDMXYiasdhtAg0\\u002fiW713G0BaK5FIzngbQEVxlezeeRtA4cgVSO96G0D6ujhb\\u002f3sbQK+xJCYPfRtAjvj\\u002fqB5+G0C6vPDjLX8bQAUNHdc8gBtAFtqqgkuBG0CD9r\\u002fmWYIbQPYWggNogxtASdIW2XWEG0CooaNng4UbQK7gTa+QhhtAhc06sJ2HG0AEiY9qqogbQNEWcd62iRtAfF0EDMOKG0CcJm7zzosbQPQe05TajBtAjNZX8OWNG0DNwCAG8Y4bQKY0Utb7jxtAo2wQYQaRG0AOh3+mEJIbQAqGw6YakxtAtE8AYiSUG0A7rlnYLZUbQAFQ8wk3lhtAtsfw9j+XG0B2jHWfSJgbQOL5pANRmRtAQ1CiI1maG0CdtJD\\u002fYJsbQNMwk5donBtAwLPM62+dG0BSEWD8dp4bQKcCcMl9nxtAJyYfU4SgG0Cg\\u002f4+ZiqEbQGT45JyQohtAX19AXZajG0A2acTam6QbQF4wkxWhpRtAPbXODaamG0A93pjDqqcbQOx3EzevqBtAEzVgaLOpG0DSrqBXt6obQLtk9gS7qxtA6byCcL6sG0AaBGeawa0bQMttxILErhtAUhS8KcevG0Dy+G6PybAbQPwD\\u002frPLsRtA4QSKl82yG0BQsjM6z7MbQE2qG5zQtBtASHJivdG1G0A6dyie0rYbQLoNjj7TtxtAFXKzntO4G0BryLi+07kbQMEcvp7TuhtAHGPjPtO7G0Cbd0if0rwbQIweDcDRvRtAhARRodC+G0B3vjNDz78bQM\\u002fJ1KXNwBtAhYxTycvBG0A3Vc+tycIbQD9bZ1PHwxtAyr46usTEG0DwiGjiwcUbQMqrD8y+xhtAhwJPd7vHG0CHUUXkt8gbQG1GERO0yRtAOHjRA7DKG0BXZ6S2q8sbQMN9qCunzBtAEA\\u002f8YqLNG0CJWL1cnc4bQD+BChmYzxtAI5oBmJLQG0AcnsDZjNEbQBtyZd6G0htAMOUNpoDTG0ChsNcwetQbQP134H5z1RtAM8lFkGzWG0CoHCVlZdcbQEjVm\\u002f1d2BtAnkDHWVbZG0DplsR5TtobQC77sF1G2xtAT3upBT7cG0AeEMtxNd0bQHKdMqIs3htAPPL8liPfG0CYyEZQGuAbQObFLM4Q4RtA2HrLEAfiG0CNYz8Y\\u002feIbQJ7npOTy4xtANVoYdujkG0Ag+rXM3eUbQObxmejS5htA2FfgycfnG0AlLqVwvOgbQO5iBN2w6RtAWdAZD6XqG0CiPAEHmesbQDNa1sSM7BtAsMe0SIDtG0APELiSc+4bQKqq+6Jm7xtAT\\u002fuaeVnwG0BTUrEWTPEbQKnsWXo+8htA7\\u002fOvpDDzG0CCfs6VIvQbQJCP0E0U9RtAKxfRzAX2G0Bc8uoS9\\u002fYbQDDrOCDo9xtA0bjV9Nj4G0CR\\u002f9uQyfkbQABRZvS5+htA\\u002fSuPH6r7G0DF\\u002fHASmvwbQAcdJs2J\\u002fRtA9tPIT3n+G0BXVnOaaP8bQJTGP61XABxA0DRIiEYBHEDynqYrNQIcQLvwdJcjAxxA1QPNyxEEHEDjn8jI\\u002fwQcQJV6gY7tBRxAsjcRHdsGHEAyaZF0yAccQEePG5W1CBxAbxjJfqIJHECHYbMxjwocQNm18617CxxALE+j82cMHEDXVdsCVA0cQMzgtNs\\u002fDhxArvVIfisPHEDciLDqFhAcQIN9BCECERxArqVdIe0RHEBWwtTr1xIcQG+DgoDCExxA+4d\\u002f36wUHEAYXuQIlxUcQA+DyfyAFhxAY2NHu2oXHEDjWnZEVBgcQLa0bpg9GRxAbKtItyYaHEAMaRyhDxscQCQHAlb4GxxA2I4R1uAcHEDv+GIhyR0cQOYtDjixHhxA+wUrGpkfHEA6SdHHgCAcQJKvGEFoIRxA3uAYhk8iHED4dOmWNiMcQMHzoXMdJBxANtVZHAQlHEB7gSiR6iUcQOpQJdLQJhxAIoxn37YnHEARbAa5nCgcQAkaGV+CKRxAx6+20WcqHECIN\\u002fYQTSscQBCs7hwyLBxAu\\u002fi29RYtHECM+WWb+y0cQDh7Eg7gLhxAODvTTcQvHEDQ575aqDAcQCEg7DSMMRxAN3Rx3G8yHEATZWVRUzMcQL1k3pM2NBxAS9byoxk1HED2DbmB\\u002fDUcQB9RRy3fNhxAYtazpsE3HECjxRTuozgcQBY4gAOGORxAUDgM52c6HEBVws6YSTscQKHD3RgrPBxANhtPZww9HECsmTiE7T0cQDkBsG\\u002fOPhxAwAXLKa8\\u002fHEDeTJ+yj0AcQPRtQgpwQRxAOfLJMFBCHEC9VEsmMEMcQIAC3OoPRBxAeFqRfu9EHECcrYDhzkUcQPU+vxOuRhxAqENiFY1HHEAB437ma0gcQIE2KodKSRxA6El59yhKHEBBG4E3B0scQPKaVkflSxxAwqsOJ8NMHEDnIr7WoE0cQBTIeVZ+ThxAglVWpltPHED+d2jGOFAcQO\\u002fOxLYVURxAaux\\u002fd\\u002fJRHEA2Va4Iz1IcQN2AZGqrUxxAtNm2nIdUHEDnvLmfY1UcQIN6gXM\\u002fVhxAh1UiGBtXHEDmg7CN9lccQJwuQNTRWBxAsXHl66xZHEBJXLTUh1ocQKzwwI5iWxxAVCQfGj1cHED13+J2F10cQIr\\u002fH6XxXRxAXlLqpMteHEAam1V2pV8cQMuPdRl\\u002fYBxA8dldjlhhHECGFiLVMWIcQA3W1e0KYxxAmJyM2ONjHEDW4VmVvGQcQBwRUSSVZRxAb4mFhW1mHECPnQq5RWccQAGU874daBxAGqdTl\\u002fVoHEAKBT5CzWkcQOLPxb+kahxAph3+D3xrHEBN+PkyU2wcQNZdzCgqbRxAR0CI8QBuHEDChUCN124cQIUICPytbxxA\\u002fJbxPYRwHEDF8w9TWnEcQL\\u002fVdTswchxADeg19wVzHEAoymKG23McQOIPD+mwdBxAdEFNH4Z1HECF2y8pW3YcQDNPyQYwdxxAIgIsuAR4HEB\\u002fTmo92XgcQAyDlpateRxAKuPCw4F6HEDkpgHFVXscQPX6ZJopfBxA0QD\\u002fQ\\u002f18HEC0zuHB0H0cQKNvHxSkfhxAfuPJOnd\\u002fHEACH\\u002fM1SoAcQNULrQUdgRxAkYgJqu+BHEDKaBojwoIcQBh18XCUgxxAIWugk2aEHECg\\u002fTiLOIUcQHHUzFcKhhxAmIxt+duGHEBHuCxwrYccQO7eG7x+iBxAPX1M3U+JHEAvBdDTIIocQBbet5\\u002fxihxAnmQVQcKLHEDZ6vm3kowcQEm4dgRjjRxA5AmdJjOOHEAhEn4eA48cQP34KuzSjxxACdy0j6KQHEBrziwJcpEcQOvYo1hBkhxA+\\u002fkqfhCTHEDAJdN535McQBhGrUuulBxAozrK83yVHEDN2DpyS5YcQNTrD8cZlxxA0jRa8ueXHEDEair0tZgcQJI6kcyDmRxAGUefe1GaHEAxKWUBH5scQLVv813smxxAjJ9akbmcHECyM6ubhp0cQDyd9XxTnhxAZUNKNSCfHECTg7nE7J8cQF6xUyu5oBxAmhYpaYWhHEBe80l+UaIcQAp+xmodoxxAVOOuLumjHEBIRhPKtKQcQFXAAz2ApRxAVmGQh0umHECTL8mpFqccQM8nvqPhpxxATD1\\u002fdayoHEDUWRwfd6kcQMFdpaBBqhxAAiAq+gurHEAlbror1qscQFwMZjWgrBxAibU8F2qtHEA+G07RM64cQMvlqWP9rhxAQ7RfzsavHECCHH8RkLAcQDWrFy1ZsRxA4uM4ISKyHEDuQPLt6rIcQKYzU5OzsxxARSRrEXy0HED5cUloRLUcQO1y\\u002fZcMthxAUXSWoNS2HEBcuiOCnLccQFmAtDxkuBxAqfhX0Cu5HEDOTB0987kcQG2dE4O6uhxAWgJKooG7HECeis+aSLwcQHk8s2wPvRxAbxUEGNa9HEBLCtGcnL4cQCcHKftivxxAdO8aMynAHED8nbVE78AcQO\\u002fkBzC1wRxA5o0g9XrCHEDpWQ6UQMMcQHkB4AwGxBxAkzSkX8vEHEC3mmmMkMUcQPLSPpNVxhxA4HMydBrHHEC2C1Mv38ccQEUgr8SjyBxABi9VNGjJHEAYrVN+LMocQFAHuaLwyhxANqKTobTLHEAU2vF6eMwcQPYC4i48zRxAsmhyvf\\u002fNHEDxTrEmw84cQDDxrGqGzxxAzIJziUnQHEAELxODDNEcQAEZmlfP0RxA21sWB5LSHECiCpaRVNMcQF8wJ\\u002fcW1BxAINDXN9nUHED45LVTm9UcQAtiz0pd1hxAjzIyHR\\u002fXHEDXOezK4NccQFNTC1Si2BxAmlKduGPZHEBxA7D4JNocQMwpURTm2hxA2IGOC6fbHEABwHXeZ9wcQPWQFI0o3RxAq5l4F+ndHEBrd699qd4cQM+\\u002fxr9p3xxAzgDM3SngHEC\\u002fwMzX6eAcQF5+1q2p4RxA1bD2X2niHEC9xzruKOMcQCgrsFjo4xxAojtkn6fkHEA9UmTCZuUcQJHAvcEl5hxAw9B9neTmHECMxbFVo+ccQD7aZuph6BxAx0KqWyDpHEC8K4mp3ukcQFe6ENSc6hxAgwxO21rrHEDgOE6\\u002fGOwcQMROHoDW7BxARlbLHZTtHEBAUGKYUe4cQFg28O8O7xxA\\u002f\\u002fqBJMzvHEB8iSQ2ifAcQPHF5CRG8RxAW43P8ALyHECdtfGZv\\u002fIcQIQNWCB88xxAylwPhDj0HEAcZCTF9PQcQCLdo+Ow9RxAf3qa32z2HEDc5xS5KPccQOjJH3Dk9xxAYL7HBKD4HEAUXBl3W\\u002fkcQOkyIccW+hxA5Mvr9NH6HEAqqYUAjfscQAVG++lH\\u002fBxA7BZZsQL9HECHiatWvf0cQLME\\u002f9l3\\u002fhxAhuhfOzL\\u002fHEBXjtp67P8cQMFIe5imAB1AqWNOlGABHUA\\u002fJGBuGgIdQAjJvCbUAh1A4olwvY0DHUAEmIcyRwQdQAseDoYABR1A9T8QuLkFHUAvG5rIcgYdQJPGt7crBx1AcVJ1heQHHUCSyN4xnQgdQDssAL1VCR1ANnrlJg4KHUDTqJpvxgodQO6nK5d+Cx1A82CknTYMHUDjthCD7gwdQFqGfEemDR1AkaXz6l0OHUBl5IFtFQ8dQFkMM8\\u002fMDx1AneASEIQQHUASHi0wOxEdQEx7jS\\u002fyER1Amqg\\u002fDqkSHUAKUE\\u002fMXxMdQGkVyGkWFB1AT5a15swUHUAdaiNDgxUdQAMiHX85Fh1ACEmumu8WHUAIZOKVpRcdQMDxxHBbGB1AymphKxEZHUCoQcPFxhkdQMfi9T98Gh1Af7QEmjEbHUAdF\\u002fvT5hsdQORk5O2bHB1AE\\u002fLL51AdHUDnDL3BBR4dQKH9wnu6Hh1AigbpFW8fHUD3YzqQIyAdQE5MwurXIB1ACPCLJYwhHUC2eaJAQCIdQAgOETz0Ih1AzsviF6gjHUD7yyLUWyQdQK8h3HAPJR1AM9oZ7sIlHUAD\\u002feZLdiYdQNKLToopJx1AiYJbqdwnHUBR1xipjygdQJR6kYlCKR1AAFfQSvUpHUCOUeDspyodQIRJzG9aKx1AeRif0wwsHUBakmMYvywdQGuFJD5xLR1AUrrsRCMuHUAR9MYs1S4dQBLwvfWGLx1AKGbcnzgwHUCRCC0r6jAdQPyDupebMR1Aj3+P5UwyHUDlnLYU\\u002fjIdQBh4OiWvMx1Av6clF2A0HUD4vILqEDUdQGdDXJ\\u002fBNR1AO8G8NXI2HUAyt66tIjcdQJ6gPAfTNx1AZ\\u002fNwQoM4HUAQIFZfMzkdQLiR9l3jOR1AIa5cPpM6HUC01ZIAQzsdQIFjo6TyOx1ARa2YKqI8HUBtA32SUT0dQByxWtwAPh1ALPw7CLA+HUAvJSsWXz8dQHtnMgYOQB1AJflb2LxAHUAJC7KMa0EdQM3IPiMaQh1A5FgMnMhCHUCR3CT3dkMdQOtvkjQlRB1A4ylfVNNEHUBDHJVWgUUdQLRTPjsvRh1AwtdkAt1GHUDeqhKsikcdQGPKUTg4SB1Aly4sp+VIHUCzyqv4kkkdQOCM2ixASh1AQF7CQ+1KHUDvIm09mksdQAW65BlHTB1Anv0y2fNMHUDZwmF7oE0dQNvZegBNTh1A1g2IaPlOHUAMJZOzpU8dQM3gpeFRUB1Agf3J8v1QHUCnMgnnqVEdQNoybb5VUh1A1av\\u002feAFTHUB0RsoWrVMdQLim1pdYVB1AzWsu\\u002fANVHUAJMNtDr1UdQPGI5m5aVh1APwdafQVXHUDfNj9vsFcdQPmen0RbWB1A8MGE\\u002fQVZHUBlHfiZsFkdQDwqAxpbWh1AoVyvfQVbHUAEJAbFr1sdQCXrEPBZXB1AERjZ\\u002fgNdHUAnDGjxrV0dQBwkx8dXXh1A+7f\\u002fgQFfHUAuGxsgq18dQHucIqJUYB1ACoYfCP5gHUBmHRtSp2EdQIWjHoBQYh1AxFQzkvliHUDwaGKIomMdQEUTtWJLZB1AdYI0IfRkHUCm4OnDnGUdQHlT3kpFZh1ADPwatu1mHUD79qgFlmcdQGZckTk+aB1A8j\\u002fdUeZoHUDMsJVOjmkdQK25wy82ah1A3GBw9d1qHUAxqKSfhWsdQBiNaS4tbB1AlQjIodRsHUBFD8n5e20dQGGRdTYjbh1Aw3rWV8puHUDnsvRdcW8dQO4c2UgYcB1AoZeMGL9wHUB0\\u002fRfNZXEdQIokhGYMch1Atd7Z5LJyHUB7+SFIWXMdQBg+ZZD\\u002fcx1AgXGsvaV0HUBoVADQS3UdQDyjacfxdR1ALRbxo5d2HUAvYZ9lPXcdQAA0fQzjdx1AIzqTmIh4HUDpGuoJLnkdQHN5imDTeR1As\\u002fR8nHh6HUBtJ8q9HXsdQEGoesTCex1AowmXsGd8HUDn2SeCDH0dQECjNTmxfR1AwevI1VV+HUBiNepX+n4dQAL+ob+efx1Aa7\\u002f4DEOAHUBQ7\\u002fY\\u002f54AdQFb\\u002fpFiLgR1AEl0LVy+CHUANcjI704IdQMejIgV3gx1AuVPktBqEHUBY339KvoQdQBig\\u002fcVhhR1Aa+tlJwWGHUDKEsFuqIYdQLJjF5xLhx1Aqidxr+6HHUBCpNaokYgdQBkbUIg0iR1A3cnlTdeJHUBR6p\\u002f5eYodQEuyhoscix1AuFOiA7+LHUCg\\u002fPphYYwdQCjXmKYDjR1AlAmE0aWNHUBItsTiR44dQM77Ytrpjh1A0\\u002fRmuIuPHUAxuNh8LZAdQOpYwCfPkB1ALuYluXCRHUBfaxExEpIdQA\\u002fwio+zkh1ABnia1FSTHUBEA0gA9pMdQACOmxKXlB1AsBCdCziVHUAGgFTr2JUdQPXMybF5lh1AteQEXxqXHUDBsA3zupcdQN0W7G1bmB1AFvmnz\\u002fuYHUDGNUkYnJkdQJen10c8mh1AgiVbXtyaHUDTgttbfJsdQC2PYEAcnB1AjBbyC7ycHUBC4Ze+W50dQAK0WVj7nR1A208\\u002f2ZqeHUA+clBBOp8dQP7UlJDZnx1AVS4Ux3igHUDkMNbkF6EdQLWL4um2oR1AQOpA1lWiHUBr9Pip9KIdQIpOEmWTox1AaJmUBzKkHUBCcoeR0KQdQM1y8gJvpR1ANzHdWw2mHUAqQE+cq6YdQM8uUMRJpx1Ay4jn0+enHUBK1hzLhagdQPmb96kjqR1ADFt\\u002fcMGpHUA\\u002fkbseX6odQNq4s7T8qh1AsUhvMpqrHUAmtPWXN6wdQC9rTuXUrB1AUdqAGnKtHUCoapQ3D64dQOmBkDysrh1AYIJ8KUmvHUD2yl\\u002f+5a8dQC+3QbuCsB1AM58pYB+xHUDH1x7tu7EdQFeyKGJYsh1A9HxOv\\u002fSyHUBVgpcEkbMdQN4JCzIttB1AnVewR8m0HUBOrI5FZbUdQF1FrSsBth1A6FwT+py2HUDCKciwOLcdQHPf0k\\u002fUtx1AO64612+4HUAUwwZHC7kdQLVHPp+muR1AkGLo30G6HUDcNgwJ3bodQIzksBp4ux1AXIjdFBO8HUDLO5n3rbwdQB8V68JIvR1AayfaduO9HUCLgm0Tfr4dQCkzrJgYvx1AvkKdBrO\\u002fHUCYt0ddTcAdQNKUspznwB1AY9rkxIHBHUAVheXVG8IdQIuOu8+1wh1ARe1tsk\\u002fDHUCglAN+6cMdQNV0gzKDxB1AAHv0zxzFHUAfkV1WtsUdQBOexcVPxh1ApoUzHunGHUCIKK5fgscdQFNkPIobyB1AjRPlnbTIHUCrDa+aTckdQA4noYDmyR1ADTHCT3\\u002fKHUDu+RgIGMsdQO1MrKmwyx1AP\\u002fKCNEnMHUAPr6Oo4cwdQINFFQZ6zR1AvXTeTBLOHUDe+AV9qs4dQAWLkpZCzx1AVOGKmdrPHUDwrvWFctAdQAKk2VsK0R1A\"},\"xaxis\":\"x2\",\"yaxis\":\"y2\",\"type\":\"box\"}],                        {\"template\":{\"data\":{\"pie\":[{\"automargin\":true,\"type\":\"pie\"}]},\"layout\":{\"xaxis\":{\"showgrid\":true,\"title\":{\"standoff\":15}},\"yaxis\":{\"showgrid\":true,\"title\":{\"standoff\":15}}}},\"xaxis\":{\"anchor\":\"y\",\"domain\":[0.0,1.0],\"title\":{\"text\":\"x\"}},\"yaxis\":{\"anchor\":\"x\",\"domain\":[0.0,0.8316],\"title\":{\"text\":\"count\"}},\"xaxis2\":{\"anchor\":\"y2\",\"domain\":[0.0,1.0],\"matches\":\"x\",\"showticklabels\":false},\"yaxis2\":{\"anchor\":\"x2\",\"domain\":[0.8416,1.0],\"matches\":\"y2\",\"showticklabels\":false,\"showline\":false,\"ticks\":\"\"},\"legend\":{\"tracegroupgap\":0},\"title\":{\"text\":\"Transformación logarítmica\"},\"barmode\":\"relative\"},                        {\"responsive\": true}                    ).then(function(){\n",
              "                            \n",
              "var gd = document.getElementById('03e85595-1330-44e5-864b-d671284de190');\n",
              "var x = new MutationObserver(function (mutations, observer) {{\n",
              "        var display = window.getComputedStyle(gd).display;\n",
              "        if (!display || display === 'none') {{\n",
              "            console.log([gd, 'removed!']);\n",
              "            Plotly.purge(gd);\n",
              "            observer.disconnect();\n",
              "        }}\n",
              "}});\n",
              "\n",
              "// Listen for the removal of the full notebook cells\n",
              "var notebookContainer = gd.closest('#notebook-container');\n",
              "if (notebookContainer) {{\n",
              "    x.observe(notebookContainer, {childList: true});\n",
              "}}\n",
              "\n",
              "// Listen for the clearing of the current output cell\n",
              "var outputEl = gd.closest('.output');\n",
              "if (outputEl) {{\n",
              "    x.observe(outputEl, {childList: true});\n",
              "}}\n",
              "\n",
              "                        })                };            </script>        </div>\n",
              "</body>\n",
              "</html>"
            ]
          },
          "metadata": {}
        }
      ]
    },
    {
      "cell_type": "markdown",
      "metadata": {
        "id": "p1EssVEzn_EH"
      },
      "source": [
        "**Algunos modelos de Machine Learning requieren que la variable objetivo se distribuya de una forma determinada. Por ejemplo, para los modelos de regresión lineal (LM), la distribución tiene que ser de tipo normal. Para otros modelos lineales, la distribución tiene que ser de la familia exponencial.**"
      ]
    },
    {
      "cell_type": "markdown",
      "metadata": {
        "id": "coothvU3oP-N"
      },
      "source": [
        "##**Variables numéricas** - Análisis descriptivo"
      ]
    },
    {
      "cell_type": "code",
      "metadata": {
        "colab": {
          "base_uri": "https://localhost:8080/",
          "height": 300
        },
        "id": "1Hn_mgE5oZn9",
        "outputId": "dc64f461-6670-43ee-93c7-c957dcf0ccb3"
      },
      "source": [
        "round(datos.select_dtypes(include=[\"float64\", \"int\"]).describe(),2)"
      ],
      "execution_count": 17,
      "outputs": [
        {
          "output_type": "execute_result",
          "data": {
            "text/plain": [
              "        precio  metros_totales  antiguedad  precio_terreno  metros_habitables  \\\n",
              "count  1728.00         1728.00     1728.00         1728.00            1728.00   \n",
              "mean    863.50       211966.71        0.50           27.92           34557.19   \n",
              "std     498.97        98441.39        0.70           29.21           35021.17   \n",
              "min       0.00         5000.00        0.00            0.00             200.00   \n",
              "25%     431.75       145000.00        0.17           13.00           15100.00   \n",
              "50%     863.50       189900.00        0.37           19.00           25000.00   \n",
              "75%    1295.25       259000.00        0.54           34.00           40200.00   \n",
              "max    1727.00       775000.00       12.20          225.00          412600.00   \n",
              "\n",
              "       universitarios  dormitorios  chimenea    baños  habitaciones  \n",
              "count         1728.00      1728.00   1728.00  1728.00       1728.00  \n",
              "mean          1754.98        55.57      3.15     1.90          7.04  \n",
              "std            619.94        10.33      0.82     0.66          2.32  \n",
              "min            616.00        20.00      1.00     0.00          2.00  \n",
              "25%           1300.00        52.00      3.00     1.50          5.00  \n",
              "50%           1634.50        57.00      3.00     2.00          7.00  \n",
              "75%           2137.75        64.00      4.00     2.50          8.25  \n",
              "max           5228.00        82.00      7.00     4.50         12.00  "
            ],
            "text/html": [
              "\n",
              "  <div id=\"df-ac723df9-e0e3-4021-aef4-d6dd6404c3bc\" class=\"colab-df-container\">\n",
              "    <div>\n",
              "<style scoped>\n",
              "    .dataframe tbody tr th:only-of-type {\n",
              "        vertical-align: middle;\n",
              "    }\n",
              "\n",
              "    .dataframe tbody tr th {\n",
              "        vertical-align: top;\n",
              "    }\n",
              "\n",
              "    .dataframe thead th {\n",
              "        text-align: right;\n",
              "    }\n",
              "</style>\n",
              "<table border=\"1\" class=\"dataframe\">\n",
              "  <thead>\n",
              "    <tr style=\"text-align: right;\">\n",
              "      <th></th>\n",
              "      <th>precio</th>\n",
              "      <th>metros_totales</th>\n",
              "      <th>antiguedad</th>\n",
              "      <th>precio_terreno</th>\n",
              "      <th>metros_habitables</th>\n",
              "      <th>universitarios</th>\n",
              "      <th>dormitorios</th>\n",
              "      <th>chimenea</th>\n",
              "      <th>baños</th>\n",
              "      <th>habitaciones</th>\n",
              "    </tr>\n",
              "  </thead>\n",
              "  <tbody>\n",
              "    <tr>\n",
              "      <th>count</th>\n",
              "      <td>1728.00</td>\n",
              "      <td>1728.00</td>\n",
              "      <td>1728.00</td>\n",
              "      <td>1728.00</td>\n",
              "      <td>1728.00</td>\n",
              "      <td>1728.00</td>\n",
              "      <td>1728.00</td>\n",
              "      <td>1728.00</td>\n",
              "      <td>1728.00</td>\n",
              "      <td>1728.00</td>\n",
              "    </tr>\n",
              "    <tr>\n",
              "      <th>mean</th>\n",
              "      <td>863.50</td>\n",
              "      <td>211966.71</td>\n",
              "      <td>0.50</td>\n",
              "      <td>27.92</td>\n",
              "      <td>34557.19</td>\n",
              "      <td>1754.98</td>\n",
              "      <td>55.57</td>\n",
              "      <td>3.15</td>\n",
              "      <td>1.90</td>\n",
              "      <td>7.04</td>\n",
              "    </tr>\n",
              "    <tr>\n",
              "      <th>std</th>\n",
              "      <td>498.97</td>\n",
              "      <td>98441.39</td>\n",
              "      <td>0.70</td>\n",
              "      <td>29.21</td>\n",
              "      <td>35021.17</td>\n",
              "      <td>619.94</td>\n",
              "      <td>10.33</td>\n",
              "      <td>0.82</td>\n",
              "      <td>0.66</td>\n",
              "      <td>2.32</td>\n",
              "    </tr>\n",
              "    <tr>\n",
              "      <th>min</th>\n",
              "      <td>0.00</td>\n",
              "      <td>5000.00</td>\n",
              "      <td>0.00</td>\n",
              "      <td>0.00</td>\n",
              "      <td>200.00</td>\n",
              "      <td>616.00</td>\n",
              "      <td>20.00</td>\n",
              "      <td>1.00</td>\n",
              "      <td>0.00</td>\n",
              "      <td>2.00</td>\n",
              "    </tr>\n",
              "    <tr>\n",
              "      <th>25%</th>\n",
              "      <td>431.75</td>\n",
              "      <td>145000.00</td>\n",
              "      <td>0.17</td>\n",
              "      <td>13.00</td>\n",
              "      <td>15100.00</td>\n",
              "      <td>1300.00</td>\n",
              "      <td>52.00</td>\n",
              "      <td>3.00</td>\n",
              "      <td>1.50</td>\n",
              "      <td>5.00</td>\n",
              "    </tr>\n",
              "    <tr>\n",
              "      <th>50%</th>\n",
              "      <td>863.50</td>\n",
              "      <td>189900.00</td>\n",
              "      <td>0.37</td>\n",
              "      <td>19.00</td>\n",
              "      <td>25000.00</td>\n",
              "      <td>1634.50</td>\n",
              "      <td>57.00</td>\n",
              "      <td>3.00</td>\n",
              "      <td>2.00</td>\n",
              "      <td>7.00</td>\n",
              "    </tr>\n",
              "    <tr>\n",
              "      <th>75%</th>\n",
              "      <td>1295.25</td>\n",
              "      <td>259000.00</td>\n",
              "      <td>0.54</td>\n",
              "      <td>34.00</td>\n",
              "      <td>40200.00</td>\n",
              "      <td>2137.75</td>\n",
              "      <td>64.00</td>\n",
              "      <td>4.00</td>\n",
              "      <td>2.50</td>\n",
              "      <td>8.25</td>\n",
              "    </tr>\n",
              "    <tr>\n",
              "      <th>max</th>\n",
              "      <td>1727.00</td>\n",
              "      <td>775000.00</td>\n",
              "      <td>12.20</td>\n",
              "      <td>225.00</td>\n",
              "      <td>412600.00</td>\n",
              "      <td>5228.00</td>\n",
              "      <td>82.00</td>\n",
              "      <td>7.00</td>\n",
              "      <td>4.50</td>\n",
              "      <td>12.00</td>\n",
              "    </tr>\n",
              "  </tbody>\n",
              "</table>\n",
              "</div>\n",
              "    <div class=\"colab-df-buttons\">\n",
              "\n",
              "  <div class=\"colab-df-container\">\n",
              "    <button class=\"colab-df-convert\" onclick=\"convertToInteractive('df-ac723df9-e0e3-4021-aef4-d6dd6404c3bc')\"\n",
              "            title=\"Convert this dataframe to an interactive table.\"\n",
              "            style=\"display:none;\">\n",
              "\n",
              "  <svg xmlns=\"http://www.w3.org/2000/svg\" height=\"24px\" viewBox=\"0 -960 960 960\">\n",
              "    <path d=\"M120-120v-720h720v720H120Zm60-500h600v-160H180v160Zm220 220h160v-160H400v160Zm0 220h160v-160H400v160ZM180-400h160v-160H180v160Zm440 0h160v-160H620v160ZM180-180h160v-160H180v160Zm440 0h160v-160H620v160Z\"/>\n",
              "  </svg>\n",
              "    </button>\n",
              "\n",
              "  <style>\n",
              "    .colab-df-container {\n",
              "      display:flex;\n",
              "      gap: 12px;\n",
              "    }\n",
              "\n",
              "    .colab-df-convert {\n",
              "      background-color: #E8F0FE;\n",
              "      border: none;\n",
              "      border-radius: 50%;\n",
              "      cursor: pointer;\n",
              "      display: none;\n",
              "      fill: #1967D2;\n",
              "      height: 32px;\n",
              "      padding: 0 0 0 0;\n",
              "      width: 32px;\n",
              "    }\n",
              "\n",
              "    .colab-df-convert:hover {\n",
              "      background-color: #E2EBFA;\n",
              "      box-shadow: 0px 1px 2px rgba(60, 64, 67, 0.3), 0px 1px 3px 1px rgba(60, 64, 67, 0.15);\n",
              "      fill: #174EA6;\n",
              "    }\n",
              "\n",
              "    .colab-df-buttons div {\n",
              "      margin-bottom: 4px;\n",
              "    }\n",
              "\n",
              "    [theme=dark] .colab-df-convert {\n",
              "      background-color: #3B4455;\n",
              "      fill: #D2E3FC;\n",
              "    }\n",
              "\n",
              "    [theme=dark] .colab-df-convert:hover {\n",
              "      background-color: #434B5C;\n",
              "      box-shadow: 0px 1px 3px 1px rgba(0, 0, 0, 0.15);\n",
              "      filter: drop-shadow(0px 1px 2px rgba(0, 0, 0, 0.3));\n",
              "      fill: #FFFFFF;\n",
              "    }\n",
              "  </style>\n",
              "\n",
              "    <script>\n",
              "      const buttonEl =\n",
              "        document.querySelector('#df-ac723df9-e0e3-4021-aef4-d6dd6404c3bc button.colab-df-convert');\n",
              "      buttonEl.style.display =\n",
              "        google.colab.kernel.accessAllowed ? 'block' : 'none';\n",
              "\n",
              "      async function convertToInteractive(key) {\n",
              "        const element = document.querySelector('#df-ac723df9-e0e3-4021-aef4-d6dd6404c3bc');\n",
              "        const dataTable =\n",
              "          await google.colab.kernel.invokeFunction('convertToInteractive',\n",
              "                                                    [key], {});\n",
              "        if (!dataTable) return;\n",
              "\n",
              "        const docLinkHtml = 'Like what you see? Visit the ' +\n",
              "          '<a target=\"_blank\" href=https://colab.research.google.com/notebooks/data_table.ipynb>data table notebook</a>'\n",
              "          + ' to learn more about interactive tables.';\n",
              "        element.innerHTML = '';\n",
              "        dataTable['output_type'] = 'display_data';\n",
              "        await google.colab.output.renderOutput(dataTable, element);\n",
              "        const docLink = document.createElement('div');\n",
              "        docLink.innerHTML = docLinkHtml;\n",
              "        element.appendChild(docLink);\n",
              "      }\n",
              "    </script>\n",
              "  </div>\n",
              "\n",
              "\n",
              "<div id=\"df-d1279705-1909-4c3c-a358-221476505966\">\n",
              "  <button class=\"colab-df-quickchart\" onclick=\"quickchart('df-d1279705-1909-4c3c-a358-221476505966')\"\n",
              "            title=\"Suggest charts\"\n",
              "            style=\"display:none;\">\n",
              "\n",
              "<svg xmlns=\"http://www.w3.org/2000/svg\" height=\"24px\"viewBox=\"0 0 24 24\"\n",
              "     width=\"24px\">\n",
              "    <g>\n",
              "        <path d=\"M19 3H5c-1.1 0-2 .9-2 2v14c0 1.1.9 2 2 2h14c1.1 0 2-.9 2-2V5c0-1.1-.9-2-2-2zM9 17H7v-7h2v7zm4 0h-2V7h2v10zm4 0h-2v-4h2v4z\"/>\n",
              "    </g>\n",
              "</svg>\n",
              "  </button>\n",
              "\n",
              "<style>\n",
              "  .colab-df-quickchart {\n",
              "      --bg-color: #E8F0FE;\n",
              "      --fill-color: #1967D2;\n",
              "      --hover-bg-color: #E2EBFA;\n",
              "      --hover-fill-color: #174EA6;\n",
              "      --disabled-fill-color: #AAA;\n",
              "      --disabled-bg-color: #DDD;\n",
              "  }\n",
              "\n",
              "  [theme=dark] .colab-df-quickchart {\n",
              "      --bg-color: #3B4455;\n",
              "      --fill-color: #D2E3FC;\n",
              "      --hover-bg-color: #434B5C;\n",
              "      --hover-fill-color: #FFFFFF;\n",
              "      --disabled-bg-color: #3B4455;\n",
              "      --disabled-fill-color: #666;\n",
              "  }\n",
              "\n",
              "  .colab-df-quickchart {\n",
              "    background-color: var(--bg-color);\n",
              "    border: none;\n",
              "    border-radius: 50%;\n",
              "    cursor: pointer;\n",
              "    display: none;\n",
              "    fill: var(--fill-color);\n",
              "    height: 32px;\n",
              "    padding: 0;\n",
              "    width: 32px;\n",
              "  }\n",
              "\n",
              "  .colab-df-quickchart:hover {\n",
              "    background-color: var(--hover-bg-color);\n",
              "    box-shadow: 0 1px 2px rgba(60, 64, 67, 0.3), 0 1px 3px 1px rgba(60, 64, 67, 0.15);\n",
              "    fill: var(--button-hover-fill-color);\n",
              "  }\n",
              "\n",
              "  .colab-df-quickchart-complete:disabled,\n",
              "  .colab-df-quickchart-complete:disabled:hover {\n",
              "    background-color: var(--disabled-bg-color);\n",
              "    fill: var(--disabled-fill-color);\n",
              "    box-shadow: none;\n",
              "  }\n",
              "\n",
              "  .colab-df-spinner {\n",
              "    border: 2px solid var(--fill-color);\n",
              "    border-color: transparent;\n",
              "    border-bottom-color: var(--fill-color);\n",
              "    animation:\n",
              "      spin 1s steps(1) infinite;\n",
              "  }\n",
              "\n",
              "  @keyframes spin {\n",
              "    0% {\n",
              "      border-color: transparent;\n",
              "      border-bottom-color: var(--fill-color);\n",
              "      border-left-color: var(--fill-color);\n",
              "    }\n",
              "    20% {\n",
              "      border-color: transparent;\n",
              "      border-left-color: var(--fill-color);\n",
              "      border-top-color: var(--fill-color);\n",
              "    }\n",
              "    30% {\n",
              "      border-color: transparent;\n",
              "      border-left-color: var(--fill-color);\n",
              "      border-top-color: var(--fill-color);\n",
              "      border-right-color: var(--fill-color);\n",
              "    }\n",
              "    40% {\n",
              "      border-color: transparent;\n",
              "      border-right-color: var(--fill-color);\n",
              "      border-top-color: var(--fill-color);\n",
              "    }\n",
              "    60% {\n",
              "      border-color: transparent;\n",
              "      border-right-color: var(--fill-color);\n",
              "    }\n",
              "    80% {\n",
              "      border-color: transparent;\n",
              "      border-right-color: var(--fill-color);\n",
              "      border-bottom-color: var(--fill-color);\n",
              "    }\n",
              "    90% {\n",
              "      border-color: transparent;\n",
              "      border-bottom-color: var(--fill-color);\n",
              "    }\n",
              "  }\n",
              "</style>\n",
              "\n",
              "  <script>\n",
              "    async function quickchart(key) {\n",
              "      const quickchartButtonEl =\n",
              "        document.querySelector('#' + key + ' button');\n",
              "      quickchartButtonEl.disabled = true;  // To prevent multiple clicks.\n",
              "      quickchartButtonEl.classList.add('colab-df-spinner');\n",
              "      try {\n",
              "        const charts = await google.colab.kernel.invokeFunction(\n",
              "            'suggestCharts', [key], {});\n",
              "      } catch (error) {\n",
              "        console.error('Error during call to suggestCharts:', error);\n",
              "      }\n",
              "      quickchartButtonEl.classList.remove('colab-df-spinner');\n",
              "      quickchartButtonEl.classList.add('colab-df-quickchart-complete');\n",
              "    }\n",
              "    (() => {\n",
              "      let quickchartButtonEl =\n",
              "        document.querySelector('#df-d1279705-1909-4c3c-a358-221476505966 button');\n",
              "      quickchartButtonEl.style.display =\n",
              "        google.colab.kernel.accessAllowed ? 'block' : 'none';\n",
              "    })();\n",
              "  </script>\n",
              "</div>\n",
              "\n",
              "    </div>\n",
              "  </div>\n"
            ],
            "application/vnd.google.colaboratory.intrinsic+json": {
              "type": "dataframe",
              "summary": "{\n  \"name\": \"round(datos\",\n  \"rows\": 8,\n  \"fields\": [\n    {\n      \"column\": \"precio\",\n      \"properties\": {\n        \"dtype\": \"number\",\n        \"std\": 622.5611554340321,\n        \"min\": 0.0,\n        \"max\": 1728.0,\n        \"num_unique_values\": 7,\n        \"samples\": [\n          1728.0,\n          863.5,\n          1295.25\n        ],\n        \"semantic_type\": \"\",\n        \"description\": \"\"\n      }\n    },\n    {\n      \"column\": \"metros_totales\",\n      \"properties\": {\n        \"dtype\": \"number\",\n        \"std\": 246142.19847317497,\n        \"min\": 1728.0,\n        \"max\": 775000.0,\n        \"num_unique_values\": 8,\n        \"samples\": [\n          211966.71,\n          189900.0,\n          1728.0\n        ],\n        \"semantic_type\": \"\",\n        \"description\": \"\"\n      }\n    },\n    {\n      \"column\": \"antiguedad\",\n      \"properties\": {\n        \"dtype\": \"number\",\n        \"std\": 610.2229649422063,\n        \"min\": 0.0,\n        \"max\": 1728.0,\n        \"num_unique_values\": 8,\n        \"samples\": [\n          0.5,\n          0.37,\n          1728.0\n        ],\n        \"semantic_type\": \"\",\n        \"description\": \"\"\n      }\n    },\n    {\n      \"column\": \"precio_terreno\",\n      \"properties\": {\n        \"dtype\": \"number\",\n        \"std\": 597.7503394738236,\n        \"min\": 0.0,\n        \"max\": 1728.0,\n        \"num_unique_values\": 8,\n        \"samples\": [\n          27.92,\n          19.0,\n          1728.0\n        ],\n        \"semantic_type\": \"\",\n        \"description\": \"\"\n      }\n    },\n    {\n      \"column\": \"metros_habitables\",\n      \"properties\": {\n        \"dtype\": \"number\",\n        \"std\": 139033.50074805136,\n        \"min\": 200.0,\n        \"max\": 412600.0,\n        \"num_unique_values\": 8,\n        \"samples\": [\n          34557.19,\n          25000.0,\n          1728.0\n        ],\n        \"semantic_type\": \"\",\n        \"description\": \"\"\n      }\n    },\n    {\n      \"column\": \"universitarios\",\n      \"properties\": {\n        \"dtype\": \"number\",\n        \"std\": 1458.7830681960074,\n        \"min\": 616.0,\n        \"max\": 5228.0,\n        \"num_unique_values\": 8,\n        \"samples\": [\n          1754.98,\n          1634.5,\n          1728.0\n        ],\n        \"semantic_type\": \"\",\n        \"description\": \"\"\n      }\n    },\n    {\n      \"column\": \"dormitorios\",\n      \"properties\": {\n        \"dtype\": \"number\",\n        \"std\": 594.1750983566569,\n        \"min\": 10.33,\n        \"max\": 1728.0,\n        \"num_unique_values\": 8,\n        \"samples\": [\n          55.57,\n          57.0,\n          1728.0\n        ],\n        \"semantic_type\": \"\",\n        \"description\": \"\"\n      }\n    },\n    {\n      \"column\": \"chimenea\",\n      \"properties\": {\n        \"dtype\": \"number\",\n        \"std\": 609.8336096003682,\n        \"min\": 0.82,\n        \"max\": 1728.0,\n        \"num_unique_values\": 7,\n        \"samples\": [\n          1728.0,\n          3.15,\n          4.0\n        ],\n        \"semantic_type\": \"\",\n        \"description\": \"\"\n      }\n    },\n    {\n      \"column\": \"ba\\u00f1os\",\n      \"properties\": {\n        \"dtype\": \"number\",\n        \"std\": 610.2820840925004,\n        \"min\": 0.0,\n        \"max\": 1728.0,\n        \"num_unique_values\": 8,\n        \"samples\": [\n          1.9,\n          2.0,\n          1728.0\n        ],\n        \"semantic_type\": \"\",\n        \"description\": \"\"\n      }\n    },\n    {\n      \"column\": \"habitaciones\",\n      \"properties\": {\n        \"dtype\": \"number\",\n        \"std\": 608.7462240994658,\n        \"min\": 2.0,\n        \"max\": 1728.0,\n        \"num_unique_values\": 8,\n        \"samples\": [\n          7.04,\n          7.0,\n          1728.0\n        ],\n        \"semantic_type\": \"\",\n        \"description\": \"\"\n      }\n    }\n  ]\n}"
            }
          },
          "metadata": {},
          "execution_count": 17
        }
      ]
    },
    {
      "cell_type": "code",
      "source": [
        "px.histogram(datos,\n",
        "             x = datos.metros_totales,\n",
        "             title=\"Metros Totales\",\n",
        "             color_discrete_sequence = [\"blue\"], # color\n",
        "             template=\"gridon\")"
      ],
      "metadata": {
        "colab": {
          "base_uri": "https://localhost:8080/",
          "height": 542
        },
        "id": "UTTRbtTN_ado",
        "outputId": "a2280da6-f07e-4d7c-c77f-4a9a378ce860"
      },
      "execution_count": 18,
      "outputs": [
        {
          "output_type": "display_data",
          "data": {
            "text/html": [
              "<html>\n",
              "<head><meta charset=\"utf-8\" /></head>\n",
              "<body>\n",
              "    <div>            <script src=\"https://cdnjs.cloudflare.com/ajax/libs/mathjax/2.7.5/MathJax.js?config=TeX-AMS-MML_SVG\"></script><script type=\"text/javascript\">if (window.MathJax && window.MathJax.Hub && window.MathJax.Hub.Config) {window.MathJax.Hub.Config({SVG: {font: \"STIX-Web\"}});}</script>                <script type=\"text/javascript\">window.PlotlyConfig = {MathJaxConfig: 'local'};</script>\n",
              "        <script charset=\"utf-8\" src=\"https://cdn.plot.ly/plotly-3.0.1.min.js\"></script>                <div id=\"33f449a2-a353-45dc-980c-805df7eb023c\" class=\"plotly-graph-div\" style=\"height:525px; width:100%;\"></div>            <script type=\"text/javascript\">                window.PLOTLYENV=window.PLOTLYENV || {};                                if (document.getElementById(\"33f449a2-a353-45dc-980c-805df7eb023c\")) {                    Plotly.newPlot(                        \"33f449a2-a353-45dc-980c-805df7eb023c\",                        [{\"bingroup\":\"x\",\"hovertemplate\":\"metros_totales=%{x}\\u003cbr\\u003ecount=%{y}\\u003cextra\\u003e\\u003c\\u002fextra\\u003e\",\"legendgroup\":\"\",\"marker\":{\"color\":\"blue\",\"pattern\":{\"shape\":\"\"}},\"name\":\"\",\"orientation\":\"v\",\"showlegend\":false,\"x\":{\"dtype\":\"i4\",\"bdata\":\"lAUCAHvDAgDIqQEAeF0CACxQAQDA1AEAqFUCABCYAgCQXwEAFOABAIj1BADA1AEAZE8BAOh6AQAY8AEALF8BAHhdAgA23wMAYOoAAMxVAQCAtQEAxJkBAJtEAgDwSQIAIGEBAODLAwBYDwIAaDYCACj5BgDgIgIA0PsBAHjaAgCIfgMAuHYDALy+AgCslwIA7DMDAKyXAgCIeAQAjMADAEhlAgC4+QIA8EkCAJSVAwD+QwQA5MIDAGDkAQAQGwIA0GwEAOClAQD0DgIA9PsAALAqAgBI6AEAwFcBAFgPAgCQXwEA9F8BALTvAQCYqwIAMGkCAGBnAQBwQwEA4CICAPibAgDADwMA+B4CAOhuAwDwxgIAfy8DAJDWAgBIawEAau0DAOh0AgBgZwEAOjgDADjBAQBouQEA7EwDAGg2AgBQvQEAKh8CAECWAQCslwIA7LYCAIgHAgCo0gIAOMEBAKCGAQAIyQEA8EkCAGzcAgD4oQEAtO8BADg+AgAw8gAAiIoBAIwwAgD4ugEAICoBALCtAQDAVwEA4KUBANTAAQBQOgIA6G4DABAbAgDWUwMAqGEAAIC1AQB0twEA6HoBAKjYAQC4AAEA6G4DAADuAgAkawIA2MQDAPH0AgA0FQIA+CQBAMivAAA4tQMAkF8BADBpAgCwpwIA8EkCAKJvAgA2HwIA1ksBAHCOAQCYqwIApDIBAB6MAwBtbgEAXNQBAFA6AgBI6AEAWA8CADxnAgBYDwIANC4CADz3AwAITAEAmcACAKx+AgAEoAEAOMEBADjBAQBYDwIA9AgDAPgeAgCwJAMAwNQBAJwkAwA4MgQA+B4CACxfAQB8IgIAzqICAEATAgCwHgQAsKcCAHjIBQAk1gUABDYCAMxWBQCIBwIAOMEBAO47AwDkeQMAMIICACAwBQB8IgIAXEUEAOhuAwB0NAIA1ogFANjEAwDA1AEAQBMCAJR8AwDwewIAcIIDAFjEAQCYqwIAYAMEAFA6AgBkIAMAKAsEAEyOAgDIIAMAEJgCAICvAgCgAwIALMMBAPBJAgDA1AEASOgBAPBJAgB4hwUAfAkCAHhjAQBAlgEAIEICAPDGAgC0UwIA6HoBAGi5AQDgnwIAvL4CACBIAQCMzAEAaLMCAOyjAQBUaQEA9JEBAJAOAgDwSQIAiIQCAMDUAQBctQIA4JMEAGziAQDIJgIAuJsBAPiIAQBkqQEAHJwBAEytAQCcogIAZIoCACiaAQAQegcAwNQBAOyjAQB4xwEA6P0AAPDMAQC8xAEAoIYBAPibAgBg3gIA4CICAFTmAQDAogEA7KMBACC\\u002fAgA1RQMAUvcBADwvAwB8IgIAMFcFAOClAQAswwEAWA8CAFgPAgCIowEAKI4DACiaAQCYHAUA+B4CAFwyAwCIigEAvC4BAORLAgBYjAIAUL0BAABxAgAITAEAmC4CADDsAQDgIgIA4CICAMggAwAcOAEA+B4CADDmAgDMTwIA3HwBAMT3AgBY+gIAtFMCAAxvAgCo0gIAgKkDAPzdAgBw\\u002fwMAFD4DAGBbAwAIvQMAwNQBAGSQAQBAEwIAFD4DAEwkAwA89wMADOwCAHQoBAAM7AIAMGkCALj5AgBs3AIAAHECABwZAgBMrQEACEwBAB7QAgBkDQIAFF0CABjkAwAIpAMAEJ4BAGiJCQC4+QIANJICANhTAQDYRwMAfAMDANhHAwDwzAEA\\u002fN0CADgyBAAs0AMAsB4EAMxoAgDA1AEAwO0BAGBbAwAgvwIAUBsDACzQAwDo8QIA2EcDACgRAwDo\\u002fQAAuPkCAFxLAwBgZwEAeF0CAGziAQBArwEA9AgDAPBJAgBAlgEACL0DACC\\u002fAgC8WgIAEJgCAHhXAwBYgAQA\\u002fMQCAKD3AwAcqQMATBECAAzsAgDobgMAxIABAKSvAQDQbAQAUNACAES5AgAYVQYApLwDAPBJAgBAkAIAGG0CABjwAQCYqwIAEuUDAJirAgD4lQMAoPEEAMijAgCkyAEArJ0BAIC1AQD4lQMA+JUDAND7AQD4lQMAnO0CAORYBACYHAUA4CICABjqAgCoVQIAoP0CAMDIAwCAqQMAoAMCAFgJAwCoTwMAWIwCAAi9AwBwdgUAVEsGAIAsAwCwHgQAoIYBAND7AQDkyAIA+B4CAECWAQBIXwMAoPcDAOTIAgCg\\u002fQIAoAMCAIRuAwDcDAMAy4cCAEjiAgAsXwEA+JUDAHCIAgAMVgIA0HgCAABrAwDAZAMAWAkDAHCIAgCMSQIAwFECAMR6AgDUMQQAoIYBANhHAwBg5AEASOgBABAbAgDobgMAIL8CAMzlAgA4owYAwNQBALh8AgC4\\u002fwEAJO4BAITeAQAofAYA6G4DAGgwAwCs4gIASFkEAGgRBACAOAEA6G4DABhtAgBc1AEAVP8BAG74AgBAGQEAPDUCAOwgAgAY3gQAYE8FAMzlAgAgTgAAYOoAACy9AgC0CAIAqFUCABy1AQB42gIAJGsCAKhVAgAw5gIAULEDAASUAwDobgMAiIQCAGz7AQB4zgQAbPsBAOjrAwCg8QQAQO8HAI5LAgDQbAQAgLUBAKjSAgBYgAQA0GwEABw4AQAA6AMACL0DAOAiAgCAJgQAoIACAOTIAgD8WgMAiPUEAABfBQB4zgQAkFkCAFgJAwAQFQMAoHQEAHjHAQB4XQIA2EcDAPKyBQBG9AMAvXoEAHZbBAAoLgQAqNICADDmAgD4mwIAgCwDAECQAgCIhAIABB0CALy+AgAgvwIAgLUBAMBRAgCghgEAkFkCAIgHAgBIWQQAEBsCAJifBACQ0AMATI4CADDmAgDkyAIA+KEBALj5AgAolAIAYGECAMDUAQAQmAIA688DAL\\u002feAgBCsQIA5eoEAAhGAgAYcwEAZAcDAKjSAgDEkwIAYFsDAGz7AQBYjAIAEAkFAIAgBQDL0wcAiH4DAGg2AgBYkgEAUDQDAJiHCACQUwMA+v8DAEjoAQDQ+wEAPGcCAOjxAgA4MgQAgKkDAMgNAwD4BgYAb5gFAO6SAQDwugQANC4CAFp9BQAw7AEAwJgLAIRPBACgAwIAiPUEAJgoAwB4XQIAEAkFAICNAQCAkQcAqNICAEjoAQAwXQQAyBoEAA6hBADdqQUAcGMEALj\\u002fAQB42gIAKJQCAHwJAgDgdQkAhmEIAMBFBABYDwIAPPsCAHwkBQBiDAUAr8oDAMDUAQCAqQMA+JUDAGuhBwCAqQMAsB4EAOhuAwDARQQA6G4DAJzJAwA4MgQAKBcCAPBJAgAo5wkAuPkCANCxBQDqlQIASDMCAMzlAgBwiAIAAHECALv+BADYxAMAMNoEAAg0BQCKZwQASGUCAOjZBgCwKgIAiO8FAGBDBwCOzQMAfCICAEybBAAofAYAqNgBAPBJAgAQGwIA3AwDAGg2AgBoGAcAMGkCANi4BQBHQQIAOCwFAPgSBADQbAQAvyMEAHw+BAAQGwIAjJsFANSJBgDgIgIA4CICAGg2AgDARQQAwOcCAPgSBAAkhAIAwEUEAOhuAwAgQgIAiIQCAOcxBQCIBwIAVMMBAICpAwDAJwkATBcBAMzlAgCI9QQAwEUEABjkAwDgkwQAEJ4BAPgeAgCIhAIAKJQCAKhuAgDgkwQA6HQCAGSEAwBgWwMA7LYCADBXBQCYHAUAwRwJAMijAgBw5wcAIDwDAIxJAgCeJgIAGHMBAEB3AgCoXAUAeF0CAGQHAwAgNgQAWIwCALh2AwBsLgYA+AYGAEB+BQBY0wsASFkEAOCTBADwQwMAiH4DABAJBQBQOgIAPNIFALCPBgAQ6wkAxPcCANhBBADYygIAuPkCAPArBwBYjAIAHrgEAJxRAwBADQMAOw0DADi7AgAoBQUAdLgFAIiEAgBY3wkAeM4EAIAsAwAILgYA2CkIANTOAgAYcwEA\\u002flUBALj\\u002fAQAY8AEA95gBAMDUAQDkPwQA7CYBACzcAQCALAMA2E0CABAbAgCIfgMA0PsBACxfAQBoNgIA8E8BABhzAQC4+QIAPaMBALj\\u002fAQD0iwIAGPABANjQAQBdaQEAsKcCACC\\u002fAgB4XQIARDwCAMR6AgBQNAMAiIQCAHjgAQDwSQIAhPcBACRYAQCYqwIAj9gBAFdAAgDwzAEAWAkDABw4AQDYQQQAkF8BAPxmAQCoVQIAEJgCADA3AgBAhAQA8EkCAPBPAQDwzAEAeF0CACRlAwCQ0AMAyJEFAMDUAQDo8QIAQE4BAFBAAQDobgMAgKkDAJSVAwCAtQEAiPsDAIAaBgDwugQA8MYCAGzcAgAILgYAoGgGAFh6BQDA1AEA7J0CAJxwAgCE2AIAoPcDADjBAQAY6gIAiWwFALwvBQCQXwEACL0DAITlBAAYbQIANKsCAHx6BABQNAMA5MgCAPxaAwBQpQUAMF0EAKyXAgDodAIAGGEEAHjOBABoswIA4BAFAKjMAwA4uwIA8EkCAOhuAwDwxgIArAgFAIiEAgAgvwIA6OUEACC\\u002fAgBQtwIAXEUEADi7AgDYygIAIKEHABCYAgA4uwIARNICAFy1AgB0twEAIL8CADwoAACsGgIAgDICABACAgBs4gEAeOABAMipAQDIowIAKJoBAITeAQAY6gIACEYCAMggAwDobgMAUDQDAOThAgAA7gIAHBkCAEANAwAw7AEA5EUDAMBRAgA4wQEAwFcBABCYAgAoFwIAaDYCABAVAwDQ+wEAKAsEAKjSAgDQ+wEAMOYCAOAcAwBI6AEAzFYFALAqAgCUBQIAYFsDAABxAgA8KAAAGHMBAMfcAQAIRgIAOMEBAOAiAgCsGgIAgDICABACAgBs4gEAeOABAMipAQDIowIAKJoBAITeAQAY6gIACEYCAMggAwDobgMAUDQDAOThAgAA7gIAHBkCAEANAwAw7AEA5EUDAMBRAgA4wQEAwFcBABCYAgAoFwIAaDYCABAVAwDQ+wEAKAsEAKjSAgDQ+wEAMOYCAOAcAwBI6AEAzFYFALAqAgCUBQIAYFsDAABxAgDkZAIAEBsCAHCIAgC4+QIAsIIEAOAEBwAw7AEAjFwDAJirAgAY5AMAqNICABCSAwB8CQIA2E0CADxnAgBIWQQAnFEDAOCTBADJdQIAqE8DAJDQAwBg5AEAwMgDAHjaAgC4+QIAHKkDAHg\\u002fBwDwwAMA\\u002fFoDANzzAgCQ3AEA8MwBAEjoAQCIigEAqMwDACC\\u002fAgCUdgQATAsDACwhAwAQCQUAOLsCAPA3BQBoNgIA0AEBAEweBACQWQIA9PAGACzQAwCIhAIAKAUFAOvAAABIygYAKB0BAEjoAQBEPAIAaDADAJT\\u002fAgBIZQIAPOoBADDmAgCQ0AMAGOQDAKT6AQDo\\u002fQAA+KEBABjkAwCwEgYAgK8CACzQAwCkvAMAYFsDAGitAwCccAIAk7UCABhzAQCIEwAAxAoEAHjOBAB4XQIA0PsBALChAwAAawMAODgDANhBBABQsQMAwwwDADz3AwBADQMAIDwDAHCCAwBI4gIAI8kEAKjSAgAcqQMAEBUDAHhdAgDA1AEAsDABANi+BABwBQMAJGsCALh2AwCsDgQAuHwCAIiEAgDYTQIAQA0DAHyTBABQNAMAYFsDAPT8BABkIAMAEJIDAOCZAwBg5AEAvAkDAAi9AwBABwQAKJoBAHjaAgAY8AEAoIYBAHjUAwAomgEAkpQGAIxJAgAgvwIAbOIBAEjcAwAQCQUAVOYBAAh5BgDA1AEAyCADAJirAgBYgAQAVGMCAJguAgDYRwMAGGEEAITeAQAgvwIAmC4CACgXAgCYIgQAbPsBAIgHAgA4uwIAsJsEAECQAgDA1AEA2NABAECQAgDk5wEAGFUGAPBJAgDwugQASGUCAMggAwA4MgQAAOIEAGDMBQBc1AEAqEMFAGg2AgB44AEABBcDAPDGAgCYqwIAlAUCAJilAwBtUAEACL0DAAyCAwDo9wEAQA0DAEgzAgBwiAIAULcCAIiEAgCQUwMAmKsCAGg2AgC4+QIAi2UEAGzcAgAY5AMAaDYCANjKAgBm2wQA9O8CALj5AgAQGwIAcIIDALyfAwDYuAUAKJoBAECQAgBIXwMAWA8CAGz7AQAkQAUAgLUBAGDMBQBI6AEAaDYCADDmAgBYDwIAhOQAAHQ6AQCKSwIAEJgCAHezAwB0sQIAIDwDAFgPAgDYRwMAcP8DAHhdAgCYKAMAqNICAChoAQCYsQEA6HoBAEANAwBwggMAfJMEAC\\u002fOAgA0qwIAmBwFAIAsAwBgzAUAbGwEAGDeAgDAJwkAcP8DAGBbAwA4MgQA2EcDAKCGAQAkawIApEUCAJBTAwAAbgUAQJACAPibAgC4+QIAmBQDAGg2AgCwJAMAsDABAITlBAAYbQIAIL8CAGz7AQDwSQIAfpwCANhNAgCghgEAmP4JACy3AwAoCwQAgBoGAKApBAAY5AMAYFsDAFjTCwAojgMAkU8DAAi9AwAYbQIACBALAAwYBAAYbQIAeF0CAKhDBQBQhQIAqNICANxwAwCgaAYAYFsDAOB1CQCg9wMA3H0FANi4BQA0nwQAmKsCAKD3AwCwHgQAiGYHAEANAwCYmQUAmKsCAPgYAwAQmAIA2LgFAJxwAgBwggMA2LgFAIhsBgCQUwMAqo8CAFTaAwAQ6wkAYMwFAORFAwCEVQMAsKcCAOhuAwD2uQQAfAsKAPgYAwDYuAUAJPQAAMggAwAUSgEAtEcEAPDGAgB4tggAQJACANBmBQCwoQMA8MYCAIRVAwCseAMA2LgFABwaBgBAfgUAVEsGANQYBAAMlQQAJNYFAEjiAgBYgAQAYFsDABhnAwCYFgYACJYCAGZOBQBY8QYALNADAJDQAwAoCwQAMDkKALj5AgBAfgUAmKsCAGSKAgCU5gIAFMECAMC2BgAQmAIAYFsDAGQTAQDo\\u002fQAADPIBAHhdAgAM5gMAQBMCAOAcAwBADQMAuHwCAGZHAgD4lQMAoPcDAFA0AwCccAIAaDADAFgPAgBADQMA2JkGALj5AgCIhAIAcAUDAHhXAwCwjwYAwNQBAOezBQAtzgIA\\u002fEEDAHhdAgCIAQMAM\\u002f0FAAyCAwDiaQQAzOUCAJAPBgAd8QUAWA8CALCnAgDIAggAWA8CAGBJBgCQ1gIAL+0GALhqBQCQ1gIAiAEDACC\\u002fAgBQtwIAaKcEAHD\\u002fAwDobgMAYCYGAJTtBQDoXAYAkEEGABCYAgBYgAQAwEsDANFhAwDcDAMAmBAHAEQ8AgDobgMAAHECAG8yBAB50AQAr\\u002fAEAEyOAgA7KQQAXLUCAAD0AQCx1gQAdDQCAKD3AwAguQMA9WQEABhtAgBYjAIAYE8FAOAiAgBoNgIAsksCAHCCAwDfPwIAGGcDAEyOAgD4jwQAfJkDADg+AgBopwQAkFkCAAhGAgD3lAQA8D0EABAVAwAPAwUAqNICAAD0AQCYHAUApEUCAAyCAwDYRwMASNwDAMGjBAAwYwMAiIQCADgyBACI9QQA8DEGAHCCAwBI6AEAIEICANhBBACQ0AMAPM4EAAyIAgDwSQIAiAcCAHhdAgBgWwMAiH4DAGizAgDA1AEAuPkCAOvPBAAoFwIApHEDAGQgAwA85AIA8LQFABjeBADUfAQAuLkGAAD0AQCRpwMAhCkCAMxJAwDS4gQAVywEAF7pAwAY5AMAYOQBAIh4BAA4PgIAs1cEAP04BQCIfgMARE8DACSEAgAIRgIA8EkCAM5HAwDIowIAjEkCAHhdAgAQmAIAvJ8DAGmIBAC6OAUAsEQFALb1BACYmQUAnHACAGg2AgB0KAQAt30CABjeBABYcwIA8MADAKhVAgBYgAQAGG0CALBDAgDYvgQAkMoEAJDQAwAIRgIAsrIEABhnAwB4VwMAULcCAPWDBABoJwIADIIDALTjAwAw7AEAdLECAAh4AgBItgEAhFsCAOCTBACwJAMA6OsDAPDGAgDodAIAgK8CAAi0AgD3agUACEADAAQRBABIWQQA1LoCAOCTBAA4OAMAuOEGALgSAwA8\\u002fQIAMOYCAPBJAgCwJAMASFkEAMDUAQCcwgUAIDAFAICpAwBYgAQA2EcDADgyBABI4gIAYGECAJBBBgA0CQQAXDgCABTHAQA0CQQA2EcDAFgDBAA4tQMA+BgDAJgcBQDo3wUAUDQDAJBZAgB4XQIAiIQCAOCTBACAqQMA8MYCAND1AgCQQQYAwEUEAPiVAwCo0gIAWIwCAKQmAwCIhAIAcIIDAPiVAwA0DwMA8LoEAKyXAgBENgMAaKcEAGDABwBgWwMAAOgDACQBAwAojgMA4CICAFR8AgBQtwIAKAsEAPTwBgDYRwMAwMgDAPgGBgDsnQIA4BYEAGSKAgC4agUAiIQCAOCTBAAwVwUAXEUEACgLBAD4EgQA+JUDAHyTBABYjAIAQJACAPBJAgAY5AMAWPEGAHxbBQB4zgQAYFsDABhtAgAINAUAIDYEAAi3BAC9TwMAVOACAADiBADYxAMAcIgCAOCZAwCskQMAtHsCAOhuAwBAfgUAsEsEAMiRBQB4zgQArIsEALAeBACg9wMAQBkBAHyAAwA4MgQAeF0CACJxAwAAawMA0GwEAHD\\u002fAwCc4QQAKAsEABjkAwDUUAMAuHAEABjeBACMJAQAhG4DAKD3AwDcDAMA89oDALTEBADQbAQAeF0CALhqBQAw5gIA0PsBAEAHBAC89QIA\\u002fFoDAIwrBwB2ywQAlB4CAABxAgCgegMAkGwDAAYHAgCwEQIASEwCAJgcBQBa0wQAIMQCADBpAgBIXwMAcIIDAPiPBAAgQgIA7BQEALjzAwDo5QQAvkAGAMDOAgBoNgIA8LoEABCYAgBENgMA3AwDAPBJAgCoVQIAsBgFAERPAwC48wMAgKkDAK7WAgD4GAMAGOQDANjQAQDA+gMAKJQCAOhuAwBg5AEACL0DAJDQAwDgnwIAnFcCAIiEAgAYbQIA7J0CAICpAwDOPwYAsJsEAEhZBABs4wUAMyUCAAhAAwCYHAUA0GwEACgLBACwGAUAxtUFADRHAgAgPAMAuPkCAAi9AwAYcwYAgKkDAGBhAgAoCwQAsBgFAMbVBQA0RwIAIDwDALj5AgBQngIACL0DAJBNBACg9wMAJOIDALy+AgAY5AMAKAsEALCnAgDQ6QQAaCQFAAphAwDYxAMAIL8CAAyCAwBwggMAoOsFADBXBQDklgIAMOYCADzYBABwEQEA4JMEAPg3AgDMzAIAvDUEADenBgCc4QQAqMwDAOhoBABIWQQAVPkCAEjoAQDEsgEA\"},\"xaxis\":\"x\",\"yaxis\":\"y\",\"type\":\"histogram\"}],                        {\"template\":{\"data\":{\"pie\":[{\"automargin\":true,\"type\":\"pie\"}]},\"layout\":{\"xaxis\":{\"showgrid\":true,\"title\":{\"standoff\":15}},\"yaxis\":{\"showgrid\":true,\"title\":{\"standoff\":15}}}},\"xaxis\":{\"anchor\":\"y\",\"domain\":[0.0,1.0],\"title\":{\"text\":\"metros_totales\"}},\"yaxis\":{\"anchor\":\"x\",\"domain\":[0.0,1.0],\"title\":{\"text\":\"count\"}},\"legend\":{\"tracegroupgap\":0},\"title\":{\"text\":\"Metros Totales\"},\"barmode\":\"relative\"},                        {\"responsive\": true}                    ).then(function(){\n",
              "                            \n",
              "var gd = document.getElementById('33f449a2-a353-45dc-980c-805df7eb023c');\n",
              "var x = new MutationObserver(function (mutations, observer) {{\n",
              "        var display = window.getComputedStyle(gd).display;\n",
              "        if (!display || display === 'none') {{\n",
              "            console.log([gd, 'removed!']);\n",
              "            Plotly.purge(gd);\n",
              "            observer.disconnect();\n",
              "        }}\n",
              "}});\n",
              "\n",
              "// Listen for the removal of the full notebook cells\n",
              "var notebookContainer = gd.closest('#notebook-container');\n",
              "if (notebookContainer) {{\n",
              "    x.observe(notebookContainer, {childList: true});\n",
              "}}\n",
              "\n",
              "// Listen for the clearing of the current output cell\n",
              "var outputEl = gd.closest('.output');\n",
              "if (outputEl) {{\n",
              "    x.observe(outputEl, {childList: true});\n",
              "}}\n",
              "\n",
              "                        })                };            </script>        </div>\n",
              "</body>\n",
              "</html>"
            ]
          },
          "metadata": {}
        }
      ]
    },
    {
      "cell_type": "code",
      "source": [
        "px.histogram(datos,\n",
        "             x = datos.precio_terreno,\n",
        "             title=\"Precio Terreno\",\n",
        "             color_discrete_sequence = [\"darkorange\"], # color\n",
        "             template=\"gridon\")"
      ],
      "metadata": {
        "colab": {
          "base_uri": "https://localhost:8080/",
          "height": 542
        },
        "id": "4xFPO4Av_sqY",
        "outputId": "5f96c573-2aae-4bc3-cc01-c8fa9694925e"
      },
      "execution_count": 19,
      "outputs": [
        {
          "output_type": "display_data",
          "data": {
            "text/html": [
              "<html>\n",
              "<head><meta charset=\"utf-8\" /></head>\n",
              "<body>\n",
              "    <div>            <script src=\"https://cdnjs.cloudflare.com/ajax/libs/mathjax/2.7.5/MathJax.js?config=TeX-AMS-MML_SVG\"></script><script type=\"text/javascript\">if (window.MathJax && window.MathJax.Hub && window.MathJax.Hub.Config) {window.MathJax.Hub.Config({SVG: {font: \"STIX-Web\"}});}</script>                <script type=\"text/javascript\">window.PlotlyConfig = {MathJaxConfig: 'local'};</script>\n",
              "        <script charset=\"utf-8\" src=\"https://cdn.plot.ly/plotly-3.0.1.min.js\"></script>                <div id=\"7957299e-8b2c-4c90-9c1e-2c8d5fc1adeb\" class=\"plotly-graph-div\" style=\"height:525px; width:100%;\"></div>            <script type=\"text/javascript\">                window.PLOTLYENV=window.PLOTLYENV || {};                                if (document.getElementById(\"7957299e-8b2c-4c90-9c1e-2c8d5fc1adeb\")) {                    Plotly.newPlot(                        \"7957299e-8b2c-4c90-9c1e-2c8d5fc1adeb\",                        [{\"bingroup\":\"x\",\"hovertemplate\":\"precio_terreno=%{x}\\u003cbr\\u003ecount=%{y}\\u003cextra\\u003e\\u003c\\u002fextra\\u003e\",\"legendgroup\":\"\",\"marker\":{\"color\":\"darkorange\",\"pattern\":{\"shape\":\"\"}},\"name\":\"\",\"orientation\":\"v\",\"showlegend\":false,\"x\":{\"dtype\":\"i2\",\"bdata\":\"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\"},\"xaxis\":\"x\",\"yaxis\":\"y\",\"type\":\"histogram\"}],                        {\"template\":{\"data\":{\"pie\":[{\"automargin\":true,\"type\":\"pie\"}]},\"layout\":{\"xaxis\":{\"showgrid\":true,\"title\":{\"standoff\":15}},\"yaxis\":{\"showgrid\":true,\"title\":{\"standoff\":15}}}},\"xaxis\":{\"anchor\":\"y\",\"domain\":[0.0,1.0],\"title\":{\"text\":\"precio_terreno\"}},\"yaxis\":{\"anchor\":\"x\",\"domain\":[0.0,1.0],\"title\":{\"text\":\"count\"}},\"legend\":{\"tracegroupgap\":0},\"title\":{\"text\":\"Precio Terreno\"},\"barmode\":\"relative\"},                        {\"responsive\": true}                    ).then(function(){\n",
              "                            \n",
              "var gd = document.getElementById('7957299e-8b2c-4c90-9c1e-2c8d5fc1adeb');\n",
              "var x = new MutationObserver(function (mutations, observer) {{\n",
              "        var display = window.getComputedStyle(gd).display;\n",
              "        if (!display || display === 'none') {{\n",
              "            console.log([gd, 'removed!']);\n",
              "            Plotly.purge(gd);\n",
              "            observer.disconnect();\n",
              "        }}\n",
              "}});\n",
              "\n",
              "// Listen for the removal of the full notebook cells\n",
              "var notebookContainer = gd.closest('#notebook-container');\n",
              "if (notebookContainer) {{\n",
              "    x.observe(notebookContainer, {childList: true});\n",
              "}}\n",
              "\n",
              "// Listen for the clearing of the current output cell\n",
              "var outputEl = gd.closest('.output');\n",
              "if (outputEl) {{\n",
              "    x.observe(outputEl, {childList: true});\n",
              "}}\n",
              "\n",
              "                        })                };            </script>        </div>\n",
              "</body>\n",
              "</html>"
            ]
          },
          "metadata": {}
        }
      ]
    },
    {
      "cell_type": "code",
      "source": [
        "px.histogram(datos,\n",
        "             x = datos.antiguedad,\n",
        "             title=\"Antigüedad\",\n",
        "             color_discrete_sequence = [\"black\"], # color\n",
        "             template=\"gridon\")"
      ],
      "metadata": {
        "colab": {
          "base_uri": "https://localhost:8080/",
          "height": 542
        },
        "id": "qX4md9ik_5xz",
        "outputId": "a784037c-d61d-451a-b9a7-6d5c81a3db64"
      },
      "execution_count": 20,
      "outputs": [
        {
          "output_type": "display_data",
          "data": {
            "text/html": [
              "<html>\n",
              "<head><meta charset=\"utf-8\" /></head>\n",
              "<body>\n",
              "    <div>            <script src=\"https://cdnjs.cloudflare.com/ajax/libs/mathjax/2.7.5/MathJax.js?config=TeX-AMS-MML_SVG\"></script><script type=\"text/javascript\">if (window.MathJax && window.MathJax.Hub && window.MathJax.Hub.Config) {window.MathJax.Hub.Config({SVG: {font: \"STIX-Web\"}});}</script>                <script type=\"text/javascript\">window.PlotlyConfig = {MathJaxConfig: 'local'};</script>\n",
              "        <script charset=\"utf-8\" src=\"https://cdn.plot.ly/plotly-3.0.1.min.js\"></script>                <div id=\"7641fc62-ce49-40e9-9a31-6b95d685925a\" class=\"plotly-graph-div\" style=\"height:525px; width:100%;\"></div>            <script type=\"text/javascript\">                window.PLOTLYENV=window.PLOTLYENV || {};                                if (document.getElementById(\"7641fc62-ce49-40e9-9a31-6b95d685925a\")) {                    Plotly.newPlot(                        \"7641fc62-ce49-40e9-9a31-6b95d685925a\",                        [{\"bingroup\":\"x\",\"hovertemplate\":\"antiguedad=%{x}\\u003cbr\\u003ecount=%{y}\\u003cextra\\u003e\\u003c\\u002fextra\\u003e\",\"legendgroup\":\"\",\"marker\":{\"color\":\"black\",\"pattern\":{\"shape\":\"\"}},\"name\":\"\",\"orientation\":\"v\",\"showlegend\":false,\"x\":{\"dtype\":\"f8\",\"bdata\":\"CtejcD0Ktz9xPQrXo3DtP1K4HoXrUcg\\u002fPQrXo3A92j8pXI\\u002fC9Si8P8P1KFyPwuU\\u002fmpmZmZmZ2T9cj8L1KFzzP4\\u002fC9Shcj+o\\u002fCtejcD0K\\u002fz9SuB6F61ECQHE9CtejcO0\\u002fcT0K16PwIUApXI\\u002fC9Si8P+xRuB6F68E\\u002fAAAAAAAAAACkcD0K16PAPwAAAAAAAABA4XoUrkfhyj8pXI\\u002fC9SjsPwAAAAAAAPA\\u002fhetRuB6F2z97FK5H4XrUP7gehetRuJ4\\u002fCtejcD0K1z8AAAAAAAAQQEjhehSuR\\u002f0\\u002fAAAAAAAACECF61G4HoXbPylcj8L1KNw\\u002f16NwPQrX8z9xPQrXo3DdP9ejcD0K1+s\\u002fzczMzMzM\\u002fD9xPQrXo3DdPx+F61G4Hu0\\u002fcT0K16Nw3T\\u002fhehSuR+HiP\\u002fYoXI\\u002fC9RxAUrgehetRyD9xPQrXo3DdPz0K16NwPdo\\u002f9ihcj8L16D97FK5H4XrsP3E9CtejcPU\\u002fAAAAAAAA8D8AAAAAAADwP0jhehSuR9E\\u002fuB6F61G45j\\u002fNzMzMzMzsP7gehetRuM4\\u002fuB6F61G4rj+amZmZmZnhP8P1KFyPwtU\\u002fUrgehetRyD9xPQrXo3DNP+xRuB6F67E\\u002fCtejcD0Ktz8AAAAAAADQPxSuR+F6FN4\\u002fCtejcD0K1z\\u002fsUbgeheuxPylcj8L1KLw\\u002fcT0K16NwzT9I4XoUrkcJQHsUrkfherQ\\u002fPQrXo3A94j8AAAAAAADgPwAAAAAAAPA\\u002fAAAAAAAA4D+amZmZmZnhP5qZmZmZmbk\\u002fAAAAAAAA4D\\u002fXo3A9CtfTP+xRuB6F69E\\u002fuB6F61G4rj+4HoXrUbiuP3E9CtejcN0\\u002fmpmZmZmZuT\\u002f2KFyPwvUAQLgehetRuK4\\u002f4XoUrkfhyj+4HoXrUbiuP6RwPQrXo9A\\u002fj8L1KFyP0j+kcD0K16P0PwAAAAAAAPA\\u002fKVyPwvUo7D+kcD0K16PgP+xRuB6F67E\\u002fexSuR+F61D9xPQrXo3DtP3E9CtejcN0\\u002fcT0K16Nw3T8pXI\\u002fC9Si8P5qZmZmZmdk\\u002f16NwPQrX6z\\u002fhehSuR+HiP8P1KFyPwu0\\u002fMzMzMzMzwz\\u002fhehSuR+HiPx+F61G4HtU\\u002fexSuR+F61D9xPQrXo3DdP7gehetRuN4\\u002f9ihcj8L1AkCPwvUoXI\\u002fqPwAAAAAAAPA\\u002f4XoUrkfhyj9I4XoUrkfRPwrXo3A9Cuc\\u002fCtejcD0K1z+kcD0K16PgP1K4HoXrUcg\\u002fUrgehetR2D89CtejcD3qPxSuR+F6FOY\\u002fUrgehetR4D8K16NwPQrnP9ejcD0K1+M\\u002fAAAAAAAA8D+kcD0K16PgPz0K16NwPeo\\u002fj8L1KFyP0j+kcD0K16PgP3sUrkfheuQ\\u002fpHA9Ctej4D8AAAAAAADwPxSuR+F6FOY\\u002fpHA9CtejwD8pXI\\u002fC9SjMP3E9CtejcN0\\u002fAAAAAAAA8D8AAAAAAADwP6RwPQrXo8A\\u002fexSuR+F68D+4HoXrUbjyP8P1KFyPwtU\\u002fUrgehetR2D9cj8L1KFz\\u002fPwAAAAAAAAhAH4XrUbge1T9xPQrXo3DdP4\\u002fC9Shcj9I\\u002fZmZmZmZm1j\\u002fsUbgehevRP6RwPQrXo+A\\u002fKVyPwvUovD\\u002fsUbgehevBP+xRuB6F68E\\u002fFK5H4XoU3j\\u002fsUbgehevBP1K4HoXrUeA\\u002f4XoUrkfhyj\\u002fsUbgehevBP5qZmZmZmeE\\u002f7FG4HoXrsT9cj8L1KFzfP+xRuB6F67E\\u002fCtejcD0K1z8AAAAAAADgP7gehetRuN4\\u002fj8L1KFyP0j\\u002fD9Shcj8LlP1K4HoXrURBAmpmZmZmZuT\\u002fXo3A9CtfjP+xRuB6F67E\\u002fexSuR+F6xD8K16NwPQrXP3sUrkfheoQ\\u002fw\\u002fUoXI\\u002fC1T8AAAAAAADoP4\\u002fC9Shcj9I\\u002fFK5H4XoU3j97FK5H4XrUP7gehetRuL4\\u002fAAAAAAAA8D9xPQrXo3DdPwrXo3A9Csc\\u002fmpmZmZmZ4T9xPQrXo3DdPzMzMzMzM8M\\u002fw\\u002fUoXI\\u002fC7T9xPQrXo3DdP6RwPQrXo9A\\u002fKVyPwvUo5D8AAAAAAADgP7gehetRuJ4\\u002fw\\u002fUoXI\\u002fCxT97FK5H4XrkPxSuR+F6FN4\\u002fcT0K16Nw7T89CtejcD3aP3sUrkfhesQ\\u002fexSuR+F6hD+PwvUoXI\\u002fSPwrXo3A9Ctc\\u002f7FG4HoXr0T8zMzMzMzPDP+F6FK5H4eI\\u002fCtejcD0K1z97FK5H4XrEP8P1KFyPwtU\\u002fH4XrUbge1T\\u002fsUbgehevhP7gehetRuN4\\u002fexSuR+F6xD\\u002fD9Shcj8LFP3E9CtejcN0\\u002f7FG4HoXr6T8zMzMzMzPDPzMzMzMzM8M\\u002fexSuR+F61D97FK5H4XrEPzMzMzMzM8M\\u002fMzMzMzMzwz+4HoXrUbjeP6RwPQrXo+g\\u002f4XoUrkfh2j\\u002fD9Shcj8LFP3sUrkfhetQ\\u002fCtejcD0Ktz97FK5H4XrEP3sUrkfhesQ\\u002fMzMzMzMzwz\\u002fD9Shcj8LFP8P1KFyPwsU\\u002fexSuR+F6xD97FK5H4XrEP8P1KFyPwtU\\u002f16NwPQrX0z+amZmZmZnZP8P1KFyPwtU\\u002fexSuR+F6xD8zMzMzMzPDPzMzMzMzM8M\\u002fexSuR+F6xD97FK5H4XrEPzMzMzMzM8M\\u002fMzMzMzMzwz+uR+F6FK7XP9ejcD0K19M\\u002fAAAAAAAA8D8zMzMzMzPDP3sUrkfhesQ\\u002fuB6F61G4zj97FK5H4XoAQOF6FK5H4do\\u002fcT0K16Nw7T+amZmZmZnZPwrXo3A9Ctc\\u002fXI\\u002fC9ShcF0B7FK5H4XrEPzMzMzMzM8M\\u002fXI\\u002fC9Shc7z8fhetRuB7VP3sUrkfhesQ\\u002fCtejcD0Ktz97FK5H4XrEPwAAAAAAAAhAj8L1KFyP4j\\u002fhehSuR+HaP8P1KFyPwsU\\u002fexSuR+F6xD\\u002fXo3A9CtfTP65H4XoUru8\\u002fpHA9Ctej0D\\u002fNzMzMzMzcP1yPwvUoXN8\\u002fZmZmZmZm1j+amZmZmZnZP7gehetRuN4\\u002fZmZmZmZm1j8AAAAAAADQP7gehetRuL4\\u002fCtejcD0Ktz9xPQrXo3DdP7gehetRuOY\\u002fuB6F61G4rj+F61G4HoXjP3sUrkfhetQ\\u002frkfhehSu1z+PwvUoXI\\u002fSP2ZmZmZmZu4\\u002fcT0K16Nw5T+amZmZmZnZP4\\u002fC9Shcj9I\\u002fZmZmZmZm1j+uR+F6FK7XP\\u002fYoXI\\u002fC9eA\\u002fuB6F61G4rj8zMzMzMzPDP0jhehSuR9E\\u002fhetRuB6F2z+4HoXrUbiuPwAAAAAAAPA\\u002fcT0K16Nw3T+4HoXrUbiePylcj8L1KOw\\u002fmpmZmZmZ4T8AAAAAAADwP4XrUbgehds\\u002fzczMzMzM3D+amZmZmZm5PwrXo3A9Crc\\u002fCtejcD0Ktz\\u002fhehSuR+HiP3sUrkfhesQ\\u002fUrgehetR4D9xPQrXo3DdP3E9CtejcN0\\u002f4XoUrkfh2j\\u002fNzMzMzMzcP5qZmZmZmeE\\u002fKVyPwvUo3D+4HoXrUbiuPwAAAAAAAOA\\u002fMzMzMzMz0z8fhetRuB7VP+xRuB6F68E\\u002fFK5H4XoU5j9SuB6F61HYP65H4XoUruc\\u002fUrgehetR2D9SuB6F61HYP4\\u002fC9Shcj9I\\u002f7FG4HoXr0T9I4XoUrkfhP6RwPQrXo9A\\u002f4XoUrkfh4j+uR+F6FK7XP5qZmZmZmdk\\u002fAAAAAAAA4D9I4XoUrkfhPylcj8L1KMw\\u002fZmZmZmZm1j+kcD0K16PgP9ejcD0K19M\\u002fUrgehetR2D97FK5H4Xq0P5qZmZmZmbk\\u002fKVyPwvUo3D+kcD0K16PQP+xRuB6F67E\\u002fuB6F61G43j89CtejcD3aP+F6FK5H4do\\u002fzczMzMzM3D8zMzMzMzPjP2ZmZmZmZu4\\u002f7FG4HoXr4T8AAAAAAAD0P2ZmZmZmZuY\\u002fcT0K16Nw5T8fhetRuB7lP9ejcD0K1+M\\u002fexSuR+F6tD97FK5H4Xq0P1K4HoXrUeA\\u002f7FG4HoXr0T8AAAAAAADwP4\\u002fC9Shcj+I\\u002fhetRuB6F2z+amZmZmZnhP1yPwvUoXN8\\u002f9ihcj8L12D+4HoXrUbiuP3E9CtejcN0\\u002fAAAAAAAA4D8zMzMzMzPjPz0K16NwPdo\\u002f9ihcj8L14D\\u002fhehSuR+HKP7gehetRuK4\\u002fCtejcD0Ktz+kcD0K16PAPwrXo3A9Cuc\\u002fAAAAAAAA8D8K16NwPQrHP65H4XoUruc\\u002fuB6F61G43j+PwvUoXI\\u002fiP3sUrkfheoQ\\u002fAAAAAAAA8D89CtejcD3aP1K4HoXrUeA\\u002fmpmZmZmZ4T9xPQrXo3DdPzMzMzMzM+M\\u002fUrgehetRyD+4HoXrUbj2PxSuR+F6FOY\\u002fUrgehetR4D+PwvUoXI\\u002fSP7gehetRuK4\\u002fMzMzMzMz4z\\u002f2KFyPwvXgP1K4HoXrUdg\\u002frkfhehSu5z\\u002fsUbgehevhP7gehetRuOY\\u002fuB6F61G4BkAK16NwPQq3P6RwPQrXo+A\\u002fAAAAAAAA8D8AAAAAAADgP4XrUbgehds\\u002fCtejcD0Ktz8pXI\\u002fC9Si8P7gehetRuM4\\u002f9ihcj8L12D+amZmZmZnpP1K4HoXrUcg\\u002f4XoUrkfh4j+4HoXrUbjeP3E9CtejcN0\\u002fmpmZmZmZ2T+kcD0K16PgP4XrUbgehes\\u002fcT0K16Nw3T9mZmZmZmbuPylcj8L1KOQ\\u002f4XoUrkfh2j\\u002fD9Shcj8LVPwAAAAAAAOA\\u002fmpmZmZmZyT+uR+F6FK4HQAAAAAAAAPA\\u002fAAAAAAAA8D8AAAAAAADwP6RwPQrXo+A\\u002fuB6F61G43j8fhetRuB7VPwAAAAAAAPA\\u002fzczMzMzMBEAzMzMzMzPDP2ZmZmZmZgZAexSuR+F6tD\\u002fsUbgehevBP3E9CtejcN0\\u002fKVyPwvUo5D9mZmZmZmYOQHE9CtejcN0\\u002fXI\\u002fC9Shc7z8AAAAAAADwPwAAAAAAAPA\\u002fSOF6FK5HGEC4HoXrUbiePwrXo3A9Csc\\u002fKVyPwvUovD\\u002fsUbgehevRPwrXo3A9Csc\\u002fexSuR+F6xD8zMzMzMzPDPwAAAAAAAOA\\u002fcT0K16NwDUBcj8L1KFzvP6RwPQrXo+A\\u002fexSuR+F6hD8fhetRuB7tP8P1KFyPwtU\\u002fexSuR+F6AEBmZmZmZmbWPxSuR+F6FN4\\u002fZmZmZmZm5j\\u002f2KFyPwvXYP6RwPQrXo+A\\u002fUrgehetR9D8AAAAAAAAAQMP1KFyPwuU\\u002fUrgehetR2D\\u002fsUbgehevRP+xRuB6F67E\\u002fuB6F61G4zj+kcD0K16PQPx+F61G4Hg1APQrXo3A92j9xPQrXo3DdPzMzMzMzM8M\\u002fexSuR+F6xD8AAAAAAADwP+F6FK5H4QRAAAAAAAAA8D9SuB6F61HIP4\\u002fC9Shcj+o\\u002fAAAAAAAA8D\\u002fhehSuR+HaP9ejcD0K1+s\\u002fw\\u002fUoXI\\u002fC5T9SuB6F61HYP5qZmZmZmfE\\u002fmpmZmZmZ6T9mZmZmZmbuP2ZmZmZmZhBAw\\u002fUoXI\\u002fC1T8K16NwPQq3PwAAAAAAAPA\\u002fPQrXo3A94j8AAAAAAADwP7gehetRuN4\\u002f7FG4HoXrwT9SuB6F61HIPwAAAAAAAOA\\u002fZmZmZmZm1j\\u002fhehSuR+HKP8P1KFyPwgtAmpmZmZmZ4T\\u002f2KFyPwvXgP0jhehSuR+E\\u002fSOF6FK5H4T97FK5H4XrUPwAAAAAAANA\\u002fexSuR+F61D8AAAAAAADgP3sUrkfheqQ\\u002f4XoUrkfhyj\\u002fD9Shcj8LFP1K4HoXrUeA\\u002fw\\u002fUoXI\\u002fCxT8pXI\\u002fC9Si8P+xRuB6F68E\\u002fAAAAAAAA8D8K16NwPQrHP6RwPQrXo\\u002fQ\\u002fAAAAAAAA8D8zMzMzMzPjP3E9CtejcN0\\u002fexSuR+F68D8UrkfhehTePwAAAAAAAOA\\u002fpHA9Ctej0D9cj8L1KFzfP+xRuB6F69E\\u002fpHA9Ctej4D8zMzMzMzPDP5qZmZmZmak\\u002fCtejcD0Ktz9cj8L1KFzfP1K4HoXrUcg\\u002fmpmZmZmZuT+4HoXrUbieP3sUrkfhesQ\\u002f7FG4HoXr0T97FK5H4XrUP3E9CtejcM0\\u002fuB6F61G4vj8zMzMzMzPDP3sUrkfheoQ\\u002fj8L1KFyP0j97FK5H4XrEP+xRuB6F67E\\u002fw\\u002fUoXI\\u002fCxT+4HoXrUbjOP+F6FK5H4co\\u002fMzMzMzMzwz+4HoXrUbjOP3sUrkfhesQ\\u002fMzMzMzMz0z8zMzMzMzPTP7gehetRuL4\\u002fMzMzMzMzwz8zMzMzMzPDP2ZmZmZmZvY\\u002fMzMzMzMzwz8AAAAAAADQP8P1KFyPwsU\\u002fCtejcD0K1z97FK5H4XrEP8P1KFyPwuU\\u002fhetRuB6F8z8AAAAAAADQP7gehetRuK4\\u002fcT0K16NwzT+4HoXrUbjeP7gehetRuM4\\u002fuB6F61G4vj8zMzMzMzPDP8P1KFyPwtU\\u002fKVyPwvUovD8AAAAAAADQP6RwPQrXo8A\\u002fexSuR+F6pD+4HoXrUbi+P\\u002fYoXI\\u002fC9dg\\u002f7FG4HoXrsT\\u002fD9Shcj8LVPwAAAAAAAPA\\u002fexSuR+F6pD\\u002fhehSuR+HKP\\u002fYoXI\\u002fC9fA\\u002fAAAAAAAA0D8K16NwPQq3P6RwPQrXo9A\\u002f7FG4HoXrwT8zMzMzMzPDP3E9CtejcN0\\u002fKVyPwvUo5D+kcD0K16PQP7gehetRuN4\\u002fKVyPwvUozD8fhetRuB7tP+xRuB6F67E\\u002fcT0K16Nw3T+4HoXrUbi+P3sUrkfhesQ\\u002fuB6F61G43j9xPQrXo3DdP7gehetRuJ4\\u002fuB6F61G4vj\\u002fsUbgehevBP6RwPQrXo\\u002fA\\u002fXI\\u002fC9Shc3z\\u002fNzMzMzMzkPzMzMzMzM8M\\u002fMzMzMzMzwz8AAAAAAADgP+xRuB6F68E\\u002fcT0K16NwzT\\u002fsUbgehevBP4\\u002fC9Shcj9I\\u002fcT0K16NwzT9xPQrXo3DNP3sUrkfherQ\\u002fuB6F61G4nj8AAAAAAADwP3sUrkfhesQ\\u002fAAAAAAAA8D\\u002fhehSuR+HaPwrXo3A9Csc\\u002fMzMzMzMz0z9cj8L1KFznP3sUrkfhevA\\u002fAAAAAAAA0D9SuB6F61HIP4\\u002fC9Shcj9I\\u002f9ihcj8L12D9I4XoUrkfRPwAAAAAAANA\\u002fexSuR+F61D9I4XoUrkfRPwrXo3A9Ctc\\u002fCtejcD0K1z\\u002fsUbgeheuxP7gehetRuL4\\u002fZmZmZmZm1j\\u002fXo3A9CtfjP+xRuB6F67E\\u002fSOF6FK5H0T\\u002fhehSuR+HaP7gehetRuN4\\u002fCtejcD0K1z8zMzMzMzPTP+xRuB6F67E\\u002fw\\u002fUoXI\\u002fCxT8pXI\\u002fC9Si8P+xRuB6F68E\\u002fmpmZmZmZuT8pXI\\u002fC9Si8P7gehetRuK4\\u002fexSuR+F61D9SuB6F61HYP+F6FK5H4do\\u002fmpmZmZmZyT+PwvUoXI\\u002fiP3sUrkfheqQ\\u002fMzMzMzMz0z+4HoXrUbieP3sUrkfherQ\\u002f7FG4HoXrwT+4HoXrUbi+P5qZmZmZmck\\u002fuB6F61G43j9I4XoUrkfRP7gehetRuK4\\u002fw\\u002fUoXI\\u002fCxT+4HoXrUbjOP9ejcD0K1+s\\u002fcT0K16NwzT\\u002fhehSuR+HiPz0K16NwPdo\\u002fj8L1KFyP0j97FK5H4XrUP+xRuB6F68E\\u002fH4XrUbge8T8fhetRuB7VP8P1KFyPwsU\\u002fAAAAAAAA4D\\u002fXo3A9CtfrPylcj8L1KMw\\u002fH4XrUbge1T+4HoXrUbjOPzMzMzMzM8M\\u002fMzMzMzMz0z+amZmZmZnZP+F6FK5H4co\\u002fAAAAAAAA0D\\u002fhehSuR+HqP\\u002fYoXI\\u002fC9dg\\u002f7FG4HoXrwT89CtejcD3aPwAAAAAAAAAA7FG4HoXrsT+4HoXrUbi+PwAAAAAAANA\\u002fKVyPwvUozD9xPQrXo3DNP+F6FK5H4do\\u002fMzMzMzMzwz\\u002fD9Shcj8LVP4XrUbgehds\\u002fw\\u002fUoXI\\u002fCxT\\u002f2KFyPwvXYP9ejcD0K19M\\u002fuB6F61G4nj\\u002fD9Shcj8LFPylcj8L1KLw\\u002fexSuR+F6lD\\u002fD9Shcj8LVP8P1KFyPwsU\\u002fexSuR+F6xD9xPQrXo3DdPwAAAAAAAPA\\u002fuB6F61G4rj+PwvUoXI\\u002fSP0jhehSuR\\u002fE\\u002fKVyPwvUo5D\\u002fD9Shcj8LVP4\\u002fC9Shcj+I\\u002fAAAAAAAA8D+amZmZmZnZP8P1KFyPwsU\\u002fcT0K16Nw3T9xPQrXo3DNP5qZmZmZmck\\u002f4XoUrkfhyj8K16NwPQrHP3sUrkfhesQ\\u002fpHA9CtejwD8UrkfhehTeP83MzMzMzNw\\u002f4XoUrkfh4j9SuB6F61HYP5qZmZmZmeE\\u002fpHA9Ctej4D9xPQrXo3DdP1K4HoXrUeg\\u002fcT0K16Nw3T\\u002fD9Shcj8LFP8P1KFyPwtU\\u002fmpmZmZmZuT9I4XoUrkfhPwAAAAAAAOg\\u002fhetRuB6F2z8zMzMzMzPDP6RwPQrXo+A\\u002fcT0K16Nw3T+kcD0K16PgPz0K16NwPdo\\u002fKVyPwvUo3D9xPQrXo3DdP7gehetRuN4\\u002fzczMzMzM5D97FK5H4Xq0P4\\u002fC9Shcj+I\\u002f7FG4HoXrwT\\u002fsUbgehevBP8P1KFyPwuU\\u002fpHA9CtejwD+PwvUoXI\\u002fSPylcj8L1KMw\\u002fAAAAAAAA4D8K16NwPQrHP5qZmZmZmeE\\u002f7FG4HoXr0T9mZmZmZmbWPwAAAAAAANA\\u002fcT0K16NwBUCamZmZmZnJP3sUrkfhepQ\\u002frkfhehSu1z\\u002fNzMzMzMzcPwrXo3A9Ctc\\u002fAAAAAAAA6D8UrkfhehTmP3E9CtejcN0\\u002fFK5H4XoU5j97FK5H4XrsPxSuR+F6FN4\\u002fMzMzMzMzwz9xPQrXo3DdP6RwPQrXo+g\\u002fMzMzMzMz6z97FK5H4XqEP3sUrkfhepQ\\u002fPQrXo3A94j8zMzMzMzPjPz0K16NwPdo\\u002fj8L1KFyP0j8UrkfhehTeP4XrUbgeheM\\u002fPQrXo3A98j+4HoXrUbjeP3sUrkfheoQ\\u002f16NwPQrX0z\\u002fhehSuR+HKP+F6FK5H4co\\u002fcT0K16Nw3T97FK5H4XqEPylcj8L1KNw\\u002fZmZmZmZm1j89CtejcD3iP1yPwvUoXN8\\u002fexSuR+F6pD9xPQrXo3DdPylcj8L1KMw\\u002f16NwPQrX4z9cj8L1KFzfP1K4HoXrUeA\\u002fAAAAAAAA8D9xPQrXo3DdP3E9CtejcN0\\u002fFK5H4XoU3j9cj8L1KFzfP3E9CtejcM0\\u002fCtejcD0K1z8UrkfhehTuP8P1KFyPwtU\\u002fAAAAAAAA8D\\u002f2KFyPwvXgPwrXo3A9Crc\\u002fpHA9Ctej4D+uR+F6FK7XPx+F61G4HtU\\u002fAAAAAAAA4D8fhetRuB7VP9ejcD0K19M\\u002f9ihcj8L14D8pXI\\u002fC9Si8P+xRuB6F68E\\u002fmpmZmZmZ4T\\u002fsUbgehevBPzMzMzMzM8M\\u002fAAAAAAAA8D+uR+F6FK7XP8P1KFyPwtU\\u002fexSuR+F61D8fhetRuB7VPzMzMzMzM8M\\u002fexSuR+F61D97FK5H4XrEP3sUrkfhesQ\\u002fuB6F61G4rj97FK5H4XrEPzMzMzMzM8M\\u002fMzMzMzMzwz8zMzMzMzPDP9ejcD0K19M\\u002fexSuR+F6xD8zMzMzMzPDP3E9CtejcN0\\u002fexSuR+F6xD8fhetRuB7VPx+F61G4HtU\\u002fXI\\u002fC9Shc3z97FK5H4XrUPxSuR+F6FO4\\u002fexSuR+F6xD8K16NwPQrXP3sUrkfhesQ\\u002fZmZmZmZm1j8zMzMzMzPDP3sUrkfhesQ\\u002fexSuR+F6xD9mZmZmZmbWP3sUrkfhesQ\\u002fMzMzMzMzwz+F61G4HoXbPzMzMzMzM8M\\u002fAAAAAAAA8D8fhetRuB7VP3sUrkfhesQ\\u002f4XoUrkfh4j+amZmZmZnZP2ZmZmZmZtY\\u002fKVyPwvUo3D\\u002fsUbgehevBP65H4XoUrtc\\u002fAAAAAAAA8D9cj8L1KFz\\u002fP3sUrkfhesQ\\u002fMzMzMzMzwz8zMzMzMzPDP9ejcD0K19M\\u002fMzMzMzMzwz8zMzMzMzPDP3sUrkfhesQ\\u002fuB6F61G4rj97FK5H4XrEPzMzMzMzM8M\\u002fMzMzMzMzwz8zMzMzMzPDP9ejcD0K19M\\u002fexSuR+F6xD8zMzMzMzPDP3E9CtejcN0\\u002fexSuR+F6xD8fhetRuB7VPx+F61G4HtU\\u002fXI\\u002fC9Shc3z97FK5H4XrUPxSuR+F6FO4\\u002fexSuR+F6xD8K16NwPQrXP3sUrkfhesQ\\u002fZmZmZmZm1j8zMzMzMzPDP3sUrkfhesQ\\u002fexSuR+F6xD9mZmZmZmbWP3sUrkfhesQ\\u002fMzMzMzMzwz+F61G4HoXbPzMzMzMzM8M\\u002fAAAAAAAA8D8fhetRuB7VP3sUrkfhesQ\\u002f4XoUrkfh4j+amZmZmZnZP2ZmZmZmZtY\\u002fKVyPwvUo3D\\u002fsUbgehevBP65H4XoUrtc\\u002fAAAAAAAA8D9cj8L1KFz\\u002fP+xRuB6F69E\\u002f16NwPQrX0z8AAAAAAADQP+xRuB6F6+E\\u002fMzMzMzMz4z8UrkfhehTeP5qZmZmZmak\\u002fj8L1KFyP4j+PwvUoXI\\u002fSPwAAAAAAAPA\\u002fAAAAAAAA4D89CtejcD3iP3sUrkfherQ\\u002fmpmZmZmZyT8zMzMzMzPTP83MzMzMzOQ\\u002f7FG4HoXr4T9mZmZmZmbmPzMzMzMzM+M\\u002fzczMzMzMBkAUrkfhehTeP7gehetRuK4\\u002fPQrXo3A92j89CtejcD3iP7gehetRuN4\\u002f9ihcj8L14D9mZmZmZmYoQIXrUbgeheM\\u002fXI\\u002fC9Shc3z8zMzMzMzPjP7gehetRuL4\\u002fMzMzMzMzwz+kcD0K16PoP6RwPQrXo9A\\u002fH4XrUbge5T89CtejcD3iPxSuR+F6FN4\\u002fuB6F61G43j9xPQrXo3DdPz0K16NwPeI\\u002fhetRuB6F2z+PwvUoXI\\u002fiPzMzMzMzM8M\\u002f7FG4HoXrwT+amZmZmZnZP5qZmZmZmbk\\u002fAAAAAAAA4D\\u002fhehSuR+HaPwrXo3A9Crc\\u002fcT0K16Nw3T+4HoXrUbjeP4\\u002fC9Shcj+I\\u002f7FG4HoXr0T+kcD0K16PAP7gehetRuL4\\u002fzczMzMzM3D9xPQrXo3DdP4\\u002fC9Shcj9I\\u002fuB6F61G4rj8pXI\\u002fC9SjcP1yPwvUoXN8\\u002fmpmZmZmZ2T8zMzMzMzPDP8P1KFyPwtU\\u002f7FG4HoXr0T89CtejcD3iP4XrUbgeheM\\u002fzczMzMzM3D+F61G4HoXrP1K4HoXrUdg\\u002fAAAAAAAA4D9mZmZmZmbWP6RwPQrXo8A\\u002f7FG4HoXr4T+amZmZmZnJP4\\u002fC9Shcj9I\\u002fAAAAAAAA4D+kcD0K16PoPwrXo3A9Crc\\u002fKVyPwvUozD+4HoXrUbjmPx+F61G4HtU\\u002fAAAAAAAA8D9xPQrXo3DNPylcj8L1KLw\\u002fhetRuB6F4z9xPQrXo3DdP3sUrkfhevQ\\u002fuB6F61G45j8UrkfhehTeP+F6FK5H4do\\u002f4XoUrkfh\\u002fj+4HoXrUbjeP+F6FK5H4do\\u002fuB6F61G43j+4HoXrUbi+P65H4XoUrvc\\u002fH4XrUbge1T9xPQrXo3DdP3sUrkfhetQ\\u002fcT0K16Nw7T9xPQrXo3DdP8P1KFyPwtU\\u002fcT0K16NwzT\\u002fsUbgehevRP+xRuB6F67E\\u002fj8L1KFyP0j+kcD0K16PoPx+F61G4HtU\\u002fH4XrUbge5T8AAAAAAADwP\\u002fYoXI\\u002fC9dg\\u002f16NwPQrX0z\\u002fhehSuR+HaP3E9CtejcN0\\u002f7FG4HoXrwT8AAAAAAADgP2ZmZmZmZtY\\u002fMzMzMzMzwz97FK5H4XrUP8P1KFyPwsU\\u002fuB6F61G43j+kcD0K16PoP2ZmZmZmZu4\\u002f9ihcj8L14D+4HoXrUbiuP3E9CtejcN0\\u002fCtejcD0Kxz8UrkfhehTePxSuR+F6FN4\\u002fUrgehetRyD8fhetRuB79P+F6FK5H4co\\u002f4XoUrkfh2j8K16NwPQrXP1yPwvUoXN8\\u002f4XoUrkfhyj8K16NwPQq3P4\\u002fC9Shcj9I\\u002fmpmZmZmZ2T9xPQrXo3DNPwAAAAAAAPA\\u002fCtejcD0Ktz97FK5H4Xq0PxSuR+F6FN4\\u002f7FG4HoXrsT+4HoXrUbiuPwAAAAAAANA\\u002fCtejcD0K5z9xPQrXo3DtP1K4HoXrUcg\\u002f7FG4HoXrsT9mZmZmZmbWP1yPwvUoXO8\\u002fXI\\u002fC9ShcB0CuR+F6FK7vPwAAAAAAABBAcT0K16Nw3T+amZmZmZnpP3E9CtejcN0\\u002fcT0K16Nw3T+uR+F6FK7nP3E9CtejcN0\\u002fPQrXo3A96j9xPQrXo3DdP+xRuB6F67E\\u002fSOF6FK5H6T8AAAAAAADwPylcj8L1KOQ\\u002f4XoUrkfhyj89CtejcD3aP3sUrkfheoQ\\u002fexSuR+F69D89CtejcD36Px+F61G4HtU\\u002fCtejcD0Ktz8K16NwPQrzP5qZmZmZmdk\\u002fzczMzMzM7D8AAAAAAADwP5qZmZmZmbk\\u002fexSuR+F6lD8K16NwPQrHP1K4HoXrUeg\\u002fcT0K16Nw3T\\u002fhehSuR+HiPx+F61G4Hu0\\u002fAAAAAAAA8D9xPQrXo3DdP3E9CtejcM0\\u002fMzMzMzMz8z8AAAAAAADwP9ejcD0K1+s\\u002fSOF6FK5H6T8AAAAAAADwP1yPwvUoXBNAexSuR+F6xD8AAAAAAADwP4\\u002fC9Shcj9I\\u002f16NwPQrX0z\\u002f2KFyPwvXYP83MzMzMzPA\\u002fAAAAAAAA8D8zMzMzMzPTPzMzMzMzM+M\\u002fFK5H4XoUFkC4HoXrUbjePzMzMzMzM8M\\u002fexSuR+F6pD97FK5H4XqEPwAAAAAAANA\\u002fAAAAAAAA8D8AAAAAAAAAQI\\u002fC9Shcj9I\\u002fAAAAAAAA8D89CtejcD3aP3sUrkfheuw\\u002fcT0K16Nw3T8AAAAAAADwP0jhehSuR9E\\u002f7FG4HoXrwT\\u002fhehSuR+HaP65H4XoUruc\\u002fmpmZmZmZuT+uR+F6FK77PxSuR+F6FN4\\u002f16NwPQrX4z\\u002fD9Shcj8LVP8P1KFyPwtU\\u002fPQrXo3A9CkAUrkfhehTePwAAAAAAAABAMzMzMzMz0z89CtejcD3aP65H4XoUru8\\u002fj8L1KFyP0j89CtejcD0AQIXrUbgeheM\\u002fcT0K16Nw3T9SuB6F61HgP8P1KFyPwsU\\u002fMzMzMzMzwz\\u002fNzMzMzMzcP9ejcD0K1+s\\u002fexSuR+F6tD+PwvUoXI\\u002fiPz0K16NwPdo\\u002fcT0K16Nw3T8UrkfhehTeP3sUrkfheoQ\\u002f7FG4HoXrwT8UrkfhehTeP4XrUbgeheM\\u002fexSuR+F6xD+amZmZmZmpP1K4HoXrUdg\\u002fAAAAAAAA0D+uR+F6FK7XP9ejcD0K19M\\u002fUrgehetRyD+PwvUoXI\\u002fSPwrXo3A9Csc\\u002fuB6F61G4zj97FK5H4Xq0P8P1KFyPwsU\\u002fpHA9CtejwD+4HoXrUbjeP+xRuB6F68E\\u002fuB6F61G43j+4HoXrUbieP7gehetRuM4\\u002f4XoUrkfhyj97FK5H4XrEP+xRuB6F69E\\u002fMzMzMzMz0z+PwvUoXI\\u002fSPzMzMzMzM9M\\u002f9ihcj8L14D\\u002fsUbgehevRPylcj8L1KLw\\u002fCtejcD0Kxz\\u002f2KFyPwvXgP2ZmZmZmZtY\\u002fAAAAAAAA4D\\u002fsUbgehevBPylcj8L1KMw\\u002fw\\u002fUoXI\\u002fCxT9mZmZmZmYVQB+F61G4HtU\\u002fuB6F61G4zj89CtejcD3iP7gehetRuJ4\\u002fMzMzMzMz0z97FK5H4XqkP3sUrkfhesQ\\u002f16NwPQrX0z8AAAAAAADQP+xRuB6F68E\\u002fuB6F61G4vj\\u002fXo3A9CtfTP+xRuB6F69E\\u002fSOF6FK5H0T\\u002fhehSuR+HKP8P1KFyPwtU\\u002fexSuR+F6pD\\u002fhehSuR+HKP8P1KFyPwsU\\u002fexSuR+F6xD9xPQrXo3DdP+xRuB6F67E\\u002fFK5H4XoU5j+4HoXrUbiuP7gehetRuJ4\\u002fAAAAAAAA8D9SuB6F61HIP5qZmZmZmck\\u002fcT0K16Nw8T97FK5H4XqUPwAAAAAAAPA\\u002fAAAAAAAA0D9xPQrXo3DdP5qZmZmZmck\\u002fexSuR+F6xD\\u002fD9Shcj8LFP5qZmZmZmeE\\u002fAAAAAAAA4D8K16NwPQq3P8P1KFyPwtU\\u002f9ihcj8L12D8K16NwPQrHP6RwPQrXo8A\\u002fUrgehetRyD8zMzMzMzPTP\\u002fYoXI\\u002fC9dg\\u002fexSuR+F6hD+4HoXrUbi+PwAAAAAAANA\\u002fuB6F61G4zj8zMzMzMzPDPwAAAAAAANA\\u002fexSuR+F6pD+amZmZmZmpP3sUrkfhetQ\\u002fKVyPwvUovD8pXI\\u002fC9Si8P6RwPQrXo8A\\u002fmpmZmZmZ2T+amZmZmZm5P7gehetRuN4\\u002fAAAAAAAA6D9SuB6F61HIP1K4HoXrUeA\\u002fKVyPwvUo5D8K16NwPQq3P6RwPQrXo8A\\u002fUrgehetRyD89CtejcD3iP3E9CtejcO0\\u002fZmZmZmZm1j+F61G4HoXrP5qZmZmZmek\\u002fCtejcD0K1z8pXI\\u002fC9SjcPwAAAAAAANA\\u002fzczMzMzM5D9xPQrXo3DdP2ZmZmZmZuY\\u002fmpmZmZmZ4T9mZmZmZmbWP7gehetRuO4\\u002fSOF6FK5H4T8UrkfhehTeP6RwPQrXo+A\\u002fMzMzMzMzwz\\u002fNzMzMzMzkP3E9CtejcPU\\u002fw\\u002fUoXI\\u002fCxT\\u002f2KFyPwvXgP+xRuB6F68E\\u002fcT0K16Nw3T8K16NwPQq3Pz0K16NwPdo\\u002fuB6F61G43j8pXI\\u002fC9SjcP+F6FK5H4do\\u002fuB6F61G4vj9xPQrXo3DdP2ZmZmZmZtY\\u002fH4XrUbge5T+kcD0K16PAP3E9CtejcN0\\u002fexSuR+F6hD\\u002fXo3A9CtfjP3sUrkfherQ\\u002fj8L1KFyP4j8UrkfhehTmP2ZmZmZmZtY\\u002f7FG4HoXrwT+kcD0K16PAPxSuR+F6FN4\\u002fH4XrUbge1T9xPQrXo3DdP3sUrkfheuw\\u002fXI\\u002fC9Shc3z9xPQrXo3DdP6RwPQrXo8A\\u002fAAAAAAAA4D9mZmZmZmbWP3sUrkfheoQ\\u002fUrgehetR2D+uR+F6FK7XP+F6FK5H4co\\u002fexSuR+F65D97FK5H4XqUP7gehetRuM4\\u002fexSuR+F6xD9xPQrXo3DdP3E9CtejcN0\\u002fZmZmZmZm1j9xPQrXo3DtPzMzMzMzM9M\\u002f16NwPQrX0z8AAAAAAADwPylcj8L1KNw\\u002fMzMzMzMzwz8fhetRuB7VPx+F61G4HtU\\u002fmpmZmZmZ2T97FK5H4XrEP3sUrkfhesQ\\u002fw\\u002fUoXI\\u002fCxT\\u002fD9Shcj8LFPzMzMzMzM8M\\u002fw\\u002fUoXI\\u002fCxT9mZmZmZmbuP3sUrkfhesQ\\u002fH4XrUbge1T97FK5H4XrEP5qZmZmZmbk\\u002f4XoUrkfh4j+4HoXrUbjOP\\u002fYoXI\\u002fC9eA\\u002fw\\u002fUoXI\\u002fCxT8zMzMzMzPDP0jhehSuR+E\\u002fexSuR+F65D8UrkfhehTeP1yPwvUoXN8\\u002fzczMzMzM3D\\u002fD9Shcj8LFP3E9CtejcO0\\u002fexSuR+F6xD+F61G4HoXbP1yPwvUoXN8\\u002fzczMzMzM3D\\u002fD9Shcj8LVP8P1KFyPwtU\\u002fMzMzMzMzwz+uR+F6FK7XP0jhehSuR9E\\u002fSOF6FK5H8T\\u002fXo3A9CtfTP3sUrkfheqQ\\u002fPQrXo3A92j8pXI\\u002fC9SjcP9ejcD0K1+M\\u002frkfhehSu1z97FK5H4XrEPwAAAAAAAOg\\u002fMzMzMzMzwz+uR+F6FK7XPz0K16NwPdo\\u002fw\\u002fUoXI\\u002fC+T8pXI\\u002fC9SjkPylcj8L1KLw\\u002fj8L1KFyP0j8AAAAAAADwPwrXo3A9Ctc\\u002fCtejcD0K1z\\u002fD9Shcj8LVP8P1KFyPwtU\\u002fCtejcD0K5z9mZmZmZmbWP\\u002fYoXI\\u002fC9dg\\u002fUrgehetR2D97FK5H4XrEP65H4XoUrtc\\u002fMzMzMzMzwz\\u002fD9Shcj8LVP+xRuB6F6+k\\u002fMzMzMzMz0z9mZmZmZmbWPx+F61G4HtU\\u002fCtejcD0Ktz8K16NwPQr\\u002fPzMzMzMzM8M\\u002fexSuR+F61D\\u002f2KFyPwvXYP1K4HoXrUeA\\u002f16NwPQrX0z8zMzMzMzPDPzMzMzMzM8M\\u002fCtejcD0Kxz97FK5H4XrUP+xRuB6F68E\\u002fw\\u002fUoXI\\u002fCxT8zMzMzMzPDP3sUrkfhesQ\\u002frkfhehSu1z\\u002fNzMzMzMzcPylcj8L1KNw\\u002fKVyPwvUo7D8AAAAAAADgPwAAAAAAAPA\\u002fw\\u002fUoXI\\u002fCxT97FK5H4XrEP3sUrkfhetQ\\u002fCtejcD0Ktz8UrkfhehTePzMzMzMzM8M\\u002fw\\u002fUoXI\\u002fC1T\\u002fD9Shcj8LFP7gehetRuN4\\u002fexSuR+F6xD8zMzMzMzPDP0jhehSuR+E\\u002f9ihcj8L14D+amZmZmZnZP3sUrkfhesQ\\u002fmpmZmZmZ4T8fhetRuB7VPxSuR+F6FN4\\u002fuB6F61G43j\\u002fsUbgehevhP8P1KFyPwsU\\u002fw\\u002fUoXI\\u002fC1T8fhetRuB7VPzMzMzMzM+s\\u002frkfhehSu1z\\u002fD9Shcj8LVP+xRuB6F68E\\u002fSOF6FK5H4T9xPQrXo3DtP5qZmZmZmbk\\u002fAAAAAAAA6D9SuB6F61HYP+F6FK5H4eI\\u002f4XoUrkfh2j89CtejcD3aPwrXo3A9Ctc\\u002fuB6F61G43j+kcD0K16PgPwrXo3A9Ctc\\u002fZmZmZmZm1j\\u002fsUbgehevhP1yPwvUoXN8\\u002fAAAAAAAAAEBcj8L1KFzfP5qZmZmZmdk\\u002fPQrXo3A94j\\u002fhehSuR+HKPwAAAAAAAPA\\u002fexSuR+F61D+amZmZmZnJPwAAAAAAAPA\\u002fmpmZmZmZ4T\\u002fNzMzMzMzcP1yPwvUoXN8\\u002fKVyPwvUo5D8UrkfhehTeP+xRuB6F6+k\\u002fCtejcD0Ktz9I4XoUrkfpP3E9CtejcN0\\u002fCtejcD0Ktz97FK5H4Xq0Pylcj8L1KNw\\u002fMzMzMzMz0z8zMzMzMzPjPz0K16NwPeI\\u002fj8L1KFyP0j+F61G4HoXjPwAAAAAAAOA\\u002f4XoUrkfh4j\\u002fsUbgehevBP8P1KFyPwsU\\u002fw\\u002fUoXI\\u002fCxT9mZmZmZmbmP3E9CtejcN0\\u002fZmZmZmZm1j+amZmZmZkYQClcj8L1KNw\\u002fMzMzMzMz6z8UrkfhehTeP7gehetRuK4\\u002f4XoUrkfhyj8AAAAAAADgP5qZmZmZmak\\u002fZmZmZmZm1j9cj8L1KFznPxSuR+F6FOY\\u002fcT0K16Nw3T+4HoXrUbiuP+xRuB6F69E\\u002fcT0K16Nw7T\\u002fD9Shcj8LFPz0K16NwPdo\\u002fAAAAAAAA4D89CtejcD3aP6RwPQrXo9A\\u002fuB6F61G4rj+4HoXrUbi+P8P1KFyPwsU\\u002fcT0K16Nw5T8fhetRuB7lP5qZmZmZmRZAcT0K16Nw5T9mZmZmZmbmP+xRuB6F67E\\u002fuB6F61G43j+4HoXrUbiuP4XrUbgehds\\u002fw\\u002fUoXI\\u002fC7T97FK5H4Xq0PwAAAAAAAOA\\u002fXI\\u002fC9Shc3z\\u002fNzMzMzMzkP9ejcD0K19M\\u002fUrgehetR6D9xPQrXo3DdP+xRuB6F67E\\u002fmpmZmZmZ2T\\u002fsUbgeheuxPz0K16NwPdo\\u002fzczMzMzMEEBxPQrXo3DdP3E9CtejcN0\\u002fmpmZmZmZ2T\\u002fsUbgehevBPz0K16NwPeI\\u002fFK5H4XoU3j9cj8L1KFzfP3E9CtejcN0\\u002fmpmZmZmZqT+amZmZmZnhP8P1KFyPwtU\\u002fmpmZmZmZuT8zMzMzMzPDPzMzMzMzM9M\\u002f7FG4HoXrsT\\u002fNzMzMzMzcPx+F61G4Hu0\\u002f7FG4HoXr4T\\u002fsUbgehevhPzMzMzMzM+M\\u002fMzMzMzMz0z\\u002fhehSuR+HaP+F6FK5H4do\\u002fH4XrUbge1T\\u002fD9Shcj8LVP0jhehSuR+E\\u002fj8L1KFyP0j+uR+F6FK7XP0jhehSuR+E\\u002fhetRuB6F4z97FK5H4XrkP8P1KFyPwtU\\u002fzczMzMzM3D8fhetRuB7VP2ZmZmZmZtY\\u002fXI\\u002fC9Shc3z9xPQrXo3DdP0jhehSuR+E\\u002fuB6F61G43j8pXI\\u002fC9SjkPylcj8L1KOQ\\u002fPQrXo3A92j9xPQrXo3DdP3E9CtejcN0\\u002fPQrXo3A94j+amZmZmZnhP4\\u002fC9Shcj+o\\u002fuB6F61G4rj\\u002fhehSuR+HKP9ejcD0K19M\\u002fAAAAAAAA0D9mZmZmZmb2P1K4HoXrUeA\\u002fMzMzMzMzwz+PwvUoXI\\u002fSPwAAAAAAANA\\u002fAAAAAAAAFEC4HoXrUbiuP1K4HoXrUeA\\u002f7FG4HoXrsT8AAAAAAAD0P3sUrkfheqQ\\u002f9ihcj8L12D9cj8L1KFznP3E9CtejcM0\\u002fAAAAAAAA4D+amZmZmZm5P+xRuB6F67E\\u002fuB6F61G4zj97FK5H4XqEP5qZmZmZmbk\\u002fSOF6FK5H0T\\u002fNzMzMzMzcP+xRuB6F67E\\u002fAAAAAAAA\\u002fD\\u002fsUbgeheuxP3sUrkfhepQ\\u002fuB6F61G4zj\\u002fsUbgehevRPylcj8L1KLw\\u002fmpmZmZmZ4T+amZmZmZnZP5qZmZmZmak\\u002fMzMzMzMz0z+uR+F6FK7XP4XrUbgehds\\u002fpHA9CtejwD8K16NwPQq3PwAAAAAAAOA\\u002fUrgehetRyD9mZmZmZmbuP2ZmZmZmZtY\\u002fUrgehetR4D+4HoXrUbjeP3E9CtejcN0\\u002fuB6F61G43j97FK5H4XqUP8P1KFyPwsU\\u002fw\\u002fUoXI\\u002fCxT9SuB6F61HgPxSuR+F6FOY\\u002fhetRuB6F4z9SuB6F61HYP5qZmZmZmdk\\u002f4XoUrkfh2j8UrkfhehTePxSuR+F6FN4\\u002fH4XrUbge5T9cj8L1KFzfP3sUrkfhetQ\\u002fKVyPwvUo3D97FK5H4XrEP8P1KFyPwtU\\u002fcT0K16Nw3T8K16NwPQrXP3sUrkfhesQ\\u002f16NwPQrXEEB7FK5H4XrEP1yPwvUoXN8\\u002fexSuR+F61D8pXI\\u002fC9SjcP3sUrkfhesQ\\u002fw\\u002fUoXI\\u002fC1T9xPQrXo3DdP3sUrkfhetQ\\u002fCtejcD0K1z\\u002fXo3A9CtfrP8P1KFyPwtU\\u002fw\\u002fUoXI\\u002fCxT\\u002fsUbgeheuxP\\u002fYoXI\\u002fC9eA\\u002fhetRuB6F2z+4HoXrUbiuP6RwPQrXo9A\\u002fcT0K16Nw3T8K16NwPQrXPzMzMzMzM9M\\u002fSOF6FK5H4T+uR+F6FK7XP0jhehSuR+E\\u002fpHA9Ctej6D8fhetRuB7lP+xRuB6F67E\\u002f9ihcj8L14D9I4XoUrkfhP3E9CtejcPU\\u002fzczMzMzM5D+kcD0K16PAP+xRuB6F69E\\u002f7FG4HoXr6T89CtejcD3aP4\\u002fC9Shcj+I\\u002fhetRuB6F2z9SuB6F61HYPxSuR+F6FO4\\u002f9ihcj8L12D+4HoXrUbjOP+F6FK5H4eI\\u002f\"},\"xaxis\":\"x\",\"yaxis\":\"y\",\"type\":\"histogram\"}],                        {\"template\":{\"data\":{\"pie\":[{\"automargin\":true,\"type\":\"pie\"}]},\"layout\":{\"xaxis\":{\"showgrid\":true,\"title\":{\"standoff\":15}},\"yaxis\":{\"showgrid\":true,\"title\":{\"standoff\":15}}}},\"xaxis\":{\"anchor\":\"y\",\"domain\":[0.0,1.0],\"title\":{\"text\":\"antiguedad\"}},\"yaxis\":{\"anchor\":\"x\",\"domain\":[0.0,1.0],\"title\":{\"text\":\"count\"}},\"legend\":{\"tracegroupgap\":0},\"title\":{\"text\":\"Antigüedad\"},\"barmode\":\"relative\"},                        {\"responsive\": true}                    ).then(function(){\n",
              "                            \n",
              "var gd = document.getElementById('7641fc62-ce49-40e9-9a31-6b95d685925a');\n",
              "var x = new MutationObserver(function (mutations, observer) {{\n",
              "        var display = window.getComputedStyle(gd).display;\n",
              "        if (!display || display === 'none') {{\n",
              "            console.log([gd, 'removed!']);\n",
              "            Plotly.purge(gd);\n",
              "            observer.disconnect();\n",
              "        }}\n",
              "}});\n",
              "\n",
              "// Listen for the removal of the full notebook cells\n",
              "var notebookContainer = gd.closest('#notebook-container');\n",
              "if (notebookContainer) {{\n",
              "    x.observe(notebookContainer, {childList: true});\n",
              "}}\n",
              "\n",
              "// Listen for the clearing of the current output cell\n",
              "var outputEl = gd.closest('.output');\n",
              "if (outputEl) {{\n",
              "    x.observe(outputEl, {childList: true});\n",
              "}}\n",
              "\n",
              "                        })                };            </script>        </div>\n",
              "</body>\n",
              "</html>"
            ]
          },
          "metadata": {}
        }
      ]
    },
    {
      "cell_type": "code",
      "source": [
        "px.histogram(datos,\n",
        "             x = datos.metros_habitables,\n",
        "             title=\"Metros habitables\",\n",
        "             color_discrete_sequence = [\"magenta\"], # color\n",
        "             template=\"gridon\")"
      ],
      "metadata": {
        "colab": {
          "base_uri": "https://localhost:8080/",
          "height": 542
        },
        "id": "skILZHxxAHgW",
        "outputId": "e0984458-6cc7-471b-ee6c-5b2cb0c03805"
      },
      "execution_count": 21,
      "outputs": [
        {
          "output_type": "display_data",
          "data": {
            "text/html": [
              "<html>\n",
              "<head><meta charset=\"utf-8\" /></head>\n",
              "<body>\n",
              "    <div>            <script src=\"https://cdnjs.cloudflare.com/ajax/libs/mathjax/2.7.5/MathJax.js?config=TeX-AMS-MML_SVG\"></script><script type=\"text/javascript\">if (window.MathJax && window.MathJax.Hub && window.MathJax.Hub.Config) {window.MathJax.Hub.Config({SVG: {font: \"STIX-Web\"}});}</script>                <script type=\"text/javascript\">window.PlotlyConfig = {MathJaxConfig: 'local'};</script>\n",
              "        <script charset=\"utf-8\" src=\"https://cdn.plot.ly/plotly-3.0.1.min.js\"></script>                <div id=\"49100df8-6d44-49cd-99f2-4553b68b3bac\" class=\"plotly-graph-div\" style=\"height:525px; width:100%;\"></div>            <script type=\"text/javascript\">                window.PLOTLYENV=window.PLOTLYENV || {};                                if (document.getElementById(\"49100df8-6d44-49cd-99f2-4553b68b3bac\")) {                    Plotly.newPlot(                        \"49100df8-6d44-49cd-99f2-4553b68b3bac\",                        [{\"bingroup\":\"x\",\"hovertemplate\":\"metros_habitables=%{x}\\u003cbr\\u003ecount=%{y}\\u003cextra\\u003e\\u003c\\u002fextra\\u003e\",\"legendgroup\":\"\",\"marker\":{\"color\":\"magenta\",\"pattern\":{\"shape\":\"\"}},\"name\":\"\",\"orientation\":\"v\",\"showlegend\":false,\"x\":{\"dtype\":\"i4\",\"bdata\":\"UMMAABxXAACEHAAADEkAAJg6AACwNgAABFsAAAg5AAC4VgAA0FIAADgxAAAcVwAAwBIAABwMAAAsAQAAxAkAACwBAACIwgAANCEAAMhLAACYIQAA4BUAADgYAADsEwAAUBQAAHwVAABwFwAAlBEAAIwKAADISwAA4GAAAGA7AACMoAAAnGMAAGA7AADoTgAAYDsAAJRDAAD4jgAA3FAAAOhOAADcaQAAtF8AAICiAABwrQAAzEIAAIw8AADEIgAASO4AADhKAABAHwAAQAYAAOg1AABcKwAASA0AAKQfAAAIBwAAYAkAANAgAABAagAARC8AAAgHAAA8DwAAbCAAACReAAAAfQAATB0AAMQ7AADoZwAAAH0AADARAAAoCgAAAH0AAKAoAACcGAAAAH0AAEAGAADwIwAAAH0AADhKAABABgAAhBwAAEAGAAD8IQAAqGEAADwoAACgDwAAECcAAIgTAADUSQAAyEsAAHhQAAAMSQAADEkAANRJAAAEKQAA\\u002fCEAALxNAACUEQAA0AcAABwMAABIDQAAZBkAAIgTAAC4CwAA5AwAAHQOAACsDQAAhAMAANgOAAD4EQAAEA4AAMQJAAA0CAAAyBkAAIgTAABIDQAAcBcAAIAMAAAYFQAAQB8AADwPAAB0DgAAPA8AADARAAC4CwAAlBEAAFAUAABkGQAAmDoAAIQcAABoWwAApGoAABw+AACYOgAAHKIAAEijAAA4SgAANFMAABSbAADUrQAA5FcAAPiOAABUVgAAiJAAAPBuAABMTwAA3FAAAAhSAACQTAAAnGMAAJBMAACwmgAAgHAAAJCwAABAGQEAtF8AAHwuAAC0XwAA7JAAAFhNAACokwAAfHkAAHDfAADsJgEAkGUAAMjhAABMTwAAgFcAABByAABQkQAAaI0AAERCAQCAiQAAIE4AAIzSAACgQQAA7F4AAPiOAACYUwAANDoAAOiyAABUbwAAzFsAAPRMAACUdQAAUF8AAGBtAADYiwAANJ4AABBAAACcYwAASHEAAFhmAACAVwAArCYAAPAjAADIfQAA8FUAAAhSAADIWAIAeGkAAFQ9AAB4aQAAeGkAACBnAACQTAAAVD0AAPw6AAC8ZgAAqGEAAFQ9AAD8OgAAeGkAAFQ9AABUPQAAVD0AABRQAAAwdQAAWGYAAPw6AAB4aQAAAH0AAPw6AAD8OgAA\\u002fDoAALg9AAC4PQAAVD0AAPw6AAB4aQAAeGkAAFBGAABUNwEA\\u002fDoAAFQ9AABUPQAAVD0AAPw6AAD8OgAAVD0AAHhpAAB4aQAACFIAAGA7AABUPQAAeAUAAAwXAADIMgAAfBUAAJg6AAAEKQAAIE4AAPw6AABUPQAAkEwAAHhpAABUPQAA4HkAAFQ9AABg0QAAqGEAAFhmAAC4PQAAVD0AAHhpAABEFgAA+BEAAFgbAADIMgAA+CoAAEgmAACgKAAAyDIAAEhxAAAYRwAAwEQAAAhrAACsWAAAEEAAACx+AAC4iAAAfJIAAKh6AADEnwAA0BoBADB1AABIcQAAlI4AAPinAAAIAQEAEEAAAERIAADUSQAA6MsAADyMAADswgAACGsAAODdAAA8jAAAJHcAALCzAACoegAALH4AAFBGAADARAAAwEQAAACWAACoSAAAKIcAAFTsAAAwjgAAtHgAAMzSAQAkdwAAOHwAABBAAACIkAAAtF8AAFAtAADgRwAAjIcAAIDtAABIIAEAcEMBAKxxAABMTwAALEwAAPh1AACMVQAA1HsAAHySAACoYQAAiJAAAPh1AAD0GgAAeJsAAKBzAACQTAAAcJQAADBDAABQRgAAsIEAAKyjAACgQQAAdL0AADhjAABsOQAAMHUAAFgVAQCwMAEAUHgAAOypAAAYDwEAbFIAAGR9AABYfwAAMEMAADBDAAC8mAAAoFoAAAB9AACAUQEAWJgAAOiAAAA0hQAAoHMAABBAAAAIawAAXEQAAAB9AAAMrQAACAEBAJxKAAAQQAAAwEQAAHxHAABsnQAAfKsAAHBJAAB0iwAAKG4AAHwPAQD8NAEA0FIAADhjAAAohwAA8IcAAFTsAAAAfQAA1EkAAKy8AACsigAAKIcAAKh6AADwNgEAwFcBAHySAABwlAAAjG4AAPCHAAAciQAAKOsAAMBEAAC0kQAACJ0AAEhxAACoegAAwEQAAISAAABgbQAAoHMAAKyKAAD0MwAA1HsAAOB5AAC8fwAAMHUAAKBzAAAQiwAACGsAABwlAADsRQAA+EMAAHwuAACgDwAAIBwAAPgqAACsDQAASD8AAMBEAAAYRwAA1DAAAHwuAACoYQAA6E4AAKCMAACMbgAANAgAAIAMAAD0TAAAHCUAAEA4AABUPQAAHD4AAExPAABMTwAAZGQAAHBJAACYOgAAmDoAAOgcAACEHAAAmDoAAJg6AAAInQAAQGoAAMArAABAHwAAsAQAAIAMAAA4GAAApJwAAJBMAABwSQAAgHAAAChVAADEbQAAmIUAAECcAAAccAAANFMAAMASAADIAAAAeAUAALwCAADoHAAAHAwAAKgWAACQAQAAkBoAAIQ1AABUPQAAxFQAAIwjAABsOQAAiEUAAERIAACMoAAAvE0AAAg5AACETgAAtEYAADDAAADoZwAALDMAALg9AAD0AQAAmDoAAFSIAABAOAAAbFIAADAkAQAwJAEAMCQBAAB9AABMTwAAZEsAAGgQAADUSQAA1EkAAMwpAADQIAAAQB8AAHxHAAB0QAAAhBwAAHAXAACYOgAA+BEAADwPAADcUAAAoEEAAKRRAABgVAAAbCAAAIA+AADoNQAAhE4AABQ3AACYOgAA\\u002fCEAAJD7AACgOwEAyCwBAKCMAAAAfQAAyMgAAJD7AAAgmQAACEwBAHhpAADAjwAAoDsBALjTAAAoHQEAZMgAAEjuAADUMAAAQLUAAHTWAAAItgAA+NkAABjkAwD4oQEAUL0BAMy\\u002fAAB01gAAeEoBAJi3AACoWwEAUDQDAPDSAAD09QEAGHMBAFDDAABgWwMAqMUAAIj0AADoSAEAjPgCADjBAQCAcAAASCABAMjhAADMvwAAqFsBAPDSAADgQQEA2FMBAFDDAAB4rgEAoIwAAIjbAACYTQEASLwAAGjYAADEgAEAoIwAAAjoAACs6AEAGPYAADhEAQCoxQAAgIkAAFC9AQAAXgEAxIABAET3AACwYgEAQBkBAMSmAwBIvAAAAF4BAKhbAQCI9AAAyOEAAABeAQB4aQAAqFsBAOjLAACE8QIAkPsAAKyEAQCgjAAA8NIAABwfAQCAiQAAoKUAAAjoAACwzAAASCABAJDQAwCIwgAAeGkAAIDnAQDgxAAAzOsBAKBUAQCU0wEACM8AAEyUAQCA5wEAUMMAAFiSAQCwzAAAGA8BANT4AABI7gAASLwAANAzAQCoxQAAkEYBAEi8AAAMpwEAuAUBANB+AQDQtgAAeDEBAKBUAQDI4QAAGN0AAAjPAABIvAAAXMEAANhTAQBIawEACEwBANhTAQDosgAAuNMAAEBLAQAo6wAAfN0AANwxAQCgjAAAvPwAAABLAABoPAEASGsBAKhbAQAomgEAOPkAACT0AADosgAA4JIAAMy\\u002fAACwYgEASLwAAHwPAQDknAEAsMwAAAQ2AgAYxAAAsPICABDWAAC4ggEA6P0AAHRsAQDk1AAAENYAAMy\\u002fAABQvQEACM8AAAjPAAD4oQEAUMMAAFQrAwCYTQEA5LUBAPgeAgC4SwYASLwAAAynAQDgqwAAQBkBABDvAAAo6wAAUL0BAOBBAQD4VgEA4JIAACDkAADwuQAAAEsAALiCAQDgxAAAUEYAAIxoAQC4ggEAKNIAADgSAQAwoQEACLYAALDMAAAU8wIA3P8AAPjAAACAOAEA9O8CAHjmAABsBwAANAgAABAOAABIDQAArA0AABwMAABQFAAA3AUAAFwSAAB8FQAAlBEAAKQGAABMHQAAlBEAADwPAADYDgAAfBUAAPwIAACIEwAATAQAALQUAACkBgAAJBMAAMQJAACUEQAAfBUAAMQJAAAsAQAAkDMAAOg1AADgRwAAdEAAADQIAAD0MwAAIBwAAOgcAAAsZQAA6BwAACQsAABIDQAAxDsAAEwdAADUYgAAaCkAAOAuAADQIAAAmFMAAEgNAACwNgAAuD0AALA2AABAnAAAZBkAAARCAADgRwAAjFUAAGRLAAAUNwAAKAoAAEQRAAC4CwAA4MQAACSpAAA0OgAAwKgAAKjeAADgkgAAvGYAAJxjAABcXQAAtEABAOyQAACsJgAA\\u002fFMAAIBwAABgbQAA+I4AAKwmAAAkXgAAKI4DAEjVAABoKQAAgHAAADCOAACgcwAA\\u002fDoAAACWAAAUaQAAcGIAANSUAAD4jgAAIE4AAJhsAADwVQAAjNIAAEi8AADwIwAATGgAAJCXAACcYwAAsDYAALRfAACYUwAAqJMAAORXAADAjwAAkJcAACg8AACQTAAATJoAAAhSAAAIUgAAPIwAALRfAAB4aQAAeGkAAHhpAABUPQAAeGkAAFQ9AAD8OgAAEA4AAPw6AAD8OgAA\\u002fDoAAFQ9AAB4aQAAVD0AAPw6AAC0XwAA\\u002fDoAAHhpAAB4aQAAqGEAAHhpAABwYgAAVD0AAHhpAADwPAAAeGkAAFQ9AABUPQAAVD0AAHhpAABUPQAA\\u002fDoAAKhhAADwPAAAxFQAAHhpAAD8OgAAqGEAAJg6AAAEKQAAyDIAAHQOAADIMgAAdFkAAOBHAABUPQAAVD0AAJg6AAB4aQAA\\u002fDoAAPw6AAD8OgAAEA4AAPw6AAD8OgAA\\u002fDoAAFQ9AAB4aQAAVD0AAPw6AAC0XwAA\\u002fDoAAHhpAAB4aQAAqGEAAHhpAABwYgAAVD0AAHhpAADwPAAAeGkAAFQ9AABUPQAAVD0AAHhpAABUPQAA\\u002fDoAAKhhAADwPAAAxFQAAHhpAAD8OgAAqGEAAJg6AAAEKQAAyDIAAHQOAADIMgAAdFkAAOBHAACgWgAADGIAAEhxAABQeAAA0GUBABQ3AACAPgAAOJUAAKxYAADgDwEASHEAAHx5AAAwQwAAOEoAALRfAABAGQEAUHgAACCZAAAAfQAArNUAAKy8AAAQQAAADK0AALCBAAAobgAACAEBAMSyAQCscQAAuG8AAAB9AAAYRwAAREgAAMyNAAAYRwAACM8AAMhkAADAJQEAXI8AALx\\u002fAADkBgEAqHoAAPhDAABESAAA4EcAAKhhAAAggAAAmDoAAJzgAADARAAA5D4AADh8AAD4QwAAgFcAAHxHAAAYRwAAeGkAAMB2AABMTwAAEEAAADh8AACgvgAAMHUAAERIAADgYAAAODEAALCBAAAgFgEAeGkAANiLAACknAAASHEAAJhsAAB8RwAA8IcAABQeAADYiwAASHEAAKAiAQDARAAAKDwAAByJAACEZwAAOHwAADSFAAAQpAAAHIkAAAhrAAAohwAAHIkAAJhsAAC0eAAArAECAECDAACgWgAAOGMAABhHAACgjAAA3IIAAFTsAAAEpgAABI0AAAhrAACgjAAAZEsAAJBMAACgQQAA2IsAACyXAACsigAA5IkAAJBGAQAYYAAADGIAALR4AAC8fwAA4EcAAEhxAADkiQAAREgAALiIAAB8LgAAuD0AAJi3AADAjwAACAEBABBAAAC8fwAAODEAALCBAAB0QAAA1EkAAIz+AQBsOQAA2HIAAIiQAAAkkAAAnEoAAMBEAADogAAA4C4AAGRLAACUwAAAwEQAADBDAAB07wAACAcAAEAGAABsIAAAQGoAAPwhAABIDQAACAcAANweAADkPgAAIE4AAKwmAACwNgAAeB4AAFBGAADgRwAA4EcAANhZAAB4HgAAmDoAAOwsAAAUNwAA7EUAAKAPAAB8FQAArA0AADhjAACwBAAAUMMAAGRkAADECQAADBcAAOxFAAAsAQAA6BwAAGhCAABIPwAAIE4AABwMAAC0RgAAYDsAADxBAACQMwAAgD4AAFQ9AABsGgEA7EUAAABLAAD4QwAA5D4AAEQvAAD8UwAAIBwAAEg\\u002fAADoHAAASA0AAJg6AACIwgAAtF8AAJyVAACMCgAADBcAAFg0AAAgHAAAeAUAALAEAACYOgAA2FkAAPSXAABMBAAAiBMAABQFAACUEQAAXCsAAIgTAAD4EQAAWAIAAKQGAACMCgAAWAIAAOwsAAAQQAAAVG8AADhKAAA4SgAA3JsAAJRcAAD4jgAA2IsAALw0AACIEwAAqGEAANgnAADkPgAA6DUAAAg5AABgOwAA\\u002fDoAAKhhAABkqQEA6AMAADhKAAAMSQAAcEkAAMwpAADoAwAAeB4AALBPAAAsTAAAdNYAAMivAADI4QAAUMMAAHDfAACQ+wAAWJIBAJD7AAB83QAAiCYBAATMAgDE0QAAyMgAAJgbAQBIawEAyOEAAHhpAADMvwAAyBMBAMCPAABYygAACM8AAEC1AAAIzwAAxAMBAAD6AADYUwEAiIoBAAhyAwBQwwAA6P0AAOS1AQBAGQEA+NkAAEgaAgCgvgAAKOsAACT0AAB4aQAACM8AAABkAAB01gAAYC8CAFDDAABwxgAAuPkCANg6AQCgOwEAAMgAADjBAQDgQQEAoIwAAPihAQD42QAAdNYAAIj0AABIvAAAfIwBAOiyAAB4aQAAfGAAAIQcAACEHAAA2FkAAORXAAD09QEAUMMAABjdAABwEQEA6HoBAOCSAAC4HgEAeOYAADhEAQCAOAEAmE0BAACWAAAY9gAAAOEAAAjPAACwzAAASMkCAKhbAQA4wQEAzL8AAKCMAABI7gAAAGQAAAB9AAAENgIA2FMBAIjCAAB4rgEAeOYAAFzBAADUewAAFFAAABR8AQD0MwAAJEUAAOgDAAC8AgAAgAwAACgKAAAoCgAAQAYAAMwQAADQBwAAEA4AAKAPAABQFAAAdEAAAOg1AAD4EQAAuAsAAOAuAAD8IQAAsE8AABQ3AAB8FQAAECcAAKAPAAC0JwEABBAAACiOAwCQTAAA+I4AABRQAABMaAAAKLkAAIheAABUbwAAoEEAAIAMAAAojgMAcGIAABhHAADUEQEArCYAAMjhAACwTwAAKI4DALSqAADMWwAAkEwAAKRRAAAAfQAASIoAAAxiAAC0eAAAKI4DAPiOAACktQAAqJMAAIiQAADwbgAAqGEAALRfAACAcAAAyFgCADQ6AAA8cwAA\\u002fDoAAGSpAQBkqQEAZKkBAKhhAABkqQEAeGkAABRQAABkqQEA\\u002fDoAAJBlAAB4aQAAZKkBAPw6AAD8OgAA2CcAAGA7AAD8OgAAuD0AACCAAABUPQAAeGkAAPw6AABwFwAAIGcAACAcAABEegAAuD0AAFQ9AABkqQEAhGcAABhgAABkqQEAqGEAALg9AAC8fwAAVD0AAKhhAABEYQAAqGEAAGSpAQB4aQAA\\u002fDoAAOB5AAC03AAAbFIAAHhpAABgCQAAGEcAAJBlAABwewAAZKkBAPw6AAB0DgAAxAkAAMQJAADAEgAAlBEAAIgTAAAUBQAA2A4AAEgNAAAQDgAAyDIAAMgyAADIMgAAkGUAAMgyAADIMgAAyDIAAFQ9AABkqQEA\\u002fDoAAHhpAABkqQEAZKkBAGSpAQB4aQAALBoAALCtAQD8OgAAZKkBAGSpAQCoYQAAeGkAAPw6AAD8OgAAEA4AAHhpAAD8OgAAuD0AAPw6AAD8OgAAeGkAAGSpAQBkqQEAZKkBAGSpAQCYUwAAYDsAAFQ9AAB4aQAA\\u002fDoAAGSpAQD8OgAAeGkAANgnAAAwdQAA\\u002fDoAAFQ9AAAwdQAAZKkBAHhpAABUPQAAZKkBAHhpAAAYYAAA4GAAAGSpAQC4PQAAMHUAADB1AAA8DwAA+BEAAKwNAABgCQAARBYAAIgTAADsEwAApAYAAOQMAAAwEQAA2i8AACAcAADIMgAAECcAAMgyAADIMgAAlI4AAFB4AAC4bwAAIEgBALhvAAAwdQAAVIgAAJxKAACgjAAAuIgAALA2AABMxgEAZEsAACx+AAAkkAAAvJgAAJhsAABgVAAAwEQAAHRTAQAIawAAwEQAADBDAADoZwAAtF8AAIBwAABUiAAAXF0AAIyHAABcRAAA1HsAAOBHAAAMSQAADEkAAECcAAC8fwAAmGwAABwfAQCQMwAAYJ8AAJhsAAAQQAAAbDkAAMSGAACAPgAAmGwAAHSLAAD8bAAACGsAABBAAAAAfQAAPIwAANzHAQAkdwAASHEAACR3AACMVQAAEEAAABhHAAAMSQAANIUAABgoAQAYDwEAsJoAALiIAACgQQAAMPIAABBAAABYmAAAnJUAALSRAAAM+AAAUPUAANyCAAAMYgAA5IkAAFTsAACgQQAAYG0AAKBBAAA4YwAAZBMBAOQ+AAAIawAAYG0AAOBHAADADAEA+I4AAFD1AAC8fwAAgD4AAHzEAABYmAAAUEYAAJCXAAC0XwAAoEEAACx+AACQLQEAUHgAAAyUAABYFQEA0IQAALR4AADIZAAAGGAAAEhYAAD4dQAALEwAAPhcAACMhwAALH4AALCBAAB8LgAAeGkAAKyKAACYbAAAMEMAAIC7AAD4dQAAKG4AAISAAABUVgAAOGMAADCOAACAuwAAzHQAAOQGAQB0iwAAQAYAAAB9AACgKAAAKCMAADAkAQAwJAEAGBUAAOQlAABgOwAAJF4AAEAGAADYQAAACAcAAHwuAAAwJAEASCYAABBAAAAUHgAAoA8AAMgyAAAIBwAAmCEAAOxFAAAIUgAAMCQBACgjAAAIBwAAeFAAAAgHAADkJQAAQB8AAEgmAABUCwAAZEsAAEAfAACgQQAAMCoAAFQkAAC8NAAAhDUAAIAMAACgDwAAkBoAAMArAAA0IQAA\\u002fDoAAABLAAB4HgAA4C4AAIROAAC4PQAAYDsAABRpAAAsRgEA5KIAAIzSAAAojgMAqEgAACBOAACM0gAA4HkAAJg6AAAQQAAAZKkBAFQ9AAB4aQAAtF8AADyMAAB4tAAAABMBAPw6AACYOgAAEEAAAGSpAQBUPQAAeGkAALRfAAAqEgAAPIwAAOzbAADcaQAAsE8AAKBBAADMdAAAWGYAABBAAACMIwAAVOwAAOiAAADQhAAA+HUAAPhcAACMhwAAoCIBAAgaAQCgQQAAjIcAAPh1AABcjwAA3IIAAHxHAACgWgAAhBwAAIipAACoegAA6LIAAIheAABojQAAsE8AAKBBAACQZQAA\"},\"xaxis\":\"x\",\"yaxis\":\"y\",\"type\":\"histogram\"}],                        {\"template\":{\"data\":{\"pie\":[{\"automargin\":true,\"type\":\"pie\"}]},\"layout\":{\"xaxis\":{\"showgrid\":true,\"title\":{\"standoff\":15}},\"yaxis\":{\"showgrid\":true,\"title\":{\"standoff\":15}}}},\"xaxis\":{\"anchor\":\"y\",\"domain\":[0.0,1.0],\"title\":{\"text\":\"metros_habitables\"}},\"yaxis\":{\"anchor\":\"x\",\"domain\":[0.0,1.0],\"title\":{\"text\":\"count\"}},\"legend\":{\"tracegroupgap\":0},\"title\":{\"text\":\"Metros habitables\"},\"barmode\":\"relative\"},                        {\"responsive\": true}                    ).then(function(){\n",
              "                            \n",
              "var gd = document.getElementById('49100df8-6d44-49cd-99f2-4553b68b3bac');\n",
              "var x = new MutationObserver(function (mutations, observer) {{\n",
              "        var display = window.getComputedStyle(gd).display;\n",
              "        if (!display || display === 'none') {{\n",
              "            console.log([gd, 'removed!']);\n",
              "            Plotly.purge(gd);\n",
              "            observer.disconnect();\n",
              "        }}\n",
              "}});\n",
              "\n",
              "// Listen for the removal of the full notebook cells\n",
              "var notebookContainer = gd.closest('#notebook-container');\n",
              "if (notebookContainer) {{\n",
              "    x.observe(notebookContainer, {childList: true});\n",
              "}}\n",
              "\n",
              "// Listen for the clearing of the current output cell\n",
              "var outputEl = gd.closest('.output');\n",
              "if (outputEl) {{\n",
              "    x.observe(outputEl, {childList: true});\n",
              "}}\n",
              "\n",
              "                        })                };            </script>        </div>\n",
              "</body>\n",
              "</html>"
            ]
          },
          "metadata": {}
        }
      ]
    },
    {
      "cell_type": "code",
      "source": [
        "px.histogram(datos,\n",
        "             x = datos.universitarios,\n",
        "             title=\"Universitarios\",\n",
        "             color_discrete_sequence = [\"darkviolet\"], # color\n",
        "             template=\"gridon\")"
      ],
      "metadata": {
        "colab": {
          "base_uri": "https://localhost:8080/",
          "height": 542
        },
        "id": "x3OucrhPATgu",
        "outputId": "8a14a137-b28e-49f7-e989-0fa5a2233b6a"
      },
      "execution_count": 22,
      "outputs": [
        {
          "output_type": "display_data",
          "data": {
            "text/html": [
              "<html>\n",
              "<head><meta charset=\"utf-8\" /></head>\n",
              "<body>\n",
              "    <div>            <script src=\"https://cdnjs.cloudflare.com/ajax/libs/mathjax/2.7.5/MathJax.js?config=TeX-AMS-MML_SVG\"></script><script type=\"text/javascript\">if (window.MathJax && window.MathJax.Hub && window.MathJax.Hub.Config) {window.MathJax.Hub.Config({SVG: {font: \"STIX-Web\"}});}</script>                <script type=\"text/javascript\">window.PlotlyConfig = {MathJaxConfig: 'local'};</script>\n",
              "        <script charset=\"utf-8\" src=\"https://cdn.plot.ly/plotly-3.0.1.min.js\"></script>                <div id=\"bef0bd1f-3813-4bfa-878e-2b429999b6ac\" class=\"plotly-graph-div\" style=\"height:525px; width:100%;\"></div>            <script type=\"text/javascript\">                window.PLOTLYENV=window.PLOTLYENV || {};                                if (document.getElementById(\"bef0bd1f-3813-4bfa-878e-2b429999b6ac\")) {                    Plotly.newPlot(                        \"bef0bd1f-3813-4bfa-878e-2b429999b6ac\",                        [{\"bingroup\":\"x\",\"hovertemplate\":\"universitarios=%{x}\\u003cbr\\u003ecount=%{y}\\u003cextra\\u003e\\u003c\\u002fextra\\u003e\",\"legendgroup\":\"\",\"marker\":{\"color\":\"darkviolet\",\"pattern\":{\"shape\":\"\"}},\"name\":\"\",\"orientation\":\"v\",\"showlegend\":false,\"x\":{\"dtype\":\"i2\",\"bdata\":\"igOhB5gHmAdIA4AEwAp+BmAGiAVOC1gGwAJnBRQFqAMUBQALnANEBCAEQAYoBiAIQAawCHgGkgSdCQgGxARCB6sIVAfqB4cGDAhcB+YHWgluBaIHEga4B68JmgodA9wFLgcSBPYGyAWSBXwFyAVABcgFyAU8BugGRAXIBcsFKAbwAxwJKAR8CR4FfgbQB8gFmQsGBvcFkwjIBawFOAmgBcgFVwfIBQAHagWMBgADGAboA4wGeAb8CLAGRgWMBiUFIASQA9AEZAWoA9ACXAZ4BCMH+AY7B5IImAMABdAEfgWMBK4EnghYB1gFbQcLBoAD8AOQA4sJhAMyCEMIQAVSBKAFSAOSBIAG0AsmCkgDpQawBcgEgwVIBswLagfwCQ4EHAeaCFMJWAXIBUQFYQc\\u002fBdsHnAS\\u002fB80IRAasBEIG0wZEBGoJjQcIDLYRjQZUC3AFIgQmCZ4I7AUUC+gEJAlRCD8FkwtCCHgE3APDBd8EeAegBTwGaQrAB1AGfQcgCjUHUAWABkoEvgQWBHgEdATQBMwL5AWQA+QFGQZBCqgDkAPUBT8GAAmQA2kFGQZ0A5ADkANoBTYFmQXUBRkGqAPUBT0H2ASQA5ADkAOgBGYG5AWgAkIFoASQA5AD3AOgBGkFkAMMBhkG8ANpBYwDxggcB\\u002foJOAOaCSwFZAsIBJADKAXkBZAD+AeQA\\u002fAGGAUsB5ADkAP3Ba4FpAaQBmEJmARABUAFsgbIB5wDCgXZCWEF1QQGCUcHnQaUBjEG8gigCfUJDAkoCnUKxwVyBCgGJAi+BjsHBglyCxAKgAbVBGYKJwYeBi4FyAVxCEgFcAZ4C2QJygZsFBAKMgbIBX0Hkgc+CMcFEAqNCYkIHgiKBswEXwVyBrYGEAroCCgIfQdEDAUEaAcGCZwDIAjVBAcFNwcoBMgFngm0COwEFwa8B0wJXweJCLgJgATpB9kJyAXIBToJdgegBx4NKgitBz4IsAXHBVIHMwhQB1QJ\\u002fAooBF8FyAXsBCYIHArIBdgGZApxCekKgAQoCYYHoAigCJQKdgThCQUHSwYQCl0KOA8xBtYKAwVwBGgHAAbIBTAIFAkfCHcHyAWgCLYFAgdeBzgEEArkBYgGywYCDLgH\\u002fgjIBcADLgZABhAJCgTQBSAEYAMQBhgH+gXcBnMQnghEBDoGyAXIBbsLdAjvBUQGeAXYBnAD2ATqBUgDSAMgCvIDZAVWBZEG9QcKCqgDwANIBSQE5AX4BFUJugTOBCgHPgfcCA8H+AQYBkcHYAQoBywIjgoQBN4GFgkkCQoIsAOAAjEJ9ge9BasI7gYQBfEInwk2DPYJngRiB5gH\\u002fwoQBGYGnghiDBgJsQo\\u002fC24IOAU6BkMGjgjGBUQFFgYmBkwGwATQCJIEsAUoBRwILgXACDQIaQT4CMMF9AQYB2AG5gT4BEQGqgkJCDwHwggcBsADkAaUBYgG7AgGBeIEaAcgCnAHkAaABAoFXAkSDJQFXwZYBW4EoQaCBsoGsQVgBooIRQioAxMNIAcgCjgETAxQCFAG8QwXCWgGjQUABYsN4gRYBXQF1AfCCOIKwgh8BUAGgAXMA\\u002fgSRQsYBsAFTAhyCNMJ9gjQBuYHKgZIDdAGAAp2Bb4JoAj2CRQHCgWUBCAQGAdECuYEfAY6B+oEwwQ6BzcIDgeKBsIIgAWBDcAGMgnGCG4HmgRQC5kJqAOmA\\u002f8EYAeWBgYJsASYB6AE0AfQBlQGNwm2CHsEnQirDJcFqANYBQgHgAeIBWgC0AUoBeIEBgVGC\\u002f8EMgQYBXcMIAS8BT4GiAQEBN4HEAWkAwoFqAVYBeYL+AQeBysGfAaUCdQHchBoBh8LGAfsBwcDWAWoA5AGWAUuBSsGBgVUCNAHrghRCqgJhgf+BdIFZgSbBXAEcggYCcIK4AWpCRgIyAUwCBoEcgY8BtMDcQVgA7gK\\u002fAhMBlAKBwOmCTQMtgwIBoIFigPoBdAEmQMHBSgKFgV4BKcGEQYQBEwIQAV0AxQHcAPoBCIHbgR8B\\u002fgEwAOABEgDOghgBkQEYgZiB7AIwwXIBVgFsARIA5gEZAX6BsgFJga2A2oMPgU4BQYG4AjIBcoJPAcfBHAFSAYcBhQI1AmUBskF5wOAAxgDuwrlCAEFnglRC3AKjAcoBeAMzwyEDMEE9gacBKwFXAjDBO4FAA0oCcADCAY5C5wEWAVwBygFOgY3BzUM1AdXBmAEOwkMCgwGrgq2BRYGgAZVBy4HQAk4CJwEXwnQBJwE5gdUBT8F1AXnAzYIeAYZBtwD5QaQAzgGQAVpBWkFjwaMA\\u002fcFkAOgBLcGOARGCN8JOAYOBbYH3APkBYwDdgeQA5AD3APUBpADaQUUBYwDbAePCDgEFAWaCRAERgswB8QHoALoBZADkANpBeQFaQVcBjgGQAVpBWkFjwaMA\\u002fcFkAOgBLcGOARGCN8JOAYOBbYH3APkBYwDdgeQA5AD3APUBpADaQUUBYwDbAePCDgEFAWaCRAERgswB8QHoALoBWMGiAZkB3QG0QkIDRYF1gcsB8oHdAZgB8gF0gTyBtIJjAoaCXQKhAjsCCIFXAkoCAYJ+AcnCqYGTQgGCZcFnAMHB9ADqQixB0gJMQatBZ0LTAauCscFsQOSB1QFqgwjBiIFbQmEA1UMjAOcA3IEBglSB8wExwVMBigIUwicA5wGIAbWCJALkwZ4CrYK3AeOCiIFiAawBKQGXAr2CwoF9AMGCeoHfAX2BtIH9gakCFAHDAd2B2AG8A6sBNMImgbLBP4EnALKChYGSAWAB5QH4QQoBosFpAa8CgAHvAaECsYG3gcICNEGSAXTCAwKnAPQB6EDBAbCBtwF2gnHBYIHvwTUCg4KsQNiC8gFegdKBf4I0gTIBYEGhgicA8QEyAVfBdMHyAXIBbAFYAdYBMgFyAUsB\\u002fIFlQr8A6AIWAW4CUkHZgyAC8ADRgyCBsQCPgYcBsgEYwUGCcADwAMcB2AGOgYKBRgGrQWABnkIjAWhBfgDgwt0BocHwAMMBzgKXARjCGwDNgjwBswH3wb2A94IDAZUBjAKOAR0BIAEIATpBKgDdATAAyIEAAMACK4EfgmWA6IKPAmgBdAG6AjIBnMD6QMQBQAJHAi8BfgEbAcMBqQISAmwBmQKzwX8BbYJfgf2BH4FaQUUBbsMAAZkBpgHjAYQBAgHcgVdByAEOQacBYQGFgXXBEgDDAPABoIG5gexCP8DCgWAD6MGWQiUBagDGgpdBfgEWAVICP8EUAREBMcIegSyDIAHjAdUBmgGEASMBscHdAfGAxcHgAbABBwGwAqoA1EGrAV3BywGgAeDBLoOiwaQA+YFYANABtAGiAwKBWwH+AooBl4E2AbZBooICAeeCQYFOQWSBKEEeAkkB4AI0Ac8BbgExAg4BicHRQS0BVAIWAWYCAYJ8AY8B0QExwgfBXAFXAQsA1AH4ASmBkIFPAZ0Ay4D0AIDCDYGsgTgB\\u002foEwAMgBBwHtgliB\\u002foEtAY4BXAFKgnDBeAEgAf4B1kK3AVbDD8FJQb2BCQFFAwwBQAKPwWyDA4MOARgBDwLAQVUC+gFPwvpCSAEEAXoBToFQAn4BUEH+AyzCLYKrAt4BuAGpgaSBpwERQsBBTwGoAS5CngKswmkBD4J5AUYA9UMiQbQBxkGDAs4BqAErAb8BKAEjANMBpAD5AXUBWoDJQbLBL4JkAPcA8oKQQrGBEgMlQSMA+IIjAMEBqwE9AZuCi0GOAbbB28FTAp4Bu4FngQsB\\u002fkFmwqgBGAE8APwAx0IJAZSBwADEAYbCcADuAadBeYFzQuoB0AIZQuQA8QIsgQpCrwJeArfCNwHmAM\\u002fCKAEQwpRCsgGeAaQBGkFyQPkBUIGkANoBOoF\\u002fwWiCpcKzAuYCvwJoASQA6QIQgbVDH4FwAUwBMgJoASQA0gIEA3DCIwDmgpQBbcGfAVWCJADjwX8B4ADZAXAA0gDHAdgCEoG2AbBBiAEDAVAA9AI+gRIBkwHEgYUDl8HLgVUB4gGEAhyBBYHTAnQA0YLswk2ByAKAAccCroECgWMCUgJyAVfBXQK8gYKCvgEPAf6CNMIegnIBdwExwU2Ca0FIAioBygKaQdQB+wEzASkB8gFAQceCIIGSgmsBQAH8gi3DYIH1wiIBm4HxwUiBRYFBglAC5wHTQbzCscFYwgiBRoJSAXkCHIIKwgECgII6AbBCQoF8AbIBXYHDAvnCRAK3AXIBcoIJwemCDYHFgWkCPcGyAUCB34HyAXcBsMJBgmGC44K8AguBwYJgAQpBn8IXwVQBqIHqAr5CasHBAoAB38GFggcCuQIxAYGCc4G8gpuB+4H2gVECDwIyAV7CUQFbwVeDX4KCgQwBOgF8APIBZADyAUWBlgKyAi1Bb4FbAcGCMgFHgdUBkgIwQv\\u002fBsgFFAXIBVQHHAbgBMgF6QhbCXsHeAVQBAQH6AVuBkwHFQV0BiAECAkYCLAE5AbAA9wD6gUoBZ8KBAetBsALRgWwBEEHAQmICIQGmAqQA+QF0AQsB4YRnAigBIgIhAaYCpAD5AXQBMADLAcsBwsHtwUKBQYJgAbHBbMJsAmLCowGAAuuB0AIygqICMgFWAZyBiEFKAqxA2EE8AieCqAJegkGCQQKSwTJBKcH\"},\"xaxis\":\"x\",\"yaxis\":\"y\",\"type\":\"histogram\"}],                        {\"template\":{\"data\":{\"pie\":[{\"automargin\":true,\"type\":\"pie\"}]},\"layout\":{\"xaxis\":{\"showgrid\":true,\"title\":{\"standoff\":15}},\"yaxis\":{\"showgrid\":true,\"title\":{\"standoff\":15}}}},\"xaxis\":{\"anchor\":\"y\",\"domain\":[0.0,1.0],\"title\":{\"text\":\"universitarios\"}},\"yaxis\":{\"anchor\":\"x\",\"domain\":[0.0,1.0],\"title\":{\"text\":\"count\"}},\"legend\":{\"tracegroupgap\":0},\"title\":{\"text\":\"Universitarios\"},\"barmode\":\"relative\"},                        {\"responsive\": true}                    ).then(function(){\n",
              "                            \n",
              "var gd = document.getElementById('bef0bd1f-3813-4bfa-878e-2b429999b6ac');\n",
              "var x = new MutationObserver(function (mutations, observer) {{\n",
              "        var display = window.getComputedStyle(gd).display;\n",
              "        if (!display || display === 'none') {{\n",
              "            console.log([gd, 'removed!']);\n",
              "            Plotly.purge(gd);\n",
              "            observer.disconnect();\n",
              "        }}\n",
              "}});\n",
              "\n",
              "// Listen for the removal of the full notebook cells\n",
              "var notebookContainer = gd.closest('#notebook-container');\n",
              "if (notebookContainer) {{\n",
              "    x.observe(notebookContainer, {childList: true});\n",
              "}}\n",
              "\n",
              "// Listen for the clearing of the current output cell\n",
              "var outputEl = gd.closest('.output');\n",
              "if (outputEl) {{\n",
              "    x.observe(outputEl, {childList: true});\n",
              "}}\n",
              "\n",
              "                        })                };            </script>        </div>\n",
              "</body>\n",
              "</html>"
            ]
          },
          "metadata": {}
        }
      ]
    },
    {
      "cell_type": "code",
      "source": [
        "px.histogram(datos,\n",
        "             x = datos.dormitorios,\n",
        "             title=\"Dormitorios\",\n",
        "             color_discrete_sequence = [\"turquoise\"], # color\n",
        "             template=\"gridon\")"
      ],
      "metadata": {
        "colab": {
          "base_uri": "https://localhost:8080/",
          "height": 542
        },
        "id": "EQfxlSoYAckj",
        "outputId": "8bbff5d0-049f-475e-b1b0-46a518fc12df"
      },
      "execution_count": 23,
      "outputs": [
        {
          "output_type": "display_data",
          "data": {
            "text/html": [
              "<html>\n",
              "<head><meta charset=\"utf-8\" /></head>\n",
              "<body>\n",
              "    <div>            <script src=\"https://cdnjs.cloudflare.com/ajax/libs/mathjax/2.7.5/MathJax.js?config=TeX-AMS-MML_SVG\"></script><script type=\"text/javascript\">if (window.MathJax && window.MathJax.Hub && window.MathJax.Hub.Config) {window.MathJax.Hub.Config({SVG: {font: \"STIX-Web\"}});}</script>                <script type=\"text/javascript\">window.PlotlyConfig = {MathJaxConfig: 'local'};</script>\n",
              "        <script charset=\"utf-8\" src=\"https://cdn.plot.ly/plotly-3.0.1.min.js\"></script>                <div id=\"76f98dfe-cc5c-498c-9855-3f9188228c1c\" class=\"plotly-graph-div\" style=\"height:525px; width:100%;\"></div>            <script type=\"text/javascript\">                window.PLOTLYENV=window.PLOTLYENV || {};                                if (document.getElementById(\"76f98dfe-cc5c-498c-9855-3f9188228c1c\")) {                    Plotly.newPlot(                        \"76f98dfe-cc5c-498c-9855-3f9188228c1c\",                        [{\"bingroup\":\"x\",\"hovertemplate\":\"dormitorios=%{x}\\u003cbr\\u003ecount=%{y}\\u003cextra\\u003e\\u003c\\u002fextra\\u003e\",\"legendgroup\":\"\",\"marker\":{\"color\":\"turquoise\",\"pattern\":{\"shape\":\"\"}},\"name\":\"\",\"orientation\":\"v\",\"showlegend\":false,\"x\":{\"dtype\":\"i1\",\"bdata\":\"IzMzMzMWMyMzLDMzKTkpOSlHIyMjJycnJycnJydHRzRANDRHNDRHR0dHR0BHRzRHR0c0NDQ0NDQ0NDQ0NDQ0NDQ0NDQ0NDQ0NDQ0NDQ0NDQ0NDQ0LCwWFhYzMzMzMzMzMzMsLCwsLCwsLCwsLCwsLCwsLCwsLCwsLCwsLCwsLCwsMzMzMzMzKSlHR0cpQEBAQEBAQEBAQEBAQEBAQC1AQEBAQEBAQEBAQEBAQEBAQEBAQEBAQEBAQEBAQEBAQEBAOUBAQDlAQEBANDQ0NEA0NDRANDQ0NDQ0NDQ0QDQ0NDQ0NDQ0NDQ0NDQ0NDQ0NDQ0NDQ0NDQ0JydALUBAQDQ0NDQ0NDQ0QEA0NDQnJy1AQEBAQEBAQEBSQEBAQEBAQEBAQEBAQEBAUkBHQEBAQEBAQEBAQEBAQEBAQEBAQEBAQEBAQFJAQEBAQEBAQEBAQEBSQEBAQEBAQEBAQEBSQEBSQEBAQEBAQEBAQEdAQEBAQEBAQEBAQEBAQEBAQEBAQEBAQEBAQEBAQEBAQEBSQEBAQEBAQEBAQEBAQEBAQEBAQEBAQEBAQDM2JDY2Njk5OTk5OTY5OSQkNjY5OTk5OTk5OSQkJCQkJCQ5JCQUKR4pHjwbPDw8PDw8PC8vLy8vLy8vGxsbGxQ8Njw\\u002fNjw8PDY2PDwkOTk5OTk5OTY2OTY5OTY2NjY2NjY2OTk5OTk5Jjk5OTk5Njk5OTk5OTk5OTk5OTk5OTk5OTk5OTk5OTk5OTk5OTk5OTk5OTk5OTk5OTk5OTk5OTk5OTk5OTk5OTk5OTk5OTk5OTk5OTk5OTk5OTk5OTk5OTk5OTk5OTk5OTk5OTk5OTk5OTk5OTk5OTk5OTk5OTk5OTk5OTk5OTk5OTk5OTk5OTk5OTk5OTk5OTk5OTk5OTk5OTk5OTk5OTk5OTk5OTk5OTk5OTk5OTk5OTk5OTk5OTk5OTk5OTk5OTk5OTk5OTk5OTk5OTkmJiYmJiYmJiYmJiYmJiYmJiYmJiYmJiYmJiYmOTk5OTY2JCQvJCQ2NjY5OTk2NjY5Hjk5OTk5OSY5FBQUGz8\\u002fPz8\\u002fPz8\\u002fPz8\\u002fPz8\\u002fPz8\\u002fPz8XPz8\\u002fPz8\\u002fPz8\\u002fPz8pPz8\\u002fPz8\\u002fPz8\\u002fPz8\\u002fPz8\\u002fPz8\\u002fPz82NjY2NjY2NjY2NjY2NjY\\u002fNjY2NjY\\u002fNjY2NjY2NjY2NjY2NjY2Nj8\\u002fPxc\\u002fOTk2NjY2NjY2NjY2NjY2NjY\\u002fNjY2NjY\\u002fNjY2NjY2NjY2NjY2NjY2Nj8\\u002fPxc\\u002fOTk\\u002fPz8\\u002fPz8\\u002fPz88Pz8\\u002fPz8\\u002fPz8\\u002fPD8\\u002fPz8\\u002fPz8\\u002fPz8\\u002fPzw\\u002fP00\\u002fPz8\\u002fPz8\\u002fPz8\\u002fPz8\\u002fP00\\u002fPD8\\u002fPz8\\u002fPz8\\u002fPz88P00\\u002fPz9NPz8\\u002fPz8\\u002fPz8\\u002fPz8\\u002fPzw\\u002fPz8\\u002fPz8\\u002fPz8\\u002fPz8\\u002fPD8\\u002fPz8\\u002fPz8\\u002fPz8\\u002fPz8\\u002fPz8\\u002fPz88Pz8\\u002fTT8\\u002fPz8\\u002fPz8\\u002fPz8\\u002fPz8\\u002fPz8\\u002fPz8\\u002fPz8\\u002fNjY2OTY2NjY2JDkkOTk5OTk5OTk5ORskJEAhFTQbKD4kJD4+PiQ+ND4+Pj4+Pj4+Pj4+Iz4jGyM0IzIkJD4jISEjIzQhMjIyITIyISEyMjIoNDQ0KzQ0NDQ+JCQ+PhUoKCgoJCMjIyQkFRUVPj4+Pj4+Pj4+Pj4+Pj4+Pj4+Pj4+Pj4+Pj4+Pj4+Pj4+Pj4+Pj4+Pj4+Pj4+Pj4+Pj4+Pj4+Pj4+Pj4+IyMjIyM+Pj4+Pj4+Pj4+Pj4+Pj4+Pj4+Pj4+Pj4+Pj4+Pj40KDQ0NCQkJCQkJCQkJCQkPj4kJD4+Pj4bGxsVQEBAQEBAQEBAQEBAQEBAQEBAQEBAQEBAQEBAQEBAQEBAQEBAQEBAKCgoKCgoKCgoKEAoKCgoKCgoKEAoKCgoQEBAKCgoQEAoKChAKChAKCgoKCgoKChAQEBAKCgkJCQkJCQkJCQkQEBAHEBAQCgoKCgoKCgoKCgoKCgoKCgoQCgoKCgoKCgoKChAKCgoKCgoKChAKCgoKCgoKChAQCgoKCgkJCQkJCQkJCQkQEBAQEBAQEBAQEBAQEBAQEBAQEBAQEBAQEtAQEBAQEBAQEBAQEBAQEBAQEBAQEBAQEBAQEBAQEBAS0BAQEBAQEBAQEBAQEBAQEBAQEBAQEBAQEBAQEBAQEBAQEBAQEBAQEBAQEBAQEBAQEBAQEBANEBAQEBAQEBAQEBAQEBAQEA0QEBAS0BAKCgoKD4+KCgoKCgoKD4+KCgoKD4oKD4+PigoKCgoKCgoPigoKCgoKCgoKD4+Pj4+Pj4zMz09PT09PT09MzMzMzMzPTMzMzMzMzMzMz09Mz09PT09PT09PT09PT09PT09PT09PT09PT09PT09MzMz\"},\"xaxis\":\"x\",\"yaxis\":\"y\",\"type\":\"histogram\"}],                        {\"template\":{\"data\":{\"pie\":[{\"automargin\":true,\"type\":\"pie\"}]},\"layout\":{\"xaxis\":{\"showgrid\":true,\"title\":{\"standoff\":15}},\"yaxis\":{\"showgrid\":true,\"title\":{\"standoff\":15}}}},\"xaxis\":{\"anchor\":\"y\",\"domain\":[0.0,1.0],\"title\":{\"text\":\"dormitorios\"}},\"yaxis\":{\"anchor\":\"x\",\"domain\":[0.0,1.0],\"title\":{\"text\":\"count\"}},\"legend\":{\"tracegroupgap\":0},\"title\":{\"text\":\"Dormitorios\"},\"barmode\":\"relative\"},                        {\"responsive\": true}                    ).then(function(){\n",
              "                            \n",
              "var gd = document.getElementById('76f98dfe-cc5c-498c-9855-3f9188228c1c');\n",
              "var x = new MutationObserver(function (mutations, observer) {{\n",
              "        var display = window.getComputedStyle(gd).display;\n",
              "        if (!display || display === 'none') {{\n",
              "            console.log([gd, 'removed!']);\n",
              "            Plotly.purge(gd);\n",
              "            observer.disconnect();\n",
              "        }}\n",
              "}});\n",
              "\n",
              "// Listen for the removal of the full notebook cells\n",
              "var notebookContainer = gd.closest('#notebook-container');\n",
              "if (notebookContainer) {{\n",
              "    x.observe(notebookContainer, {childList: true});\n",
              "}}\n",
              "\n",
              "// Listen for the clearing of the current output cell\n",
              "var outputEl = gd.closest('.output');\n",
              "if (outputEl) {{\n",
              "    x.observe(outputEl, {childList: true});\n",
              "}}\n",
              "\n",
              "                        })                };            </script>        </div>\n",
              "</body>\n",
              "</html>"
            ]
          },
          "metadata": {}
        }
      ]
    },
    {
      "cell_type": "code",
      "source": [
        "px.histogram(datos,\n",
        "             x = datos.chimenea,\n",
        "             title=\"Chimeneas\",\n",
        "             color_discrete_sequence = [\"deeppink\"], # color\n",
        "             template=\"gridon\")"
      ],
      "metadata": {
        "colab": {
          "base_uri": "https://localhost:8080/",
          "height": 542
        },
        "id": "o61XmdiZAruG",
        "outputId": "6121a078-9ca2-4d95-cb3e-b121681ff703"
      },
      "execution_count": 24,
      "outputs": [
        {
          "output_type": "display_data",
          "data": {
            "text/html": [
              "<html>\n",
              "<head><meta charset=\"utf-8\" /></head>\n",
              "<body>\n",
              "    <div>            <script src=\"https://cdnjs.cloudflare.com/ajax/libs/mathjax/2.7.5/MathJax.js?config=TeX-AMS-MML_SVG\"></script><script type=\"text/javascript\">if (window.MathJax && window.MathJax.Hub && window.MathJax.Hub.Config) {window.MathJax.Hub.Config({SVG: {font: \"STIX-Web\"}});}</script>                <script type=\"text/javascript\">window.PlotlyConfig = {MathJaxConfig: 'local'};</script>\n",
              "        <script charset=\"utf-8\" src=\"https://cdn.plot.ly/plotly-3.0.1.min.js\"></script>                <div id=\"041d044b-0bde-4ea0-b30c-0efa1025a828\" class=\"plotly-graph-div\" style=\"height:525px; width:100%;\"></div>            <script type=\"text/javascript\">                window.PLOTLYENV=window.PLOTLYENV || {};                                if (document.getElementById(\"041d044b-0bde-4ea0-b30c-0efa1025a828\")) {                    Plotly.newPlot(                        \"041d044b-0bde-4ea0-b30c-0efa1025a828\",                        [{\"bingroup\":\"x\",\"hovertemplate\":\"chimenea=%{x}\\u003cbr\\u003ecount=%{y}\\u003cextra\\u003e\\u003c\\u002fextra\\u003e\",\"legendgroup\":\"\",\"marker\":{\"color\":\"deeppink\",\"pattern\":{\"shape\":\"\"}},\"name\":\"\",\"orientation\":\"v\",\"showlegend\":false,\"x\":{\"dtype\":\"i1\",\"bdata\":\"AgMEAwIEBAQDAwcDAgMDAwMEAgMDAwMDAwQDBAQDAgMDAwQEBAQEBAMEAwMEBAIDBAIDAgMDAwMCAwMDAgMDBAIEAwQDAwQDBAMEBAMDBAMCAwMDAwIEAwMEAwMDAwMDAwMCAwMDAgMDAwMEAgMDAwMDBAMDAwMDAwIDBAMEAgMDAgIEBAQCBQMDAwMEAwQCAwMDAgICBAIDAgMDAgMCAwMEAwQGAwQCAgQEAwQCBAQCBAQCAwMDBQMDBAMDAwMDBAMCAgMDAgIEAwIDAwQDAgMEBQICBAICAgMDAwMEAQMDAgICAgMDAwIDAwICAgMCAgMEAgICBAMEAwQDAwICAgMCBAICAwQCAgIDAwQEAwMDAwQCAgQDAgQDAwMDBAUEBAQEAwIDBAMCBQQEAwIFAwICAwQCAwMEAwQEAwMEAwQDBQQDBAMEAgMDBAQEBAUDBAUCAwMDAwMDBQMDBAQDBAQEAQQFAwMEAwMEBAUEBAMEBAMEBAICAwIDBAMDBAMDAgQEBAMFAwMEAwQEBQMEAgMEAgMEBAQEAwQDBAQDBQQEBAcDBAMCAwQEAgMDAwMDAwQFAwIHAwMEAgIDAwQCAwMBAgQDAwMDAwMCAgMEAwQGAgMEAwMDBAMDAgIEAwMCAwMDAQIEBAQDBAQEBQQDAgQDBAMEBAQEBAQDAwMDBAMCAwMEAwQDAwMEAwQEAgQDAwMEAgMEBAMDAwQDAgIDAwMDBAMCAwIDBAQDAwMDAwMEAgMDAwMGBAMCBQMDBAMEAwIEAwMDAwMEAwMDAgMFAwIDAwMEBAQDAwMDAwMDBAMCAgIDAwQDBAMDAwMDAwIDAwMDAwMCAwQDAwIDAwQCAwMDAwMDBAMCAwQDAwMDAwMCBAMCAwQDAwMDAwMDAwIGAwIDAgMEAwQEBAMDBAQDAwQCAgMCAwMDAwMDAwQDAgMDAwMDAwMDBAQEAwMCAgMDAgIEAwMEAQQEBAMGAgMDAgMEAwMDAwIEAwIDAwMDAwQDAwICBQMDAwMFAwMDAwIDAwMDAwIEAwIDBAIEBAIDAwMEBAQDAwICBAQCBAQEAwMEBAQCAwIDBAIEBAMCAwQCAwQDAwMEBAMDBQQDAwMCAwQDBAUCBAICBAICAwMDAwMCBQIDBQICAgICAgIDAgQDAwMEAgMCBAICAgICAwMCAwMCAwQDBAMCAgICAgIDAgMDBQICAgICAgIDAgQDAwMEAgMCBAICAgICAwMCAwMCAwQDBAMCAgIEBAMDBAQCAwQDAwMDAgMFBAQEBAQCBAQFBAMDBAQDAgMDBAQDAwQEAwMDAgQFBAMCBAIEAgICBQQEAwMEBAIEAwQEBAUDBAUCAwIDBQQCAwQDAwMDBAQEBAMDAwMEAwIDAQQDAwUDAwMDAwQDAwMEAwQEAgQDAgMCBAMDBAMEAgUEAgQDAwMEAgMEAwIDAwIDAgMDAwMCAgMEAwMEAwQDBAUDBAQCAwMDAwQCAwQDAgMDBAMDAwMDBAMDAwMEAgICBAMDAwMEAwMEAwMDAgMCAwICAgQCBAMEBAMDBAMBAgMDAwQDAwMEBAMEAwMEAwMCAgMEAwQDAwMDAwIDAwQEAwMCAgMDAwQCAgUEBAIDBAMDAwQCAgMEBAMEAwMDBQQDBAMCAwIDBAMEAwMDAwQEAgMDAgQDBAICAwMDAwMDAgUFAwIDBAMEAwMDBAMDAgIDAwMCAwMCBAMDBAIEAwICAwMCAgMCAwMDAwMDBAMEBAIDBAMDBAQDAwQCAwMDBAMEAgQDAgIFAgQCBAQDAgIDBAMEBAQEBQMDBAMCBAIDAwQEAwMEAwIEAgQDBAMDAgICAgMCAwMDBAMDAgIEBAIEAwIEAgMEAwQDAwQCBAMDAwMCBAIDAwMDAwQCAwQCAwMDBAQDBAIDAgQDBAMDAwMDBAQDAwMCAgMCAgIDAwQEBAQEAwIEAgQCAwIFAgIDBAMCBAMDAwQCAwMCAwMCBAMDAwQDAwMEAwMDAwYEAwMDBAIDBAIEBAMEAwQDAgQEAwIEAwUCAwQEBAMCAwQEBAMEBAQCAwQDBAQDAwMDBAQEBAQDAgICBQQCAwQDBAIEAwUEBAQEAwMCAwMEAwQEAwMDAwQDAgQEAgMEAwQEBQQEAwQEAwMEAgMEBAQEBAMDBAQFBAUEBAQEAgMEAgMCAwQEAgIDAgMDAwMEBAMDAwQCAwMEBQQCAwMDAwMCBAMEAwQDAwMDAwMDAwMCAwMCAwMDAwMEAwMDBAMDBAIDAwQGAwMDAwQCAwMDBAQEAwIFAwMEBAYDBQMEBAMDAwMCBAIDAwQEBAUEAgMD\"},\"xaxis\":\"x\",\"yaxis\":\"y\",\"type\":\"histogram\"}],                        {\"template\":{\"data\":{\"pie\":[{\"automargin\":true,\"type\":\"pie\"}]},\"layout\":{\"xaxis\":{\"showgrid\":true,\"title\":{\"standoff\":15}},\"yaxis\":{\"showgrid\":true,\"title\":{\"standoff\":15}}}},\"xaxis\":{\"anchor\":\"y\",\"domain\":[0.0,1.0],\"title\":{\"text\":\"chimenea\"}},\"yaxis\":{\"anchor\":\"x\",\"domain\":[0.0,1.0],\"title\":{\"text\":\"count\"}},\"legend\":{\"tracegroupgap\":0},\"title\":{\"text\":\"Chimeneas\"},\"barmode\":\"relative\"},                        {\"responsive\": true}                    ).then(function(){\n",
              "                            \n",
              "var gd = document.getElementById('041d044b-0bde-4ea0-b30c-0efa1025a828');\n",
              "var x = new MutationObserver(function (mutations, observer) {{\n",
              "        var display = window.getComputedStyle(gd).display;\n",
              "        if (!display || display === 'none') {{\n",
              "            console.log([gd, 'removed!']);\n",
              "            Plotly.purge(gd);\n",
              "            observer.disconnect();\n",
              "        }}\n",
              "}});\n",
              "\n",
              "// Listen for the removal of the full notebook cells\n",
              "var notebookContainer = gd.closest('#notebook-container');\n",
              "if (notebookContainer) {{\n",
              "    x.observe(notebookContainer, {childList: true});\n",
              "}}\n",
              "\n",
              "// Listen for the clearing of the current output cell\n",
              "var outputEl = gd.closest('.output');\n",
              "if (outputEl) {{\n",
              "    x.observe(outputEl, {childList: true});\n",
              "}}\n",
              "\n",
              "                        })                };            </script>        </div>\n",
              "</body>\n",
              "</html>"
            ]
          },
          "metadata": {}
        }
      ]
    },
    {
      "cell_type": "code",
      "source": [
        "px.histogram(datos,\n",
        "             x = datos.baños,\n",
        "             title=\"Baños\",\n",
        "             color_discrete_sequence = [\"silver\"], # color\n",
        "             template=\"gridon\")"
      ],
      "metadata": {
        "colab": {
          "base_uri": "https://localhost:8080/",
          "height": 542
        },
        "id": "2Wj_KO06A4-4",
        "outputId": "2919465f-42eb-498a-9332-54c937a4350c"
      },
      "execution_count": 25,
      "outputs": [
        {
          "output_type": "display_data",
          "data": {
            "text/html": [
              "<html>\n",
              "<head><meta charset=\"utf-8\" /></head>\n",
              "<body>\n",
              "    <div>            <script src=\"https://cdnjs.cloudflare.com/ajax/libs/mathjax/2.7.5/MathJax.js?config=TeX-AMS-MML_SVG\"></script><script type=\"text/javascript\">if (window.MathJax && window.MathJax.Hub && window.MathJax.Hub.Config) {window.MathJax.Hub.Config({SVG: {font: \"STIX-Web\"}});}</script>                <script type=\"text/javascript\">window.PlotlyConfig = {MathJaxConfig: 'local'};</script>\n",
              "        <script charset=\"utf-8\" src=\"https://cdn.plot.ly/plotly-3.0.1.min.js\"></script>                <div id=\"53fa96a2-1c55-4c5f-a624-c5857ba54346\" class=\"plotly-graph-div\" style=\"height:525px; width:100%;\"></div>            <script type=\"text/javascript\">                window.PLOTLYENV=window.PLOTLYENV || {};                                if (document.getElementById(\"53fa96a2-1c55-4c5f-a624-c5857ba54346\")) {                    Plotly.newPlot(                        \"53fa96a2-1c55-4c5f-a624-c5857ba54346\",                        [{\"bingroup\":\"x\",\"hovertemplate\":\"baños=%{x}\\u003cbr\\u003ecount=%{y}\\u003cextra\\u003e\\u003c\\u002fextra\\u003e\",\"legendgroup\":\"\",\"marker\":{\"color\":\"silver\",\"pattern\":{\"shape\":\"\"}},\"name\":\"\",\"orientation\":\"v\",\"showlegend\":false,\"x\":{\"dtype\":\"f8\",\"bdata\":\"AAAAAAAA8D8AAAAAAAAEQAAAAAAAAPA\\u002fAAAAAAAA+D8AAAAAAADwPwAAAAAAAPA\\u002fAAAAAAAA+D8AAAAAAAD4PwAAAAAAAPg\\u002fAAAAAAAA+D8AAAAAAADwPwAAAAAAAABAAAAAAAAA8D8AAAAAAAAAQAAAAAAAAPg\\u002fAAAAAAAA8D8AAAAAAAD4PwAAAAAAAARAAAAAAAAA8D8AAAAAAADwPwAAAAAAAPA\\u002fAAAAAAAA+D8AAAAAAAAEQAAAAAAAAABAAAAAAAAA+D8AAAAAAAAIQAAAAAAAAPA\\u002fAAAAAAAA+D8AAAAAAAAAQAAAAAAAAPg\\u002fAAAAAAAA8D8AAAAAAAAEQAAAAAAAAABAAAAAAAAABEAAAAAAAAAEQAAAAAAAAAhAAAAAAAAABEAAAAAAAAAEQAAAAAAAAAhAAAAAAAAABEAAAAAAAAD4PwAAAAAAAARAAAAAAAAA+D8AAAAAAAAEQAAAAAAAAARAAAAAAAAABEAAAAAAAADwPwAAAAAAAARAAAAAAAAAAEAAAAAAAAAAQAAAAAAAAARAAAAAAAAABEAAAAAAAAAAQAAAAAAAAABAAAAAAAAA+D8AAAAAAADwPwAAAAAAAARAAAAAAAAA+D8AAAAAAAAEQAAAAAAAAABAAAAAAAAAAEAAAAAAAAD4PwAAAAAAAPA\\u002fAAAAAAAA+D8AAAAAAADwPwAAAAAAAARAAAAAAAAA8D8AAAAAAAAEQAAAAAAAAABAAAAAAAAAAEAAAAAAAAAEQAAAAAAAAPg\\u002fAAAAAAAAEEAAAAAAAAAEQAAAAAAAAABAAAAAAAAABEAAAAAAAAD4PwAAAAAAAABAAAAAAAAABEAAAAAAAADwPwAAAAAAAARAAAAAAAAABEAAAAAAAAD4PwAAAAAAAARAAAAAAAAABEAAAAAAAAAAQAAAAAAAAABAAAAAAAAA+D8AAAAAAADwPwAAAAAAAPg\\u002fAAAAAAAA+D8AAAAAAAD4PwAAAAAAAPA\\u002fAAAAAAAA+D8AAAAAAAAEQAAAAAAAAPg\\u002fAAAAAAAAAEAAAAAAAADwPwAAAAAAAABAAAAAAAAA8D8AAAAAAADwPwAAAAAAAPA\\u002fAAAAAAAA+D8AAAAAAAD4PwAAAAAAAARAAAAAAAAAAEAAAAAAAAAEQAAAAAAAAARAAAAAAAAA8D8AAAAAAADwPwAAAAAAAPA\\u002fAAAAAAAA+D8AAAAAAAAAQAAAAAAAAPA\\u002fAAAAAAAABEAAAAAAAAAEQAAAAAAAAPg\\u002fAAAAAAAABEAAAAAAAAAAQAAAAAAAAABAAAAAAAAA8D8AAAAAAADwPwAAAAAAAARAAAAAAAAA8D8AAAAAAAAAQAAAAAAAAARAAAAAAAAAAEAAAAAAAADwPwAAAAAAAABAAAAAAAAA8D8AAAAAAADwPwAAAAAAAPA\\u002fAAAAAAAA8D8AAAAAAAAEQAAAAAAAAPg\\u002fAAAAAAAA8D8AAAAAAAD4PwAAAAAAAPA\\u002fAAAAAAAA8D8AAAAAAAD4PwAAAAAAAARAAAAAAAAA+D8AAAAAAAAEQAAAAAAAAPA\\u002fAAAAAAAABEAAAAAAAAAAQAAAAAAAAPA\\u002fAAAAAAAA+D8AAAAAAAAAQAAAAAAAAPg\\u002fAAAAAAAABEAAAAAAAAD4PwAAAAAAAARAAAAAAAAA+D8AAAAAAAAEQAAAAAAAAARAAAAAAAAA+D8AAAAAAADwPwAAAAAAAARAAAAAAAAABEAAAAAAAADwPwAAAAAAAARAAAAAAAAABEAAAAAAAAAEQAAAAAAAAARAAAAAAAAABEAAAAAAAAAEQAAAAAAAAPg\\u002fAAAAAAAA+D8AAAAAAAAEQAAAAAAAAARAAAAAAAAAAEAAAAAAAAAEQAAAAAAAAPg\\u002fAAAAAAAADEAAAAAAAAAEQAAAAAAAAARAAAAAAAAABEAAAAAAAAAMQAAAAAAAAPA\\u002fAAAAAAAA8D8AAAAAAAAAQAAAAAAAAPg\\u002fAAAAAAAAAEAAAAAAAAD4PwAAAAAAAABAAAAAAAAABEAAAAAAAAD4PwAAAAAAAABAAAAAAAAABEAAAAAAAAD4PwAAAAAAAARAAAAAAAAA8D8AAAAAAAD4PwAAAAAAAPg\\u002fAAAAAAAA+D8AAAAAAADwPwAAAAAAAPA\\u002fAAAAAAAAAEAAAAAAAAD4PwAAAAAAAARAAAAAAAAAAEAAAAAAAAD4PwAAAAAAAPg\\u002fAAAAAAAA+D8AAAAAAAAEQAAAAAAAAPA\\u002fAAAAAAAA+D8AAAAAAAAEQAAAAAAAAARAAAAAAAAABEAAAAAAAAD4PwAAAAAAAPg\\u002fAAAAAAAA+D8AAAAAAAAAQAAAAAAAAABAAAAAAAAA+D8AAAAAAAAAQAAAAAAAAPg\\u002fAAAAAAAAAEAAAAAAAAAEQAAAAAAAAPg\\u002fAAAAAAAA8D8AAAAAAAAEQAAAAAAAAARAAAAAAAAA+D8AAAAAAAD4PwAAAAAAAPg\\u002fAAAAAAAA+D8AAAAAAAD4PwAAAAAAAABAAAAAAAAAAEAAAAAAAADwPwAAAAAAAABAAAAAAAAAAEAAAAAAAAD4PwAAAAAAAPg\\u002fAAAAAAAAAEAAAAAAAAAAQAAAAAAAAPg\\u002fAAAAAAAA+D8AAAAAAAAAQAAAAAAAAPg\\u002fAAAAAAAA8D8AAAAAAAD4PwAAAAAAAPA\\u002fAAAAAAAA+D8AAAAAAAAEQAAAAAAAAARAAAAAAAAA+D8AAAAAAAAEQAAAAAAAAPA\\u002fAAAAAAAABEAAAAAAAAD4PwAAAAAAAPg\\u002fAAAAAAAA8D8AAAAAAAD4PwAAAAAAAPg\\u002fAAAAAAAABEAAAAAAAAD4PwAAAAAAAABAAAAAAAAAAEAAAAAAAAAEQAAAAAAAAABAAAAAAAAA+D8AAAAAAAAAQAAAAAAAAPg\\u002fAAAAAAAA+D8AAAAAAADwPwAAAAAAAARAAAAAAAAA8D8AAAAAAAD4PwAAAAAAAPg\\u002fAAAAAAAABEAAAAAAAAAIQAAAAAAAAPA\\u002fAAAAAAAA+D8AAAAAAAAEQAAAAAAAAPg\\u002fAAAAAAAA+D8AAAAAAAAEQAAAAAAAAARAAAAAAAAA+D8AAAAAAAAEQAAAAAAAAPg\\u002fAAAAAAAACEAAAAAAAAAEQAAAAAAAAARAAAAAAAAABEAAAAAAAAAEQAAAAAAAAARAAAAAAAAA+D8AAAAAAADwPwAAAAAAAARAAAAAAAAABEAAAAAAAAAAQAAAAAAAAABAAAAAAAAABEAAAAAAAAAEQAAAAAAAAARAAAAAAAAAAEAAAAAAAAD4PwAAAAAAAARAAAAAAAAA+D8AAAAAAAD4PwAAAAAAAPg\\u002fAAAAAAAA+D8AAAAAAAAEQAAAAAAAAPg\\u002fAAAAAAAA+D8AAAAAAAAMQAAAAAAAAARAAAAAAAAA+D8AAAAAAAAQQAAAAAAAAARAAAAAAAAA+D8AAAAAAAD4PwAAAAAAAARAAAAAAAAA+D8AAAAAAAAEQAAAAAAAAPg\\u002fAAAAAAAABEAAAAAAAAAEQAAAAAAAAARAAAAAAAAABEAAAAAAAAD4PwAAAAAAAPg\\u002fAAAAAAAA+D8AAAAAAAAAQAAAAAAAAPg\\u002fAAAAAAAABEAAAAAAAAAEQAAAAAAAAARAAAAAAAAABEAAAAAAAAAMQAAAAAAAAPA\\u002fAAAAAAAABEAAAAAAAAAEQAAAAAAAAPA\\u002fAAAAAAAABEAAAAAAAAD4PwAAAAAAAPg\\u002fAAAAAAAABEAAAAAAAADwPwAAAAAAAPg\\u002fAAAAAAAADEAAAAAAAAAEQAAAAAAAAPA\\u002fAAAAAAAABEAAAAAAAAAEQAAAAAAAAARAAAAAAAAABEAAAAAAAAD4PwAAAAAAAARAAAAAAAAAAEAAAAAAAAAEQAAAAAAAAARAAAAAAAAA+D8AAAAAAAD4PwAAAAAAAARAAAAAAAAA+D8AAAAAAAAAQAAAAAAAAAxAAAAAAAAABEAAAAAAAAAAQAAAAAAAAPg\\u002fAAAAAAAABEAAAAAAAAD4PwAAAAAAAARAAAAAAAAABEAAAAAAAAAEQAAAAAAAAARAAAAAAAAABEAAAAAAAAAAQAAAAAAAAPg\\u002fAAAAAAAA+D8AAAAAAAD4PwAAAAAAAARAAAAAAAAABEAAAAAAAAD4PwAAAAAAAARAAAAAAAAABEAAAAAAAAAEQAAAAAAAAARAAAAAAAAA8D8AAAAAAAAEQAAAAAAAAPg\\u002fAAAAAAAABEAAAAAAAAAEQAAAAAAAAARAAAAAAAAA+D8AAAAAAAAAQAAAAAAAAABAAAAAAAAA+D8AAAAAAAAEQAAAAAAAAARAAAAAAAAAEkAAAAAAAADwPwAAAAAAAARAAAAAAAAA8D8AAAAAAADwPwAAAAAAAARAAAAAAAAA8D8AAAAAAAD4PwAAAAAAAARAAAAAAAAABEAAAAAAAAAEQAAAAAAAAPg\\u002fAAAAAAAA+D8AAAAAAAAEQAAAAAAAAARAAAAAAAAA+D8AAAAAAAAEQAAAAAAAAPg\\u002fAAAAAAAACEAAAAAAAAD4PwAAAAAAAPA\\u002fAAAAAAAA+D8AAAAAAAAEQAAAAAAAAARAAAAAAAAABEAAAAAAAAAAQAAAAAAAAABAAAAAAAAA+D8AAAAAAADwPwAAAAAAAARAAAAAAAAA+D8AAAAAAAD4PwAAAAAAAPA\\u002fAAAAAAAA8D8AAAAAAAAAQAAAAAAAAPg\\u002fAAAAAAAAAEAAAAAAAAAAQAAAAAAAAAxAAAAAAAAABEAAAAAAAADwPwAAAAAAAPA\\u002fAAAAAAAABEAAAAAAAAD4PwAAAAAAAAxAAAAAAAAA+D8AAAAAAADwPwAAAAAAAARAAAAAAAAAAEAAAAAAAADwPwAAAAAAAPg\\u002fAAAAAAAAAEAAAAAAAAD4PwAAAAAAAPA\\u002fAAAAAAAA8D8AAAAAAAD4PwAAAAAAAPA\\u002fAAAAAAAA+D8AAAAAAAD4PwAAAAAAAARAAAAAAAAAAEAAAAAAAAD4PwAAAAAAAPA\\u002fAAAAAAAA+D8AAAAAAAD4PwAAAAAAAPA\\u002fAAAAAAAAAEAAAAAAAAD4PwAAAAAAAAhAAAAAAAAA8D8AAAAAAADwPwAAAAAAAABAAAAAAAAA+D8AAAAAAAAEQAAAAAAAAPg\\u002fAAAAAAAA+D8AAAAAAADwPwAAAAAAAAxAAAAAAAAA8D8AAAAAAAAEQAAAAAAAAARAAAAAAAAABEAAAAAAAAD4PwAAAAAAAARAAAAAAAAAAEAAAAAAAAD4PwAAAAAAAARAAAAAAAAA8D8AAAAAAADwPwAAAAAAAARAAAAAAAAABEAAAAAAAAD4PwAAAAAAAABAAAAAAAAAAEAAAAAAAAAAQAAAAAAAAPg\\u002fAAAAAAAABEAAAAAAAAAEQAAAAAAAAARAAAAAAAAA8D8AAAAAAAAAQAAAAAAAAARAAAAAAAAABEAAAAAAAAAAQAAAAAAAAABAAAAAAAAABEAAAAAAAAAMQAAAAAAAAARAAAAAAAAACEAAAAAAAAAIQAAAAAAAAABAAAAAAAAAAEAAAAAAAAAEQAAAAAAAAPg\\u002fAAAAAAAABEAAAAAAAAAEQAAAAAAAAABAAAAAAAAA8D8AAAAAAAD4PwAAAAAAAABAAAAAAAAA8D8AAAAAAAD4PwAAAAAAAPg\\u002fAAAAAAAAAEAAAAAAAAAIQAAAAAAAAARAAAAAAAAAAEAAAAAAAAAEQAAAAAAAAAhAAAAAAAAA8D8AAAAAAAAEQAAAAAAAAABAAAAAAAAA8D8AAAAAAAAAQAAAAAAAAARAAAAAAAAA+D8AAAAAAADwPwAAAAAAAPg\\u002fAAAAAAAABEAAAAAAAAAEQAAAAAAAAARAAAAAAAAACEAAAAAAAAD4PwAAAAAAAPA\\u002fAAAAAAAABEAAAAAAAAAEQAAAAAAAAARAAAAAAAAA+D8AAAAAAADwPwAAAAAAAPA\\u002fAAAAAAAA+D8AAAAAAAAIQAAAAAAAAABAAAAAAAAAAEAAAAAAAADwPwAAAAAAAPg\\u002fAAAAAAAA+D8AAAAAAAAQQAAAAAAAAPA\\u002fAAAAAAAABEAAAAAAAADwPwAAAAAAAPA\\u002fAAAAAAAA+D8AAAAAAAAEQAAAAAAAAARAAAAAAAAA+D8AAAAAAAAEQAAAAAAAAARAAAAAAAAABEAAAAAAAADwPwAAAAAAAARAAAAAAAAABEAAAAAAAAAIQAAAAAAAAPA\\u002fAAAAAAAADEAAAAAAAAD4PwAAAAAAAPg\\u002fAAAAAAAABEAAAAAAAAD4PwAAAAAAAPg\\u002fAAAAAAAA+D8AAAAAAADwPwAAAAAAAARAAAAAAAAA+D8AAAAAAADwPwAAAAAAAARAAAAAAAAABEAAAAAAAAAIQAAAAAAAAARAAAAAAAAABEAAAAAAAADwPwAAAAAAAPg\\u002fAAAAAAAA8D8AAAAAAADwPwAAAAAAABBAAAAAAAAABEAAAAAAAADwPwAAAAAAAPA\\u002fAAAAAAAABEAAAAAAAAAEQAAAAAAAAARAAAAAAAAABEAAAAAAAADwPwAAAAAAAARAAAAAAAAAAEAAAAAAAAAIQAAAAAAAAARAAAAAAAAABEAAAAAAAAAEQAAAAAAAAARAAAAAAAAABEAAAAAAAAAEQAAAAAAAAARAAAAAAAAA8D8AAAAAAAAAQAAAAAAAAAxAAAAAAAAABEAAAAAAAAAEQAAAAAAAAARAAAAAAAAA+D8AAAAAAAD4PwAAAAAAAABAAAAAAAAAAEAAAAAAAAAEQAAAAAAAAARAAAAAAAAABEAAAAAAAAD4PwAAAAAAAARAAAAAAAAA+D8AAAAAAAAEQAAAAAAAAPg\\u002fAAAAAAAABEAAAAAAAAAEQAAAAAAAAARAAAAAAAAA8D8AAAAAAAAMQAAAAAAAAAhAAAAAAAAA8D8AAAAAAADwPwAAAAAAAPA\\u002fAAAAAAAAAEAAAAAAAAD4PwAAAAAAAAhAAAAAAAAA+D8AAAAAAAAEQAAAAAAAAPA\\u002fAAAAAAAABEAAAAAAAAAEQAAAAAAAAARAAAAAAAAABEAAAAAAAAAEQAAAAAAAAPg\\u002fAAAAAAAABEAAAAAAAAAEQAAAAAAAAPg\\u002fAAAAAAAA8D8AAAAAAAD4PwAAAAAAAARAAAAAAAAA+D8AAAAAAAAAQAAAAAAAAPA\\u002fAAAAAAAA+D8AAAAAAAD4PwAAAAAAAPg\\u002fAAAAAAAA8D8AAAAAAAAEQAAAAAAAAPA\\u002fAAAAAAAA8D8AAAAAAADwPwAAAAAAAAxAAAAAAAAA8D8AAAAAAAAEQAAAAAAAAPg\\u002fAAAAAAAA+D8AAAAAAADwPwAAAAAAAPA\\u002fAAAAAAAA8D8AAAAAAADwPwAAAAAAAPg\\u002fAAAAAAAA+D8AAAAAAADwPwAAAAAAAPg\\u002fAAAAAAAA+D8AAAAAAAAEQAAAAAAAAPg\\u002fAAAAAAAA+D8AAAAAAAAEQAAAAAAAAABAAAAAAAAADEAAAAAAAAD4PwAAAAAAAPg\\u002fAAAAAAAAAEAAAAAAAAAAQAAAAAAAAPA\\u002fAAAAAAAA8D8AAAAAAAD4PwAAAAAAAARAAAAAAAAA8D8AAAAAAAD4PwAAAAAAAABAAAAAAAAA8D8AAAAAAAAEQAAAAAAAAARAAAAAAAAABEAAAAAAAAAAQAAAAAAAAARAAAAAAAAACEAAAAAAAAAEQAAAAAAAAPg\\u002fAAAAAAAAAEAAAAAAAAD4PwAAAAAAAPg\\u002fAAAAAAAABEAAAAAAAAAEQAAAAAAAAARAAAAAAAAA+D8AAAAAAAAMQAAAAAAAAARAAAAAAAAABEAAAAAAAAAEQAAAAAAAAPA\\u002fAAAAAAAABEAAAAAAAAD4PwAAAAAAAABAAAAAAAAA+D8AAAAAAADwPwAAAAAAAARAAAAAAAAACEAAAAAAAADwPwAAAAAAAARAAAAAAAAA8D8AAAAAAAAEQAAAAAAAAAhAAAAAAAAABEAAAAAAAAAEQAAAAAAAAPg\\u002fAAAAAAAA8D8AAAAAAADwPwAAAAAAAPA\\u002fAAAAAAAA8D8AAAAAAADwPwAAAAAAAAhAAAAAAAAAAEAAAAAAAADwPwAAAAAAAABAAAAAAAAAAEAAAAAAAADwPwAAAAAAAAhAAAAAAAAAAEAAAAAAAADwPwAAAAAAAPg\\u002fAAAAAAAA8D8AAAAAAAAAQAAAAAAAAARAAAAAAAAA+D8AAAAAAAAEQAAAAAAAAPg\\u002fAAAAAAAA8D8AAAAAAAD4PwAAAAAAAPA\\u002fAAAAAAAAAEAAAAAAAAAAQAAAAAAAAABAAAAAAAAA+D8AAAAAAAAEQAAAAAAAAARAAAAAAAAAAEAAAAAAAAD4PwAAAAAAAPA\\u002fAAAAAAAA8D8AAAAAAADwPwAAAAAAAABAAAAAAAAAAEAAAAAAAAAEQAAAAAAAAPg\\u002fAAAAAAAA+D8AAAAAAAD4PwAAAAAAAAxAAAAAAAAA+D8AAAAAAAD4PwAAAAAAAARAAAAAAAAADEAAAAAAAAAEQAAAAAAAAARAAAAAAAAAAEAAAAAAAADwPwAAAAAAAPg\\u002fAAAAAAAAAEAAAAAAAAAAQAAAAAAAAARAAAAAAAAABEAAAAAAAAD4PwAAAAAAAPg\\u002fAAAAAAAA8D8AAAAAAADwPwAAAAAAAPA\\u002fAAAAAAAADEAAAAAAAAAEQAAAAAAAAARAAAAAAAAABEAAAAAAAAAEQAAAAAAAAAxAAAAAAAAA+D8AAAAAAAAEQAAAAAAAAARAAAAAAAAACEAAAAAAAAAEQAAAAAAAAARAAAAAAAAA+D8AAAAAAAD4PwAAAAAAAABAAAAAAAAABEAAAAAAAAD4PwAAAAAAAPg\\u002fAAAAAAAABEAAAAAAAAAEQAAAAAAAAPA\\u002fAAAAAAAABEAAAAAAAAAEQAAAAAAAAPg\\u002fAAAAAAAA+D8AAAAAAAAEQAAAAAAAAABAAAAAAAAA+D8AAAAAAAAEQAAAAAAAAARAAAAAAAAABEAAAAAAAAD4PwAAAAAAAPA\\u002fAAAAAAAABEAAAAAAAAAEQAAAAAAAAPg\\u002fAAAAAAAABEAAAAAAAAAAQAAAAAAAAARAAAAAAAAA+D8AAAAAAAAIQAAAAAAAAPA\\u002fAAAAAAAABEAAAAAAAAD4PwAAAAAAAPg\\u002fAAAAAAAABEAAAAAAAAD4PwAAAAAAAPg\\u002fAAAAAAAABEAAAAAAAAD4PwAAAAAAAARAAAAAAAAA8D8AAAAAAADwPwAAAAAAAARAAAAAAAAA+D8AAAAAAAD4PwAAAAAAAABAAAAAAAAAAEAAAAAAAAD4PwAAAAAAAPg\\u002fAAAAAAAA8D8AAAAAAAD4PwAAAAAAAPg\\u002fAAAAAAAA+D8AAAAAAADwPwAAAAAAAABAAAAAAAAA+D8AAAAAAAD4PwAAAAAAAPg\\u002fAAAAAAAA8D8AAAAAAAAAQAAAAAAAAPg\\u002fAAAAAAAA+D8AAAAAAADwPwAAAAAAAARAAAAAAAAAAEAAAAAAAAAAQAAAAAAAAPA\\u002fAAAAAAAAAEAAAAAAAAD4PwAAAAAAAPg\\u002fAAAAAAAAAEAAAAAAAAAAQAAAAAAAAPg\\u002fAAAAAAAA+D8AAAAAAAD4PwAAAAAAAPA\\u002fAAAAAAAAAEAAAAAAAAAEQAAAAAAAAPA\\u002fAAAAAAAA+D8AAAAAAAAEQAAAAAAAAPA\\u002fAAAAAAAACEAAAAAAAADwPwAAAAAAAPA\\u002fAAAAAAAA8D8AAAAAAAAAQAAAAAAAAPg\\u002fAAAAAAAA+D8AAAAAAAD4PwAAAAAAAPg\\u002fAAAAAAAA+D8AAAAAAAAEQAAAAAAAAPg\\u002fAAAAAAAA8D8AAAAAAAD4PwAAAAAAAPg\\u002fAAAAAAAA+D8AAAAAAADwPwAAAAAAAABAAAAAAAAA+D8AAAAAAAD4PwAAAAAAAPg\\u002fAAAAAAAA8D8AAAAAAAAAQAAAAAAAAPg\\u002fAAAAAAAA+D8AAAAAAADwPwAAAAAAAARAAAAAAAAAAEAAAAAAAAAAQAAAAAAAAPA\\u002fAAAAAAAAAEAAAAAAAAD4PwAAAAAAAPg\\u002fAAAAAAAAAEAAAAAAAAAAQAAAAAAAAPg\\u002fAAAAAAAA+D8AAAAAAAD4PwAAAAAAAPA\\u002fAAAAAAAAAEAAAAAAAAAEQAAAAAAAAPA\\u002fAAAAAAAA+D8AAAAAAAAEQAAAAAAAAPA\\u002fAAAAAAAACEAAAAAAAADwPwAAAAAAAPA\\u002fAAAAAAAA8D8AAAAAAAAAQAAAAAAAAPg\\u002fAAAAAAAA+D8AAAAAAAAAQAAAAAAAAABAAAAAAAAABEAAAAAAAAAMQAAAAAAAAPg\\u002fAAAAAAAAAEAAAAAAAAD4PwAAAAAAAABAAAAAAAAAAEAAAAAAAAAEQAAAAAAAAPg\\u002fAAAAAAAAAEAAAAAAAAD4PwAAAAAAAARAAAAAAAAABEAAAAAAAAAMQAAAAAAAAARAAAAAAAAAAEAAAAAAAAAEQAAAAAAAAPg\\u002fAAAAAAAABEAAAAAAAAAAQAAAAAAAAARAAAAAAAAABEAAAAAAAAAEQAAAAAAAAPg\\u002fAAAAAAAABEAAAAAAAAAEQAAAAAAAAPg\\u002fAAAAAAAA8D8AAAAAAADwPwAAAAAAAABAAAAAAAAABEAAAAAAAADwPwAAAAAAAARAAAAAAAAA+D8AAAAAAAAAQAAAAAAAAAhAAAAAAAAA+D8AAAAAAAAEQAAAAAAAAPg\\u002fAAAAAAAA8D8AAAAAAAAEQAAAAAAAAPA\\u002fAAAAAAAABEAAAAAAAAAAQAAAAAAAAPg\\u002fAAAAAAAA+D8AAAAAAADwPwAAAAAAAAxAAAAAAAAA8D8AAAAAAADwPwAAAAAAAPA\\u002fAAAAAAAABEAAAAAAAAAAQAAAAAAAAPg\\u002fAAAAAAAA+D8AAAAAAAD4PwAAAAAAAARAAAAAAAAABEAAAAAAAADwPwAAAAAAAPg\\u002fAAAAAAAA8D8AAAAAAAAEQAAAAAAAAARAAAAAAAAABEAAAAAAAAAMQAAAAAAAAAhAAAAAAAAABEAAAAAAAAD4PwAAAAAAAPg\\u002fAAAAAAAA+D8AAAAAAADwPwAAAAAAAARAAAAAAAAADEAAAAAAAAAEQAAAAAAAAPg\\u002fAAAAAAAAAEAAAAAAAAAEQAAAAAAAAARAAAAAAAAA8D8AAAAAAADwPwAAAAAAAARAAAAAAAAA+D8AAAAAAAAEQAAAAAAAAPA\\u002fAAAAAAAABEAAAAAAAAAEQAAAAAAAAPg\\u002fAAAAAAAAEEAAAAAAAAD4PwAAAAAAAARAAAAAAAAAAEAAAAAAAAAAQAAAAAAAAPA\\u002fAAAAAAAA8D8AAAAAAAAEQAAAAAAAAPA\\u002fAAAAAAAAAEAAAAAAAAAEQAAAAAAAAARAAAAAAAAA+D8AAAAAAAAEQAAAAAAAAPg\\u002fAAAAAAAABEAAAAAAAAAMQAAAAAAAAARAAAAAAAAA+D8AAAAAAAAMQAAAAAAAAARAAAAAAAAA+D8AAAAAAAD4PwAAAAAAAPg\\u002fAAAAAAAA+D8AAAAAAAAEQAAAAAAAAARAAAAAAAAA8D8AAAAAAAD4PwAAAAAAAPg\\u002fAAAAAAAA8D8AAAAAAAAAQAAAAAAAAPA\\u002fAAAAAAAABEAAAAAAAAD4PwAAAAAAAPg\\u002fAAAAAAAA+D8AAAAAAAAIQAAAAAAAAARAAAAAAAAA8D8AAAAAAAAMQAAAAAAAAPg\\u002fAAAAAAAA+D8AAAAAAAAAQAAAAAAAAARAAAAAAAAAAEAAAAAAAAD4PwAAAAAAAABAAAAAAAAABEAAAAAAAADwPwAAAAAAAABAAAAAAAAA+D8AAAAAAAD4PwAAAAAAAARAAAAAAAAABEAAAAAAAAD4PwAAAAAAAPA\\u002fAAAAAAAABEAAAAAAAADwPwAAAAAAAPg\\u002fAAAAAAAABEAAAAAAAAAAQAAAAAAAAABAAAAAAAAABEAAAAAAAAAAQAAAAAAAAABAAAAAAAAA8D8AAAAAAAAEQAAAAAAAAARAAAAAAAAAEEAAAAAAAAAEQAAAAAAAAPA\\u002fAAAAAAAABEAAAAAAAAAAQAAAAAAAAPA\\u002fAAAAAAAAAEAAAAAAAAAAQAAAAAAAAPg\\u002fAAAAAAAA8D8AAAAAAAAEQAAAAAAAAPg\\u002fAAAAAAAA8D8AAAAAAAAEQAAAAAAAAABAAAAAAAAAAEAAAAAAAAAAQAAAAAAAAPg\\u002fAAAAAAAA+D8AAAAAAAAAQAAAAAAAAARAAAAAAAAA8D8AAAAAAAD4PwAAAAAAAPg\\u002fAAAAAAAABEAAAAAAAAD4PwAAAAAAAPg\\u002fAAAAAAAA8D8AAAAAAAD4PwAAAAAAAARAAAAAAAAA+D8AAAAAAAD4PwAAAAAAAPg\\u002fAAAAAAAABEAAAAAAAAD4PwAAAAAAAAhAAAAAAAAA8D8AAAAAAADwPwAAAAAAAARAAAAAAAAA+D8AAAAAAAAAQAAAAAAAAARAAAAAAAAAAEAAAAAAAAAAQAAAAAAAAPA\\u002fAAAAAAAA8D8AAAAAAAAAQAAAAAAAAPg\\u002fAAAAAAAA+D8AAAAAAAD4PwAAAAAAAPg\\u002fAAAAAAAA8D8AAAAAAAAEQAAAAAAAAABAAAAAAAAA8D8AAAAAAADwPwAAAAAAAPg\\u002fAAAAAAAABEAAAAAAAADwPwAAAAAAAPA\\u002fAAAAAAAA+D8AAAAAAAAAQAAAAAAAAPA\\u002fAAAAAAAA8D8AAAAAAADwPwAAAAAAAARAAAAAAAAABEAAAAAAAADwPwAAAAAAAPg\\u002fAAAAAAAABEAAAAAAAAD4PwAAAAAAAPg\\u002fAAAAAAAABEAAAAAAAAD4PwAAAAAAAAxAAAAAAAAACEAAAAAAAAD4PwAAAAAAAARAAAAAAAAAAEAAAAAAAADwPwAAAAAAAPg\\u002fAAAAAAAA+D8AAAAAAAD4PwAAAAAAAARAAAAAAAAA+D8AAAAAAAD4PwAAAAAAAPg\\u002fAAAAAAAAAEAAAAAAAADwPwAAAAAAAARAAAAAAAAA+D8AAAAAAAAAQAAAAAAAAABAAAAAAAAA+D8AAAAAAADwPwAAAAAAAPg\\u002fAAAAAAAAAEAAAAAAAADwPwAAAAAAAPA\\u002fAAAAAAAA+D8AAAAAAAAEQAAAAAAAAPA\\u002fAAAAAAAABEAAAAAAAAAAQAAAAAAAAPA\\u002fAAAAAAAA+D8AAAAAAAAMQAAAAAAAAPA\\u002fAAAAAAAA8D8AAAAAAAAEQAAAAAAAAPA\\u002fAAAAAAAACEAAAAAAAAAAQAAAAAAAAPA\\u002fAAAAAAAAAEAAAAAAAAAEQAAAAAAAAPA\\u002fAAAAAAAA8D8AAAAAAADwPwAAAAAAAABAAAAAAAAA+D8AAAAAAAAEQAAAAAAAAARAAAAAAAAAAEAAAAAAAAAEQAAAAAAAAPA\\u002fAAAAAAAA+D8AAAAAAAAAQAAAAAAAAARAAAAAAAAADEAAAAAAAADwPwAAAAAAAARAAAAAAAAA8D8AAAAAAAAAQAAAAAAAAABAAAAAAAAABEAAAAAAAADwPwAAAAAAAPg\\u002fAAAAAAAAAEAAAAAAAAAEQAAAAAAAAPg\\u002fAAAAAAAA8D8AAAAAAAD4PwAAAAAAAARAAAAAAAAABEAAAAAAAADwPwAAAAAAAPA\\u002fAAAAAAAA8D8AAAAAAAAAQAAAAAAAAARAAAAAAAAABEAAAAAAAAD4PwAAAAAAAARAAAAAAAAA8D8AAAAAAAD4PwAAAAAAAPA\\u002fAAAAAAAAAEAAAAAAAAD4PwAAAAAAAARAAAAAAAAA8D8AAAAAAAAEQAAAAAAAAABAAAAAAAAA8D8AAAAAAAAEQAAAAAAAAPA\\u002fAAAAAAAABEAAAAAAAAD4PwAAAAAAAARAAAAAAAAABEAAAAAAAAAEQAAAAAAAAPA\\u002fAAAAAAAABEAAAAAAAAD4PwAAAAAAAARAAAAAAAAA+D8AAAAAAADwPwAAAAAAAPg\\u002fAAAAAAAA8D8AAAAAAAAEQAAAAAAAAAhAAAAAAAAABEAAAAAAAAAEQAAAAAAAAABAAAAAAAAAAEAAAAAAAAD4PwAAAAAAAARAAAAAAAAA+D8AAAAAAADwPwAAAAAAAARAAAAAAAAAAEAAAAAAAAAAQAAAAAAAAPA\\u002fAAAAAAAAAEAAAAAAAADwPwAAAAAAAPA\\u002fAAAAAAAA8D8AAAAAAADwPwAAAAAAAABAAAAAAAAA8D8AAAAAAAD4PwAAAAAAAABAAAAAAAAA8D8AAAAAAADwPwAAAAAAAAxAAAAAAAAABEAAAAAAAAAEQAAAAAAAAPA\\u002fAAAAAAAAAEAAAAAAAAD4PwAAAAAAAPA\\u002fAAAAAAAABEAAAAAAAAD4PwAAAAAAAABAAAAAAAAABEAAAAAAAAAEQAAAAAAAAAhAAAAAAAAA8D8AAAAAAAAEQAAAAAAAAPg\\u002fAAAAAAAAAEAAAAAAAAD4PwAAAAAAAPg\\u002fAAAAAAAABEAAAAAAAAAEQAAAAAAAAARAAAAAAAAABEAAAAAAAAAIQAAAAAAAAARAAAAAAAAA8D8AAAAAAAD4PwAAAAAAAAxAAAAAAAAABEAAAAAAAAAEQAAAAAAAAPg\\u002fAAAAAAAABEAAAAAAAAAAQAAAAAAAAPA\\u002fAAAAAAAA+D8AAAAAAAD4PwAAAAAAAABAAAAAAAAABEAAAAAAAAAEQAAAAAAAAARAAAAAAAAABEAAAAAAAAAEQAAAAAAAAARAAAAAAAAABEAAAAAAAAD4PwAAAAAAAARAAAAAAAAA+D8AAAAAAAD4PwAAAAAAAPg\\u002fAAAAAAAABEAAAAAAAAAEQAAAAAAAAABAAAAAAAAAAEAAAAAAAAAIQAAAAAAAAARAAAAAAAAABEAAAAAAAADwPwAAAAAAAAhAAAAAAAAA+D8AAAAAAADwPwAAAAAAAARAAAAAAAAAAEAAAAAAAAAEQAAAAAAAAPg\\u002fAAAAAAAACEAAAAAAAAD4PwAAAAAAAABAAAAAAAAAAEAAAAAAAAAAQAAAAAAAAPg\\u002fAAAAAAAA8D8AAAAAAAAAQAAAAAAAAPg\\u002fAAAAAAAA+D8AAAAAAAAEQAAAAAAAAPA\\u002fAAAAAAAABEAAAAAAAADwPwAAAAAAAARAAAAAAAAA+D8AAAAAAADwPwAAAAAAAAhAAAAAAAAABEAAAAAAAADwPwAAAAAAAARAAAAAAAAA8D8AAAAAAADwPwAAAAAAAARAAAAAAAAA8D8AAAAAAAD4PwAAAAAAAABAAAAAAAAA+D8AAAAAAAAIQAAAAAAAAPg\\u002fAAAAAAAA+D8AAAAAAAAEQAAAAAAAAPA\\u002fAAAAAAAABEAAAAAAAAD4PwAAAAAAAPA\\u002fAAAAAAAA+D8AAAAAAAAEQAAAAAAAAABAAAAAAAAACEAAAAAAAAD4PwAAAAAAAPg\\u002fAAAAAAAA8D8AAAAAAADwPwAAAAAAAABAAAAAAAAA+D8AAAAAAAD4PwAAAAAAAPA\\u002fAAAAAAAABEAAAAAAAAAEQAAAAAAAAPA\\u002fAAAAAAAA+D8AAAAAAAD4PwAAAAAAAABAAAAAAAAABEAAAAAAAAAEQAAAAAAAAARAAAAAAAAACEAAAAAAAAD4PwAAAAAAAARAAAAAAAAA+D8AAAAAAAAEQAAAAAAAAARAAAAAAAAABEAAAAAAAAAEQAAAAAAAAAhAAAAAAAAA8D8AAAAAAAAAQAAAAAAAAABAAAAAAAAACEAAAAAAAAAIQAAAAAAAAPg\\u002fAAAAAAAA+D8AAAAAAAD4PwAAAAAAAPg\\u002fAAAAAAAA8D8AAAAAAAD4PwAAAAAAAPg\\u002fAAAAAAAA+D8AAAAAAAD4PwAAAAAAAPg\\u002fAAAAAAAAAEAAAAAAAAAIQAAAAAAAAARAAAAAAAAACEAAAAAAAAAEQAAAAAAAAARAAAAAAAAAAEAAAAAAAAD4PwAAAAAAAARAAAAAAAAA+D8AAAAAAAAIQAAAAAAAAPg\\u002fAAAAAAAAAEAAAAAAAADwPwAAAAAAAARAAAAAAAAA+D8AAAAAAAD4PwAAAAAAAARAAAAAAAAADEAAAAAAAAAEQAAAAAAAAPA\\u002fAAAAAAAACEAAAAAAAAD4PwAAAAAAAPg\\u002fAAAAAAAA+D8AAAAAAAAEQAAAAAAAAPg\\u002fAAAAAAAA+D8AAAAAAAAAQAAAAAAAAPA\\u002fAAAAAAAA+D8AAAAAAADwPwAAAAAAAPA\\u002fAAAAAAAA+D8AAAAAAAAEQAAAAAAAAABAAAAAAAAABEAAAAAAAAD4PwAAAAAAAPA\\u002fAAAAAAAA+D8AAAAAAADwPwAAAAAAAARAAAAAAAAAAEAAAAAAAAAEQAAAAAAAAARAAAAAAAAA8D8AAAAAAAAMQAAAAAAAAARAAAAAAAAA8D8AAAAAAAAEQAAAAAAAAAAAAAAAAAAABEAAAAAAAADwPwAAAAAAAPg\\u002fAAAAAAAA+D8AAAAAAAAAQAAAAAAAAARAAAAAAAAABEAAAAAAAAD4PwAAAAAAAARAAAAAAAAA+D8AAAAAAAAEQAAAAAAAAPA\\u002fAAAAAAAA+D8AAAAAAAAIQAAAAAAAAARAAAAAAAAA+D8AAAAAAAD4PwAAAAAAAARAAAAAAAAA+D8AAAAAAAAEQAAAAAAAAPg\\u002fAAAAAAAA+D8AAAAAAAAEQAAAAAAAAARAAAAAAAAABEAAAAAAAAD4PwAAAAAAAABAAAAAAAAA+D8AAAAAAAAEQAAAAAAAAABAAAAAAAAA+D8AAAAAAAD4PwAAAAAAAARAAAAAAAAABEAAAAAAAAAEQAAAAAAAAPg\\u002fAAAAAAAA+D8AAAAAAAAAQAAAAAAAAARAAAAAAAAA+D8AAAAAAAD4PwAAAAAAAPg\\u002fAAAAAAAABEAAAAAAAAD4PwAAAAAAAPg\\u002fAAAAAAAAAEAAAAAAAAAEQAAAAAAAAPg\\u002fAAAAAAAABEAAAAAAAAD4PwAAAAAAAPg\\u002fAAAAAAAA+D8AAAAAAAD4PwAAAAAAAPg\\u002fAAAAAAAABEAAAAAAAAAEQAAAAAAAAPg\\u002fAAAAAAAA+D8AAAAAAAAIQAAAAAAAAPg\\u002fAAAAAAAABEAAAAAAAAD4PwAAAAAAAARAAAAAAAAA8D8AAAAAAAAEQAAAAAAAAARAAAAAAAAABEAAAAAAAAAEQAAAAAAAAPg\\u002fAAAAAAAAAEAAAAAAAAAEQAAAAAAAAPg\\u002fAAAAAAAAAEAAAAAAAAD4PwAAAAAAAARAAAAAAAAABEAAAAAAAAAEQAAAAAAAAARAAAAAAAAA+D8AAAAAAAD4PwAAAAAAAARAAAAAAAAAAEAAAAAAAAAEQAAAAAAAAPg\\u002fAAAAAAAA+D8AAAAAAAAEQAAAAAAAAARAAAAAAAAA+D8AAAAAAAAAQAAAAAAAAPg\\u002fAAAAAAAA+D8AAAAAAAD4PwAAAAAAAAhAAAAAAAAACEAAAAAAAAAEQAAAAAAAAARAAAAAAAAABEAAAAAAAAD4PwAAAAAAAARAAAAAAAAA8D8AAAAAAAAAQAAAAAAAAARAAAAAAAAA+D8AAAAAAAAIQAAAAAAAAABAAAAAAAAABEAAAAAAAAAEQAAAAAAAAARAAAAAAAAABEAAAAAAAAD4PwAAAAAAAPA\\u002fAAAAAAAABEAAAAAAAAAEQAAAAAAAAARAAAAAAAAAAEAAAAAAAAAEQAAAAAAAAPA\\u002fAAAAAAAABEAAAAAAAAAEQAAAAAAAAARAAAAAAAAA8D8AAAAAAAAEQAAAAAAAAARAAAAAAAAABEAAAAAAAAAEQAAAAAAAAABAAAAAAAAAAEAAAAAAAAAQQAAAAAAAAAhAAAAAAAAA+D8AAAAAAADwPwAAAAAAAABAAAAAAAAA8D8AAAAAAAD4PwAAAAAAAPA\\u002fAAAAAAAA+D8AAAAAAAAAQAAAAAAAAARAAAAAAAAA8D8AAAAAAADwPwAAAAAAAARAAAAAAAAA+D8AAAAAAAAEQAAAAAAAAARAAAAAAAAAAEAAAAAAAAAEQAAAAAAAAARAAAAAAAAADEAAAAAAAADwPwAAAAAAAARAAAAAAAAAAEAAAAAAAAD4PwAAAAAAAABAAAAAAAAAAEAAAAAAAAD4PwAAAAAAAARAAAAAAAAABEAAAAAAAAD4PwAAAAAAAARAAAAAAAAA+D8AAAAAAADwPwAAAAAAAARAAAAAAAAA+D8AAAAAAADwPwAAAAAAAARAAAAAAAAA+D8AAAAAAAAAQAAAAAAAAPA\\u002fAAAAAAAA+D8AAAAAAAAEQAAAAAAAAPA\\u002fAAAAAAAA+D8AAAAAAADwPwAAAAAAAABAAAAAAAAA+D8AAAAAAAAAQAAAAAAAAABAAAAAAAAABEAAAAAAAAAEQAAAAAAAAARAAAAAAAAA8D8AAAAAAAD4PwAAAAAAAARAAAAAAAAABEAAAAAAAAAEQAAAAAAAAABAAAAAAAAABEAAAAAAAAD4PwAAAAAAAPg\\u002fAAAAAAAA8D8AAAAAAAD4PwAAAAAAABBAAAAAAAAAAEAAAAAAAAAAQAAAAAAAAARAAAAAAAAAAEAAAAAAAAAEQAAAAAAAAPg\\u002fAAAAAAAA+D8AAAAAAADwPwAAAAAAAPA\\u002fAAAAAAAA+D8AAAAAAAD4PwAAAAAAAPg\\u002fAAAAAAAAAEAAAAAAAAD4PwAAAAAAAARAAAAAAAAAAEAAAAAAAAD4PwAAAAAAAARAAAAAAAAABEAAAAAAAADwPwAAAAAAAARAAAAAAAAABEAAAAAAAAD4PwAAAAAAAPg\\u002fAAAAAAAABEAAAAAAAAAEQAAAAAAAAPg\\u002fAAAAAAAA8D8AAAAAAAAAQAAAAAAAAPg\\u002fAAAAAAAABEAAAAAAAADwPwAAAAAAAPg\\u002fAAAAAAAABEAAAAAAAAAEQAAAAAAAAARAAAAAAAAAAEAAAAAAAAAEQAAAAAAAAARAAAAAAAAA8D8AAAAAAADwPwAAAAAAAPA\\u002f\"},\"xaxis\":\"x\",\"yaxis\":\"y\",\"type\":\"histogram\"}],                        {\"template\":{\"data\":{\"pie\":[{\"automargin\":true,\"type\":\"pie\"}]},\"layout\":{\"xaxis\":{\"showgrid\":true,\"title\":{\"standoff\":15}},\"yaxis\":{\"showgrid\":true,\"title\":{\"standoff\":15}}}},\"xaxis\":{\"anchor\":\"y\",\"domain\":[0.0,1.0],\"title\":{\"text\":\"baños\"}},\"yaxis\":{\"anchor\":\"x\",\"domain\":[0.0,1.0],\"title\":{\"text\":\"count\"}},\"legend\":{\"tracegroupgap\":0},\"title\":{\"text\":\"Baños\"},\"barmode\":\"relative\"},                        {\"responsive\": true}                    ).then(function(){\n",
              "                            \n",
              "var gd = document.getElementById('53fa96a2-1c55-4c5f-a624-c5857ba54346');\n",
              "var x = new MutationObserver(function (mutations, observer) {{\n",
              "        var display = window.getComputedStyle(gd).display;\n",
              "        if (!display || display === 'none') {{\n",
              "            console.log([gd, 'removed!']);\n",
              "            Plotly.purge(gd);\n",
              "            observer.disconnect();\n",
              "        }}\n",
              "}});\n",
              "\n",
              "// Listen for the removal of the full notebook cells\n",
              "var notebookContainer = gd.closest('#notebook-container');\n",
              "if (notebookContainer) {{\n",
              "    x.observe(notebookContainer, {childList: true});\n",
              "}}\n",
              "\n",
              "// Listen for the clearing of the current output cell\n",
              "var outputEl = gd.closest('.output');\n",
              "if (outputEl) {{\n",
              "    x.observe(outputEl, {childList: true});\n",
              "}}\n",
              "\n",
              "                        })                };            </script>        </div>\n",
              "</body>\n",
              "</html>"
            ]
          },
          "metadata": {}
        }
      ]
    },
    {
      "cell_type": "code",
      "source": [
        "px.histogram(datos,\n",
        "             x = datos.habitaciones,\n",
        "             title=\"Habitaciones\",\n",
        "             color_discrete_sequence = [\"brown\"], # color\n",
        "             template=\"gridon\")"
      ],
      "metadata": {
        "colab": {
          "base_uri": "https://localhost:8080/",
          "height": 542
        },
        "id": "eOLdsnr8A_Kh",
        "outputId": "12af3974-d853-4575-cc43-718468e5150d"
      },
      "execution_count": 26,
      "outputs": [
        {
          "output_type": "display_data",
          "data": {
            "text/html": [
              "<html>\n",
              "<head><meta charset=\"utf-8\" /></head>\n",
              "<body>\n",
              "    <div>            <script src=\"https://cdnjs.cloudflare.com/ajax/libs/mathjax/2.7.5/MathJax.js?config=TeX-AMS-MML_SVG\"></script><script type=\"text/javascript\">if (window.MathJax && window.MathJax.Hub && window.MathJax.Hub.Config) {window.MathJax.Hub.Config({SVG: {font: \"STIX-Web\"}});}</script>                <script type=\"text/javascript\">window.PlotlyConfig = {MathJaxConfig: 'local'};</script>\n",
              "        <script charset=\"utf-8\" src=\"https://cdn.plot.ly/plotly-3.0.1.min.js\"></script>                <div id=\"f68d3169-524d-4a35-b613-a8e4857f4a93\" class=\"plotly-graph-div\" style=\"height:525px; width:100%;\"></div>            <script type=\"text/javascript\">                window.PLOTLYENV=window.PLOTLYENV || {};                                if (document.getElementById(\"f68d3169-524d-4a35-b613-a8e4857f4a93\")) {                    Plotly.newPlot(                        \"f68d3169-524d-4a35-b613-a8e4857f4a93\",                        [{\"bingroup\":\"x\",\"hovertemplate\":\"habitaciones=%{x}\\u003cbr\\u003ecount=%{y}\\u003cextra\\u003e\\u003c\\u002fextra\\u003e\",\"legendgroup\":\"\",\"marker\":{\"color\":\"brown\",\"pattern\":{\"shape\":\"\"}},\"name\":\"\",\"orientation\":\"v\",\"showlegend\":false,\"x\":{\"dtype\":\"i1\",\"bdata\":\"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\"},\"xaxis\":\"x\",\"yaxis\":\"y\",\"type\":\"histogram\"}],                        {\"template\":{\"data\":{\"pie\":[{\"automargin\":true,\"type\":\"pie\"}]},\"layout\":{\"xaxis\":{\"showgrid\":true,\"title\":{\"standoff\":15}},\"yaxis\":{\"showgrid\":true,\"title\":{\"standoff\":15}}}},\"xaxis\":{\"anchor\":\"y\",\"domain\":[0.0,1.0],\"title\":{\"text\":\"habitaciones\"}},\"yaxis\":{\"anchor\":\"x\",\"domain\":[0.0,1.0],\"title\":{\"text\":\"count\"}},\"legend\":{\"tracegroupgap\":0},\"title\":{\"text\":\"Habitaciones\"},\"barmode\":\"relative\"},                        {\"responsive\": true}                    ).then(function(){\n",
              "                            \n",
              "var gd = document.getElementById('f68d3169-524d-4a35-b613-a8e4857f4a93');\n",
              "var x = new MutationObserver(function (mutations, observer) {{\n",
              "        var display = window.getComputedStyle(gd).display;\n",
              "        if (!display || display === 'none') {{\n",
              "            console.log([gd, 'removed!']);\n",
              "            Plotly.purge(gd);\n",
              "            observer.disconnect();\n",
              "        }}\n",
              "}});\n",
              "\n",
              "// Listen for the removal of the full notebook cells\n",
              "var notebookContainer = gd.closest('#notebook-container');\n",
              "if (notebookContainer) {{\n",
              "    x.observe(notebookContainer, {childList: true});\n",
              "}}\n",
              "\n",
              "// Listen for the clearing of the current output cell\n",
              "var outputEl = gd.closest('.output');\n",
              "if (outputEl) {{\n",
              "    x.observe(outputEl, {childList: true});\n",
              "}}\n",
              "\n",
              "                        })                };            </script>        </div>\n",
              "</body>\n",
              "</html>"
            ]
          },
          "metadata": {}
        }
      ]
    },
    {
      "cell_type": "markdown",
      "metadata": {
        "id": "6Dxjk3P9sMEv"
      },
      "source": [
        "***La variable chimenea, aunque es de tipo numérico, apenas toma unos pocos valores y la gran mayoría de observaciones pertenecen a solo dos de ellos. En casos como este, suele ser conveniente tratar la variable como cualitativa.***"
      ]
    },
    {
      "cell_type": "code",
      "metadata": {
        "colab": {
          "base_uri": "https://localhost:8080/",
          "height": 335
        },
        "id": "T39ArT0BsWiY",
        "outputId": "bf642907-8b9c-4f9d-a694-032440bf3297"
      },
      "source": [
        "datos.chimenea.value_counts()"
      ],
      "execution_count": 27,
      "outputs": [
        {
          "output_type": "execute_result",
          "data": {
            "text/plain": [
              "chimenea\n",
              "3    822\n",
              "4    487\n",
              "2    348\n",
              "5     53\n",
              "6      8\n",
              "1      7\n",
              "7      3\n",
              "Name: count, dtype: int64"
            ],
            "text/html": [
              "<div>\n",
              "<style scoped>\n",
              "    .dataframe tbody tr th:only-of-type {\n",
              "        vertical-align: middle;\n",
              "    }\n",
              "\n",
              "    .dataframe tbody tr th {\n",
              "        vertical-align: top;\n",
              "    }\n",
              "\n",
              "    .dataframe thead th {\n",
              "        text-align: right;\n",
              "    }\n",
              "</style>\n",
              "<table border=\"1\" class=\"dataframe\">\n",
              "  <thead>\n",
              "    <tr style=\"text-align: right;\">\n",
              "      <th></th>\n",
              "      <th>count</th>\n",
              "    </tr>\n",
              "    <tr>\n",
              "      <th>chimenea</th>\n",
              "      <th></th>\n",
              "    </tr>\n",
              "  </thead>\n",
              "  <tbody>\n",
              "    <tr>\n",
              "      <th>3</th>\n",
              "      <td>822</td>\n",
              "    </tr>\n",
              "    <tr>\n",
              "      <th>4</th>\n",
              "      <td>487</td>\n",
              "    </tr>\n",
              "    <tr>\n",
              "      <th>2</th>\n",
              "      <td>348</td>\n",
              "    </tr>\n",
              "    <tr>\n",
              "      <th>5</th>\n",
              "      <td>53</td>\n",
              "    </tr>\n",
              "    <tr>\n",
              "      <th>6</th>\n",
              "      <td>8</td>\n",
              "    </tr>\n",
              "    <tr>\n",
              "      <th>1</th>\n",
              "      <td>7</td>\n",
              "    </tr>\n",
              "    <tr>\n",
              "      <th>7</th>\n",
              "      <td>3</td>\n",
              "    </tr>\n",
              "  </tbody>\n",
              "</table>\n",
              "</div><br><label><b>dtype:</b> int64</label>"
            ]
          },
          "metadata": {},
          "execution_count": 27
        }
      ]
    },
    {
      "cell_type": "code",
      "metadata": {
        "id": "PVl_eEFpsbLR"
      },
      "source": [
        "datos.chimenea = datos.chimenea.astype(\"str\")"
      ],
      "execution_count": 28,
      "outputs": []
    },
    {
      "cell_type": "markdown",
      "metadata": {
        "id": "I6jhEpAVsrIH"
      },
      "source": [
        "***Como el objetivo del estudio es predecir el precio de las viviendas, el análisis de cada variable se hace también en relación a la variable objetivo precio. Analizando los datos de esta forma, se pueden empezar a extraer ideas sobre qué variables están más relacionadas con el precio y de qué forma.***"
      ]
    },
    {
      "cell_type": "markdown",
      "metadata": {
        "id": "HtkEPxHwszZz"
      },
      "source": [
        "##**Correlación de las variables numéricas**"
      ]
    },
    {
      "cell_type": "code",
      "metadata": {
        "id": "N9NjRb5KtI57"
      },
      "source": [
        "corr_matrix = datos.select_dtypes(include=['float64', 'int']).corr(method='pearson')"
      ],
      "execution_count": 29,
      "outputs": []
    },
    {
      "cell_type": "code",
      "metadata": {
        "colab": {
          "base_uri": "https://localhost:8080/",
          "height": 796
        },
        "id": "axN1vA0ctYka",
        "outputId": "67de88a9-401c-43f5-acfd-d6cfc4482c53"
      },
      "source": [
        "plt.figure(figsize=(9,8))\n",
        "sns.heatmap(corr_matrix,\n",
        "            annot=True,\n",
        "            linewidths=.5)\n",
        "\n",
        "plt.show()"
      ],
      "execution_count": 30,
      "outputs": [
        {
          "output_type": "display_data",
          "data": {
            "text/plain": [
              "<Figure size 900x800 with 2 Axes>"
            ],
            "image/png": "[encoded data removed]"
          },
          "metadata": {}
        }
      ]
    },
    {
      "cell_type": "markdown",
      "metadata": {
        "id": "aXesNN0itrB7"
      },
      "source": [
        "##**Variables cualitativas** - Análisis descriptivo"
      ]
    },
    {
      "cell_type": "code",
      "metadata": {
        "colab": {
          "base_uri": "https://localhost:8080/",
          "height": 174
        },
        "id": "GPGLcJewt_Cl",
        "outputId": "e7de2d37-b3df-404b-e92c-a36191a78961"
      },
      "source": [
        "datos.select_dtypes(include=[\"object\"]).describe()"
      ],
      "execution_count": 31,
      "outputs": [
        {
          "output_type": "execute_result",
          "data": {
            "text/plain": [
              "       chimenea calefaccion consumo_calefacion            desague vistas_lago  \\\n",
              "count      1728        1728               1728               1728        1728   \n",
              "unique        7           3                  3                  3           2   \n",
              "top           3     hot air                gas  public/commercial          No   \n",
              "freq        822        1121               1197               1213        1713   \n",
              "\n",
              "       nueva_construccion aire_acondicionado  \n",
              "count                1728               1728  \n",
              "unique                  2                  2  \n",
              "top                    No                 No  \n",
              "freq                 1647               1093  "
            ],
            "text/html": [
              "\n",
              "  <div id=\"df-fce48bc3-a562-4842-b651-2e62a2db59a5\" class=\"colab-df-container\">\n",
              "    <div>\n",
              "<style scoped>\n",
              "    .dataframe tbody tr th:only-of-type {\n",
              "        vertical-align: middle;\n",
              "    }\n",
              "\n",
              "    .dataframe tbody tr th {\n",
              "        vertical-align: top;\n",
              "    }\n",
              "\n",
              "    .dataframe thead th {\n",
              "        text-align: right;\n",
              "    }\n",
              "</style>\n",
              "<table border=\"1\" class=\"dataframe\">\n",
              "  <thead>\n",
              "    <tr style=\"text-align: right;\">\n",
              "      <th></th>\n",
              "      <th>chimenea</th>\n",
              "      <th>calefaccion</th>\n",
              "      <th>consumo_calefacion</th>\n",
              "      <th>desague</th>\n",
              "      <th>vistas_lago</th>\n",
              "      <th>nueva_construccion</th>\n",
              "      <th>aire_acondicionado</th>\n",
              "    </tr>\n",
              "  </thead>\n",
              "  <tbody>\n",
              "    <tr>\n",
              "      <th>count</th>\n",
              "      <td>1728</td>\n",
              "      <td>1728</td>\n",
              "      <td>1728</td>\n",
              "      <td>1728</td>\n",
              "      <td>1728</td>\n",
              "      <td>1728</td>\n",
              "      <td>1728</td>\n",
              "    </tr>\n",
              "    <tr>\n",
              "      <th>unique</th>\n",
              "      <td>7</td>\n",
              "      <td>3</td>\n",
              "      <td>3</td>\n",
              "      <td>3</td>\n",
              "      <td>2</td>\n",
              "      <td>2</td>\n",
              "      <td>2</td>\n",
              "    </tr>\n",
              "    <tr>\n",
              "      <th>top</th>\n",
              "      <td>3</td>\n",
              "      <td>hot air</td>\n",
              "      <td>gas</td>\n",
              "      <td>public/commercial</td>\n",
              "      <td>No</td>\n",
              "      <td>No</td>\n",
              "      <td>No</td>\n",
              "    </tr>\n",
              "    <tr>\n",
              "      <th>freq</th>\n",
              "      <td>822</td>\n",
              "      <td>1121</td>\n",
              "      <td>1197</td>\n",
              "      <td>1213</td>\n",
              "      <td>1713</td>\n",
              "      <td>1647</td>\n",
              "      <td>1093</td>\n",
              "    </tr>\n",
              "  </tbody>\n",
              "</table>\n",
              "</div>\n",
              "    <div class=\"colab-df-buttons\">\n",
              "\n",
              "  <div class=\"colab-df-container\">\n",
              "    <button class=\"colab-df-convert\" onclick=\"convertToInteractive('df-fce48bc3-a562-4842-b651-2e62a2db59a5')\"\n",
              "            title=\"Convert this dataframe to an interactive table.\"\n",
              "            style=\"display:none;\">\n",
              "\n",
              "  <svg xmlns=\"http://www.w3.org/2000/svg\" height=\"24px\" viewBox=\"0 -960 960 960\">\n",
              "    <path d=\"M120-120v-720h720v720H120Zm60-500h600v-160H180v160Zm220 220h160v-160H400v160Zm0 220h160v-160H400v160ZM180-400h160v-160H180v160Zm440 0h160v-160H620v160ZM180-180h160v-160H180v160Zm440 0h160v-160H620v160Z\"/>\n",
              "  </svg>\n",
              "    </button>\n",
              "\n",
              "  <style>\n",
              "    .colab-df-container {\n",
              "      display:flex;\n",
              "      gap: 12px;\n",
              "    }\n",
              "\n",
              "    .colab-df-convert {\n",
              "      background-color: #E8F0FE;\n",
              "      border: none;\n",
              "      border-radius: 50%;\n",
              "      cursor: pointer;\n",
              "      display: none;\n",
              "      fill: #1967D2;\n",
              "      height: 32px;\n",
              "      padding: 0 0 0 0;\n",
              "      width: 32px;\n",
              "    }\n",
              "\n",
              "    .colab-df-convert:hover {\n",
              "      background-color: #E2EBFA;\n",
              "      box-shadow: 0px 1px 2px rgba(60, 64, 67, 0.3), 0px 1px 3px 1px rgba(60, 64, 67, 0.15);\n",
              "      fill: #174EA6;\n",
              "    }\n",
              "\n",
              "    .colab-df-buttons div {\n",
              "      margin-bottom: 4px;\n",
              "    }\n",
              "\n",
              "    [theme=dark] .colab-df-convert {\n",
              "      background-color: #3B4455;\n",
              "      fill: #D2E3FC;\n",
              "    }\n",
              "\n",
              "    [theme=dark] .colab-df-convert:hover {\n",
              "      background-color: #434B5C;\n",
              "      box-shadow: 0px 1px 3px 1px rgba(0, 0, 0, 0.15);\n",
              "      filter: drop-shadow(0px 1px 2px rgba(0, 0, 0, 0.3));\n",
              "      fill: #FFFFFF;\n",
              "    }\n",
              "  </style>\n",
              "\n",
              "    <script>\n",
              "      const buttonEl =\n",
              "        document.querySelector('#df-fce48bc3-a562-4842-b651-2e62a2db59a5 button.colab-df-convert');\n",
              "      buttonEl.style.display =\n",
              "        google.colab.kernel.accessAllowed ? 'block' : 'none';\n",
              "\n",
              "      async function convertToInteractive(key) {\n",
              "        const element = document.querySelector('#df-fce48bc3-a562-4842-b651-2e62a2db59a5');\n",
              "        const dataTable =\n",
              "          await google.colab.kernel.invokeFunction('convertToInteractive',\n",
              "                                                    [key], {});\n",
              "        if (!dataTable) return;\n",
              "\n",
              "        const docLinkHtml = 'Like what you see? Visit the ' +\n",
              "          '<a target=\"_blank\" href=https://colab.research.google.com/notebooks/data_table.ipynb>data table notebook</a>'\n",
              "          + ' to learn more about interactive tables.';\n",
              "        element.innerHTML = '';\n",
              "        dataTable['output_type'] = 'display_data';\n",
              "        await google.colab.output.renderOutput(dataTable, element);\n",
              "        const docLink = document.createElement('div');\n",
              "        docLink.innerHTML = docLinkHtml;\n",
              "        element.appendChild(docLink);\n",
              "      }\n",
              "    </script>\n",
              "  </div>\n",
              "\n",
              "\n",
              "<div id=\"df-8317d73c-7216-4960-b89e-11370bc787c8\">\n",
              "  <button class=\"colab-df-quickchart\" onclick=\"quickchart('df-8317d73c-7216-4960-b89e-11370bc787c8')\"\n",
              "            title=\"Suggest charts\"\n",
              "            style=\"display:none;\">\n",
              "\n",
              "<svg xmlns=\"http://www.w3.org/2000/svg\" height=\"24px\"viewBox=\"0 0 24 24\"\n",
              "     width=\"24px\">\n",
              "    <g>\n",
              "        <path d=\"M19 3H5c-1.1 0-2 .9-2 2v14c0 1.1.9 2 2 2h14c1.1 0 2-.9 2-2V5c0-1.1-.9-2-2-2zM9 17H7v-7h2v7zm4 0h-2V7h2v10zm4 0h-2v-4h2v4z\"/>\n",
              "    </g>\n",
              "</svg>\n",
              "  </button>\n",
              "\n",
              "<style>\n",
              "  .colab-df-quickchart {\n",
              "      --bg-color: #E8F0FE;\n",
              "      --fill-color: #1967D2;\n",
              "      --hover-bg-color: #E2EBFA;\n",
              "      --hover-fill-color: #174EA6;\n",
              "      --disabled-fill-color: #AAA;\n",
              "      --disabled-bg-color: #DDD;\n",
              "  }\n",
              "\n",
              "  [theme=dark] .colab-df-quickchart {\n",
              "      --bg-color: #3B4455;\n",
              "      --fill-color: #D2E3FC;\n",
              "      --hover-bg-color: #434B5C;\n",
              "      --hover-fill-color: #FFFFFF;\n",
              "      --disabled-bg-color: #3B4455;\n",
              "      --disabled-fill-color: #666;\n",
              "  }\n",
              "\n",
              "  .colab-df-quickchart {\n",
              "    background-color: var(--bg-color);\n",
              "    border: none;\n",
              "    border-radius: 50%;\n",
              "    cursor: pointer;\n",
              "    display: none;\n",
              "    fill: var(--fill-color);\n",
              "    height: 32px;\n",
              "    padding: 0;\n",
              "    width: 32px;\n",
              "  }\n",
              "\n",
              "  .colab-df-quickchart:hover {\n",
              "    background-color: var(--hover-bg-color);\n",
              "    box-shadow: 0 1px 2px rgba(60, 64, 67, 0.3), 0 1px 3px 1px rgba(60, 64, 67, 0.15);\n",
              "    fill: var(--button-hover-fill-color);\n",
              "  }\n",
              "\n",
              "  .colab-df-quickchart-complete:disabled,\n",
              "  .colab-df-quickchart-complete:disabled:hover {\n",
              "    background-color: var(--disabled-bg-color);\n",
              "    fill: var(--disabled-fill-color);\n",
              "    box-shadow: none;\n",
              "  }\n",
              "\n",
              "  .colab-df-spinner {\n",
              "    border: 2px solid var(--fill-color);\n",
              "    border-color: transparent;\n",
              "    border-bottom-color: var(--fill-color);\n",
              "    animation:\n",
              "      spin 1s steps(1) infinite;\n",
              "  }\n",
              "\n",
              "  @keyframes spin {\n",
              "    0% {\n",
              "      border-color: transparent;\n",
              "      border-bottom-color: var(--fill-color);\n",
              "      border-left-color: var(--fill-color);\n",
              "    }\n",
              "    20% {\n",
              "      border-color: transparent;\n",
              "      border-left-color: var(--fill-color);\n",
              "      border-top-color: var(--fill-color);\n",
              "    }\n",
              "    30% {\n",
              "      border-color: transparent;\n",
              "      border-left-color: var(--fill-color);\n",
              "      border-top-color: var(--fill-color);\n",
              "      border-right-color: var(--fill-color);\n",
              "    }\n",
              "    40% {\n",
              "      border-color: transparent;\n",
              "      border-right-color: var(--fill-color);\n",
              "      border-top-color: var(--fill-color);\n",
              "    }\n",
              "    60% {\n",
              "      border-color: transparent;\n",
              "      border-right-color: var(--fill-color);\n",
              "    }\n",
              "    80% {\n",
              "      border-color: transparent;\n",
              "      border-right-color: var(--fill-color);\n",
              "      border-bottom-color: var(--fill-color);\n",
              "    }\n",
              "    90% {\n",
              "      border-color: transparent;\n",
              "      border-bottom-color: var(--fill-color);\n",
              "    }\n",
              "  }\n",
              "</style>\n",
              "\n",
              "  <script>\n",
              "    async function quickchart(key) {\n",
              "      const quickchartButtonEl =\n",
              "        document.querySelector('#' + key + ' button');\n",
              "      quickchartButtonEl.disabled = true;  // To prevent multiple clicks.\n",
              "      quickchartButtonEl.classList.add('colab-df-spinner');\n",
              "      try {\n",
              "        const charts = await google.colab.kernel.invokeFunction(\n",
              "            'suggestCharts', [key], {});\n",
              "      } catch (error) {\n",
              "        console.error('Error during call to suggestCharts:', error);\n",
              "      }\n",
              "      quickchartButtonEl.classList.remove('colab-df-spinner');\n",
              "      quickchartButtonEl.classList.add('colab-df-quickchart-complete');\n",
              "    }\n",
              "    (() => {\n",
              "      let quickchartButtonEl =\n",
              "        document.querySelector('#df-8317d73c-7216-4960-b89e-11370bc787c8 button');\n",
              "      quickchartButtonEl.style.display =\n",
              "        google.colab.kernel.accessAllowed ? 'block' : 'none';\n",
              "    })();\n",
              "  </script>\n",
              "</div>\n",
              "\n",
              "    </div>\n",
              "  </div>\n"
            ],
            "application/vnd.google.colaboratory.intrinsic+json": {
              "type": "dataframe",
              "summary": "{\n  \"name\": \"datos\",\n  \"rows\": 4,\n  \"fields\": [\n    {\n      \"column\": \"chimenea\",\n      \"properties\": {\n        \"dtype\": \"string\",\n        \"num_unique_values\": 4,\n        \"samples\": [\n          7,\n          \"822\",\n          \"1728\"\n        ],\n        \"semantic_type\": \"\",\n        \"description\": \"\"\n      }\n    },\n    {\n      \"column\": \"calefaccion\",\n      \"properties\": {\n        \"dtype\": \"string\",\n        \"num_unique_values\": 4,\n        \"samples\": [\n          3,\n          \"1121\",\n          \"1728\"\n        ],\n        \"semantic_type\": \"\",\n        \"description\": \"\"\n      }\n    },\n    {\n      \"column\": \"consumo_calefacion\",\n      \"properties\": {\n        \"dtype\": \"string\",\n        \"num_unique_values\": 4,\n        \"samples\": [\n          3,\n          \"1197\",\n          \"1728\"\n        ],\n        \"semantic_type\": \"\",\n        \"description\": \"\"\n      }\n    },\n    {\n      \"column\": \"desague\",\n      \"properties\": {\n        \"dtype\": \"string\",\n        \"num_unique_values\": 4,\n        \"samples\": [\n          3,\n          \"1213\",\n          \"1728\"\n        ],\n        \"semantic_type\": \"\",\n        \"description\": \"\"\n      }\n    },\n    {\n      \"column\": \"vistas_lago\",\n      \"properties\": {\n        \"dtype\": \"string\",\n        \"num_unique_values\": 4,\n        \"samples\": [\n          2,\n          \"1713\",\n          \"1728\"\n        ],\n        \"semantic_type\": \"\",\n        \"description\": \"\"\n      }\n    },\n    {\n      \"column\": \"nueva_construccion\",\n      \"properties\": {\n        \"dtype\": \"string\",\n        \"num_unique_values\": 4,\n        \"samples\": [\n          2,\n          \"1647\",\n          \"1728\"\n        ],\n        \"semantic_type\": \"\",\n        \"description\": \"\"\n      }\n    },\n    {\n      \"column\": \"aire_acondicionado\",\n      \"properties\": {\n        \"dtype\": \"string\",\n        \"num_unique_values\": 4,\n        \"samples\": [\n          2,\n          \"1093\",\n          \"1728\"\n        ],\n        \"semantic_type\": \"\",\n        \"description\": \"\"\n      }\n    }\n  ]\n}"
            }
          },
          "metadata": {},
          "execution_count": 31
        }
      ]
    },
    {
      "cell_type": "markdown",
      "metadata": {
        "id": "yqdyd5GjuQ8D"
      },
      "source": [
        "**Si alguno de los niveles de una variable cualitativa tiene muy pocas observaciones en comparación a los otros niveles, puede ocurrir que, durante la validación cruzada, algunas particiones no contengan ninguna observación de dicha clase (varianza cero), lo que puede dar lugar a errores.**\n",
        "\n",
        "**En estos casos, suele ser conveniente:**\n",
        "- **Eliminar las observaciones del grupo minoritario si es una variable multiclase.**\n",
        "- **Eliminar la variable si solo tiene dos niveles.**\n",
        "- **Agrupar los niveles minoritarios en un único grupo.**\n",
        "- **Asegurar que, en la creación de las particiones, todos los grupos estén representados en cada una de ellas.**\n",
        "\n",
        "**Para este caso, hay que tener precaución con la variable chimenea.**"
      ]
    },
    {
      "cell_type": "code",
      "source": [
        "fig = px.histogram(datos,\n",
        "                   x = datos.chimenea,\n",
        "                   title=\"Chimenea\",\n",
        "                   color_discrete_sequence = [\"brown\"], # color\n",
        "                   template=\"gridon\")\n",
        "\n",
        "fig.update_layout(bargap=0.2)"
      ],
      "metadata": {
        "colab": {
          "base_uri": "https://localhost:8080/",
          "height": 542
        },
        "id": "0EzjabCpBjOI",
        "outputId": "27ed1baa-4c1e-45f6-bd9d-d6010b0a0188"
      },
      "execution_count": 32,
      "outputs": [
        {
          "output_type": "display_data",
          "data": {
            "text/html": [
              "<html>\n",
              "<head><meta charset=\"utf-8\" /></head>\n",
              "<body>\n",
              "    <div>            <script src=\"https://cdnjs.cloudflare.com/ajax/libs/mathjax/2.7.5/MathJax.js?config=TeX-AMS-MML_SVG\"></script><script type=\"text/javascript\">if (window.MathJax && window.MathJax.Hub && window.MathJax.Hub.Config) {window.MathJax.Hub.Config({SVG: {font: \"STIX-Web\"}});}</script>                <script type=\"text/javascript\">window.PlotlyConfig = {MathJaxConfig: 'local'};</script>\n",
              "        <script charset=\"utf-8\" src=\"https://cdn.plot.ly/plotly-3.0.1.min.js\"></script>                <div id=\"c39c8d5f-c905-42be-bb30-119302a81420\" class=\"plotly-graph-div\" style=\"height:525px; width:100%;\"></div>            <script type=\"text/javascript\">                window.PLOTLYENV=window.PLOTLYENV || {};                                if (document.getElementById(\"c39c8d5f-c905-42be-bb30-119302a81420\")) {                    Plotly.newPlot(                        \"c39c8d5f-c905-42be-bb30-119302a81420\",                        [{\"bingroup\":\"x\",\"hovertemplate\":\"chimenea=%{x}\\u003cbr\\u003ecount=%{y}\\u003cextra\\u003e\\u003c\\u002fextra\\u003e\",\"legendgroup\":\"\",\"marker\":{\"color\":\"brown\",\"pattern\":{\"shape\":\"\"}},\"name\":\"\",\"orientation\":\"v\",\"showlegend\":false,\"x\":[\"2\",\"3\",\"4\",\"3\",\"2\",\"4\",\"4\",\"4\",\"3\",\"3\",\"7\",\"3\",\"2\",\"3\",\"3\",\"3\",\"3\",\"4\",\"2\",\"3\",\"3\",\"3\",\"3\",\"3\",\"3\",\"4\",\"3\",\"4\",\"4\",\"3\",\"2\",\"3\",\"3\",\"3\",\"4\",\"4\",\"4\",\"4\",\"4\",\"4\",\"3\",\"4\",\"3\",\"3\",\"4\",\"4\",\"2\",\"3\",\"4\",\"2\",\"3\",\"2\",\"3\",\"3\",\"3\",\"3\",\"2\",\"3\",\"3\",\"3\",\"2\",\"3\",\"3\",\"4\",\"2\",\"4\",\"3\",\"4\",\"3\",\"3\",\"4\",\"3\",\"4\",\"3\",\"4\",\"4\",\"3\",\"3\",\"4\",\"3\",\"2\",\"3\",\"3\",\"3\",\"3\",\"2\",\"4\",\"3\",\"3\",\"4\",\"3\",\"3\",\"3\",\"3\",\"3\",\"3\",\"3\",\"3\",\"2\",\"3\",\"3\",\"3\",\"2\",\"3\",\"3\",\"3\",\"3\",\"4\",\"2\",\"3\",\"3\",\"3\",\"3\",\"3\",\"4\",\"3\",\"3\",\"3\",\"3\",\"3\",\"3\",\"2\",\"3\",\"4\",\"3\",\"4\",\"2\",\"3\",\"3\",\"2\",\"2\",\"4\",\"4\",\"4\",\"2\",\"5\",\"3\",\"3\",\"3\",\"3\",\"4\",\"3\",\"4\",\"2\",\"3\",\"3\",\"3\",\"2\",\"2\",\"2\",\"4\",\"2\",\"3\",\"2\",\"3\",\"3\",\"2\",\"3\",\"2\",\"3\",\"3\",\"4\",\"3\",\"4\",\"6\",\"3\",\"4\",\"2\",\"2\",\"4\",\"4\",\"3\",\"4\",\"2\",\"4\",\"4\",\"2\",\"4\",\"4\",\"2\",\"3\",\"3\",\"3\",\"5\",\"3\",\"3\",\"4\",\"3\",\"3\",\"3\",\"3\",\"3\",\"4\",\"3\",\"2\",\"2\",\"3\",\"3\",\"2\",\"2\",\"4\",\"3\",\"2\",\"3\",\"3\",\"4\",\"3\",\"2\",\"3\",\"4\",\"5\",\"2\",\"2\",\"4\",\"2\",\"2\",\"2\",\"3\",\"3\",\"3\",\"3\",\"4\",\"1\",\"3\",\"3\",\"2\",\"2\",\"2\",\"2\",\"3\",\"3\",\"3\",\"2\",\"3\",\"3\",\"2\",\"2\",\"2\",\"3\",\"2\",\"2\",\"3\",\"4\",\"2\",\"2\",\"2\",\"4\",\"3\",\"4\",\"3\",\"4\",\"3\",\"3\",\"2\",\"2\",\"2\",\"3\",\"2\",\"4\",\"2\",\"2\",\"3\",\"4\",\"2\",\"2\",\"2\",\"3\",\"3\",\"4\",\"4\",\"3\",\"3\",\"3\",\"3\",\"4\",\"2\",\"2\",\"4\",\"3\",\"2\",\"4\",\"3\",\"3\",\"3\",\"3\",\"4\",\"5\",\"4\",\"4\",\"4\",\"4\",\"3\",\"2\",\"3\",\"4\",\"3\",\"2\",\"5\",\"4\",\"4\",\"3\",\"2\",\"5\",\"3\",\"2\",\"2\",\"3\",\"4\",\"2\",\"3\",\"3\",\"4\",\"3\",\"4\",\"4\",\"3\",\"3\",\"4\",\"3\",\"4\",\"3\",\"5\",\"4\",\"3\",\"4\",\"3\",\"4\",\"2\",\"3\",\"3\",\"4\",\"4\",\"4\",\"4\",\"5\",\"3\",\"4\",\"5\",\"2\",\"3\",\"3\",\"3\",\"3\",\"3\",\"3\",\"5\",\"3\",\"3\",\"4\",\"4\",\"3\",\"4\",\"4\",\"4\",\"1\",\"4\",\"5\",\"3\",\"3\",\"4\",\"3\",\"3\",\"4\",\"4\",\"5\",\"4\",\"4\",\"3\",\"4\",\"4\",\"3\",\"4\",\"4\",\"2\",\"2\",\"3\",\"2\",\"3\",\"4\",\"3\",\"3\",\"4\",\"3\",\"3\",\"2\",\"4\",\"4\",\"4\",\"3\",\"5\",\"3\",\"3\",\"4\",\"3\",\"4\",\"4\",\"5\",\"3\",\"4\",\"2\",\"3\",\"4\",\"2\",\"3\",\"4\",\"4\",\"4\",\"4\",\"3\",\"4\",\"3\",\"4\",\"4\",\"3\",\"5\",\"4\",\"4\",\"4\",\"7\",\"3\",\"4\",\"3\",\"2\",\"3\",\"4\",\"4\",\"2\",\"3\",\"3\",\"3\",\"3\",\"3\",\"3\",\"4\",\"5\",\"3\",\"2\",\"7\",\"3\",\"3\",\"4\",\"2\",\"2\",\"3\",\"3\",\"4\",\"2\",\"3\",\"3\",\"1\",\"2\",\"4\",\"3\",\"3\",\"3\",\"3\",\"3\",\"3\",\"2\",\"2\",\"3\",\"4\",\"3\",\"4\",\"6\",\"2\",\"3\",\"4\",\"3\",\"3\",\"3\",\"4\",\"3\",\"3\",\"2\",\"2\",\"4\",\"3\",\"3\",\"2\",\"3\",\"3\",\"3\",\"1\",\"2\",\"4\",\"4\",\"4\",\"3\",\"4\",\"4\",\"4\",\"5\",\"4\",\"3\",\"2\",\"4\",\"3\",\"4\",\"3\",\"4\",\"4\",\"4\",\"4\",\"4\",\"4\",\"3\",\"3\",\"3\",\"3\",\"4\",\"3\",\"2\",\"3\",\"3\",\"4\",\"3\",\"4\",\"3\",\"3\",\"3\",\"4\",\"3\",\"4\",\"4\",\"2\",\"4\",\"3\",\"3\",\"3\",\"4\",\"2\",\"3\",\"4\",\"4\",\"3\",\"3\",\"3\",\"4\",\"3\",\"2\",\"2\",\"3\",\"3\",\"3\",\"3\",\"4\",\"3\",\"2\",\"3\",\"2\",\"3\",\"4\",\"4\",\"3\",\"3\",\"3\",\"3\",\"3\",\"3\",\"4\",\"2\",\"3\",\"3\",\"3\",\"3\",\"6\",\"4\",\"3\",\"2\",\"5\",\"3\",\"3\",\"4\",\"3\",\"4\",\"3\",\"2\",\"4\",\"3\",\"3\",\"3\",\"3\",\"3\",\"4\",\"3\",\"3\",\"3\",\"2\",\"3\",\"5\",\"3\",\"2\",\"3\",\"3\",\"3\",\"4\",\"4\",\"4\",\"3\",\"3\",\"3\",\"3\",\"3\",\"3\",\"3\",\"4\",\"3\",\"2\",\"2\",\"2\",\"3\",\"3\",\"4\",\"3\",\"4\",\"3\",\"3\",\"3\",\"3\",\"3\",\"3\",\"2\",\"3\",\"3\",\"3\",\"3\",\"3\",\"3\",\"2\",\"3\",\"4\",\"3\",\"3\",\"2\",\"3\",\"3\",\"4\",\"2\",\"3\",\"3\",\"3\",\"3\",\"3\",\"3\",\"4\",\"3\",\"2\",\"3\",\"4\",\"3\",\"3\",\"3\",\"3\",\"3\",\"3\",\"2\",\"4\",\"3\",\"2\",\"3\",\"4\",\"3\",\"3\",\"3\",\"3\",\"3\",\"3\",\"3\",\"3\",\"2\",\"6\",\"3\",\"2\",\"3\",\"2\",\"3\",\"4\",\"3\",\"4\",\"4\",\"4\",\"3\",\"3\",\"4\",\"4\",\"3\",\"3\",\"4\",\"2\",\"2\",\"3\",\"2\",\"3\",\"3\",\"3\",\"3\",\"3\",\"3\",\"3\",\"4\",\"3\",\"2\",\"3\",\"3\",\"3\",\"3\",\"3\",\"3\",\"3\",\"3\",\"4\",\"4\",\"4\",\"3\",\"3\",\"2\",\"2\",\"3\",\"3\",\"2\",\"2\",\"4\",\"3\",\"3\",\"4\",\"1\",\"4\",\"4\",\"4\",\"3\",\"6\",\"2\",\"3\",\"3\",\"2\",\"3\",\"4\",\"3\",\"3\",\"3\",\"3\",\"2\",\"4\",\"3\",\"2\",\"3\",\"3\",\"3\",\"3\",\"3\",\"4\",\"3\",\"3\",\"2\",\"2\",\"5\",\"3\",\"3\",\"3\",\"3\",\"5\",\"3\",\"3\",\"3\",\"3\",\"2\",\"3\",\"3\",\"3\",\"3\",\"3\",\"2\",\"4\",\"3\",\"2\",\"3\",\"4\",\"2\",\"4\",\"4\",\"2\",\"3\",\"3\",\"3\",\"4\",\"4\",\"4\",\"3\",\"3\",\"2\",\"2\",\"4\",\"4\",\"2\",\"4\",\"4\",\"4\",\"3\",\"3\",\"4\",\"4\",\"4\",\"2\",\"3\",\"2\",\"3\",\"4\",\"2\",\"4\",\"4\",\"3\",\"2\",\"3\",\"4\",\"2\",\"3\",\"4\",\"3\",\"3\",\"3\",\"4\",\"4\",\"3\",\"3\",\"5\",\"4\",\"3\",\"3\",\"3\",\"2\",\"3\",\"4\",\"3\",\"4\",\"5\",\"2\",\"4\",\"2\",\"2\",\"4\",\"2\",\"2\",\"3\",\"3\",\"3\",\"3\",\"3\",\"2\",\"5\",\"2\",\"3\",\"5\",\"2\",\"2\",\"2\",\"2\",\"2\",\"2\",\"2\",\"3\",\"2\",\"4\",\"3\",\"3\",\"3\",\"4\",\"2\",\"3\",\"2\",\"4\",\"2\",\"2\",\"2\",\"2\",\"2\",\"3\",\"3\",\"2\",\"3\",\"3\",\"2\",\"3\",\"4\",\"3\",\"4\",\"3\",\"2\",\"2\",\"2\",\"2\",\"2\",\"2\",\"3\",\"2\",\"3\",\"3\",\"5\",\"2\",\"2\",\"2\",\"2\",\"2\",\"2\",\"2\",\"3\",\"2\",\"4\",\"3\",\"3\",\"3\",\"4\",\"2\",\"3\",\"2\",\"4\",\"2\",\"2\",\"2\",\"2\",\"2\",\"3\",\"3\",\"2\",\"3\",\"3\",\"2\",\"3\",\"4\",\"3\",\"4\",\"3\",\"2\",\"2\",\"2\",\"4\",\"4\",\"3\",\"3\",\"4\",\"4\",\"2\",\"3\",\"4\",\"3\",\"3\",\"3\",\"3\",\"2\",\"3\",\"5\",\"4\",\"4\",\"4\",\"4\",\"4\",\"2\",\"4\",\"4\",\"5\",\"4\",\"3\",\"3\",\"4\",\"4\",\"3\",\"2\",\"3\",\"3\",\"4\",\"4\",\"3\",\"3\",\"4\",\"4\",\"3\",\"3\",\"3\",\"2\",\"4\",\"5\",\"4\",\"3\",\"2\",\"4\",\"2\",\"4\",\"2\",\"2\",\"2\",\"5\",\"4\",\"4\",\"3\",\"3\",\"4\",\"4\",\"2\",\"4\",\"3\",\"4\",\"4\",\"4\",\"5\",\"3\",\"4\",\"5\",\"2\",\"3\",\"2\",\"3\",\"5\",\"4\",\"2\",\"3\",\"4\",\"3\",\"3\",\"3\",\"3\",\"4\",\"4\",\"4\",\"4\",\"3\",\"3\",\"3\",\"3\",\"4\",\"3\",\"2\",\"3\",\"1\",\"4\",\"3\",\"3\",\"5\",\"3\",\"3\",\"3\",\"3\",\"3\",\"4\",\"3\",\"3\",\"3\",\"4\",\"3\",\"4\",\"4\",\"2\",\"4\",\"3\",\"2\",\"3\",\"2\",\"4\",\"3\",\"3\",\"4\",\"3\",\"4\",\"2\",\"5\",\"4\",\"2\",\"4\",\"3\",\"3\",\"3\",\"4\",\"2\",\"3\",\"4\",\"3\",\"2\",\"3\",\"3\",\"2\",\"3\",\"2\",\"3\",\"3\",\"3\",\"3\",\"2\",\"2\",\"3\",\"4\",\"3\",\"3\",\"4\",\"3\",\"4\",\"3\",\"4\",\"5\",\"3\",\"4\",\"4\",\"2\",\"3\",\"3\",\"3\",\"3\",\"4\",\"2\",\"3\",\"4\",\"3\",\"2\",\"3\",\"3\",\"4\",\"3\",\"3\",\"3\",\"3\",\"3\",\"4\",\"3\",\"3\",\"3\",\"3\",\"4\",\"2\",\"2\",\"2\",\"4\",\"3\",\"3\",\"3\",\"3\",\"4\",\"3\",\"3\",\"4\",\"3\",\"3\",\"3\",\"2\",\"3\",\"2\",\"3\",\"2\",\"2\",\"2\",\"4\",\"2\",\"4\",\"3\",\"4\",\"4\",\"3\",\"3\",\"4\",\"3\",\"1\",\"2\",\"3\",\"3\",\"3\",\"4\",\"3\",\"3\",\"3\",\"4\",\"4\",\"3\",\"4\",\"3\",\"3\",\"4\",\"3\",\"3\",\"2\",\"2\",\"3\",\"4\",\"3\",\"4\",\"3\",\"3\",\"3\",\"3\",\"3\",\"2\",\"3\",\"3\",\"4\",\"4\",\"3\",\"3\",\"2\",\"2\",\"3\",\"3\",\"3\",\"4\",\"2\",\"2\",\"5\",\"4\",\"4\",\"2\",\"3\",\"4\",\"3\",\"3\",\"3\",\"4\",\"2\",\"2\",\"3\",\"4\",\"4\",\"3\",\"4\",\"3\",\"3\",\"3\",\"5\",\"4\",\"3\",\"4\",\"3\",\"2\",\"3\",\"2\",\"3\",\"4\",\"3\",\"4\",\"3\",\"3\",\"3\",\"3\",\"4\",\"4\",\"2\",\"3\",\"3\",\"2\",\"4\",\"3\",\"4\",\"2\",\"2\",\"3\",\"3\",\"3\",\"3\",\"3\",\"3\",\"2\",\"5\",\"5\",\"3\",\"2\",\"3\",\"4\",\"3\",\"4\",\"3\",\"3\",\"3\",\"4\",\"3\",\"3\",\"2\",\"2\",\"3\",\"3\",\"3\",\"2\",\"3\",\"3\",\"2\",\"4\",\"3\",\"3\",\"4\",\"2\",\"4\",\"3\",\"2\",\"2\",\"3\",\"3\",\"2\",\"2\",\"3\",\"2\",\"3\",\"3\",\"3\",\"3\",\"3\",\"3\",\"4\",\"3\",\"4\",\"4\",\"2\",\"3\",\"4\",\"3\",\"3\",\"4\",\"4\",\"3\",\"3\",\"4\",\"2\",\"3\",\"3\",\"3\",\"4\",\"3\",\"4\",\"2\",\"4\",\"3\",\"2\",\"2\",\"5\",\"2\",\"4\",\"2\",\"4\",\"4\",\"3\",\"2\",\"2\",\"3\",\"4\",\"3\",\"4\",\"4\",\"4\",\"4\",\"5\",\"3\",\"3\",\"4\",\"3\",\"2\",\"4\",\"2\",\"3\",\"3\",\"4\",\"4\",\"3\",\"3\",\"4\",\"3\",\"2\",\"4\",\"2\",\"4\",\"3\",\"4\",\"3\",\"3\",\"2\",\"2\",\"2\",\"2\",\"3\",\"2\",\"3\",\"3\",\"3\",\"4\",\"3\",\"3\",\"2\",\"2\",\"4\",\"4\",\"2\",\"4\",\"3\",\"2\",\"4\",\"2\",\"3\",\"4\",\"3\",\"4\",\"3\",\"3\",\"4\",\"2\",\"4\",\"3\",\"3\",\"3\",\"3\",\"2\",\"4\",\"2\",\"3\",\"3\",\"3\",\"3\",\"3\",\"4\",\"2\",\"3\",\"4\",\"2\",\"3\",\"3\",\"3\",\"4\",\"4\",\"3\",\"4\",\"2\",\"3\",\"2\",\"4\",\"3\",\"4\",\"3\",\"3\",\"3\",\"3\",\"3\",\"4\",\"4\",\"3\",\"3\",\"3\",\"2\",\"2\",\"3\",\"2\",\"2\",\"2\",\"3\",\"3\",\"4\",\"4\",\"4\",\"4\",\"4\",\"3\",\"2\",\"4\",\"2\",\"4\",\"2\",\"3\",\"2\",\"5\",\"2\",\"2\",\"3\",\"4\",\"3\",\"2\",\"4\",\"3\",\"3\",\"3\",\"4\",\"2\",\"3\",\"3\",\"2\",\"3\",\"3\",\"2\",\"4\",\"3\",\"3\",\"3\",\"4\",\"3\",\"3\",\"3\",\"4\",\"3\",\"3\",\"3\",\"3\",\"6\",\"4\",\"3\",\"3\",\"3\",\"4\",\"2\",\"3\",\"4\",\"2\",\"4\",\"4\",\"3\",\"4\",\"3\",\"4\",\"3\",\"2\",\"4\",\"4\",\"3\",\"2\",\"4\",\"3\",\"5\",\"2\",\"3\",\"4\",\"4\",\"4\",\"3\",\"2\",\"3\",\"4\",\"4\",\"4\",\"3\",\"4\",\"4\",\"4\",\"2\",\"3\",\"4\",\"3\",\"4\",\"4\",\"3\",\"3\",\"3\",\"3\",\"4\",\"4\",\"4\",\"4\",\"4\",\"3\",\"2\",\"2\",\"2\",\"5\",\"4\",\"2\",\"3\",\"4\",\"3\",\"4\",\"2\",\"4\",\"3\",\"5\",\"4\",\"4\",\"4\",\"4\",\"3\",\"3\",\"2\",\"3\",\"3\",\"4\",\"3\",\"4\",\"4\",\"3\",\"3\",\"3\",\"3\",\"4\",\"3\",\"2\",\"4\",\"4\",\"2\",\"3\",\"4\",\"3\",\"4\",\"4\",\"5\",\"4\",\"4\",\"3\",\"4\",\"4\",\"3\",\"3\",\"4\",\"2\",\"3\",\"4\",\"4\",\"4\",\"4\",\"4\",\"3\",\"3\",\"4\",\"4\",\"5\",\"4\",\"5\",\"4\",\"4\",\"4\",\"4\",\"2\",\"3\",\"4\",\"2\",\"3\",\"2\",\"3\",\"4\",\"4\",\"2\",\"2\",\"3\",\"2\",\"3\",\"3\",\"3\",\"3\",\"4\",\"4\",\"3\",\"3\",\"3\",\"4\",\"2\",\"3\",\"3\",\"4\",\"5\",\"4\",\"2\",\"3\",\"3\",\"3\",\"3\",\"3\",\"2\",\"4\",\"3\",\"4\",\"3\",\"4\",\"3\",\"3\",\"3\",\"3\",\"3\",\"3\",\"3\",\"3\",\"3\",\"2\",\"3\",\"3\",\"2\",\"3\",\"3\",\"3\",\"3\",\"3\",\"4\",\"3\",\"3\",\"3\",\"4\",\"3\",\"3\",\"4\",\"2\",\"3\",\"3\",\"4\",\"6\",\"3\",\"3\",\"3\",\"3\",\"4\",\"2\",\"3\",\"3\",\"3\",\"4\",\"4\",\"4\",\"3\",\"2\",\"5\",\"3\",\"3\",\"4\",\"4\",\"6\",\"3\",\"5\",\"3\",\"4\",\"4\",\"3\",\"3\",\"3\",\"3\",\"2\",\"4\",\"2\",\"3\",\"3\",\"4\",\"4\",\"4\",\"5\",\"4\",\"2\",\"3\",\"3\"],\"xaxis\":\"x\",\"yaxis\":\"y\",\"type\":\"histogram\"}],                        {\"template\":{\"data\":{\"pie\":[{\"automargin\":true,\"type\":\"pie\"}]},\"layout\":{\"xaxis\":{\"showgrid\":true,\"title\":{\"standoff\":15}},\"yaxis\":{\"showgrid\":true,\"title\":{\"standoff\":15}}}},\"xaxis\":{\"anchor\":\"y\",\"domain\":[0.0,1.0],\"title\":{\"text\":\"chimenea\"}},\"yaxis\":{\"anchor\":\"x\",\"domain\":[0.0,1.0],\"title\":{\"text\":\"count\"}},\"legend\":{\"tracegroupgap\":0},\"title\":{\"text\":\"Chimenea\"},\"barmode\":\"relative\",\"bargap\":0.2},                        {\"responsive\": true}                    ).then(function(){\n",
              "                            \n",
              "var gd = document.getElementById('c39c8d5f-c905-42be-bb30-119302a81420');\n",
              "var x = new MutationObserver(function (mutations, observer) {{\n",
              "        var display = window.getComputedStyle(gd).display;\n",
              "        if (!display || display === 'none') {{\n",
              "            console.log([gd, 'removed!']);\n",
              "            Plotly.purge(gd);\n",
              "            observer.disconnect();\n",
              "        }}\n",
              "}});\n",
              "\n",
              "// Listen for the removal of the full notebook cells\n",
              "var notebookContainer = gd.closest('#notebook-container');\n",
              "if (notebookContainer) {{\n",
              "    x.observe(notebookContainer, {childList: true});\n",
              "}}\n",
              "\n",
              "// Listen for the clearing of the current output cell\n",
              "var outputEl = gd.closest('.output');\n",
              "if (outputEl) {{\n",
              "    x.observe(outputEl, {childList: true});\n",
              "}}\n",
              "\n",
              "                        })                };            </script>        </div>\n",
              "</body>\n",
              "</html>"
            ]
          },
          "metadata": {}
        }
      ]
    },
    {
      "cell_type": "code",
      "metadata": {
        "colab": {
          "base_uri": "https://localhost:8080/",
          "height": 542
        },
        "id": "HSJLHbAJ6y6I",
        "outputId": "b436e0e7-9f71-4a7a-b7a1-ab61778d3259"
      },
      "source": [
        "fig = px.histogram(datos,\n",
        "                   x = datos.calefaccion,\n",
        "                   title=\"Calefaccion\",\n",
        "                   template=\"gridon\")\n",
        "fig.show()"
      ],
      "execution_count": 33,
      "outputs": [
        {
          "output_type": "display_data",
          "data": {
            "text/html": [
              "<html>\n",
              "<head><meta charset=\"utf-8\" /></head>\n",
              "<body>\n",
              "    <div>            <script src=\"https://cdnjs.cloudflare.com/ajax/libs/mathjax/2.7.5/MathJax.js?config=TeX-AMS-MML_SVG\"></script><script type=\"text/javascript\">if (window.MathJax && window.MathJax.Hub && window.MathJax.Hub.Config) {window.MathJax.Hub.Config({SVG: {font: \"STIX-Web\"}});}</script>                <script type=\"text/javascript\">window.PlotlyConfig = {MathJaxConfig: 'local'};</script>\n",
              "        <script charset=\"utf-8\" src=\"https://cdn.plot.ly/plotly-3.0.1.min.js\"></script>                <div id=\"4b502f48-f2ee-43fa-9c72-440efa826803\" class=\"plotly-graph-div\" style=\"height:525px; width:100%;\"></div>            <script type=\"text/javascript\">                window.PLOTLYENV=window.PLOTLYENV || {};                                if (document.getElementById(\"4b502f48-f2ee-43fa-9c72-440efa826803\")) {                    Plotly.newPlot(                        \"4b502f48-f2ee-43fa-9c72-440efa826803\",                        [{\"bingroup\":\"x\",\"hovertemplate\":\"calefaccion=%{x}\\u003cbr\\u003ecount=%{y}\\u003cextra\\u003e\\u003c\\u002fextra\\u003e\",\"legendgroup\":\"\",\"marker\":{\"color\":\"#1F77B4\",\"pattern\":{\"shape\":\"\"}},\"name\":\"\",\"orientation\":\"v\",\"showlegend\":false,\"x\":[\"electric\",\"hot water\\u002fsteam\",\"hot water\\u002fsteam\",\"hot air\",\"hot air\",\"hot air\",\"hot water\\u002fsteam\",\"hot air\",\"electric\",\"hot air\",\"hot air\",\"hot air\",\"electric\",\"hot water\\u002fsteam\",\"hot air\",\"hot water\\u002fsteam\",\"hot air\",\"hot air\",\"hot water\\u002fsteam\",\"hot air\",\"electric\",\"electric\",\"hot air\",\"hot air\",\"electric\",\"hot air\",\"hot water\\u002fsteam\",\"hot air\",\"hot air\",\"hot air\",\"hot water\\u002fsteam\",\"hot air\",\"hot air\",\"hot air\",\"hot air\",\"hot air\",\"hot air\",\"hot air\",\"hot water\\u002fsteam\",\"hot air\",\"hot air\",\"hot air\",\"hot air\",\"hot air\",\"hot air\",\"hot air\",\"hot air\",\"hot water\\u002fsteam\",\"hot air\",\"hot air\",\"hot air\",\"hot air\",\"hot air\",\"hot air\",\"hot water\\u002fsteam\",\"hot water\\u002fsteam\",\"hot air\",\"hot water\\u002fsteam\",\"hot air\",\"electric\",\"hot air\",\"hot air\",\"hot air\",\"hot air\",\"electric\",\"hot air\",\"hot air\",\"hot air\",\"electric\",\"hot air\",\"hot air\",\"hot air\",\"hot air\",\"hot air\",\"hot air\",\"hot air\",\"hot air\",\"hot water\\u002fsteam\",\"hot air\",\"hot air\",\"hot air\",\"hot air\",\"hot air\",\"hot air\",\"hot air\",\"hot air\",\"hot air\",\"electric\",\"hot air\",\"electric\",\"electric\",\"electric\",\"hot air\",\"hot air\",\"hot air\",\"hot water\\u002fsteam\",\"hot air\",\"hot air\",\"electric\",\"hot air\",\"hot air\",\"hot air\",\"hot water\\u002fsteam\",\"hot air\",\"hot air\",\"hot water\\u002fsteam\",\"hot air\",\"hot water\\u002fsteam\",\"hot air\",\"hot water\\u002fsteam\",\"electric\",\"hot water\\u002fsteam\",\"hot air\",\"hot water\\u002fsteam\",\"hot air\",\"hot air\",\"hot air\",\"hot air\",\"hot air\",\"hot air\",\"hot air\",\"hot air\",\"hot air\",\"hot air\",\"hot air\",\"hot water\\u002fsteam\",\"hot air\",\"hot air\",\"hot water\\u002fsteam\",\"hot air\",\"hot air\",\"hot air\",\"hot air\",\"hot air\",\"hot air\",\"hot water\\u002fsteam\",\"hot air\",\"hot air\",\"hot air\",\"hot air\",\"hot water\\u002fsteam\",\"hot water\\u002fsteam\",\"hot air\",\"electric\",\"hot air\",\"electric\",\"hot air\",\"electric\",\"electric\",\"electric\",\"hot air\",\"electric\",\"hot air\",\"hot air\",\"hot air\",\"hot air\",\"hot air\",\"hot air\",\"hot air\",\"hot air\",\"hot water\\u002fsteam\",\"hot air\",\"hot air\",\"hot air\",\"hot air\",\"hot air\",\"hot air\",\"electric\",\"hot air\",\"hot air\",\"hot air\",\"hot air\",\"hot air\",\"hot air\",\"hot air\",\"hot air\",\"hot air\",\"hot air\",\"hot air\",\"electric\",\"hot air\",\"hot air\",\"hot air\",\"hot water\\u002fsteam\",\"hot air\",\"hot air\",\"hot air\",\"hot water\\u002fsteam\",\"hot air\",\"hot air\",\"hot water\\u002fsteam\",\"hot air\",\"hot air\",\"hot air\",\"hot air\",\"electric\",\"electric\",\"hot air\",\"hot air\",\"hot air\",\"hot air\",\"hot air\",\"electric\",\"electric\",\"hot air\",\"hot water\\u002fsteam\",\"hot water\\u002fsteam\",\"electric\",\"electric\",\"hot water\\u002fsteam\",\"electric\",\"electric\",\"hot air\",\"electric\",\"hot water\\u002fsteam\",\"electric\",\"electric\",\"hot air\",\"hot air\",\"hot air\",\"electric\",\"hot air\",\"electric\",\"electric\",\"electric\",\"electric\",\"electric\",\"hot air\",\"hot water\\u002fsteam\",\"hot water\\u002fsteam\",\"electric\",\"electric\",\"electric\",\"hot air\",\"electric\",\"hot air\",\"electric\",\"hot air\",\"hot air\",\"electric\",\"hot water\\u002fsteam\",\"hot air\",\"electric\",\"hot air\",\"electric\",\"hot air\",\"hot water\\u002fsteam\",\"hot air\",\"hot air\",\"electric\",\"hot air\",\"electric\",\"hot air\",\"electric\",\"electric\",\"electric\",\"hot air\",\"electric\",\"hot air\",\"electric\",\"hot air\",\"electric\",\"hot air\",\"electric\",\"electric\",\"electric\",\"electric\",\"hot water\\u002fsteam\",\"electric\",\"hot air\",\"electric\",\"electric\",\"electric\",\"hot water\\u002fsteam\",\"hot air\",\"hot air\",\"hot air\",\"hot water\\u002fsteam\",\"hot water\\u002fsteam\",\"hot air\",\"hot water\\u002fsteam\",\"hot air\",\"hot air\",\"hot air\",\"electric\",\"hot air\",\"hot air\",\"hot air\",\"hot air\",\"hot air\",\"hot air\",\"electric\",\"electric\",\"hot water\\u002fsteam\",\"hot air\",\"hot air\",\"hot air\",\"hot air\",\"hot air\",\"hot water\\u002fsteam\",\"hot water\\u002fsteam\",\"electric\",\"hot air\",\"hot air\",\"hot air\",\"hot air\",\"hot water\\u002fsteam\",\"hot air\",\"hot air\",\"hot air\",\"hot air\",\"hot air\",\"hot air\",\"hot air\",\"hot water\\u002fsteam\",\"hot air\",\"electric\",\"hot air\",\"hot air\",\"hot air\",\"hot air\",\"hot water\\u002fsteam\",\"hot air\",\"hot air\",\"hot air\",\"hot air\",\"electric\",\"electric\",\"hot air\",\"hot air\",\"hot water\\u002fsteam\",\"hot air\",\"hot water\\u002fsteam\",\"hot air\",\"hot water\\u002fsteam\",\"hot air\",\"hot air\",\"hot water\\u002fsteam\",\"electric\",\"electric\",\"electric\",\"hot air\",\"hot water\\u002fsteam\",\"hot air\",\"hot air\",\"hot air\",\"hot water\\u002fsteam\",\"hot water\\u002fsteam\",\"hot air\",\"hot air\",\"hot air\",\"hot water\\u002fsteam\",\"hot water\\u002fsteam\",\"electric\",\"hot air\",\"hot water\\u002fsteam\",\"hot water\\u002fsteam\",\"hot air\",\"hot air\",\"hot air\",\"hot air\",\"hot air\",\"hot air\",\"hot air\",\"hot air\",\"hot air\",\"hot air\",\"hot air\",\"hot water\\u002fsteam\",\"hot air\",\"hot water\\u002fsteam\",\"electric\",\"hot air\",\"hot air\",\"hot air\",\"hot air\",\"hot air\",\"hot air\",\"hot air\",\"electric\",\"hot air\",\"hot water\\u002fsteam\",\"hot air\",\"hot air\",\"hot water\\u002fsteam\",\"hot water\\u002fsteam\",\"hot air\",\"hot air\",\"hot air\",\"hot water\\u002fsteam\",\"hot air\",\"hot air\",\"electric\",\"hot air\",\"hot air\",\"hot air\",\"hot water\\u002fsteam\",\"hot air\",\"hot air\",\"hot air\",\"hot air\",\"hot water\\u002fsteam\",\"hot water\\u002fsteam\",\"electric\",\"hot air\",\"hot air\",\"hot water\\u002fsteam\",\"hot air\",\"hot air\",\"hot water\\u002fsteam\",\"hot air\",\"hot air\",\"hot water\\u002fsteam\",\"electric\",\"hot water\\u002fsteam\",\"hot water\\u002fsteam\",\"hot air\",\"hot air\",\"hot water\\u002fsteam\",\"hot air\",\"hot water\\u002fsteam\",\"hot air\",\"hot water\\u002fsteam\",\"electric\",\"hot air\",\"hot air\",\"hot water\\u002fsteam\",\"electric\",\"electric\",\"hot air\",\"electric\",\"hot air\",\"hot air\",\"hot air\",\"hot water\\u002fsteam\",\"hot air\",\"hot air\",\"hot water\\u002fsteam\",\"hot air\",\"hot air\",\"hot air\",\"hot water\\u002fsteam\",\"hot water\\u002fsteam\",\"hot air\",\"electric\",\"hot air\",\"electric\",\"hot air\",\"hot air\",\"hot air\",\"hot air\",\"hot air\",\"hot air\",\"hot air\",\"hot air\",\"hot air\",\"hot water\\u002fsteam\",\"hot water\\u002fsteam\",\"hot air\",\"hot water\\u002fsteam\",\"hot air\",\"hot water\\u002fsteam\",\"hot air\",\"hot air\",\"hot water\\u002fsteam\",\"hot air\",\"hot air\",\"hot air\",\"hot water\\u002fsteam\",\"hot air\",\"hot air\",\"hot air\",\"hot air\",\"hot air\",\"hot air\",\"hot air\",\"hot air\",\"hot air\",\"hot water\\u002fsteam\",\"hot air\",\"hot air\",\"electric\",\"hot water\\u002fsteam\",\"hot air\",\"electric\",\"hot air\",\"hot water\\u002fsteam\",\"hot air\",\"hot air\",\"hot air\",\"hot air\",\"hot water\\u002fsteam\",\"hot air\",\"hot air\",\"hot water\\u002fsteam\",\"hot air\",\"hot air\",\"hot air\",\"hot air\",\"electric\",\"hot air\",\"hot air\",\"hot air\",\"hot air\",\"hot air\",\"hot air\",\"hot air\",\"hot air\",\"hot air\",\"hot air\",\"hot air\",\"hot air\",\"hot air\",\"hot air\",\"hot air\",\"hot air\",\"hot water\\u002fsteam\",\"hot air\",\"hot air\",\"hot air\",\"electric\",\"hot air\",\"electric\",\"electric\",\"hot air\",\"hot air\",\"hot air\",\"hot air\",\"hot air\",\"hot air\",\"hot water\\u002fsteam\",\"hot air\",\"hot air\",\"hot air\",\"hot air\",\"hot air\",\"electric\",\"hot air\",\"hot air\",\"electric\",\"hot air\",\"hot air\",\"hot air\",\"hot air\",\"hot air\",\"hot water\\u002fsteam\",\"hot water\\u002fsteam\",\"hot air\",\"hot air\",\"hot air\",\"hot air\",\"electric\",\"hot air\",\"hot water\\u002fsteam\",\"hot water\\u002fsteam\",\"hot air\",\"hot air\",\"hot air\",\"hot air\",\"hot air\",\"hot water\\u002fsteam\",\"hot water\\u002fsteam\",\"hot air\",\"hot air\",\"hot air\",\"hot air\",\"hot water\\u002fsteam\",\"hot air\",\"hot air\",\"hot air\",\"hot air\",\"hot water\\u002fsteam\",\"hot air\",\"hot air\",\"hot water\\u002fsteam\",\"hot air\",\"hot water\\u002fsteam\",\"hot water\\u002fsteam\",\"hot air\",\"hot water\\u002fsteam\",\"hot air\",\"hot air\",\"hot air\",\"hot air\",\"hot air\",\"hot air\",\"hot air\",\"hot air\",\"hot air\",\"hot air\",\"hot air\",\"hot air\",\"hot air\",\"hot air\",\"hot air\",\"hot air\",\"hot air\",\"hot air\",\"hot air\",\"hot air\",\"hot water\\u002fsteam\",\"hot air\",\"hot air\",\"hot air\",\"hot air\",\"hot air\",\"hot air\",\"hot air\",\"hot air\",\"hot water\\u002fsteam\",\"hot air\",\"hot air\",\"electric\",\"hot air\",\"hot air\",\"hot air\",\"hot air\",\"hot air\",\"hot air\",\"hot air\",\"hot air\",\"hot air\",\"hot water\\u002fsteam\",\"hot air\",\"hot air\",\"electric\",\"hot air\",\"electric\",\"hot air\",\"hot air\",\"hot air\",\"hot air\",\"hot air\",\"hot air\",\"hot water\\u002fsteam\",\"hot air\",\"hot water\\u002fsteam\",\"hot air\",\"hot air\",\"hot air\",\"hot air\",\"electric\",\"hot air\",\"hot air\",\"hot air\",\"hot air\",\"hot air\",\"hot air\",\"hot air\",\"hot air\",\"hot air\",\"hot air\",\"hot air\",\"hot air\",\"hot air\",\"hot water\\u002fsteam\",\"hot air\",\"hot air\",\"hot air\",\"hot air\",\"hot air\",\"hot air\",\"hot air\",\"hot air\",\"hot water\\u002fsteam\",\"hot air\",\"hot water\\u002fsteam\",\"hot air\",\"hot water\\u002fsteam\",\"hot water\\u002fsteam\",\"hot air\",\"hot water\\u002fsteam\",\"hot air\",\"hot air\",\"hot air\",\"hot air\",\"hot air\",\"hot water\\u002fsteam\",\"hot air\",\"hot air\",\"hot air\",\"hot air\",\"hot water\\u002fsteam\",\"hot air\",\"hot air\",\"hot air\",\"hot water\\u002fsteam\",\"hot air\",\"hot air\",\"hot water\\u002fsteam\",\"hot air\",\"hot air\",\"hot air\",\"hot air\",\"hot air\",\"hot air\",\"hot air\",\"hot air\",\"hot air\",\"hot air\",\"hot water\\u002fsteam\",\"hot air\",\"hot air\",\"hot air\",\"hot air\",\"hot water\\u002fsteam\",\"hot air\",\"hot air\",\"hot air\",\"hot air\",\"hot air\",\"hot air\",\"hot air\",\"hot air\",\"hot air\",\"hot air\",\"hot water\\u002fsteam\",\"hot air\",\"hot air\",\"hot water\\u002fsteam\",\"hot air\",\"hot air\",\"hot air\",\"hot air\",\"hot air\",\"hot air\",\"hot air\",\"hot air\",\"hot air\",\"hot air\",\"hot air\",\"hot water\\u002fsteam\",\"hot air\",\"hot air\",\"hot air\",\"hot air\",\"hot air\",\"electric\",\"hot air\",\"hot water\\u002fsteam\",\"hot water\\u002fsteam\",\"electric\",\"electric\",\"hot water\\u002fsteam\",\"hot air\",\"hot air\",\"hot air\",\"hot air\",\"hot air\",\"hot air\",\"hot air\",\"hot air\",\"hot air\",\"hot air\",\"hot air\",\"hot air\",\"hot air\",\"hot air\",\"hot air\",\"hot air\",\"hot air\",\"hot air\",\"electric\",\"hot air\",\"hot air\",\"hot air\",\"hot air\",\"hot air\",\"hot air\",\"hot air\",\"hot air\",\"hot water\\u002fsteam\",\"hot air\",\"hot air\",\"hot air\",\"electric\",\"hot air\",\"hot water\\u002fsteam\",\"hot air\",\"hot air\",\"hot air\",\"hot air\",\"hot air\",\"hot air\",\"hot air\",\"hot air\",\"hot air\",\"electric\",\"hot water\\u002fsteam\",\"hot water\\u002fsteam\",\"hot water\\u002fsteam\",\"hot water\\u002fsteam\",\"hot water\\u002fsteam\",\"hot air\",\"hot air\",\"hot air\",\"hot air\",\"hot air\",\"hot air\",\"hot air\",\"hot air\",\"hot air\",\"hot air\",\"electric\",\"hot water\\u002fsteam\",\"hot air\",\"hot air\",\"hot air\",\"electric\",\"hot water\\u002fsteam\",\"hot air\",\"hot air\",\"hot air\",\"hot air\",\"hot air\",\"hot air\",\"hot air\",\"hot air\",\"hot air\",\"hot air\",\"hot air\",\"hot air\",\"hot air\",\"hot air\",\"hot water\\u002fsteam\",\"hot air\",\"hot air\",\"electric\",\"hot air\",\"hot air\",\"hot air\",\"hot water\\u002fsteam\",\"hot air\",\"hot air\",\"hot air\",\"hot water\\u002fsteam\",\"hot air\",\"hot air\",\"hot air\",\"hot air\",\"hot air\",\"hot air\",\"hot air\",\"hot air\",\"hot water\\u002fsteam\",\"hot air\",\"hot air\",\"hot air\",\"electric\",\"hot water\\u002fsteam\",\"electric\",\"electric\",\"electric\",\"electric\",\"electric\",\"electric\",\"electric\",\"hot air\",\"electric\",\"electric\",\"electric\",\"electric\",\"electric\",\"electric\",\"hot air\",\"electric\",\"hot water\\u002fsteam\",\"electric\",\"hot air\",\"electric\",\"electric\",\"electric\",\"electric\",\"electric\",\"electric\",\"electric\",\"electric\",\"hot air\",\"electric\",\"electric\",\"electric\",\"hot air\",\"hot air\",\"hot air\",\"electric\",\"hot air\",\"hot air\",\"electric\",\"hot air\",\"hot air\",\"electric\",\"electric\",\"electric\",\"hot air\",\"electric\",\"electric\",\"electric\",\"electric\",\"electric\",\"electric\",\"electric\",\"electric\",\"hot air\",\"electric\",\"electric\",\"electric\",\"electric\",\"electric\",\"electric\",\"hot air\",\"electric\",\"hot water\\u002fsteam\",\"electric\",\"hot air\",\"electric\",\"electric\",\"electric\",\"electric\",\"electric\",\"electric\",\"electric\",\"electric\",\"hot air\",\"electric\",\"electric\",\"electric\",\"hot air\",\"hot air\",\"hot air\",\"electric\",\"hot air\",\"hot air\",\"electric\",\"hot air\",\"hot air\",\"hot air\",\"hot air\",\"hot air\",\"hot water\\u002fsteam\",\"hot air\",\"hot air\",\"hot air\",\"hot air\",\"hot air\",\"hot air\",\"hot water\\u002fsteam\",\"hot air\",\"hot air\",\"electric\",\"hot air\",\"hot air\",\"hot water\\u002fsteam\",\"hot air\",\"hot water\\u002fsteam\",\"electric\",\"hot air\",\"electric\",\"hot air\",\"hot water\\u002fsteam\",\"hot water\\u002fsteam\",\"hot air\",\"hot air\",\"hot water\\u002fsteam\",\"hot water\\u002fsteam\",\"hot water\\u002fsteam\",\"hot air\",\"hot water\\u002fsteam\",\"hot air\",\"electric\",\"hot air\",\"hot water\\u002fsteam\",\"hot air\",\"hot water\\u002fsteam\",\"hot air\",\"hot air\",\"hot air\",\"hot air\",\"electric\",\"electric\",\"hot water\\u002fsteam\",\"hot air\",\"hot air\",\"hot air\",\"electric\",\"hot air\",\"hot air\",\"hot air\",\"hot water\\u002fsteam\",\"electric\",\"electric\",\"hot water\\u002fsteam\",\"hot air\",\"electric\",\"hot air\",\"hot air\",\"electric\",\"hot air\",\"hot air\",\"electric\",\"hot air\",\"hot air\",\"hot air\",\"hot water\\u002fsteam\",\"hot water\\u002fsteam\",\"hot air\",\"hot water\\u002fsteam\",\"hot air\",\"hot air\",\"hot air\",\"hot air\",\"hot air\",\"hot water\\u002fsteam\",\"hot water\\u002fsteam\",\"hot air\",\"electric\",\"hot water\\u002fsteam\",\"hot air\",\"hot air\",\"hot air\",\"hot air\",\"hot air\",\"hot air\",\"electric\",\"hot water\\u002fsteam\",\"hot water\\u002fsteam\",\"hot air\",\"hot air\",\"hot air\",\"hot water\\u002fsteam\",\"hot water\\u002fsteam\",\"hot water\\u002fsteam\",\"hot air\",\"hot air\",\"hot water\\u002fsteam\",\"hot air\",\"electric\",\"hot water\\u002fsteam\",\"hot air\",\"hot air\",\"hot water\\u002fsteam\",\"hot air\",\"hot air\",\"hot air\",\"hot air\",\"electric\",\"hot air\",\"hot water\\u002fsteam\",\"hot air\",\"hot air\",\"hot air\",\"hot air\",\"hot water\\u002fsteam\",\"hot air\",\"electric\",\"hot air\",\"hot air\",\"hot air\",\"hot air\",\"hot water\\u002fsteam\",\"hot air\",\"electric\",\"hot air\",\"hot air\",\"hot air\",\"hot air\",\"electric\",\"hot air\",\"electric\",\"hot air\",\"hot air\",\"hot air\",\"electric\",\"electric\",\"hot air\",\"hot air\",\"electric\",\"electric\",\"electric\",\"electric\",\"hot air\",\"hot air\",\"hot air\",\"hot air\",\"hot air\",\"hot air\",\"hot air\",\"hot air\",\"hot water\\u002fsteam\",\"hot water\\u002fsteam\",\"hot air\",\"hot air\",\"hot water\\u002fsteam\",\"electric\",\"hot air\",\"hot air\",\"hot air\",\"hot air\",\"hot air\",\"hot air\",\"hot air\",\"hot air\",\"hot air\",\"hot air\",\"hot air\",\"hot air\",\"hot water\\u002fsteam\",\"hot water\\u002fsteam\",\"electric\",\"hot water\\u002fsteam\",\"hot water\\u002fsteam\",\"hot air\",\"hot water\\u002fsteam\",\"hot air\",\"hot air\",\"hot water\\u002fsteam\",\"electric\",\"hot air\",\"hot air\",\"hot air\",\"hot air\",\"hot air\",\"hot air\",\"hot air\",\"electric\",\"hot air\",\"hot air\",\"hot water\\u002fsteam\",\"hot air\",\"electric\",\"hot air\",\"hot water\\u002fsteam\",\"hot air\",\"hot air\",\"hot water\\u002fsteam\",\"hot air\",\"hot air\",\"hot air\",\"electric\",\"hot air\",\"hot air\",\"electric\",\"electric\",\"hot water\\u002fsteam\",\"electric\",\"hot water\\u002fsteam\",\"hot air\",\"electric\",\"hot air\",\"hot air\",\"electric\",\"hot water\\u002fsteam\",\"hot air\",\"hot air\",\"hot water\\u002fsteam\",\"hot air\",\"hot water\\u002fsteam\",\"hot water\\u002fsteam\",\"hot air\",\"hot water\\u002fsteam\",\"hot water\\u002fsteam\",\"electric\",\"hot air\",\"hot air\",\"hot water\\u002fsteam\",\"hot air\",\"hot water\\u002fsteam\",\"electric\",\"hot air\",\"hot air\",\"hot air\",\"hot water\\u002fsteam\",\"electric\",\"hot air\",\"hot air\",\"hot water\\u002fsteam\",\"electric\",\"electric\",\"hot air\",\"hot air\",\"hot air\",\"hot air\",\"hot air\",\"hot air\",\"hot air\",\"hot air\",\"hot air\",\"hot water\\u002fsteam\",\"hot water\\u002fsteam\",\"hot air\",\"hot water\\u002fsteam\",\"hot air\",\"hot air\",\"hot air\",\"hot water\\u002fsteam\",\"hot air\",\"hot air\",\"hot air\",\"hot air\",\"hot air\",\"hot air\",\"electric\",\"hot air\",\"hot water\\u002fsteam\",\"hot water\\u002fsteam\",\"hot air\",\"hot air\",\"hot air\",\"hot air\",\"hot air\",\"hot air\",\"hot air\",\"hot air\",\"hot air\",\"hot water\\u002fsteam\",\"hot water\\u002fsteam\",\"hot water\\u002fsteam\",\"hot air\",\"hot air\",\"hot air\",\"hot air\",\"hot water\\u002fsteam\",\"hot air\",\"hot air\",\"hot air\",\"hot air\",\"hot air\",\"hot air\",\"hot air\",\"hot air\",\"hot air\",\"hot air\",\"hot air\",\"hot air\",\"hot water\\u002fsteam\",\"hot air\",\"hot air\",\"hot air\",\"hot water\\u002fsteam\",\"hot air\",\"hot air\",\"hot air\",\"hot water\\u002fsteam\",\"hot air\",\"hot air\",\"hot air\",\"hot air\",\"hot air\",\"hot air\",\"hot air\",\"hot air\",\"hot water\\u002fsteam\",\"hot air\",\"electric\",\"hot air\",\"hot air\",\"hot air\",\"hot water\\u002fsteam\",\"hot air\",\"hot air\",\"hot air\",\"hot air\",\"hot water\\u002fsteam\",\"electric\",\"hot air\",\"hot air\",\"hot air\",\"hot air\",\"hot air\",\"hot air\",\"hot water\\u002fsteam\",\"hot water\\u002fsteam\",\"hot water\\u002fsteam\",\"hot air\",\"hot air\",\"hot air\",\"hot air\",\"electric\",\"hot air\",\"hot water\\u002fsteam\",\"hot air\",\"hot air\",\"hot air\",\"hot air\",\"hot air\",\"hot air\",\"hot water\\u002fsteam\",\"hot water\\u002fsteam\",\"hot water\\u002fsteam\",\"hot air\",\"hot air\",\"hot air\",\"electric\",\"hot air\",\"electric\",\"hot water\\u002fsteam\",\"hot air\",\"hot air\",\"hot air\",\"hot air\",\"hot air\",\"hot air\",\"hot water\\u002fsteam\",\"hot air\",\"electric\",\"hot air\",\"hot air\",\"hot air\",\"electric\",\"electric\",\"hot air\",\"electric\",\"hot air\",\"hot air\",\"hot air\",\"hot air\",\"electric\",\"hot air\",\"hot air\",\"hot air\",\"hot water\\u002fsteam\",\"hot air\",\"hot air\",\"hot air\",\"hot water\\u002fsteam\",\"hot air\",\"hot air\",\"electric\",\"hot air\",\"hot air\",\"hot air\",\"hot air\",\"hot water\\u002fsteam\",\"hot air\",\"electric\",\"hot air\",\"hot air\",\"hot air\",\"hot air\",\"hot air\",\"hot air\",\"hot air\",\"hot air\",\"hot air\",\"hot air\",\"hot air\",\"hot water\\u002fsteam\",\"hot air\",\"hot air\",\"electric\",\"hot air\",\"electric\",\"hot air\",\"hot air\",\"hot air\",\"hot air\",\"hot air\",\"hot air\",\"hot water\\u002fsteam\",\"hot air\",\"electric\",\"hot air\",\"electric\",\"hot air\",\"electric\",\"electric\",\"hot air\",\"hot air\",\"electric\",\"electric\",\"hot water\\u002fsteam\",\"electric\",\"electric\",\"electric\",\"electric\",\"hot water\\u002fsteam\",\"hot air\",\"hot air\",\"electric\",\"electric\",\"hot air\",\"hot water\\u002fsteam\",\"electric\",\"hot air\",\"hot air\",\"electric\",\"hot water\\u002fsteam\",\"electric\",\"hot air\",\"hot air\",\"hot air\",\"hot air\",\"hot air\",\"electric\",\"hot air\",\"electric\",\"hot air\",\"electric\",\"hot air\",\"hot air\",\"hot air\",\"hot air\",\"hot air\",\"electric\",\"hot air\",\"hot air\",\"electric\",\"hot air\",\"electric\",\"hot water\\u002fsteam\",\"hot air\",\"hot air\",\"hot air\",\"hot air\",\"electric\",\"electric\",\"hot air\",\"electric\",\"hot water\\u002fsteam\",\"hot water\\u002fsteam\",\"hot air\",\"electric\",\"hot air\",\"electric\",\"hot air\",\"hot air\",\"hot air\",\"hot air\",\"electric\",\"electric\",\"hot air\",\"hot water\\u002fsteam\",\"hot air\",\"hot air\",\"hot water\\u002fsteam\",\"electric\",\"electric\",\"hot air\",\"hot air\",\"hot water\\u002fsteam\",\"hot air\",\"electric\",\"electric\",\"electric\",\"hot water\\u002fsteam\",\"hot air\",\"hot air\",\"hot air\",\"hot air\",\"electric\",\"electric\",\"hot air\",\"hot air\",\"hot air\",\"hot air\",\"electric\",\"hot air\",\"hot air\",\"hot air\",\"electric\",\"electric\",\"hot air\",\"hot air\",\"hot air\",\"electric\",\"hot air\",\"electric\",\"electric\",\"electric\",\"hot air\",\"electric\",\"electric\",\"hot air\",\"hot air\",\"hot water\\u002fsteam\",\"hot air\",\"hot air\",\"hot water\\u002fsteam\",\"hot air\",\"hot air\",\"hot air\",\"hot water\\u002fsteam\",\"hot air\",\"electric\",\"hot air\",\"hot air\",\"electric\",\"electric\",\"hot water\\u002fsteam\",\"electric\",\"hot water\\u002fsteam\",\"hot water\\u002fsteam\",\"hot air\",\"hot water\\u002fsteam\",\"hot air\",\"hot air\",\"electric\",\"hot air\",\"electric\",\"electric\",\"hot air\",\"hot air\",\"hot air\",\"hot air\",\"electric\",\"hot water\\u002fsteam\",\"hot water\\u002fsteam\",\"hot air\",\"hot air\",\"hot water\\u002fsteam\",\"hot air\",\"hot air\",\"hot water\\u002fsteam\",\"hot air\",\"hot water\\u002fsteam\",\"hot air\",\"hot air\",\"hot air\",\"hot air\",\"hot water\\u002fsteam\",\"hot water\\u002fsteam\",\"hot air\",\"hot air\",\"hot air\",\"hot air\",\"hot air\",\"hot water\\u002fsteam\",\"hot air\",\"hot air\",\"hot water\\u002fsteam\",\"hot air\",\"hot air\",\"hot air\",\"hot air\",\"hot air\",\"hot air\",\"hot air\",\"hot water\\u002fsteam\",\"hot air\",\"electric\",\"hot water\\u002fsteam\",\"hot air\",\"hot air\",\"hot water\\u002fsteam\",\"hot air\",\"hot air\",\"hot air\",\"electric\",\"electric\",\"hot water\\u002fsteam\",\"hot air\",\"hot air\",\"hot air\",\"hot water\\u002fsteam\",\"electric\",\"hot air\",\"electric\",\"hot air\",\"hot air\",\"hot water\\u002fsteam\",\"hot air\",\"hot air\",\"hot water\\u002fsteam\",\"hot air\",\"hot water\\u002fsteam\",\"hot air\",\"hot air\",\"hot air\",\"electric\",\"hot air\",\"electric\",\"hot air\",\"hot water\\u002fsteam\",\"hot air\",\"electric\",\"hot air\",\"hot air\",\"hot air\",\"hot water\\u002fsteam\",\"hot air\",\"hot air\",\"hot air\",\"electric\",\"hot water\\u002fsteam\",\"hot air\",\"hot air\",\"hot air\",\"hot water\\u002fsteam\",\"hot water\\u002fsteam\",\"hot air\",\"hot air\",\"hot air\",\"hot air\",\"hot water\\u002fsteam\",\"electric\",\"hot air\",\"hot water\\u002fsteam\",\"hot air\",\"hot water\\u002fsteam\",\"hot air\",\"hot water\\u002fsteam\",\"hot water\\u002fsteam\",\"hot air\",\"hot water\\u002fsteam\",\"electric\",\"hot water\\u002fsteam\",\"hot air\",\"hot air\",\"hot water\\u002fsteam\",\"hot air\",\"hot water\\u002fsteam\",\"hot water\\u002fsteam\",\"hot water\\u002fsteam\",\"hot air\",\"hot air\",\"hot air\",\"hot air\",\"hot water\\u002fsteam\",\"hot air\",\"hot air\",\"hot air\",\"hot air\",\"hot air\",\"hot air\",\"hot water\\u002fsteam\",\"hot air\",\"hot air\",\"electric\",\"hot water\\u002fsteam\",\"hot air\",\"hot water\\u002fsteam\",\"electric\",\"hot air\",\"hot air\",\"hot air\",\"hot air\",\"hot air\",\"hot air\",\"hot air\",\"hot air\",\"hot air\",\"hot air\",\"hot air\",\"hot air\",\"hot air\",\"electric\",\"hot air\",\"hot air\",\"hot air\",\"hot water\\u002fsteam\",\"hot air\",\"hot air\",\"hot air\",\"hot air\",\"hot air\",\"hot air\",\"hot air\",\"hot air\",\"hot water\\u002fsteam\",\"hot air\",\"hot air\",\"electric\",\"hot water\\u002fsteam\",\"hot air\",\"hot air\",\"electric\",\"hot air\",\"hot air\",\"hot air\",\"electric\",\"hot air\",\"hot air\",\"hot air\",\"hot air\",\"hot air\",\"hot air\",\"electric\",\"hot air\",\"hot air\",\"hot air\",\"hot air\",\"hot air\",\"electric\",\"electric\",\"electric\",\"hot air\",\"hot water\\u002fsteam\",\"hot water\\u002fsteam\",\"hot air\",\"hot air\",\"hot air\",\"hot air\",\"electric\",\"electric\",\"electric\",\"electric\",\"hot air\",\"hot air\",\"hot water\\u002fsteam\",\"hot air\",\"hot air\",\"hot water\\u002fsteam\",\"hot water\\u002fsteam\",\"hot air\",\"hot air\",\"hot air\",\"hot air\",\"hot air\",\"hot water\\u002fsteam\",\"hot water\\u002fsteam\",\"hot air\",\"hot air\",\"hot air\",\"electric\",\"hot air\",\"hot air\",\"electric\",\"hot water\\u002fsteam\",\"hot air\",\"hot air\",\"hot air\",\"hot air\",\"hot water\\u002fsteam\",\"hot water\\u002fsteam\",\"hot water\\u002fsteam\",\"hot water\\u002fsteam\",\"hot air\",\"hot air\",\"hot air\"],\"xaxis\":\"x\",\"yaxis\":\"y\",\"type\":\"histogram\"}],                        {\"template\":{\"data\":{\"pie\":[{\"automargin\":true,\"type\":\"pie\"}]},\"layout\":{\"xaxis\":{\"showgrid\":true,\"title\":{\"standoff\":15}},\"yaxis\":{\"showgrid\":true,\"title\":{\"standoff\":15}}}},\"xaxis\":{\"anchor\":\"y\",\"domain\":[0.0,1.0],\"title\":{\"text\":\"calefaccion\"}},\"yaxis\":{\"anchor\":\"x\",\"domain\":[0.0,1.0],\"title\":{\"text\":\"count\"}},\"legend\":{\"tracegroupgap\":0},\"title\":{\"text\":\"Calefaccion\"},\"barmode\":\"relative\"},                        {\"responsive\": true}                    ).then(function(){\n",
              "                            \n",
              "var gd = document.getElementById('4b502f48-f2ee-43fa-9c72-440efa826803');\n",
              "var x = new MutationObserver(function (mutations, observer) {{\n",
              "        var display = window.getComputedStyle(gd).display;\n",
              "        if (!display || display === 'none') {{\n",
              "            console.log([gd, 'removed!']);\n",
              "            Plotly.purge(gd);\n",
              "            observer.disconnect();\n",
              "        }}\n",
              "}});\n",
              "\n",
              "// Listen for the removal of the full notebook cells\n",
              "var notebookContainer = gd.closest('#notebook-container');\n",
              "if (notebookContainer) {{\n",
              "    x.observe(notebookContainer, {childList: true});\n",
              "}}\n",
              "\n",
              "// Listen for the clearing of the current output cell\n",
              "var outputEl = gd.closest('.output');\n",
              "if (outputEl) {{\n",
              "    x.observe(outputEl, {childList: true});\n",
              "}}\n",
              "\n",
              "                        })                };            </script>        </div>\n",
              "</body>\n",
              "</html>"
            ]
          },
          "metadata": {}
        }
      ]
    },
    {
      "cell_type": "code",
      "metadata": {
        "colab": {
          "base_uri": "https://localhost:8080/",
          "height": 542
        },
        "id": "0a8HoS-3611t",
        "outputId": "bbc7b7cd-2a39-438d-8562-c81401d89f61"
      },
      "source": [
        "fig = px.histogram(datos,\n",
        "                   x = datos.consumo_calefacion,\n",
        "                   title=\"Consumo Calefaccion\",\n",
        "                   template=\"gridon\")\n",
        "fig.show()"
      ],
      "execution_count": 34,
      "outputs": [
        {
          "output_type": "display_data",
          "data": {
            "text/html": [
              "<html>\n",
              "<head><meta charset=\"utf-8\" /></head>\n",
              "<body>\n",
              "    <div>            <script src=\"https://cdnjs.cloudflare.com/ajax/libs/mathjax/2.7.5/MathJax.js?config=TeX-AMS-MML_SVG\"></script><script type=\"text/javascript\">if (window.MathJax && window.MathJax.Hub && window.MathJax.Hub.Config) {window.MathJax.Hub.Config({SVG: {font: \"STIX-Web\"}});}</script>                <script type=\"text/javascript\">window.PlotlyConfig = {MathJaxConfig: 'local'};</script>\n",
              "        <script charset=\"utf-8\" src=\"https://cdn.plot.ly/plotly-3.0.1.min.js\"></script>                <div id=\"bb56c809-c982-4038-bcaf-83333b71066d\" class=\"plotly-graph-div\" style=\"height:525px; width:100%;\"></div>            <script type=\"text/javascript\">                window.PLOTLYENV=window.PLOTLYENV || {};                                if (document.getElementById(\"bb56c809-c982-4038-bcaf-83333b71066d\")) {                    Plotly.newPlot(                        \"bb56c809-c982-4038-bcaf-83333b71066d\",                        [{\"bingroup\":\"x\",\"hovertemplate\":\"consumo_calefacion=%{x}\\u003cbr\\u003ecount=%{y}\\u003cextra\\u003e\\u003c\\u002fextra\\u003e\",\"legendgroup\":\"\",\"marker\":{\"color\":\"#1F77B4\",\"pattern\":{\"shape\":\"\"}},\"name\":\"\",\"orientation\":\"v\",\"showlegend\":false,\"x\":[\"electric\",\"gas\",\"gas\",\"gas\",\"gas\",\"gas\",\"oil\",\"oil\",\"electric\",\"gas\",\"oil\",\"gas\",\"electric\",\"gas\",\"oil\",\"gas\",\"oil\",\"gas\",\"oil\",\"oil\",\"electric\",\"electric\",\"gas\",\"oil\",\"electric\",\"oil\",\"oil\",\"oil\",\"oil\",\"oil\",\"oil\",\"gas\",\"gas\",\"oil\",\"gas\",\"gas\",\"gas\",\"gas\",\"gas\",\"gas\",\"gas\",\"gas\",\"oil\",\"gas\",\"gas\",\"gas\",\"oil\",\"gas\",\"oil\",\"gas\",\"gas\",\"gas\",\"gas\",\"gas\",\"gas\",\"gas\",\"gas\",\"gas\",\"gas\",\"electric\",\"gas\",\"gas\",\"gas\",\"gas\",\"electric\",\"gas\",\"oil\",\"gas\",\"electric\",\"gas\",\"gas\",\"gas\",\"gas\",\"gas\",\"oil\",\"gas\",\"gas\",\"oil\",\"gas\",\"oil\",\"electric\",\"gas\",\"gas\",\"gas\",\"gas\",\"electric\",\"gas\",\"electric\",\"oil\",\"electric\",\"electric\",\"electric\",\"gas\",\"gas\",\"gas\",\"gas\",\"gas\",\"gas\",\"electric\",\"gas\",\"gas\",\"gas\",\"oil\",\"gas\",\"gas\",\"oil\",\"gas\",\"gas\",\"oil\",\"gas\",\"electric\",\"gas\",\"gas\",\"gas\",\"gas\",\"gas\",\"oil\",\"gas\",\"gas\",\"gas\",\"gas\",\"gas\",\"gas\",\"gas\",\"gas\",\"gas\",\"gas\",\"gas\",\"gas\",\"gas\",\"gas\",\"oil\",\"oil\",\"gas\",\"gas\",\"oil\",\"oil\",\"oil\",\"gas\",\"oil\",\"oil\",\"gas\",\"gas\",\"electric\",\"gas\",\"electric\",\"oil\",\"electric\",\"electric\",\"electric\",\"gas\",\"electric\",\"gas\",\"gas\",\"gas\",\"gas\",\"gas\",\"gas\",\"gas\",\"gas\",\"oil\",\"gas\",\"gas\",\"gas\",\"oil\",\"gas\",\"gas\",\"electric\",\"gas\",\"gas\",\"gas\",\"gas\",\"gas\",\"gas\",\"gas\",\"gas\",\"gas\",\"gas\",\"gas\",\"electric\",\"oil\",\"gas\",\"gas\",\"gas\",\"oil\",\"gas\",\"gas\",\"gas\",\"gas\",\"gas\",\"oil\",\"gas\",\"oil\",\"gas\",\"gas\",\"electric\",\"electric\",\"oil\",\"gas\",\"gas\",\"gas\",\"gas\",\"electric\",\"electric\",\"gas\",\"gas\",\"gas\",\"electric\",\"electric\",\"gas\",\"electric\",\"electric\",\"gas\",\"electric\",\"gas\",\"electric\",\"gas\",\"oil\",\"gas\",\"gas\",\"electric\",\"gas\",\"electric\",\"electric\",\"electric\",\"electric\",\"electric\",\"gas\",\"gas\",\"gas\",\"electric\",\"electric\",\"electric\",\"oil\",\"electric\",\"gas\",\"electric\",\"gas\",\"gas\",\"electric\",\"gas\",\"gas\",\"electric\",\"gas\",\"electric\",\"gas\",\"oil\",\"gas\",\"gas\",\"electric\",\"gas\",\"electric\",\"gas\",\"electric\",\"electric\",\"electric\",\"gas\",\"electric\",\"gas\",\"electric\",\"oil\",\"electric\",\"gas\",\"electric\",\"electric\",\"electric\",\"electric\",\"oil\",\"electric\",\"gas\",\"electric\",\"electric\",\"electric\",\"gas\",\"gas\",\"gas\",\"gas\",\"gas\",\"oil\",\"gas\",\"gas\",\"gas\",\"gas\",\"gas\",\"electric\",\"gas\",\"gas\",\"gas\",\"gas\",\"gas\",\"gas\",\"electric\",\"electric\",\"gas\",\"gas\",\"gas\",\"gas\",\"gas\",\"gas\",\"gas\",\"gas\",\"electric\",\"gas\",\"gas\",\"gas\",\"gas\",\"gas\",\"gas\",\"gas\",\"gas\",\"gas\",\"gas\",\"gas\",\"gas\",\"gas\",\"gas\",\"electric\",\"gas\",\"gas\",\"gas\",\"gas\",\"gas\",\"gas\",\"gas\",\"electric\",\"gas\",\"electric\",\"electric\",\"gas\",\"gas\",\"gas\",\"gas\",\"gas\",\"gas\",\"gas\",\"gas\",\"gas\",\"gas\",\"electric\",\"gas\",\"electric\",\"gas\",\"gas\",\"gas\",\"gas\",\"gas\",\"gas\",\"gas\",\"gas\",\"gas\",\"gas\",\"gas\",\"gas\",\"electric\",\"gas\",\"gas\",\"gas\",\"gas\",\"gas\",\"gas\",\"gas\",\"oil\",\"gas\",\"gas\",\"gas\",\"gas\",\"gas\",\"gas\",\"gas\",\"gas\",\"gas\",\"electric\",\"gas\",\"gas\",\"gas\",\"electric\",\"gas\",\"gas\",\"oil\",\"electric\",\"gas\",\"gas\",\"gas\",\"gas\",\"oil\",\"gas\",\"gas\",\"gas\",\"gas\",\"gas\",\"gas\",\"gas\",\"electric\",\"gas\",\"gas\",\"gas\",\"gas\",\"gas\",\"gas\",\"gas\",\"oil\",\"gas\",\"gas\",\"electric\",\"gas\",\"gas\",\"gas\",\"gas\",\"gas\",\"gas\",\"gas\",\"gas\",\"gas\",\"electric\",\"gas\",\"gas\",\"gas\",\"gas\",\"gas\",\"gas\",\"gas\",\"gas\",\"gas\",\"electric\",\"oil\",\"gas\",\"gas\",\"electric\",\"electric\",\"oil\",\"electric\",\"gas\",\"gas\",\"gas\",\"gas\",\"oil\",\"oil\",\"oil\",\"gas\",\"gas\",\"gas\",\"oil\",\"oil\",\"oil\",\"electric\",\"gas\",\"electric\",\"oil\",\"gas\",\"gas\",\"gas\",\"gas\",\"gas\",\"gas\",\"gas\",\"gas\",\"oil\",\"oil\",\"oil\",\"gas\",\"oil\",\"gas\",\"oil\",\"oil\",\"oil\",\"gas\",\"oil\",\"oil\",\"oil\",\"oil\",\"oil\",\"gas\",\"gas\",\"gas\",\"oil\",\"gas\",\"oil\",\"oil\",\"oil\",\"gas\",\"oil\",\"electric\",\"oil\",\"oil\",\"electric\",\"gas\",\"gas\",\"gas\",\"gas\",\"gas\",\"oil\",\"oil\",\"gas\",\"oil\",\"oil\",\"oil\",\"oil\",\"oil\",\"gas\",\"electric\",\"oil\",\"gas\",\"gas\",\"gas\",\"gas\",\"gas\",\"gas\",\"gas\",\"gas\",\"gas\",\"gas\",\"gas\",\"gas\",\"gas\",\"gas\",\"gas\",\"gas\",\"gas\",\"oil\",\"oil\",\"electric\",\"gas\",\"electric\",\"electric\",\"gas\",\"oil\",\"gas\",\"gas\",\"gas\",\"gas\",\"gas\",\"gas\",\"gas\",\"gas\",\"gas\",\"gas\",\"electric\",\"gas\",\"gas\",\"electric\",\"gas\",\"gas\",\"gas\",\"gas\",\"gas\",\"gas\",\"oil\",\"gas\",\"gas\",\"gas\",\"gas\",\"electric\",\"gas\",\"gas\",\"oil\",\"gas\",\"gas\",\"gas\",\"gas\",\"gas\",\"oil\",\"gas\",\"gas\",\"gas\",\"electric\",\"gas\",\"gas\",\"gas\",\"gas\",\"oil\",\"gas\",\"gas\",\"gas\",\"gas\",\"gas\",\"gas\",\"gas\",\"gas\",\"gas\",\"gas\",\"gas\",\"gas\",\"gas\",\"gas\",\"gas\",\"gas\",\"gas\",\"gas\",\"gas\",\"gas\",\"oil\",\"gas\",\"gas\",\"gas\",\"gas\",\"gas\",\"gas\",\"gas\",\"gas\",\"gas\",\"gas\",\"gas\",\"gas\",\"gas\",\"gas\",\"gas\",\"gas\",\"gas\",\"gas\",\"gas\",\"gas\",\"gas\",\"electric\",\"gas\",\"gas\",\"gas\",\"gas\",\"gas\",\"gas\",\"gas\",\"gas\",\"gas\",\"gas\",\"gas\",\"gas\",\"electric\",\"gas\",\"electric\",\"gas\",\"gas\",\"gas\",\"gas\",\"gas\",\"gas\",\"gas\",\"gas\",\"gas\",\"gas\",\"gas\",\"gas\",\"gas\",\"electric\",\"gas\",\"gas\",\"gas\",\"gas\",\"gas\",\"gas\",\"gas\",\"gas\",\"gas\",\"gas\",\"gas\",\"electric\",\"gas\",\"gas\",\"gas\",\"gas\",\"oil\",\"gas\",\"gas\",\"gas\",\"gas\",\"gas\",\"gas\",\"gas\",\"gas\",\"gas\",\"gas\",\"gas\",\"gas\",\"gas\",\"gas\",\"gas\",\"gas\",\"gas\",\"gas\",\"gas\",\"gas\",\"gas\",\"gas\",\"gas\",\"oil\",\"gas\",\"gas\",\"gas\",\"gas\",\"gas\",\"oil\",\"gas\",\"gas\",\"gas\",\"gas\",\"gas\",\"gas\",\"oil\",\"gas\",\"gas\",\"gas\",\"gas\",\"gas\",\"gas\",\"electric\",\"gas\",\"gas\",\"gas\",\"gas\",\"gas\",\"gas\",\"gas\",\"gas\",\"gas\",\"gas\",\"gas\",\"gas\",\"gas\",\"gas\",\"gas\",\"gas\",\"gas\",\"gas\",\"gas\",\"gas\",\"gas\",\"gas\",\"gas\",\"oil\",\"gas\",\"gas\",\"gas\",\"gas\",\"gas\",\"gas\",\"gas\",\"gas\",\"gas\",\"gas\",\"electric\",\"gas\",\"gas\",\"gas\",\"electric\",\"electric\",\"gas\",\"gas\",\"gas\",\"oil\",\"gas\",\"gas\",\"gas\",\"gas\",\"gas\",\"gas\",\"gas\",\"gas\",\"gas\",\"gas\",\"gas\",\"gas\",\"gas\",\"gas\",\"gas\",\"electric\",\"gas\",\"gas\",\"gas\",\"gas\",\"oil\",\"gas\",\"gas\",\"gas\",\"gas\",\"oil\",\"gas\",\"gas\",\"electric\",\"gas\",\"oil\",\"gas\",\"gas\",\"oil\",\"gas\",\"gas\",\"oil\",\"gas\",\"gas\",\"oil\",\"electric\",\"gas\",\"oil\",\"oil\",\"oil\",\"oil\",\"gas\",\"gas\",\"gas\",\"gas\",\"electric\",\"gas\",\"gas\",\"gas\",\"gas\",\"gas\",\"electric\",\"gas\",\"gas\",\"electric\",\"gas\",\"electric\",\"gas\",\"gas\",\"gas\",\"gas\",\"gas\",\"gas\",\"gas\",\"gas\",\"gas\",\"gas\",\"gas\",\"gas\",\"gas\",\"gas\",\"gas\",\"oil\",\"gas\",\"gas\",\"electric\",\"gas\",\"gas\",\"gas\",\"oil\",\"gas\",\"gas\",\"gas\",\"gas\",\"gas\",\"gas\",\"gas\",\"gas\",\"gas\",\"gas\",\"gas\",\"oil\",\"gas\",\"gas\",\"gas\",\"electric\",\"electric\",\"gas\",\"electric\",\"electric\",\"electric\",\"electric\",\"electric\",\"electric\",\"electric\",\"gas\",\"electric\",\"electric\",\"electric\",\"electric\",\"electric\",\"electric\",\"gas\",\"electric\",\"gas\",\"electric\",\"gas\",\"electric\",\"electric\",\"electric\",\"electric\",\"electric\",\"electric\",\"electric\",\"electric\",\"gas\",\"electric\",\"electric\",\"electric\",\"gas\",\"gas\",\"gas\",\"electric\",\"gas\",\"gas\",\"electric\",\"oil\",\"oil\",\"electric\",\"electric\",\"electric\",\"gas\",\"electric\",\"electric\",\"electric\",\"electric\",\"electric\",\"electric\",\"electric\",\"electric\",\"gas\",\"electric\",\"electric\",\"electric\",\"electric\",\"electric\",\"electric\",\"gas\",\"electric\",\"gas\",\"electric\",\"gas\",\"electric\",\"electric\",\"electric\",\"electric\",\"electric\",\"electric\",\"electric\",\"electric\",\"gas\",\"electric\",\"electric\",\"electric\",\"gas\",\"gas\",\"gas\",\"electric\",\"gas\",\"gas\",\"electric\",\"oil\",\"oil\",\"oil\",\"gas\",\"gas\",\"gas\",\"gas\",\"gas\",\"gas\",\"gas\",\"gas\",\"oil\",\"gas\",\"gas\",\"gas\",\"electric\",\"gas\",\"gas\",\"gas\",\"gas\",\"gas\",\"electric\",\"gas\",\"electric\",\"gas\",\"gas\",\"gas\",\"gas\",\"electric\",\"gas\",\"gas\",\"gas\",\"gas\",\"gas\",\"gas\",\"electric\",\"gas\",\"oil\",\"gas\",\"gas\",\"gas\",\"oil\",\"gas\",\"gas\",\"electric\",\"electric\",\"gas\",\"oil\",\"gas\",\"gas\",\"electric\",\"gas\",\"oil\",\"gas\",\"oil\",\"electric\",\"electric\",\"gas\",\"gas\",\"electric\",\"gas\",\"gas\",\"electric\",\"gas\",\"gas\",\"electric\",\"gas\",\"gas\",\"gas\",\"gas\",\"gas\",\"oil\",\"gas\",\"gas\",\"gas\",\"gas\",\"oil\",\"gas\",\"gas\",\"gas\",\"gas\",\"electric\",\"gas\",\"gas\",\"gas\",\"gas\",\"gas\",\"gas\",\"oil\",\"oil\",\"gas\",\"gas\",\"gas\",\"gas\",\"gas\",\"gas\",\"gas\",\"gas\",\"gas\",\"oil\",\"gas\",\"gas\",\"electric\",\"gas\",\"gas\",\"gas\",\"gas\",\"gas\",\"gas\",\"gas\",\"gas\",\"electric\",\"gas\",\"oil\",\"gas\",\"gas\",\"gas\",\"gas\",\"gas\",\"gas\",\"electric\",\"gas\",\"gas\",\"oil\",\"oil\",\"oil\",\"gas\",\"electric\",\"gas\",\"gas\",\"gas\",\"gas\",\"electric\",\"gas\",\"electric\",\"gas\",\"gas\",\"gas\",\"electric\",\"electric\",\"gas\",\"gas\",\"electric\",\"electric\",\"electric\",\"electric\",\"gas\",\"gas\",\"gas\",\"gas\",\"gas\",\"oil\",\"gas\",\"electric\",\"gas\",\"oil\",\"gas\",\"oil\",\"gas\",\"electric\",\"gas\",\"gas\",\"gas\",\"gas\",\"gas\",\"gas\",\"oil\",\"oil\",\"oil\",\"gas\",\"gas\",\"gas\",\"gas\",\"gas\",\"electric\",\"gas\",\"oil\",\"gas\",\"oil\",\"gas\",\"oil\",\"oil\",\"electric\",\"gas\",\"gas\",\"gas\",\"gas\",\"oil\",\"oil\",\"gas\",\"electric\",\"gas\",\"oil\",\"oil\",\"oil\",\"electric\",\"oil\",\"gas\",\"gas\",\"gas\",\"gas\",\"oil\",\"gas\",\"gas\",\"electric\",\"gas\",\"gas\",\"electric\",\"gas\",\"gas\",\"electric\",\"gas\",\"gas\",\"electric\",\"oil\",\"gas\",\"electric\",\"oil\",\"oil\",\"gas\",\"oil\",\"oil\",\"oil\",\"oil\",\"oil\",\"gas\",\"oil\",\"electric\",\"gas\",\"oil\",\"gas\",\"oil\",\"oil\",\"electric\",\"gas\",\"oil\",\"gas\",\"oil\",\"electric\",\"gas\",\"gas\",\"oil\",\"electric\",\"electric\",\"gas\",\"gas\",\"gas\",\"oil\",\"gas\",\"gas\",\"gas\",\"gas\",\"oil\",\"oil\",\"oil\",\"gas\",\"oil\",\"gas\",\"gas\",\"gas\",\"oil\",\"gas\",\"gas\",\"gas\",\"gas\",\"gas\",\"gas\",\"electric\",\"gas\",\"gas\",\"gas\",\"gas\",\"gas\",\"gas\",\"gas\",\"gas\",\"gas\",\"gas\",\"gas\",\"gas\",\"gas\",\"gas\",\"gas\",\"gas\",\"gas\",\"gas\",\"gas\",\"gas\",\"gas\",\"oil\",\"gas\",\"gas\",\"oil\",\"gas\",\"gas\",\"gas\",\"gas\",\"gas\",\"gas\",\"gas\",\"gas\",\"gas\",\"gas\",\"gas\",\"gas\",\"gas\",\"gas\",\"gas\",\"gas\",\"gas\",\"gas\",\"gas\",\"gas\",\"gas\",\"gas\",\"oil\",\"gas\",\"gas\",\"gas\",\"electric\",\"gas\",\"gas\",\"gas\",\"gas\",\"gas\",\"gas\",\"gas\",\"gas\",\"gas\",\"electric\",\"gas\",\"gas\",\"gas\",\"gas\",\"gas\",\"gas\",\"gas\",\"gas\",\"gas\",\"gas\",\"gas\",\"gas\",\"gas\",\"electric\",\"gas\",\"gas\",\"gas\",\"gas\",\"gas\",\"gas\",\"gas\",\"electric\",\"gas\",\"oil\",\"gas\",\"gas\",\"gas\",\"gas\",\"electric\",\"oil\",\"electric\",\"oil\",\"gas\",\"oil\",\"gas\",\"oil\",\"gas\",\"gas\",\"oil\",\"oil\",\"electric\",\"gas\",\"gas\",\"gas\",\"electric\",\"electric\",\"oil\",\"electric\",\"oil\",\"gas\",\"gas\",\"gas\",\"electric\",\"gas\",\"gas\",\"gas\",\"oil\",\"gas\",\"gas\",\"gas\",\"oil\",\"gas\",\"gas\",\"electric\",\"gas\",\"gas\",\"gas\",\"gas\",\"gas\",\"gas\",\"electric\",\"oil\",\"gas\",\"gas\",\"gas\",\"gas\",\"gas\",\"gas\",\"gas\",\"gas\",\"gas\",\"gas\",\"gas\",\"gas\",\"gas\",\"electric\",\"gas\",\"electric\",\"gas\",\"gas\",\"gas\",\"oil\",\"gas\",\"gas\",\"oil\",\"gas\",\"gas\",\"gas\",\"electric\",\"gas\",\"electric\",\"electric\",\"oil\",\"electric\",\"electric\",\"electric\",\"gas\",\"electric\",\"electric\",\"electric\",\"electric\",\"gas\",\"gas\",\"gas\",\"electric\",\"electric\",\"gas\",\"gas\",\"electric\",\"gas\",\"gas\",\"electric\",\"gas\",\"gas\",\"gas\",\"gas\",\"gas\",\"gas\",\"gas\",\"electric\",\"gas\",\"electric\",\"gas\",\"electric\",\"gas\",\"oil\",\"gas\",\"gas\",\"gas\",\"electric\",\"oil\",\"gas\",\"electric\",\"oil\",\"electric\",\"oil\",\"gas\",\"gas\",\"gas\",\"gas\",\"electric\",\"electric\",\"oil\",\"electric\",\"gas\",\"gas\",\"gas\",\"electric\",\"gas\",\"electric\",\"gas\",\"gas\",\"gas\",\"gas\",\"electric\",\"electric\",\"gas\",\"gas\",\"gas\",\"gas\",\"gas\",\"electric\",\"electric\",\"gas\",\"oil\",\"gas\",\"gas\",\"electric\",\"electric\",\"electric\",\"electric\",\"gas\",\"gas\",\"gas\",\"gas\",\"electric\",\"electric\",\"gas\",\"gas\",\"gas\",\"gas\",\"electric\",\"gas\",\"oil\",\"gas\",\"electric\",\"electric\",\"gas\",\"gas\",\"electric\",\"electric\",\"gas\",\"electric\",\"electric\",\"electric\",\"gas\",\"electric\",\"electric\",\"gas\",\"oil\",\"oil\",\"gas\",\"gas\",\"gas\",\"oil\",\"gas\",\"gas\",\"gas\",\"gas\",\"electric\",\"oil\",\"gas\",\"electric\",\"electric\",\"gas\",\"electric\",\"gas\",\"gas\",\"oil\",\"gas\",\"gas\",\"gas\",\"electric\",\"gas\",\"electric\",\"electric\",\"gas\",\"gas\",\"gas\",\"gas\",\"electric\",\"gas\",\"gas\",\"gas\",\"gas\",\"gas\",\"gas\",\"gas\",\"gas\",\"gas\",\"gas\",\"gas\",\"gas\",\"gas\",\"gas\",\"gas\",\"gas\",\"gas\",\"gas\",\"gas\",\"gas\",\"gas\",\"oil\",\"gas\",\"gas\",\"gas\",\"gas\",\"gas\",\"gas\",\"gas\",\"gas\",\"gas\",\"gas\",\"gas\",\"gas\",\"electric\",\"oil\",\"gas\",\"gas\",\"gas\",\"gas\",\"gas\",\"gas\",\"electric\",\"electric\",\"gas\",\"gas\",\"oil\",\"gas\",\"gas\",\"electric\",\"gas\",\"electric\",\"gas\",\"gas\",\"gas\",\"gas\",\"gas\",\"gas\",\"gas\",\"gas\",\"gas\",\"gas\",\"oil\",\"electric\",\"gas\",\"electric\",\"gas\",\"gas\",\"gas\",\"electric\",\"gas\",\"gas\",\"gas\",\"gas\",\"gas\",\"gas\",\"gas\",\"electric\",\"oil\",\"gas\",\"gas\",\"gas\",\"gas\",\"gas\",\"gas\",\"gas\",\"gas\",\"gas\",\"gas\",\"electric\",\"gas\",\"gas\",\"gas\",\"gas\",\"gas\",\"gas\",\"gas\",\"gas\",\"gas\",\"gas\",\"gas\",\"gas\",\"oil\",\"gas\",\"gas\",\"gas\",\"gas\",\"gas\",\"gas\",\"gas\",\"gas\",\"gas\",\"gas\",\"gas\",\"gas\",\"gas\",\"gas\",\"gas\",\"gas\",\"gas\",\"gas\",\"gas\",\"electric\",\"gas\",\"gas\",\"gas\",\"electric\",\"gas\",\"gas\",\"oil\",\"gas\",\"gas\",\"gas\",\"gas\",\"gas\",\"gas\",\"gas\",\"gas\",\"gas\",\"electric\",\"electric\",\"gas\",\"gas\",\"gas\",\"gas\",\"gas\",\"gas\",\"gas\",\"gas\",\"gas\",\"gas\",\"gas\",\"gas\",\"gas\",\"gas\",\"gas\",\"electric\",\"oil\",\"gas\",\"gas\",\"electric\",\"oil\",\"gas\",\"gas\",\"electric\",\"gas\",\"gas\",\"gas\",\"gas\",\"gas\",\"oil\",\"electric\",\"gas\",\"gas\",\"gas\",\"gas\",\"gas\",\"electric\",\"electric\",\"electric\",\"gas\",\"gas\",\"oil\",\"gas\",\"gas\",\"gas\",\"gas\",\"electric\",\"electric\",\"electric\",\"electric\",\"gas\",\"gas\",\"gas\",\"gas\",\"gas\",\"gas\",\"gas\",\"gas\",\"gas\",\"gas\",\"oil\",\"gas\",\"gas\",\"gas\",\"gas\",\"gas\",\"gas\",\"electric\",\"gas\",\"gas\",\"electric\",\"gas\",\"gas\",\"oil\",\"gas\",\"gas\",\"gas\",\"gas\",\"gas\",\"gas\",\"gas\",\"gas\",\"gas\"],\"xaxis\":\"x\",\"yaxis\":\"y\",\"type\":\"histogram\"}],                        {\"template\":{\"data\":{\"pie\":[{\"automargin\":true,\"type\":\"pie\"}]},\"layout\":{\"xaxis\":{\"showgrid\":true,\"title\":{\"standoff\":15}},\"yaxis\":{\"showgrid\":true,\"title\":{\"standoff\":15}}}},\"xaxis\":{\"anchor\":\"y\",\"domain\":[0.0,1.0],\"title\":{\"text\":\"consumo_calefacion\"}},\"yaxis\":{\"anchor\":\"x\",\"domain\":[0.0,1.0],\"title\":{\"text\":\"count\"}},\"legend\":{\"tracegroupgap\":0},\"title\":{\"text\":\"Consumo Calefaccion\"},\"barmode\":\"relative\"},                        {\"responsive\": true}                    ).then(function(){\n",
              "                            \n",
              "var gd = document.getElementById('bb56c809-c982-4038-bcaf-83333b71066d');\n",
              "var x = new MutationObserver(function (mutations, observer) {{\n",
              "        var display = window.getComputedStyle(gd).display;\n",
              "        if (!display || display === 'none') {{\n",
              "            console.log([gd, 'removed!']);\n",
              "            Plotly.purge(gd);\n",
              "            observer.disconnect();\n",
              "        }}\n",
              "}});\n",
              "\n",
              "// Listen for the removal of the full notebook cells\n",
              "var notebookContainer = gd.closest('#notebook-container');\n",
              "if (notebookContainer) {{\n",
              "    x.observe(notebookContainer, {childList: true});\n",
              "}}\n",
              "\n",
              "// Listen for the clearing of the current output cell\n",
              "var outputEl = gd.closest('.output');\n",
              "if (outputEl) {{\n",
              "    x.observe(outputEl, {childList: true});\n",
              "}}\n",
              "\n",
              "                        })                };            </script>        </div>\n",
              "</body>\n",
              "</html>"
            ]
          },
          "metadata": {}
        }
      ]
    },
    {
      "cell_type": "code",
      "metadata": {
        "colab": {
          "base_uri": "https://localhost:8080/",
          "height": 542
        },
        "id": "HsVHC9ri654X",
        "outputId": "e0f42c1a-bd14-42a8-83c8-50f80bdbbbc9"
      },
      "source": [
        "fig = px.histogram(datos,\n",
        "                   x = datos.desague,\n",
        "                   title=\"Desague\",\n",
        "                   template=\"gridon\")\n",
        "fig.show()"
      ],
      "execution_count": 35,
      "outputs": [
        {
          "output_type": "display_data",
          "data": {
            "text/html": [
              "<html>\n",
              "<head><meta charset=\"utf-8\" /></head>\n",
              "<body>\n",
              "    <div>            <script src=\"https://cdnjs.cloudflare.com/ajax/libs/mathjax/2.7.5/MathJax.js?config=TeX-AMS-MML_SVG\"></script><script type=\"text/javascript\">if (window.MathJax && window.MathJax.Hub && window.MathJax.Hub.Config) {window.MathJax.Hub.Config({SVG: {font: \"STIX-Web\"}});}</script>                <script type=\"text/javascript\">window.PlotlyConfig = {MathJaxConfig: 'local'};</script>\n",
              "        <script charset=\"utf-8\" src=\"https://cdn.plot.ly/plotly-3.0.1.min.js\"></script>                <div id=\"99fee5aa-deb1-4bfc-b301-865777d0e7d0\" class=\"plotly-graph-div\" style=\"height:525px; width:100%;\"></div>            <script type=\"text/javascript\">                window.PLOTLYENV=window.PLOTLYENV || {};                                if (document.getElementById(\"99fee5aa-deb1-4bfc-b301-865777d0e7d0\")) {                    Plotly.newPlot(                        \"99fee5aa-deb1-4bfc-b301-865777d0e7d0\",                        [{\"bingroup\":\"x\",\"hovertemplate\":\"desague=%{x}\\u003cbr\\u003ecount=%{y}\\u003cextra\\u003e\\u003c\\u002fextra\\u003e\",\"legendgroup\":\"\",\"marker\":{\"color\":\"#1F77B4\",\"pattern\":{\"shape\":\"\"}},\"name\":\"\",\"orientation\":\"v\",\"showlegend\":false,\"x\":[\"septic\",\"septic\",\"public\\u002fcommercial\",\"septic\",\"public\\u002fcommercial\",\"septic\",\"septic\",\"septic\",\"septic\",\"none\",\"septic\",\"septic\",\"septic\",\"public\\u002fcommercial\",\"septic\",\"public\\u002fcommercial\",\"septic\",\"none\",\"septic\",\"septic\",\"septic\",\"public\\u002fcommercial\",\"septic\",\"septic\",\"public\\u002fcommercial\",\"septic\",\"septic\",\"septic\",\"public\\u002fcommercial\",\"septic\",\"septic\",\"septic\",\"public\\u002fcommercial\",\"septic\",\"septic\",\"septic\",\"none\",\"septic\",\"septic\",\"none\",\"septic\",\"septic\",\"septic\",\"public\\u002fcommercial\",\"septic\",\"none\",\"septic\",\"septic\",\"septic\",\"septic\",\"public\\u002fcommercial\",\"public\\u002fcommercial\",\"septic\",\"septic\",\"public\\u002fcommercial\",\"public\\u002fcommercial\",\"public\\u002fcommercial\",\"public\\u002fcommercial\",\"public\\u002fcommercial\",\"septic\",\"public\\u002fcommercial\",\"public\\u002fcommercial\",\"public\\u002fcommercial\",\"public\\u002fcommercial\",\"septic\",\"public\\u002fcommercial\",\"septic\",\"public\\u002fcommercial\",\"septic\",\"public\\u002fcommercial\",\"public\\u002fcommercial\",\"public\\u002fcommercial\",\"public\\u002fcommercial\",\"public\\u002fcommercial\",\"septic\",\"public\\u002fcommercial\",\"public\\u002fcommercial\",\"septic\",\"public\\u002fcommercial\",\"septic\",\"public\\u002fcommercial\",\"public\\u002fcommercial\",\"public\\u002fcommercial\",\"public\\u002fcommercial\",\"septic\",\"septic\",\"septic\",\"septic\",\"septic\",\"septic\",\"none\",\"septic\",\"septic\",\"septic\",\"septic\",\"septic\",\"septic\",\"septic\",\"septic\",\"public\\u002fcommercial\",\"septic\",\"septic\",\"septic\",\"septic\",\"septic\",\"septic\",\"septic\",\"septic\",\"septic\",\"public\\u002fcommercial\",\"septic\",\"septic\",\"septic\",\"public\\u002fcommercial\",\"septic\",\"septic\",\"septic\",\"septic\",\"septic\",\"septic\",\"septic\",\"septic\",\"septic\",\"public\\u002fcommercial\",\"septic\",\"septic\",\"septic\",\"septic\",\"septic\",\"public\\u002fcommercial\",\"public\\u002fcommercial\",\"septic\",\"septic\",\"none\",\"public\\u002fcommercial\",\"septic\",\"septic\",\"septic\",\"septic\",\"septic\",\"septic\",\"public\\u002fcommercial\",\"public\\u002fcommercial\",\"public\\u002fcommercial\",\"public\\u002fcommercial\",\"public\\u002fcommercial\",\"septic\",\"public\\u002fcommercial\",\"public\\u002fcommercial\",\"public\\u002fcommercial\",\"public\\u002fcommercial\",\"public\\u002fcommercial\",\"public\\u002fcommercial\",\"public\\u002fcommercial\",\"public\\u002fcommercial\",\"public\\u002fcommercial\",\"public\\u002fcommercial\",\"septic\",\"public\\u002fcommercial\",\"public\\u002fcommercial\",\"septic\",\"public\\u002fcommercial\",\"public\\u002fcommercial\",\"public\\u002fcommercial\",\"septic\",\"public\\u002fcommercial\",\"public\\u002fcommercial\",\"public\\u002fcommercial\",\"public\\u002fcommercial\",\"public\\u002fcommercial\",\"public\\u002fcommercial\",\"public\\u002fcommercial\",\"public\\u002fcommercial\",\"public\\u002fcommercial\",\"public\\u002fcommercial\",\"public\\u002fcommercial\",\"public\\u002fcommercial\",\"septic\",\"public\\u002fcommercial\",\"public\\u002fcommercial\",\"septic\",\"public\\u002fcommercial\",\"public\\u002fcommercial\",\"septic\",\"septic\",\"public\\u002fcommercial\",\"public\\u002fcommercial\",\"septic\",\"public\\u002fcommercial\",\"public\\u002fcommercial\",\"septic\",\"public\\u002fcommercial\",\"septic\",\"public\\u002fcommercial\",\"public\\u002fcommercial\",\"public\\u002fcommercial\",\"septic\",\"septic\",\"public\\u002fcommercial\",\"public\\u002fcommercial\",\"public\\u002fcommercial\",\"public\\u002fcommercial\",\"public\\u002fcommercial\",\"public\\u002fcommercial\",\"public\\u002fcommercial\",\"public\\u002fcommercial\",\"public\\u002fcommercial\",\"public\\u002fcommercial\",\"public\\u002fcommercial\",\"public\\u002fcommercial\",\"septic\",\"public\\u002fcommercial\",\"public\\u002fcommercial\",\"public\\u002fcommercial\",\"public\\u002fcommercial\",\"public\\u002fcommercial\",\"public\\u002fcommercial\",\"septic\",\"public\\u002fcommercial\",\"septic\",\"public\\u002fcommercial\",\"public\\u002fcommercial\",\"public\\u002fcommercial\",\"public\\u002fcommercial\",\"public\\u002fcommercial\",\"public\\u002fcommercial\",\"public\\u002fcommercial\",\"public\\u002fcommercial\",\"public\\u002fcommercial\",\"public\\u002fcommercial\",\"public\\u002fcommercial\",\"public\\u002fcommercial\",\"public\\u002fcommercial\",\"public\\u002fcommercial\",\"public\\u002fcommercial\",\"public\\u002fcommercial\",\"public\\u002fcommercial\",\"public\\u002fcommercial\",\"public\\u002fcommercial\",\"public\\u002fcommercial\",\"public\\u002fcommercial\",\"public\\u002fcommercial\",\"public\\u002fcommercial\",\"septic\",\"public\\u002fcommercial\",\"public\\u002fcommercial\",\"public\\u002fcommercial\",\"septic\",\"public\\u002fcommercial\",\"septic\",\"public\\u002fcommercial\",\"public\\u002fcommercial\",\"public\\u002fcommercial\",\"public\\u002fcommercial\",\"public\\u002fcommercial\",\"septic\",\"public\\u002fcommercial\",\"public\\u002fcommercial\",\"septic\",\"public\\u002fcommercial\",\"public\\u002fcommercial\",\"public\\u002fcommercial\",\"septic\",\"public\\u002fcommercial\",\"public\\u002fcommercial\",\"public\\u002fcommercial\",\"septic\",\"public\\u002fcommercial\",\"public\\u002fcommercial\",\"public\\u002fcommercial\",\"public\\u002fcommercial\",\"public\\u002fcommercial\",\"public\\u002fcommercial\",\"septic\",\"public\\u002fcommercial\",\"public\\u002fcommercial\",\"public\\u002fcommercial\",\"public\\u002fcommercial\",\"public\\u002fcommercial\",\"public\\u002fcommercial\",\"public\\u002fcommercial\",\"public\\u002fcommercial\",\"public\\u002fcommercial\",\"public\\u002fcommercial\",\"public\\u002fcommercial\",\"public\\u002fcommercial\",\"public\\u002fcommercial\",\"public\\u002fcommercial\",\"public\\u002fcommercial\",\"septic\",\"public\\u002fcommercial\",\"public\\u002fcommercial\",\"public\\u002fcommercial\",\"public\\u002fcommercial\",\"public\\u002fcommercial\",\"public\\u002fcommercial\",\"septic\",\"public\\u002fcommercial\",\"public\\u002fcommercial\",\"public\\u002fcommercial\",\"public\\u002fcommercial\",\"septic\",\"public\\u002fcommercial\",\"public\\u002fcommercial\",\"public\\u002fcommercial\",\"public\\u002fcommercial\",\"public\\u002fcommercial\",\"public\\u002fcommercial\",\"public\\u002fcommercial\",\"public\\u002fcommercial\",\"public\\u002fcommercial\",\"public\\u002fcommercial\",\"public\\u002fcommercial\",\"public\\u002fcommercial\",\"public\\u002fcommercial\",\"public\\u002fcommercial\",\"public\\u002fcommercial\",\"public\\u002fcommercial\",\"public\\u002fcommercial\",\"public\\u002fcommercial\",\"public\\u002fcommercial\",\"public\\u002fcommercial\",\"public\\u002fcommercial\",\"public\\u002fcommercial\",\"septic\",\"public\\u002fcommercial\",\"public\\u002fcommercial\",\"public\\u002fcommercial\",\"public\\u002fcommercial\",\"public\\u002fcommercial\",\"public\\u002fcommercial\",\"public\\u002fcommercial\",\"public\\u002fcommercial\",\"public\\u002fcommercial\",\"public\\u002fcommercial\",\"septic\",\"public\\u002fcommercial\",\"public\\u002fcommercial\",\"public\\u002fcommercial\",\"public\\u002fcommercial\",\"public\\u002fcommercial\",\"public\\u002fcommercial\",\"public\\u002fcommercial\",\"septic\",\"public\\u002fcommercial\",\"public\\u002fcommercial\",\"public\\u002fcommercial\",\"septic\",\"public\\u002fcommercial\",\"public\\u002fcommercial\",\"septic\",\"public\\u002fcommercial\",\"septic\",\"public\\u002fcommercial\",\"septic\",\"public\\u002fcommercial\",\"public\\u002fcommercial\",\"public\\u002fcommercial\",\"public\\u002fcommercial\",\"public\\u002fcommercial\",\"public\\u002fcommercial\",\"septic\",\"public\\u002fcommercial\",\"public\\u002fcommercial\",\"public\\u002fcommercial\",\"public\\u002fcommercial\",\"septic\",\"public\\u002fcommercial\",\"public\\u002fcommercial\",\"public\\u002fcommercial\",\"public\\u002fcommercial\",\"public\\u002fcommercial\",\"public\\u002fcommercial\",\"public\\u002fcommercial\",\"public\\u002fcommercial\",\"public\\u002fcommercial\",\"public\\u002fcommercial\",\"public\\u002fcommercial\",\"septic\",\"public\\u002fcommercial\",\"public\\u002fcommercial\",\"public\\u002fcommercial\",\"public\\u002fcommercial\",\"public\\u002fcommercial\",\"septic\",\"public\\u002fcommercial\",\"public\\u002fcommercial\",\"public\\u002fcommercial\",\"public\\u002fcommercial\",\"public\\u002fcommercial\",\"public\\u002fcommercial\",\"septic\",\"septic\",\"public\\u002fcommercial\",\"public\\u002fcommercial\",\"septic\",\"public\\u002fcommercial\",\"public\\u002fcommercial\",\"public\\u002fcommercial\",\"septic\",\"septic\",\"public\\u002fcommercial\",\"septic\",\"public\\u002fcommercial\",\"public\\u002fcommercial\",\"public\\u002fcommercial\",\"public\\u002fcommercial\",\"public\\u002fcommercial\",\"public\\u002fcommercial\",\"septic\",\"public\\u002fcommercial\",\"septic\",\"public\\u002fcommercial\",\"public\\u002fcommercial\",\"public\\u002fcommercial\",\"public\\u002fcommercial\",\"public\\u002fcommercial\",\"public\\u002fcommercial\",\"septic\",\"septic\",\"public\\u002fcommercial\",\"septic\",\"public\\u002fcommercial\",\"septic\",\"public\\u002fcommercial\",\"public\\u002fcommercial\",\"public\\u002fcommercial\",\"septic\",\"septic\",\"septic\",\"septic\",\"public\\u002fcommercial\",\"septic\",\"public\\u002fcommercial\",\"septic\",\"septic\",\"public\\u002fcommercial\",\"septic\",\"public\\u002fcommercial\",\"public\\u002fcommercial\",\"septic\",\"septic\",\"septic\",\"septic\",\"septic\",\"septic\",\"septic\",\"septic\",\"septic\",\"public\\u002fcommercial\",\"public\\u002fcommercial\",\"public\\u002fcommercial\",\"public\\u002fcommercial\",\"public\\u002fcommercial\",\"public\\u002fcommercial\",\"public\\u002fcommercial\",\"septic\",\"septic\",\"septic\",\"public\\u002fcommercial\",\"septic\",\"public\\u002fcommercial\",\"septic\",\"septic\",\"septic\",\"septic\",\"septic\",\"septic\",\"septic\",\"septic\",\"septic\",\"septic\",\"public\\u002fcommercial\",\"public\\u002fcommercial\",\"septic\",\"public\\u002fcommercial\",\"public\\u002fcommercial\",\"public\\u002fcommercial\",\"public\\u002fcommercial\",\"public\\u002fcommercial\",\"public\\u002fcommercial\",\"septic\",\"septic\",\"septic\",\"septic\",\"septic\",\"septic\",\"septic\",\"public\\u002fcommercial\",\"public\\u002fcommercial\",\"septic\",\"septic\",\"septic\",\"septic\",\"septic\",\"septic\",\"septic\",\"none\",\"public\\u002fcommercial\",\"septic\",\"septic\",\"septic\",\"public\\u002fcommercial\",\"public\\u002fcommercial\",\"public\\u002fcommercial\",\"public\\u002fcommercial\",\"septic\",\"public\\u002fcommercial\",\"public\\u002fcommercial\",\"public\\u002fcommercial\",\"public\\u002fcommercial\",\"public\\u002fcommercial\",\"public\\u002fcommercial\",\"septic\",\"public\\u002fcommercial\",\"public\\u002fcommercial\",\"public\\u002fcommercial\",\"public\\u002fcommercial\",\"septic\",\"public\\u002fcommercial\",\"public\\u002fcommercial\",\"septic\",\"septic\",\"septic\",\"septic\",\"septic\",\"septic\",\"septic\",\"septic\",\"septic\",\"septic\",\"public\\u002fcommercial\",\"public\\u002fcommercial\",\"public\\u002fcommercial\",\"public\\u002fcommercial\",\"public\\u002fcommercial\",\"public\\u002fcommercial\",\"public\\u002fcommercial\",\"public\\u002fcommercial\",\"septic\",\"public\\u002fcommercial\",\"public\\u002fcommercial\",\"public\\u002fcommercial\",\"public\\u002fcommercial\",\"public\\u002fcommercial\",\"public\\u002fcommercial\",\"public\\u002fcommercial\",\"public\\u002fcommercial\",\"public\\u002fcommercial\",\"public\\u002fcommercial\",\"public\\u002fcommercial\",\"public\\u002fcommercial\",\"public\\u002fcommercial\",\"public\\u002fcommercial\",\"public\\u002fcommercial\",\"public\\u002fcommercial\",\"public\\u002fcommercial\",\"public\\u002fcommercial\",\"public\\u002fcommercial\",\"public\\u002fcommercial\",\"public\\u002fcommercial\",\"public\\u002fcommercial\",\"public\\u002fcommercial\",\"none\",\"public\\u002fcommercial\",\"public\\u002fcommercial\",\"public\\u002fcommercial\",\"public\\u002fcommercial\",\"public\\u002fcommercial\",\"septic\",\"septic\",\"public\\u002fcommercial\",\"public\\u002fcommercial\",\"public\\u002fcommercial\",\"public\\u002fcommercial\",\"public\\u002fcommercial\",\"public\\u002fcommercial\",\"public\\u002fcommercial\",\"public\\u002fcommercial\",\"public\\u002fcommercial\",\"public\\u002fcommercial\",\"public\\u002fcommercial\",\"public\\u002fcommercial\",\"public\\u002fcommercial\",\"public\\u002fcommercial\",\"public\\u002fcommercial\",\"public\\u002fcommercial\",\"septic\",\"public\\u002fcommercial\",\"public\\u002fcommercial\",\"septic\",\"public\\u002fcommercial\",\"public\\u002fcommercial\",\"public\\u002fcommercial\",\"public\\u002fcommercial\",\"public\\u002fcommercial\",\"public\\u002fcommercial\",\"public\\u002fcommercial\",\"public\\u002fcommercial\",\"public\\u002fcommercial\",\"public\\u002fcommercial\",\"public\\u002fcommercial\",\"public\\u002fcommercial\",\"public\\u002fcommercial\",\"public\\u002fcommercial\",\"public\\u002fcommercial\",\"public\\u002fcommercial\",\"public\\u002fcommercial\",\"public\\u002fcommercial\",\"public\\u002fcommercial\",\"public\\u002fcommercial\",\"septic\",\"public\\u002fcommercial\",\"public\\u002fcommercial\",\"public\\u002fcommercial\",\"public\\u002fcommercial\",\"public\\u002fcommercial\",\"public\\u002fcommercial\",\"public\\u002fcommercial\",\"public\\u002fcommercial\",\"public\\u002fcommercial\",\"public\\u002fcommercial\",\"public\\u002fcommercial\",\"public\\u002fcommercial\",\"public\\u002fcommercial\",\"septic\",\"public\\u002fcommercial\",\"septic\",\"public\\u002fcommercial\",\"public\\u002fcommercial\",\"public\\u002fcommercial\",\"public\\u002fcommercial\",\"public\\u002fcommercial\",\"public\\u002fcommercial\",\"public\\u002fcommercial\",\"public\\u002fcommercial\",\"septic\",\"public\\u002fcommercial\",\"public\\u002fcommercial\",\"public\\u002fcommercial\",\"public\\u002fcommercial\",\"septic\",\"public\\u002fcommercial\",\"public\\u002fcommercial\",\"public\\u002fcommercial\",\"public\\u002fcommercial\",\"public\\u002fcommercial\",\"public\\u002fcommercial\",\"public\\u002fcommercial\",\"public\\u002fcommercial\",\"public\\u002fcommercial\",\"public\\u002fcommercial\",\"public\\u002fcommercial\",\"public\\u002fcommercial\",\"public\\u002fcommercial\",\"public\\u002fcommercial\",\"public\\u002fcommercial\",\"public\\u002fcommercial\",\"public\\u002fcommercial\",\"public\\u002fcommercial\",\"public\\u002fcommercial\",\"public\\u002fcommercial\",\"public\\u002fcommercial\",\"public\\u002fcommercial\",\"septic\",\"public\\u002fcommercial\",\"public\\u002fcommercial\",\"public\\u002fcommercial\",\"public\\u002fcommercial\",\"public\\u002fcommercial\",\"public\\u002fcommercial\",\"public\\u002fcommercial\",\"public\\u002fcommercial\",\"public\\u002fcommercial\",\"public\\u002fcommercial\",\"public\\u002fcommercial\",\"public\\u002fcommercial\",\"septic\",\"public\\u002fcommercial\",\"public\\u002fcommercial\",\"public\\u002fcommercial\",\"public\\u002fcommercial\",\"public\\u002fcommercial\",\"public\\u002fcommercial\",\"septic\",\"public\\u002fcommercial\",\"public\\u002fcommercial\",\"public\\u002fcommercial\",\"public\\u002fcommercial\",\"public\\u002fcommercial\",\"public\\u002fcommercial\",\"public\\u002fcommercial\",\"public\\u002fcommercial\",\"public\\u002fcommercial\",\"public\\u002fcommercial\",\"public\\u002fcommercial\",\"public\\u002fcommercial\",\"public\\u002fcommercial\",\"public\\u002fcommercial\",\"public\\u002fcommercial\",\"public\\u002fcommercial\",\"septic\",\"public\\u002fcommercial\",\"public\\u002fcommercial\",\"septic\",\"public\\u002fcommercial\",\"public\\u002fcommercial\",\"public\\u002fcommercial\",\"public\\u002fcommercial\",\"public\\u002fcommercial\",\"public\\u002fcommercial\",\"septic\",\"public\\u002fcommercial\",\"public\\u002fcommercial\",\"public\\u002fcommercial\",\"public\\u002fcommercial\",\"public\\u002fcommercial\",\"public\\u002fcommercial\",\"public\\u002fcommercial\",\"public\\u002fcommercial\",\"public\\u002fcommercial\",\"public\\u002fcommercial\",\"septic\",\"public\\u002fcommercial\",\"public\\u002fcommercial\",\"septic\",\"public\\u002fcommercial\",\"public\\u002fcommercial\",\"septic\",\"septic\",\"public\\u002fcommercial\",\"public\\u002fcommercial\",\"septic\",\"public\\u002fcommercial\",\"public\\u002fcommercial\",\"public\\u002fcommercial\",\"public\\u002fcommercial\",\"septic\",\"public\\u002fcommercial\",\"septic\",\"septic\",\"septic\",\"septic\",\"septic\",\"septic\",\"septic\",\"septic\",\"septic\",\"public\\u002fcommercial\",\"septic\",\"public\\u002fcommercial\",\"septic\",\"septic\",\"septic\",\"public\\u002fcommercial\",\"septic\",\"septic\",\"septic\",\"septic\",\"septic\",\"septic\",\"septic\",\"septic\",\"public\\u002fcommercial\",\"septic\",\"public\\u002fcommercial\",\"public\\u002fcommercial\",\"public\\u002fcommercial\",\"public\\u002fcommercial\",\"septic\",\"public\\u002fcommercial\",\"public\\u002fcommercial\",\"septic\",\"public\\u002fcommercial\",\"septic\",\"septic\",\"public\\u002fcommercial\",\"septic\",\"public\\u002fcommercial\",\"public\\u002fcommercial\",\"septic\",\"septic\",\"septic\",\"septic\",\"public\\u002fcommercial\",\"septic\",\"septic\",\"septic\",\"septic\",\"public\\u002fcommercial\",\"public\\u002fcommercial\",\"septic\",\"septic\",\"public\\u002fcommercial\",\"public\\u002fcommercial\",\"public\\u002fcommercial\",\"public\\u002fcommercial\",\"public\\u002fcommercial\",\"public\\u002fcommercial\",\"public\\u002fcommercial\",\"public\\u002fcommercial\",\"public\\u002fcommercial\",\"public\\u002fcommercial\",\"public\\u002fcommercial\",\"public\\u002fcommercial\",\"public\\u002fcommercial\",\"public\\u002fcommercial\",\"public\\u002fcommercial\",\"public\\u002fcommercial\",\"public\\u002fcommercial\",\"public\\u002fcommercial\",\"public\\u002fcommercial\",\"septic\",\"public\\u002fcommercial\",\"public\\u002fcommercial\",\"public\\u002fcommercial\",\"septic\",\"public\\u002fcommercial\",\"public\\u002fcommercial\",\"septic\",\"public\\u002fcommercial\",\"public\\u002fcommercial\",\"public\\u002fcommercial\",\"public\\u002fcommercial\",\"public\\u002fcommercial\",\"public\\u002fcommercial\",\"public\\u002fcommercial\",\"septic\",\"public\\u002fcommercial\",\"public\\u002fcommercial\",\"public\\u002fcommercial\",\"septic\",\"public\\u002fcommercial\",\"public\\u002fcommercial\",\"public\\u002fcommercial\",\"public\\u002fcommercial\",\"public\\u002fcommercial\",\"public\\u002fcommercial\",\"public\\u002fcommercial\",\"public\\u002fcommercial\",\"public\\u002fcommercial\",\"public\\u002fcommercial\",\"public\\u002fcommercial\",\"septic\",\"public\\u002fcommercial\",\"public\\u002fcommercial\",\"public\\u002fcommercial\",\"public\\u002fcommercial\",\"public\\u002fcommercial\",\"public\\u002fcommercial\",\"public\\u002fcommercial\",\"public\\u002fcommercial\",\"public\\u002fcommercial\",\"public\\u002fcommercial\",\"public\\u002fcommercial\",\"public\\u002fcommercial\",\"public\\u002fcommercial\",\"public\\u002fcommercial\",\"public\\u002fcommercial\",\"public\\u002fcommercial\",\"public\\u002fcommercial\",\"septic\",\"public\\u002fcommercial\",\"public\\u002fcommercial\",\"septic\",\"public\\u002fcommercial\",\"septic\",\"public\\u002fcommercial\",\"public\\u002fcommercial\",\"public\\u002fcommercial\",\"public\\u002fcommercial\",\"public\\u002fcommercial\",\"public\\u002fcommercial\",\"public\\u002fcommercial\",\"public\\u002fcommercial\",\"public\\u002fcommercial\",\"public\\u002fcommercial\",\"septic\",\"public\\u002fcommercial\",\"septic\",\"public\\u002fcommercial\",\"public\\u002fcommercial\",\"septic\",\"public\\u002fcommercial\",\"public\\u002fcommercial\",\"public\\u002fcommercial\",\"public\\u002fcommercial\",\"public\\u002fcommercial\",\"septic\",\"septic\",\"public\\u002fcommercial\",\"public\\u002fcommercial\",\"public\\u002fcommercial\",\"public\\u002fcommercial\",\"public\\u002fcommercial\",\"public\\u002fcommercial\",\"public\\u002fcommercial\",\"public\\u002fcommercial\",\"public\\u002fcommercial\",\"public\\u002fcommercial\",\"public\\u002fcommercial\",\"public\\u002fcommercial\",\"public\\u002fcommercial\",\"public\\u002fcommercial\",\"public\\u002fcommercial\",\"public\\u002fcommercial\",\"septic\",\"public\\u002fcommercial\",\"public\\u002fcommercial\",\"septic\",\"public\\u002fcommercial\",\"septic\",\"public\\u002fcommercial\",\"public\\u002fcommercial\",\"public\\u002fcommercial\",\"public\\u002fcommercial\",\"public\\u002fcommercial\",\"public\\u002fcommercial\",\"public\\u002fcommercial\",\"public\\u002fcommercial\",\"public\\u002fcommercial\",\"public\\u002fcommercial\",\"septic\",\"public\\u002fcommercial\",\"septic\",\"public\\u002fcommercial\",\"public\\u002fcommercial\",\"septic\",\"public\\u002fcommercial\",\"public\\u002fcommercial\",\"public\\u002fcommercial\",\"public\\u002fcommercial\",\"public\\u002fcommercial\",\"septic\",\"septic\",\"septic\",\"public\\u002fcommercial\",\"public\\u002fcommercial\",\"public\\u002fcommercial\",\"septic\",\"public\\u002fcommercial\",\"public\\u002fcommercial\",\"public\\u002fcommercial\",\"public\\u002fcommercial\",\"septic\",\"public\\u002fcommercial\",\"public\\u002fcommercial\",\"public\\u002fcommercial\",\"public\\u002fcommercial\",\"public\\u002fcommercial\",\"public\\u002fcommercial\",\"public\\u002fcommercial\",\"public\\u002fcommercial\",\"public\\u002fcommercial\",\"septic\",\"public\\u002fcommercial\",\"public\\u002fcommercial\",\"septic\",\"septic\",\"public\\u002fcommercial\",\"public\\u002fcommercial\",\"septic\",\"public\\u002fcommercial\",\"public\\u002fcommercial\",\"public\\u002fcommercial\",\"public\\u002fcommercial\",\"public\\u002fcommercial\",\"septic\",\"public\\u002fcommercial\",\"public\\u002fcommercial\",\"septic\",\"public\\u002fcommercial\",\"public\\u002fcommercial\",\"public\\u002fcommercial\",\"public\\u002fcommercial\",\"public\\u002fcommercial\",\"public\\u002fcommercial\",\"public\\u002fcommercial\",\"public\\u002fcommercial\",\"public\\u002fcommercial\",\"septic\",\"public\\u002fcommercial\",\"public\\u002fcommercial\",\"public\\u002fcommercial\",\"public\\u002fcommercial\",\"septic\",\"public\\u002fcommercial\",\"septic\",\"public\\u002fcommercial\",\"public\\u002fcommercial\",\"public\\u002fcommercial\",\"public\\u002fcommercial\",\"public\\u002fcommercial\",\"public\\u002fcommercial\",\"public\\u002fcommercial\",\"public\\u002fcommercial\",\"public\\u002fcommercial\",\"public\\u002fcommercial\",\"septic\",\"septic\",\"public\\u002fcommercial\",\"public\\u002fcommercial\",\"public\\u002fcommercial\",\"public\\u002fcommercial\",\"septic\",\"public\\u002fcommercial\",\"public\\u002fcommercial\",\"public\\u002fcommercial\",\"public\\u002fcommercial\",\"septic\",\"public\\u002fcommercial\",\"public\\u002fcommercial\",\"public\\u002fcommercial\",\"public\\u002fcommercial\",\"public\\u002fcommercial\",\"public\\u002fcommercial\",\"public\\u002fcommercial\",\"none\",\"septic\",\"public\\u002fcommercial\",\"public\\u002fcommercial\",\"public\\u002fcommercial\",\"septic\",\"public\\u002fcommercial\",\"public\\u002fcommercial\",\"public\\u002fcommercial\",\"septic\",\"public\\u002fcommercial\",\"public\\u002fcommercial\",\"public\\u002fcommercial\",\"public\\u002fcommercial\",\"septic\",\"septic\",\"public\\u002fcommercial\",\"septic\",\"septic\",\"public\\u002fcommercial\",\"public\\u002fcommercial\",\"public\\u002fcommercial\",\"public\\u002fcommercial\",\"public\\u002fcommercial\",\"public\\u002fcommercial\",\"public\\u002fcommercial\",\"public\\u002fcommercial\",\"septic\",\"public\\u002fcommercial\",\"public\\u002fcommercial\",\"public\\u002fcommercial\",\"public\\u002fcommercial\",\"public\\u002fcommercial\",\"public\\u002fcommercial\",\"public\\u002fcommercial\",\"septic\",\"public\\u002fcommercial\",\"public\\u002fcommercial\",\"public\\u002fcommercial\",\"septic\",\"septic\",\"septic\",\"public\\u002fcommercial\",\"public\\u002fcommercial\",\"public\\u002fcommercial\",\"public\\u002fcommercial\",\"public\\u002fcommercial\",\"public\\u002fcommercial\",\"public\\u002fcommercial\",\"public\\u002fcommercial\",\"public\\u002fcommercial\",\"public\\u002fcommercial\",\"public\\u002fcommercial\",\"public\\u002fcommercial\",\"public\\u002fcommercial\",\"public\\u002fcommercial\",\"public\\u002fcommercial\",\"public\\u002fcommercial\",\"public\\u002fcommercial\",\"public\\u002fcommercial\",\"public\\u002fcommercial\",\"public\\u002fcommercial\",\"public\\u002fcommercial\",\"public\\u002fcommercial\",\"public\\u002fcommercial\",\"public\\u002fcommercial\",\"septic\",\"septic\",\"public\\u002fcommercial\",\"public\\u002fcommercial\",\"septic\",\"public\\u002fcommercial\",\"septic\",\"septic\",\"septic\",\"septic\",\"septic\",\"public\\u002fcommercial\",\"septic\",\"septic\",\"septic\",\"septic\",\"septic\",\"septic\",\"septic\",\"septic\",\"septic\",\"public\\u002fcommercial\",\"public\\u002fcommercial\",\"public\\u002fcommercial\",\"septic\",\"septic\",\"septic\",\"public\\u002fcommercial\",\"septic\",\"septic\",\"septic\",\"septic\",\"septic\",\"septic\",\"public\\u002fcommercial\",\"septic\",\"public\\u002fcommercial\",\"septic\",\"septic\",\"septic\",\"septic\",\"septic\",\"septic\",\"septic\",\"septic\",\"septic\",\"septic\",\"septic\",\"public\\u002fcommercial\",\"septic\",\"public\\u002fcommercial\",\"public\\u002fcommercial\",\"public\\u002fcommercial\",\"septic\",\"septic\",\"public\\u002fcommercial\",\"septic\",\"septic\",\"septic\",\"public\\u002fcommercial\",\"public\\u002fcommercial\",\"public\\u002fcommercial\",\"public\\u002fcommercial\",\"septic\",\"septic\",\"public\\u002fcommercial\",\"septic\",\"septic\",\"septic\",\"public\\u002fcommercial\",\"septic\",\"public\\u002fcommercial\",\"public\\u002fcommercial\",\"public\\u002fcommercial\",\"septic\",\"public\\u002fcommercial\",\"septic\",\"septic\",\"septic\",\"septic\",\"septic\",\"septic\",\"septic\",\"septic\",\"public\\u002fcommercial\",\"septic\",\"public\\u002fcommercial\",\"septic\",\"septic\",\"septic\",\"septic\",\"public\\u002fcommercial\",\"public\\u002fcommercial\",\"public\\u002fcommercial\",\"septic\",\"public\\u002fcommercial\",\"septic\",\"none\",\"septic\",\"septic\",\"septic\",\"septic\",\"septic\",\"septic\",\"septic\",\"public\\u002fcommercial\",\"public\\u002fcommercial\",\"public\\u002fcommercial\",\"public\\u002fcommercial\",\"public\\u002fcommercial\",\"public\\u002fcommercial\",\"public\\u002fcommercial\",\"public\\u002fcommercial\",\"public\\u002fcommercial\",\"public\\u002fcommercial\",\"septic\",\"public\\u002fcommercial\",\"public\\u002fcommercial\",\"public\\u002fcommercial\",\"public\\u002fcommercial\",\"public\\u002fcommercial\",\"public\\u002fcommercial\",\"public\\u002fcommercial\",\"public\\u002fcommercial\",\"public\\u002fcommercial\",\"public\\u002fcommercial\",\"public\\u002fcommercial\",\"public\\u002fcommercial\",\"public\\u002fcommercial\",\"public\\u002fcommercial\",\"public\\u002fcommercial\",\"public\\u002fcommercial\",\"public\\u002fcommercial\",\"public\\u002fcommercial\",\"public\\u002fcommercial\",\"public\\u002fcommercial\",\"public\\u002fcommercial\",\"public\\u002fcommercial\",\"public\\u002fcommercial\",\"septic\",\"public\\u002fcommercial\",\"public\\u002fcommercial\",\"public\\u002fcommercial\",\"public\\u002fcommercial\",\"public\\u002fcommercial\",\"public\\u002fcommercial\",\"public\\u002fcommercial\",\"public\\u002fcommercial\",\"public\\u002fcommercial\",\"public\\u002fcommercial\",\"public\\u002fcommercial\",\"public\\u002fcommercial\",\"public\\u002fcommercial\",\"public\\u002fcommercial\",\"public\\u002fcommercial\",\"public\\u002fcommercial\",\"public\\u002fcommercial\",\"public\\u002fcommercial\",\"public\\u002fcommercial\",\"public\\u002fcommercial\",\"public\\u002fcommercial\",\"public\\u002fcommercial\",\"public\\u002fcommercial\",\"public\\u002fcommercial\",\"public\\u002fcommercial\",\"septic\",\"public\\u002fcommercial\",\"public\\u002fcommercial\",\"septic\",\"septic\",\"none\",\"public\\u002fcommercial\",\"public\\u002fcommercial\",\"public\\u002fcommercial\",\"public\\u002fcommercial\",\"public\\u002fcommercial\",\"public\\u002fcommercial\",\"public\\u002fcommercial\",\"public\\u002fcommercial\",\"septic\",\"public\\u002fcommercial\",\"public\\u002fcommercial\",\"public\\u002fcommercial\",\"public\\u002fcommercial\",\"public\\u002fcommercial\",\"public\\u002fcommercial\",\"septic\",\"public\\u002fcommercial\",\"public\\u002fcommercial\",\"public\\u002fcommercial\",\"public\\u002fcommercial\",\"public\\u002fcommercial\",\"public\\u002fcommercial\",\"public\\u002fcommercial\",\"public\\u002fcommercial\",\"public\\u002fcommercial\",\"public\\u002fcommercial\",\"public\\u002fcommercial\",\"public\\u002fcommercial\",\"public\\u002fcommercial\",\"septic\",\"public\\u002fcommercial\",\"septic\",\"septic\",\"septic\",\"public\\u002fcommercial\",\"septic\",\"public\\u002fcommercial\",\"septic\",\"septic\",\"septic\",\"septic\",\"septic\",\"septic\",\"septic\",\"septic\",\"septic\",\"septic\",\"septic\",\"septic\",\"septic\",\"septic\",\"septic\",\"septic\",\"septic\",\"septic\",\"septic\",\"septic\",\"septic\",\"public\\u002fcommercial\",\"public\\u002fcommercial\",\"public\\u002fcommercial\",\"public\\u002fcommercial\",\"public\\u002fcommercial\",\"public\\u002fcommercial\",\"public\\u002fcommercial\",\"septic\",\"public\\u002fcommercial\",\"public\\u002fcommercial\",\"public\\u002fcommercial\",\"septic\",\"public\\u002fcommercial\",\"public\\u002fcommercial\",\"public\\u002fcommercial\",\"public\\u002fcommercial\",\"public\\u002fcommercial\",\"public\\u002fcommercial\",\"public\\u002fcommercial\",\"public\\u002fcommercial\",\"public\\u002fcommercial\",\"public\\u002fcommercial\",\"public\\u002fcommercial\",\"public\\u002fcommercial\",\"public\\u002fcommercial\",\"public\\u002fcommercial\",\"public\\u002fcommercial\",\"public\\u002fcommercial\",\"public\\u002fcommercial\",\"public\\u002fcommercial\",\"public\\u002fcommercial\",\"public\\u002fcommercial\",\"public\\u002fcommercial\",\"public\\u002fcommercial\",\"public\\u002fcommercial\",\"public\\u002fcommercial\",\"public\\u002fcommercial\",\"public\\u002fcommercial\",\"public\\u002fcommercial\",\"public\\u002fcommercial\",\"public\\u002fcommercial\",\"public\\u002fcommercial\",\"septic\",\"public\\u002fcommercial\",\"public\\u002fcommercial\",\"septic\",\"public\\u002fcommercial\",\"public\\u002fcommercial\",\"public\\u002fcommercial\",\"public\\u002fcommercial\",\"public\\u002fcommercial\",\"public\\u002fcommercial\",\"public\\u002fcommercial\",\"public\\u002fcommercial\",\"public\\u002fcommercial\",\"public\\u002fcommercial\",\"public\\u002fcommercial\",\"septic\",\"public\\u002fcommercial\",\"public\\u002fcommercial\",\"public\\u002fcommercial\",\"public\\u002fcommercial\",\"public\\u002fcommercial\",\"public\\u002fcommercial\",\"septic\",\"public\\u002fcommercial\",\"public\\u002fcommercial\",\"septic\",\"public\\u002fcommercial\",\"public\\u002fcommercial\",\"public\\u002fcommercial\",\"septic\",\"public\\u002fcommercial\",\"septic\",\"public\\u002fcommercial\",\"septic\",\"public\\u002fcommercial\",\"septic\",\"public\\u002fcommercial\",\"public\\u002fcommercial\",\"public\\u002fcommercial\",\"septic\",\"public\\u002fcommercial\",\"septic\",\"public\\u002fcommercial\",\"public\\u002fcommercial\",\"public\\u002fcommercial\",\"public\\u002fcommercial\",\"septic\",\"public\\u002fcommercial\",\"public\\u002fcommercial\",\"septic\",\"public\\u002fcommercial\",\"septic\",\"septic\",\"septic\",\"septic\",\"public\\u002fcommercial\",\"septic\",\"septic\",\"septic\",\"public\\u002fcommercial\",\"public\\u002fcommercial\",\"public\\u002fcommercial\",\"public\\u002fcommercial\",\"septic\",\"septic\",\"septic\",\"public\\u002fcommercial\",\"public\\u002fcommercial\",\"public\\u002fcommercial\",\"public\\u002fcommercial\",\"public\\u002fcommercial\",\"public\\u002fcommercial\",\"public\\u002fcommercial\",\"public\\u002fcommercial\",\"public\\u002fcommercial\",\"septic\",\"public\\u002fcommercial\",\"public\\u002fcommercial\",\"public\\u002fcommercial\",\"public\\u002fcommercial\",\"public\\u002fcommercial\",\"public\\u002fcommercial\",\"public\\u002fcommercial\",\"septic\",\"public\\u002fcommercial\",\"public\\u002fcommercial\",\"public\\u002fcommercial\",\"public\\u002fcommercial\",\"public\\u002fcommercial\",\"public\\u002fcommercial\",\"public\\u002fcommercial\",\"public\\u002fcommercial\",\"public\\u002fcommercial\",\"public\\u002fcommercial\",\"septic\",\"public\\u002fcommercial\",\"public\\u002fcommercial\",\"public\\u002fcommercial\",\"public\\u002fcommercial\",\"public\\u002fcommercial\",\"public\\u002fcommercial\",\"public\\u002fcommercial\",\"public\\u002fcommercial\",\"septic\",\"public\\u002fcommercial\",\"public\\u002fcommercial\",\"public\\u002fcommercial\",\"public\\u002fcommercial\",\"public\\u002fcommercial\",\"public\\u002fcommercial\",\"public\\u002fcommercial\",\"public\\u002fcommercial\",\"public\\u002fcommercial\",\"public\\u002fcommercial\",\"public\\u002fcommercial\",\"public\\u002fcommercial\",\"public\\u002fcommercial\",\"public\\u002fcommercial\",\"septic\",\"septic\",\"septic\",\"public\\u002fcommercial\",\"septic\",\"septic\",\"septic\",\"septic\",\"septic\",\"septic\",\"public\\u002fcommercial\",\"public\\u002fcommercial\",\"septic\",\"public\\u002fcommercial\",\"public\\u002fcommercial\",\"septic\",\"public\\u002fcommercial\",\"public\\u002fcommercial\",\"public\\u002fcommercial\",\"public\\u002fcommercial\",\"public\\u002fcommercial\",\"public\\u002fcommercial\",\"public\\u002fcommercial\",\"public\\u002fcommercial\",\"septic\",\"public\\u002fcommercial\",\"public\\u002fcommercial\",\"public\\u002fcommercial\",\"public\\u002fcommercial\",\"public\\u002fcommercial\",\"public\\u002fcommercial\",\"public\\u002fcommercial\",\"public\\u002fcommercial\",\"septic\",\"public\\u002fcommercial\",\"septic\",\"public\\u002fcommercial\",\"public\\u002fcommercial\",\"public\\u002fcommercial\",\"public\\u002fcommercial\",\"public\\u002fcommercial\",\"public\\u002fcommercial\",\"public\\u002fcommercial\",\"public\\u002fcommercial\",\"septic\",\"public\\u002fcommercial\",\"public\\u002fcommercial\",\"public\\u002fcommercial\",\"public\\u002fcommercial\",\"public\\u002fcommercial\",\"public\\u002fcommercial\",\"public\\u002fcommercial\",\"public\\u002fcommercial\",\"septic\",\"public\\u002fcommercial\",\"public\\u002fcommercial\",\"public\\u002fcommercial\",\"public\\u002fcommercial\",\"public\\u002fcommercial\",\"public\\u002fcommercial\",\"public\\u002fcommercial\",\"septic\",\"public\\u002fcommercial\",\"septic\",\"public\\u002fcommercial\",\"public\\u002fcommercial\",\"public\\u002fcommercial\",\"septic\",\"public\\u002fcommercial\",\"public\\u002fcommercial\",\"public\\u002fcommercial\",\"public\\u002fcommercial\",\"public\\u002fcommercial\",\"public\\u002fcommercial\",\"public\\u002fcommercial\",\"public\\u002fcommercial\",\"public\\u002fcommercial\",\"public\\u002fcommercial\",\"public\\u002fcommercial\",\"public\\u002fcommercial\",\"public\\u002fcommercial\",\"public\\u002fcommercial\",\"public\\u002fcommercial\",\"public\\u002fcommercial\",\"public\\u002fcommercial\",\"septic\",\"public\\u002fcommercial\",\"public\\u002fcommercial\",\"public\\u002fcommercial\",\"public\\u002fcommercial\",\"public\\u002fcommercial\",\"public\\u002fcommercial\",\"public\\u002fcommercial\",\"public\\u002fcommercial\",\"septic\",\"public\\u002fcommercial\",\"public\\u002fcommercial\",\"septic\",\"public\\u002fcommercial\",\"public\\u002fcommercial\",\"public\\u002fcommercial\",\"public\\u002fcommercial\",\"public\\u002fcommercial\",\"public\\u002fcommercial\",\"public\\u002fcommercial\",\"septic\",\"public\\u002fcommercial\",\"public\\u002fcommercial\",\"public\\u002fcommercial\",\"public\\u002fcommercial\",\"septic\",\"public\\u002fcommercial\",\"public\\u002fcommercial\",\"public\\u002fcommercial\",\"public\\u002fcommercial\",\"public\\u002fcommercial\",\"public\\u002fcommercial\",\"public\\u002fcommercial\",\"public\\u002fcommercial\",\"public\\u002fcommercial\",\"public\\u002fcommercial\",\"septic\",\"public\\u002fcommercial\",\"public\\u002fcommercial\",\"public\\u002fcommercial\",\"public\\u002fcommercial\",\"public\\u002fcommercial\",\"public\\u002fcommercial\",\"public\\u002fcommercial\",\"public\\u002fcommercial\",\"public\\u002fcommercial\",\"public\\u002fcommercial\",\"public\\u002fcommercial\",\"public\\u002fcommercial\",\"public\\u002fcommercial\",\"public\\u002fcommercial\",\"public\\u002fcommercial\",\"public\\u002fcommercial\",\"septic\",\"public\\u002fcommercial\",\"public\\u002fcommercial\",\"public\\u002fcommercial\",\"public\\u002fcommercial\",\"public\\u002fcommercial\",\"public\\u002fcommercial\",\"public\\u002fcommercial\",\"public\\u002fcommercial\",\"public\\u002fcommercial\",\"public\\u002fcommercial\",\"public\\u002fcommercial\",\"public\\u002fcommercial\",\"public\\u002fcommercial\",\"public\\u002fcommercial\",\"public\\u002fcommercial\",\"septic\",\"public\\u002fcommercial\",\"septic\",\"public\\u002fcommercial\",\"septic\",\"public\\u002fcommercial\",\"septic\",\"septic\",\"public\\u002fcommercial\",\"public\\u002fcommercial\",\"public\\u002fcommercial\",\"public\\u002fcommercial\",\"public\\u002fcommercial\",\"public\\u002fcommercial\",\"public\\u002fcommercial\",\"public\\u002fcommercial\",\"septic\",\"public\\u002fcommercial\",\"septic\",\"public\\u002fcommercial\",\"public\\u002fcommercial\",\"public\\u002fcommercial\",\"public\\u002fcommercial\",\"public\\u002fcommercial\",\"public\\u002fcommercial\",\"septic\",\"public\\u002fcommercial\",\"public\\u002fcommercial\",\"septic\",\"public\\u002fcommercial\",\"public\\u002fcommercial\",\"public\\u002fcommercial\",\"public\\u002fcommercial\",\"public\\u002fcommercial\",\"septic\",\"septic\",\"septic\",\"septic\",\"septic\",\"septic\",\"septic\",\"public\\u002fcommercial\",\"public\\u002fcommercial\",\"public\\u002fcommercial\",\"septic\",\"public\\u002fcommercial\",\"public\\u002fcommercial\",\"public\\u002fcommercial\",\"septic\",\"septic\",\"public\\u002fcommercial\",\"septic\",\"septic\",\"public\\u002fcommercial\",\"public\\u002fcommercial\",\"public\\u002fcommercial\",\"public\\u002fcommercial\",\"public\\u002fcommercial\",\"public\\u002fcommercial\",\"public\\u002fcommercial\",\"septic\",\"public\\u002fcommercial\",\"septic\",\"public\\u002fcommercial\",\"public\\u002fcommercial\",\"public\\u002fcommercial\",\"public\\u002fcommercial\",\"public\\u002fcommercial\",\"public\\u002fcommercial\",\"public\\u002fcommercial\",\"public\\u002fcommercial\",\"septic\",\"public\\u002fcommercial\",\"public\\u002fcommercial\",\"public\\u002fcommercial\",\"public\\u002fcommercial\",\"public\\u002fcommercial\",\"public\\u002fcommercial\",\"public\\u002fcommercial\",\"septic\",\"public\\u002fcommercial\",\"public\\u002fcommercial\",\"public\\u002fcommercial\",\"public\\u002fcommercial\",\"public\\u002fcommercial\",\"public\\u002fcommercial\",\"public\\u002fcommercial\",\"public\\u002fcommercial\",\"public\\u002fcommercial\",\"septic\",\"public\\u002fcommercial\",\"public\\u002fcommercial\",\"septic\",\"public\\u002fcommercial\",\"public\\u002fcommercial\",\"public\\u002fcommercial\",\"public\\u002fcommercial\",\"public\\u002fcommercial\",\"public\\u002fcommercial\",\"public\\u002fcommercial\",\"public\\u002fcommercial\",\"septic\"],\"xaxis\":\"x\",\"yaxis\":\"y\",\"type\":\"histogram\"}],                        {\"template\":{\"data\":{\"pie\":[{\"automargin\":true,\"type\":\"pie\"}]},\"layout\":{\"xaxis\":{\"showgrid\":true,\"title\":{\"standoff\":15}},\"yaxis\":{\"showgrid\":true,\"title\":{\"standoff\":15}}}},\"xaxis\":{\"anchor\":\"y\",\"domain\":[0.0,1.0],\"title\":{\"text\":\"desague\"}},\"yaxis\":{\"anchor\":\"x\",\"domain\":[0.0,1.0],\"title\":{\"text\":\"count\"}},\"legend\":{\"tracegroupgap\":0},\"title\":{\"text\":\"Desague\"},\"barmode\":\"relative\"},                        {\"responsive\": true}                    ).then(function(){\n",
              "                            \n",
              "var gd = document.getElementById('99fee5aa-deb1-4bfc-b301-865777d0e7d0');\n",
              "var x = new MutationObserver(function (mutations, observer) {{\n",
              "        var display = window.getComputedStyle(gd).display;\n",
              "        if (!display || display === 'none') {{\n",
              "            console.log([gd, 'removed!']);\n",
              "            Plotly.purge(gd);\n",
              "            observer.disconnect();\n",
              "        }}\n",
              "}});\n",
              "\n",
              "// Listen for the removal of the full notebook cells\n",
              "var notebookContainer = gd.closest('#notebook-container');\n",
              "if (notebookContainer) {{\n",
              "    x.observe(notebookContainer, {childList: true});\n",
              "}}\n",
              "\n",
              "// Listen for the clearing of the current output cell\n",
              "var outputEl = gd.closest('.output');\n",
              "if (outputEl) {{\n",
              "    x.observe(outputEl, {childList: true});\n",
              "}}\n",
              "\n",
              "                        })                };            </script>        </div>\n",
              "</body>\n",
              "</html>"
            ]
          },
          "metadata": {}
        }
      ]
    },
    {
      "cell_type": "code",
      "metadata": {
        "colab": {
          "base_uri": "https://localhost:8080/",
          "height": 542
        },
        "id": "Sy7RtVdF68sn",
        "outputId": "51e73526-c77d-4929-eec7-050fb28e0f8a"
      },
      "source": [
        "fig = px.histogram(datos,\n",
        "                   x = datos.vistas_lago,\n",
        "                   title=\"Vistas al Lago\",\n",
        "                   template=\"gridon\")\n",
        "fig.show()"
      ],
      "execution_count": 36,
      "outputs": [
        {
          "output_type": "display_data",
          "data": {
            "text/html": [
              "<html>\n",
              "<head><meta charset=\"utf-8\" /></head>\n",
              "<body>\n",
              "    <div>            <script src=\"https://cdnjs.cloudflare.com/ajax/libs/mathjax/2.7.5/MathJax.js?config=TeX-AMS-MML_SVG\"></script><script type=\"text/javascript\">if (window.MathJax && window.MathJax.Hub && window.MathJax.Hub.Config) {window.MathJax.Hub.Config({SVG: {font: \"STIX-Web\"}});}</script>                <script type=\"text/javascript\">window.PlotlyConfig = {MathJaxConfig: 'local'};</script>\n",
              "        <script charset=\"utf-8\" src=\"https://cdn.plot.ly/plotly-3.0.1.min.js\"></script>                <div id=\"3915d3ce-1f75-4ee8-9e1b-4e99a23a4057\" class=\"plotly-graph-div\" style=\"height:525px; width:100%;\"></div>            <script type=\"text/javascript\">                window.PLOTLYENV=window.PLOTLYENV || {};                                if (document.getElementById(\"3915d3ce-1f75-4ee8-9e1b-4e99a23a4057\")) {                    Plotly.newPlot(                        \"3915d3ce-1f75-4ee8-9e1b-4e99a23a4057\",                        [{\"bingroup\":\"x\",\"hovertemplate\":\"vistas_lago=%{x}\\u003cbr\\u003ecount=%{y}\\u003cextra\\u003e\\u003c\\u002fextra\\u003e\",\"legendgroup\":\"\",\"marker\":{\"color\":\"#1F77B4\",\"pattern\":{\"shape\":\"\"}},\"name\":\"\",\"orientation\":\"v\",\"showlegend\":false,\"x\":[\"No\",\"No\",\"No\",\"No\",\"No\",\"No\",\"No\",\"No\",\"No\",\"No\",\"No\",\"No\",\"No\",\"No\",\"No\",\"No\",\"No\",\"No\",\"No\",\"No\",\"No\",\"No\",\"No\",\"No\",\"No\",\"No\",\"No\",\"No\",\"Yes\",\"No\",\"No\",\"No\",\"No\",\"No\",\"No\",\"No\",\"No\",\"No\",\"No\",\"No\",\"No\",\"No\",\"No\",\"No\",\"No\",\"No\",\"No\",\"No\",\"Yes\",\"No\",\"No\",\"No\",\"No\",\"No\",\"No\",\"No\",\"No\",\"No\",\"No\",\"No\",\"No\",\"No\",\"No\",\"No\",\"No\",\"No\",\"No\",\"No\",\"No\",\"No\",\"No\",\"No\",\"No\",\"No\",\"No\",\"No\",\"No\",\"No\",\"No\",\"No\",\"No\",\"No\",\"No\",\"No\",\"No\",\"No\",\"No\",\"No\",\"No\",\"No\",\"No\",\"No\",\"No\",\"No\",\"No\",\"No\",\"No\",\"No\",\"No\",\"No\",\"No\",\"No\",\"No\",\"No\",\"No\",\"No\",\"No\",\"No\",\"No\",\"No\",\"No\",\"No\",\"No\",\"No\",\"No\",\"No\",\"No\",\"No\",\"No\",\"No\",\"No\",\"No\",\"No\",\"No\",\"No\",\"No\",\"No\",\"No\",\"No\",\"No\",\"No\",\"No\",\"No\",\"No\",\"No\",\"No\",\"No\",\"No\",\"No\",\"No\",\"No\",\"No\",\"No\",\"No\",\"No\",\"No\",\"No\",\"No\",\"No\",\"No\",\"No\",\"No\",\"No\",\"No\",\"No\",\"No\",\"No\",\"No\",\"No\",\"No\",\"No\",\"No\",\"No\",\"No\",\"No\",\"No\",\"No\",\"No\",\"No\",\"No\",\"No\",\"No\",\"No\",\"No\",\"No\",\"No\",\"No\",\"No\",\"No\",\"No\",\"No\",\"No\",\"No\",\"No\",\"No\",\"No\",\"No\",\"No\",\"No\",\"No\",\"No\",\"No\",\"No\",\"No\",\"No\",\"No\",\"No\",\"No\",\"No\",\"No\",\"No\",\"No\",\"No\",\"No\",\"No\",\"No\",\"No\",\"No\",\"No\",\"No\",\"No\",\"No\",\"No\",\"No\",\"No\",\"No\",\"No\",\"No\",\"No\",\"No\",\"No\",\"No\",\"Yes\",\"No\",\"No\",\"No\",\"No\",\"No\",\"No\",\"No\",\"No\",\"No\",\"No\",\"Yes\",\"No\",\"No\",\"No\",\"No\",\"No\",\"No\",\"No\",\"No\",\"No\",\"No\",\"No\",\"No\",\"No\",\"No\",\"No\",\"No\",\"No\",\"No\",\"No\",\"No\",\"No\",\"No\",\"No\",\"No\",\"No\",\"No\",\"No\",\"No\",\"No\",\"No\",\"No\",\"No\",\"No\",\"No\",\"No\",\"No\",\"No\",\"No\",\"No\",\"No\",\"No\",\"No\",\"No\",\"No\",\"No\",\"No\",\"No\",\"No\",\"No\",\"No\",\"No\",\"No\",\"No\",\"No\",\"No\",\"No\",\"No\",\"No\",\"No\",\"No\",\"No\",\"No\",\"No\",\"No\",\"No\",\"No\",\"No\",\"No\",\"No\",\"No\",\"No\",\"No\",\"No\",\"No\",\"No\",\"No\",\"No\",\"No\",\"No\",\"No\",\"No\",\"No\",\"No\",\"No\",\"No\",\"No\",\"No\",\"No\",\"No\",\"No\",\"No\",\"No\",\"No\",\"No\",\"No\",\"No\",\"No\",\"No\",\"No\",\"No\",\"No\",\"No\",\"No\",\"No\",\"No\",\"No\",\"No\",\"No\",\"No\",\"No\",\"No\",\"No\",\"No\",\"No\",\"No\",\"No\",\"No\",\"No\",\"No\",\"No\",\"No\",\"No\",\"No\",\"No\",\"No\",\"No\",\"No\",\"No\",\"No\",\"No\",\"No\",\"No\",\"No\",\"No\",\"No\",\"No\",\"No\",\"No\",\"No\",\"No\",\"No\",\"No\",\"No\",\"No\",\"No\",\"No\",\"No\",\"No\",\"No\",\"No\",\"No\",\"No\",\"No\",\"No\",\"No\",\"No\",\"No\",\"No\",\"No\",\"No\",\"No\",\"No\",\"No\",\"No\",\"No\",\"No\",\"No\",\"No\",\"No\",\"No\",\"No\",\"No\",\"No\",\"No\",\"No\",\"No\",\"No\",\"No\",\"No\",\"No\",\"No\",\"No\",\"No\",\"No\",\"No\",\"No\",\"No\",\"No\",\"No\",\"No\",\"No\",\"No\",\"No\",\"No\",\"No\",\"No\",\"No\",\"No\",\"No\",\"No\",\"No\",\"No\",\"Yes\",\"No\",\"No\",\"No\",\"No\",\"No\",\"No\",\"No\",\"No\",\"No\",\"No\",\"No\",\"No\",\"No\",\"No\",\"No\",\"No\",\"No\",\"No\",\"Yes\",\"No\",\"No\",\"No\",\"No\",\"No\",\"No\",\"No\",\"No\",\"No\",\"No\",\"No\",\"No\",\"No\",\"No\",\"No\",\"No\",\"No\",\"No\",\"Yes\",\"No\",\"No\",\"No\",\"No\",\"No\",\"No\",\"No\",\"No\",\"Yes\",\"No\",\"No\",\"No\",\"No\",\"No\",\"No\",\"No\",\"No\",\"No\",\"No\",\"No\",\"No\",\"No\",\"No\",\"No\",\"No\",\"No\",\"No\",\"No\",\"No\",\"No\",\"No\",\"No\",\"No\",\"No\",\"No\",\"No\",\"No\",\"No\",\"No\",\"No\",\"No\",\"No\",\"No\",\"No\",\"No\",\"No\",\"No\",\"No\",\"No\",\"No\",\"No\",\"No\",\"No\",\"No\",\"No\",\"No\",\"No\",\"No\",\"No\",\"No\",\"No\",\"No\",\"No\",\"No\",\"No\",\"No\",\"No\",\"No\",\"No\",\"No\",\"No\",\"No\",\"No\",\"No\",\"No\",\"No\",\"No\",\"No\",\"No\",\"No\",\"No\",\"No\",\"No\",\"No\",\"No\",\"No\",\"No\",\"No\",\"No\",\"No\",\"No\",\"No\",\"No\",\"No\",\"No\",\"No\",\"No\",\"No\",\"No\",\"No\",\"No\",\"No\",\"No\",\"No\",\"No\",\"No\",\"No\",\"No\",\"No\",\"No\",\"No\",\"No\",\"No\",\"No\",\"No\",\"No\",\"No\",\"No\",\"No\",\"No\",\"No\",\"No\",\"No\",\"No\",\"No\",\"No\",\"Yes\",\"No\",\"No\",\"No\",\"No\",\"No\",\"No\",\"No\",\"No\",\"No\",\"No\",\"No\",\"No\",\"No\",\"No\",\"No\",\"No\",\"No\",\"No\",\"No\",\"No\",\"No\",\"No\",\"No\",\"No\",\"No\",\"No\",\"No\",\"No\",\"No\",\"No\",\"No\",\"No\",\"No\",\"No\",\"No\",\"No\",\"No\",\"No\",\"No\",\"No\",\"No\",\"No\",\"No\",\"No\",\"No\",\"No\",\"No\",\"No\",\"No\",\"No\",\"No\",\"No\",\"No\",\"No\",\"No\",\"No\",\"No\",\"No\",\"No\",\"No\",\"No\",\"No\",\"No\",\"No\",\"No\",\"No\",\"No\",\"No\",\"No\",\"No\",\"No\",\"No\",\"No\",\"No\",\"No\",\"No\",\"No\",\"No\",\"No\",\"No\",\"No\",\"No\",\"No\",\"No\",\"No\",\"No\",\"No\",\"No\",\"No\",\"No\",\"No\",\"No\",\"No\",\"No\",\"No\",\"No\",\"No\",\"No\",\"No\",\"Yes\",\"No\",\"No\",\"No\",\"No\",\"No\",\"No\",\"No\",\"No\",\"No\",\"No\",\"No\",\"No\",\"No\",\"No\",\"No\",\"No\",\"No\",\"No\",\"No\",\"No\",\"No\",\"No\",\"No\",\"No\",\"No\",\"No\",\"No\",\"No\",\"No\",\"No\",\"No\",\"No\",\"No\",\"No\",\"No\",\"No\",\"No\",\"No\",\"No\",\"No\",\"No\",\"No\",\"No\",\"No\",\"No\",\"No\",\"No\",\"No\",\"No\",\"No\",\"No\",\"No\",\"No\",\"No\",\"No\",\"No\",\"No\",\"No\",\"No\",\"No\",\"No\",\"No\",\"No\",\"No\",\"No\",\"No\",\"No\",\"No\",\"No\",\"No\",\"No\",\"No\",\"No\",\"No\",\"No\",\"No\",\"No\",\"No\",\"No\",\"No\",\"No\",\"No\",\"No\",\"No\",\"No\",\"No\",\"No\",\"No\",\"No\",\"No\",\"No\",\"No\",\"No\",\"No\",\"No\",\"No\",\"No\",\"No\",\"No\",\"No\",\"No\",\"No\",\"No\",\"No\",\"No\",\"No\",\"No\",\"No\",\"No\",\"No\",\"No\",\"No\",\"No\",\"No\",\"No\",\"No\",\"No\",\"No\",\"No\",\"No\",\"No\",\"No\",\"No\",\"No\",\"No\",\"No\",\"No\",\"No\",\"No\",\"No\",\"No\",\"No\",\"No\",\"No\",\"No\",\"No\",\"No\",\"No\",\"No\",\"No\",\"No\",\"No\",\"No\",\"No\",\"No\",\"No\",\"No\",\"No\",\"No\",\"No\",\"No\",\"No\",\"No\",\"No\",\"No\",\"No\",\"No\",\"No\",\"No\",\"No\",\"No\",\"No\",\"No\",\"No\",\"No\",\"No\",\"No\",\"No\",\"No\",\"No\",\"No\",\"No\",\"No\",\"No\",\"No\",\"No\",\"No\",\"No\",\"No\",\"No\",\"No\",\"No\",\"No\",\"No\",\"No\",\"No\",\"No\",\"No\",\"No\",\"No\",\"No\",\"No\",\"No\",\"No\",\"No\",\"No\",\"No\",\"No\",\"No\",\"No\",\"No\",\"No\",\"No\",\"No\",\"No\",\"No\",\"No\",\"No\",\"No\",\"No\",\"No\",\"No\",\"No\",\"No\",\"No\",\"No\",\"No\",\"No\",\"No\",\"No\",\"No\",\"No\",\"No\",\"No\",\"No\",\"No\",\"No\",\"No\",\"No\",\"No\",\"No\",\"No\",\"No\",\"No\",\"No\",\"No\",\"No\",\"No\",\"No\",\"No\",\"No\",\"No\",\"No\",\"No\",\"No\",\"No\",\"No\",\"No\",\"No\",\"No\",\"No\",\"No\",\"No\",\"No\",\"No\",\"No\",\"No\",\"No\",\"No\",\"No\",\"No\",\"No\",\"No\",\"No\",\"No\",\"No\",\"No\",\"No\",\"No\",\"No\",\"No\",\"No\",\"No\",\"No\",\"No\",\"No\",\"No\",\"No\",\"No\",\"No\",\"No\",\"No\",\"No\",\"No\",\"No\",\"No\",\"No\",\"No\",\"No\",\"No\",\"No\",\"No\",\"No\",\"No\",\"No\",\"No\",\"No\",\"No\",\"No\",\"No\",\"No\",\"No\",\"No\",\"No\",\"No\",\"No\",\"No\",\"No\",\"No\",\"No\",\"No\",\"No\",\"No\",\"No\",\"No\",\"No\",\"No\",\"No\",\"No\",\"No\",\"No\",\"No\",\"No\",\"No\",\"No\",\"No\",\"No\",\"No\",\"No\",\"No\",\"No\",\"No\",\"No\",\"No\",\"No\",\"No\",\"No\",\"No\",\"No\",\"No\",\"No\",\"No\",\"No\",\"No\",\"No\",\"No\",\"No\",\"No\",\"No\",\"No\",\"No\",\"No\",\"No\",\"No\",\"No\",\"No\",\"No\",\"No\",\"No\",\"No\",\"No\",\"No\",\"No\",\"No\",\"No\",\"No\",\"No\",\"No\",\"No\",\"No\",\"No\",\"No\",\"No\",\"No\",\"No\",\"No\",\"No\",\"No\",\"No\",\"No\",\"No\",\"No\",\"No\",\"No\",\"No\",\"No\",\"No\",\"No\",\"No\",\"No\",\"No\",\"No\",\"No\",\"No\",\"No\",\"No\",\"No\",\"No\",\"No\",\"No\",\"No\",\"No\",\"No\",\"No\",\"No\",\"No\",\"No\",\"No\",\"No\",\"No\",\"No\",\"No\",\"No\",\"No\",\"No\",\"No\",\"No\",\"No\",\"No\",\"No\",\"No\",\"No\",\"No\",\"No\",\"No\",\"No\",\"No\",\"No\",\"No\",\"No\",\"No\",\"No\",\"No\",\"No\",\"No\",\"No\",\"Yes\",\"No\",\"No\",\"No\",\"No\",\"No\",\"No\",\"No\",\"No\",\"No\",\"No\",\"No\",\"No\",\"No\",\"No\",\"No\",\"No\",\"No\",\"No\",\"No\",\"No\",\"No\",\"No\",\"No\",\"No\",\"No\",\"No\",\"No\",\"No\",\"No\",\"No\",\"No\",\"No\",\"No\",\"No\",\"No\",\"No\",\"No\",\"No\",\"No\",\"No\",\"No\",\"No\",\"No\",\"No\",\"No\",\"No\",\"No\",\"Yes\",\"No\",\"No\",\"No\",\"No\",\"No\",\"No\",\"No\",\"No\",\"No\",\"No\",\"No\",\"No\",\"No\",\"No\",\"No\",\"No\",\"No\",\"No\",\"No\",\"No\",\"No\",\"No\",\"No\",\"No\",\"No\",\"No\",\"No\",\"No\",\"No\",\"No\",\"No\",\"No\",\"No\",\"No\",\"No\",\"No\",\"No\",\"No\",\"No\",\"No\",\"No\",\"No\",\"No\",\"No\",\"No\",\"No\",\"No\",\"No\",\"No\",\"No\",\"No\",\"No\",\"No\",\"No\",\"No\",\"No\",\"No\",\"No\",\"No\",\"No\",\"No\",\"No\",\"No\",\"No\",\"No\",\"No\",\"No\",\"No\",\"No\",\"No\",\"No\",\"No\",\"No\",\"No\",\"No\",\"No\",\"No\",\"No\",\"No\",\"No\",\"No\",\"No\",\"No\",\"No\",\"No\",\"No\",\"No\",\"No\",\"No\",\"No\",\"No\",\"No\",\"No\",\"No\",\"No\",\"No\",\"No\",\"No\",\"Yes\",\"No\",\"No\",\"No\",\"No\",\"No\",\"No\",\"No\",\"No\",\"No\",\"No\",\"No\",\"No\",\"No\",\"No\",\"No\",\"No\",\"No\",\"No\",\"No\",\"No\",\"No\",\"No\",\"No\",\"No\",\"Yes\",\"No\",\"No\",\"No\",\"No\",\"No\",\"No\",\"No\",\"No\",\"No\",\"No\",\"No\",\"No\",\"No\",\"No\",\"No\",\"No\",\"No\",\"No\",\"No\",\"No\",\"No\",\"No\",\"No\",\"No\",\"No\",\"No\",\"No\",\"No\",\"No\",\"No\",\"No\",\"No\",\"No\",\"No\",\"No\",\"No\",\"No\",\"No\",\"No\",\"No\",\"No\",\"No\",\"No\",\"No\",\"No\",\"No\",\"No\",\"No\",\"No\",\"No\",\"No\",\"No\",\"No\",\"No\",\"No\",\"No\",\"No\",\"No\",\"No\",\"No\",\"No\",\"No\",\"No\",\"No\",\"No\",\"No\",\"No\",\"No\",\"No\",\"No\",\"No\",\"No\",\"No\",\"No\",\"No\",\"No\",\"No\",\"No\",\"No\",\"No\",\"No\",\"No\",\"No\",\"Yes\",\"No\",\"No\",\"No\",\"No\",\"No\",\"No\",\"No\",\"No\",\"No\",\"No\",\"No\",\"No\",\"No\",\"No\",\"No\",\"No\",\"No\",\"No\",\"No\",\"No\",\"No\",\"No\",\"No\",\"No\",\"No\",\"No\",\"No\",\"No\",\"No\",\"No\",\"No\",\"No\",\"No\",\"No\",\"No\",\"No\",\"No\",\"No\",\"No\",\"No\",\"No\",\"No\",\"No\",\"No\",\"No\",\"No\",\"No\",\"No\",\"No\",\"No\",\"No\",\"No\",\"No\",\"No\",\"No\",\"No\",\"No\",\"No\",\"No\",\"No\",\"No\",\"No\",\"No\",\"No\",\"No\",\"No\",\"No\",\"No\",\"No\",\"No\",\"No\",\"No\",\"No\",\"No\",\"No\",\"No\",\"No\",\"No\",\"No\",\"No\",\"No\",\"No\",\"No\",\"No\",\"No\",\"No\",\"No\",\"No\",\"No\",\"No\",\"No\",\"No\",\"No\",\"No\",\"No\",\"No\",\"No\",\"No\",\"No\",\"No\",\"No\",\"No\",\"No\",\"No\",\"No\",\"No\",\"No\",\"No\",\"No\",\"No\",\"No\",\"No\",\"No\",\"No\",\"No\",\"No\",\"No\",\"No\",\"No\",\"No\",\"No\",\"No\",\"No\",\"No\",\"No\",\"No\",\"No\",\"No\",\"No\",\"No\",\"No\",\"No\",\"No\",\"No\",\"No\",\"No\",\"No\",\"No\",\"No\",\"No\",\"No\",\"No\",\"No\",\"No\",\"No\",\"No\",\"No\",\"No\",\"No\",\"No\",\"No\",\"No\",\"No\",\"No\",\"No\",\"No\",\"No\",\"No\",\"No\",\"No\",\"No\",\"No\",\"No\",\"No\",\"No\",\"No\",\"No\",\"No\",\"No\",\"No\",\"No\",\"No\",\"No\",\"No\",\"No\",\"No\",\"No\",\"No\",\"No\",\"No\",\"No\",\"No\",\"No\",\"No\",\"No\",\"No\",\"No\",\"No\",\"No\",\"No\",\"No\",\"No\",\"No\",\"No\",\"No\",\"No\",\"No\",\"No\",\"No\",\"No\",\"No\",\"No\",\"No\",\"No\",\"No\",\"No\",\"No\",\"No\",\"No\",\"No\",\"No\",\"No\",\"No\",\"No\",\"No\",\"No\",\"No\",\"No\",\"No\",\"No\",\"No\",\"No\",\"No\",\"No\",\"No\",\"No\",\"No\",\"No\",\"No\",\"No\",\"No\",\"No\",\"No\",\"No\",\"No\",\"No\",\"No\",\"No\",\"No\",\"No\",\"No\",\"No\",\"No\",\"No\",\"No\",\"No\",\"No\",\"No\",\"No\",\"No\",\"No\",\"No\",\"No\",\"No\",\"No\",\"No\",\"No\",\"No\",\"No\",\"No\",\"No\",\"No\",\"No\",\"No\",\"No\",\"No\",\"No\",\"No\",\"No\",\"No\",\"No\",\"No\",\"No\",\"No\",\"No\",\"No\",\"No\",\"No\",\"No\",\"No\",\"No\",\"No\",\"No\",\"No\",\"No\",\"No\",\"No\",\"No\",\"No\",\"No\",\"No\",\"No\",\"No\",\"No\",\"No\",\"No\",\"No\",\"No\",\"No\",\"No\",\"No\",\"No\",\"No\",\"No\",\"No\",\"No\",\"No\",\"No\",\"No\",\"No\",\"No\",\"No\",\"No\",\"No\",\"No\",\"No\",\"No\",\"No\",\"No\",\"No\",\"No\",\"No\",\"No\",\"No\",\"No\",\"No\",\"No\",\"No\",\"No\",\"No\",\"No\",\"No\",\"No\"],\"xaxis\":\"x\",\"yaxis\":\"y\",\"type\":\"histogram\"}],                        {\"template\":{\"data\":{\"pie\":[{\"automargin\":true,\"type\":\"pie\"}]},\"layout\":{\"xaxis\":{\"showgrid\":true,\"title\":{\"standoff\":15}},\"yaxis\":{\"showgrid\":true,\"title\":{\"standoff\":15}}}},\"xaxis\":{\"anchor\":\"y\",\"domain\":[0.0,1.0],\"title\":{\"text\":\"vistas_lago\"}},\"yaxis\":{\"anchor\":\"x\",\"domain\":[0.0,1.0],\"title\":{\"text\":\"count\"}},\"legend\":{\"tracegroupgap\":0},\"title\":{\"text\":\"Vistas al Lago\"},\"barmode\":\"relative\"},                        {\"responsive\": true}                    ).then(function(){\n",
              "                            \n",
              "var gd = document.getElementById('3915d3ce-1f75-4ee8-9e1b-4e99a23a4057');\n",
              "var x = new MutationObserver(function (mutations, observer) {{\n",
              "        var display = window.getComputedStyle(gd).display;\n",
              "        if (!display || display === 'none') {{\n",
              "            console.log([gd, 'removed!']);\n",
              "            Plotly.purge(gd);\n",
              "            observer.disconnect();\n",
              "        }}\n",
              "}});\n",
              "\n",
              "// Listen for the removal of the full notebook cells\n",
              "var notebookContainer = gd.closest('#notebook-container');\n",
              "if (notebookContainer) {{\n",
              "    x.observe(notebookContainer, {childList: true});\n",
              "}}\n",
              "\n",
              "// Listen for the clearing of the current output cell\n",
              "var outputEl = gd.closest('.output');\n",
              "if (outputEl) {{\n",
              "    x.observe(outputEl, {childList: true});\n",
              "}}\n",
              "\n",
              "                        })                };            </script>        </div>\n",
              "</body>\n",
              "</html>"
            ]
          },
          "metadata": {}
        }
      ]
    },
    {
      "cell_type": "code",
      "metadata": {
        "colab": {
          "base_uri": "https://localhost:8080/",
          "height": 542
        },
        "id": "3rnXvCrc7Bo3",
        "outputId": "c57a2bac-26b7-4225-f419-2fb3112240df"
      },
      "source": [
        "fig = px.histogram(datos,\n",
        "                   x = datos.aire_acondicionado,\n",
        "                   title=\"Aire Acondicionado\",\n",
        "                   template=\"gridon\")\n",
        "fig.show()"
      ],
      "execution_count": 37,
      "outputs": [
        {
          "output_type": "display_data",
          "data": {
            "text/html": [
              "<html>\n",
              "<head><meta charset=\"utf-8\" /></head>\n",
              "<body>\n",
              "    <div>            <script src=\"https://cdnjs.cloudflare.com/ajax/libs/mathjax/2.7.5/MathJax.js?config=TeX-AMS-MML_SVG\"></script><script type=\"text/javascript\">if (window.MathJax && window.MathJax.Hub && window.MathJax.Hub.Config) {window.MathJax.Hub.Config({SVG: {font: \"STIX-Web\"}});}</script>                <script type=\"text/javascript\">window.PlotlyConfig = {MathJaxConfig: 'local'};</script>\n",
              "        <script charset=\"utf-8\" src=\"https://cdn.plot.ly/plotly-3.0.1.min.js\"></script>                <div id=\"31d0858f-8dff-464c-bdf4-61d20635cc43\" class=\"plotly-graph-div\" style=\"height:525px; width:100%;\"></div>            <script type=\"text/javascript\">                window.PLOTLYENV=window.PLOTLYENV || {};                                if (document.getElementById(\"31d0858f-8dff-464c-bdf4-61d20635cc43\")) {                    Plotly.newPlot(                        \"31d0858f-8dff-464c-bdf4-61d20635cc43\",                        [{\"bingroup\":\"x\",\"hovertemplate\":\"aire_acondicionado=%{x}\\u003cbr\\u003ecount=%{y}\\u003cextra\\u003e\\u003c\\u002fextra\\u003e\",\"legendgroup\":\"\",\"marker\":{\"color\":\"#1F77B4\",\"pattern\":{\"shape\":\"\"}},\"name\":\"\",\"orientation\":\"v\",\"showlegend\":false,\"x\":[\"No\",\"No\",\"No\",\"No\",\"Yes\",\"No\",\"No\",\"No\",\"No\",\"No\",\"No\",\"No\",\"No\",\"No\",\"No\",\"No\",\"No\",\"Yes\",\"No\",\"No\",\"No\",\"No\",\"Yes\",\"No\",\"No\",\"No\",\"No\",\"No\",\"No\",\"Yes\",\"No\",\"No\",\"No\",\"No\",\"No\",\"Yes\",\"No\",\"No\",\"No\",\"Yes\",\"No\",\"Yes\",\"Yes\",\"Yes\",\"No\",\"No\",\"No\",\"No\",\"No\",\"No\",\"Yes\",\"No\",\"No\",\"No\",\"Yes\",\"No\",\"Yes\",\"No\",\"No\",\"No\",\"Yes\",\"No\",\"No\",\"Yes\",\"No\",\"No\",\"No\",\"Yes\",\"No\",\"Yes\",\"No\",\"No\",\"Yes\",\"Yes\",\"No\",\"No\",\"No\",\"Yes\",\"No\",\"No\",\"No\",\"No\",\"No\",\"No\",\"No\",\"Yes\",\"No\",\"Yes\",\"No\",\"No\",\"No\",\"No\",\"No\",\"No\",\"No\",\"No\",\"No\",\"No\",\"No\",\"No\",\"Yes\",\"No\",\"No\",\"No\",\"No\",\"No\",\"Yes\",\"No\",\"No\",\"No\",\"No\",\"No\",\"No\",\"No\",\"Yes\",\"Yes\",\"No\",\"Yes\",\"No\",\"No\",\"No\",\"No\",\"No\",\"No\",\"Yes\",\"No\",\"No\",\"No\",\"No\",\"No\",\"No\",\"No\",\"No\",\"No\",\"No\",\"No\",\"No\",\"No\",\"No\",\"No\",\"No\",\"No\",\"Yes\",\"No\",\"No\",\"Yes\",\"No\",\"Yes\",\"Yes\",\"Yes\",\"Yes\",\"Yes\",\"Yes\",\"Yes\",\"Yes\",\"Yes\",\"Yes\",\"No\",\"Yes\",\"No\",\"No\",\"Yes\",\"Yes\",\"Yes\",\"Yes\",\"Yes\",\"Yes\",\"Yes\",\"No\",\"Yes\",\"Yes\",\"Yes\",\"Yes\",\"Yes\",\"Yes\",\"Yes\",\"Yes\",\"Yes\",\"Yes\",\"Yes\",\"No\",\"No\",\"No\",\"No\",\"No\",\"Yes\",\"Yes\",\"No\",\"Yes\",\"No\",\"No\",\"No\",\"Yes\",\"Yes\",\"Yes\",\"No\",\"No\",\"No\",\"Yes\",\"No\",\"Yes\",\"No\",\"No\",\"No\",\"No\",\"No\",\"No\",\"No\",\"No\",\"No\",\"No\",\"No\",\"Yes\",\"No\",\"No\",\"No\",\"No\",\"No\",\"No\",\"Yes\",\"No\",\"Yes\",\"No\",\"No\",\"No\",\"No\",\"No\",\"No\",\"No\",\"No\",\"No\",\"No\",\"No\",\"No\",\"No\",\"No\",\"No\",\"No\",\"No\",\"No\",\"No\",\"Yes\",\"No\",\"Yes\",\"No\",\"No\",\"No\",\"No\",\"Yes\",\"No\",\"No\",\"No\",\"Yes\",\"No\",\"No\",\"No\",\"No\",\"No\",\"Yes\",\"No\",\"Yes\",\"No\",\"Yes\",\"No\",\"No\",\"No\",\"No\",\"No\",\"No\",\"Yes\",\"No\",\"No\",\"No\",\"No\",\"No\",\"Yes\",\"Yes\",\"No\",\"No\",\"Yes\",\"Yes\",\"No\",\"Yes\",\"Yes\",\"Yes\",\"Yes\",\"Yes\",\"Yes\",\"Yes\",\"Yes\",\"Yes\",\"Yes\",\"Yes\",\"No\",\"Yes\",\"Yes\",\"Yes\",\"No\",\"No\",\"No\",\"No\",\"No\",\"Yes\",\"No\",\"Yes\",\"Yes\",\"No\",\"No\",\"Yes\",\"Yes\",\"Yes\",\"No\",\"No\",\"Yes\",\"No\",\"No\",\"No\",\"No\",\"Yes\",\"Yes\",\"No\",\"No\",\"Yes\",\"Yes\",\"Yes\",\"No\",\"No\",\"Yes\",\"Yes\",\"Yes\",\"No\",\"No\",\"No\",\"No\",\"No\",\"No\",\"Yes\",\"No\",\"No\",\"Yes\",\"Yes\",\"Yes\",\"No\",\"Yes\",\"Yes\",\"Yes\",\"No\",\"No\",\"No\",\"Yes\",\"No\",\"No\",\"No\",\"Yes\",\"No\",\"No\",\"No\",\"Yes\",\"Yes\",\"No\",\"Yes\",\"No\",\"Yes\",\"Yes\",\"Yes\",\"Yes\",\"No\",\"No\",\"No\",\"No\",\"No\",\"Yes\",\"Yes\",\"No\",\"Yes\",\"No\",\"Yes\",\"Yes\",\"No\",\"No\",\"No\",\"No\",\"Yes\",\"Yes\",\"No\",\"No\",\"Yes\",\"Yes\",\"Yes\",\"No\",\"Yes\",\"Yes\",\"No\",\"No\",\"Yes\",\"Yes\",\"Yes\",\"Yes\",\"Yes\",\"No\",\"No\",\"No\",\"No\",\"No\",\"Yes\",\"Yes\",\"No\",\"Yes\",\"Yes\",\"No\",\"No\",\"No\",\"No\",\"No\",\"Yes\",\"No\",\"No\",\"Yes\",\"No\",\"No\",\"No\",\"Yes\",\"No\",\"No\",\"No\",\"No\",\"No\",\"No\",\"No\",\"No\",\"No\",\"No\",\"Yes\",\"Yes\",\"No\",\"No\",\"No\",\"No\",\"No\",\"Yes\",\"Yes\",\"No\",\"No\",\"Yes\",\"No\",\"No\",\"No\",\"No\",\"No\",\"Yes\",\"Yes\",\"No\",\"No\",\"No\",\"Yes\",\"Yes\",\"No\",\"No\",\"No\",\"No\",\"No\",\"No\",\"No\",\"No\",\"No\",\"No\",\"No\",\"No\",\"No\",\"No\",\"No\",\"No\",\"Yes\",\"Yes\",\"No\",\"Yes\",\"Yes\",\"No\",\"No\",\"Yes\",\"No\",\"No\",\"No\",\"No\",\"No\",\"Yes\",\"No\",\"Yes\",\"No\",\"No\",\"Yes\",\"No\",\"No\",\"Yes\",\"No\",\"Yes\",\"Yes\",\"No\",\"No\",\"No\",\"No\",\"No\",\"No\",\"Yes\",\"No\",\"No\",\"Yes\",\"Yes\",\"No\",\"Yes\",\"Yes\",\"Yes\",\"Yes\",\"Yes\",\"No\",\"Yes\",\"No\",\"Yes\",\"No\",\"No\",\"No\",\"Yes\",\"No\",\"No\",\"Yes\",\"No\",\"Yes\",\"No\",\"No\",\"No\",\"No\",\"No\",\"No\",\"Yes\",\"Yes\",\"Yes\",\"Yes\",\"Yes\",\"No\",\"No\",\"Yes\",\"Yes\",\"Yes\",\"Yes\",\"Yes\",\"No\",\"No\",\"Yes\",\"Yes\",\"Yes\",\"No\",\"Yes\",\"No\",\"Yes\",\"No\",\"Yes\",\"No\",\"No\",\"Yes\",\"Yes\",\"Yes\",\"No\",\"Yes\",\"Yes\",\"Yes\",\"No\",\"No\",\"Yes\",\"Yes\",\"No\",\"Yes\",\"No\",\"No\",\"Yes\",\"No\",\"Yes\",\"No\",\"No\",\"Yes\",\"No\",\"No\",\"No\",\"Yes\",\"Yes\",\"No\",\"Yes\",\"No\",\"Yes\",\"No\",\"No\",\"Yes\",\"Yes\",\"No\",\"No\",\"Yes\",\"Yes\",\"No\",\"Yes\",\"No\",\"Yes\",\"Yes\",\"Yes\",\"Yes\",\"Yes\",\"Yes\",\"Yes\",\"Yes\",\"Yes\",\"Yes\",\"No\",\"No\",\"Yes\",\"Yes\",\"No\",\"Yes\",\"No\",\"No\",\"Yes\",\"Yes\",\"Yes\",\"No\",\"Yes\",\"No\",\"Yes\",\"No\",\"Yes\",\"No\",\"Yes\",\"Yes\",\"Yes\",\"No\",\"Yes\",\"Yes\",\"No\",\"No\",\"No\",\"No\",\"No\",\"Yes\",\"Yes\",\"Yes\",\"No\",\"Yes\",\"Yes\",\"Yes\",\"Yes\",\"Yes\",\"No\",\"Yes\",\"Yes\",\"No\",\"No\",\"Yes\",\"Yes\",\"No\",\"No\",\"No\",\"No\",\"No\",\"Yes\",\"Yes\",\"Yes\",\"No\",\"No\",\"No\",\"Yes\",\"No\",\"Yes\",\"No\",\"No\",\"No\",\"No\",\"No\",\"No\",\"No\",\"No\",\"No\",\"No\",\"No\",\"Yes\",\"Yes\",\"No\",\"No\",\"Yes\",\"Yes\",\"Yes\",\"No\",\"Yes\",\"No\",\"No\",\"No\",\"No\",\"Yes\",\"No\",\"Yes\",\"Yes\",\"No\",\"Yes\",\"Yes\",\"Yes\",\"No\",\"Yes\",\"Yes\",\"Yes\",\"No\",\"No\",\"Yes\",\"No\",\"Yes\",\"Yes\",\"Yes\",\"No\",\"Yes\",\"No\",\"Yes\",\"No\",\"No\",\"Yes\",\"Yes\",\"No\",\"Yes\",\"No\",\"Yes\",\"Yes\",\"No\",\"Yes\",\"No\",\"Yes\",\"No\",\"Yes\",\"No\",\"No\",\"No\",\"No\",\"No\",\"No\",\"No\",\"No\",\"No\",\"No\",\"No\",\"No\",\"No\",\"No\",\"No\",\"No\",\"No\",\"No\",\"No\",\"Yes\",\"No\",\"No\",\"No\",\"Yes\",\"No\",\"No\",\"No\",\"No\",\"No\",\"Yes\",\"Yes\",\"No\",\"No\",\"No\",\"No\",\"No\",\"Yes\",\"No\",\"No\",\"No\",\"No\",\"No\",\"No\",\"Yes\",\"No\",\"Yes\",\"No\",\"No\",\"No\",\"No\",\"No\",\"No\",\"No\",\"No\",\"No\",\"Yes\",\"Yes\",\"No\",\"No\",\"No\",\"No\",\"No\",\"No\",\"Yes\",\"Yes\",\"Yes\",\"Yes\",\"Yes\",\"No\",\"No\",\"Yes\",\"Yes\",\"Yes\",\"Yes\",\"No\",\"Yes\",\"Yes\",\"Yes\",\"Yes\",\"No\",\"Yes\",\"Yes\",\"No\",\"No\",\"Yes\",\"Yes\",\"No\",\"Yes\",\"No\",\"No\",\"Yes\",\"Yes\",\"No\",\"Yes\",\"No\",\"Yes\",\"No\",\"No\",\"Yes\",\"Yes\",\"No\",\"No\",\"No\",\"No\",\"Yes\",\"No\",\"No\",\"Yes\",\"No\",\"Yes\",\"No\",\"Yes\",\"Yes\",\"No\",\"No\",\"No\",\"No\",\"No\",\"No\",\"No\",\"No\",\"No\",\"No\",\"No\",\"No\",\"No\",\"No\",\"Yes\",\"No\",\"No\",\"No\",\"No\",\"No\",\"No\",\"No\",\"No\",\"No\",\"No\",\"No\",\"No\",\"No\",\"No\",\"No\",\"No\",\"No\",\"No\",\"No\",\"No\",\"No\",\"No\",\"No\",\"Yes\",\"Yes\",\"No\",\"No\",\"No\",\"No\",\"No\",\"No\",\"No\",\"No\",\"No\",\"No\",\"No\",\"No\",\"No\",\"No\",\"No\",\"No\",\"No\",\"No\",\"No\",\"Yes\",\"No\",\"No\",\"No\",\"No\",\"No\",\"No\",\"No\",\"No\",\"No\",\"No\",\"No\",\"No\",\"No\",\"No\",\"No\",\"No\",\"No\",\"No\",\"No\",\"No\",\"No\",\"No\",\"No\",\"Yes\",\"Yes\",\"No\",\"No\",\"No\",\"No\",\"No\",\"No\",\"No\",\"No\",\"No\",\"Yes\",\"No\",\"Yes\",\"Yes\",\"Yes\",\"Yes\",\"Yes\",\"No\",\"No\",\"No\",\"Yes\",\"No\",\"No\",\"Yes\",\"No\",\"Yes\",\"No\",\"Yes\",\"Yes\",\"No\",\"No\",\"No\",\"No\",\"Yes\",\"Yes\",\"No\",\"No\",\"No\",\"Yes\",\"No\",\"No\",\"No\",\"Yes\",\"No\",\"Yes\",\"No\",\"No\",\"Yes\",\"No\",\"Yes\",\"Yes\",\"Yes\",\"No\",\"No\",\"Yes\",\"Yes\",\"Yes\",\"Yes\",\"No\",\"Yes\",\"No\",\"No\",\"Yes\",\"No\",\"No\",\"No\",\"Yes\",\"No\",\"Yes\",\"No\",\"No\",\"No\",\"No\",\"Yes\",\"Yes\",\"No\",\"Yes\",\"No\",\"No\",\"No\",\"Yes\",\"No\",\"No\",\"Yes\",\"No\",\"Yes\",\"Yes\",\"No\",\"No\",\"No\",\"Yes\",\"Yes\",\"Yes\",\"Yes\",\"Yes\",\"Yes\",\"No\",\"No\",\"Yes\",\"Yes\",\"No\",\"Yes\",\"Yes\",\"Yes\",\"No\",\"No\",\"Yes\",\"No\",\"No\",\"No\",\"No\",\"No\",\"No\",\"Yes\",\"Yes\",\"Yes\",\"Yes\",\"No\",\"Yes\",\"No\",\"No\",\"No\",\"No\",\"Yes\",\"No\",\"No\",\"No\",\"Yes\",\"Yes\",\"No\",\"Yes\",\"No\",\"Yes\",\"Yes\",\"Yes\",\"No\",\"Yes\",\"No\",\"No\",\"Yes\",\"Yes\",\"No\",\"Yes\",\"Yes\",\"Yes\",\"Yes\",\"Yes\",\"No\",\"No\",\"No\",\"Yes\",\"No\",\"Yes\",\"Yes\",\"Yes\",\"Yes\",\"No\",\"No\",\"No\",\"Yes\",\"Yes\",\"No\",\"Yes\",\"Yes\",\"No\",\"No\",\"No\",\"No\",\"Yes\",\"Yes\",\"No\",\"No\",\"No\",\"No\",\"Yes\",\"Yes\",\"No\",\"No\",\"No\",\"No\",\"No\",\"No\",\"No\",\"No\",\"No\",\"No\",\"No\",\"No\",\"Yes\",\"No\",\"No\",\"No\",\"No\",\"No\",\"No\",\"No\",\"No\",\"No\",\"No\",\"No\",\"No\",\"No\",\"No\",\"Yes\",\"No\",\"No\",\"No\",\"No\",\"No\",\"Yes\",\"No\",\"Yes\",\"No\",\"No\",\"No\",\"No\",\"No\",\"No\",\"No\",\"No\",\"No\",\"No\",\"Yes\",\"No\",\"Yes\",\"No\",\"No\",\"No\",\"No\",\"No\",\"No\",\"No\",\"No\",\"No\",\"No\",\"No\",\"No\",\"Yes\",\"No\",\"No\",\"No\",\"Yes\",\"Yes\",\"Yes\",\"No\",\"Yes\",\"No\",\"No\",\"No\",\"No\",\"No\",\"No\",\"Yes\",\"No\",\"No\",\"No\",\"Yes\",\"Yes\",\"No\",\"No\",\"No\",\"No\",\"No\",\"No\",\"No\",\"Yes\",\"No\",\"No\",\"Yes\",\"No\",\"Yes\",\"No\",\"No\",\"Yes\",\"Yes\",\"No\",\"No\",\"Yes\",\"Yes\",\"Yes\",\"No\",\"No\",\"Yes\",\"Yes\",\"No\",\"Yes\",\"No\",\"No\",\"No\",\"No\",\"Yes\",\"No\",\"Yes\",\"No\",\"No\",\"Yes\",\"Yes\",\"Yes\",\"No\",\"Yes\",\"No\",\"Yes\",\"Yes\",\"Yes\",\"No\",\"No\",\"No\",\"Yes\",\"Yes\",\"Yes\",\"No\",\"Yes\",\"Yes\",\"No\",\"No\",\"Yes\",\"Yes\",\"Yes\",\"Yes\",\"Yes\",\"Yes\",\"No\",\"No\",\"No\",\"Yes\",\"No\",\"Yes\",\"No\",\"Yes\",\"No\",\"Yes\",\"No\",\"No\",\"Yes\",\"No\",\"Yes\",\"Yes\",\"Yes\",\"No\",\"Yes\",\"No\",\"Yes\",\"No\",\"No\",\"No\",\"No\",\"Yes\",\"Yes\",\"Yes\",\"Yes\",\"Yes\",\"No\",\"Yes\",\"Yes\",\"Yes\",\"No\",\"No\",\"Yes\",\"No\",\"No\",\"No\",\"No\",\"No\",\"No\",\"No\",\"Yes\",\"No\",\"No\",\"No\",\"No\",\"Yes\",\"Yes\",\"No\",\"Yes\",\"No\",\"Yes\",\"Yes\",\"No\",\"Yes\",\"No\",\"No\",\"Yes\",\"No\",\"No\",\"No\",\"Yes\",\"Yes\",\"Yes\",\"Yes\",\"No\",\"Yes\",\"No\",\"No\",\"Yes\",\"Yes\",\"Yes\",\"No\",\"Yes\",\"Yes\",\"Yes\",\"Yes\",\"Yes\",\"Yes\",\"Yes\",\"No\",\"No\",\"Yes\",\"No\",\"Yes\",\"Yes\",\"Yes\",\"Yes\",\"Yes\",\"Yes\",\"No\",\"Yes\",\"No\",\"No\",\"No\",\"Yes\",\"Yes\",\"Yes\",\"Yes\",\"No\",\"Yes\",\"Yes\",\"No\",\"No\",\"Yes\",\"No\",\"No\",\"No\",\"No\",\"No\",\"No\",\"Yes\",\"No\",\"No\",\"Yes\",\"Yes\",\"No\",\"No\",\"No\",\"No\",\"No\",\"No\",\"No\",\"No\",\"No\",\"No\",\"No\",\"No\",\"No\",\"No\",\"No\",\"Yes\",\"No\",\"No\",\"Yes\",\"No\",\"No\",\"No\",\"No\",\"No\",\"No\",\"No\",\"Yes\",\"No\",\"Yes\",\"No\",\"No\",\"No\",\"Yes\",\"Yes\",\"No\",\"No\",\"No\",\"No\",\"No\",\"No\",\"No\",\"No\",\"No\",\"No\",\"No\",\"No\",\"No\",\"No\",\"Yes\",\"No\",\"No\",\"No\",\"Yes\",\"No\",\"No\",\"No\",\"Yes\",\"No\",\"No\",\"No\",\"No\",\"No\",\"Yes\",\"No\",\"No\",\"No\",\"No\",\"No\",\"No\",\"No\",\"No\",\"No\",\"Yes\",\"No\",\"No\",\"No\",\"No\",\"No\",\"Yes\",\"Yes\",\"No\",\"Yes\",\"No\",\"No\",\"Yes\",\"Yes\",\"No\",\"No\",\"Yes\",\"No\",\"No\",\"No\",\"No\",\"Yes\",\"No\",\"Yes\",\"No\",\"No\",\"No\",\"No\",\"No\",\"No\",\"No\",\"Yes\",\"No\",\"No\",\"Yes\",\"No\",\"No\",\"No\",\"Yes\",\"No\",\"No\",\"No\",\"No\",\"No\",\"No\",\"Yes\",\"No\",\"No\",\"No\",\"No\",\"No\",\"Yes\",\"Yes\",\"No\",\"No\",\"Yes\",\"No\",\"Yes\",\"Yes\",\"No\",\"Yes\",\"No\",\"No\",\"Yes\",\"Yes\",\"No\",\"No\",\"Yes\",\"No\",\"No\",\"No\",\"Yes\",\"No\",\"No\",\"No\",\"No\",\"Yes\",\"Yes\",\"Yes\",\"No\",\"No\",\"Yes\",\"No\",\"No\",\"Yes\",\"Yes\",\"No\",\"Yes\",\"Yes\",\"No\",\"Yes\",\"Yes\",\"Yes\",\"Yes\",\"Yes\",\"No\",\"Yes\",\"No\",\"Yes\",\"No\",\"No\",\"No\",\"No\",\"No\",\"Yes\",\"Yes\",\"Yes\",\"No\",\"Yes\",\"No\",\"No\",\"Yes\",\"Yes\",\"Yes\",\"Yes\",\"Yes\",\"Yes\",\"Yes\",\"No\",\"No\",\"Yes\",\"Yes\",\"No\",\"No\",\"No\",\"Yes\",\"Yes\",\"No\",\"No\",\"Yes\",\"Yes\",\"No\",\"No\",\"No\",\"No\",\"Yes\",\"Yes\",\"Yes\",\"No\",\"Yes\",\"Yes\",\"No\",\"No\",\"No\",\"Yes\",\"No\",\"No\",\"Yes\",\"Yes\",\"No\",\"Yes\",\"Yes\",\"Yes\",\"No\",\"No\",\"No\",\"No\",\"No\",\"No\",\"No\",\"No\",\"No\",\"No\",\"No\",\"Yes\",\"No\",\"Yes\",\"Yes\",\"No\",\"No\",\"No\",\"Yes\",\"No\",\"Yes\",\"Yes\",\"No\",\"Yes\",\"No\",\"Yes\",\"No\",\"No\",\"No\",\"Yes\",\"Yes\",\"Yes\",\"Yes\",\"No\",\"No\",\"No\",\"No\",\"Yes\",\"No\",\"No\",\"No\",\"No\",\"No\",\"No\",\"Yes\",\"No\",\"No\",\"No\",\"Yes\",\"No\",\"No\",\"Yes\",\"No\",\"No\",\"No\",\"No\",\"No\",\"No\",\"No\",\"Yes\",\"No\",\"No\",\"Yes\",\"Yes\",\"No\",\"No\",\"No\",\"No\",\"No\",\"No\",\"No\",\"Yes\",\"No\",\"No\",\"No\",\"No\",\"No\",\"Yes\",\"Yes\",\"No\",\"No\",\"Yes\",\"No\",\"Yes\",\"Yes\",\"Yes\",\"Yes\",\"No\",\"Yes\",\"No\",\"No\",\"No\",\"No\",\"No\",\"No\",\"No\",\"Yes\",\"No\",\"Yes\",\"No\",\"No\",\"No\",\"No\",\"No\",\"Yes\",\"No\",\"Yes\",\"Yes\",\"No\",\"Yes\",\"No\",\"Yes\",\"Yes\",\"No\",\"Yes\",\"No\",\"No\",\"No\",\"No\",\"Yes\",\"No\",\"No\",\"Yes\",\"No\",\"No\",\"No\",\"No\",\"No\",\"Yes\",\"No\",\"No\",\"No\",\"No\",\"No\",\"No\",\"No\"],\"xaxis\":\"x\",\"yaxis\":\"y\",\"type\":\"histogram\"}],                        {\"template\":{\"data\":{\"pie\":[{\"automargin\":true,\"type\":\"pie\"}]},\"layout\":{\"xaxis\":{\"showgrid\":true,\"title\":{\"standoff\":15}},\"yaxis\":{\"showgrid\":true,\"title\":{\"standoff\":15}}}},\"xaxis\":{\"anchor\":\"y\",\"domain\":[0.0,1.0],\"title\":{\"text\":\"aire_acondicionado\"}},\"yaxis\":{\"anchor\":\"x\",\"domain\":[0.0,1.0],\"title\":{\"text\":\"count\"}},\"legend\":{\"tracegroupgap\":0},\"title\":{\"text\":\"Aire Acondicionado\"},\"barmode\":\"relative\"},                        {\"responsive\": true}                    ).then(function(){\n",
              "                            \n",
              "var gd = document.getElementById('31d0858f-8dff-464c-bdf4-61d20635cc43');\n",
              "var x = new MutationObserver(function (mutations, observer) {{\n",
              "        var display = window.getComputedStyle(gd).display;\n",
              "        if (!display || display === 'none') {{\n",
              "            console.log([gd, 'removed!']);\n",
              "            Plotly.purge(gd);\n",
              "            observer.disconnect();\n",
              "        }}\n",
              "}});\n",
              "\n",
              "// Listen for the removal of the full notebook cells\n",
              "var notebookContainer = gd.closest('#notebook-container');\n",
              "if (notebookContainer) {{\n",
              "    x.observe(notebookContainer, {childList: true});\n",
              "}}\n",
              "\n",
              "// Listen for the clearing of the current output cell\n",
              "var outputEl = gd.closest('.output');\n",
              "if (outputEl) {{\n",
              "    x.observe(outputEl, {childList: true});\n",
              "}}\n",
              "\n",
              "                        })                };            </script>        </div>\n",
              "</body>\n",
              "</html>"
            ]
          },
          "metadata": {}
        }
      ]
    },
    {
      "cell_type": "markdown",
      "metadata": {
        "id": "g3uSDg6Ju8EQ"
      },
      "source": [
        "##**División del Conjunto de Datos en train y test**\n"
      ]
    },
    {
      "cell_type": "code",
      "metadata": {
        "id": "Rq4URhANvTAK"
      },
      "source": [
        "X_train, X_test, y_train, y_test = train_test_split(datos.drop('precio', axis = 'columns'),\n",
        "                                                    datos['precio'],train_size   = 0.8,\n",
        "                                                    random_state = 2021, shuffle = True)"
      ],
      "execution_count": 38,
      "outputs": []
    },
    {
      "cell_type": "code",
      "metadata": {
        "colab": {
          "base_uri": "https://localhost:8080/"
        },
        "id": "DKRKpqMxvtNp",
        "outputId": "0f6716da-fd12-4211-ed8e-da8109a4693e"
      },
      "source": [
        "X_train.shape"
      ],
      "execution_count": 39,
      "outputs": [
        {
          "output_type": "execute_result",
          "data": {
            "text/plain": [
              "(1382, 15)"
            ]
          },
          "metadata": {},
          "execution_count": 39
        }
      ]
    },
    {
      "cell_type": "code",
      "metadata": {
        "colab": {
          "base_uri": "https://localhost:8080/"
        },
        "id": "4H31nRUHv7Ot",
        "outputId": "729bd0a2-fa7a-4585-c030-342d2b1def7d"
      },
      "source": [
        "X_test.shape"
      ],
      "execution_count": 40,
      "outputs": [
        {
          "output_type": "execute_result",
          "data": {
            "text/plain": [
              "(346, 15)"
            ]
          },
          "metadata": {},
          "execution_count": 40
        }
      ]
    },
    {
      "cell_type": "code",
      "metadata": {
        "colab": {
          "base_uri": "https://localhost:8080/"
        },
        "id": "msZ0OqxCwACa",
        "outputId": "c643cc37-cf3d-4e56-a471-1f1dc216c9c8"
      },
      "source": [
        "y_train.shape"
      ],
      "execution_count": 41,
      "outputs": [
        {
          "output_type": "execute_result",
          "data": {
            "text/plain": [
              "(1382,)"
            ]
          },
          "metadata": {},
          "execution_count": 41
        }
      ]
    },
    {
      "cell_type": "code",
      "metadata": {
        "colab": {
          "base_uri": "https://localhost:8080/"
        },
        "id": "DxZUNqeMwDfT",
        "outputId": "4b0e30af-820f-422a-ddb7-819a8e5c9b62"
      },
      "source": [
        "y_test.shape"
      ],
      "execution_count": 42,
      "outputs": [
        {
          "output_type": "execute_result",
          "data": {
            "text/plain": [
              "(346,)"
            ]
          },
          "metadata": {},
          "execution_count": 42
        }
      ]
    },
    {
      "cell_type": "markdown",
      "metadata": {
        "id": "IW8p9c4p9-9a"
      },
      "source": [
        "**Otra forma de división del Conjunto de Datos**"
      ]
    },
    {
      "cell_type": "code",
      "metadata": {
        "id": "-JxgdRmL-Rl8"
      },
      "source": [
        "y = datos[\"precio\"] # variable objetivo\n",
        "X = datos.drop(columns=[\"precio\"]) # vector de entrada"
      ],
      "execution_count": 43,
      "outputs": []
    },
    {
      "cell_type": "code",
      "metadata": {
        "id": "VwqJYJA1-bjh"
      },
      "source": [
        "X_train, X_test, y_train, y_test = train_test_split(X, y, test_size = 0.20, random_state = 0)"
      ],
      "execution_count": 44,
      "outputs": []
    },
    {
      "cell_type": "code",
      "metadata": {
        "colab": {
          "base_uri": "https://localhost:8080/"
        },
        "id": "aZDj2AuF-eFS",
        "outputId": "f3edfcc3-98fd-4edc-f414-94526784c2da"
      },
      "source": [
        "X_train.shape"
      ],
      "execution_count": 45,
      "outputs": [
        {
          "output_type": "execute_result",
          "data": {
            "text/plain": [
              "(1382, 15)"
            ]
          },
          "metadata": {},
          "execution_count": 45
        }
      ]
    },
    {
      "cell_type": "code",
      "metadata": {
        "colab": {
          "base_uri": "https://localhost:8080/"
        },
        "id": "VFpMAwoe-hh_",
        "outputId": "3dc66e8f-ac16-4f14-cacb-97a18a8a8ba3"
      },
      "source": [
        "X_test.shape"
      ],
      "execution_count": 46,
      "outputs": [
        {
          "output_type": "execute_result",
          "data": {
            "text/plain": [
              "(346, 15)"
            ]
          },
          "metadata": {},
          "execution_count": 46
        }
      ]
    },
    {
      "cell_type": "code",
      "metadata": {
        "colab": {
          "base_uri": "https://localhost:8080/"
        },
        "id": "95Z0n73o-kTj",
        "outputId": "eb36a175-800f-4646-cec1-8bed29a7b5ac"
      },
      "source": [
        "y_train.shape"
      ],
      "execution_count": 47,
      "outputs": [
        {
          "output_type": "execute_result",
          "data": {
            "text/plain": [
              "(1382,)"
            ]
          },
          "metadata": {},
          "execution_count": 47
        }
      ]
    },
    {
      "cell_type": "code",
      "metadata": {
        "id": "Q5-lRNua-nO7",
        "outputId": "499e3f45-70e8-40d7-ea52-85cbe6875248",
        "colab": {
          "base_uri": "https://localhost:8080/"
        }
      },
      "source": [
        "y_test.shape"
      ],
      "execution_count": 48,
      "outputs": [
        {
          "output_type": "execute_result",
          "data": {
            "text/plain": [
              "(346,)"
            ]
          },
          "metadata": {},
          "execution_count": 48
        }
      ]
    }
  ]
}
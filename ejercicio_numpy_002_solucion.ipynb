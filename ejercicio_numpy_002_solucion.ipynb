{
  "nbformat": 4,
  "nbformat_minor": 0,
  "metadata": {
    "colab": {
      "provenance": [],
      "include_colab_link": true
    },
    "kernelspec": {
      "name": "python3",
      "display_name": "Python 3"
    },
    "language_info": {
      "name": "python"
    }
  },
  "cells": [
    {
      "cell_type": "markdown",
      "metadata": {
        "id": "view-in-github",
        "colab_type": "text"
      },
      "source": [
        "<a href=\"https://colab.research.google.com/github/Viny2030/UMSA-Analisis_de_datos/blob/main/ejercicio_numpy_002_solucion.ipynb\" target=\"_parent\"><img src=\"https://colab.research.google.com/assets/colab-badge.svg\" alt=\"Open In Colab\"/></a>"
      ]
    },
    {
      "cell_type": "markdown",
      "source": [
        "![umsa.png](data:image/png;base64,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)"
      ],
      "metadata": {
        "id": "CYx7uSN7Mnv9"
      }
    },
    {
      "cell_type": "markdown",
      "source": [
        " # **<font color=\"DarkBlue\">Ejercicios de análisis de datos con NumPy</font>**"
      ],
      "metadata": {
        "id": "_o8tuKydjnRZ"
      }
    },
    {
      "cell_type": "markdown",
      "source": [
        "<p align=\"center\">\n",
        "<img src=\"https://numpy.org/images/logo.svg\" width=\"80\" height=\"\">\n",
        "</p>\n"
      ],
      "metadata": {
        "id": "XM-hn7ZLmgQc"
      }
    },
    {
      "cell_type": "markdown",
      "source": [
        "https://numpy.org"
      ],
      "metadata": {
        "id": "iw1xUwq1fpWm"
      }
    },
    {
      "cell_type": "markdown",
      "source": [
        "<p align=\"justify\">\n",
        "✅ A continuación, se presentan algunos ejercicios prácticos:\n"
      ],
      "metadata": {
        "id": "NmdIQti23iRn"
      }
    },
    {
      "cell_type": "markdown",
      "source": [
        " ## **<font color=\"DarkBlue\">Ejercicio 1: Normalización de Datos de Ventas y Gastos</font>**"
      ],
      "metadata": {
        "id": "txzzVlEO3kzs"
      }
    },
    {
      "cell_type": "markdown",
      "source": [
        "\n",
        "🏷 **a. Ejercicio 1: Normalización de Datos de Ventas y Gastos:**\n",
        "   - Supongamos que tenemos datos de ventas mensuales en miles de dólares y datos de gastos mensuales en miles de dólares para una empresa. Normaliza ambos conjuntos de datos y calcula el margen de beneficio (ventas - gastos) para cada mes.\n"
      ],
      "metadata": {
        "id": "KNYAdCFo3yMF"
      }
    },
    {
      "cell_type": "code",
      "source": [
        "import numpy as np"
      ],
      "metadata": {
        "id": "pxsXm0O1Psrb"
      },
      "execution_count": 2,
      "outputs": []
    },
    {
      "cell_type": "code",
      "source": [
        "# Datos de ventas mensuales en miles de dólares\n",
        "ventas = np.array([100, 120, 110, 130, 140])\n",
        "ventas"
      ],
      "metadata": {
        "id": "Q1QZiD8J4UMM",
        "colab": {
          "base_uri": "https://localhost:8080/"
        },
        "outputId": "ab0e801e-cd86-420c-b3cb-fdb7a28686bd"
      },
      "execution_count": 4,
      "outputs": [
        {
          "output_type": "execute_result",
          "data": {
            "text/plain": [
              "array([100, 120, 110, 130, 140])"
            ]
          },
          "metadata": {},
          "execution_count": 4
        }
      ]
    },
    {
      "cell_type": "code",
      "source": [
        "# Datos de gastos mensuales en miles de dólares\n",
        "gastos = np.array([50, 60, 55, 65, 70])\n",
        "gastos"
      ],
      "metadata": {
        "id": "ZB0wN5kh4T4D",
        "colab": {
          "base_uri": "https://localhost:8080/"
        },
        "outputId": "e930e14d-af38-434a-f5e8-f926a1499773"
      },
      "execution_count": 5,
      "outputs": [
        {
          "output_type": "execute_result",
          "data": {
            "text/plain": [
              "array([50, 60, 55, 65, 70])"
            ]
          },
          "metadata": {},
          "execution_count": 5
        }
      ]
    },
    {
      "cell_type": "code",
      "source": [
        "# prompt: # Normalización de datos\n",
        "\n",
        "import numpy as np\n",
        "\n",
        "# Datos de ventas mensuales en miles de dólares\n",
        "ventas = np.array([100, 120, 110, 130, 140])\n",
        "\n",
        "# Datos de gastos mensuales en miles de dólares\n",
        "gastos = np.array([50, 60, 55, 65, 70])\n",
        "\n",
        "# Normalización de datos de ventas\n",
        "ventas_norm = (ventas - np.min(ventas)) / (np.max(ventas) - np.min(ventas))\n",
        "\n",
        "# Normalización de datos de gastos\n",
        "gastos_norm = (gastos - np.min(gastos)) / (np.max(gastos) - np.min(gastos))\n",
        "\n",
        "# Cálculo del margen de beneficio\n",
        "margen_beneficio = ventas - gastos\n",
        "\n",
        "# Imprimir resultados\n",
        "print(\"Ventas normalizadas:\", ventas_norm)\n",
        "print(\"Gastos normalizados:\", gastos_norm)\n",
        "print(\"Margen de beneficio:\", margen_beneficio)\n"
      ],
      "metadata": {
        "colab": {
          "base_uri": "https://localhost:8080/"
        },
        "id": "OTO9yEAkPydW",
        "outputId": "0379a872-dc3f-4deb-bddc-28ce47a3bbb1"
      },
      "execution_count": 6,
      "outputs": [
        {
          "output_type": "stream",
          "name": "stdout",
          "text": [
            "Ventas normalizadas: [0.   0.5  0.25 0.75 1.  ]\n",
            "Gastos normalizados: [0.   0.5  0.25 0.75 1.  ]\n",
            "Margen de beneficio: [50 60 55 65 70]\n"
          ]
        }
      ]
    },
    {
      "cell_type": "code",
      "source": [
        "# prompt: # Cálculo del margen de beneficio\n",
        "\n",
        "# Cálculo del margen de beneficio porcentual\n",
        "margen_beneficio_porcentual = (margen_beneficio / ventas) * 100\n",
        "\n",
        "# Imprimir el margen de beneficio porcentual\n",
        "print(\"Margen de beneficio porcentual:\", margen_beneficio_porcentual)\n"
      ],
      "metadata": {
        "colab": {
          "base_uri": "https://localhost:8080/"
        },
        "id": "Yl4VtjnRP3Wx",
        "outputId": "aad10832-ddb9-4a83-a207-5bf877c7a227"
      },
      "execution_count": 7,
      "outputs": [
        {
          "output_type": "stream",
          "name": "stdout",
          "text": [
            "Margen de beneficio porcentual: [50. 50. 50. 50. 50.]\n"
          ]
        }
      ]
    },
    {
      "cell_type": "markdown",
      "source": [
        "<p align=\"justify\">\n",
        "<br>\n",
        "✅ A continuación, una solución sugerida:\n",
        "<br><br>\n"
      ],
      "metadata": {
        "id": "jz4jevjB4Uwd"
      }
    },
    {
      "cell_type": "markdown",
      "source": [
        "🏷 **a. Ejercicio 1: Normalización de Datos de Ventas y Gastos:**\n",
        "   - Supongamos que tenemos datos de ventas mensuales en miles de dólares y datos de gastos mensuales en miles de dólares para una empresa. Normaliza ambos conjuntos de datos y calcula el margen de beneficio (ventas - gastos) para cada mes.\n",
        "\n",
        "```python\n",
        "# Normalización de datos\n",
        "ventas_normalizadas = (ventas - np.min(ventas)) / (np.max(ventas) - np.min(ventas))\n",
        "gastos_normalizados = (gastos - np.min(gastos)) / (np.max(gastos) - np.min(gastos))\n",
        "\n",
        "# Cálculo del margen de beneficio\n",
        "margen_beneficio = ventas_normalizadas - gastos_normalizadas\n",
        "\n",
        "print(\"Margen de beneficio:\", margen_beneficio)\n",
        "```\n"
      ],
      "metadata": {
        "id": "ehADME8e4kCL"
      }
    },
    {
      "cell_type": "code",
      "source": [
        "# Normalización de datos\n",
        "ventas_normalizadas = (ventas - np.min(ventas)) / (np.max(ventas) - np.min(ventas))\n",
        "gastos_normalizados = (gastos - np.min(gastos)) / (np.max(gastos) - np.min(gastos))\n",
        "\n",
        "# Cálculo del margen de beneficio\n",
        "margen_beneficio = ventas_normalizadas - gastos_normalizados\n",
        "\n",
        "print(\"Margen de beneficio:\", margen_beneficio)"
      ],
      "metadata": {
        "colab": {
          "base_uri": "https://localhost:8080/"
        },
        "id": "qiNRgtzPP9ge",
        "outputId": "885baa38-c82c-4fd0-dc8c-ac7e9988096b"
      },
      "execution_count": 10,
      "outputs": [
        {
          "output_type": "stream",
          "name": "stdout",
          "text": [
            "Margen de beneficio: [0. 0. 0. 0. 0.]\n"
          ]
        }
      ]
    },
    {
      "cell_type": "markdown",
      "source": [
        " ## **<font color=\"DarkBlue\">Ejercicio 2: Estandarización de Datos de Satisfacción del Cliente</font>**"
      ],
      "metadata": {
        "id": "hvnOpka031xk"
      }
    },
    {
      "cell_type": "markdown",
      "source": [
        "\n",
        "🏷 **b. Ejercicio 2: Estandarización de Datos de Satisfacción del Cliente:**\n",
        "   - Supongamos que tenemos datos de puntajes de satisfacción del cliente en una escala del 1 al 10 para una empresa. Estandariza estos datos y calcula el promedio de satisfacción del cliente.\n",
        "\n"
      ],
      "metadata": {
        "id": "QIDY-KqB3-32"
      }
    },
    {
      "cell_type": "code",
      "source": [
        "# Datos de puntajes de satisfacción del cliente\n",
        "satisfaccion_cliente = np.array([7, 8, 6, 9, 7])"
      ],
      "metadata": {
        "id": "xF3eirBi4RmY"
      },
      "execution_count": 11,
      "outputs": []
    },
    {
      "cell_type": "code",
      "source": [
        "# prompt: # Estandarización de datos\n",
        "\n",
        "# Datos de puntajes de satisfacción del cliente\n",
        "satisfaccion_cliente = np.array([7, 8, 6, 9, 7])\n",
        "\n",
        "# Estandarización de datos\n",
        "satisfaccion_cliente_estandarizada = (satisfaccion_cliente - np.mean(satisfaccion_cliente)) / np.std(satisfaccion_cliente)\n",
        "\n",
        "# Cálculo del promedio de satisfacción del cliente\n",
        "promedio_satisfaccion = np.mean(satisfaccion_cliente)\n",
        "\n",
        "print(\"Satisfacción del cliente estandarizada:\", satisfaccion_cliente_estandarizada)\n",
        "print(\"Promedio de satisfacción del cliente:\", promedio_satisfaccion)\n"
      ],
      "metadata": {
        "colab": {
          "base_uri": "https://localhost:8080/"
        },
        "id": "2WrQ82ETQFjn",
        "outputId": "a5f0a82d-6b3c-4c44-952a-e91a6bd69627"
      },
      "execution_count": 12,
      "outputs": [
        {
          "output_type": "stream",
          "name": "stdout",
          "text": [
            "Satisfacción del cliente estandarizada: [-0.39223227  0.58834841 -1.37281295  1.56892908 -0.39223227]\n",
            "Promedio de satisfacción del cliente: 7.4\n"
          ]
        }
      ]
    },
    {
      "cell_type": "code",
      "source": [
        "# prompt: # Cálculo del promedio de satisfacción del cliente\n",
        "\n",
        "import numpy as np\n",
        "\n",
        "# Datos de ventas mensuales en miles de dólares\n",
        "ventas = np.array([100, 120, 110, 130, 140])\n",
        "\n",
        "# Datos de gastos mensuales en miles de dólares\n",
        "gastos = np.array([50, 60, 55, 65, 70])\n",
        "\n",
        "# Datos de puntajes de satisfacción del cliente\n",
        "satisfaccion_cliente = np.array([7, 8, 6, 9, 7])\n",
        "\n",
        "# Normalización de datos de ventas\n",
        "ventas_norm = (ventas - np.min(ventas)) / (np.max(ventas) - np.min(ventas))\n",
        "\n",
        "# Normalización de datos de gastos\n",
        "gastos_norm = (gastos - np.min(gastos)) / (np.max(gastos) - np.min(gastos))\n",
        "\n",
        "# Cálculo del margen de beneficio\n",
        "margen_beneficio = ventas - gastos\n",
        "\n",
        "# Imprimir resultados\n",
        "print(\"Ventas normalizadas:\", ventas_norm)\n",
        "print(\"Gastos normalizados:\", gastos_norm)\n",
        "print(\"Margen de beneficio:\", margen_beneficio)\n",
        "\n",
        "# Cálculo del margen de beneficio porcentual\n",
        "margen_beneficio_porcentual = (margen_beneficio / ventas) * 100\n",
        "\n",
        "# Imprimir el margen de beneficio porcentual\n",
        "print(\"Margen de beneficio porcentual:\", margen_beneficio_porcentual)\n",
        "\n",
        "\n",
        "# Normalización de datos\n",
        "ventas_normalizadas = (ventas - np.min(ventas)) / (np.max(ventas) - np.min(ventas))\n",
        "gastos_normalizados = (gastos - np.min(gastos)) / (np.max(gastos) - np.min(gastos))\n",
        "\n",
        "# Cálculo del margen de beneficio\n",
        "margen_beneficio = ventas_normalizadas - gastos_normalizados\n",
        "\n",
        "print(\"Margen de beneficio (normalizado):\", margen_beneficio)\n",
        "\n",
        "# Estandarización de datos de satisfacción del cliente\n",
        "satisfaccion_cliente_estandarizada = (satisfaccion_cliente - np.mean(satisfaccion_cliente)) / np.std(satisfaccion_cliente)\n",
        "\n",
        "# Cálculo del promedio de satisfacción del cliente\n",
        "promedio_satisfaccion = np.mean(satisfaccion_cliente)\n",
        "\n",
        "print(\"Satisfacción del cliente estandarizada:\", satisfaccion_cliente_estandarizada)\n",
        "print(\"Promedio de satisfacción del cliente:\", promedio_satisfaccion)\n"
      ],
      "metadata": {
        "colab": {
          "base_uri": "https://localhost:8080/"
        },
        "id": "WzbedJezQKY5",
        "outputId": "5c2ae112-5877-4dac-a25b-a462f0384096"
      },
      "execution_count": 13,
      "outputs": [
        {
          "output_type": "stream",
          "name": "stdout",
          "text": [
            "Ventas normalizadas: [0.   0.5  0.25 0.75 1.  ]\n",
            "Gastos normalizados: [0.   0.5  0.25 0.75 1.  ]\n",
            "Margen de beneficio: [50 60 55 65 70]\n",
            "Margen de beneficio porcentual: [50. 50. 50. 50. 50.]\n",
            "Margen de beneficio (normalizado): [0. 0. 0. 0. 0.]\n",
            "Satisfacción del cliente estandarizada: [-0.39223227  0.58834841 -1.37281295  1.56892908 -0.39223227]\n",
            "Promedio de satisfacción del cliente: 7.4\n"
          ]
        }
      ]
    },
    {
      "cell_type": "markdown",
      "source": [
        "<p align=\"justify\">\n",
        "<br>\n",
        "✅ A continuación, una solución sugerida:\n",
        "<br><br>\n"
      ],
      "metadata": {
        "id": "qHXH36oj4SBR"
      }
    },
    {
      "cell_type": "markdown",
      "source": [
        "\n",
        "🏷 **b. Ejercicio 2: Estandarización de Datos de Satisfacción del Cliente:**\n",
        "   - Supongamos que tenemos datos de puntajes de satisfacción del cliente en una escala del 1 al 10 para una empresa. Estandariza estos datos y calcula el promedio de satisfacción del cliente.\n",
        "\n",
        "```python\n",
        "# Estandarización de datos\n",
        "satisfaccion_estandarizada = (satisfaccion_cliente - np.mean(satisfaccion_cliente)) / np.std(satisfaccion_cliente)\n",
        "\n",
        "# Cálculo del promedio de satisfacción del cliente\n",
        "promedio_satisfaccion = np.mean(satisfaccion_estandarizada)\n",
        "\n",
        "print(\"Promedio de satisfacción del cliente:\", promedio_satisfaccion)\n",
        "```\n"
      ],
      "metadata": {
        "id": "8_EM6XK_5CAF"
      }
    },
    {
      "cell_type": "code",
      "source": [
        "# Estandarización de datos\n",
        "satisfaccion_estandarizada = (satisfaccion_cliente - np.mean(satisfaccion_cliente)) / np.std(satisfaccion_cliente)\n",
        "\n",
        "# Cálculo del promedio de satisfacción del cliente\n",
        "promedio_satisfaccion = np.mean(satisfaccion_estandarizada)\n",
        "\n",
        "print(\"Promedio de satisfacción del cliente:\", promedio_satisfaccion)\n"
      ],
      "metadata": {
        "colab": {
          "base_uri": "https://localhost:8080/"
        },
        "id": "lL2kUNvBQQjw",
        "outputId": "021e06c1-3d18-457b-f362-8eb346f6b29e"
      },
      "execution_count": 14,
      "outputs": [
        {
          "output_type": "stream",
          "name": "stdout",
          "text": [
            "Promedio de satisfacción del cliente: -3.885780586188048e-16\n"
          ]
        }
      ]
    },
    {
      "cell_type": "markdown",
      "source": [
        " ## **<font color=\"DarkBlue\">Ejercicio 3: Discretización de Datos de Ingresos Anuales</font>**"
      ],
      "metadata": {
        "id": "G1QY2ZiJ4CgD"
      }
    },
    {
      "cell_type": "markdown",
      "source": [
        "\n",
        "\n",
        "🏷 **c. Ejercicio 3: Discretización de Datos de Ingresos Anuales:**\n",
        "   - Supongamos que tenemos datos de ingresos anuales en miles de dólares para una empresa. Discretiza estos datos en tres categorías: \"bajo\", \"medio\" y \"alto\" ingresos.\n",
        "\n"
      ],
      "metadata": {
        "id": "VChuYfN5EhN7"
      }
    },
    {
      "cell_type": "code",
      "source": [
        "# Datos de ingresos anuales en miles de dólares\n",
        "ingresos = np.array([250, 300, 200, 350, 400])"
      ],
      "metadata": {
        "id": "rjG79w9_4J0e"
      },
      "execution_count": 15,
      "outputs": []
    },
    {
      "cell_type": "code",
      "source": [
        "import pandas as pd"
      ],
      "metadata": {
        "id": "JIhyJdDNQscI"
      },
      "execution_count": 19,
      "outputs": []
    },
    {
      "cell_type": "code",
      "source": [
        "import numpy as np\n",
        "\n",
        "ingresos = np.array([250, 300, 200, 350, 400])\n",
        "\n",
        "# Discretizar por ancho igual (Equal-width)\n",
        "# Encontrar los valores mínimo y máximo para definir el rango\n",
        "min_ingreso = ingresos.min()\n",
        "max_ingreso = ingresos.max()\n",
        "\n",
        "# Definir el número de bins (intervalos)\n",
        "n_bins = 3  # Puedes ajustar este número según tu necesidad\n",
        "\n",
        "# Calcular el ancho de cada bin\n",
        "ancho_bin = (max_ingreso - min_ingreso) / n_bins\n",
        "\n",
        "# Crear los bins\n",
        "bins = np.linspace(start=min_ingreso, stop=max_ingreso, num=n_bins + 1)\n",
        "\n",
        "# Discretizar los datos\n",
        "ingresos_discretizados_ew = np.digitize(ingresos, bins=bins)\n",
        "\n",
        "print(\"Ingresos Originales:\", ingresos)\n",
        "print(\"Bins (Ancho Igual):\", bins)\n",
        "print(\"Ingresos Discretizados (Ancho Igual):\", ingresos_discretizados_ew)\n",
        "\n",
        "# Discretizar por frecuencia igual (Equal-frequency o Quantile)\n",
        "ingresos_discretizados_ef, bins_ef = pd.qcut(ingresos, q=3, labels=False, retbins=True) # Usamos qcut de Pandas\n",
        "\n",
        "print(\"\\nIngresos Originales:\", ingresos)\n",
        "print(\"Bins (Frecuencia Igual):\", bins_ef)\n",
        "print(\"Ingresos Discretizados (Frecuencia Igual):\", ingresos_discretizados_ef)"
      ],
      "metadata": {
        "colab": {
          "base_uri": "https://localhost:8080/"
        },
        "id": "5Lj11UGvQp7P",
        "outputId": "2e3b2f29-d5f6-4892-a94a-0de9c3d45820"
      },
      "execution_count": 20,
      "outputs": [
        {
          "output_type": "stream",
          "name": "stdout",
          "text": [
            "Ingresos Originales: [250 300 200 350 400]\n",
            "Bins (Ancho Igual): [200.         266.66666667 333.33333333 400.        ]\n",
            "Ingresos Discretizados (Ancho Igual): [1 2 1 3 4]\n",
            "\n",
            "Ingresos Originales: [250 300 200 350 400]\n",
            "Bins (Frecuencia Igual): [200.         266.66666667 333.33333333 400.        ]\n",
            "Ingresos Discretizados (Frecuencia Igual): [0 1 0 2 2]\n"
          ]
        }
      ]
    },
    {
      "cell_type": "markdown",
      "source": [
        "<p align=\"justify\">\n",
        "<br>\n",
        "✅ A continuación, una solución sugerida:\n",
        "<br><br>\n"
      ],
      "metadata": {
        "id": "CQ4EZRIr4O-B"
      }
    },
    {
      "cell_type": "markdown",
      "source": [
        "\n",
        "🏷 **c. Ejercicio 3: Discretización de Datos de Ingresos Anuales:**\n",
        "   - Supongamos que tenemos datos de ingresos anuales en miles de dólares para una empresa. Discretiza estos datos en tres categorías: \"bajo\", \"medio\" y \"alto\" ingresos.\n",
        "\n",
        "```python\n",
        "# Discretización de datos\n",
        "categorias_ingresos = np.digitize(ingresos, bins=[0, 200, 300, np.inf], right=True)\n",
        "categorias_label = ['Bajo', 'Medio', 'Alto']\n",
        "\n",
        "ingresos_categorizados = [categorias_label[i-1] for i in categorias_ingresos]\n",
        "\n",
        "print(\"Ingresos categorizados:\", ingresos_categorizados)\n",
        "```"
      ],
      "metadata": {
        "id": "V1L59ugSF-ze"
      }
    },
    {
      "cell_type": "code",
      "source": [
        "# Discretización de datos\n",
        "categorias_ingresos = np.digitize(ingresos, bins=[0, 200, 300, np.inf], right=True)\n",
        "categorias_label = ['Bajo', 'Medio', 'Alto']\n",
        "\n",
        "ingresos_categorizados = [categorias_label[i-1] for i in categorias_ingresos]\n",
        "\n",
        "print(\"Ingresos categorizados:\", ingresos_categorizados)"
      ],
      "metadata": {
        "colab": {
          "base_uri": "https://localhost:8080/"
        },
        "id": "YfbxMSnhQzgM",
        "outputId": "c82821f4-1ed2-4f68-e5da-7efa60f96dad"
      },
      "execution_count": 21,
      "outputs": [
        {
          "output_type": "stream",
          "name": "stdout",
          "text": [
            "Ingresos categorizados: ['Medio', 'Medio', 'Bajo', 'Alto', 'Alto']\n"
          ]
        }
      ]
    },
    {
      "cell_type": "markdown",
      "source": [
        "<p align=\"center\"><b>\n",
        "💗\n",
        "<font color=\"DarkBlue\">\n",
        "Hemos llegado al final de nuestra ejercitación en colab, a seguir ejercitando...\n",
        "</font>\n",
        "</p>\n"
      ],
      "metadata": {
        "id": "T7cpdclJUEHU"
      }
    }
  ]
}